{
 "cells": [
  {
   "cell_type": "markdown",
   "metadata": {},
   "source": [
    "# Solutions - Practical Lesson 2\n",
    "\n",
    "## Exercises"
   ]
  },
  {
   "cell_type": "markdown",
   "metadata": {},
   "source": [
    "### Exercise 1.1\n",
    "Write code:\n",
    "\n",
    "* print the day of the week of your birthday\n",
    "* print the weekday of your birthdays for the next 120 years\n",
    "\n",
    "#### Solution"
   ]
  },
  {
   "cell_type": "code",
   "execution_count": 47,
   "metadata": {},
   "outputs": [
    {
     "name": "stdout",
     "output_type": "stream",
     "text": [
      "6\n"
     ]
    }
   ],
   "source": [
    "import datetime\n",
    "\n",
    "birthday = datetime.date(1974, 10, 20)\n",
    "print (birthday.weekday()) # remeber it starts form 0"
   ]
  },
  {
   "cell_type": "code",
   "execution_count": 50,
   "metadata": {},
   "outputs": [
    {
     "name": "stdout",
     "output_type": "stream",
     "text": [
      "6\n",
      "0\n",
      "2\n",
      "3\n",
      "4\n",
      "5\n",
      "0\n",
      "1\n",
      "2\n",
      "3\n",
      "5\n",
      "6\n",
      "0\n",
      "1\n",
      "3\n",
      "4\n",
      "5\n",
      "6\n",
      "1\n",
      "2\n",
      "3\n",
      "4\n",
      "6\n",
      "0\n",
      "1\n",
      "2\n",
      "4\n",
      "5\n",
      "6\n",
      "0\n",
      "2\n",
      "3\n",
      "4\n",
      "5\n",
      "0\n",
      "1\n",
      "2\n",
      "3\n",
      "5\n",
      "6\n",
      "0\n",
      "1\n",
      "3\n",
      "4\n",
      "5\n",
      "6\n",
      "1\n",
      "2\n",
      "3\n",
      "4\n",
      "6\n",
      "0\n",
      "1\n",
      "2\n",
      "4\n",
      "5\n",
      "6\n",
      "0\n",
      "2\n",
      "3\n",
      "4\n",
      "5\n",
      "0\n",
      "1\n",
      "2\n",
      "3\n",
      "5\n",
      "6\n",
      "0\n",
      "1\n",
      "3\n",
      "4\n",
      "5\n",
      "6\n",
      "1\n",
      "2\n",
      "3\n",
      "4\n",
      "6\n",
      "0\n",
      "1\n",
      "2\n",
      "4\n",
      "5\n",
      "6\n",
      "0\n",
      "2\n",
      "3\n",
      "4\n",
      "5\n",
      "0\n",
      "1\n",
      "2\n",
      "3\n",
      "5\n",
      "6\n",
      "0\n",
      "1\n",
      "3\n",
      "4\n",
      "5\n",
      "6\n",
      "1\n",
      "2\n",
      "3\n",
      "4\n",
      "6\n",
      "0\n",
      "1\n",
      "2\n",
      "4\n",
      "5\n",
      "6\n",
      "0\n",
      "2\n",
      "3\n",
      "4\n",
      "5\n",
      "0\n",
      "1\n"
     ]
    }
   ],
   "source": [
    "from dateutil.relativedelta import relativedelta\n",
    "\n",
    "for i in range(120):\n",
    "    print ((birthday + relativedelta(years=i)).weekday())"
   ]
  },
  {
   "cell_type": "markdown",
   "metadata": {},
   "source": [
    "### Exercise 1.2\n",
    "Write code to determine whether a given year is a leap year and test it with 1800, 1987 and 2020.\n",
    "\n",
    "#### Solution"
   ]
  },
  {
   "cell_type": "code",
   "execution_count": 51,
   "metadata": {},
   "outputs": [
    {
     "name": "stdout",
     "output_type": "stream",
     "text": [
      "1800 is NOT a leap year \n",
      "1987 is NOT a leap year \n",
      "2020 is a leap year \n"
     ]
    }
   ],
   "source": [
    "\n",
    "years = [1800, 1987, 2020]\n",
    "\n",
    "for y in years:\n",
    "    if y % 400 == 0:\n",
    "        print (\"{} is a leap year \".format(y))\n",
    "    elif y % 100 == 0:\n",
    "        print (\"{} is NOT a leap year \".format(y))\n",
    "    elif y % 4 == 0:\n",
    "        print (\"{} is a leap year \".format(y))\n",
    "    else:\n",
    "        print (\"{} is NOT a leap year \".format(y))\n"
   ]
  },
  {
   "cell_type": "markdown",
   "metadata": {},
   "source": [
    "### Exercise 1.3\n",
    "Write code to print next 5 days starting from today.\n",
    "\n",
    "#### Solution"
   ]
  },
  {
   "cell_type": "code",
   "execution_count": 52,
   "metadata": {},
   "outputs": [
    {
     "name": "stdout",
     "output_type": "stream",
     "text": [
      "2020-08-04\n",
      "2020-08-05\n",
      "2020-08-06\n",
      "2020-08-07\n",
      "2020-08-08\n"
     ]
    }
   ],
   "source": [
    "d = datetime.date.today()\n",
    "for i in range(1, 6):\n",
    "    print (d + relativedelta(days=i))"
   ]
  },
  {
   "cell_type": "markdown",
   "metadata": {},
   "source": [
    "### Exercise 1.4\n",
    "Using `pandas` import data stored in `stock_market.xlsx` (you can find it in the same web page besides this notes).\n",
    "With the resulting dataframe determine:\n",
    "* remove duplicates and missing data (how many rows are left ?)\n",
    "* stocks with positive variation\n",
    "* the first five stocks with the lowest price\n",
    "\n",
    "#### Solution\n",
    "First load the excel file into a dataframe and look at data structure."
   ]
  },
  {
   "cell_type": "code",
   "execution_count": 18,
   "metadata": {},
   "outputs": [
    {
     "name": "stdout",
     "output_type": "stream",
     "text": [
      "51\n"
     ]
    },
    {
     "data": {
      "text/html": [
       "<div>\n",
       "<style scoped>\n",
       "    .dataframe tbody tr th:only-of-type {\n",
       "        vertical-align: middle;\n",
       "    }\n",
       "\n",
       "    .dataframe tbody tr th {\n",
       "        vertical-align: top;\n",
       "    }\n",
       "\n",
       "    .dataframe thead th {\n",
       "        text-align: right;\n",
       "    }\n",
       "</style>\n",
       "<table border=\"1\" class=\"dataframe\">\n",
       "  <thead>\n",
       "    <tr style=\"text-align: right;\">\n",
       "      <th></th>\n",
       "      <th>Symbol</th>\n",
       "      <th>Name</th>\n",
       "      <th>Price</th>\n",
       "      <th>Change</th>\n",
       "      <th>Change%</th>\n",
       "      <th>Volume (M)</th>\n",
       "      <th>Avg Volume (M)</th>\n",
       "      <th>Market Cap (B)</th>\n",
       "    </tr>\n",
       "  </thead>\n",
       "  <tbody>\n",
       "    <tr>\n",
       "      <th>0</th>\n",
       "      <td>GE</td>\n",
       "      <td>General Electric Company</td>\n",
       "      <td>6.07</td>\n",
       "      <td>-0.19</td>\n",
       "      <td>-0.0304</td>\n",
       "      <td>142.732</td>\n",
       "      <td>102.268</td>\n",
       "      <td>53.132</td>\n",
       "    </tr>\n",
       "    <tr>\n",
       "      <th>1</th>\n",
       "      <td>NOK</td>\n",
       "      <td>Nokia Corporation</td>\n",
       "      <td>4.78</td>\n",
       "      <td>0.33</td>\n",
       "      <td>0.0742</td>\n",
       "      <td>117.960</td>\n",
       "      <td>31.296</td>\n",
       "      <td>27.083</td>\n",
       "    </tr>\n",
       "    <tr>\n",
       "      <th>2</th>\n",
       "      <td>F</td>\n",
       "      <td>Ford Motor Company</td>\n",
       "      <td>6.61</td>\n",
       "      <td>-0.13</td>\n",
       "      <td>-0.0193</td>\n",
       "      <td>115.394</td>\n",
       "      <td>87.719</td>\n",
       "      <td>26.288</td>\n",
       "    </tr>\n",
       "    <tr>\n",
       "      <th>3</th>\n",
       "      <td>PINS</td>\n",
       "      <td>Pinterest, Inc.</td>\n",
       "      <td>34.29</td>\n",
       "      <td>9.10</td>\n",
       "      <td>0.3613</td>\n",
       "      <td>111.864</td>\n",
       "      <td>15.550</td>\n",
       "      <td>20.110</td>\n",
       "    </tr>\n",
       "    <tr>\n",
       "      <th>4</th>\n",
       "      <td>AAPL</td>\n",
       "      <td>Apple Inc.</td>\n",
       "      <td>425.04</td>\n",
       "      <td>40.28</td>\n",
       "      <td>0.1047</td>\n",
       "      <td>93.574</td>\n",
       "      <td>35.035</td>\n",
       "      <td>1821.000</td>\n",
       "    </tr>\n",
       "  </tbody>\n",
       "</table>\n",
       "</div>"
      ],
      "text/plain": [
       "  Symbol                      Name   Price  Change  Change%  Volume (M)  \\\n",
       "0     GE  General Electric Company    6.07   -0.19  -0.0304     142.732   \n",
       "1    NOK         Nokia Corporation    4.78    0.33   0.0742     117.960   \n",
       "2      F        Ford Motor Company    6.61   -0.13  -0.0193     115.394   \n",
       "3   PINS           Pinterest, Inc.   34.29    9.10   0.3613     111.864   \n",
       "4   AAPL                Apple Inc.  425.04   40.28   0.1047      93.574   \n",
       "\n",
       "   Avg Volume (M)  Market Cap (B)  \n",
       "0         102.268          53.132  \n",
       "1          31.296          27.083  \n",
       "2          87.719          26.288  \n",
       "3          15.550          20.110  \n",
       "4          35.035        1821.000  "
      ]
     },
     "execution_count": 18,
     "metadata": {},
     "output_type": "execute_result"
    }
   ],
   "source": [
    "import pandas as pd\n",
    "\n",
    "df = pd.read_excel(\"stock_market.xlsx\")\n",
    "\n",
    "print (len(df))\n",
    "df.head()"
   ]
  },
  {
   "cell_type": "markdown",
   "metadata": {},
   "source": [
    "As usual if we are not sure that our data is *clean* we should check for duplicates and NaN and take care of them.\n",
    "the `duplicated` method returns the status of each row (duplicate or not, True or False). If we would like just to see the duplicated entries we could combine the `duplicated` method with the selection syntax like this:"
   ]
  },
  {
   "cell_type": "code",
   "execution_count": 13,
   "metadata": {},
   "outputs": [
    {
     "data": {
      "text/html": [
       "<div>\n",
       "<style scoped>\n",
       "    .dataframe tbody tr th:only-of-type {\n",
       "        vertical-align: middle;\n",
       "    }\n",
       "\n",
       "    .dataframe tbody tr th {\n",
       "        vertical-align: top;\n",
       "    }\n",
       "\n",
       "    .dataframe thead th {\n",
       "        text-align: right;\n",
       "    }\n",
       "</style>\n",
       "<table border=\"1\" class=\"dataframe\">\n",
       "  <thead>\n",
       "    <tr style=\"text-align: right;\">\n",
       "      <th></th>\n",
       "      <th>Symbol</th>\n",
       "      <th>Name</th>\n",
       "      <th>Price</th>\n",
       "      <th>Change</th>\n",
       "      <th>Change%</th>\n",
       "      <th>Volume (M)</th>\n",
       "      <th>Avg Volume (M)</th>\n",
       "      <th>Market Cap (B)</th>\n",
       "    </tr>\n",
       "  </thead>\n",
       "  <tbody>\n",
       "    <tr>\n",
       "      <th>40</th>\n",
       "      <td>RUN</td>\n",
       "      <td>Sunrun Inc.</td>\n",
       "      <td>36.69</td>\n",
       "      <td>0.02</td>\n",
       "      <td>0.0005</td>\n",
       "      <td>20.113</td>\n",
       "      <td>3.604</td>\n",
       "      <td>4.489</td>\n",
       "    </tr>\n",
       "  </tbody>\n",
       "</table>\n",
       "</div>"
      ],
      "text/plain": [
       "   Symbol         Name  Price  Change  Change%  Volume (M)  Avg Volume (M)  \\\n",
       "40    RUN  Sunrun Inc.  36.69    0.02   0.0005      20.113           3.604   \n",
       "\n",
       "    Market Cap (B)  \n",
       "40           4.489  "
      ]
     },
     "execution_count": 13,
     "metadata": {},
     "output_type": "execute_result"
    }
   ],
   "source": [
    "df[df.duplicated() == True]"
   ]
  },
  {
   "cell_type": "markdown",
   "metadata": {},
   "source": [
    "So it looks like we have just one duplicate and we can remove it:"
   ]
  },
  {
   "cell_type": "code",
   "execution_count": 15,
   "metadata": {},
   "outputs": [
    {
     "name": "stdout",
     "output_type": "stream",
     "text": [
      "Before duplicates removal: 50\n",
      "After duplicates removal: 50\n"
     ]
    }
   ],
   "source": [
    "print (\"Before duplicates removal: {}\".format(len(df)))\n",
    "df = df.drop_duplicates()\n",
    "print (\"After duplicates removal: {}\".format(len(df)))"
   ]
  },
  {
   "cell_type": "markdown",
   "metadata": {},
   "source": [
    "Then we need to take care of the NaN, again if we want to check the rows with NaN we can select (here the syntax is a little bit more complicated since we need to use `any` to look for Nan in every column):"
   ]
  },
  {
   "cell_type": "code",
   "execution_count": 22,
   "metadata": {},
   "outputs": [
    {
     "data": {
      "text/html": [
       "<div>\n",
       "<style scoped>\n",
       "    .dataframe tbody tr th:only-of-type {\n",
       "        vertical-align: middle;\n",
       "    }\n",
       "\n",
       "    .dataframe tbody tr th {\n",
       "        vertical-align: top;\n",
       "    }\n",
       "\n",
       "    .dataframe thead th {\n",
       "        text-align: right;\n",
       "    }\n",
       "</style>\n",
       "<table border=\"1\" class=\"dataframe\">\n",
       "  <thead>\n",
       "    <tr style=\"text-align: right;\">\n",
       "      <th></th>\n",
       "      <th>Symbol</th>\n",
       "      <th>Name</th>\n",
       "      <th>Price</th>\n",
       "      <th>Change</th>\n",
       "      <th>Change%</th>\n",
       "      <th>Volume (M)</th>\n",
       "      <th>Avg Volume (M)</th>\n",
       "      <th>Market Cap (B)</th>\n",
       "    </tr>\n",
       "  </thead>\n",
       "  <tbody>\n",
       "    <tr>\n",
       "      <th>23</th>\n",
       "      <td>NCLH</td>\n",
       "      <td>Norwegian Cruise Line Holdings Ltd.</td>\n",
       "      <td>13.64</td>\n",
       "      <td>-0.53</td>\n",
       "      <td>-0.0374</td>\n",
       "      <td>28.402</td>\n",
       "      <td>64.895</td>\n",
       "      <td>NaN</td>\n",
       "    </tr>\n",
       "    <tr>\n",
       "      <th>47</th>\n",
       "      <td>NBL</td>\n",
       "      <td>Noble Energy, Inc.</td>\n",
       "      <td>NaN</td>\n",
       "      <td>-0.23</td>\n",
       "      <td>-0.0225</td>\n",
       "      <td>18.462</td>\n",
       "      <td>13.535</td>\n",
       "      <td>4.795</td>\n",
       "    </tr>\n",
       "  </tbody>\n",
       "</table>\n",
       "</div>"
      ],
      "text/plain": [
       "   Symbol                                 Name  Price  Change  Change%  \\\n",
       "23   NCLH  Norwegian Cruise Line Holdings Ltd.  13.64   -0.53  -0.0374   \n",
       "47    NBL                   Noble Energy, Inc.    NaN   -0.23  -0.0225   \n",
       "\n",
       "    Volume (M)  Avg Volume (M)  Market Cap (B)  \n",
       "23      28.402          64.895             NaN  \n",
       "47      18.462          13.535           4.795  "
      ]
     },
     "execution_count": 22,
     "metadata": {},
     "output_type": "execute_result"
    }
   ],
   "source": [
    "df[df.isna().any(axis=1)]"
   ]
  },
  {
   "cell_type": "markdown",
   "metadata": {},
   "source": [
    "Since we don't want to artificially modify our sample we just drop rows with NaN:"
   ]
  },
  {
   "cell_type": "code",
   "execution_count": 23,
   "metadata": {},
   "outputs": [
    {
     "name": "stdout",
     "output_type": "stream",
     "text": [
      "Before NaN removal: 51\n",
      "After NaN removal: 49\n"
     ]
    }
   ],
   "source": [
    "print (\"Before NaN removal: {}\".format(len(df)))\n",
    "df = df.dropna()\n",
    "print (\"After NaN removal: {}\".format(len(df)))"
   ]
  },
  {
   "cell_type": "markdown",
   "metadata": {},
   "source": [
    "The second point asks to determine the companies with a daily positive variation. Clearly we have to apply to the dataframe a selection on the \"Change\" (or \"Change%\") column requiring positive values."
   ]
  },
  {
   "cell_type": "code",
   "execution_count": 24,
   "metadata": {},
   "outputs": [
    {
     "name": "stdout",
     "output_type": "stream",
     "text": [
      "16\n"
     ]
    },
    {
     "data": {
      "text/html": [
       "<div>\n",
       "<style scoped>\n",
       "    .dataframe tbody tr th:only-of-type {\n",
       "        vertical-align: middle;\n",
       "    }\n",
       "\n",
       "    .dataframe tbody tr th {\n",
       "        vertical-align: top;\n",
       "    }\n",
       "\n",
       "    .dataframe thead th {\n",
       "        text-align: right;\n",
       "    }\n",
       "</style>\n",
       "<table border=\"1\" class=\"dataframe\">\n",
       "  <thead>\n",
       "    <tr style=\"text-align: right;\">\n",
       "      <th></th>\n",
       "      <th>Symbol</th>\n",
       "      <th>Name</th>\n",
       "      <th>Price</th>\n",
       "      <th>Change</th>\n",
       "      <th>Change%</th>\n",
       "      <th>Volume (M)</th>\n",
       "      <th>Avg Volume (M)</th>\n",
       "      <th>Market Cap (B)</th>\n",
       "    </tr>\n",
       "  </thead>\n",
       "  <tbody>\n",
       "    <tr>\n",
       "      <th>1</th>\n",
       "      <td>NOK</td>\n",
       "      <td>Nokia Corporation</td>\n",
       "      <td>4.78</td>\n",
       "      <td>0.33</td>\n",
       "      <td>0.0742</td>\n",
       "      <td>117.960</td>\n",
       "      <td>31.296</td>\n",
       "      <td>27.083</td>\n",
       "    </tr>\n",
       "    <tr>\n",
       "      <th>3</th>\n",
       "      <td>PINS</td>\n",
       "      <td>Pinterest, Inc.</td>\n",
       "      <td>34.29</td>\n",
       "      <td>9.10</td>\n",
       "      <td>0.3613</td>\n",
       "      <td>111.864</td>\n",
       "      <td>15.550</td>\n",
       "      <td>20.110</td>\n",
       "    </tr>\n",
       "    <tr>\n",
       "      <th>4</th>\n",
       "      <td>AAPL</td>\n",
       "      <td>Apple Inc.</td>\n",
       "      <td>425.04</td>\n",
       "      <td>40.28</td>\n",
       "      <td>0.1047</td>\n",
       "      <td>93.574</td>\n",
       "      <td>35.035</td>\n",
       "      <td>1821.000</td>\n",
       "    </tr>\n",
       "    <tr>\n",
       "      <th>6</th>\n",
       "      <td>BAC</td>\n",
       "      <td>Bank of America Corporation</td>\n",
       "      <td>24.88</td>\n",
       "      <td>0.04</td>\n",
       "      <td>0.0016</td>\n",
       "      <td>62.039</td>\n",
       "      <td>72.793</td>\n",
       "      <td>215.562</td>\n",
       "    </tr>\n",
       "    <tr>\n",
       "      <th>8</th>\n",
       "      <td>FB</td>\n",
       "      <td>Facebook, Inc.</td>\n",
       "      <td>253.67</td>\n",
       "      <td>19.17</td>\n",
       "      <td>0.0817</td>\n",
       "      <td>53.030</td>\n",
       "      <td>24.521</td>\n",
       "      <td>723.726</td>\n",
       "    </tr>\n",
       "  </tbody>\n",
       "</table>\n",
       "</div>"
      ],
      "text/plain": [
       "  Symbol                         Name   Price  Change  Change%  Volume (M)  \\\n",
       "1    NOK            Nokia Corporation    4.78    0.33   0.0742     117.960   \n",
       "3   PINS              Pinterest, Inc.   34.29    9.10   0.3613     111.864   \n",
       "4   AAPL                   Apple Inc.  425.04   40.28   0.1047      93.574   \n",
       "6    BAC  Bank of America Corporation   24.88    0.04   0.0016      62.039   \n",
       "8     FB               Facebook, Inc.  253.67   19.17   0.0817      53.030   \n",
       "\n",
       "   Avg Volume (M)  Market Cap (B)  \n",
       "1          31.296          27.083  \n",
       "3          15.550          20.110  \n",
       "4          35.035        1821.000  \n",
       "6          72.793         215.562  \n",
       "8          24.521         723.726  "
      ]
     },
     "execution_count": 24,
     "metadata": {},
     "output_type": "execute_result"
    }
   ],
   "source": [
    "pos_var = df[df.loc[:, \"Change\"] > 0]\n",
    "\n",
    "print (len(pos_var))\n",
    "pos_var.head() # just printing the first 5 rows"
   ]
  },
  {
   "cell_type": "markdown",
   "metadata": {},
   "source": [
    "So in origin we had 48 stocks and just 16 have a positive variation of its price.\n",
    "\n",
    "The last question requires to print the first 5 stocks with the lowest prices. In this case it is enough to sort by price the dataframe (ascending) and then just select the first 5 entries."
   ]
  },
  {
   "cell_type": "code",
   "execution_count": 25,
   "metadata": {},
   "outputs": [
    {
     "data": {
      "text/html": [
       "<div>\n",
       "<style scoped>\n",
       "    .dataframe tbody tr th:only-of-type {\n",
       "        vertical-align: middle;\n",
       "    }\n",
       "\n",
       "    .dataframe tbody tr th {\n",
       "        vertical-align: top;\n",
       "    }\n",
       "\n",
       "    .dataframe thead th {\n",
       "        text-align: right;\n",
       "    }\n",
       "</style>\n",
       "<table border=\"1\" class=\"dataframe\">\n",
       "  <thead>\n",
       "    <tr style=\"text-align: right;\">\n",
       "      <th></th>\n",
       "      <th>Symbol</th>\n",
       "      <th>Name</th>\n",
       "      <th>Price</th>\n",
       "      <th>Change</th>\n",
       "      <th>Change%</th>\n",
       "      <th>Volume (M)</th>\n",
       "      <th>Avg Volume (M)</th>\n",
       "      <th>Market Cap (B)</th>\n",
       "    </tr>\n",
       "  </thead>\n",
       "  <tbody>\n",
       "    <tr>\n",
       "      <th>25</th>\n",
       "      <td>ABEV</td>\n",
       "      <td>Ambev S. A.</td>\n",
       "      <td>2.68</td>\n",
       "      <td>-0.16</td>\n",
       "      <td>-0.0563</td>\n",
       "      <td>26.136</td>\n",
       "      <td>36.654</td>\n",
       "      <td>41.999</td>\n",
       "    </tr>\n",
       "    <tr>\n",
       "      <th>32</th>\n",
       "      <td>BBD</td>\n",
       "      <td>Banco Bradesco S. A.</td>\n",
       "      <td>4.22</td>\n",
       "      <td>-0.32</td>\n",
       "      <td>-0.0705</td>\n",
       "      <td>22.129</td>\n",
       "      <td>22.046</td>\n",
       "      <td>36.739</td>\n",
       "    </tr>\n",
       "    <tr>\n",
       "      <th>1</th>\n",
       "      <td>NOK</td>\n",
       "      <td>Nokia Corporation</td>\n",
       "      <td>4.78</td>\n",
       "      <td>0.33</td>\n",
       "      <td>0.0742</td>\n",
       "      <td>117.960</td>\n",
       "      <td>31.296</td>\n",
       "      <td>27.083</td>\n",
       "    </tr>\n",
       "    <tr>\n",
       "      <th>15</th>\n",
       "      <td>OPK</td>\n",
       "      <td>OPKO Health, Inc.</td>\n",
       "      <td>5.15</td>\n",
       "      <td>-0.76</td>\n",
       "      <td>-0.1286</td>\n",
       "      <td>35.762</td>\n",
       "      <td>17.792</td>\n",
       "      <td>3.450</td>\n",
       "    </tr>\n",
       "    <tr>\n",
       "      <th>33</th>\n",
       "      <td>MRO</td>\n",
       "      <td>Marathon Oil Corporation</td>\n",
       "      <td>5.49</td>\n",
       "      <td>-0.02</td>\n",
       "      <td>-0.0036</td>\n",
       "      <td>21.249</td>\n",
       "      <td>34.098</td>\n",
       "      <td>4.339</td>\n",
       "    </tr>\n",
       "  </tbody>\n",
       "</table>\n",
       "</div>"
      ],
      "text/plain": [
       "   Symbol                      Name  Price  Change  Change%  Volume (M)  \\\n",
       "25   ABEV               Ambev S. A.   2.68   -0.16  -0.0563      26.136   \n",
       "32    BBD      Banco Bradesco S. A.   4.22   -0.32  -0.0705      22.129   \n",
       "1     NOK         Nokia Corporation   4.78    0.33   0.0742     117.960   \n",
       "15    OPK         OPKO Health, Inc.   5.15   -0.76  -0.1286      35.762   \n",
       "33    MRO  Marathon Oil Corporation   5.49   -0.02  -0.0036      21.249   \n",
       "\n",
       "    Avg Volume (M)  Market Cap (B)  \n",
       "25          36.654          41.999  \n",
       "32          22.046          36.739  \n",
       "1           31.296          27.083  \n",
       "15          17.792           3.450  \n",
       "33          34.098           4.339  "
      ]
     },
     "execution_count": 25,
     "metadata": {},
     "output_type": "execute_result"
    }
   ],
   "source": [
    "highest_price = df.sort_values(by=['Price'], ascending=True)[:5]\n",
    "\n",
    "highest_price"
   ]
  },
  {
   "cell_type": "markdown",
   "metadata": {},
   "source": [
    "### Exercise 1.5\n",
    "Given the following discount factors and pillars plot the corresponding discount curve.\n",
    "\n",
    "#### Solution"
   ]
  },
  {
   "cell_type": "code",
   "execution_count": 35,
   "metadata": {},
   "outputs": [],
   "source": [
    "import datetime\n",
    "\n",
    "dfs = [1.0, 1.0014907894567657, 1.0031038833235129, 1.0047764800189012,\n",
    "       1.0065986105304596, 1.014496095021891, 1.022687560553011,\n",
    "       1.0303585751965112, 1.0369440287181253, 1.0422287558021188,\n",
    "       1.0461834022163963, 1.0489228953047331, 1.0505725627906783,\n",
    "       1.0513323539753632, 1.0513777790851995, 1.0508768750534248,\n",
    "       1.049935905228433, 1.0486741093761602, 1.047175413484517,\n",
    "       1.0455115431993336, 1.0437147446170034, 1.0418294960952215,\n",
    "       1.0398823957504923, 1.0378979499878478, 1.0358789099539805,\n",
    "       1.0338409767365169, 1.031791178324756, 1.0297378455884902,\n",
    "       1.0276772747965244, 1.0256154380560942, 1.0235543974485939,\n",
    "       1.0214974135391857, 1.0194401540150835, 1.0173862951028778]\n",
    "       \n",
    "pillars = [datetime.date(2020, 8, 3), datetime.date(2020, 11, 3), datetime.date(2021, 2, 3),\n",
    "           datetime.date(2021, 5, 3), datetime.date(2021, 8, 3), datetime.date(2022, 8, 3),\n",
    "           datetime.date(2023, 8, 3), datetime.date(2024, 8, 3), datetime.date(2025, 8, 3),\n",
    "           datetime.date(2026, 8, 3), datetime.date(2027, 8, 3), datetime.date(2028, 8, 3),\n",
    "           datetime.date(2029, 8, 3), datetime.date(2030, 8, 3), datetime.date(2031, 8, 3),\n",
    "           datetime.date(2032, 8, 3), datetime.date(2033, 8, 3), datetime.date(2034, 8, 3),\n",
    "           datetime.date(2035, 8, 3), datetime.date(2036, 8, 3), datetime.date(2037, 8, 3),\n",
    "           datetime.date(2038, 8, 3), datetime.date(2039, 8, 3), datetime.date(2040, 8, 3),\n",
    "           datetime.date(2041, 8, 3), datetime.date(2042, 8, 3), datetime.date(2043, 8, 3),\n",
    "           datetime.date(2044, 8, 3), datetime.date(2045, 8, 3), datetime.date(2046, 8, 3),\n",
    "           datetime.date(2047, 8, 3), datetime.date(2048, 8, 3), datetime.date(2049, 8, 3),\n",
    "           datetime.date(2050, 8, 3)]"
   ]
  },
  {
   "cell_type": "code",
   "execution_count": 42,
   "metadata": {},
   "outputs": [
    {
     "data": {
      "image/png": "[encoded data removed]",
      "text/plain": [
       "<Figure size 432x288 with 1 Axes>"
      ]
     },
     "metadata": {
      "needs_background": "light"
     },
     "output_type": "display_data"
    }
   ],
   "source": [
    "from matplotlib import pyplot as plt\n",
    "import matplotlib.dates as mdates\n",
    "\n",
    "plt.plot(pillars, dfs, marker=\"o\", label=\"EUR6M d.f.\")\n",
    "\n",
    "plt.gca().xaxis.set_major_formatter(mdates.DateFormatter('%Y-%m-%d'))\n",
    "# this one instead rotate labels to avoid superimposition\n",
    "plt.xticks(rotation=45)\n",
    "plt.xlabel(\"Pillar dates\")\n",
    "plt.ylabel(\"Discount Factors\")\n",
    "plt.grid(True)\n",
    "plt.legend()\n",
    "plt.show()"
   ]
  }
 ],
 "metadata": {
  "kernelspec": {
   "display_name": "Python 3",
   "language": "python",
   "name": "python3"
  },
  "language_info": {
   "codemirror_mode": {
    "name": "ipython",
    "version": 3
   },
   "file_extension": ".py",
   "mimetype": "text/x-python",
   "name": "python",
   "nbconvert_exporter": "python",
   "pygments_lexer": "ipython3",
   "version": "3.6.3"
  }
 },
 "nbformat": 4,
 "nbformat_minor": 4
}
