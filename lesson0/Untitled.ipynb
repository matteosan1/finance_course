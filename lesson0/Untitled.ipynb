{
 "cells": [
  {
   "cell_type": "markdown",
   "metadata": {},
   "source": [
    "# `Python` - Lesson 1\n",
    "\n",
    "I assume that you are familiar enough with `python` so that  we will start this first lesson focusing on few features of the language that will be useful for the rest of the course.\n",
    "\n",
    "\n",
    "## Few notes on `python` anyway\n",
    "\n",
    "`Python`, as basically all programs, comes in different version and flavours, the latest  is `3.8` (and it is continously evolving). \n",
    "**We will go for `python 3.7` !** because there are no critical difference with respect to the latest and because it is what you have installed in you computers...\n",
    "\n",
    "Any Python interpreter, available at http://www.python.org, comes with a standard set of *packages* (**modules** in `python` slang), but if you want more functionality, you can download more of them (there are zillions of packages out there). \n",
    "\n",
    "Some examples are:\n",
    "\n",
    "* `numpy` - which provides matrix algebra functionality;\n",
    "* `scipy` - which provides a whole series of scientific computing functions;\n",
    "* `pandas` - which provides tools for manipulating time series or dataset in general;\n",
    "* `matplotlib` - for plotting graphs;\n",
    "* `jupyter` - for notebooks like this one;\n",
    "* ...and many more.\n",
    "\n",
    "In this lesson we will look at few particular modules which will be particularly useful for the rest of the course.\n",
    "\n",
    "### How we will use it\n",
    "\n",
    "In the rest of the course you will be asked to use `Anaconda python` (https://www.anaconda.com).\n",
    "\n",
    "`Anaconda` is a free and open-source distribution of the `python`programming languages for scientific computing, that aims to simplify package management. The distribution includes data-science packages suitable for any platform. Its graphical interface allows to easily install new modules and can include an IDE (Integrated Development Environment) called `PyCharm` which allows a more advanced and complete way of developing software, an interactive shell to run quickly few lines of code and the `jupyter` application to write code and documents like this one you looking at.\n",
    "\n",
    "### If you need a recap\n",
    "\n",
    "Python popularity is growing every day so it is very easy to find good (and free) online courses looking in Google. If you want to go deeper into the potentiality of this language I strongly suggest you to spend some time in watching one of them. The following one is quite basic but there are many others even on specific subjects you may like to focus on:\n",
    "\n",
    "**MITx: 6.00.1x Introduction to Computer Science and Programming Using Python** \n",
    "https://courses.edx.org/courses/course-v1:MITx+6.00.1x+2T2017_2/course/ \n",
    "\n",
    "Otherwise there are the lessons of this course from the previous years...\n",
    "\n",
    "METTERE LINK\n",
    "\n",
    "### Let's spend few minutes all together to setup `Anaconda`\n"
   ]
  },
  {
   "cell_type": "markdown",
   "metadata": {},
   "source": [
    "## Dates\n",
    "\n",
    "Dates are not usually included in a standard `python` tutorial, however since they are pretty essential for finance we are going to cover this topic.\n",
    "In `python` the standard date class lives in the `datetime` module. We are also going to import `relativedelta` from the `dateutil` module, which allows us to add/subtract days/months/years to dates."
   ]
  },
  {
   "cell_type": "code",
   "execution_count": 1,
   "metadata": {},
   "outputs": [
    {
     "name": "stdout",
     "output_type": "stream",
     "text": [
      "2020-08-03\n",
      "2020-10-03\n",
      "2020-07-31\n"
     ]
    }
   ],
   "source": [
    "from datetime import date, datetime\n",
    "from dateutil.relativedelta import relativedelta\n",
    "\n",
    "date1 = date.today()\n",
    "print (date1)\n",
    "date2 = date.today() + relativedelta(months=2)\n",
    "print (date2)\n",
    "date3 = date.today() - relativedelta(days=3)\n",
    "print (date3)"
   ]
  },
  {
   "cell_type": "code",
   "execution_count": 2,
   "metadata": {},
   "outputs": [
    {
     "data": {
      "text/plain": [
       "datetime.date(2020, 7, 31)"
      ]
     },
     "execution_count": 2,
     "metadata": {},
     "output_type": "execute_result"
    }
   ],
   "source": [
    "one_day = relativedelta(days=1)\n",
    "date.today() - 3 * one_day"
   ]
  },
  {
   "cell_type": "code",
   "execution_count": 3,
   "metadata": {},
   "outputs": [
    {
     "data": {
      "text/plain": [
       "45"
      ]
     },
     "execution_count": 3,
     "metadata": {},
     "output_type": "execute_result"
    }
   ],
   "source": [
    "date1 = date(2019, 7, 2)\n",
    "date2 = date(2019, 8, 16)\n",
    "(date2 - date1).days"
   ]
  },
  {
   "cell_type": "code",
   "execution_count": 4,
   "metadata": {},
   "outputs": [
    {
     "data": {
      "text/plain": [
       "'2019-Jul-02 (Tue)'"
      ]
     },
     "execution_count": 4,
     "metadata": {},
     "output_type": "execute_result"
    }
   ],
   "source": [
    "date1 = date(2019, 7, 2)\n",
    "date1.strftime(\"%Y-%b-%d (%a)\") # dates can formatted in many ways\n",
    "                                # check the docs for more details"
   ]
  },
  {
   "cell_type": "code",
   "execution_count": 5,
   "metadata": {},
   "outputs": [
    {
     "data": {
      "text/plain": [
       "datetime.date(2019, 8, 25)"
      ]
     },
     "execution_count": 5,
     "metadata": {},
     "output_type": "execute_result"
    }
   ],
   "source": [
    "# a string can be convered to dates too\n",
    "datetime.strptime('25 Aug 2019', \"%d %b %Y\").date()"
   ]
  },
  {
   "cell_type": "code",
   "execution_count": 6,
   "metadata": {},
   "outputs": [
    {
     "data": {
      "text/plain": [
       "1"
      ]
     },
     "execution_count": 6,
     "metadata": {},
     "output_type": "execute_result"
    }
   ],
   "source": [
    "date1.weekday() # 0 = monday, ..., 6 = sunday"
   ]
  },
  {
   "cell_type": "markdown",
   "metadata": {},
   "source": [
    "# Data Manipulation and Its Representation\n",
    "\n",
    "## Getting Data\n",
    "The first step of any analysis is usually the one that involves selection and manipulation of data we want to process. Data sources can be various (eg. website, figures, twitter messages, CSV or Excel files...) and partially reflect its nature which can range from *unstructured* data (whitout any inherent structure, e.g. social media data) to completely *structured* data (where the data model is defined and usually there is no error associated, e.g. stock trading data).\n",
    "\n",
    "So our primary goal, before start processing data, is to collect and store the information in a suitable data structure. `Python` provides a very useful module, called `pandas`, which allows to collect and save data in *dataframe* objects that can be later on manipulated for analysis purposes.\n",
    "\n",
    "In a more technical way a dataframe is a multi-dimensional, size-mutable, potentially heterogenous, tabular data structure with labeled axes (rows and columns), or in other words it is a table whose structure can be modified. It presents data in a way that is suitable for data analysis, contains multiple methods for convenient data filtering and in addition has a lot of utilities to load and save data pretty easly.\n",
    "\n",
    "Dataframes can be created by:\n",
    "* importing data from file\n",
    "* creating by hand data and then filling the dataframe"
   ]
  },
  {
   "cell_type": "code",
   "execution_count": 7,
   "metadata": {
    "scrolled": true
   },
   "outputs": [
    {
     "data": {
      "text/html": [
       "<div>\n",
       "<style scoped>\n",
       "    .dataframe tbody tr th:only-of-type {\n",
       "        vertical-align: middle;\n",
       "    }\n",
       "\n",
       "    .dataframe tbody tr th {\n",
       "        vertical-align: top;\n",
       "    }\n",
       "\n",
       "    .dataframe thead th {\n",
       "        text-align: right;\n",
       "    }\n",
       "</style>\n",
       "<table border=\"1\" class=\"dataframe\">\n",
       "  <thead>\n",
       "    <tr style=\"text-align: right;\">\n",
       "      <th></th>\n",
       "      <th>Date</th>\n",
       "      <th>Price</th>\n",
       "      <th>Volume</th>\n",
       "    </tr>\n",
       "  </thead>\n",
       "  <tbody>\n",
       "    <tr>\n",
       "      <th>0</th>\n",
       "      <td>2000-07-30</td>\n",
       "      <td>100.000000</td>\n",
       "      <td>191.811275</td>\n",
       "    </tr>\n",
       "    <tr>\n",
       "      <th>1</th>\n",
       "      <td>2000-07-31</td>\n",
       "      <td>129.216267</td>\n",
       "      <td>190.897541</td>\n",
       "    </tr>\n",
       "    <tr>\n",
       "      <th>2</th>\n",
       "      <td>2000-08-01</td>\n",
       "      <td>147.605516</td>\n",
       "      <td>197.476379</td>\n",
       "    </tr>\n",
       "    <tr>\n",
       "      <th>3</th>\n",
       "      <td>2000-08-02</td>\n",
       "      <td>107.282251</td>\n",
       "      <td>199.660061</td>\n",
       "    </tr>\n",
       "    <tr>\n",
       "      <th>4</th>\n",
       "      <td>2000-08-03</td>\n",
       "      <td>106.036826</td>\n",
       "      <td>200.840459</td>\n",
       "    </tr>\n",
       "    <tr>\n",
       "      <th>5</th>\n",
       "      <td>2000-08-04</td>\n",
       "      <td>118.872757</td>\n",
       "      <td>197.130212</td>\n",
       "    </tr>\n",
       "    <tr>\n",
       "      <th>6</th>\n",
       "      <td>2000-08-05</td>\n",
       "      <td>101.904544</td>\n",
       "      <td>204.552521</td>\n",
       "    </tr>\n",
       "    <tr>\n",
       "      <th>7</th>\n",
       "      <td>2000-08-06</td>\n",
       "      <td>106.392901</td>\n",
       "      <td>198.160030</td>\n",
       "    </tr>\n",
       "    <tr>\n",
       "      <th>8</th>\n",
       "      <td>2000-08-06</td>\n",
       "      <td>106.392901</td>\n",
       "      <td>191.125969</td>\n",
       "    </tr>\n",
       "    <tr>\n",
       "      <th>9</th>\n",
       "      <td>2000-08-06</td>\n",
       "      <td>106.392901</td>\n",
       "      <td>196.719061</td>\n",
       "    </tr>\n",
       "    <tr>\n",
       "      <th>10</th>\n",
       "      <td>2000-08-06</td>\n",
       "      <td>106.392901</td>\n",
       "      <td>196.759837</td>\n",
       "    </tr>\n",
       "  </tbody>\n",
       "</table>\n",
       "</div>"
      ],
      "text/plain": [
       "         Date       Price      Volume\n",
       "0  2000-07-30  100.000000  191.811275\n",
       "1  2000-07-31  129.216267  190.897541\n",
       "2  2000-08-01  147.605516  197.476379\n",
       "3  2000-08-02  107.282251  199.660061\n",
       "4  2000-08-03  106.036826  200.840459\n",
       "5  2000-08-04  118.872757  197.130212\n",
       "6  2000-08-05  101.904544  204.552521\n",
       "7  2000-08-06  106.392901  198.160030\n",
       "8  2000-08-06  106.392901  191.125969\n",
       "9  2000-08-06  106.392901  196.719061\n",
       "10 2000-08-06  106.392901  196.759837"
      ]
     },
     "execution_count": 7,
     "metadata": {},
     "output_type": "execute_result"
    }
   ],
   "source": [
    "import pandas as pd\n",
    "\n",
    "# reaing from file\n",
    "df1 = pd.read_excel('sample.xlsx') # Excel file\n",
    "df2 = pd.read_csv('sample.csv') # Comma Separeted file\n",
    "\n",
    "df1.head(11) # show just few rows at the beginning"
   ]
  },
  {
   "cell_type": "code",
   "execution_count": 8,
   "metadata": {},
   "outputs": [
    {
     "data": {
      "text/html": [
       "<div>\n",
       "<style scoped>\n",
       "    .dataframe tbody tr th:only-of-type {\n",
       "        vertical-align: middle;\n",
       "    }\n",
       "\n",
       "    .dataframe tbody tr th {\n",
       "        vertical-align: top;\n",
       "    }\n",
       "\n",
       "    .dataframe thead th {\n",
       "        text-align: right;\n",
       "    }\n",
       "</style>\n",
       "<table border=\"1\" class=\"dataframe\">\n",
       "  <thead>\n",
       "    <tr style=\"text-align: right;\">\n",
       "      <th></th>\n",
       "      <th>Nome</th>\n",
       "      <th>Età</th>\n",
       "      <th>Punteggio</th>\n",
       "    </tr>\n",
       "  </thead>\n",
       "  <tbody>\n",
       "    <tr>\n",
       "      <th>0</th>\n",
       "      <td>Elisa</td>\n",
       "      <td>1</td>\n",
       "      <td>100</td>\n",
       "    </tr>\n",
       "    <tr>\n",
       "      <th>1</th>\n",
       "      <td>Roberto</td>\n",
       "      <td>27</td>\n",
       "      <td>120</td>\n",
       "    </tr>\n",
       "    <tr>\n",
       "      <th>2</th>\n",
       "      <td>Ciccio</td>\n",
       "      <td>25</td>\n",
       "      <td>95</td>\n",
       "    </tr>\n",
       "    <tr>\n",
       "      <th>3</th>\n",
       "      <td>Topolino</td>\n",
       "      <td>24</td>\n",
       "      <td>1300</td>\n",
       "    </tr>\n",
       "    <tr>\n",
       "      <th>4</th>\n",
       "      <td>Gigi</td>\n",
       "      <td>31</td>\n",
       "      <td>101</td>\n",
       "    </tr>\n",
       "  </tbody>\n",
       "</table>\n",
       "</div>"
      ],
      "text/plain": [
       "       Nome  Età  Punteggio\n",
       "0     Elisa    1        100\n",
       "1   Roberto   27        120\n",
       "2    Ciccio   25         95\n",
       "3  Topolino   24       1300\n",
       "4      Gigi   31        101"
      ]
     },
     "execution_count": 8,
     "metadata": {},
     "output_type": "execute_result"
    }
   ],
   "source": [
    "# creating some data in a dictionary\n",
    "d = {\"Nome\":[\"Elisa\", \"Roberto\", \"Ciccio\", \"Topolino\", \"Gigi\"],\n",
    "     \"Età\":[1, 27, 25, 24, 31],\n",
    "     \"Punteggio\":[100, 120, 95, 1300, 101]}\n",
    "\n",
    "# filling the dataframe\n",
    "df = pd.DataFrame(d)\n",
    "df.head()"
   ]
  },
  {
   "cell_type": "markdown",
   "metadata": {},
   "source": [
    "Of course with `pandas` it is possible to perform a large number of operations on a dataframe. For example it is possible to add a column as a result of an operation on other columns. Looking back at the `df1` dataframe it is possible to add a column with the daily variation of the price."
   ]
  },
  {
   "cell_type": "code",
   "execution_count": 9,
   "metadata": {},
   "outputs": [
    {
     "data": {
      "text/html": [
       "<div>\n",
       "<style scoped>\n",
       "    .dataframe tbody tr th:only-of-type {\n",
       "        vertical-align: middle;\n",
       "    }\n",
       "\n",
       "    .dataframe tbody tr th {\n",
       "        vertical-align: top;\n",
       "    }\n",
       "\n",
       "    .dataframe thead th {\n",
       "        text-align: right;\n",
       "    }\n",
       "</style>\n",
       "<table border=\"1\" class=\"dataframe\">\n",
       "  <thead>\n",
       "    <tr style=\"text-align: right;\">\n",
       "      <th></th>\n",
       "      <th>Date</th>\n",
       "      <th>Price</th>\n",
       "      <th>Volume</th>\n",
       "      <th>Variation</th>\n",
       "    </tr>\n",
       "  </thead>\n",
       "  <tbody>\n",
       "    <tr>\n",
       "      <th>0</th>\n",
       "      <td>2000-07-30</td>\n",
       "      <td>100.000000</td>\n",
       "      <td>191.811275</td>\n",
       "      <td>NaN</td>\n",
       "    </tr>\n",
       "    <tr>\n",
       "      <th>1</th>\n",
       "      <td>2000-07-31</td>\n",
       "      <td>129.216267</td>\n",
       "      <td>190.897541</td>\n",
       "      <td>0.292163</td>\n",
       "    </tr>\n",
       "    <tr>\n",
       "      <th>2</th>\n",
       "      <td>2000-08-01</td>\n",
       "      <td>147.605516</td>\n",
       "      <td>197.476379</td>\n",
       "      <td>0.142314</td>\n",
       "    </tr>\n",
       "    <tr>\n",
       "      <th>3</th>\n",
       "      <td>2000-08-02</td>\n",
       "      <td>107.282251</td>\n",
       "      <td>199.660061</td>\n",
       "      <td>-0.273183</td>\n",
       "    </tr>\n",
       "    <tr>\n",
       "      <th>4</th>\n",
       "      <td>2000-08-03</td>\n",
       "      <td>106.036826</td>\n",
       "      <td>200.840459</td>\n",
       "      <td>-0.011609</td>\n",
       "    </tr>\n",
       "  </tbody>\n",
       "</table>\n",
       "</div>"
      ],
      "text/plain": [
       "        Date       Price      Volume  Variation\n",
       "0 2000-07-30  100.000000  191.811275        NaN\n",
       "1 2000-07-31  129.216267  190.897541   0.292163\n",
       "2 2000-08-01  147.605516  197.476379   0.142314\n",
       "3 2000-08-02  107.282251  199.660061  -0.273183\n",
       "4 2000-08-03  106.036826  200.840459  -0.011609"
      ]
     },
     "execution_count": 9,
     "metadata": {},
     "output_type": "execute_result"
    }
   ],
   "source": [
    "import numpy as np\n",
    "\n",
    "# first let's add an empty column\n",
    "df1['Variation'] = np.nan # nan stands for not a number\n",
    "\n",
    "# loop on the Price column, compute the variation and fill the column\n",
    "# len returns the number of rows of a dataframe\n",
    "for i in range(1, len(df1)):\n",
    "    # select the ith row and fill \"Variation\"\n",
    "    # loc takes as inputs row and colum-name\n",
    "    df1.loc[i, \"Variation\"] = (df1.loc[i, \"Price\"] - df1.loc[i-1, \"Price\"]) / df1.loc[i-1, \"Price\"]\n",
    "\n",
    "df1.head()"
   ]
  },
  {
   "cell_type": "markdown",
   "metadata": {},
   "source": [
    "Of course the first \"variation\" value is NaN since there is no previous price to compare with."
   ]
  },
  {
   "cell_type": "markdown",
   "metadata": {},
   "source": [
    "## Manage Data\n",
    "Once we have created our dataframe we may want to preliminarly process data to perform very common operations like:\n",
    "* remove unwanted observations or outliers\n",
    "* handle missing data\n",
    "* filter, sort and cleaning data\n",
    "\n",
    "### Unwanted observations and outliers\n",
    "#### Duplicates\n",
    "It may happen that our data has duplicates (e.g. those can arise when combining two datasets), or the dataset contains irrelvant fields for the specific study we are carrying on.\n",
    "To find and remove duplicates `pandas` has convenient methods:"
   ]
  },
  {
   "cell_type": "code",
   "execution_count": 10,
   "metadata": {},
   "outputs": [
    {
     "name": "stdout",
     "output_type": "stream",
     "text": [
      "0     False\n",
      "1     False\n",
      "2     False\n",
      "3     False\n",
      "4     False\n",
      "5     False\n",
      "6     False\n",
      "7     False\n",
      "8      True\n",
      "9      True\n",
      "10     True\n",
      "11    False\n",
      "12    False\n",
      "13    False\n",
      "14    False\n",
      "dtype: bool\n"
     ]
    }
   ],
   "source": [
    "# find duplicates based on all columns\n",
    "# and show just the first 15 results  \n",
    "#print (df1.duplicated()[:15]) \n",
    "\n",
    "# find duplicates based on'Price'\n",
    "# and show just the first 15 results\n",
    "print (df1.duplicated(subset=['Price'])[:15] )"
   ]
  },
  {
   "cell_type": "code",
   "execution_count": 11,
   "metadata": {},
   "outputs": [
    {
     "name": "stdout",
     "output_type": "stream",
     "text": [
      "Initial number of rows: 734\n",
      "Number of columns after drop: 729\n"
     ]
    }
   ],
   "source": [
    "print (\"Initial number of rows: {}\".format(len(df1))) \n",
    "\n",
    "# remove duplicates\n",
    "# where the second argument can be `first`, `last` \n",
    "# or `False` (consider all of the same values as duplicates).\n",
    "df1 = df1.drop_duplicates(subset='Price', keep='first')\n",
    "\n",
    "print (\"Number of columns after drop: {}\".format(len(df1)))"
   ]
  },
  {
   "cell_type": "markdown",
   "metadata": {},
   "source": [
    "If we would like to drop irrilevant columns for our analysis it is enough to:"
   ]
  },
  {
   "cell_type": "code",
   "execution_count": 12,
   "metadata": {},
   "outputs": [
    {
     "data": {
      "text/html": [
       "<div>\n",
       "<style scoped>\n",
       "    .dataframe tbody tr th:only-of-type {\n",
       "        vertical-align: middle;\n",
       "    }\n",
       "\n",
       "    .dataframe tbody tr th {\n",
       "        vertical-align: top;\n",
       "    }\n",
       "\n",
       "    .dataframe thead th {\n",
       "        text-align: right;\n",
       "    }\n",
       "</style>\n",
       "<table border=\"1\" class=\"dataframe\">\n",
       "  <thead>\n",
       "    <tr style=\"text-align: right;\">\n",
       "      <th></th>\n",
       "      <th>Date</th>\n",
       "      <th>Price</th>\n",
       "    </tr>\n",
       "  </thead>\n",
       "  <tbody>\n",
       "    <tr>\n",
       "      <th>0</th>\n",
       "      <td>2000-07-30</td>\n",
       "      <td>100.000000</td>\n",
       "    </tr>\n",
       "    <tr>\n",
       "      <th>1</th>\n",
       "      <td>2000-07-31</td>\n",
       "      <td>129.216267</td>\n",
       "    </tr>\n",
       "    <tr>\n",
       "      <th>2</th>\n",
       "      <td>2000-08-01</td>\n",
       "      <td>147.605516</td>\n",
       "    </tr>\n",
       "    <tr>\n",
       "      <th>3</th>\n",
       "      <td>2000-08-02</td>\n",
       "      <td>107.282251</td>\n",
       "    </tr>\n",
       "    <tr>\n",
       "      <th>4</th>\n",
       "      <td>2000-08-03</td>\n",
       "      <td>106.036826</td>\n",
       "    </tr>\n",
       "  </tbody>\n",
       "</table>\n",
       "</div>"
      ],
      "text/plain": [
       "         Date       Price\n",
       "0  2000-07-30  100.000000\n",
       "1  2000-07-31  129.216267\n",
       "2  2000-08-01  147.605516\n",
       "3  2000-08-02  107.282251\n",
       "4  2000-08-03  106.036826"
      ]
     },
     "execution_count": 12,
     "metadata": {},
     "output_type": "execute_result"
    }
   ],
   "source": [
    "df2 = df2.drop(columns=['Volume'])\n",
    "df2.head()"
   ]
  },
  {
   "cell_type": "markdown",
   "metadata": {},
   "source": [
    "If instead we just want to remove few rows we can select them by index:"
   ]
  },
  {
   "cell_type": "code",
   "execution_count": 13,
   "metadata": {},
   "outputs": [
    {
     "data": {
      "text/html": [
       "<div>\n",
       "<style scoped>\n",
       "    .dataframe tbody tr th:only-of-type {\n",
       "        vertical-align: middle;\n",
       "    }\n",
       "\n",
       "    .dataframe tbody tr th {\n",
       "        vertical-align: top;\n",
       "    }\n",
       "\n",
       "    .dataframe thead th {\n",
       "        text-align: right;\n",
       "    }\n",
       "</style>\n",
       "<table border=\"1\" class=\"dataframe\">\n",
       "  <thead>\n",
       "    <tr style=\"text-align: right;\">\n",
       "      <th></th>\n",
       "      <th>Date</th>\n",
       "      <th>Price</th>\n",
       "    </tr>\n",
       "  </thead>\n",
       "  <tbody>\n",
       "    <tr>\n",
       "      <th>1</th>\n",
       "      <td>2000-07-31</td>\n",
       "      <td>129.216267</td>\n",
       "    </tr>\n",
       "    <tr>\n",
       "      <th>3</th>\n",
       "      <td>2000-08-02</td>\n",
       "      <td>107.282251</td>\n",
       "    </tr>\n",
       "    <tr>\n",
       "      <th>4</th>\n",
       "      <td>2000-08-03</td>\n",
       "      <td>106.036826</td>\n",
       "    </tr>\n",
       "    <tr>\n",
       "      <th>5</th>\n",
       "      <td>2000-08-04</td>\n",
       "      <td>118.872757</td>\n",
       "    </tr>\n",
       "    <tr>\n",
       "      <th>6</th>\n",
       "      <td>2000-08-05</td>\n",
       "      <td>101.904544</td>\n",
       "    </tr>\n",
       "  </tbody>\n",
       "</table>\n",
       "</div>"
      ],
      "text/plain": [
       "         Date       Price\n",
       "1  2000-07-31  129.216267\n",
       "3  2000-08-02  107.282251\n",
       "4  2000-08-03  106.036826\n",
       "5  2000-08-04  118.872757\n",
       "6  2000-08-05  101.904544"
      ]
     },
     "execution_count": 13,
     "metadata": {},
     "output_type": "execute_result"
    }
   ],
   "source": [
    "# we remove row 0th and 2nd\n",
    "# axis=0 means use the index column\n",
    "df2 = df2.drop([0, 2], axis=0)\n",
    "df2.head()"
   ]
  },
  {
   "cell_type": "markdown",
   "metadata": {},
   "source": [
    "Changing the column that act as index we can select the rows also by other attributes:"
   ]
  },
  {
   "cell_type": "code",
   "execution_count": 14,
   "metadata": {},
   "outputs": [
    {
     "data": {
      "text/html": [
       "<div>\n",
       "<style scoped>\n",
       "    .dataframe tbody tr th:only-of-type {\n",
       "        vertical-align: middle;\n",
       "    }\n",
       "\n",
       "    .dataframe tbody tr th {\n",
       "        vertical-align: top;\n",
       "    }\n",
       "\n",
       "    .dataframe thead th {\n",
       "        text-align: right;\n",
       "    }\n",
       "</style>\n",
       "<table border=\"1\" class=\"dataframe\">\n",
       "  <thead>\n",
       "    <tr style=\"text-align: right;\">\n",
       "      <th></th>\n",
       "      <th>Price</th>\n",
       "    </tr>\n",
       "    <tr>\n",
       "      <th>Date</th>\n",
       "      <th></th>\n",
       "    </tr>\n",
       "  </thead>\n",
       "  <tbody>\n",
       "    <tr>\n",
       "      <th>2000-08-02</th>\n",
       "      <td>107.282251</td>\n",
       "    </tr>\n",
       "    <tr>\n",
       "      <th>2000-08-03</th>\n",
       "      <td>106.036826</td>\n",
       "    </tr>\n",
       "    <tr>\n",
       "      <th>2000-08-04</th>\n",
       "      <td>118.872757</td>\n",
       "    </tr>\n",
       "    <tr>\n",
       "      <th>2000-08-05</th>\n",
       "      <td>101.904544</td>\n",
       "    </tr>\n",
       "    <tr>\n",
       "      <th>2000-08-06</th>\n",
       "      <td>106.392901</td>\n",
       "    </tr>\n",
       "  </tbody>\n",
       "</table>\n",
       "</div>"
      ],
      "text/plain": [
       "                 Price\n",
       "Date                  \n",
       "2000-08-02  107.282251\n",
       "2000-08-03  106.036826\n",
       "2000-08-04  118.872757\n",
       "2000-08-05  101.904544\n",
       "2000-08-06  106.392901"
      ]
     },
     "execution_count": 14,
     "metadata": {},
     "output_type": "execute_result"
    }
   ],
   "source": [
    "# tell pandas to use Date as index column\n",
    "df2 = df2.set_index('Date')\n",
    "\n",
    "# select row to remove by date at this point\n",
    "df2 = df2.drop([\"2000-07-31\"], axis=0)\n",
    "\n",
    "df2.head()"
   ]
  },
  {
   "cell_type": "markdown",
   "metadata": {},
   "source": [
    "#### Outliers\n",
    "An outlier is an observation that lies outside the overall pattern of a distribution. Common causes can be human, measurement or experimental errors. Outliers must be handled carefully and we should remove them cautiously, *outliers are innocent until proven guilty*. We may have removed the most interesting part of our dataset !\n",
    "\n",
    "The core statistics about a particular column can be studied by the `describe()` method which returns the following information:\n",
    "* for numeric columns: the value count, mean, standard deviation, minimum, maximum and 25th, 50th and 75h quantiles for the data in a column;\n",
    "* for string columns: the number of unique entries, the most frequent occurring value (*top*), and the number of times the top value occurs (*freq*)."
   ]
  },
  {
   "cell_type": "code",
   "execution_count": 15,
   "metadata": {},
   "outputs": [
    {
     "data": {
      "text/html": [
       "<div>\n",
       "<style scoped>\n",
       "    .dataframe tbody tr th:only-of-type {\n",
       "        vertical-align: middle;\n",
       "    }\n",
       "\n",
       "    .dataframe tbody tr th {\n",
       "        vertical-align: top;\n",
       "    }\n",
       "\n",
       "    .dataframe thead th {\n",
       "        text-align: right;\n",
       "    }\n",
       "</style>\n",
       "<table border=\"1\" class=\"dataframe\">\n",
       "  <thead>\n",
       "    <tr style=\"text-align: right;\">\n",
       "      <th></th>\n",
       "      <th>Price</th>\n",
       "      <th>Volume</th>\n",
       "      <th>Variation</th>\n",
       "    </tr>\n",
       "  </thead>\n",
       "  <tbody>\n",
       "    <tr>\n",
       "      <th>count</th>\n",
       "      <td>728.000000</td>\n",
       "      <td>729.000000</td>\n",
       "      <td>724.000000</td>\n",
       "    </tr>\n",
       "    <tr>\n",
       "      <th>mean</th>\n",
       "      <td>120.898678</td>\n",
       "      <td>200.355900</td>\n",
       "      <td>0.146330</td>\n",
       "    </tr>\n",
       "    <tr>\n",
       "      <th>std</th>\n",
       "      <td>490.493411</td>\n",
       "      <td>4.970745</td>\n",
       "      <td>3.637952</td>\n",
       "    </tr>\n",
       "    <tr>\n",
       "      <th>min</th>\n",
       "      <td>0.878873</td>\n",
       "      <td>186.430551</td>\n",
       "      <td>-0.995284</td>\n",
       "    </tr>\n",
       "    <tr>\n",
       "      <th>25%</th>\n",
       "      <td>14.809934</td>\n",
       "      <td>196.998603</td>\n",
       "      <td>-0.119423</td>\n",
       "    </tr>\n",
       "    <tr>\n",
       "      <th>50%</th>\n",
       "      <td>61.325699</td>\n",
       "      <td>200.221125</td>\n",
       "      <td>-0.005549</td>\n",
       "    </tr>\n",
       "    <tr>\n",
       "      <th>75%</th>\n",
       "      <td>164.021813</td>\n",
       "      <td>203.580691</td>\n",
       "      <td>0.121290</td>\n",
       "    </tr>\n",
       "    <tr>\n",
       "      <th>max</th>\n",
       "      <td>13000.000000</td>\n",
       "      <td>215.140868</td>\n",
       "      <td>97.756432</td>\n",
       "    </tr>\n",
       "  </tbody>\n",
       "</table>\n",
       "</div>"
      ],
      "text/plain": [
       "              Price      Volume   Variation\n",
       "count    728.000000  729.000000  724.000000\n",
       "mean     120.898678  200.355900    0.146330\n",
       "std      490.493411    4.970745    3.637952\n",
       "min        0.878873  186.430551   -0.995284\n",
       "25%       14.809934  196.998603   -0.119423\n",
       "50%       61.325699  200.221125   -0.005549\n",
       "75%      164.021813  203.580691    0.121290\n",
       "max    13000.000000  215.140868   97.756432"
      ]
     },
     "execution_count": 15,
     "metadata": {},
     "output_type": "execute_result"
    }
   ],
   "source": [
    "df1.describe()"
   ]
  },
  {
   "cell_type": "markdown",
   "metadata": {},
   "source": [
    "Looking at mean and std and comparing it with min and max values we could find a range outside of which we may have outliers. For example 13000.0 is several standard deviation away the mean which may indicate that it is not a good value.\n",
    "\n",
    "Another way to spot outliers is to plot column distributions and again `pandas` comes to help us:"
   ]
  },
  {
   "cell_type": "code",
   "execution_count": 1,
   "metadata": {},
   "outputs": [
    {
     "ename": "NameError",
     "evalue": "name 'df1' is not defined",
     "output_type": "error",
     "traceback": [
      "\u001b[0;31m---------------------------------------------------------------------------\u001b[0m",
      "\u001b[0;31mNameError\u001b[0m                                 Traceback (most recent call last)",
      "\u001b[0;32m<ipython-input-1-97dbdc6fcfec>\u001b[0m in \u001b[0;36m<module>\u001b[0;34m\u001b[0m\n\u001b[0;32m----> 1\u001b[0;31m \u001b[0mdf1\u001b[0m\u001b[0;34m.\u001b[0m\u001b[0mhist\u001b[0m\u001b[0;34m(\u001b[0m\u001b[0;34m\"Variation\"\u001b[0m\u001b[0;34m,\u001b[0m \u001b[0mbins\u001b[0m\u001b[0;34m=\u001b[0m\u001b[0mnp\u001b[0m\u001b[0;34m.\u001b[0m\u001b[0marange\u001b[0m\u001b[0;34m(\u001b[0m\u001b[0;36m0\u001b[0m\u001b[0;34m,\u001b[0m \u001b[0;36m100\u001b[0m\u001b[0;34m,\u001b[0m \u001b[0;36m1\u001b[0m\u001b[0;34m)\u001b[0m\u001b[0;34m)\u001b[0m\u001b[0;34m\u001b[0m\u001b[0m\n\u001b[0m",
      "\u001b[0;31mNameError\u001b[0m: name 'df1' is not defined"
     ]
    }
   ],
   "source": [
    "df1.hist(\"Variation\", bins=np.arange(0, 100, 1))"
   ]
  },
  {
   "cell_type": "markdown",
   "metadata": {},
   "source": [
    "From the histograms it is clear how the value of 97.76, is far from general population. This doesn't mean they are necessarily wrong but it should make ring a bell in our head...\n",
    "\n",
    "To remove outliers from data we can either remove the entire rows or replace the suspicious values by a default value (e.g. 0, 1, a threshold value...).\n",
    "\n",
    "**Note**: missing data may be informative itself ! When filling the gap with *artificial data* (e.g. mean, median, std...) having similar properties than real observation, the added value won't be scientifically valid, no matter how sophisticated your filling method is.\n",
    "\n",
    "```python\n",
    "import numpy as np\n",
    "\n",
    "df2.replace(1300, 500)      # replace 1300 with 500\n",
    "df2 = df2.replace(1300, np.nan)   # replace 1300 with NaN\n",
    "\n",
    "df2 = df2.mask(df1 >= 600, 500)   # replace every element >=600 with 5\n",
    "```"
   ]
  },
  {
   "cell_type": "markdown",
   "metadata": {},
   "source": [
    "### Handle Missing Data\n",
    "Usually when importing data with `pandas` we may have some NaN values (short for *not a number* which represent the `null` value). NaN is the value that is given to missing fields in a row. \n",
    "Like for the outliers we can use the `replace` or `mask` methods to remove the NaNs. In case the whole row as NaN it may be wise to drop it entirely.\n",
    "\n",
    "Additionally we can use `dropna()` which remove all the NaN at once."
   ]
  },
  {
   "cell_type": "code",
   "execution_count": 17,
   "metadata": {},
   "outputs": [
    {
     "name": "stdout",
     "output_type": "stream",
     "text": [
      "Number of rows after dropping NaN: 724\n"
     ]
    }
   ],
   "source": [
    "df1 = df1.dropna()\n",
    "\n",
    "print (\"Number of rows after dropping NaN: {}\".format(len(df1)))"
   ]
  },
  {
   "cell_type": "markdown",
   "metadata": {},
   "source": [
    "### Filter, Sort and Clean Data\n",
    "\n",
    "#### Filtering\n",
    "When we work with huge datasets we may reach computational limits (e.g. insufficient memory, CPU performance, too slow processing time...) and in those cases it can be helpful to filter data by attributes for example by splitting by time or some other property. \n",
    "\n",
    "Assuming to have the following table and putting back the volume column"
   ]
  },
  {
   "cell_type": "code",
   "execution_count": 18,
   "metadata": {},
   "outputs": [
    {
     "name": "stdout",
     "output_type": "stream",
     "text": [
      "197.476378531652\n",
      "\n",
      "       Volume\n",
      "1  190.897541\n",
      "2  197.476379\n"
     ]
    }
   ],
   "source": [
    "# df.iloc[row, col]\n",
    "# NOTE: iloc takes row and column index (two numbers)\n",
    "# loc instead takes row index and column name\n",
    "print (df1.iloc[1, 2]) # returns 62 the volume associated with the row 1\n",
    "\n",
    "print()\n",
    "#df.iloc[row1:row2, col1:col2]\n",
    "# this is called slicing, remember ?\n",
    "print (df1.iloc[0:2, 2:3]) # returns rows 0 and 1 of column 2"
   ]
  },
  {
   "cell_type": "code",
   "execution_count": 19,
   "metadata": {},
   "outputs": [],
   "source": [
    "subset = df1.iloc[:, 1]   # select column 1\n",
    "\n",
    "subset = df1.iloc[2, :]   # select row 2\n",
    "\n",
    "subset = df1.iloc[0:2, :] # select 2 rows\n",
    "\n",
    "subset = df1.iloc[:2, :]  # this is equivalent to before"
   ]
  },
  {
   "cell_type": "markdown",
   "metadata": {},
   "source": [
    "A more advanced way of filtering is the following (it apply a selection on the values). The notation is a bit awkward but very useful:"
   ]
  },
  {
   "cell_type": "code",
   "execution_count": 20,
   "metadata": {},
   "outputs": [
    {
     "name": "stdout",
     "output_type": "stream",
     "text": [
      "         Date       Price      Volume  Variation\n",
      "1  2000-07-31  129.216267  190.897541   0.292163\n",
      "2  2000-08-01  147.605516  197.476379   0.142314\n",
      "3  2000-08-02  107.282251  199.660061  -0.273183\n",
      "4  2000-08-03  106.036826  200.840459  -0.011609\n",
      "5  2000-08-04  118.872757  197.130212   0.121052\n",
      "6  2000-08-05  101.904544  204.552521  -0.142743\n",
      "7  2000-08-06  106.392901  198.160030   0.044045\n",
      "11 2000-08-07  107.646053  198.861429   0.011779\n",
      "12 2000-08-08  106.666468  197.213497  -0.009100\n",
      "13 2000-08-09  101.981029  204.425797  -0.043926\n",
      "14 2000-08-10  110.100330  196.122844   0.079616\n",
      "15 2000-08-11  138.656481  200.703360   0.259365\n",
      "16 2000-08-12  113.180782  205.676449  -0.183732\n",
      "17 2000-08-13  137.639947  203.468517   0.216107\n",
      "18 2000-08-14  142.646169  198.528626   0.036372\n"
     ]
    }
   ],
   "source": [
    "import datetime\n",
    "\n",
    "# colon means all the rows\n",
    "subset = df1[df1.iloc[:, 0] < datetime.datetime(2000, 8, 15)]\n",
    "print (subset)"
   ]
  },
  {
   "cell_type": "markdown",
   "metadata": {},
   "source": [
    "#### Sorting\n",
    "To sort our data we can use `sort_values()` method (it can be specified ascending, descending)."
   ]
  },
  {
   "cell_type": "code",
   "execution_count": 21,
   "metadata": {},
   "outputs": [
    {
     "data": {
      "text/html": [
       "<div>\n",
       "<style scoped>\n",
       "    .dataframe tbody tr th:only-of-type {\n",
       "        vertical-align: middle;\n",
       "    }\n",
       "\n",
       "    .dataframe tbody tr th {\n",
       "        vertical-align: top;\n",
       "    }\n",
       "\n",
       "    .dataframe thead th {\n",
       "        text-align: right;\n",
       "    }\n",
       "</style>\n",
       "<table border=\"1\" class=\"dataframe\">\n",
       "  <thead>\n",
       "    <tr style=\"text-align: right;\">\n",
       "      <th></th>\n",
       "      <th>Price</th>\n",
       "    </tr>\n",
       "    <tr>\n",
       "      <th>Date</th>\n",
       "      <th></th>\n",
       "    </tr>\n",
       "  </thead>\n",
       "  <tbody>\n",
       "    <tr>\n",
       "      <th>2000-08-20</th>\n",
       "      <td>13000.000000</td>\n",
       "    </tr>\n",
       "    <tr>\n",
       "      <th>2000-10-20</th>\n",
       "      <td>593.477666</td>\n",
       "    </tr>\n",
       "    <tr>\n",
       "      <th>2001-01-05</th>\n",
       "      <td>571.444679</td>\n",
       "    </tr>\n",
       "    <tr>\n",
       "      <th>2000-12-31</th>\n",
       "      <td>532.558487</td>\n",
       "    </tr>\n",
       "    <tr>\n",
       "      <th>2000-10-14</th>\n",
       "      <td>516.044122</td>\n",
       "    </tr>\n",
       "    <tr>\n",
       "      <th>2001-01-02</th>\n",
       "      <td>503.583189</td>\n",
       "    </tr>\n",
       "    <tr>\n",
       "      <th>2001-01-01</th>\n",
       "      <td>502.849987</td>\n",
       "    </tr>\n",
       "    <tr>\n",
       "      <th>2000-12-30</th>\n",
       "      <td>487.353466</td>\n",
       "    </tr>\n",
       "    <tr>\n",
       "      <th>2001-01-04</th>\n",
       "      <td>478.027182</td>\n",
       "    </tr>\n",
       "    <tr>\n",
       "      <th>2001-01-10</th>\n",
       "      <td>473.061993</td>\n",
       "    </tr>\n",
       "  </tbody>\n",
       "</table>\n",
       "</div>"
      ],
      "text/plain": [
       "                   Price\n",
       "Date                    \n",
       "2000-08-20  13000.000000\n",
       "2000-10-20    593.477666\n",
       "2001-01-05    571.444679\n",
       "2000-12-31    532.558487\n",
       "2000-10-14    516.044122\n",
       "2001-01-02    503.583189\n",
       "2001-01-01    502.849987\n",
       "2000-12-30    487.353466\n",
       "2001-01-04    478.027182\n",
       "2001-01-10    473.061993"
      ]
     },
     "execution_count": 21,
     "metadata": {},
     "output_type": "execute_result"
    }
   ],
   "source": [
    "# sort by price then by date in descending order\n",
    "df2.sort_values(by=['Price', \"Date\"], ascending=False)[:10]"
   ]
  },
  {
   "cell_type": "markdown",
   "metadata": {},
   "source": [
    "#### Cleaning or Regularizing\n",
    "As we will see when dealing with machine learning, often we need to regularize our data to improve the stability of a training. One typical situation is when we want to *normalize* data, which means rescale the values into a range of [0, 1].\n",
    "\n",
    "$x = [1,43,65,23,4,57,87,45,45,23]$\n",
    "\n",
    "$x_{new} = \\frac{x - x_{min}}{x_{max} - x_{min}}$\n",
    "\n",
    "$x_{new} = [0,0.48,0.74,0.25,0.03,0.65,1,0.51,0.51,0.25]$\n",
    "\n",
    "To apply such a transformation with `pandas` is very easy since applying the formula to a dataframe implies it is done to each row:"
   ]
  },
  {
   "cell_type": "code",
   "execution_count": 22,
   "metadata": {},
   "outputs": [
    {
     "data": {
      "text/html": [
       "<div>\n",
       "<style scoped>\n",
       "    .dataframe tbody tr th:only-of-type {\n",
       "        vertical-align: middle;\n",
       "    }\n",
       "\n",
       "    .dataframe tbody tr th {\n",
       "        vertical-align: top;\n",
       "    }\n",
       "\n",
       "    .dataframe thead th {\n",
       "        text-align: right;\n",
       "    }\n",
       "</style>\n",
       "<table border=\"1\" class=\"dataframe\">\n",
       "  <thead>\n",
       "    <tr style=\"text-align: right;\">\n",
       "      <th></th>\n",
       "      <th>Date</th>\n",
       "      <th>Price</th>\n",
       "      <th>Volume</th>\n",
       "      <th>Variation</th>\n",
       "    </tr>\n",
       "  </thead>\n",
       "  <tbody>\n",
       "    <tr>\n",
       "      <th>1</th>\n",
       "      <td>2000-07-31</td>\n",
       "      <td>0.009873</td>\n",
       "      <td>190.897541</td>\n",
       "      <td>0.292163</td>\n",
       "    </tr>\n",
       "    <tr>\n",
       "      <th>2</th>\n",
       "      <td>2000-08-01</td>\n",
       "      <td>0.011287</td>\n",
       "      <td>197.476379</td>\n",
       "      <td>0.142314</td>\n",
       "    </tr>\n",
       "    <tr>\n",
       "      <th>3</th>\n",
       "      <td>2000-08-02</td>\n",
       "      <td>0.008185</td>\n",
       "      <td>199.660061</td>\n",
       "      <td>-0.273183</td>\n",
       "    </tr>\n",
       "    <tr>\n",
       "      <th>4</th>\n",
       "      <td>2000-08-03</td>\n",
       "      <td>0.008090</td>\n",
       "      <td>200.840459</td>\n",
       "      <td>-0.011609</td>\n",
       "    </tr>\n",
       "    <tr>\n",
       "      <th>5</th>\n",
       "      <td>2000-08-04</td>\n",
       "      <td>0.009077</td>\n",
       "      <td>197.130212</td>\n",
       "      <td>0.121052</td>\n",
       "    </tr>\n",
       "  </tbody>\n",
       "</table>\n",
       "</div>"
      ],
      "text/plain": [
       "        Date     Price      Volume  Variation\n",
       "1 2000-07-31  0.009873  190.897541   0.292163\n",
       "2 2000-08-01  0.011287  197.476379   0.142314\n",
       "3 2000-08-02  0.008185  199.660061  -0.273183\n",
       "4 2000-08-03  0.008090  200.840459  -0.011609\n",
       "5 2000-08-04  0.009077  197.130212   0.121052"
      ]
     },
     "execution_count": 22,
     "metadata": {},
     "output_type": "execute_result"
    }
   ],
   "source": [
    "df1['Price'] = (df1['Price'] - df1['Price'].min()) \\\n",
    "    / (df1['Price'].max() - df1['Price'].min())\n",
    "df1.head()"
   ]
  },
  {
   "cell_type": "markdown",
   "metadata": {},
   "source": [
    "Another quite common transfrmation is called *standardization*, essentially we rescale data to have 0 mean and standard deviation of 1:\n",
    "\n",
    "$x_{new} = \\frac{x-\\mu}{\\sigma}$\n",
    "\n",
    "Again it is straightforward to do it in `pandas`:"
   ]
  },
  {
   "cell_type": "code",
   "execution_count": 23,
   "metadata": {
    "scrolled": true
   },
   "outputs": [
    {
     "name": "stdout",
     "output_type": "stream",
     "text": [
      "200.36750575214748\n",
      "4.968224698257929\n"
     ]
    },
    {
     "data": {
      "image/png": "[encoded data removed]",
      "text/plain": [
       "<Figure size 432x288 with 1 Axes>"
      ]
     },
     "metadata": {
      "needs_background": "light"
     },
     "output_type": "display_data"
    }
   ],
   "source": [
    "df1.hist('Volume', bins=np.arange(180, 220, 1))\n",
    "print (df1['Volume'].mean())\n",
    "print (df1['Volume'].std())"
   ]
  },
  {
   "cell_type": "code",
   "execution_count": 24,
   "metadata": {},
   "outputs": [
    {
     "name": "stdout",
     "output_type": "stream",
     "text": [
      "-6.148550054609154e-15\n",
      "1.0\n"
     ]
    },
    {
     "data": {
      "image/png": "[encoded data removed]",
      "text/plain": [
       "<Figure size 432x288 with 1 Axes>"
      ]
     },
     "metadata": {
      "needs_background": "light"
     },
     "output_type": "display_data"
    }
   ],
   "source": [
    "df1['Volume'] = (df1['Volume'] - df1['Volume'].mean()) / df1['Volume'].std()\n",
    "\n",
    "df1.hist('Volume', bins=np.arange(-5, 5, 0.1))\n",
    "print (df1['Volume'].mean())\n",
    "print (df1['Volume'].std())"
   ]
  },
  {
   "cell_type": "markdown",
   "metadata": {},
   "source": [
    "## Plotting in `python`\n",
    "As we have just seen `pandas` allows to quickly draw histograms of dataframe columns, but during an analysis we may want to plot distributions from `list` or objects not stored in a dataframe. \n",
    "Furthermore the simple and very useful provided interface doesn't grant full access to all histogram features that we need to produce nice and informative plots.\n",
    "\n",
    "In order to do so we can use the `matplotlib` module which is specifically dedicated to plotting (pandas interface is based on the same module indeed). Let's look briefly to its capability by examples.\n",
    "\n",
    "#### Plot a graph given $x$ and $y$ values"
   ]
  },
  {
   "cell_type": "code",
   "execution_count": 25,
   "metadata": {},
   "outputs": [
    {
     "data": {
      "image/png": "[encoded data removed]",
      "text/plain": [
       "<Figure size 432x288 with 1 Axes>"
      ]
     },
     "metadata": {
      "needs_background": "light"
     },
     "output_type": "display_data"
    }
   ],
   "source": [
    "from matplotlib import pyplot as plt\n",
    "\n",
    "x = [1, 2, 3]\n",
    "y = [0.3, 0.4, 0.6]\n",
    " \n",
    "plt.plot(x, y, marker='o') # we are using circle markers\n",
    "plt.grid(True)               # this line activate grid drawing\n",
    "plt.show()"
   ]
  },
  {
   "cell_type": "code",
   "execution_count": 26,
   "metadata": {
    "scrolled": true
   },
   "outputs": [
    {
     "data": {
      "image/png": "[encoded data removed]",
      "text/plain": [
       "<Figure size 432x288 with 1 Axes>"
      ]
     },
     "metadata": {
      "needs_background": "light"
     },
     "output_type": "display_data"
    }
   ],
   "source": [
    "# if we want to plot specific points too\n",
    "\n",
    "x = [1, 2, 3]\n",
    "y = [0.3, 0.4, 0.6]\n",
    " \n",
    "plt.plot(x, y, marker='x')\n",
    "plt.plot(2.5, 0.5, marker='X', ms=12, color='red')\n",
    "plt.plot(1.5, 0.35, marker='x', ms=12, color='red')\n",
    "plt.grid(True)              \n",
    "plt.show()"
   ]
  },
  {
   "cell_type": "markdown",
   "metadata": {},
   "source": [
    "What if $x$ values are dates ?"
   ]
  },
  {
   "cell_type": "code",
   "execution_count": 27,
   "metadata": {},
   "outputs": [
    {
     "data": {
      "image/png": "[encoded data removed]",
      "text/plain": [
       "<Figure size 432x288 with 1 Axes>"
      ]
     },
     "metadata": {
      "needs_background": "light"
     },
     "output_type": "display_data"
    }
   ],
   "source": [
    "import datetime\n",
    "from matplotlib import pyplot as plt\n",
    "import matplotlib.dates as mdates\n",
    "\n",
    "x = [datetime.date(2020, 7, 20), \n",
    "     datetime.date(2020, 7, 30), \n",
    "     datetime.date(2020, 8, 10), \n",
    "     datetime.date(2020, 8, 20)]\n",
    "y = [10, 20, 34, 45]\n",
    "plt.plot(x, y, marker='o')\n",
    "# this line tells matplotlib we have dates on x axis\n",
    "plt.gca().xaxis.set_major_formatter(mdates.DateFormatter('%Y-%m-%d'))\n",
    "# this one instead rotate labels to avoid superimposition\n",
    "plt.xticks(rotation=45)\n",
    "plt.grid(True)\n",
    "plt.show()"
   ]
  },
  {
   "cell_type": "markdown",
   "metadata": {},
   "source": [
    "#### Plotting an Histogram"
   ]
  },
  {
   "cell_type": "code",
   "execution_count": 28,
   "metadata": {},
   "outputs": [
    {
     "data": {
      "image/png": "[encoded data removed]",
      "text/plain": [
       "<Figure size 432x288 with 1 Axes>"
      ]
     },
     "metadata": {
      "needs_background": "light"
     },
     "output_type": "display_data"
    }
   ],
   "source": [
    "import random \n",
    "numbers = []\n",
    "for _ in range(1000):\n",
    "  numbers.append(random.randint(1, 10))\n",
    "\n",
    "from matplotlib import pyplot as plt\n",
    "\n",
    "# Here we define the binning\n",
    "# 6 is the number of bins, going from 0 to 10\n",
    "plt.hist(numbers, 10, range=[0, 11]) \n",
    "plt.show()"
   ]
  },
  {
   "cell_type": "markdown",
   "metadata": {},
   "source": [
    "#### Plotting a Function\n",
    "In this case let's try to make the plot prettier adding labels, legend...\n",
    "\n",
    "All the commands apply also to the previous examples."
   ]
  },
  {
   "cell_type": "code",
   "execution_count": 29,
   "metadata": {},
   "outputs": [
    {
     "data": {
      "image/png": "[encoded data removed]",
      "text/plain": [
       "<Figure size 432x288 with 1 Axes>"
      ]
     },
     "metadata": {
      "needs_background": "light"
     },
     "output_type": "display_data"
    }
   ],
   "source": [
    "import numpy as np\n",
    "import matplotlib.pyplot as plt\n",
    "from scipy.stats import norm\n",
    "\n",
    "# define the functions to plot\n",
    "# a gaussian with mean=0  and sigma=1\n",
    "# in scipy module this is called norm\n",
    "mu=0\n",
    "sigma = 1\n",
    "x = np.arange(-10, -1.645, 0.001)\n",
    "x_all = np.arange(-4, 4, 0.001)\n",
    "y = norm.pdf(x, 0, 1)\n",
    "y_all = norm.pdf(x_all, 0, 1)\n",
    "\n",
    "# draw the gaussian\n",
    "plt.plot(x_all, y_all, label='Gaussian')\n",
    "\n",
    "# fill with different alpha using x_all and y_all as limits\n",
    "# alpha set the transparency level: 0 trasparent, 1 solid\n",
    "plt.fill_between(x_all, y_all, 0, alpha=0.1, color='blue', label=\"Gaussian CDF\")\n",
    "\n",
    "# fill with color red using x and y as limits\n",
    "# label associate text to the object for the legend\n",
    "plt.fill_between(x, y, 0, alpha=1, color='red', label=\"5% tail\")\n",
    "\n",
    "# set x axis limits\n",
    "plt.xlim([-4, 4])\n",
    "\n",
    "# add a label for X axis\n",
    "plt.xlabel(\"Changes of value\")\n",
    "\n",
    "# add a label to y axis\n",
    "plt.ylabel(\"Gaussian values\")\n",
    "\n",
    "# add histogram title\n",
    "plt.title(\"Distribution of changes of value\")\n",
    "\n",
    "# draw a vertical line at x=-1.645\n",
    "# y limits are in percent w.r.t. to y axis length\n",
    "plt.axvline(x=-1.645, ymin=0.1, ymax=1, linestyle=':', linewidth=1, color = 'red')\n",
    "\n",
    "# write some text to explain the line\n",
    "plt.text(-1.9, .12, '95% percentile (VaR loss)',fontsize=10, rotation=90, color='red')\n",
    "\n",
    "plt.legend()\n",
    "plt.show()"
   ]
  },
  {
   "cell_type": "markdown",
   "metadata": {},
   "source": [
    "If you are particularly satisfied by your work you can save the graph to a file:"
   ]
  },
  {
   "cell_type": "code",
   "execution_count": 30,
   "metadata": {},
   "outputs": [
    {
     "data": {
      "text/plain": [
       "<Figure size 432x288 with 0 Axes>"
      ]
     },
     "metadata": {},
     "output_type": "display_data"
    }
   ],
   "source": [
    "plt.savefig('normal_curve.png')"
   ]
  },
  {
   "cell_type": "markdown",
   "metadata": {},
   "source": [
    "## Exercises\n",
    "\n",
    "\n",
    "### Exercise 1.4\n",
    "Using `pandas` import data stored in `stock_market.xlsx` (you can find it in the same web page besides this notes).\n",
    "With the resulting dataframe determine:\n",
    "* remove duplicates and missing data (how many rows are left ?)\n",
    "* stocks with positive variation\n",
    "* the first five stocks with the lowest price\n",
    "\n",
    "\n",
    "### Exercise 1.5\n",
    "Given the following discount factors plot the resulting discount curve, possibly adding axis labels and legend.\n",
    "\n",
    "```python\n",
    "dfs = [1.0, 1.0014907894567657, 1.0031038833235129, 1.0047764800189012,\n",
    "       1.0065986105304596, 1.014496095021891, 1.022687560553011,\n",
    "       1.0303585751965112, 1.0369440287181253, 1.0422287558021188,\n",
    "       1.0461834022163963, 1.0489228953047331, 1.0505725627906783,\n",
    "       1.0513323539753632, 1.0513777790851995, 1.0508768750534248,\n",
    "       1.049935905228433, 1.0486741093761602, 1.047175413484517,\n",
    "       1.0455115431993336, 1.0437147446170034, 1.0418294960952215,\n",
    "       1.0398823957504923, 1.0378979499878478, 1.0358789099539805,\n",
    "       1.0338409767365169, 1.031791178324756, 1.0297378455884902,\n",
    "       1.0276772747965244, 1.0256154380560942, 1.0235543974485939,\n",
    "       1.0214974135391857, 1.0194401540150835, 1.0173862951028778]\n",
    "\n",
    "pillars = [datetime.date(2020, 8, 3), datetime.date(2020, 11, 3), \n",
    "           datetime.date(2021, 2, 3), datetime.date(2021, 5, 3), \n",
    "           datetime.date(2021, 8, 3), datetime.date(2022, 8, 3),\n",
    "           datetime.date(2023, 8, 3), datetime.date(2024, 8, 3), \n",
    "           datetime.date(2025, 8, 3), datetime.date(2026, 8, 3), \n",
    "           datetime.date(2027, 8, 3), datetime.date(2028, 8, 3),\n",
    "           datetime.date(2029, 8, 3), datetime.date(2030, 8, 3), \n",
    "           datetime.date(2031, 8, 3), datetime.date(2032, 8, 3), \n",
    "           datetime.date(2033, 8, 3), datetime.date(2034, 8, 3),\n",
    "           datetime.date(2035, 8, 3), datetime.date(2036, 8, 3), \n",
    "           datetime.date(2037, 8, 3), datetime.date(2038, 8, 3), \n",
    "           datetime.date(2039, 8, 3), datetime.date(2040, 8, 3),\n",
    "           datetime.date(2041, 8, 3), datetime.date(2042, 8, 3), \n",
    "           datetime.date(2043, 8, 3), datetime.date(2044, 8, 3), \n",
    "           datetime.date(2045, 8, 3), datetime.date(2046, 8, 3),\n",
    "           datetime.date(2047, 8, 3), datetime.date(2048, 8, 3), \n",
    "           datetime.date(2049, 8, 3), datetime.date(2050, 8, 3)]\n",
    "```"
   ]
  },
  {
   "cell_type": "code",
   "execution_count": null,
   "metadata": {},
   "outputs": [],
   "source": []
  }
 ],
 "metadata": {
  "kernelspec": {
   "display_name": "Python 3",
   "language": "python",
   "name": "python3"
  },
  "language_info": {
   "codemirror_mode": {
    "name": "ipython",
    "version": 3
   },
   "file_extension": ".py",
   "mimetype": "text/x-python",
   "name": "python",
   "nbconvert_exporter": "python",
   "pygments_lexer": "ipython3",
   "version": "3.6.3"
  }
 },
 "nbformat": 4,
 "nbformat_minor": 4
}
