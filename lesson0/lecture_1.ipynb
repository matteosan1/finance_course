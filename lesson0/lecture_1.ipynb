{
 "cells": [
  {
   "cell_type": "markdown",
   "metadata": {},
   "source": [
    "# `Python` - Lesson 1\n",
    "\n",
    "In this first lesson we will make a brief journey through the main feature of `python` language focusing on few specific topic that will be useful for the rest of the course.\n",
    "\n",
    "\n",
    "## What is `python`\n",
    "\n",
    "`Python` is a so called *interpreted* language, you write some code (a sequence of instructions or commands), this is read and executed. This is different from other programming languages like `C` or `C++` which compile code into a language that the computer can understand directly (*machine language*). As a result, `python` is essentially an *interactive* programming language, you can program and see the results almost at the same time.\n",
    "\n",
    "![Interpreted vs compiled language](index.png)\n",
    "\n",
    "`Python`, as basically all programs, comes in different version and flavours, the latest  is `3.8` (and it is continously evolving). \n",
    "**We will go for `python 3.7` !** because there are no critical difference with respect to the latest and because it is what you have installed in you computers...\n",
    "\n",
    "Any Python interpreter, available at http://www.python.org, comes with a standard set of *packages*, but if you want more functionality, you can download more of them (there are zillions of packages out there). \n",
    "\n",
    "Some examples are:\n",
    "\n",
    "* `numpy` - which provides matrix algebra functionality;\n",
    "* `scipy` - which provides a whole series of scientific computing functions;\n",
    "* `pandas` - which provides tools for manipulating time series or dataset in general;\n",
    "* `matplotlib` - for plotting graphs;\n",
    "* `jupyter` - for notebooks like this one;\n",
    "* ...and many more.\n",
    "\n",
    "### How we will use it\n",
    "\n",
    "In the rest of the course you will be asked to use `Anaconda python` (https://www.anaconda.com).\n",
    "\n",
    "`Anaconda` is a free and open-source distribution of the `python`programming languages for scientific computing, that aims to simplify package management. The distribution includes data-science packages suitable for any platform. Its graphical interface allows to easily install new modules and includes an IDE called `PyCharm`, an interactive shell to run quickly few lines of code and the `jupyter` application to write code and document it in a very easy way.\n",
    "\n",
    "### Online courses\n",
    "\n",
    "Python popularity is growing every day so it is very easy to find good (and free) online courses looking in Google. If you want to go deeper into the potentiality of this language I strongly suggest you to spend some time in watching one of them. The following one is quite basic but there are many others even on specific subjects you may like to focus on:\n",
    "\n",
    "**MITx: 6.00.1x Introduction to Computer Science and Programming Using Python** \n",
    "https://courses.edx.org/courses/course-v1:MITx+6.00.1x+2T2017_2/course/ \n",
    "\n",
    "### Let's spend few minutes all together to setup `Anaconda`\n",
    "\n",
    "## The language"
   ]
  },
  {
   "cell_type": "code",
   "execution_count": 1,
   "metadata": {},
   "outputs": [
    {
     "name": "stdout",
     "output_type": "stream",
     "text": [
      "Hello world !\n"
     ]
    }
   ],
   "source": [
    "# this is a comment \n",
    "# print is the simplest (and most used) keyword\n",
    "print (\"Hello world !\") "
   ]
  },
  {
   "cell_type": "markdown",
   "metadata": {},
   "source": [
    "### Variables\n",
    "\n",
    "Variables are used to store information to be referenced and manipulated in a computer program (e.g. a number, a string...).\n",
    "\n",
    "![](var1.jpeg)\n",
    "\n",
    "A `python` variable name must:\n",
    "* begin with a letter (myphone) or underscore (\\_myphone);\n",
    "* other characters can be letters, numbers or more \\_;\n",
    "* variable names are case-sensitive so myphone and myPhone are two distinct variables;\n",
    "\n",
    "**There are some reserved words which you cannot use as a variable name because Python uses them for other things (e.g. $\\tt{print, type, for...}$)**.\n",
    "\n",
    "To use GOOD variable names always choose meaningful names instead of short names (i.e. $\\tt{numberOfCakes}$ is much better than simply $\\tt{n}$), try to be consistent with your conventions (e.g. choose once and for all between $\\tt{number\\_of\\_cakes}$ or $\\tt{numberofcakes}$ or $\\tt{numberOfCakes}$), usually begin a variable name with underscore (\\_) only for a special case (will see later when this is usually done)."
   ]
  },
  {
   "cell_type": "markdown",
   "metadata": {},
   "source": [
    "### Mathematical expressions"
   ]
  },
  {
   "cell_type": "code",
   "execution_count": 9,
   "metadata": {},
   "outputs": [
    {
     "data": {
      "text/plain": [
       "3"
      ]
     },
     "execution_count": 9,
     "metadata": {},
     "output_type": "execute_result"
    }
   ],
   "source": [
    "1 + 2"
   ]
  },
  {
   "cell_type": "code",
   "execution_count": 10,
   "metadata": {},
   "outputs": [
    {
     "data": {
      "text/plain": [
       "35"
      ]
     },
     "execution_count": 10,
     "metadata": {},
     "output_type": "execute_result"
    }
   ],
   "source": [
    "40 - 5"
   ]
  },
  {
   "cell_type": "code",
   "execution_count": 11,
   "metadata": {},
   "outputs": [
    {
     "data": {
      "text/plain": [
       "180"
      ]
     },
     "execution_count": 11,
     "metadata": {},
     "output_type": "execute_result"
    }
   ],
   "source": [
    "x * 20 # remember that we set x equal to 9"
   ]
  },
  {
   "cell_type": "code",
   "execution_count": 12,
   "metadata": {},
   "outputs": [
    {
     "data": {
      "text/plain": [
       "2.25"
      ]
     },
     "execution_count": 12,
     "metadata": {},
     "output_type": "execute_result"
    }
   ],
   "source": [
    "x / 4"
   ]
  },
  {
   "cell_type": "code",
   "execution_count": 14,
   "metadata": {},
   "outputs": [
    {
     "data": {
      "text/plain": [
       "2"
      ]
     },
     "execution_count": 14,
     "metadata": {},
     "output_type": "execute_result"
    }
   ],
   "source": [
    "x // 4 # interger division - result will be truncated to the \n",
    "       # corresponding integer (no rounding)\n",
    "       # 11 / 3 = 3.666666 -> 11 // 3 = 3"
   ]
  },
  {
   "cell_type": "code",
   "execution_count": 15,
   "metadata": {},
   "outputs": [
    {
     "data": {
      "text/plain": [
       "729"
      ]
     },
     "execution_count": 15,
     "metadata": {},
     "output_type": "execute_result"
    }
   ],
   "source": [
    "y = 3\n",
    "x ** y # x to the power of y"
   ]
  },
  {
   "cell_type": "code",
   "execution_count": 16,
   "metadata": {},
   "outputs": [
    {
     "data": {
      "text/plain": [
       "36"
      ]
     },
     "execution_count": 16,
     "metadata": {},
     "output_type": "execute_result"
    }
   ],
   "source": [
    "3 * (x + y)"
   ]
  },
  {
   "cell_type": "markdown",
   "metadata": {},
   "source": [
    "### Modules\n",
    "\n",
    "Useful functions can be saved in libraries (called *modules*) so that thay can be re-used in different programs. The keyword *import* allows to load functions and data from other Python files (*modules*) and make them available in your program.\n",
    "Python already comes with a lot of built-in modules for doing lots of different tasks (the so called *standard library*) but many more modules are available for download on the web and you can of course write your own !\n",
    "\n",
    "![Python has many modules for download on the web...](python.png)"
   ]
  },
  {
   "cell_type": "code",
   "execution_count": 1,
   "metadata": {},
   "outputs": [],
   "source": [
    "import math"
   ]
  },
  {
   "cell_type": "markdown",
   "metadata": {},
   "source": [
    "**Once a module has been imported, the functions it contains can be accessed with a *dot* \"module_name.function_name\":**"
   ]
  },
  {
   "cell_type": "code",
   "execution_count": 19,
   "metadata": {},
   "outputs": [
    {
     "data": {
      "text/plain": [
       "1.0986122886681098"
      ]
     },
     "execution_count": 19,
     "metadata": {},
     "output_type": "execute_result"
    }
   ],
   "source": [
    "math.log(3)"
   ]
  },
  {
   "cell_type": "code",
   "execution_count": 20,
   "metadata": {},
   "outputs": [
    {
     "data": {
      "text/plain": [
       "20.085536923187668"
      ]
     },
     "execution_count": 20,
     "metadata": {},
     "output_type": "execute_result"
    }
   ],
   "source": [
    "math.exp(3)"
   ]
  },
  {
   "cell_type": "markdown",
   "metadata": {},
   "source": [
    "Since we are lazy and we don't want to type `math.` every time we compute a logarithm or an exponential, so we can use the following syntax:"
   ]
  },
  {
   "cell_type": "code",
   "execution_count": 3,
   "metadata": {},
   "outputs": [
    {
     "name": "stdout",
     "output_type": "stream",
     "text": [
      "1.0986122886681098\n",
      "20.085536923187668\n"
     ]
    }
   ],
   "source": [
    "from math import log, exp\n",
    "print (log(3))\n",
    "print (exp(3))"
   ]
  },
  {
   "cell_type": "markdown",
   "metadata": {},
   "source": [
    "Putting together what we have learned so far we can try to save the result of an expression in a variable (or even in the same variable we started with).\n",
    "As an example let's compute the interest rate $r$ that produces a return $R$ of about 11051.71 Euro when investing 10000 Euro for 2 years:\n",
    "\n",
    "$R = N\\mathrm{e}^{r\\tau} \\rightarrow r = \\frac{1}{\\tau} \\mathrm{log}(\\frac{R}{N})$"
   ]
  },
  {
   "cell_type": "code",
   "execution_count": 4,
   "metadata": {},
   "outputs": [
    {
     "name": "stdout",
     "output_type": "stream",
     "text": [
      "0.05000003706410832\n"
     ]
    }
   ],
   "source": [
    "rate = (1/2)*log(11051.71/10000)\n",
    "print (rate)"
   ]
  },
  {
   "cell_type": "markdown",
   "metadata": {},
   "source": [
    "### Indented blocks and the $\\tt{if/else}$ statement\n",
    "\n",
    "Unlike other languages which uses parenthesis to isolate blocks of code Python uses indentation. A first example of this is given by the `if/then` statements where based on some condition we can run different part of the code."
   ]
  },
  {
   "cell_type": "code",
   "execution_count": 37,
   "metadata": {},
   "outputs": [
    {
     "name": "stdout",
     "output_type": "stream",
     "text": [
      "This *will* be printed\n"
     ]
    }
   ],
   "source": [
    "# remember x value is 13 now\n",
    "if x == 1: \n",
    "    print (\"This will not be printed\") \n",
    "    # the block of code that is run if the first condition is met is indented\n",
    "elif x == 15:\n",
    "    print (\"This will not be printed either\")\n",
    "    # again the block of code that is run here is indented to be \"isolated\" by the rest \n",
    "else:\n",
    "    print (\"This *will* be printed\")"
   ]
  },
  {
   "cell_type": "code",
   "execution_count": 38,
   "metadata": {},
   "outputs": [
    {
     "ename": "IndentationError",
     "evalue": "expected an indented block (<ipython-input-38-4535a45a6419>, line 3)",
     "output_type": "error",
     "traceback": [
      "\u001b[0;36m  File \u001b[0;32m\"<ipython-input-38-4535a45a6419>\"\u001b[0;36m, line \u001b[0;32m3\u001b[0m\n\u001b[0;31m    print (\"This will not be printed\")\u001b[0m\n\u001b[0m        ^\u001b[0m\n\u001b[0;31mIndentationError\u001b[0m\u001b[0;31m:\u001b[0m expected an indented block\n"
     ]
    }
   ],
   "source": [
    "# if by mistake I forget to indent some block I get an error\n",
    "if x == 1: \n",
    "print (\"This will not be printed\")\n",
    "elif x == 15:\n",
    "    print (\"This will not be printed either\")\n",
    "else:\n",
    "    print (\"This *will* be printed\")"
   ]
  },
  {
   "cell_type": "markdown",
   "metadata": {},
   "source": [
    "### Loops\n",
    "\n",
    "Another very import feature of a language is the loop that allows to repeat the same block of code many times. In Python loops can be coded with `for` or `while` keywords.\n",
    "\n",
    "#### `for` Loop"
   ]
  },
  {
   "cell_type": "code",
   "execution_count": 2,
   "metadata": {},
   "outputs": [
    {
     "name": "stdout",
     "output_type": "stream",
     "text": [
      "30\n",
      "29\n",
      "28\n",
      "27\n",
      "26\n"
     ]
    }
   ],
   "source": [
    "# the range keyword returns a \"list\" of integers \n",
    "# starting from first param to second param with\n",
    "# steps given by the last parameter\n",
    "for i in range(30, 25, -1):\n",
    "    print (i)"
   ]
  },
  {
   "cell_type": "code",
   "execution_count": 43,
   "metadata": {},
   "outputs": [
    {
     "name": "stdout",
     "output_type": "stream",
     "text": [
      "0\n",
      "1\n",
      "2\n",
      "3\n",
      "4\n",
      "6\n",
      "7\n",
      "8\n",
      "9\n"
     ]
    }
   ],
   "source": [
    "for i in range(10):\n",
    "    if i == 5:\n",
    "        continue # this line skips the current iteration, \n",
    "                 # 5 is actually missing from the output below\n",
    "    print (i)"
   ]
  },
  {
   "cell_type": "code",
   "execution_count": 44,
   "metadata": {},
   "outputs": [
    {
     "name": "stdout",
     "output_type": "stream",
     "text": [
      "4\n",
      "6\n",
      "10\n",
      "20\n"
     ]
    }
   ],
   "source": [
    "for i in (4, 6, 10, 20): # here we loop directly on a list of numbers\n",
    "    print (i)"
   ]
  },
  {
   "cell_type": "code",
   "execution_count": 45,
   "metadata": {},
   "outputs": [
    {
     "name": "stdout",
     "output_type": "stream",
     "text": [
      "h\n",
      "o\n",
      "w\n",
      " \n",
      "t\n",
      "o\n",
      " \n",
      "l\n",
      "o\n",
      "o\n",
      "p\n",
      " \n",
      "o\n",
      "v\n",
      "e\n",
      "r\n",
      " \n",
      "a\n",
      " \n",
      "s\n",
      "t\n",
      "r\n",
      "i\n",
      "n\n",
      "g\n"
     ]
    }
   ],
   "source": [
    "phrase = 'how to loop over a string'\n",
    "for c in phrase:\n",
    "    print (c)"
   ]
  },
  {
   "cell_type": "markdown",
   "metadata": {},
   "source": [
    "#### `while` Loop\n",
    "\n",
    "In a for loop we go through all the elements of a list of objects, the `while` statement instead repeats the same block of code until a condition is met."
   ]
  },
  {
   "cell_type": "code",
   "execution_count": 46,
   "metadata": {},
   "outputs": [
    {
     "name": "stdout",
     "output_type": "stream",
     "text": [
      "1\n",
      "2\n",
      "3\n",
      "4\n",
      "5\n",
      "6\n",
      "7\n"
     ]
    }
   ],
   "source": [
    "x = 1\n",
    "while x ** 2 < 50: # the following block of code is run if x squared is <50\n",
    "    print (x)\n",
    "    x += 1 # each time we increment by 1 the variable x"
   ]
  },
  {
   "cell_type": "markdown",
   "metadata": {},
   "source": [
    "It is possible to exit prematurely from a while loop using the `break` keyword."
   ]
  },
  {
   "cell_type": "code",
   "execution_count": 47,
   "metadata": {},
   "outputs": [
    {
     "name": "stdout",
     "output_type": "stream",
     "text": [
      "1\n",
      "2\n",
      "3\n",
      "4\n",
      "5\n",
      "6\n",
      "7\n"
     ]
    }
   ],
   "source": [
    "x = 1\n",
    "while True: # True is always true :-) so this would run forever\n",
    "    if (x ** 2 > 50): \n",
    "        break # this line exit from the while loop\n",
    "    print (x)\n",
    "    x += 1 "
   ]
  },
  {
   "cell_type": "markdown",
   "metadata": {},
   "source": [
    "### Lists\n",
    "\n",
    "A list in `python` is a container that is a *mutable*, ordered sequence of elements. Each element or value that is inside of a list is called an item. Each item can be accessed using squared brackets (list indexing is zero-based). It is considered mutable since you can add, remove or update the items in the list. Ordered instead means that items are kept in the same order they have been added to the list."
   ]
  },
  {
   "cell_type": "code",
   "execution_count": 48,
   "metadata": {},
   "outputs": [
    {
     "data": {
      "text/plain": [
       "[21, 32, 15]"
      ]
     },
     "execution_count": 48,
     "metadata": {},
     "output_type": "execute_result"
    }
   ],
   "source": [
    "mylist = [21, 32, 15]\n",
    "mylist"
   ]
  },
  {
   "cell_type": "code",
   "execution_count": 51,
   "metadata": {},
   "outputs": [
    {
     "data": {
      "text/plain": [
       "3"
      ]
     },
     "execution_count": 51,
     "metadata": {},
     "output_type": "execute_result"
    }
   ],
   "source": [
    "len(mylist) # len() returns the number of items in a list"
   ]
  },
  {
   "cell_type": "code",
   "execution_count": 52,
   "metadata": {},
   "outputs": [
    {
     "data": {
      "text/plain": [
       "21"
      ]
     },
     "execution_count": 52,
     "metadata": {},
     "output_type": "execute_result"
    }
   ],
   "source": [
    "mylist[0] # accessing an item by index,remember the first item is element 0"
   ]
  },
  {
   "cell_type": "code",
   "execution_count": 53,
   "metadata": {},
   "outputs": [
    {
     "data": {
      "text/plain": [
       "[21, 74, 15]"
      ]
     },
     "execution_count": 53,
     "metadata": {},
     "output_type": "execute_result"
    }
   ],
   "source": [
    "mylist[1] = 74 # we can change list items since it's *mutable*\n",
    "mylist"
   ]
  },
  {
   "cell_type": "code",
   "execution_count": 54,
   "metadata": {},
   "outputs": [
    {
     "ename": "IndexError",
     "evalue": "list index out of range",
     "output_type": "error",
     "traceback": [
      "\u001b[0;31m---------------------------------------------------------------------------\u001b[0m",
      "\u001b[0;31mIndexError\u001b[0m                                Traceback (most recent call last)",
      "\u001b[0;32m<ipython-input-54-3a32eb4a7169>\u001b[0m in \u001b[0;36m<module>\u001b[0;34m()\u001b[0m\n\u001b[0;32m----> 1\u001b[0;31m \u001b[0mmylist\u001b[0m\u001b[0;34m[\u001b[0m\u001b[0;36m3\u001b[0m\u001b[0;34m]\u001b[0m \u001b[0;31m# error ! it doesn't exists, the list has only 3\u001b[0m\u001b[0;34m\u001b[0m\u001b[0;34m\u001b[0m\u001b[0m\n\u001b[0m\u001b[1;32m      2\u001b[0m           \u001b[0;31m# elements, so the last is item 2\u001b[0m\u001b[0;34m\u001b[0m\u001b[0;34m\u001b[0m\u001b[0;34m\u001b[0m\u001b[0m\n",
      "\u001b[0;31mIndexError\u001b[0m: list index out of range"
     ]
    }
   ],
   "source": [
    "mylist[3] # error ! it doesn't exists, the list has only 3 \n",
    "          # elements, so the last is item 2"
   ]
  },
  {
   "cell_type": "code",
   "execution_count": 55,
   "metadata": {},
   "outputs": [
    {
     "data": {
      "text/plain": [
       "15"
      ]
     },
     "execution_count": 55,
     "metadata": {},
     "output_type": "execute_result"
    }
   ],
   "source": [
    "mylist[-1] # negative index starts from the last element"
   ]
  },
  {
   "cell_type": "code",
   "execution_count": 56,
   "metadata": {},
   "outputs": [
    {
     "data": {
      "text/plain": [
       "[74, 15]"
      ]
     },
     "execution_count": 56,
     "metadata": {},
     "output_type": "execute_result"
    }
   ],
   "source": [
    "mylist[1:] # : is called slice, all items starting from the second \n",
    "           # (remember indexing starts from 0)"
   ]
  },
  {
   "cell_type": "code",
   "execution_count": 57,
   "metadata": {},
   "outputs": [
    {
     "data": {
      "text/plain": [
       "[21, 74]"
      ]
     },
     "execution_count": 57,
     "metadata": {},
     "output_type": "execute_result"
    }
   ],
   "source": [
    "mylist[:2] # elements up to but excluding item 2"
   ]
  },
  {
   "cell_type": "code",
   "execution_count": 3,
   "metadata": {},
   "outputs": [
    {
     "ename": "NameError",
     "evalue": "name 'mylist' is not defined",
     "output_type": "error",
     "traceback": [
      "\u001b[0;31m---------------------------------------------------------------------------\u001b[0m",
      "\u001b[0;31mNameError\u001b[0m                                 Traceback (most recent call last)",
      "\u001b[0;32m<ipython-input-3-fa1fd3ef9cd1>\u001b[0m in \u001b[0;36m<module>\u001b[0;34m\u001b[0m\n\u001b[1;32m      1\u001b[0m \u001b[0;31m# the following two loops are equivalent\u001b[0m\u001b[0;34m\u001b[0m\u001b[0;34m\u001b[0m\u001b[0m\n\u001b[0;32m----> 2\u001b[0;31m \u001b[0;32mfor\u001b[0m \u001b[0mi\u001b[0m \u001b[0;32min\u001b[0m \u001b[0mrange\u001b[0m\u001b[0;34m(\u001b[0m\u001b[0mlen\u001b[0m\u001b[0;34m(\u001b[0m\u001b[0mmylist\u001b[0m\u001b[0;34m)\u001b[0m\u001b[0;34m)\u001b[0m\u001b[0;34m:\u001b[0m\u001b[0;34m\u001b[0m\u001b[0m\n\u001b[0m\u001b[1;32m      3\u001b[0m     \u001b[0mprint\u001b[0m \u001b[0;34m(\u001b[0m\u001b[0mmylist\u001b[0m\u001b[0;34m[\u001b[0m\u001b[0mi\u001b[0m\u001b[0;34m]\u001b[0m\u001b[0;34m)\u001b[0m\u001b[0;34m\u001b[0m\u001b[0m\n\u001b[1;32m      4\u001b[0m \u001b[0;34m\u001b[0m\u001b[0m\n\u001b[1;32m      5\u001b[0m \u001b[0;32mfor\u001b[0m \u001b[0ml\u001b[0m \u001b[0;32min\u001b[0m \u001b[0mmylist\u001b[0m\u001b[0;34m:\u001b[0m\u001b[0;34m\u001b[0m\u001b[0m\n",
      "\u001b[0;31mNameError\u001b[0m: name 'mylist' is not defined"
     ]
    }
   ],
   "source": [
    "# the following two loops are equivalent\n",
    "for i in range(len(mylist)): \n",
    "    print (mylist[i])\n",
    "    \n",
    "for l in mylist:\n",
    "    print (l)"
   ]
  },
  {
   "cell_type": "code",
   "execution_count": 61,
   "metadata": {},
   "outputs": [
    {
     "name": "stdout",
     "output_type": "stream",
     "text": [
      "0 21\n",
      "1 74\n",
      "2 85\n",
      "3 15\n",
      "4 188\n"
     ]
    }
   ],
   "source": [
    "for i, item in enumerate(mylist): # enumerate keyword iterates\n",
    "                                  # returning the item and its index\n",
    "    print (i, item)"
   ]
  },
  {
   "cell_type": "code",
   "execution_count": 58,
   "metadata": {},
   "outputs": [
    {
     "data": {
      "text/plain": [
       "[21, 74, 15, 188]"
      ]
     },
     "execution_count": 58,
     "metadata": {},
     "output_type": "execute_result"
    }
   ],
   "source": [
    "mylist.append(188) # append add an item at the end of the list\n",
    "mylist"
   ]
  },
  {
   "cell_type": "code",
   "execution_count": 59,
   "metadata": {},
   "outputs": [
    {
     "data": {
      "text/plain": [
       "[21, 74, 85, 15, 188]"
      ]
     },
     "execution_count": 59,
     "metadata": {},
     "output_type": "execute_result"
    }
   ],
   "source": [
    "mylist.insert(2, 85) # insert an item in the desired position \n",
    "                     # (2 in this example)\n",
    "mylist"
   ]
  },
  {
   "cell_type": "code",
   "execution_count": 71,
   "metadata": {},
   "outputs": [
    {
     "name": "stdout",
     "output_type": "stream",
     "text": [
      "[1, 2, 'b', <built-in function sqrt>]\n"
     ]
    }
   ],
   "source": [
    "# lists can be made of different kind of objects\n",
    "mixedlist = [1, 2, \"b\", math.sqrt]\n",
    "print (mixedlist)"
   ]
  },
  {
   "cell_type": "markdown",
   "metadata": {},
   "source": [
    "### Dictionaries\n",
    "\n",
    "Dictionaries are objects which map keys to values. Keys can be (almost) any kind of object (strings, numbers...) and they do not have to be sequential.\n",
    "\n",
    "$$\"apple\" \\rightarrow 4 $$\n",
    "$$\"banana\" \\rightarrow 5 $$\n",
    "\n",
    "Dictionaries are very flexible so that different keys can be different type of objects."
   ]
  },
  {
   "cell_type": "code",
   "execution_count": 73,
   "metadata": {},
   "outputs": [
    {
     "data": {
      "text/plain": [
       "4"
      ]
     },
     "execution_count": 73,
     "metadata": {},
     "output_type": "execute_result"
    }
   ],
   "source": [
    "adict = {\"apple\": 4, \"banana\": 5}\n",
    "adict[\"apple\"] # values are accessed through their key"
   ]
  },
  {
   "cell_type": "code",
   "execution_count": 74,
   "metadata": {},
   "outputs": [
    {
     "ename": "KeyError",
     "evalue": "'pear'",
     "output_type": "error",
     "traceback": [
      "\u001b[0;31m---------------------------------------------------------------------------\u001b[0m",
      "\u001b[0;31mKeyError\u001b[0m                                  Traceback (most recent call last)",
      "\u001b[0;32m<ipython-input-74-9d051ebd10de>\u001b[0m in \u001b[0;36m<module>\u001b[0;34m()\u001b[0m\n\u001b[0;32m----> 1\u001b[0;31m \u001b[0madict\u001b[0m\u001b[0;34m[\u001b[0m\u001b[0;34m\"pear\"\u001b[0m\u001b[0;34m]\u001b[0m \u001b[0;31m# error ! this key doesn't exists\u001b[0m\u001b[0;34m\u001b[0m\u001b[0;34m\u001b[0m\u001b[0m\n\u001b[0m",
      "\u001b[0;31mKeyError\u001b[0m: 'pear'"
     ]
    }
   ],
   "source": [
    "adict[\"pear\"] # error ! this key doesn't exists"
   ]
  },
  {
   "cell_type": "code",
   "execution_count": 75,
   "metadata": {},
   "outputs": [
    {
     "data": {
      "text/plain": [
       "False"
      ]
     },
     "execution_count": 75,
     "metadata": {},
     "output_type": "execute_result"
    }
   ],
   "source": [
    "\"pear\" in adict # indeed"
   ]
  },
  {
   "cell_type": "code",
   "execution_count": 76,
   "metadata": {},
   "outputs": [
    {
     "data": {
      "text/plain": [
       "2"
      ]
     },
     "execution_count": 76,
     "metadata": {},
     "output_type": "execute_result"
    }
   ],
   "source": [
    "len(adict)"
   ]
  },
  {
   "cell_type": "code",
   "execution_count": 77,
   "metadata": {},
   "outputs": [
    {
     "name": "stdout",
     "output_type": "stream",
     "text": [
      "2\n",
      "{'apple': 4, 'banana': 2}\n"
     ]
    }
   ],
   "source": [
    "adict[\"banana\"] = 2\n",
    "print (len(adict))\n",
    "print (adict)"
   ]
  },
  {
   "cell_type": "code",
   "execution_count": 78,
   "metadata": {},
   "outputs": [],
   "source": [
    "adict[math.log] = math.exp"
   ]
  },
  {
   "cell_type": "code",
   "execution_count": 79,
   "metadata": {},
   "outputs": [
    {
     "data": {
      "text/plain": [
       "dict_keys(['apple', 'banana', <built-in function log>])"
      ]
     },
     "execution_count": 79,
     "metadata": {},
     "output_type": "execute_result"
    }
   ],
   "source": [
    "adict.keys() # returns all the keys"
   ]
  },
  {
   "cell_type": "code",
   "execution_count": 80,
   "metadata": {},
   "outputs": [
    {
     "name": "stdout",
     "output_type": "stream",
     "text": [
      "apple\n",
      "banana\n",
      "<built-in function log>\n"
     ]
    }
   ],
   "source": [
    "for key in adict.keys():\n",
    "    print (key)"
   ]
  },
  {
   "cell_type": "code",
   "execution_count": 81,
   "metadata": {},
   "outputs": [
    {
     "name": "stdout",
     "output_type": "stream",
     "text": [
      "4\n",
      "2\n",
      "<built-in function exp>\n"
     ]
    }
   ],
   "source": [
    "for value in adict.values():\n",
    "    print (value)"
   ]
  },
  {
   "cell_type": "code",
   "execution_count": 82,
   "metadata": {},
   "outputs": [
    {
     "name": "stdout",
     "output_type": "stream",
     "text": [
      "('apple', 4)\n",
      "('banana', 2)\n",
      "(<built-in function log>, <built-in function exp>)\n"
     ]
    }
   ],
   "source": [
    "for item in adict.items(): # items() returns a pair of key, value\n",
    "    print (item)"
   ]
  },
  {
   "cell_type": "code",
   "execution_count": 83,
   "metadata": {},
   "outputs": [
    {
     "data": {
      "text/plain": [
       "{'apple': 4,\n",
       " 'banana': 2,\n",
       " <function math.log>: <function math.exp>,\n",
       " 'watermelon': 0,\n",
       " 'strawberry': 1}"
      ]
     },
     "execution_count": 83,
     "metadata": {},
     "output_type": "execute_result"
    }
   ],
   "source": [
    "seconddict = {\"watermelon\": 0, \"strawberry\": 1}\n",
    "adict.update(seconddict) # update adict with the items in seconddict\n",
    "adict"
   ]
  },
  {
   "cell_type": "markdown",
   "metadata": {},
   "source": [
    "## Exercises\n",
    "\n",
    "### Exercise 1.1\n",
    "\n",
    "* What is the built-in function that Python uses to iterate over a number sequence?\n",
    "* What is a string in Python?\n",
    "* What does the continue do in Python?\n",
    "* What is the purpose of end in Python?\n",
    "* When should you use the break in Python?\n",
    "* What is a dictionary in Python programming?\n",
    "* What is the use of the dictionary in Python?\n",
    "* How do you create a dictionary in Python?\n",
    "* How do you read from a dictionary in Python?\n",
    "* How do you traverse through a dictionary object in Python?\n",
    "* How do you add elements To a dictionary in Python?\n",
    "* How do you delete elements Of a dictionary in Python?\n",
    "* How do you check the presence of a key in a dictionary?\n",
    "* What is the syntax for list comprehension in Python?\n",
    "* What is the syntax for dictionary comprehension in Python?\n",
    "* How do you write a conditional expression in Python?\n",
    "* Which Python function will you use to convert a number to a string?\n"
   ]
  },
  {
   "cell_type": "markdown",
   "metadata": {},
   "source": [
    "# Advanced hints\n",
    "\n",
    "If you would like to know much **more** about python during the course without the EDX site you can look these videos during the course in your spare time:\n",
    "\n",
    "Some more information about different kind of languages:\n",
    "https://www.youtube.com/watch?v=9oYFH4OmYDY\n",
    "\n",
    "Basic data types:\n",
    "https://www.youtube.com/watch?v=XIjrEt2lz1U\n",
    "\n",
    "Variables:\n",
    "https://www.youtube.com/watch?v=z2NLjdfxEyQ\n",
    "\n",
    "Branching:\n",
    "https://www.youtube.com/watch?v=8vr3nyg5QcM\n",
    "\n",
    "Tuples:\n",
    "https://www.youtube.com/watch?v=CwZyWaap5Z8\n",
    "\n",
    "Lists:\n",
    "https://www.youtube.com/watch?v=eMyWO0tcxKg\n",
    "\n",
    "List Operations:\n",
    "https://www.youtube.com/watch?v=rQBho4-bI3o\n",
    "\n",
    "Mutation, Aliasing, Cloning:\n",
    "https://www.youtube.com/watch?v=2SRXg8Or-Pc\n",
    "\n",
    "Functions as Objects:\n",
    "https://www.youtube.com/watch?v=pheM3rVmGMU\n",
    "\n",
    "Dictionaries:\n",
    "https://www.youtube.com/watch?v=elSt5hke-Rs"
   ]
  }
 ],
 "metadata": {
  "kernelspec": {
   "display_name": "Python 3",
   "language": "python",
   "name": "python3"
  },
  "language_info": {
   "codemirror_mode": {
    "name": "ipython",
    "version": 3
   },
   "file_extension": ".py",
   "mimetype": "text/x-python",
   "name": "python",
   "nbconvert_exporter": "python",
   "pygments_lexer": "ipython3",
   "version": "3.6.3"
  }
 },
 "nbformat": 4,
 "nbformat_minor": 2
}
