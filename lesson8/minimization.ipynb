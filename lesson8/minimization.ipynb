{
 "cells": [
  {
   "cell_type": "markdown",
   "metadata": {},
   "source": [
    "# Minimization Example\n",
    "\n",
    "## How Minimization Works\n",
    "With a simple example I would like to clarify how the minimization algorithm works. This is essentially the same algorithm used in the *bootstrap* except it is applied to a simpler case.\n",
    "\n",
    "So let's assume we have a bunch of points and we want to detrmine the straight line that best fit to these points. \n",
    "These are the points:"
   ]
  },
  {
   "cell_type": "code",
   "execution_count": null,
   "metadata": {},
   "outputs": [],
   "source": [
    "from numpy.random import randn, seed\n",
    "from matplotlib import pyplot as plt\n",
    "\n",
    "def generate_points(m, q, sigma=10):\n",
    "    seed(1)\n",
    "    points = []\n",
    "    for i in range(100):\n",
    "        points.append(m*i + q + randn()*sigma)\n",
    "\n",
    "    return points\n",
    "\n",
    "x_points = range(100)\n",
    "y_points = generate_points(1.5, 10.0)\n",
    "plt.scatter(x_points, y_points, s=10)\n",
    "plt.xlim(-10, 110)\n",
    "plt.ylim(-10, 200)\n",
    "plt.show()"
   ]
  },
  {
   "cell_type": "markdown",
   "metadata": {},
   "source": [
    "As said we would like to detrmine the \"best\" line to this points with a minimization algorithm (i.e. to find the paramters that best fit). \n",
    "\n",
    "A straight line can be parametrize as follows:\n",
    "\n",
    "$$y=m\\cdot x + q\\;\\;\\;\\;\\;\\;\\;\\;\\textrm{$m$ is the angular coefficient, $q$ the offset}$$\n",
    "\n",
    "(In our example the points have been generated around a line with $m=1.5$ and $q=10$. So let's write a class that represents a straight line with this parametrization."
   ]
  },
  {
   "cell_type": "code",
   "execution_count": null,
   "metadata": {},
   "outputs": [],
   "source": [
    "class Line:\n",
    "    def __init__(self, m, q):\n",
    "        # the only two parameters are m and q\n",
    "        self.m = m\n",
    "        self.q = q\n",
    "\n",
    "    # this method is just to plot the line (returns Ys given Xs)\n",
    "    def plot(self, r):\n",
    "        points = []\n",
    "        for x in r:\n",
    "            points.append(self.m*x + self.q)\n",
    "\n",
    "        return points"
   ]
  },
  {
   "cell_type": "markdown",
   "metadata": {},
   "source": [
    "As in the *bootstrap* our goal is to find the best set of parameters ($m$ and $q$) according to some input data (our points). An important issue is to define a criteria that tells us how good is a set of parameters (and to finally find the best).\n",
    "\n",
    "In this case we define the best set the one that minimize *the sum of the squared distances of the line to each point*:\n",
    "\n",
    "$$\\sum_i^n{(y_i - m\\cdot x_i - q)^2}$$\n",
    "\n",
    "\n",
    "(in the bootstrap we use the fairness of the contracts, so we minimize the sum of the squared npvs, indeed fair implies npv=0). \n",
    "So we can define the *objective function*, the function that is actually minimized:"
   ]
  },
  {
   "cell_type": "code",
   "execution_count": null,
   "metadata": {},
   "outputs": [],
   "source": [
    "def obj_function(x):\n",
    "    line = Line(x[0], x[1])\n",
    "    \n",
    "    # here we compute the \"distance\" between line and points\n",
    "    sum = 0\n",
    "    for i, x in enumerate(x_points):\n",
    "        sum += (y_points[i] - line.m*x - line.q)**2\n",
    "    \n",
    "    return sum"
   ]
  },
  {
   "cell_type": "markdown",
   "metadata": {},
   "source": [
    "Finally we can run the minimization using `scipy.optimize.minimize`:"
   ]
  },
  {
   "cell_type": "code",
   "execution_count": null,
   "metadata": {},
   "outputs": [],
   "source": [
    "from scipy.optimize import minimize\n",
    "\n",
    "# set the initial guess m=0 and q=0\n",
    "x_guess = [0, 0]\n",
    "\n",
    "# set some limits for m and q\n",
    "bounds = [(-3, 3), (-10, 10)]\n",
    "\n",
    "# run the minimization\n",
    "result = minimize(obj_function, x_guess, bounds=bounds)\n",
    "\n",
    "print (result)"
   ]
  },
  {
   "cell_type": "markdown",
   "metadata": {},
   "source": [
    "As you can see we have found parameters pretty close to our simulation $m=1.53$ and $q=8.95$."
   ]
  },
  {
   "cell_type": "code",
   "execution_count": null,
   "metadata": {},
   "outputs": [],
   "source": [
    "plt.scatter(range(100), points, s=10)\n",
    "line = Line(result.x[0], result.x[1])\n",
    "plt.plot(xs, line.plot(xs), color=(1, 0, 0))\n",
    "plt.show()"
   ]
  },
  {
   "cell_type": "markdown",
   "metadata": {},
   "source": [
    "What actually does the minimization algorithm:\n",
    "\n",
    "* Starts with our initial guess of the parameters and compute the objective function value;\n",
    "* Move the parameters to reduce the value of the objective function;\n",
    "* Repeat above step until further changes of the parameters do not bring additional reduction of the objective function.\n",
    "\n",
    "Graphically we can check in this simple case what happened during the minimization plotting the points and the lines *tested* at the above step 2 during each iteration:\n",
    "\n",
    "![](all_fit.png)\n",
    "\n",
    "We can now compare side by side this example and the bootstrap of a `CreditCurve` or `DiscountCurve`.\n",
    "\n",
    "| |**Example**|**`CreditCurve`**|**`DiscountCurve`**|\n",
    "|-|-------|-------------|---------------|\n",
    "|**Inputs**|$X$ points, $Y$ points|maturity dates, market quotes CDS|maturity dates, market quotes OIS|\n",
    "|**Output**|$m,q$ of a line|surv. prob. relative to maturity dates|disc. factors relative to maturity dates|\n",
    "|**Objective Func.**|sum of squared distances line-points|sum of squared NPVs CDS|sum of squared NPVs OIS|\n"
   ]
  }
 ],
 "metadata": {
  "kernelspec": {
   "display_name": "Python 3",
   "language": "python",
   "name": "python3"
  },
  "language_info": {
   "codemirror_mode": {
    "name": "ipython",
    "version": 3
   },
   "file_extension": ".py",
   "mimetype": "text/x-python",
   "name": "python",
   "nbconvert_exporter": "python",
   "pygments_lexer": "ipython3",
   "version": "3.7.5rc1"
  }
 },
 "nbformat": 4,
 "nbformat_minor": 2
}
