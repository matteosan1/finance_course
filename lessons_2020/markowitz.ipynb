{
 "cells": [
  {
   "cell_type": "markdown",
   "metadata": {},
   "source": [
    "## Portfolio Optimization\n",
    "\n",
    "Portfolio optimization models are concerned with investment where there are typically two criteria: expected return and risk. The investor wants the former to be high and the latter to be low. \n",
    "\n",
    "There is a variety of measures of risk. The most popular measure of risk has been variance in return. Even though there are some problems with it, we will first look at it very closely.\n",
    "\n",
    "### The Markowitz Mean/Variance Portfolio Model\n",
    "The portfolio model, introduced by Markowitz, assumes an investor has two considerations when constructing an investment portfolio: expected return and variance in return (i.e., risk). Variance measures the variability in realized return around the expected return. \n",
    "\n",
    "The Markowitz model requires two major kinds of information: \n",
    "\n",
    "* the estimated expected return for each candidate investment;\n",
    "* the covariance matrix of returns. \n",
    "\n",
    "The covariance matrix characterizes not only the individual variability of the return on each investment, but also how each investment’s return tends to move with other investments. \n",
    "\n",
    "Part of the appeal of the Markowitz model is it can be solved by efficient quadratic programming methods. Quadratic programming is the name applied to the class of models in which the objective function is a quadratic function and the constraints are linear. Thus, the objective function is allowed to have terms that are products of two variables such as $x_i^2$ and $x_i\\cdot x_j$.\n",
    "\n",
    "### Example\n",
    "Throughout this lesson we will use real market data stored in [portfolio_data.csv](https://drive.google.com/file/d/1srCzNlKVY_LHRpkaKoUynnmI0KImfT6Y/view?usp=sharing).\n",
    "The sample includes, for each entry, a date and the corresponding closing price of five company stocks:"
   ]
  },
  {
   "cell_type": "code",
   "execution_count": 6,
   "metadata": {},
   "outputs": [
    {
     "name": "stdout",
     "output_type": "stream",
     "text": [
      "            adj_close                                \n",
      "ticker           AAPL    AMZN      FB GOOG       NFLX\n",
      "date                                                 \n",
      "2014-01-02  73.523423  397.97  54.710  NaN  51.831429\n",
      "2014-01-03  71.908415  396.44  54.557  NaN  51.871429\n",
      "2014-01-06  72.300536  393.63  57.200  NaN  51.367143\n",
      "2014-01-07  71.783135  398.03  57.920  NaN  48.500000\n",
      "2014-01-08  72.238063  401.92  58.230  NaN  48.712857\n"
     ]
    }
   ],
   "source": [
    "import pandas as pd\n",
    "\n",
    "temp = pd.read_csv(\"portfolio_data.csv\")\n",
    "clean = temp.set_index('date')\n",
    "df = clean.pivot(columns='ticker')\n",
    "\n",
    "print (df.head())"
   ]
  },
  {
   "cell_type": "markdown",
   "metadata": {},
   "source": [
    "<img src=\"portfolio_sample.png\">"
   ]
  },
  {
   "cell_type": "markdown",
   "metadata": {},
   "source": [
    "With $\\tt{pandas}$ the main characteristics of these time series can be easily computed (e.g. daily returns, covariance matrix):"
   ]
  },
  {
   "cell_type": "code",
   "execution_count": 25,
   "metadata": {},
   "outputs": [
    {
     "name": "stdout",
     "output_type": "stream",
     "text": [
      "           ticker\n",
      "adj_close  AAPL      0.222314\n",
      "           AMZN      0.357435\n",
      "           FB        0.281059\n",
      "           GOOG      0.172818\n",
      "           NFLX      0.505967\n",
      "dtype: float64\n"
     ]
    }
   ],
   "source": [
    "# returns\n",
    "daily_returns = df.pct_change()\n",
    "returns = daily_returns.mean()*252\n",
    "print (returns)"
   ]
  },
  {
   "cell_type": "code",
   "execution_count": 16,
   "metadata": {},
   "outputs": [
    {
     "name": "stdout",
     "output_type": "stream",
     "text": [
      "                 adj_close                                        \n",
      "ticker                AAPL      AMZN        FB      GOOG      NFLX\n",
      "          ticker                                                  \n",
      "adj_close AAPL    0.052137  0.023737  0.024878  0.022454  0.025640\n",
      "          AMZN    0.023737  0.087651  0.042694  0.039501  0.047044\n",
      "          FB      0.024878  0.042694  0.078060  0.036127  0.043811\n",
      "          GOOG    0.022454  0.039501  0.036127  0.051797  0.040390\n",
      "          NFLX    0.025640  0.047044  0.043811  0.040390  0.180858\n"
     ]
    }
   ],
   "source": [
    "# covariance\n",
    "covariance = daily_returns.cov()*252\n",
    "print (covariance)"
   ]
  },
  {
   "cell_type": "markdown",
   "metadata": {},
   "source": [
    "The correlation matrix makes it more obvious how two random variables move together. \n",
    "\n",
    "The correlation between two random variables equals the covariance between the two variables, divided by the product of the standard deviations of the two random variables. \n",
    "The correlation can be between -1 and +1 with +1 (-1) being perfect correlation (anticorrelation) between the two.\n",
    "\n",
    "In our sample correlations are rather small and all the stocks are positively correlated."
   ]
  },
  {
   "cell_type": "markdown",
   "metadata": {},
   "source": [
    "We indicate with $w_i$ the relative amount of component $i$ within the portfolio (weight). \n",
    "\n",
    "Simulating a large number of set of weights to construct portfolios with the five stocks shown before, we can see which is the distribution of these portfolios in terms of return and volatility."
   ]
  },
  {
   "cell_type": "markdown",
   "metadata": {},
   "source": [
    "<img src=\"return_variance.png\" width=500>"
   ]
  },
  {
   "cell_type": "markdown",
   "metadata": {},
   "source": [
    "### Optimization\n",
    "\n",
    "Markowitz model states that the weights $w_i$ should be choosen such that the portfolio has the minimum volatility (variance). So the application of Markovitz model reduces to an optimization problem\n",
    "\n",
    "$$ w = \\textrm{min}(\\sigma_P^2) $$\n",
    "\n",
    "with the constraint $\\sum_{i}w_i = 1$ and $0 \\le w_i \\le 1$.\n",
    "\n",
    "With have already seen how to solve minimization problems in $\\tt{python}$ so we just need to repeat the usual steps seen before."
   ]
  },
  {
   "cell_type": "code",
   "execution_count": 29,
   "metadata": {
    "scrolled": true
   },
   "outputs": [
    {
     "name": "stdout",
     "output_type": "stream",
     "text": [
      "     fun: 0.18996519187658553\n",
      "     jac: array([0.19007478, 0.19040664, 0.18950935, 0.1898793 , 0.18995349])\n",
      " message: 'Optimization terminated successfully.'\n",
      "    nfev: 63\n",
      "     nit: 9\n",
      "    njev: 9\n",
      "  status: 0\n",
      " success: True\n",
      "       x: array([0.44735955, 0.06873074, 0.10429827, 0.36908076, 0.01053068])\n"
     ]
    }
   ],
   "source": [
    "import numpy as np\n",
    "from scipy.optimize import minimize\n",
    "\n",
    "def sum_weights(w): \n",
    "    return np.sum(w) - 1\n",
    "\n",
    "def markowitz(w, cov):\n",
    "    return np.sqrt(np.dot(w.T, np.dot(cov, w)))\n",
    "\n",
    "num_assets = 5\n",
    "constraints = ({'type': 'eq', 'fun': sum_weights},) \n",
    "bounds = tuple((0, 1) for asset in range(numAssets))\n",
    "weights = [1./num_assets for _ in range(num_assets)]\n",
    "\n",
    "opts = minimize(markowitz, weights, args=(covariance,),\n",
    "                bounds=bounds, constraints=constraints)\n",
    "print (opts)"
   ]
  },
  {
   "cell_type": "code",
   "execution_count": 30,
   "metadata": {},
   "outputs": [
    {
     "name": "stdout",
     "output_type": "stream",
     "text": [
      "Expected portfolio return: 0.222\n"
     ]
    }
   ],
   "source": [
    "print (\"Expected portfolio return: {:.3f}\".format(np.dot(opts.x, returns)))"
   ]
  },
  {
   "cell_type": "markdown",
   "metadata": {},
   "source": [
    "The solution recommends about 44% of the portfolio be invested in AAPL, about 7% in AMZN, 10% in FB and so on. . . \n",
    "The expected return is about 22%, with a variance of about 0.036 or,\n",
    "equivalently, a standard deviation of 0.19.\n",
    "\n",
    "In this example we based the model simply on straightforward statistical data derived from daily returns. However it could be possible, rather than use historical data for estimating the\n",
    "expected return of an asset, to base this estimate on more current, proprietary information about expected future performance of the asset."
   ]
  },
  {
   "cell_type": "markdown",
   "metadata": {},
   "source": [
    "### Efficient Frontier and Parametric Analysis\n",
    "There is no precise way for an investor to determine the “correct” tradeoff between risk and return.\n",
    "Thus, one is frequently interested in looking at the tradeoff between the two. \n",
    "\n",
    "If an investor wants a higher expected return, she generally has to “pay for it” with higher risk. In finance terminology, we\n",
    "would like to trace out the **efficient frontier** of return and risk. \n",
    "\n",
    "To determine it we need to solve for the minimum variance\n",
    "portfolio over a range of values for the expected return."
   ]
  },
  {
   "cell_type": "code",
   "execution_count": 39,
   "metadata": {},
   "outputs": [
    {
     "ename": "ValueError",
     "evalue": "operands could not be broadcast together with shapes (5,) (6,) ",
     "output_type": "error",
     "traceback": [
      "\u001b[0;31m---------------------------------------------------------------------------\u001b[0m",
      "\u001b[0;31mValueError\u001b[0m                                Traceback (most recent call last)",
      "\u001b[0;32m<ipython-input-39-ebc5d8f4542a>\u001b[0m in \u001b[0;36m<module>\u001b[0;34m\u001b[0m\n\u001b[1;32m     12\u001b[0m     \u001b[0mweights\u001b[0m \u001b[0;34m=\u001b[0m \u001b[0;34m[\u001b[0m\u001b[0;36m1.\u001b[0m\u001b[0;34m/\u001b[0m\u001b[0mnum_assets\u001b[0m \u001b[0;32mfor\u001b[0m \u001b[0m_\u001b[0m \u001b[0;32min\u001b[0m \u001b[0mrange\u001b[0m\u001b[0;34m(\u001b[0m\u001b[0mnum_assets\u001b[0m\u001b[0;34m)\u001b[0m\u001b[0;34m]\u001b[0m\u001b[0;34m\u001b[0m\u001b[0m\n\u001b[1;32m     13\u001b[0m     opts = minimize(objective, weights, args=(covariance,),\n\u001b[0;32m---> 14\u001b[0;31m                     bounds=bounds, constraints=constraints) \n\u001b[0m\u001b[1;32m     15\u001b[0m \u001b[0;34m\u001b[0m\u001b[0m\n\u001b[1;32m     16\u001b[0m     results.append((np.sqrt(np.dot(opts.x.T, np.dot(covariance, opts.x))),\n",
      "\u001b[0;32m~/anaconda3/envs/.python3/lib/python3.6/site-packages/scipy/optimize/_minimize.py\u001b[0m in \u001b[0;36mminimize\u001b[0;34m(fun, x0, args, method, jac, hess, hessp, bounds, constraints, tol, callback, options)\u001b[0m\n\u001b[1;32m    607\u001b[0m     \u001b[0;32melif\u001b[0m \u001b[0mmeth\u001b[0m \u001b[0;34m==\u001b[0m \u001b[0;34m'slsqp'\u001b[0m\u001b[0;34m:\u001b[0m\u001b[0;34m\u001b[0m\u001b[0m\n\u001b[1;32m    608\u001b[0m         return _minimize_slsqp(fun, x0, args, jac, bounds,\n\u001b[0;32m--> 609\u001b[0;31m                                constraints, callback=callback, **options)\n\u001b[0m\u001b[1;32m    610\u001b[0m     \u001b[0;32melif\u001b[0m \u001b[0mmeth\u001b[0m \u001b[0;34m==\u001b[0m \u001b[0;34m'trust-constr'\u001b[0m\u001b[0;34m:\u001b[0m\u001b[0;34m\u001b[0m\u001b[0m\n\u001b[1;32m    611\u001b[0m         return _minimize_trustregion_constr(fun, x0, args, jac, hess, hessp,\n",
      "\u001b[0;32m~/anaconda3/envs/.python3/lib/python3.6/site-packages/scipy/optimize/slsqp.py\u001b[0m in \u001b[0;36m_minimize_slsqp\u001b[0;34m(func, x0, args, jac, bounds, constraints, maxiter, ftol, iprint, disp, eps, callback, **unknown_options)\u001b[0m\n\u001b[1;32m    311\u001b[0m     \u001b[0;31m# meq, mieq: number of equality and inequality constraints\u001b[0m\u001b[0;34m\u001b[0m\u001b[0;34m\u001b[0m\u001b[0m\n\u001b[1;32m    312\u001b[0m     meq = sum(map(len, [atleast_1d(c['fun'](x, *c['args']))\n\u001b[0;32m--> 313\u001b[0;31m               for c in cons['eq']]))\n\u001b[0m\u001b[1;32m    314\u001b[0m     mieq = sum(map(len, [atleast_1d(c['fun'](x, *c['args']))\n\u001b[1;32m    315\u001b[0m                for c in cons['ineq']]))\n",
      "\u001b[0;32m~/anaconda3/envs/.python3/lib/python3.6/site-packages/scipy/optimize/slsqp.py\u001b[0m in \u001b[0;36m<listcomp>\u001b[0;34m(.0)\u001b[0m\n\u001b[1;32m    311\u001b[0m     \u001b[0;31m# meq, mieq: number of equality and inequality constraints\u001b[0m\u001b[0;34m\u001b[0m\u001b[0;34m\u001b[0m\u001b[0m\n\u001b[1;32m    312\u001b[0m     meq = sum(map(len, [atleast_1d(c['fun'](x, *c['args']))\n\u001b[0;32m--> 313\u001b[0;31m               for c in cons['eq']]))\n\u001b[0m\u001b[1;32m    314\u001b[0m     mieq = sum(map(len, [atleast_1d(c['fun'](x, *c['args']))\n\u001b[1;32m    315\u001b[0m                for c in cons['ineq']]))\n",
      "\u001b[0;32m<ipython-input-39-ebc5d8f4542a>\u001b[0m in \u001b[0;36mefficient_frontier\u001b[0;34m(w, asset_returns, target_return)\u001b[0m\n\u001b[1;32m      1\u001b[0m \u001b[0;32mdef\u001b[0m \u001b[0mefficient_frontier\u001b[0m\u001b[0;34m(\u001b[0m\u001b[0mw\u001b[0m\u001b[0;34m,\u001b[0m \u001b[0masset_returns\u001b[0m\u001b[0;34m,\u001b[0m \u001b[0mtarget_return\u001b[0m\u001b[0;34m)\u001b[0m\u001b[0;34m:\u001b[0m\u001b[0;34m\u001b[0m\u001b[0m\n\u001b[0;32m----> 2\u001b[0;31m     \u001b[0mportfolio_return\u001b[0m \u001b[0;34m=\u001b[0m \u001b[0mnp\u001b[0m\u001b[0;34m.\u001b[0m\u001b[0msum\u001b[0m\u001b[0;34m(\u001b[0m\u001b[0masset_returns\u001b[0m \u001b[0;34m*\u001b[0m \u001b[0mw\u001b[0m\u001b[0;34m)\u001b[0m\u001b[0;34m\u001b[0m\u001b[0m\n\u001b[0m\u001b[1;32m      3\u001b[0m     \u001b[0;32mreturn\u001b[0m \u001b[0;34m(\u001b[0m\u001b[0mportfolio_return\u001b[0m \u001b[0;34m-\u001b[0m \u001b[0mtarget_return\u001b[0m\u001b[0;34m)\u001b[0m\u001b[0;34m\u001b[0m\u001b[0m\n\u001b[1;32m      4\u001b[0m \u001b[0;34m\u001b[0m\u001b[0m\n\u001b[1;32m      5\u001b[0m \u001b[0mresults\u001b[0m \u001b[0;34m=\u001b[0m \u001b[0;34m[\u001b[0m\u001b[0;34m]\u001b[0m\u001b[0;34m\u001b[0m\u001b[0m\n",
      "\u001b[0;32m~/anaconda3/envs/.python3/lib/python3.6/site-packages/pandas/core/ops.py\u001b[0m in \u001b[0;36mwrapper\u001b[0;34m(left, right)\u001b[0m\n\u001b[1;32m   1581\u001b[0m             \u001b[0mrvalues\u001b[0m \u001b[0;34m=\u001b[0m \u001b[0mrvalues\u001b[0m\u001b[0;34m.\u001b[0m\u001b[0mvalues\u001b[0m\u001b[0;34m\u001b[0m\u001b[0m\n\u001b[1;32m   1582\u001b[0m \u001b[0;34m\u001b[0m\u001b[0m\n\u001b[0;32m-> 1583\u001b[0;31m         \u001b[0mresult\u001b[0m \u001b[0;34m=\u001b[0m \u001b[0msafe_na_op\u001b[0m\u001b[0;34m(\u001b[0m\u001b[0mlvalues\u001b[0m\u001b[0;34m,\u001b[0m \u001b[0mrvalues\u001b[0m\u001b[0;34m)\u001b[0m\u001b[0;34m\u001b[0m\u001b[0m\n\u001b[0m\u001b[1;32m   1584\u001b[0m         return construct_result(left, result,\n\u001b[1;32m   1585\u001b[0m                                 index=left.index, name=res_name, dtype=None)\n",
      "\u001b[0;32m~/anaconda3/envs/.python3/lib/python3.6/site-packages/pandas/core/ops.py\u001b[0m in \u001b[0;36msafe_na_op\u001b[0;34m(lvalues, rvalues)\u001b[0m\n\u001b[1;32m   1527\u001b[0m         \u001b[0;32mtry\u001b[0m\u001b[0;34m:\u001b[0m\u001b[0;34m\u001b[0m\u001b[0m\n\u001b[1;32m   1528\u001b[0m             \u001b[0;32mwith\u001b[0m \u001b[0mnp\u001b[0m\u001b[0;34m.\u001b[0m\u001b[0merrstate\u001b[0m\u001b[0;34m(\u001b[0m\u001b[0mall\u001b[0m\u001b[0;34m=\u001b[0m\u001b[0;34m'ignore'\u001b[0m\u001b[0;34m)\u001b[0m\u001b[0;34m:\u001b[0m\u001b[0;34m\u001b[0m\u001b[0m\n\u001b[0;32m-> 1529\u001b[0;31m                 \u001b[0;32mreturn\u001b[0m \u001b[0mna_op\u001b[0m\u001b[0;34m(\u001b[0m\u001b[0mlvalues\u001b[0m\u001b[0;34m,\u001b[0m \u001b[0mrvalues\u001b[0m\u001b[0;34m)\u001b[0m\u001b[0;34m\u001b[0m\u001b[0m\n\u001b[0m\u001b[1;32m   1530\u001b[0m         \u001b[0;32mexcept\u001b[0m \u001b[0mException\u001b[0m\u001b[0;34m:\u001b[0m\u001b[0;34m\u001b[0m\u001b[0m\n\u001b[1;32m   1531\u001b[0m             \u001b[0;32mif\u001b[0m \u001b[0mis_object_dtype\u001b[0m\u001b[0;34m(\u001b[0m\u001b[0mlvalues\u001b[0m\u001b[0;34m)\u001b[0m\u001b[0;34m:\u001b[0m\u001b[0;34m\u001b[0m\u001b[0m\n",
      "\u001b[0;32m~/anaconda3/envs/.python3/lib/python3.6/site-packages/pandas/core/ops.py\u001b[0m in \u001b[0;36mna_op\u001b[0;34m(x, y)\u001b[0m\n\u001b[1;32m   1503\u001b[0m         \u001b[0;32mimport\u001b[0m \u001b[0mpandas\u001b[0m\u001b[0;34m.\u001b[0m\u001b[0mcore\u001b[0m\u001b[0;34m.\u001b[0m\u001b[0mcomputation\u001b[0m\u001b[0;34m.\u001b[0m\u001b[0mexpressions\u001b[0m \u001b[0;32mas\u001b[0m \u001b[0mexpressions\u001b[0m\u001b[0;34m\u001b[0m\u001b[0m\n\u001b[1;32m   1504\u001b[0m         \u001b[0;32mtry\u001b[0m\u001b[0;34m:\u001b[0m\u001b[0;34m\u001b[0m\u001b[0m\n\u001b[0;32m-> 1505\u001b[0;31m             \u001b[0mresult\u001b[0m \u001b[0;34m=\u001b[0m \u001b[0mexpressions\u001b[0m\u001b[0;34m.\u001b[0m\u001b[0mevaluate\u001b[0m\u001b[0;34m(\u001b[0m\u001b[0mop\u001b[0m\u001b[0;34m,\u001b[0m \u001b[0mstr_rep\u001b[0m\u001b[0;34m,\u001b[0m \u001b[0mx\u001b[0m\u001b[0;34m,\u001b[0m \u001b[0my\u001b[0m\u001b[0;34m,\u001b[0m \u001b[0;34m**\u001b[0m\u001b[0meval_kwargs\u001b[0m\u001b[0;34m)\u001b[0m\u001b[0;34m\u001b[0m\u001b[0m\n\u001b[0m\u001b[1;32m   1506\u001b[0m         \u001b[0;32mexcept\u001b[0m \u001b[0mTypeError\u001b[0m\u001b[0;34m:\u001b[0m\u001b[0;34m\u001b[0m\u001b[0m\n\u001b[1;32m   1507\u001b[0m             \u001b[0mresult\u001b[0m \u001b[0;34m=\u001b[0m \u001b[0mmasked_arith_op\u001b[0m\u001b[0;34m(\u001b[0m\u001b[0mx\u001b[0m\u001b[0;34m,\u001b[0m \u001b[0my\u001b[0m\u001b[0;34m,\u001b[0m \u001b[0mop\u001b[0m\u001b[0;34m)\u001b[0m\u001b[0;34m\u001b[0m\u001b[0m\n",
      "\u001b[0;32m~/anaconda3/envs/.python3/lib/python3.6/site-packages/pandas/core/computation/expressions.py\u001b[0m in \u001b[0;36mevaluate\u001b[0;34m(op, op_str, a, b, use_numexpr, **eval_kwargs)\u001b[0m\n\u001b[1;32m    206\u001b[0m     \u001b[0muse_numexpr\u001b[0m \u001b[0;34m=\u001b[0m \u001b[0muse_numexpr\u001b[0m \u001b[0;32mand\u001b[0m \u001b[0m_bool_arith_check\u001b[0m\u001b[0;34m(\u001b[0m\u001b[0mop_str\u001b[0m\u001b[0;34m,\u001b[0m \u001b[0ma\u001b[0m\u001b[0;34m,\u001b[0m \u001b[0mb\u001b[0m\u001b[0;34m)\u001b[0m\u001b[0;34m\u001b[0m\u001b[0m\n\u001b[1;32m    207\u001b[0m     \u001b[0;32mif\u001b[0m \u001b[0muse_numexpr\u001b[0m\u001b[0;34m:\u001b[0m\u001b[0;34m\u001b[0m\u001b[0m\n\u001b[0;32m--> 208\u001b[0;31m         \u001b[0;32mreturn\u001b[0m \u001b[0m_evaluate\u001b[0m\u001b[0;34m(\u001b[0m\u001b[0mop\u001b[0m\u001b[0;34m,\u001b[0m \u001b[0mop_str\u001b[0m\u001b[0;34m,\u001b[0m \u001b[0ma\u001b[0m\u001b[0;34m,\u001b[0m \u001b[0mb\u001b[0m\u001b[0;34m,\u001b[0m \u001b[0;34m**\u001b[0m\u001b[0meval_kwargs\u001b[0m\u001b[0;34m)\u001b[0m\u001b[0;34m\u001b[0m\u001b[0m\n\u001b[0m\u001b[1;32m    209\u001b[0m     \u001b[0;32mreturn\u001b[0m \u001b[0m_evaluate_standard\u001b[0m\u001b[0;34m(\u001b[0m\u001b[0mop\u001b[0m\u001b[0;34m,\u001b[0m \u001b[0mop_str\u001b[0m\u001b[0;34m,\u001b[0m \u001b[0ma\u001b[0m\u001b[0;34m,\u001b[0m \u001b[0mb\u001b[0m\u001b[0;34m)\u001b[0m\u001b[0;34m\u001b[0m\u001b[0m\n\u001b[1;32m    210\u001b[0m \u001b[0;34m\u001b[0m\u001b[0m\n",
      "\u001b[0;32m~/anaconda3/envs/.python3/lib/python3.6/site-packages/pandas/core/computation/expressions.py\u001b[0m in \u001b[0;36m_evaluate_standard\u001b[0;34m(op, op_str, a, b, **eval_kwargs)\u001b[0m\n\u001b[1;32m     66\u001b[0m         \u001b[0m_store_test_result\u001b[0m\u001b[0;34m(\u001b[0m\u001b[0;32mFalse\u001b[0m\u001b[0;34m)\u001b[0m\u001b[0;34m\u001b[0m\u001b[0m\n\u001b[1;32m     67\u001b[0m     \u001b[0;32mwith\u001b[0m \u001b[0mnp\u001b[0m\u001b[0;34m.\u001b[0m\u001b[0merrstate\u001b[0m\u001b[0;34m(\u001b[0m\u001b[0mall\u001b[0m\u001b[0;34m=\u001b[0m\u001b[0;34m'ignore'\u001b[0m\u001b[0;34m)\u001b[0m\u001b[0;34m:\u001b[0m\u001b[0;34m\u001b[0m\u001b[0m\n\u001b[0;32m---> 68\u001b[0;31m         \u001b[0;32mreturn\u001b[0m \u001b[0mop\u001b[0m\u001b[0;34m(\u001b[0m\u001b[0ma\u001b[0m\u001b[0;34m,\u001b[0m \u001b[0mb\u001b[0m\u001b[0;34m)\u001b[0m\u001b[0;34m\u001b[0m\u001b[0m\n\u001b[0m\u001b[1;32m     69\u001b[0m \u001b[0;34m\u001b[0m\u001b[0m\n\u001b[1;32m     70\u001b[0m \u001b[0;34m\u001b[0m\u001b[0m\n",
      "\u001b[0;31mValueError\u001b[0m: operands could not be broadcast together with shapes (5,) (6,) "
     ]
    }
   ],
   "source": [
    "def efficient_frontier(w, asset_returns, target_return): \n",
    "    portfolio_return = np.sum(asset_returns * w) \n",
    "    return (portfolio_return - target_return)\n",
    "\n",
    "results = []\n",
    "bounds = tuple((0, 1) for asset in range(num_assets))\n",
    "    \n",
    "for eff in np.arange(0.20, 0.45, 0.005):\n",
    "    constraints = ({'type': 'eq', 'fun': efficient_frontier, \n",
    "                    'args':(returns, eff,)},\n",
    "                   {'type': 'eq', 'fun': sum_weights})\n",
    "    weights = [1./num_assets for _ in range(num_assets)]\n",
    "    opts = minimize(objective, weights, args=(covariance,),\n",
    "                    bounds=bounds, constraints=constraints) \n",
    "    \n",
    "    results.append((np.sqrt(np.dot(opts.x.T, np.dot(covariance, opts.x))),\n",
    "                    np.sum(returns*opts.x))) \n",
    "results = np.array(results)\n",
    "print (opts)"
   ]
  },
  {
   "cell_type": "markdown",
   "metadata": {},
   "source": [
    "<img src=\"efficient_frontier.png\">"
   ]
  },
  {
   "cell_type": "markdown",
   "metadata": {},
   "source": [
    "### Portfolios with a Risk-Free Asset\n",
    "When one of the asset of the portfolio is risk free, then the efficient frontier has a particularly simple form: a line. \n",
    "\n",
    "The slope of the this line measures the trade-off between risk and return. A higher slope means that investors receive a higher expected\n",
    "return in exchange for taking on more risk. \n",
    "\n",
    "The value of this calculation is known as the *Sharpe ratio*.\n",
    "\n",
    "The *capital allocation line* aids investors in choosing how much to invest in a risk-free asset and one or more risky assets.\n",
    "The simplest example is a portfolio containing two assets: one risk-free (e.g. treasury bill) and one risky (e.g. a stock).\n",
    "\n",
    "Assume that the expected return of the treasury bill is $\\mathbb{E}[R _f] = 3\\%$ and its risk is 0%. Further, assume that the expected return of the stock is $\\mathbb{E}[R_r] = 10\\%$ and its standard deviation is $\\sigma_r = 20\\%$. The question that needs to be answered for any individual investor is how much to invest in\n",
    "each of these assets.\n",
    "\n",
    "The expected return ($\\mathbb{E}[R_p]$) of this portfolio is calculated as follows:\n",
    "\n",
    "$$\\mathbb{E}[R_p] = \\mathbb{E}[R_f]\\cdot w_f + \\mathbb{E}[R_r] \\cdot ( 1 − w_f )$$\n",
    "where $w_f$ is the relative allocation to the risk-free asset.\n",
    "\n",
    "The calculation of risk for this portfolio is simple because the standard deviation of the treasury bill is 0%. Thus, risk is calculated as:\n",
    "\n",
    "$$\\sigma_p = ( 1 − w_f ) \\cdot \\sigma_r$$\n",
    "\n",
    "In this very simple example, if an investor were to invest 100% into the risk-free asset ($w_f = 1$),\n",
    "the expected return would be 3% and the risk of the portfolio would be 0%. Likewise, investing\n",
    "100% into the stock ($w_f = 0$) would give an investor an expected return of 10% and a portfolio risk\n",
    "of 20%. If the investor allocated 25% to the risk-free asset and 75% to the risky asset, the portfolio\n",
    "expected return and risk calculations would be:\n",
    "\n",
    "$$\\mathbb{E}[R_p] = ( 3\\% \\cdot 25\\% ) + ( 10\\% \\cdot 75\\% ) = 0.75\\% + 7.5\\% = 8.25\\%$$\n",
    "\n",
    "$$\\sigma_p = 75\\%\\cdot 20\\% = 15\\%$$\n",
    "\n",
    "Applying the same reasoning to our example we can consider an additional risk-free asset with an expected return of 10% and repeat the minimisation to determine the efficient frontier of\n",
    "the resulting portfolio. Notice how the objective function is still the same while the constraint on the target return now includes also the risk-free asset."
   ]
  },
  {
   "cell_type": "code",
   "execution_count": 40,
   "metadata": {},
   "outputs": [],
   "source": [
    "num_assets = 6\n",
    "    \n",
    "def markowitz_with_rf(w, cov):\n",
    "    return np.sqrt(np.dot(w[:-1].T, np.dot(cov, w[:-1])))\n",
    "\n",
    "def efficient_frontier_with_rf(w, asset_returns, target_return, \n",
    "                               risk_free): \n",
    "    portfolio_return = np.sum(asset_returns*w[:-1]) + (w[5]) * risk_free \n",
    "    return (portfolio_return - target_return)\n",
    "\n",
    "rf_asset_return = 0.10\n",
    "result_rf = []\n",
    "bounds = tuple((0, 1) for asset in range(num_assets))\n",
    "for eff in np.arange(0.10, 0.40, 0.01):\n",
    "    constraints = ({'type': 'eq', 'fun': efficient_frontier_with_rf, \n",
    "                    \"args\":(returns, eff, rf_asset_return)},\n",
    "                    {'type': 'eq', 'fun': sum_weights})\n",
    "    weights = [1./num_assets for _ in range(num_assets)]\n",
    "    opts = minimize(markowitz_with_rf, weights, \n",
    "                    args=(covariance),\n",
    "                    bounds=bounds, constraints=constraints)\n",
    "    result_rf.append((np.sqrt(np.dot(opts.x[:-1].T, np.dot(covariance, opts.x[:-1]))), \n",
    "                     np.sum(returns*opts.x[:-1])+opts.x[5]*rf_asset_return))\n",
    "result_rf = np.array(result_rf)"
   ]
  },
  {
   "cell_type": "markdown",
   "metadata": {},
   "source": [
    "<img src=\"cal.png\">"
   ]
  },
  {
   "cell_type": "markdown",
   "metadata": {},
   "source": [
    "The efficient frontier has become a straight line, tangent to the\n",
    "frontier of the risky assets only. \n",
    "\n",
    "When the target is 10% the entire investment is allocated to the\n",
    "risk-free asset, as the target increases the fraction of the risky assets grows proportionally to the volatility.\n",
    "It is important to notice that in general the relative proportions devoted to risky investments do not change. Only the allocation between the risk-free asset and the risky assets change."
   ]
  },
  {
   "cell_type": "markdown",
   "metadata": {},
   "source": [
    "### The Sharpe Ratio\n",
    "For some portfolio $p$, of risky assets, now excluding the risk-free asset, let:\n",
    "\n",
    "* $R_p$ its expected return;\n",
    "* $\\sigma_p$ its standard deviation in return;\n",
    "* $r_0$ the return of the risk-free asset.\n",
    "\n",
    "A plausible single measure (as opposed to the two measures, risk and return) of attractiveness of a portfolio $p$ is the *Sharpe ratio*:\n",
    "\n",
    "$$ (R_p - r_0 ) / \\sigma_p $$\n",
    "\n",
    "In words, it measures how much additional return we achieved for the additional risk we took on, relative to putting all our money in the risk-free asset.\n",
    "It happens the portfolio that maximizes this ratio has a certain well-defined appeal. Suppose:\n",
    "\n",
    "* $t$ our desired target return;\n",
    "* $w_p$ the fraction of our wealth we place in portfolio $p$ (the rest placed in the risk-free asset).\n",
    "\n",
    "To meet our return target, we must have:\n",
    "\n",
    "$$ ( 1 - w_p ) * r_0 + w_p * R_p = t $$\n",
    "\n",
    "The standard deviation of our total investment is: $w_p\\cdot \\sigma_p$.\n",
    "Solving for $w_p$ in the return constraint, we get:\n",
    "\n",
    "$$ w_p = \\cfrac{( t – r_0)}{( R_p – r_0)} $$\n",
    "\n",
    "Thus, the standard deviation of the portfolio is:\n",
    "\n",
    "$$ w_p\\cdot \\sigma_p = \\Big[\\cfrac{( t – r_0)}{(R_p – r_0)}\\Big]\\cdot \\sigma_p $$\n",
    "\n",
    "Minimizing the portfolio standard deviation means:\n",
    "\n",
    "$$ \\textrm{min}(\\Big[\\cfrac{( t – r_0)}{(R_p – r_0)}\\Big]\\cdot \\sigma_p)\\implies\\textrm{max}(\\cfrac{R_p – r_0}{\\sigma_p}) $$\n",
    "\n",
    "So, regardless of our risk/return preference, the money we invest in risky assets should be invested in the risky portfolio that maximizes the Sharpe ratio."
   ]
  },
  {
   "cell_type": "code",
   "execution_count": 42,
   "metadata": {},
   "outputs": [
    {
     "name": "stdout",
     "output_type": "stream",
     "text": [
      "     fun: -1.1137235916752375\n",
      "     jac: array([-0.38326509, -0.38249907, -0.38293739, -0.05415305, -0.38397324])\n",
      " message: 'Optimization terminated successfully.'\n",
      "    nfev: 49\n",
      "     nit: 7\n",
      "    njev: 7\n",
      "  status: 0\n",
      " success: True\n",
      "       x: array([0.14534034, 0.41720748, 0.0539508 , 0.        , 0.38350138])\n"
     ]
    }
   ],
   "source": [
    "num_assets = 5\n",
    "rf_asset_return = 0.10\n",
    "\n",
    "def negativeSharpeRatio(w, asset_returns, rf_asset_return, cov): \n",
    "    p_ret = np.sum(asset_returns*w)\n",
    "    p_var = np.sqrt(np.dot(w.T, np.dot(cov, w)))\n",
    "    ratio = -(p_ret - rf_asset_return) / p_var\n",
    "    return ratio\n",
    "\n",
    "constraints = ({'type': 'eq', 'fun': sumWeights})\n",
    "bounds = tuple((0, 1) for asset in range(numAssets))\n",
    "weights = [1./num_assets for _ in range(num_assets)]\n",
    "opts = minimize(negativeSharpeRatio, weights, \n",
    "                args=(returns, rf_asset_return, covariance),\n",
    "                bounds=bounds, constraints=constraints)\n",
    "print (opts)"
   ]
  },
  {
   "cell_type": "code",
   "execution_count": 43,
   "metadata": {},
   "outputs": [
    {
     "name": "stdout",
     "output_type": "stream",
     "text": [
      "Sharpe ratio:  1.1137235916752375\n"
     ]
    }
   ],
   "source": [
    "print (\"Sharpe ratio: \", -opts.fun)"
   ]
  },
  {
   "cell_type": "markdown",
   "metadata": {},
   "source": [
    "<img src=\"sharpe_ratio.png\">"
   ]
  },
  {
   "cell_type": "markdown",
   "metadata": {},
   "source": [
    "### Criticisms to Markowitz Model\n",
    "\n"
   ]
  },
  {
   "cell_type": "markdown",
   "metadata": {},
   "source": [
    "## Risk Parity Portfolio\n",
    "\n",
    "A risk parity portfolio is an investment allocation strategy which focuses on the allocation of risk, rather than the allocation of capital. For example, a typical 40% bond 60% equity portfolio has a significant risk in equity. A risk parity (equal risk) portfolio is a portfolio, whose individual assets, in this case equity and bond, have equal risk contribution to the total portfolio risk. The allocation strategy has gained popularity in the last decades. It is believed that this allocation strategy provides better risk adjusted return than capital based allocation strategies.\n",
    "\n",
    "Let's go over a very basic example of what risk parity is and how to construct a simple risk parity (equal risk) portfolio and extend it to a risk budgeting portfolio (target risk allocation).\n",
    "\n",
    "First define the marginal risk contribution as:\n",
    "\n",
    "$$ \\textrm{MRC}_j = \\cfrac{\\partial{\\sigma_p}}{\\partial{w_j}} = \\cfrac{(\\mathbf{V}\\cdot \\mathbf{w})_j}{\\sigma_p} $$\n",
    "\n",
    "where $w_j$ is the weight of the j-th asset and $\\sigma_p = \\sqrt{\\mathbf{w}\\mathbf{V}\\mathbf{w^{T}}} $.\n",
    "\n",
    "Then, the risk contribution of asset $j$ to the total portfolio is:\n",
    "\n",
    "$$ \\textrm{RC}_j =  \\mathbf{w}\\cdot\\textrm{MRC}_j = w_j \\cfrac{(\\mathbf{V}\\cdot \\mathbf{w})_j}{\\sigma_p} $$\n",
    "\n",
    "As said a risk parity portfolio is a portfolio which RC are equal across all individual assets.\n",
    "For example, going back to the previous example and assuming we have an equal weight portfolio, it’s RC (in total portfolio risk \\%) is:"
   ]
  },
  {
   "cell_type": "code",
   "execution_count": null,
   "metadata": {},
   "outputs": [],
   "source": []
  },
  {
   "cell_type": "markdown",
   "metadata": {},
   "source": [
    "To compute the weight of a risk parity portfolio, we could use again the optimise function from \\texttt{python}, where our objective function is the sum of squared error of a portfolio assets RC:\n",
    "\n",
    "$$ J = \\sum_{i=1}^{n}\\sum_{j=1}^{n}((w_i V_i w_i) - (w_j V_j w_j))^{2} $$\n",
    "\n",
    "So we need to find $\\textrm{min}(J)$ with the constraint $\\sum_{i} w_i = 1$ and $0 \\le w_i \\le 1$."
   ]
  },
  {
   "cell_type": "code",
   "execution_count": 9,
   "metadata": {},
   "outputs": [
    {
     "name": "stdout",
     "output_type": "stream",
     "text": [
      "Optimization terminated successfully.    (Exit mode 0)\n",
      "            Current function value: 1.437796531429956e-08\n",
      "            Iterations: 7\n",
      "            Function evaluations: 45\n",
      "            Gradient evaluations: 7\n",
      "[[0.16573021]\n",
      " [0.16586718]\n",
      " [0.16585805]\n",
      " [0.16575904]]\n"
     ]
    }
   ],
   "source": [
    "import numpy as np\n",
    "from matplotlib import pyplot as plt\n",
    "from numpy.linalg import inv,pinv\n",
    "from scipy.optimize import minimize\n",
    "\n",
    " # risk budgeting optimization\n",
    "def calculate_portfolio_var(w,V):\n",
    "    # function that calculates portfolio risk\n",
    "    w = np.matrix(w)\n",
    "    return (w*V*w.T)[0,0]\n",
    "\n",
    "def calculate_risk_contribution(w,V):\n",
    "    # function that calculates asset contribution to total risk\n",
    "    w = np.matrix(w)\n",
    "    sigma = np.sqrt(calculate_portfolio_var(w,V))\n",
    "    # Marginal Risk Contribution\n",
    "    MRC = V*w.T\n",
    "    # Risk Contribution\n",
    "    RC = np.multiply(MRC,w.T)/sigma\n",
    "    return RC\n",
    "\n",
    "def risk_budget_objective(x,pars):\n",
    "    # calculate portfolio risk\n",
    "    V = pars[0]# covariance table\n",
    "    x_t = pars[1] # risk target in percent of portfolio risk\n",
    "    sig_p =  np.sqrt(calculate_portfolio_var(x,V)) # portfolio sigma\n",
    "    risk_target = np.asmatrix(np.multiply(sig_p,x_t))\n",
    "    asset_RC = calculate_risk_contribution(x,V)\n",
    "    J = sum(np.square(asset_RC-risk_target.T))[0,0] # sum of squared error\n",
    "    return J\n",
    "\n",
    "def total_weight_constraint(x):\n",
    "    return np.sum(x)-1.0\n",
    "\n",
    "def long_only_constraint(x):\n",
    "    return x\n",
    "\n",
    "V = np.matrix('123 37.5 70 30; 37.5 122 72 13.5; 70 72 321 -32; 30 13.5 -32 52')/100\n",
    "\n",
    "w0 = [0.3, 0.3, 0.3, 0.1]\n",
    "x_t = [0.25, 0.25, 0.25, 0.25] # your risk budget percent of total portfolio risk (equal risk)\n",
    "cons = ({'type': 'eq', 'fun': total_weight_constraint},\n",
    "        {'type': 'ineq', 'fun': long_only_constraint})\n",
    "res = minimize(risk_budget_objective, w0, args=[V,x_t], method='SLSQP',constraints=cons, options={'disp': True})\n",
    "w_rb = np.asmatrix(res.x)\n",
    "\n",
    "print (calculate_risk_contribution(res.x, V))\n",
    "\n"
   ]
  },
  {
   "cell_type": "markdown",
   "metadata": {},
   "source": [
    "The very same functions can be used to calculate any risk budget allocation since it actually uses:\n",
    "\n",
    "$$ J = \\sum_{i=1}^{n}((w_i V_i w_i) - \\mathbf{w_{target}}\\cdot\\sqrt{\\mathbf{wVw^{T}}} $$\n",
    "\n",
    "and it can be modified by setting up a target risk allocation for each asset then minimise the objective function of squared errors."
   ]
  },
  {
   "cell_type": "code",
   "execution_count": 9,
   "metadata": {},
   "outputs": [
    {
     "ename": "NameError",
     "evalue": "name 'minimize' is not defined",
     "output_type": "error",
     "traceback": [
      "\u001b[0;31m---------------------------------------------------------------------------\u001b[0m",
      "\u001b[0;31mNameError\u001b[0m                                 Traceback (most recent call last)",
      "\u001b[0;32m<ipython-input-9-b9eaf6e9d10c>\u001b[0m in \u001b[0;36m<module>\u001b[0;34m\u001b[0m\n\u001b[1;32m      1\u001b[0m \u001b[0mx_t\u001b[0m \u001b[0;34m=\u001b[0m \u001b[0;34m[\u001b[0m\u001b[0;36m0.3\u001b[0m\u001b[0;34m,\u001b[0m \u001b[0;36m0.3\u001b[0m\u001b[0;34m,\u001b[0m \u001b[0;36m0.3\u001b[0m\u001b[0;34m,\u001b[0m \u001b[0;36m0.1\u001b[0m\u001b[0;34m]\u001b[0m \u001b[0;31m# your risk budget percent of total portfolio risk (equal risk)\u001b[0m\u001b[0;34m\u001b[0m\u001b[0m\n\u001b[0;32m----> 2\u001b[0;31m \u001b[0mres\u001b[0m \u001b[0;34m=\u001b[0m \u001b[0mminimize\u001b[0m\u001b[0;34m(\u001b[0m\u001b[0mrisk_budget_objective\u001b[0m\u001b[0;34m,\u001b[0m \u001b[0mw0\u001b[0m\u001b[0;34m,\u001b[0m \u001b[0margs\u001b[0m\u001b[0;34m=\u001b[0m\u001b[0;34m[\u001b[0m\u001b[0mV\u001b[0m\u001b[0;34m,\u001b[0m\u001b[0mx_t\u001b[0m\u001b[0;34m]\u001b[0m\u001b[0;34m,\u001b[0m\u001b[0mconstraints\u001b[0m\u001b[0;34m=\u001b[0m\u001b[0mcons\u001b[0m\u001b[0;34m,\u001b[0m \u001b[0moptions\u001b[0m\u001b[0;34m=\u001b[0m\u001b[0;34m{\u001b[0m\u001b[0;34m'disp'\u001b[0m\u001b[0;34m:\u001b[0m \u001b[0;32mTrue\u001b[0m\u001b[0;34m}\u001b[0m\u001b[0;34m)\u001b[0m\u001b[0;34m\u001b[0m\u001b[0m\n\u001b[0m\u001b[1;32m      3\u001b[0m \u001b[0;31m#w_rb = np.asmatrix(res.x)\u001b[0m\u001b[0;34m\u001b[0m\u001b[0;34m\u001b[0m\u001b[0m\n\u001b[1;32m      4\u001b[0m \u001b[0;34m\u001b[0m\u001b[0m\n\u001b[1;32m      5\u001b[0m \u001b[0mvar\u001b[0m \u001b[0;34m=\u001b[0m \u001b[0msum\u001b[0m\u001b[0;34m(\u001b[0m\u001b[0mcalculate_risk_contribution\u001b[0m\u001b[0;34m(\u001b[0m\u001b[0mres\u001b[0m\u001b[0;34m.\u001b[0m\u001b[0mx\u001b[0m\u001b[0;34m,\u001b[0m \u001b[0mV\u001b[0m\u001b[0;34m)\u001b[0m\u001b[0;34m)\u001b[0m\u001b[0;34m\u001b[0m\u001b[0m\n",
      "\u001b[0;31mNameError\u001b[0m: name 'minimize' is not defined"
     ]
    }
   ],
   "source": [
    "x_t = [0.3, 0.3, 0.3, 0.1] # your risk budget percent of total portfolio risk (equal risk)\n",
    "res = minimize(risk_budget_objective, w0, args=[V,x_t],constraints=cons, options={'disp': True})\n",
    "#w_rb = np.asmatrix(res.x)\n",
    "\n",
    "var = sum(calculate_risk_contribution(res.x, V))\n",
    "print (calculate_risk_contribution(res.x, V)/var)"
   ]
  },
  {
   "cell_type": "code",
   "execution_count": 125,
   "metadata": {},
   "outputs": [
    {
     "name": "stdout",
     "output_type": "stream",
     "text": [
      "     fun: 4.346493043692613e-09\n",
      "     jac: array([-1.23266291e-03,  2.57970389e-04,  1.45282552e-04,  8.26707332e-06,\n",
      "        1.75063489e-03])\n",
      " message: 'Optimization terminated successfully.'\n",
      "    nfev: 39\n",
      "     nit: 5\n",
      "    njev: 5\n",
      "  status: 0\n",
      " success: True\n",
      "       x: array([0.26364018, 0.18110151, 0.19069323, 0.22253642, 0.14202866])\n",
      "Risk contribution for asset 0: 20.0\n",
      "Risk contribution for asset 1: 20.0\n",
      "Risk contribution for asset 2: 20.0\n",
      "Risk contribution for asset 3: 20.0\n",
      "Risk contribution for asset 4: 20.0\n"
     ]
    }
   ],
   "source": [
    "def objective2(weights, annual_covariance):\n",
    "    variance = np.dot(weights.T, np.dot(annual_covariance, weights)) \n",
    "    sum = 0\n",
    "    N = len(weights)\n",
    "    for i in range(N):\n",
    "        sum += (weights[i] - (variance/(N*np.dot(annual_covariance, weights)[i])))**2 \n",
    "    return sum\n",
    "\n",
    "args = (annual_covariance,)\n",
    "constraints = ({'type': 'eq', 'fun': sumWeights}) \n",
    "bounds = tuple((0, 1) for asset in range(numAssets))\n",
    "opts = optimize.minimize(objective2, np.ones(numAssets) / float(numAssets), args=args, \n",
    "                         bounds=bounds, constraints=constraints)\n",
    "print (opts)\n",
    "sigma_i = []\n",
    "for i in range(numAssets):\n",
    "    std = np.sqrt(np.dot(opts.x.T, np.dot(annual_covariance, opts.x))) \n",
    "    a = opts.x[i]*np.dot(annual_covariance, opts.x)[i] \n",
    "    sigma_i.append(a/std)\n",
    "for i in range(numAssets):\n",
    "    print (\"Risk contribution for asset {}: {:.1f}\".format(i, sigma_i[i]/sum(sigma_i)*100))"
   ]
  },
  {
   "cell_type": "code",
   "execution_count": 129,
   "metadata": {},
   "outputs": [
    {
     "data": {
      "image/png": "[encoded data removed]",
      "text/plain": [
       "<Figure size 576x360 with 1 Axes>"
      ]
     },
     "metadata": {
      "needs_background": "light"
     },
     "output_type": "display_data"
    }
   ],
   "source": [
    "h = []\n",
    "for i in range(5):\n",
    "    for j in range(int(sigma_i[i]/sum(sigma_i)*1000)):\n",
    "        h.append(i*2)\n",
    "plt.figure(figsize=(8,5))\n",
    "plt.hist(h, bins=np.arange(10)-0.5, range=(0, 10), color=\"lightblue\")\n",
    "plt.xlim(-1, 9)\n",
    "plt.ylim(0, 310)\n",
    "ind = np.arange(10) \n",
    "plt.xticks(np.arange(0,10,2), ('AAPL', 'AMZN', 'FB', 'GOOG', 'NFLX'))\n",
    "plt.yticks(np.arange(0, 350, 50), np.arange(0, 35, 5))\n",
    "plt.ylabel(\"Risk (%)\")\n",
    "plt.text(3., 290, \"Asset Weights\")\n",
    "for i in range(5):\n",
    "    plt.text(i*2-0.6, sigma_i[i]/sum(sigma_i)*1000+20, \"{:2.1f}%\".format(opts.x[i]*100), color='blue', fontsize=16)\n",
    "plt.show()"
   ]
  },
  {
   "cell_type": "code",
   "execution_count": 131,
   "metadata": {},
   "outputs": [
    {
     "name": "stdout",
     "output_type": "stream",
     "text": [
      "     fun: 3.985449091312236e-07\n",
      "     jac: array([-0.00090474,  0.00038776,  0.0009308 , -0.00032641,  0.0011355 ])\n",
      " message: 'Optimization terminated successfully.'\n",
      "    nfev: 45\n",
      "     nit: 6\n",
      "    njev: 6\n",
      "  status: 0\n",
      " success: True\n",
      "       x: array([0.35019494, 0.17972679, 0.18831561, 0.16913951, 0.11262315])\n"
     ]
    }
   ],
   "source": [
    "def objective3(weights, target_risk, annual_covariance):\n",
    "    variance = np.dot(weights.T, np.dot(annual_covariance, weights)) \n",
    "    sum = 0\n",
    "    N = len(weights)\n",
    "    for i in range(N):\n",
    "        sum += (weights[i] - (target_risk[i]*variance)/(np.dot(annual_covariance, weights)[i]))**2 \n",
    "    return sum\n",
    "\n",
    "f_i = [0.3, 0.2, 0.2, 0.15, 0.15] \n",
    "args = (f_i, annual_covariance)\n",
    "constraints = ({'type': 'eq', 'fun': sumWeights})                               \n",
    "bounds = tuple((0, 1) for asset in range(numAssets))\n",
    "opts = optimize.minimize(objective3, np.ones(numAssets) / float(numAssets), args=args, bounds=bounds, constraints=constraints)\n",
    "print (opts)\n",
    "sigma_i = []\n",
    "for i in range(numAssets):\n",
    "    std = np.sqrt(np.dot(opts.x.T, np.dot(annual_covariance, opts.x))) \n",
    "    a = opts.x[i]*np.dot(annual_covariance, opts.x)[i] \n",
    "    sigma_i.append(a/std)\n"
   ]
  },
  {
   "cell_type": "code",
   "execution_count": 132,
   "metadata": {
    "scrolled": true
   },
   "outputs": [
    {
     "data": {
      "image/png": "[encoded data removed]",
      "text/plain": [
       "<Figure size 576x360 with 1 Axes>"
      ]
     },
     "metadata": {
      "needs_background": "light"
     },
     "output_type": "display_data"
    }
   ],
   "source": [
    "h = []\n",
    "for i in range(5):\n",
    "    for j in range(int(sigma_i[i]/sum(sigma_i)*1000)):\n",
    "        h.append(i*2)\n",
    "\n",
    "plt.figure(figsize=(8,5))\n",
    "plt.hist(h, bins=np.arange(10)-0.5, range=(0, 10), color=\"lightblue\")\n",
    "plt.xlim(-1, 9)\n",
    "plt.ylim(0, 310)\n",
    "ind = np.arange(10) \n",
    "plt.xticks(np.arange(0,10,2), ('AAPL', 'AMZN', 'FB', 'GOOG', 'NFLX'))\n",
    "plt.yticks(np.arange(0, 400, 50), np.arange(0, 40, 5))\n",
    "plt.ylabel(\"Risk (%)\")\n",
    "plt.text(3., 325, \"Asset Weights\")\n",
    "for i in range(5):\n",
    "    plt.text(i*2-0.6, sigma_i[i]/sum(sigma_i)*1000+20, \"{:2.1f}%\".format(opts.x[i]*100), color='blue', fontsize=16)\n",
    "plt.show()"
   ]
  },
  {
   "cell_type": "code",
   "execution_count": 136,
   "metadata": {},
   "outputs": [
    {
     "name": "stdout",
     "output_type": "stream",
     "text": [
      "     fun: -1.3820226890251621\n",
      "     jac: array([-1.87858939e-04,  1.40175223e-04, -3.96057963e-04, -7.59512186e-05,\n",
      "        6.11126423e-04])\n",
      " message: 'Optimization terminated successfully.'\n",
      "    nfev: 42\n",
      "     nit: 6\n",
      "    njev: 6\n",
      "  status: 0\n",
      " success: True\n",
      "       x: array([0.35727486, 0.17943996, 0.17225915, 0.09847119, 0.19255483])\n"
     ]
    }
   ],
   "source": [
    "def calc_diversification_ratio(w):\n",
    "    # average weighted vol\n",
    "    w_vol = np.dot(np.sqrt(np.diag(covariance)), w.T)\n",
    "    # portfolio vol\n",
    "    port_vol = np.sqrt(np.dot(w.T, np.dot(covariance, w)))\n",
    "    diversification_ratio = w_vol/port_vol\n",
    "    # return negative for minimization problem (maximize = minimize -)\n",
    "    return -diversification_ratio\n",
    "\n",
    "# w0: initial weight\n",
    "# V: covariance matrix\n",
    "# bnd: individual position limit\n",
    "# long only: long only constraint\n",
    "bnd = tuple((0, 1) for asset in range(numAssets))\n",
    "cons = ({'type': 'eq', 'fun': sumWeights},)\n",
    "#if long_only: # add in long only constraint\n",
    "#cons = cons + ({'type': 'ineq', 'fun':  long_only_constraint},)\n",
    "opts = optimize.minimize(calc_diversification_ratio, np.ones(numAssets) / float(numAssets)\n",
    "               , bounds=bnd, \n",
    "               method='SLSQP', constraints=cons)\n",
    "print (opts)"
   ]
  },
  {
   "cell_type": "code",
   "execution_count": 142,
   "metadata": {},
   "outputs": [
    {
     "name": "stdout",
     "output_type": "stream",
     "text": [
      "Diversification:  1.3820226890251621\n"
     ]
    },
    {
     "data": {
      "image/png": "[encoded data removed]",
      "text/plain": [
       "<Figure size 576x360 with 1 Axes>"
      ]
     },
     "metadata": {
      "needs_background": "light"
     },
     "output_type": "display_data"
    }
   ],
   "source": [
    "ret = np.sum(annual_expected*opts.x)\n",
    "vol = np.sqrt(np.dot(opts.x.T, np.dot(annual_covariance, opts.x))) \n",
    "print (\"Diversification: \", -opts.fun)\n",
    "plt.figure(figsize=(8,5))\n",
    "plt.plot(returns[:,0], returns[:,1], label=\"Efficient Frontier Risky Assets\", color='blue', linestyle=\"--\") \n",
    "plt.xlabel(\"Volatility\")\n",
    "plt.ylabel(\"Expected Return\")\n",
    "plt.scatter(vol, ret, label=\"Max. Diversification Portfolio\", color=\"brown\", marker=\"+\",s=100), \n",
    "plt.grid(True)\n",
    "plt.legend()\n",
    "plt.show()"
   ]
  },
  {
   "cell_type": "code",
   "execution_count": null,
   "metadata": {},
   "outputs": [],
   "source": []
  }
 ],
 "metadata": {
  "kernelspec": {
   "display_name": "Python 3",
   "language": "python",
   "name": "python3"
  },
  "language_info": {
   "codemirror_mode": {
    "name": "ipython",
    "version": 3
   },
   "file_extension": ".py",
   "mimetype": "text/x-python",
   "name": "python",
   "nbconvert_exporter": "python",
   "pygments_lexer": "ipython3",
   "version": "3.6.3"
  }
 },
 "nbformat": 4,
 "nbformat_minor": 4
}
