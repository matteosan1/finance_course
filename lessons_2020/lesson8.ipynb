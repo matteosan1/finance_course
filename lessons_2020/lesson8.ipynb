{
 "cells": [
  {
   "cell_type": "markdown",
   "metadata": {},
   "source": [
    "## Portfolio Optimization\n",
    "\n",
    "Portfolio optimization models are concerned with investment where there are typically two criteria: expected return and risk. The investor wants the former to be high and the latter to be low. \n",
    "\n",
    "There is a variety of measures of risk. The most popular measure of risk has been variance in return. Even though there are some problems with it, we will first look at it very closely.\n",
    "\n",
    "### The Markowitz Mean/Variance Portfolio Model\n",
    "The portfolio model, introduced by Markowitz, assumes an investor has two considerations when constructing an investment portfolio: expected return and variance in return (i.e., risk). Variance measures the variability in realized return around the expected return. \n",
    "\n",
    "The Markowitz model requires two major kinds of information: \n",
    "\n",
    "* the estimated expected return for each candidate investment;\n",
    "* the covariance matrix of returns. \n",
    "\n",
    "The covariance matrix characterizes not only the individual variability of the return on each investment, but also how each investment’s return tends to move with other investments. \n",
    "\n",
    "Part of the appeal of the Markowitz model is it can be solved by efficient quadratic programming methods. Quadratic programming is the name applied to the class of models in which the objective function is a quadratic function and the constraints are linear. Thus, the objective function is allowed to have terms that are products of two variables such as $x_i^2$ and $x_i\\cdot x_j$.\n",
    "\n",
    "### Example\n",
    "Throughout this lesson we will use real market data stored in [portfolio_data.csv](https://drive.google.com/file/d/1srCzNlKVY_LHRpkaKoUynnmI0KImfT6Y/view?usp=sharing).\n",
    "The sample includes, for each entry, a date and the corresponding closing price of five company stocks:"
   ]
  },
  {
   "cell_type": "code",
   "execution_count": 1,
   "metadata": {},
   "outputs": [
    {
     "name": "stdout",
     "output_type": "stream",
     "text": [
      "            adj_close                                \n",
      "ticker           AAPL    AMZN      FB GOOG       NFLX\n",
      "date                                                 \n",
      "2014-01-02  73.523423  397.97  54.710  NaN  51.831429\n",
      "2014-01-03  71.908415  396.44  54.557  NaN  51.871429\n",
      "2014-01-06  72.300536  393.63  57.200  NaN  51.367143\n",
      "2014-01-07  71.783135  398.03  57.920  NaN  48.500000\n",
      "2014-01-08  72.238063  401.92  58.230  NaN  48.712857\n"
     ]
    }
   ],
   "source": [
    "import pandas as pd\n",
    "\n",
    "temp = pd.read_csv(\"portfolio_data.csv\")\n",
    "clean = temp.set_index('date')\n",
    "df = clean.pivot(columns='ticker')\n",
    "\n",
    "print (df.head())"
   ]
  },
  {
   "cell_type": "markdown",
   "metadata": {},
   "source": [
    "<img src=\"portfolio_sample.png\">"
   ]
  },
  {
   "cell_type": "markdown",
   "metadata": {},
   "source": [
    "With $\\tt{pandas}$ the main characteristics of these time series can be easily computed (e.g. daily returns, covariance matrix):"
   ]
  },
  {
   "cell_type": "code",
   "execution_count": 2,
   "metadata": {},
   "outputs": [
    {
     "name": "stdout",
     "output_type": "stream",
     "text": [
      "           ticker\n",
      "adj_close  AAPL      0.222314\n",
      "           AMZN      0.357435\n",
      "           FB        0.281059\n",
      "           GOOG      0.172818\n",
      "           NFLX      0.505967\n",
      "dtype: float64\n"
     ]
    }
   ],
   "source": [
    "# returns\n",
    "daily_returns = df.pct_change()\n",
    "returns = daily_returns.mean()*252\n",
    "print (returns)"
   ]
  },
  {
   "cell_type": "code",
   "execution_count": 3,
   "metadata": {},
   "outputs": [
    {
     "name": "stdout",
     "output_type": "stream",
     "text": [
      "                 adj_close                                        \n",
      "ticker                AAPL      AMZN        FB      GOOG      NFLX\n",
      "          ticker                                                  \n",
      "adj_close AAPL    0.052137  0.023737  0.024878  0.022454  0.025640\n",
      "          AMZN    0.023737  0.087651  0.042694  0.039501  0.047044\n",
      "          FB      0.024878  0.042694  0.078060  0.036127  0.043811\n",
      "          GOOG    0.022454  0.039501  0.036127  0.051797  0.040390\n",
      "          NFLX    0.025640  0.047044  0.043811  0.040390  0.180858\n"
     ]
    }
   ],
   "source": [
    "# covariance\n",
    "covariance = daily_returns.cov()*252\n",
    "print (covariance)"
   ]
  },
  {
   "cell_type": "markdown",
   "metadata": {},
   "source": [
    "The correlation matrix makes it more obvious how two random variables move together. \n",
    "\n",
    "The correlation between two random variables equals the covariance between the two variables, divided by the product of the standard deviations of the two random variables. \n",
    "The correlation can be between -1 and +1 with +1 (-1) being perfect correlation (anticorrelation) between the two.\n",
    "\n",
    "In our sample correlations are rather small and all the stocks are positively correlated."
   ]
  },
  {
   "cell_type": "markdown",
   "metadata": {},
   "source": [
    "We indicate with $w_i$ the relative amount of component $i$ within the portfolio (weight). \n",
    "\n",
    "Simulating a large number of set of weights to construct portfolios with the five stocks shown before, we can see which is the distribution of these portfolios in terms of return and volatility."
   ]
  },
  {
   "cell_type": "markdown",
   "metadata": {},
   "source": [
    "<img src=\"return_variance.png\" width=500>"
   ]
  },
  {
   "cell_type": "markdown",
   "metadata": {},
   "source": [
    "### Optimization\n",
    "\n",
    "Markowitz model states that the weights $w_i$ should be choosen such that the portfolio has the minimum volatility (variance). So the application of Markovitz model reduces to an optimization problem\n",
    "\n",
    "$$ w = \\textrm{min}(\\sigma_P^2) $$\n",
    "\n",
    "with the constraint $\\sum_{i}w_i = 1$ and $0 \\le w_i \\le 1$.\n",
    "\n",
    "With have already seen how to solve minimization problems in $\\tt{python}$ so we just need to repeat the usual steps seen before."
   ]
  },
  {
   "cell_type": "code",
   "execution_count": 5,
   "metadata": {
    "scrolled": true
   },
   "outputs": [
    {
     "name": "stdout",
     "output_type": "stream",
     "text": [
      "     fun: 0.18996519187658553\n",
      "     jac: array([0.19007478, 0.19040664, 0.18950935, 0.1898793 , 0.18995349])\n",
      " message: 'Optimization terminated successfully.'\n",
      "    nfev: 63\n",
      "     nit: 9\n",
      "    njev: 9\n",
      "  status: 0\n",
      " success: True\n",
      "       x: array([0.44735955, 0.06873074, 0.10429827, 0.36908076, 0.01053068])\n"
     ]
    }
   ],
   "source": [
    "import numpy as np\n",
    "from scipy.optimize import minimize\n",
    "\n",
    "def sum_weights(w): \n",
    "    return np.sum(w) - 1\n",
    "\n",
    "def markowitz(w, cov):\n",
    "    return np.sqrt(np.dot(w.T, np.dot(cov, w)))\n",
    "\n",
    "num_assets = 5\n",
    "constraints = ({'type': 'eq', 'fun': sum_weights},) \n",
    "bounds = tuple((0, 1) for asset in range(num_assets))\n",
    "weights = [1./num_assets for _ in range(num_assets)]\n",
    "\n",
    "opts = minimize(markowitz, weights, args=(covariance,),\n",
    "                bounds=bounds, constraints=constraints)\n",
    "print (opts)"
   ]
  },
  {
   "cell_type": "code",
   "execution_count": 6,
   "metadata": {},
   "outputs": [
    {
     "name": "stdout",
     "output_type": "stream",
     "text": [
      "Expected portfolio return: 0.222\n"
     ]
    }
   ],
   "source": [
    "print (\"Expected portfolio return: {:.3f}\".format(np.dot(opts.x, returns)))"
   ]
  },
  {
   "cell_type": "markdown",
   "metadata": {},
   "source": [
    "The solution recommends about 44% of the portfolio be invested in AAPL, about 7% in AMZN, 10% in FB and so on. . . \n",
    "The expected return is about 22%, with a variance of about 0.036 or,\n",
    "equivalently, a standard deviation of 0.19.\n",
    "\n",
    "In this example we based the model simply on straightforward statistical data derived from daily returns. However it could be possible, rather than use historical data for estimating the\n",
    "expected return of an asset, to base this estimate on more current, proprietary information about expected future performance of the asset."
   ]
  },
  {
   "cell_type": "markdown",
   "metadata": {},
   "source": [
    "### Efficient Frontier and Parametric Analysis\n",
    "There is no precise way for an investor to determine the “correct” tradeoff between risk and return.\n",
    "Thus, one is frequently interested in looking at the tradeoff between the two. \n",
    "\n",
    "If an investor wants a higher expected return, she generally has to “pay for it” with higher risk. In finance terminology, we\n",
    "would like to trace out the **efficient frontier** of return and risk. \n",
    "\n",
    "To determine it we need to solve for the minimum variance\n",
    "portfolio over a range of values for the expected return."
   ]
  },
  {
   "cell_type": "code",
   "execution_count": 9,
   "metadata": {},
   "outputs": [],
   "source": [
    "def efficient_frontier(w, asset_returns, target_return): \n",
    "    portfolio_return = np.sum(asset_returns * w) \n",
    "    return (portfolio_return - target_return)\n",
    "\n",
    "results = []\n",
    "bounds = tuple((0, 1) for asset in range(num_assets))\n",
    "    \n",
    "for eff in np.arange(0.20, 0.45, 0.005):\n",
    "    constraints = ({'type': 'eq', 'fun': efficient_frontier, \n",
    "                    'args':(returns, eff,)},\n",
    "                   {'type': 'eq', 'fun': sum_weights})\n",
    "    weights = [1./num_assets for _ in range(num_assets)]\n",
    "    opts = minimize(markowitz, weights, args=(covariance,),\n",
    "                    bounds=bounds, constraints=constraints) \n",
    "    \n",
    "    results.append((np.sqrt(np.dot(opts.x.T, np.dot(covariance, opts.x))),\n",
    "                    np.sum(returns*opts.x))) \n",
    "results = np.array(results)"
   ]
  },
  {
   "cell_type": "markdown",
   "metadata": {},
   "source": [
    "<img src=\"efficient_frontier.png\">"
   ]
  },
  {
   "cell_type": "markdown",
   "metadata": {},
   "source": [
    "### Portfolios with a Risk-Free Asset\n",
    "When one of the asset of the portfolio is risk free, then the efficient frontier has a particularly simple form: a line. \n",
    "\n",
    "The slope of the this line measures the trade-off between risk and return. A higher slope means that investors receive a higher expected\n",
    "return in exchange for taking on more risk. \n",
    "\n",
    "The value of this calculation is known as the *Sharpe ratio*.\n",
    "\n",
    "The *capital allocation line* aids investors in choosing how much to invest in a risk-free asset and one or more risky assets.\n",
    "The simplest example is a portfolio containing two assets: one risk-free (e.g. treasury bill) and one risky (e.g. a stock).\n",
    "\n",
    "Assume that the expected return of the treasury bill is $\\mathbb{E}[R _f] = 3\\%$ and its risk is 0%. Further, assume that the expected return of the stock is $\\mathbb{E}[R_r] = 10\\%$ and its standard deviation is $\\sigma_r = 20\\%$. The question that needs to be answered for any individual investor is how much to invest in\n",
    "each of these assets.\n",
    "\n",
    "The expected return ($\\mathbb{E}[R_p]$) of this portfolio is calculated as follows:\n",
    "\n",
    "$$\\mathbb{E}[R_p] = \\mathbb{E}[R_f]\\cdot w_f + \\mathbb{E}[R_r] \\cdot ( 1 − w_f )$$\n",
    "where $w_f$ is the relative allocation to the risk-free asset.\n",
    "\n",
    "The calculation of risk for this portfolio is simple because the standard deviation of the treasury bill is 0%. Thus, risk is calculated as:\n",
    "\n",
    "$$\\sigma_p = ( 1 − w_f ) \\cdot \\sigma_r$$\n",
    "\n",
    "In this very simple example, if an investor were to invest 100% into the risk-free asset ($w_f = 1$),\n",
    "the expected return would be 3% and the risk of the portfolio would be 0%. Likewise, investing\n",
    "100% into the stock ($w_f = 0$) would give an investor an expected return of 10% and a portfolio risk\n",
    "of 20%. If the investor allocated 25% to the risk-free asset and 75% to the risky asset, the portfolio\n",
    "expected return and risk calculations would be:\n",
    "\n",
    "$$\\mathbb{E}[R_p] = ( 3\\% \\cdot 25\\% ) + ( 10\\% \\cdot 75\\% ) = 0.75\\% + 7.5\\% = 8.25\\%$$\n",
    "\n",
    "$$\\sigma_p = 75\\%\\cdot 20\\% = 15\\%$$\n",
    "\n",
    "Applying the same reasoning to our example we can consider an additional risk-free asset with an expected return of 10% and repeat the minimisation to determine the efficient frontier of\n",
    "the resulting portfolio. Notice how the objective function is still the same while the constraint on the target return now includes also the risk-free asset."
   ]
  },
  {
   "cell_type": "code",
   "execution_count": 10,
   "metadata": {},
   "outputs": [],
   "source": [
    "num_assets = 6\n",
    "    \n",
    "def markowitz_with_rf(w, cov):\n",
    "    return np.sqrt(np.dot(w[:-1].T, np.dot(cov, w[:-1])))\n",
    "\n",
    "def efficient_frontier_with_rf(w, asset_returns, target_return, \n",
    "                               risk_free): \n",
    "    portfolio_return = np.sum(asset_returns*w[:-1]) + (w[5]) * risk_free \n",
    "    return (portfolio_return - target_return)\n",
    "\n",
    "rf_asset_return = 0.10\n",
    "result_rf = []\n",
    "bounds = tuple((0, 1) for asset in range(num_assets))\n",
    "for eff in np.arange(0.10, 0.40, 0.01):\n",
    "    constraints = ({'type': 'eq', 'fun': efficient_frontier_with_rf, \n",
    "                    \"args\":(returns, eff, rf_asset_return)},\n",
    "                    {'type': 'eq', 'fun': sum_weights})\n",
    "    weights = [1./num_assets for _ in range(num_assets)]\n",
    "    opts = minimize(markowitz_with_rf, weights, \n",
    "                    args=(covariance),\n",
    "                    bounds=bounds, constraints=constraints)\n",
    "    result_rf.append((np.sqrt(np.dot(opts.x[:-1].T, np.dot(covariance, opts.x[:-1]))), \n",
    "                     np.sum(returns*opts.x[:-1])+opts.x[5]*rf_asset_return))\n",
    "result_rf = np.array(result_rf)"
   ]
  },
  {
   "cell_type": "markdown",
   "metadata": {},
   "source": [
    "<img src=\"cal.png\">"
   ]
  },
  {
   "cell_type": "markdown",
   "metadata": {},
   "source": [
    "The efficient frontier has become a straight line, tangent to the\n",
    "frontier of the risky assets only. \n",
    "\n",
    "When the target is 10% the entire investment is allocated to the\n",
    "risk-free asset, as the target increases the fraction of the risky assets grows proportionally to the volatility.\n",
    "It is important to notice that in general the relative proportions devoted to risky investments do not change. Only the allocation between the risk-free asset and the risky assets change."
   ]
  },
  {
   "cell_type": "markdown",
   "metadata": {},
   "source": [
    "### The Sharpe Ratio\n",
    "For some portfolio $p$, of risky assets, now excluding the risk-free asset, let:\n",
    "\n",
    "* $R_p$ its expected return;\n",
    "* $\\sigma_p$ its standard deviation in return;\n",
    "* $r_0$ the return of the risk-free asset.\n",
    "\n",
    "A plausible single measure (as opposed to the two measures, risk and return) of attractiveness of a portfolio $p$ is the *Sharpe ratio*:\n",
    "\n",
    "$$ (R_p - r_0 ) / \\sigma_p $$\n",
    "\n",
    "In words, it measures how much additional return we achieved for the additional risk we took on, relative to putting all our money in the risk-free asset.\n",
    "It happens the portfolio that maximizes this ratio has a certain well-defined appeal. Suppose:\n",
    "\n",
    "* $t$ our desired target return;\n",
    "* $w_p$ the fraction of our wealth we place in portfolio $p$ (the rest placed in the risk-free asset).\n",
    "\n",
    "To meet our return target, we must have:\n",
    "\n",
    "$$ ( 1 - w_p ) * r_0 + w_p * R_p = t $$\n",
    "\n",
    "The standard deviation of our total investment is: $w_p\\cdot \\sigma_p$.\n",
    "Solving for $w_p$ in the return constraint, we get:\n",
    "\n",
    "$$ w_p = \\cfrac{( t – r_0)}{( R_p – r_0)} $$\n",
    "\n",
    "Thus, the standard deviation of the portfolio is:\n",
    "\n",
    "$$ w_p\\cdot \\sigma_p = \\Big[\\cfrac{( t – r_0)}{(R_p – r_0)}\\Big]\\cdot \\sigma_p $$\n",
    "\n",
    "Minimizing the portfolio standard deviation means:\n",
    "\n",
    "$$ \\textrm{min}(\\Big[\\cfrac{( t – r_0)}{(R_p – r_0)}\\Big]\\cdot \\sigma_p)\\implies\\textrm{max}(\\cfrac{R_p – r_0}{\\sigma_p}) $$\n",
    "\n",
    "So, regardless of our risk/return preference, the money we invest in risky assets should be invested in the risky portfolio that maximizes the Sharpe ratio."
   ]
  },
  {
   "cell_type": "code",
   "execution_count": 12,
   "metadata": {},
   "outputs": [
    {
     "name": "stdout",
     "output_type": "stream",
     "text": [
      "     fun: -1.1137235916752375\n",
      "     jac: array([-0.38326509, -0.38249907, -0.38293739, -0.05415305, -0.38397324])\n",
      " message: 'Optimization terminated successfully.'\n",
      "    nfev: 49\n",
      "     nit: 7\n",
      "    njev: 7\n",
      "  status: 0\n",
      " success: True\n",
      "       x: array([0.14534034, 0.41720748, 0.0539508 , 0.        , 0.38350138])\n"
     ]
    }
   ],
   "source": [
    "num_assets = 5\n",
    "rf_asset_return = 0.10\n",
    "\n",
    "def negativeSharpeRatio(w, asset_returns, rf_asset_return, cov): \n",
    "    p_ret = np.sum(asset_returns*w)\n",
    "    p_var = np.sqrt(np.dot(w.T, np.dot(cov, w)))\n",
    "    ratio = -(p_ret - rf_asset_return) / p_var\n",
    "    return ratio\n",
    "\n",
    "constraints = ({'type': 'eq', 'fun': sum_weights})\n",
    "bounds = tuple((0, 1) for asset in range(num_assets))\n",
    "weights = [1./num_assets for _ in range(num_assets)]\n",
    "opts = minimize(negativeSharpeRatio, weights, \n",
    "                args=(returns, rf_asset_return, covariance),\n",
    "                bounds=bounds, constraints=constraints)\n",
    "print (opts)"
   ]
  },
  {
   "cell_type": "code",
   "execution_count": 13,
   "metadata": {},
   "outputs": [
    {
     "name": "stdout",
     "output_type": "stream",
     "text": [
      "Sharpe ratio:  1.1137235916752375\n"
     ]
    }
   ],
   "source": [
    "print (\"Sharpe ratio: \", -opts.fun)"
   ]
  },
  {
   "cell_type": "markdown",
   "metadata": {},
   "source": [
    "<img src=\"sharpe_ratio.png\">"
   ]
  },
  {
   "cell_type": "markdown",
   "metadata": {},
   "source": [
    "Notice that the relative proportions of the stocks are the same as in the previous case where we explicitly included the risk-free asset (0.143, 0.416, 0.0532, 0., 0.383).\n",
    "\n",
    "So the optimization using the Sharpe ratio gives us a portfolio that is on the minimum volatility efficient frontier, and gives the maximum return relative to putting all our money in the risk-free asset.\n",
    "\n",
    "What is considered a good Sharpe ratio ? \n",
    "Usually, any Sharpe ratio greater than 1.0 is considered acceptable to good by investors. A ratio higher than 2.0 is rated as very good. A ratio of 3.0 or higher is considered excellent. A ratio under 1.0 is considered sub-optimal."
   ]
  },
  {
   "cell_type": "markdown",
   "metadata": {},
   "source": [
    "### Criticisms to Markowitz Model\n",
    "\n",
    "Despite the significant utility of the Markowitz theory, there are some major limitations in this model:\n",
    "\n",
    "* it is difficult to forecast asset returns with accuracy using historical data, which tends to be a poor forecasting source. As return estimations have a much larger impact on the asset allocations, small changes in return assumptions can lead to inefficient portfolios. Therefore, the model tends to lead to highly concentrated portfolios (out-of sample weights) that do not offer as much diversification benefits in practice as they seem to provide in theory;\n",
    "* the model assumes that asset correlations are linear. In reality, asset correlations move dy- namically, changing with the market cycles. During the global financial crisis, asset cor- relations approached almost 1, so if anything, diversification seemed to have insignificant impacts on the portfolios;\n",
    "* last but not the least, the model assumes normality in return distributions. Therefore, it does not factor in extreme market moves which tend to make returns distributions either skewed, fat tailed or both. Without optimising the portfolio for asset that may actually have skewed distributions or fat tailed, it could lead to a riskier allocation that is intended."
   ]
  },
  {
   "cell_type": "markdown",
   "metadata": {},
   "source": [
    "## Risk Parity Portfolio\n",
    "\n",
    "An alternative approach to Markowitz theory is given by the *risk parity*. A risk parity portfolio is an investment allocation strategy which focuses on the allocation of risk, rather than the allocation of capital. \n",
    "\n",
    "A risk parity (equal risk) portfolio is characterised by having equal risk contributions to the total risk from each individual asset. \n",
    "Risk parity allocation is also referred to as equally-weighted risk contributions portfolio method. Equally-weighted risk contributions is not about having the same volatility, it is about having each asset contributing in the same way to the portfolio overall volatility. \n",
    "\n",
    "For this we will have to define the contribution of each asset to the portfolio risk. **This allocation strategy has gained popularity in the last decades since it is believed to provide better risk adjusted return than capital based allocation strategies.**\n",
    "\n",
    "Consider a portfolio of $N$ assets: $x_1,\\ldots , x_N$ where as usual the weight of the asset $x_i$ is denoted by $w_i$. The $w_i$ form the allocation vector $w$. Let us further denote the covariance matrix of the assets as $\\Sigma$. The volatility of the portfolio is then defined as:\n",
    "\n",
    "$$\\sigma_p={\\sqrt {\\mathbf{w^T}\\Sigma \\mathbf{w}}} = \\sum _{i=1}^{N}\\sigma _{i}\\qquad\\textrm{with}~\\sigma _{i} = w_{i}\\cdot \\cfrac{\\partial\\sigma_p}{\\partial w_{i}}={\\cfrac {w_{i}(\\Sigma \\mathbf{w})_{i}}{\\sqrt {\\mathbf{w^T}\\Sigma \\mathbf{w}}}}$$\n",
    "so that $\\sigma _{i}$ can be interpreted as the contribution of asset $i$ in the portfolio to the overall risk of the portfolio.\n",
    "Equal risk contribution then means $\\sigma _{i} =\\sigma _{j}$ for all\n",
    "$i,j$ or equivalently $\\sigma _{i}=\\sigma_p/N$.\n",
    "\n",
    "The solution for the weights can be found by solving the minimisation problem:\n",
    "\n",
    "$$\\underset{w}{\\arg \\min } \\sum _{i=1}^{N}\\left[w_{i}-{\\frac {\\sigma_p^{2}}{(\\Sigma \\mathbf{w})_{i}N}}\\right]^{2}$$"
   ]
  },
  {
   "cell_type": "code",
   "execution_count": 14,
   "metadata": {},
   "outputs": [
    {
     "name": "stdout",
     "output_type": "stream",
     "text": [
      "     fun: 4.346493043692613e-09\n",
      "     jac: array([-1.23266291e-03,  2.57970389e-04,  1.45282552e-04,  8.26707332e-06,\n",
      "        1.75063489e-03])\n",
      " message: 'Optimization terminated successfully.'\n",
      "    nfev: 39\n",
      "     nit: 5\n",
      "    njev: 5\n",
      "  status: 0\n",
      " success: True\n",
      "       x: array([0.26364018, 0.18110151, 0.19069323, 0.22253642, 0.14202866])\n"
     ]
    }
   ],
   "source": [
    "def risk_parity(w, cov):\n",
    "    variance = np.dot(w.T, np.dot(cov, w)) \n",
    "    sum = 0\n",
    "    N = len(w)\n",
    "    for i in range(N):\n",
    "        sum += (w[i] - (variance/(N*np.dot(cov, w)[i])))**2 \n",
    "    return sum\n",
    "\n",
    "args = (covariance,)\n",
    "constraints = ({'type': 'eq', 'fun': sum_weights}) \n",
    "bounds = tuple((0, 1) for asset in range(num_assets))\n",
    "weights = [1./num_assets for _ in range(num_assets)]\n",
    "opts = minimize(risk_parity, weights, args=(covariance,),\n",
    "                bounds=bounds, constraints=constraints)\n",
    "print (opts)"
   ]
  },
  {
   "cell_type": "code",
   "execution_count": 19,
   "metadata": {},
   "outputs": [
    {
     "name": "stdout",
     "output_type": "stream",
     "text": [
      "Risk contribution for asset 0: 20.004%\n",
      "Risk contribution for asset 1: 20.002%\n",
      "Risk contribution for asset 2: 19.999%\n",
      "Risk contribution for asset 3: 20.001%\n",
      "Risk contribution for asset 4: 19.995%\n"
     ]
    }
   ],
   "source": [
    "sigma_i = []\n",
    "for i in range(num_assets):\n",
    "    std = np.sqrt(np.dot(opts.x.T, np.dot(covariance, opts.x))) \n",
    "    a = opts.x[i]*np.dot(covariance, opts.x)[i] \n",
    "    sigma_i.append(a/std)\n",
    "for i in range(num_assets):\n",
    "    print (\"Risk contribution for asset {}: {:.3f}%\".format(i, sigma_i[i]/sum(sigma_i)*100))"
   ]
  },
  {
   "cell_type": "markdown",
   "metadata": {},
   "source": [
    "<img src=\"risk_parity.png\">"
   ]
  },
  {
   "cell_type": "markdown",
   "metadata": {},
   "source": [
    "### Risk Budget Allocation\n",
    "The same technique can be used if we would like to calculate a portfolio with risk budget allocation. If we consider the previous equation\n",
    "\n",
    "$$\\sigma _{i}=\\cfrac{\\sigma_p}{N}$$\n",
    "\n",
    "where we set the risk contribution fraction to every asset to $1/N$;\n",
    "now we can simply replace $1/N$ with the desired fraction ($f_i$) for each asset:\n",
    "\n",
    "$$\\sigma _{i}=f_i \\cdot \\sigma_p$$\n",
    "so that the relation to minimise becomes:\n",
    "\n",
    "$$\\underset{w}{\\arg \\min } \\sum _{i=1}^{N}\\left[w_{i}-{\\frac {f_i \\cdot \\sigma_p^{2}}{(\\Sigma \\mathbf{w})_{i}}}\\right]^{2} $$\n",
    "\n",
    "Translating it to $\\tt{python}$ we get:"
   ]
  },
  {
   "cell_type": "code",
   "execution_count": 21,
   "metadata": {},
   "outputs": [
    {
     "name": "stdout",
     "output_type": "stream",
     "text": [
      "     fun: 3.985449091312236e-07\n",
      "     jac: array([-0.00090474,  0.00038776,  0.0009308 , -0.00032641,  0.0011355 ])\n",
      " message: 'Optimization terminated successfully.'\n",
      "    nfev: 45\n",
      "     nit: 6\n",
      "    njev: 6\n",
      "  status: 0\n",
      " success: True\n",
      "       x: array([0.35019494, 0.17972679, 0.18831561, 0.16913951, 0.11262315])\n"
     ]
    }
   ],
   "source": [
    "def risk_budget(w, target_risk, cov):\n",
    "    variance = np.dot(w.T, np.dot(cov, w)) \n",
    "    sum = 0\n",
    "    N = len(w)\n",
    "    for i in range(N):\n",
    "        sum += (w[i] - (target_risk[i]*variance)/(np.dot(cov, w)[i]))**2 \n",
    "    return sum\n",
    "\n",
    "f_i = [0.3, 0.2, 0.2, 0.15, 0.15] \n",
    "args = (f_i, covariance)\n",
    "constraints = ({'type': 'eq', 'fun': sum_weights})          \n",
    "bounds = tuple((0, 1) for asset in range(num_assets))\n",
    "weights = [1./num_assets for _ in range(num_assets)]\n",
    "\n",
    "opts = minimize(risk_budget, weights, args=(f_i, covariance), \n",
    "                bounds=bounds, constraints=constraints)\n",
    "\n",
    "print (opts)"
   ]
  },
  {
   "cell_type": "code",
   "execution_count": 23,
   "metadata": {},
   "outputs": [
    {
     "name": "stdout",
     "output_type": "stream",
     "text": [
      "Risk contribution for asset 0: 29.962%\n",
      "Risk contribution for asset 1: 20.000%\n",
      "Risk contribution for asset 2: 20.027%\n",
      "Risk contribution for asset 3: 14.976%\n",
      "Risk contribution for asset 4: 15.035%\n"
     ]
    }
   ],
   "source": [
    "sigma_i = []\n",
    "for i in range(num_assets):\n",
    "    std = np.sqrt(np.dot(opts.x.T, np.dot(covariance, opts.x))) \n",
    "    a = opts.x[i]*np.dot(covariance, opts.x)[i] \n",
    "    sigma_i.append(a/std)\n",
    "for i in range(num_assets):\n",
    "    print (\"Risk contribution for asset {}: {:.3f}%\".format(i, sigma_i[i]/sum(sigma_i)*100))"
   ]
  },
  {
   "cell_type": "markdown",
   "metadata": {},
   "source": [
    "<img src=\"risk_allocation.png\">"
   ]
  },
  {
   "cell_type": "markdown",
   "metadata": {},
   "source": [
    "### Maximum Diversification Portfolio\n",
    "\n",
    "In addition to minimum variance, and risk parity/budgeting, maximum diversification is also another well known risk based asset allocation technique.\n",
    "\n",
    "Diversification is a common topic in portfolio construction. Rather than serving as the sole, quantifiable objective, it is most often either pursued in tandem with another objective, such as return maximization, or pursued simply by including more asset classes or adding constraints based on intuition.\n",
    "\n",
    "But it does not have to be this way; diversification can be pursued explicitly as the sole objective in portfolio construction.\n",
    "\n",
    "In a 2008 paper, the diversification ratio $D$ of a portfolio has been defined as:\n",
    "\n",
    "$$D=\\cfrac{\\mathbf{w^T}\\boldsymbol{\\sigma}}{\\sqrt {\\mathbf{w^T}\\Sigma \\mathbf{w}}}$$\n",
    "\n",
    "where $\\boldsymbol{\\sigma}$ is the vector of volatilities and $\\Sigma$ is the covariance matrix. The term in the denominator is the volatility of the portfolio and the term in the numerator is the weighted average volatility of the assets. More diversification within a portfolio decreases the denominator and leads to a higher diversification ratio."
   ]
  },
  {
   "cell_type": "code",
   "execution_count": 24,
   "metadata": {},
   "outputs": [
    {
     "name": "stdout",
     "output_type": "stream",
     "text": [
      "     fun: -1.3820226890201184\n",
      "     jac: array([-1.87873840e-04,  1.40190125e-04, -3.96043062e-04, -7.59512186e-05,\n",
      "        6.11111522e-04])\n",
      " message: 'Optimization terminated successfully.'\n",
      "    nfev: 42\n",
      "     nit: 6\n",
      "    njev: 6\n",
      "  status: 0\n",
      " success: True\n",
      "       x: array([0.35727485, 0.17943997, 0.17225915, 0.09847119, 0.19255483])\n"
     ]
    }
   ],
   "source": [
    "def diversification_ratio(w):\n",
    "    w_vol = np.dot(np.sqrt(np.diag(covariance)), w.T)\n",
    "    port_vol = np.sqrt(np.dot(w.T, np.dot(covariance, w)))\n",
    "    diversification_ratio = w_vol/port_vol\n",
    "    return -diversification_ratio\n",
    "\n",
    "bounds = tuple((0, 1) for asset in range(num_assets))\n",
    "cons = ({'type': 'eq', 'fun': sum_weights},)\n",
    "#cons = cons + ({'type': 'ineq', 'fun':  long_only_constraint},)\n",
    "weights = [1./num_assets for _ in range(num_assets)]\n",
    "\n",
    "opts = minimize(diversification_ratio, weights, bounds=bounds, \n",
    "                constraints=cons)\n",
    "print (opts)"
   ]
  },
  {
   "cell_type": "code",
   "execution_count": 26,
   "metadata": {},
   "outputs": [
    {
     "name": "stdout",
     "output_type": "stream",
     "text": [
      "Diversification:  1.3820226890201184\n"
     ]
    }
   ],
   "source": [
    "ret = np.sum(returns*opts.x)\n",
    "vol = np.sqrt(np.dot(opts.x.T, np.dot(covariance, opts.x))) \n",
    "print (\"Diversification: \", -opts.fun)"
   ]
  },
  {
   "cell_type": "markdown",
   "metadata": {},
   "source": [
    "<img src=\"max_div.png\">"
   ]
  }
 ],
 "metadata": {
  "kernelspec": {
   "display_name": "Python 3",
   "language": "python",
   "name": "python3"
  },
  "language_info": {
   "codemirror_mode": {
    "name": "ipython",
    "version": 3
   },
   "file_extension": ".py",
   "mimetype": "text/x-python",
   "name": "python",
   "nbconvert_exporter": "python",
   "pygments_lexer": "ipython3",
   "version": "3.7.4"
  }
 },
 "nbformat": 4,
 "nbformat_minor": 4
}
