{
 "cells": [
  {
   "cell_type": "code",
   "execution_count": 43,
   "metadata": {},
   "outputs": [
    {
     "name": "stdout",
     "output_type": "stream",
     "text": [
      "CVA: 17.23\n"
     ]
    }
   ],
   "source": [
    "from datetime import date\n",
    "from dateutil.relativedelta import relativedelta\n",
    "from finmarkets import DiscountCurve, CreditCurve, generate_swap_dates\n",
    "\n",
    "T = 3 \n",
    "C = 0.06\n",
    "r = 0.03\n",
    "R = 0.4\n",
    "N = 100\n",
    "\n",
    "obs_date = date.today()\n",
    "pillars = [obs_date+relativedelta(years=i) for i in range(T+1)]\n",
    "dfs = [1/(1+r)**i for i in range(T+1)]\n",
    "dc = DiscountCurve(obs_date, pillars, dfs)\n",
    "S = [1, 0.9, 0.8, 0.7]\n",
    "cc = CreditCurve(pillars, S)\n",
    "\n",
    "cva = 0\n",
    "d = obs_date\n",
    "while d <= pillars[-1]:\n",
    "    cva += dc.df(d)*(cc.ndp(d) - cc.ndp(d+relativedelta(days=1)))\n",
    "    d += relativedelta(days=1)\n",
    "\n",
    "cva = cva * (1-R) * N\n",
    "print (\"CVA: {:.2f}\".format(cva))"
   ]
  },
  {
   "cell_type": "code",
   "execution_count": 44,
   "metadata": {},
   "outputs": [
    {
     "name": "stdout",
     "output_type": "stream",
     "text": [
      "Bond Price: 91.50\n"
     ]
    }
   ],
   "source": [
    "default_free_price = 0\n",
    "for i in range(1, len(pillars)):\n",
    "    default_free_price += (N * ((pillars[i] - pillars[i-1]).days / 360) * \n",
    "          dc.df(pillars[i]) * C )\n",
    "                    \n",
    "default_free_price += N * dc.df(pillars[-1])\n",
    "             \n",
    "print (\"Bond Price: {:.2f}\".format(default_free_price - cva))"
   ]
  }
 ],
 "metadata": {
  "kernelspec": {
   "display_name": "Python 3",
   "language": "python",
   "name": "python3"
  },
  "language_info": {
   "codemirror_mode": {
    "name": "ipython",
    "version": 3
   },
   "file_extension": ".py",
   "mimetype": "text/x-python",
   "name": "python",
   "nbconvert_exporter": "python",
   "pygments_lexer": "ipython3",
   "version": "3.6.3"
  }
 },
 "nbformat": 4,
 "nbformat_minor": 4
}
