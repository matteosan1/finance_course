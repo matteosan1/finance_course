{
 "cells": [
  {
   "cell_type": "markdown",
   "metadata": {},
   "source": [
    "## Quantiles\n",
    "\n",
    "Given a probability distribution $f(x)$ (e.g. Gaussian, Binomial, Poisson...) the *cumulative distribution function* (CDF) is defined as \n",
    "\n",
    "$$ F(x) = \\mathbb{P}(X\\le x)\\qquad\\textrm{or equivalently}\\int_{-\\infty}^{x}f(x)dx$$\n"
   ]
  },
  {
   "cell_type": "code",
   "execution_count": 1,
   "metadata": {},
   "outputs": [
    {
     "data": {
      "text/plain": [
       "<Figure size 1000x400 with 2 Axes>"
      ]
     },
     "metadata": {},
     "output_type": "display_data"
    }
   ],
   "source": [
    "from matplotlib import pyplot as plt\n",
    "from scipy.stats import norm\n",
    "import numpy as np\n",
    "\n",
    "fig = plt.figure(figsize=(10,4))\n",
    "sub1 = plt.subplot(121)\n",
    "x=np.arange(-4, 4, 0.01)\n",
    "sub1.plot(x, norm.pdf(x), label='Gaussian PDF')\n",
    "sub1.set_xlim(-4,4)\n",
    "sub1.set_ylim(0, 0.5)\n",
    "sub1.grid(True)\n",
    "xfill=np.arange(-4,-0.5244, 0.01)\n",
    "sub1.fill_between(xfill, 0, norm.pdf(xfill), color='red', label='30% area')\n",
    "sub1.legend()\n",
    "\n",
    "sub2 = plt.subplot(122)\n",
    "x=np.arange(-4, 4, 0.01)\n",
    "sub2.plot(x, norm.cdf(x), label='Gaussian CDF', linestyle='--')\n",
    "sub2.set_xlim(-4,4)\n",
    "sub2.set_ylim(0, 1.1)\n",
    "sub2.grid(True)\n",
    "xfill=np.arange(-4,-0.5244, 0.01)\n",
    "sub2.plot(xfill, norm.cdf(xfill), color='red', \n",
    "          label='30% percentile')\n",
    "sub2.legend()\n",
    "sub2.hlines(0.3, -4, -0.5244, color='red', linestyle='-.')\n",
    "sub2.text(-3.5, 0.35, \"30%-percentile\", color='red')\n",
    "sub2.vlines(-0.5244, 0, 0.3, color='red', linestyle='-.')\n",
    "sub2.text(-0.4, 0.15, \"-0.5244\", color='red')\n",
    "plt.show()"
   ]
  },
  {
   "cell_type": "markdown",
   "metadata": {},
   "source": [
    "The quantile function $Q$ returns a threshold value $x$ below which random draws from the given CDF sould fail $p$ percent of the times. So in other words it inverts the CDF\n",
    "\n",
    "$$Q = F^{-1}\\qquad\\textrm{returns $x_p$ such that}~F(x_p)=p$$\n",
    "\n",
    "50%-percentile is equivalent to 0.5-quantile"
   ]
  },
  {
   "cell_type": "code",
   "execution_count": 2,
   "metadata": {},
   "outputs": [
    {
     "name": "stdout",
     "output_type": "stream",
     "text": [
      "quantile:  -0.5244005127080409\n",
      "CDF : 0.29999999999999993\n"
     ]
    }
   ],
   "source": [
    "from scipy.stats import norm\n",
    "\n",
    "# ppf invert cdf\n",
    "quantile = norm.ppf(0.3)\n",
    "cdf = norm.cdf(quantile)\n",
    "\n",
    "print (\"quantile: \", quantile)\n",
    "print (\"CDF :\", cdf)"
   ]
  },
  {
   "cell_type": "markdown",
   "metadata": {},
   "source": [
    "Percentile (or quantile) can be computed also if there is not a probability distribution but a list of measurements with $\\tt{numpy.percentile}$ "
   ]
  },
  {
   "cell_type": "code",
   "execution_count": 3,
   "metadata": {},
   "outputs": [
    {
     "name": "stdout",
     "output_type": "stream",
     "text": [
      "[1.08 5.  ]\n"
     ]
    }
   ],
   "source": [
    "import numpy as np\n",
    "dist = [1, 2, 3, 4, 5, 6, 7, 8, 9]\n",
    "percentile = np.percentile(dist, [1, 50])\n",
    "\n",
    "print (percentile)"
   ]
  },
  {
   "cell_type": "markdown",
   "metadata": {},
   "source": [
    "## Credit curves\n",
    "\n",
    "Just like a discount curve is a way of representing the underlying interest rates (or equivalently discount factors) implicit in the market quotes of a collection of real-world interest rate products, **credit curves** are a way of representing survival probabilities implied by credit default swaps.\n",
    "\n",
    "**Credit default swaps** (**CDS**) are instruments whose value depends on the likelihood that a given company (the curve's **issuer**) will suffer a credit event over a given period.\n",
    "\n",
    "A **credit event** can be a default, the failure to make payments, the issuer entering into bankruptcy proceedings, or the occurence of other legal events. The exact definition of what constitutes a credit event depends on a series of factors and is usually defined in some kind of ISDA (International Swaps and Derivatives Association) master agreement.\n",
    "\n",
    "In any case, we will generically call a credit event a *default*, and talk about **non-default probabilities** (**NDP**), i.e. the probability that the issuer will not suffer a credit event before a given date i.e. *non-default probability is a cumulative probability* since refers to a time period. \n",
    "\n",
    "<table>\n",
    "  <tr width=200>\n",
    "    <th>Discount Curve</th>\n",
    "    <th>Credit Curve</th>\n",
    "  </tr>\n",
    "  <tr>\n",
    "    <td>Represents underlying rates implicit in market quotes of IR products</td>\n",
    "    <td>Represents default probability implied by credit default swaps</td>\n",
    "  </tr>\n",
    "  <tr>\n",
    "    <td>made of pillar_dates and discount factors</td>\n",
    "    <td>made of pillar_dates and survival probabilities</td>\n",
    "  </tr>\n",
    "  <tr>\n",
    "    <td>discount factors</td>\n",
    "    <td>non-default probabilities</td>\n",
    "  </tr>\n",
    "  <tr>\n",
    "    <td>short rate</td>\n",
    "    <td>hazard rate</td>\n",
    "  </tr>\n",
    "</table>   \n",
    "\n",
    "We will implement a $\\tt{CreditCurve}$ class that provides a method which interpolates between the pillars of the curve to return the NDP at an arbitrary value date between the pricing date and the last pillar date.\n",
    "In addition, we'll also write a method which returns the **hazard rate** at an arbitrary value date. The hazard rate is the credit curve equivalent of the short rate or overnight rate for discount curves.\n"
   ]
  },
  {
   "cell_type": "markdown",
   "metadata": {},
   "source": [
    "### Hazard Rate\n",
    "\n",
    "Hazard rate is often called a *conditional failure rate* since it's expression is a direct\n",
    "application of the conditional probability concept.\n",
    "\n",
    "Conditional probability answers to the question \"how should you update probabilities of events when there is additional information available ?\". To derive the general formula let's start with an example.\n",
    "\n",
    "A fair die is rolled. Let $A$ be the event that the outcome is an odd number ($A={1,3,5}$). Also let $B$ be the event that the outcome is less than or equal to $3$ ($B={1,2,3}$). What is the probability of $A$ ($P(A)$) ? What is the probability of $A$ given $B$ ($P(A|B)$) ?\n",
    "\n",
    "Being a simple example we can compute the result by hand:\n",
    "\n",
    "$$P(A) = \\frac{|A|}{|S|} = \\frac{|\\{1,3,5\\}|}{6} = \\frac{1}{2}\\qquad\\textrm{(where S is the entire sample space)}$$\n",
    "\n",
    "Now let's find the conditional probability of $A$ given that $B$ occurred. If we know $B$ has occurred, the outcome must be among $\\{1,2,3\\}$. For $A$ to also happen the outcome must be in $A\\cap B = \\{1,3\\}$. Since all die rolls are equally likely, we argue that $P(A|B)$ must be equal to\n",
    "\n",
    "$$P(A|B) = \\frac{|A\\cap B|}{|B|} = \\frac{2}{3}$$\n",
    "\n",
    "To generalize our example we can rewrite the calculation by dividing the numerator and denominator by the entire space of the events $|S|$ hence:\n",
    "\n",
    "$$P(A|B) = \\cfrac{|A\\cap B|}{|B|} = \\cfrac{\\cfrac{|A\\cap B|}{|S|}}{\\cfrac{|B|}{|S|}} = \\cfrac{P(A\\cap B)}{P(B)}$$\n",
    "\n",
    "<img src=\"conditional_b.png\" width=500>\n",
    "\n",
    "Hazard rate represents the instantaneous probability of the issuer defaulting *conditioned* on it not having defaulted until that moment. In practice we will calculate it numerically, and therefore it'll be the (annualized) conditional probability of the issuer defaulting between the value date and the day after.\n",
    "\n",
    "In formula if the non-default probability is indicated by $N$ and the hazard rate by $\\lambda$:\n",
    "\n",
    "$$\\lambda = \\cfrac{\\mathbb{P}(A\\cap B)}{\\mathbb{P}(B)} = \\cfrac{\\mathbb{P}(\\tau \\in (t, t+dt))}{\\mathbb{P}(\\tau\\gt t)} = \\cfrac{\\cfrac{d(1-N)}{dt}}{N(t_0, t_1)} = -\\cfrac{dN}{dt}\\cfrac{1}{N(t_0, t_1)}$$\n",
    "\n",
    "where the minus sign derives from the fact that $N$ is a **non** default probability while the hazard rate is defined in terms of the probability of default.\n",
    "\n",
    "Conversly given the hazard rate the non-default probability can be determined as:\n",
    "\n",
    "$$\\lambda = -\\cfrac{1}{dt}\\cdot\\cfrac{dN}{N} = -\\cfrac{d(\\textrm{log}N)}{dt}$$\n",
    "\n",
    "$$N(t_0, t) = e^{-\\int_{t_0}^{t}\\lambda dt}$$"
   ]
  },
  {
   "cell_type": "code",
   "execution_count": 4,
   "metadata": {},
   "outputs": [],
   "source": [
    "# implement CreditCurve class\n",
    "import math, numpy\n",
    "from dateutil.relativedelta import relativedelta\n",
    "\n",
    "class CreditCurve(object):\n",
    "    \n",
    "    def __init__(self, pillar_dates, ndps):\n",
    "        self.pillar_dates = pillar_dates\n",
    "        \n",
    "        self.pillar_days = [\n",
    "            (pd - pillar_dates[0]).days\n",
    "            for pd in pillar_dates\n",
    "        ]\n",
    "        \n",
    "        self.ndps = ndps\n",
    "        \n",
    "    def ndp(self, value_date):\n",
    "        value_days = (value_date - self.pillar_dates[0]).days\n",
    "        return numpy.interp(value_days,\n",
    "                         self.pillar_days,\n",
    "                         self.ndps)\n",
    "    \n",
    "    def hazard(self, value_date):\n",
    "        ndp_1 = self.ndp(value_date)\n",
    "        ndp_2 = self.ndp(value_date + relativedelta(days=1))\n",
    "        delta_t = 1.0 / 365.0\n",
    "        h = -1.0 / ndp_1 * (ndp_2 - ndp_1) / delta_t\n",
    "        return h"
   ]
  },
  {
   "cell_type": "markdown",
   "metadata": {},
   "source": [
    "As usual we test the newly developed class with some dummy data."
   ]
  },
  {
   "cell_type": "code",
   "execution_count": 5,
   "metadata": {},
   "outputs": [],
   "source": [
    "from datetime import date\n",
    "\n",
    "pricing_date = date.today()\n",
    "\n",
    "cc = CreditCurve(\n",
    "    [pricing_date, pricing_date + relativedelta(years=2)],\n",
    "    [1.0, 0.8]\n",
    ")"
   ]
  },
  {
   "cell_type": "code",
   "execution_count": 6,
   "metadata": {},
   "outputs": [
    {
     "data": {
      "text/plain": [
       "0.9"
      ]
     },
     "execution_count": 6,
     "metadata": {},
     "output_type": "execute_result"
    }
   ],
   "source": [
    "cc.ndp(pricing_date + relativedelta(years=1))"
   ]
  },
  {
   "cell_type": "code",
   "execution_count": 7,
   "metadata": {},
   "outputs": [
    {
     "data": {
      "text/plain": [
       "0.11111111111112416"
      ]
     },
     "execution_count": 7,
     "metadata": {},
     "output_type": "execute_result"
    }
   ],
   "source": [
    "cc.hazard(pricing_date + relativedelta(years=1))"
   ]
  },
  {
   "cell_type": "markdown",
   "metadata": {},
   "source": [
    "## Credit Deafult Swaps\n",
    "\n",
    "Once we have implemented a $\\tt{CreditCurve}$ class which allows us to interpolate survival probabilities, and also to calculate the hazard rate at arbitrary dates, we can use it to price **credit default swaps** (CDSs).\n",
    "\n",
    "CDSs are made up of two legs:\n",
    "\n",
    "* the *default* leg: which pays $LGD = 1 - R$, known as the **loss given default**, if and when the credit event occurs;\n",
    "* the *premium* leg: which pays a *spread* $S$ every m months until the credit event occurs.\n",
    "\n",
    "### Premium leg\n",
    "\n",
    "Let's start with the premium leg. We will use the following notation:\n",
    "\n",
    "* $d$ today's date;\n",
    "* $d_0$ the start date of the CDS (could be different from $d$);\n",
    "* $d_1, ..., d_n$ the payment dates of the premium leg, which occur at a m-month frequency (we assume that $d_n$ is the end date of the CDS);\n",
    "* $D(d')$ the discount factor between $d$ and $d'$;\n",
    "* $N(d')$ the non-default probability between $d$ and $d'$;\n",
    "* $\\tau$ the random variable representing the date of the credit event.\n",
    "\n",
    "At each payment date $d_i$, a flow $S$ is paid if and only if the credit event has not occurred before that date. Therefore the NPV of the each flow is\n",
    "\n",
    "$$f_{\\textrm{premium}^i = \\mathbb{E}\\left[ S \\times D(t_i) \\times \\mathbb{1}(\\tau > t_i) \\right] = S \\cdot D(t_i) \\cdot N(t_i)$$\n",
    "where $\\mathbb{1}(\\tau > t_i)$ means that the expectation value has to be evaluated when $\\tau > d_i$ therefore it has to be *weighted* with the survival probability.\n",
    "\n",
    "The NPV of the leg is then\n",
    "\n",
    "$$\\textrm{NPV}_{premium} = \\sum_{i=1}^{n} S \\cdot D(t_i) \\cdot N(t_i)$$\n",
    "\n",
    "## Default leg\n",
    "\n",
    "The LGD $(1-R)$ is paid out on the same date on which the credit event occurs, i.e. it can potentially be paid out on any date between $t_0$ and $t_n$. Mathematically, therefore, the NPV of the premium leg can be expressed as follows:\n",
    "\n",
    "$$\\mathrm{NPV_{default}} = \\mathbb{E} \\left[(1-R) \\times D(\\tau) \\times \\mathbb{1}(\\tau \\leq t_n) \\right] $$\n",
    "\n",
    "Using the laws of probability, we can break this down into the sum of \"daily NPVs\" calculated as a function of the daily default probabilities $\\mathbb{P}$:\n",
    "\n",
    "$$\n",
    "\\begin{align*}\n",
    "\\mathbb{E}\\left[(1-R) \\times D(\\tau) \\times \\mathbb{1}(\\tau \\leq d_n) \\right]\n",
    "&= \\sum_{d'=d_0}^{d_n} \\mathbb{E}[ (1-R) \\times D(\\tau) | \\tau = d'] \\mathbb{P}[ \\tau = d' ] \\\\\n",
    "&= (1-R) \\sum_{d'=d_0}^{d_n} D(d') \\left( \\mathbb{P}[ \\tau \\geq d' ] - \\mathbb{P}[ \\tau \\geq t'+1 ] \\right) \\\\\n",
    "&= (1-R) \\sum_{d'=d_0}^{d_n} D(d') \\left( N(d') - N(d'+1) \\right)\n",
    "\\end{align*}\n",
    "$$\n",
    "\n",
    "where the last step holds since $\\mathbb{P}[\\tau\\geq d'] = 1 - \\mathbb{P}[\\tau < d'] = 1 - (1-N(d')) = N(d')$.\n",
    "\n",
    "<img src=\"timeline.png\">"
   ]
  },
  {
   "cell_type": "code",
   "execution_count": 11,
   "metadata": {},
   "outputs": [],
   "source": [
    "# credit default swap class with breakeven method\n",
    "from finmarkets import generate_swap_dates\n",
    "\n",
    "class CreditDefaultSwap:\n",
    "    \n",
    "    def __init__(self, notional, start_date, fixed_spread, \n",
    "                 maturity, tenor=3, recovery=0.4):\n",
    "        self.notional = notional\n",
    "        self.payment_dates = generate_swap_dates(start_date, \n",
    "                                                 maturity*12, \n",
    "                                                 tenor)\n",
    "        self.fixed_spread = fixed_spread\n",
    "        self.recovery = recovery\n",
    "    \n",
    "    def premium_leg_npv(self, discount_curve, credit_curve):\n",
    "        npv = 0\n",
    "        for i in range(1, len(self.payment_dates)):\n",
    "            npv += (\n",
    "                self.fixed_spread *\n",
    "                discount_curve.df(self.payment_dates[i]) *\n",
    "                credit_curve.ndp(self.payment_dates[i])\n",
    "            )\n",
    "        return npv * self.notional\n",
    "    \n",
    "    def default_leg_npv(self, discount_curve, credit_curve):\n",
    "        npv = 0\n",
    "        d = self.payment_dates[0]\n",
    "        while d <= self.payment_dates[-1]:\n",
    "            npv += discount_curve.df(d) * (\n",
    "                credit_curve.ndp(d) -\n",
    "                credit_curve.ndp(d + relativedelta(days=1))\n",
    "            )\n",
    "            d += relativedelta(days=1)\n",
    "        return npv * self.notional * (1 - self.recovery)\n",
    "    \n",
    "    def npv(self, discount_curve, credit_curve):\n",
    "        return self.default_leg_npv(discount_curve, credit_curve) - \\\n",
    "               self.premium_leg_npv(discount_curve, credit_curve)"
   ]
  },
  {
   "cell_type": "markdown",
   "metadata": {},
   "source": [
    "Below a simple test of the class."
   ]
  },
  {
   "cell_type": "code",
   "execution_count": 18,
   "metadata": {},
   "outputs": [
    {
     "data": {
      "text/plain": [
       "72599.55760600582"
      ]
     },
     "execution_count": 18,
     "metadata": {},
     "output_type": "execute_result"
    }
   ],
   "source": [
    "import pandas as pd\n",
    "from finmarkets import DiscountCurve\n",
    "\n",
    "dc_data = pd.read_excel('discount_curve.xlsx')\n",
    "dc = DiscountCurve(pricing_date, \n",
    "                   dc_data['pillars'].dt.date.tolist(),\n",
    "                   dc_data['discount_factors'].tolist())\n",
    "\n",
    "credit_curve = CreditCurve([pricing_date, \n",
    "                            pricing_date + relativedelta(months=36)], \n",
    "                           [1.0, 0.7])\n",
    "\n",
    "cds = CreditDefaultSwap(1e6, pricing_date, 0.03, 3)\n",
    "cds.premium_leg_npv(dc, credit_curve)"
   ]
  },
  {
   "cell_type": "code",
   "execution_count": 20,
   "metadata": {},
   "outputs": [
    {
     "data": {
      "text/plain": [
       "181346.1197957481"
      ]
     },
     "execution_count": 20,
     "metadata": {},
     "output_type": "execute_result"
    }
   ],
   "source": [
    "cds.default_leg_npv(dc, credit_curve)"
   ]
  },
  {
   "cell_type": "code",
   "execution_count": 21,
   "metadata": {},
   "outputs": [
    {
     "data": {
      "text/plain": [
       "108746.56218974227"
      ]
     },
     "execution_count": 21,
     "metadata": {},
     "output_type": "execute_result"
    }
   ],
   "source": [
    "cds.npv(dc, credit_curve)"
   ]
  },
  {
   "cell_type": "markdown",
   "metadata": {},
   "source": [
    "## Estimate Default Probabilities from CDS\n",
    "\n",
    "Pretty much like the discount curves could be derived from swap market quotes, we can estimate default probabilities (hence credit curves) from CDS quotes using bootstrap.\n",
    "Following the same steps seen for the discount curve we can determine default probabilites at discrete dates to fill our curve:\n",
    "\n",
    "* collect market quotes for a number of CDS with different maturities;\n",
    "* create the corresponding CDS objects;\n",
    "* define a $\\tt{CreditCurve}$ whose pillars are the CDS maturity dates and with a set of unknown default probabilities;\n",
    "* define an objective function to minimize the sum of the squared CDS's NPVs;\n",
    "* set the non-default probabilities to an initial value and define their range of variability between $[0, 1]$ since they are probabilities and fix \"today's\" probability to 1 since there hasn't been any default;\n",
    "* run the minimization.\n"
   ]
  },
  {
   "cell_type": "code",
   "execution_count": 31,
   "metadata": {},
   "outputs": [
    {
     "name": "stdout",
     "output_type": "stream",
     "text": [
      "      fun: 4.418270168346569e-05\n",
      " hess_inv: <7x7 LbfgsInvHessProduct with dtype=float64>\n",
      "      jac: array([ 4.14334144e+04, -1.82525181e-04, -1.81563231e-04, -2.66978239e-04,\n",
      "       -2.85546564e-04,  5.65959667e-05,  4.73440591e-04])\n",
      "  message: b'CONVERGENCE: REL_REDUCTION_OF_F_<=_FACTR*EPSMCH'\n",
      "     nfev: 96\n",
      "      nit: 10\n",
      "   status: 0\n",
      "  success: True\n",
      "        x: array([1.        , 0.97614123, 0.9471263 , 0.91808604, 0.83545363,\n",
      "       0.74039854, 0.54530604])\n"
     ]
    }
   ],
   "source": [
    "quotes = pd.read_excel('cds_quotes.xlsx')\n",
    "\n",
    "pillars = [pricing_date]\n",
    "cdss = []\n",
    "for i in range(len(quotes)):\n",
    "    cds = CreditDefaultSwap(1e6, pricing_date, \n",
    "                            quotes['quote'][i],\n",
    "                            quotes['months'][i]//12)\n",
    "    cdss.append(cds)\n",
    "    pillars.append(cds.payment_dates[-1])\n",
    "\n",
    "def objective_function(x):\n",
    "    cc = CreditCurve(pillars, x)\n",
    "    \n",
    "    s=0\n",
    "    for cds in cdss:\n",
    "        s += cds.npv(dc, cc)**2\n",
    "    return s\n",
    "\n",
    "x0 = [1.0 for _ in range(len(pillars))]\n",
    "bounds = [(0.001, 1.0) for _ in range(len(pillars))]\n",
    "bounds[0] = (1, 1)\n",
    "\n",
    "from scipy.optimize import minimize \n",
    "r = minimize(objective_function, x0, bounds=bounds)\n",
    "print (r)"
   ]
  },
  {
   "cell_type": "markdown",
   "metadata": {},
   "source": [
    "### Determine Default Probabilities from Bond Prices"
   ]
  },
  {
   "cell_type": "markdown",
   "metadata": {},
   "source": [
    "### Credit Ratings"
   ]
  },
  {
   "cell_type": "markdown",
   "metadata": {},
   "source": [
    "A credit rating is a quantified assessment of the creditworthiness of a borrower either in general\n",
    "terms or with respect to a particular debt or financial obligation. A credit rating can be assigned\n",
    "to any entity that seeks to borrow money (e.g. an individual, corporation, state or provincial\n",
    "authority, or sovereign government).\n",
    "A loan is a essentially a promise and the credit rating determines the likelihood that the bor-\n",
    "rower will be able to pay back it within the loan agreement terms. A high credit rating indicates\n",
    "a high possibility of paying back the loan in its entirety without any issues; a poor credit rating118\n",
    "CHAPTER 10. CREDIT DEFAULT SWAPS\n",
    "suggests that the borrower has had trouble paying back loans in the past and might follow the\n",
    "same pattern in the future.\n",
    "Individual credit is scored from credit bureaus (e.g. Experian and TransUnion) and it is re-\n",
    "ported as a number, generally ranging from 300 to 850.\n",
    "Credit assessment and evaluation for companies and governments instead is generally done\n",
    "by credit rating agencies (e.g. Standard & Poor’s (S&P), Moody’s, or Fitch), which typically assign\n",
    "letter grades to indicate ratings. Standard & Poor’s, for instance, has a credit rating scale ranging\n",
    "from AAA (excellent) to C and D. A debt instrument with a rating below BB is considered to be a\n",
    "speculative grade or a junk bond, which means it is more likely to default on loans.\n",
    "10.4.1\n",
    "Why Credit Ratings Are Important\n",
    "A borrowing entity will strive to have the highest possible credit rating since it has a major impact\n",
    "on interest rates charged by lenders. Rating agencies, on the other hand, must take a balanced and\n",
    "objective view of the borrower’s financial situation and capacity to service/repay the debt.\n",
    "A credit rating not only determines whether or not a borrower will be approved for a loan\n",
    "but also determines the interest rate at which the loan will need to be repaid. Since companies\n",
    "depend on loans for many expenses, being denied a loan could spell disaster, and in any case a\n",
    "high interest rate is much more difficult to pay back. Credit ratings also play a large role in a\n",
    "potential investor’s determining whether or not to purchase bonds. A poor credit rating is a risky\n",
    "investment; it indicates a larger probability that the company will be unable to make its bond\n",
    "payments.\n",
    "It is important for a borrower to remain diligent in maintaining a high credit rating. Credit\n",
    "ratings are never static; in fact, they change all the time based on the newest data, and one negative\n",
    "debt will bring down even the best score. Credit also takes time to build up. An entity with good\n",
    "credit but a short credit history is not seen as positively as another entity with the same quality of\n",
    "credit but a longer history. Debtors want to know a borrower can maintain good credit consistently\n",
    "over time."
   ]
  }
 ],
 "metadata": {
  "kernelspec": {
   "display_name": "Python 3",
   "language": "python",
   "name": "python3"
  },
  "language_info": {
   "codemirror_mode": {
    "name": "ipython",
    "version": 3
   },
   "file_extension": ".py",
   "mimetype": "text/x-python",
   "name": "python",
   "nbconvert_exporter": "python",
   "pygments_lexer": "ipython3",
   "version": "3.6.3"
  }
 },
 "nbformat": 4,
 "nbformat_minor": 2
}
