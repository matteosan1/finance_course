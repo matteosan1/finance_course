{
 "cells": [
  {
   "cell_type": "markdown",
   "metadata": {},
   "source": [
    "### Minimization with Constraint\n",
    "\n",
    "A small petroleum company owns two refineries. Refinery 1 costs `$20,000` per day to operate, and it can produce 400 barrels of high-grade oil, 300 barrels of medium-grade oil, and 200 barrels of low-grade oil each day. Refinery 2 is newer and more modern. It costs `$25,000` per day to operate, and it can produce 300 barrels of high-grade oil, 400 barrels of medium-grade oil, and 500 barrels of low-grade oil each day. The company has orders totaling 25,000 barrels of high-grade oil, 27,000 barrels of medium-grade oil, and 30,000 barrels of low-grade oil. How many days should it run each refinery to minimize its costs and still refine enough oil to meet its orders?\n",
    "\n",
    "**Hint**: you need to identify the unknown quantities (working days for each refinery) and set the constraints on the production of barrels. The objective is to minimize the costs. If you have multiple constraints you can define a list of dictionaries (one for constraint). Furthermore in this case the constraint is not equal to but rather greater than so you have to set ineq type."
   ]
  },
  {
   "cell_type": "code",
   "execution_count": 1,
   "metadata": {},
   "outputs": [
    {
     "name": "stdout",
     "output_type": "stream",
     "text": [
      "     fun: 1750002.070622686\n",
      "     jac: array([20000., 25000.])\n",
      " message: 'Positive directional derivative for linesearch'\n",
      "    nfev: 8\n",
      "     nit: 6\n",
      "    njev: 2\n",
      "  status: 8\n",
      " success: False\n",
      "       x: array([25.00004033, 50.00005056])\n"
     ]
    }
   ],
   "source": [
    "from scipy.optimize import minimize \n",
    "\n",
    "def objective_function(x):\n",
    "    return (20000*x[0] + 25000*x[1])\n",
    "\n",
    "def cons1(x):\n",
    "    return 400*x[0] + 300*x[1] - 25000 \n",
    "def cons2(x):\n",
    "    return 300*x[0] + 400*x[1] - 27000 \n",
    "def cons3(x):\n",
    "    return 200*x[0] + 500*x[1] - 30000\n",
    "\n",
    "cons = [{\"type\":\"ineq\", \"fun\":cons1}, \n",
    "        {\"type\":\"ineq\", \"fun\":cons2}, \n",
    "        {\"type\":\"ineq\", \"fun\":cons3}]\n",
    "\n",
    "x0 = [10, 10]\n",
    "bounds = [(0, 100) for _ in range(len(x0))]\n",
    "r = minimize(objective_function, x0, bounds=bounds, constraints=cons) \n",
    "print (r)"
   ]
  },
  {
   "cell_type": "markdown",
   "metadata": {},
   "source": [
    "<img src=\"lesson4_39_0.png\">"
   ]
  },
  {
   "cell_type": "code",
   "execution_count": 2,
   "metadata": {},
   "outputs": [],
   "source": [
    "import numpy as np\n",
    "from math import pi\n",
    "\n",
    "def func(x):\n",
    "    return np.cos(3*pi*x)/x"
   ]
  },
  {
   "cell_type": "code",
   "execution_count": 3,
   "metadata": {},
   "outputs": [
    {
     "name": "stdout",
     "output_type": "stream",
     "text": [
      "      fun: array([-1.00569871])\n",
      " hess_inv: <1x1 LbfgsInvHessProduct with dtype=float64>\n",
      "      jac: array([-4.4408921e-07])\n",
      "  message: b'CONVERGENCE: NORM_OF_PROJECTED_GRADIENT_<=_PGTOL'\n",
      "     nfev: 16\n",
      "      nit: 5\n",
      "   status: 0\n",
      "  success: True\n",
      "        x: array([0.98865633])\n"
     ]
    }
   ],
   "source": [
    "from scipy.optimize import minimize\n",
    "x0 = [1.1]\n",
    "bounds = [(0.01, 2)]\n",
    "\n",
    "r = minimize(func, x0, bounds=bounds)\n",
    "print (r)"
   ]
  },
  {
   "cell_type": "code",
   "execution_count": 4,
   "metadata": {},
   "outputs": [
    {
     "name": "stdout",
     "output_type": "stream",
     "text": [
      "      fun: array([-3.17151711])\n",
      " hess_inv: <1x1 LbfgsInvHessProduct with dtype=float64>\n",
      "      jac: array([9.32587341e-07])\n",
      "  message: b'CONVERGENCE: NORM_OF_PROJECTED_GRADIENT_<=_PGTOL'\n",
      "     nfev: 16\n",
      "      nit: 5\n",
      "   status: 0\n",
      "  success: True\n",
      "        x: array([0.29691798])\n"
     ]
    }
   ],
   "source": [
    "from scipy.optimize import minimize\n",
    "x0 = [0.5]\n",
    "bounds = [(0.01, 2)]\n",
    "\n",
    "r = minimize(func, x0, bounds=bounds)\n",
    "print (r)"
   ]
  },
  {
   "cell_type": "markdown",
   "metadata": {},
   "source": [
    "### Add $\\tt{fair\\_value\\_strike}$ method\n",
    "\n",
    "$$\\mathrm{NPV_{fix}} = N\\cdot K\\sum_{i=1}^{n}D(d_i)\\cfrac{d_i - d_{i-1}}{360}$$\n",
    "\n",
    "$$\\mathrm{NPV_{float}} = N\\cdot [D(d_0) - D(d_n)]$$\n",
    "\n",
    "$$S\\sum_{i=1}^{n}D(d_i)\\cfrac{d_i - d_{i-1}}{360} = [D(d_0) - D(d_n)]$$\n",
    "\n",
    "$$S=\\cfrac{[D(d_0) - D(d_n)]}{\\sum_{i=1}^{n}D(d_i)\\cfrac{d_i - d_{i-1}}{360}}$$\n"
   ]
  },
  {
   "cell_type": "code",
   "execution_count": 5,
   "metadata": {},
   "outputs": [],
   "source": [
    "class OverNightIndexSwap: \n",
    "    def fair_value_strike(self, discount_curve): \n",
    "        den = 0\n",
    "        for i in range(1, len(self.payment_dates)): \n",
    "            start_date = self.payment_dates[i-1] \n",
    "            end_date = self.payment_dates[i]\n",
    "            tau = (end_date - start_date).days / 360 \n",
    "            df = discount_curve.df(end_date)\n",
    "            den += df * tau\n",
    "        num = (discount_curve.df(self.payment_dates[0]) -\n",
    "               discount_curve.df(self.payment_dates[-1]))\n",
    "        return num/den"
   ]
  },
  {
   "cell_type": "code",
   "execution_count": 6,
   "metadata": {},
   "outputs": [],
   "source": [
    "class OverNightIndexSwap: \n",
    "    def fair_value_strike(self, discount_curve): \n",
    "        den = self.npv_fixed_leg(discount_curve)/self.fixed_rate\n",
    "        num = self.npv_floated_leg(discount_curve)\n",
    "        return num/den"
   ]
  },
  {
   "cell_type": "markdown",
   "metadata": {},
   "source": [
    "### Forward Rate Class"
   ]
  },
  {
   "cell_type": "code",
   "execution_count": 7,
   "metadata": {},
   "outputs": [],
   "source": [
    "class ForwardRateCurve(object):\n",
    "    def __init__(self, pillar_dates, rates):\n",
    "        self.today = pillar_dates[0]\n",
    "        self.rates = rates\n",
    "        \n",
    "        self.pillar_days = [\n",
    "            (pillar_date - self.today).days\n",
    "            for pillar_date in pillar_dates\n",
    "        ]\n",
    "\n",
    "    def forward_rate(self, d):\n",
    "        d_days = (d - self.today).days\n",
    "        return numpy.interp(d_days, self.pillar_days, self.pillar_rates)"
   ]
  },
  {
   "cell_type": "markdown",
   "metadata": {
    "colab_type": "text",
    "id": "Cal9jfUFw0Cp",
    "slideshow": {
     "slide_type": "-"
    }
   },
   "source": [
    "# Monte Carlo Simulation\n",
    "\n",
    "The modern version of the Monte Carlo method was invented in the late 1940s by Stanislaw Ulam, while he was working on nuclear weapons projects at the Los Alamos National Laboratory. \n",
    "\n",
    "Monte Carlo methods, or experiments, are a broad class of computational algorithms that rely on repeated random sampling to obtain numerical results; the underlying concept is to use randomness to solve problems that might be deterministic in principle. Monte Carlo methods are mainly used in three problem classes: optimization, numerical integration, and generating draws from a probability distribution. \n",
    "\n",
    "Monte Carlo simulation is widely used in many fields: Engineering,\n",
    "Physics, Computational biology, Computer graphics, Applied statistics,\n",
    "Artificial intelligence for games, Search and rescue and of course\n",
    "Finance and business.\n",
    "\n",
    "### The Algorithm\n",
    "Monte Carlo (MC) methods are used when a closed-form solution for a\n",
    "property being studied cannot be developed. \n",
    "\n",
    "Monte Carlo simulation performs analysis by building models of possible results by substituting a range of values (i.e. a probability distribution) for any factor that has inherent uncertainty. \n",
    "It then calculates results over and over, each time using a different set of random values from the probability functions. Depending upon the number of uncertainties and the ranges specified for them, a Monte Carlo simulation could involve thousands or tens of thousands of recalculations before it is complete. \n",
    "Finally Monte Carlo simulation produces distributions of possible outcome values.\n",
    "\n",
    "A MC method/algorithm then can be described as follows:\n",
    "* select a domain $\\Omega$ for the inputs (probability distributions for our factors);\n",
    "* generate random inputs from the domain $\\Omega$;\n",
    "* perform a deterministic computation with those inputs;\n",
    "* aggregate the results.\n",
    "\n",
    "## Pseudo-Random Numbers\n",
    "\n",
    "Monte Carlo methods require large amounts of random numbers to generate the inputs, and it was their use that spurred the development of pseudorandom number generators. \n",
    "\n",
    "This is the main reason why every programming language has libraries that allows to produce huge series of random numbers (with a periodicity of $2^{19937}$).\n",
    "Those numbers are produced by algorithms that take as input a *seed* which determines univokely the series. This means that setting the same seed you will produce the same set of numbers every time (which is great for debugging purpouses).\n",
    "\n",
    "In $\\tt{python}$ the right module to use is `random` which has the following useful functions:\n",
    "\n",
    "* `seed` set the seed of the random number generator;\n",
    "* `random` returns a random number between 0 and 1 (with uniform probability);\n",
    "* `randint(min, max)` returns an integer random number between `min` and `max` (with uniform probability);\n",
    "* `sample(aList, k=n)` samples n elements from the list `aList`.\n",
    "\n",
    "As usual for a more detailed description check `help(random)`."
   ]
  },
  {
   "cell_type": "code",
   "execution_count": 8,
   "metadata": {
    "colab": {
     "base_uri": "https://localhost:8080/",
     "height": 468
    },
    "colab_type": "code",
    "executionInfo": {
     "elapsed": 713,
     "status": "ok",
     "timestamp": 1572127724382,
     "user": {
      "displayName": "Matteo Sani",
      "photoUrl": "https://lh3.googleusercontent.com/a-/AAuE7mAJoEkE0aEpcWTzP7VnHn98dIfMUkpRno3NEZn6SA=s64",
      "userId": "10639058540037747059"
     },
     "user_tz": -120
    },
    "id": "pUuPzyvsLSHD",
    "outputId": "c3f979d6-b5b9-4d66-ac18-2083183b0160",
    "slideshow": {
     "slide_type": "-"
    }
   },
   "outputs": [
    {
     "name": "stdout",
     "output_type": "stream",
     "text": [
      "0.13436424411240122\n",
      "0.8474337369372327\n",
      "0.9560342718892494\n",
      "0.9478274870593494\n",
      "0.13436424411240122\n",
      "0.8474337369372327\n",
      "1\n",
      "['c', 'a']\n"
     ]
    }
   ],
   "source": [
    "# test seed number and sample\n",
    "import random \n",
    "\n",
    "random.seed(1)\n",
    "print (random.random())\n",
    "print (random.random())\n",
    "\n",
    "random.seed(2)\n",
    "print (random.random())\n",
    "print (random.random())\n",
    "\n",
    "random.seed(1)\n",
    "print (random.random())\n",
    "print (random.random())\n",
    "\n",
    "print (random.randint(0, 10))\n",
    "\n",
    "a = ['a', 'b', 'c', 'd']\n",
    "print (random.sample(a, 2))"
   ]
  },
  {
   "cell_type": "markdown",
   "metadata": {},
   "source": [
    "Below an example of uniform distribution."
   ]
  },
  {
   "cell_type": "code",
   "execution_count": 10,
   "metadata": {
    "slideshow": {
     "slide_type": "-"
    }
   },
   "outputs": [
    {
     "data": {
      "image/png": "[encoded data removed]",
      "text/plain": [
       "<Figure size 432x288 with 1 Axes>"
      ]
     },
     "metadata": {
      "needs_background": "light"
     },
     "output_type": "display_data"
    }
   ],
   "source": [
    "# uniform distrobution\n",
    "numbers = []\n",
    "for _ in range(100000):\n",
    "    numbers.append(random.random())\n",
    "    \n",
    "from matplotlib import pyplot as plt\n",
    "plt.hist(numbers, bins=100)\n",
    "plt.show()"
   ]
  },
  {
   "cell_type": "markdown",
   "metadata": {
    "slideshow": {
     "slide_type": "-"
    }
   },
   "source": [
    "Other modules provide random number generators. Below an example with `numpy.random` which allows among others to throw random numbers according to a standard normal distribution ($\\mathcal{N}(0, 1)$)."
   ]
  },
  {
   "cell_type": "code",
   "execution_count": 11,
   "metadata": {
    "colab": {
     "base_uri": "https://localhost:8080/",
     "height": 281
    },
    "colab_type": "code",
    "executionInfo": {
     "elapsed": 1242,
     "status": "ok",
     "timestamp": 1572128608841,
     "user": {
      "displayName": "Matteo Sani",
      "photoUrl": "https://lh3.googleusercontent.com/a-/AAuE7mAJoEkE0aEpcWTzP7VnHn98dIfMUkpRno3NEZn6SA=s64",
      "userId": "10639058540037747059"
     },
     "user_tz": -120
    },
    "id": "t1uopGp_Jlyh",
    "outputId": "5a57bfc2-b64b-4c81-dbce-1bf46df7c03e",
    "slideshow": {
     "slide_type": "-"
    }
   },
   "outputs": [
    {
     "data": {
      "image/png": "[encoded data removed]",
      "text/plain": [
       "<Figure size 432x288 with 1 Axes>"
      ]
     },
     "metadata": {
      "needs_background": "light"
     },
     "output_type": "display_data"
    }
   ],
   "source": [
    "# normal distribution\n",
    "from numpy.random import normal, seed\n",
    "\n",
    "seed(1)\n",
    "number = []\n",
    "for _ in range(10000):\n",
    "    number.append(normal())\n",
    "    \n",
    "plt.hist(number, bins=50)\n",
    "plt.show()"
   ]
  },
  {
   "cell_type": "markdown",
   "metadata": {
    "colab_type": "text",
    "id": "fl16WXNALVnF",
    "slideshow": {
     "slide_type": "-"
    }
   },
   "source": [
    "#### Example of Monte Carlo Simulation\n",
    "\n",
    "Let's check the probability to get two kings drawing randomly two cards from a deck.\n",
    "Using a frequentist approach, we can calculate the probability of an event as the ratio of the number of favorable outcomes of an experiment (number of successes) and the number of all possible outcomes so for our example:\n",
    "\n",
    "$$P_\\textrm{two kings} = \\frac{4}{40} \\cdot \\frac{3}{39} = \\frac{1}{130} \\approx 0.0077$$\n",
    "\n",
    "Let's now try with a Monte Carlo simulation."
   ]
  },
  {
   "cell_type": "code",
   "execution_count": 12,
   "metadata": {
    "colab": {
     "base_uri": "https://localhost:8080/",
     "height": 204
    },
    "colab_type": "code",
    "executionInfo": {
     "elapsed": 5069,
     "status": "ok",
     "timestamp": 1572127791290,
     "user": {
      "displayName": "Matteo Sani",
      "photoUrl": "https://lh3.googleusercontent.com/a-/AAuE7mAJoEkE0aEpcWTzP7VnHn98dIfMUkpRno3NEZn6SA=s64",
      "userId": "10639058540037747059"
     },
     "user_tz": -120
    },
    "id": "nPVXb08Y4cKQ",
    "outputId": "88009bc5-0b7e-483c-b0d0-1721e9aa26b3",
    "slideshow": {
     "slide_type": "-"
    }
   },
   "outputs": [
    {
     "name": "stdout",
     "output_type": "stream",
     "text": [
      "['6', '4']\n",
      "['2', '4']\n",
      "['5', 'K']\n",
      "['6', 'A']\n",
      "['2', 'J']\n",
      "['4', 'K']\n",
      "['K', '2']\n",
      "['5', '6']\n",
      "['A', '6']\n",
      "['5', '2']\n",
      "0.007\n"
     ]
    }
   ],
   "source": [
    "# define the domain of inputs\n",
    "from random import sample, seed\n",
    "\n",
    "deck = ['A', 'K',  'Q', 'J', '2', '3', '4', '5', '6', '7'] * 4\n",
    "trials = 10000\n",
    "successes = 0.0\n",
    "\n",
    "seed(1)\n",
    "# sampling inputs\n",
    "for i in range(trials):\n",
    "    cards = sample(deck, 2)\n",
    "    if i < 10:\n",
    "        print (cards)\n",
    "    if cards == ['K', 'K']:\n",
    "        successes += 1\n",
    "        \n",
    "print (successes/trials)"
   ]
  },
  {
   "cell_type": "markdown",
   "metadata": {},
   "source": [
    "Since we rely on a frequentist approach naively we can say that the lower is the probability we need to estimate the higher has to be the number of simulated trials. This is because to get a reasonable number of \"success\" so that the uncertainty in the probability is small, we have to try many times. This is apparent playing with the number of trials in the above simulation.\n",
    "Monte Carlo Simulation is not always the best approach to follow !"
   ]
  },
  {
   "cell_type": "markdown",
   "metadata": {},
   "source": [
    "### Determine $\\pi$\n",
    "\n",
    "Also in this case we know what to expect: $\\pi\\approx 3.141592653589793$. In order to get an estimate with MC simulation a straightforward geometric approach is to consider a circle of diameter $D$ which is inscribed in a square with side length $D$. \n",
    "\n",
    "<img src=\"circle_inscribed.jpeg\" width=200>\n",
    "\n",
    "Computing the ratio of the area of the 2 figures\n",
    "\n",
    "$$\\cfrac{\\textrm{Area Circle}}{\\textrm{Area Square}} = \\cfrac{\\pi D^2/4}{D^2} = \\cfrac{\\pi}{4} $$\n",
    "\n",
    "The algorithm to approximate $\\pi$ should be like the following:\n",
    "* select 2 random numbers, $x_1$ and $x_2$, from the interval $[0,D]$;\n",
    "* determine if the point defined by the ordered pair $(x_1, x_2)$ lies within or on\n",
    "the circle (check if $D \\le\\sqrt{x_1^2 + x_2^2}$) , keeping track of the total number of points within or on the circle and the total number of points tested;\n",
    "* approximate the ratio of the areas by the number of points within or on the\n",
    "circle divided by the total number of points tested;\n",
    "* multiply the approximated area by 4 to get $\\pi$."
   ]
  },
  {
   "cell_type": "code",
   "execution_count": 17,
   "metadata": {},
   "outputs": [
    {
     "name": "stdout",
     "output_type": "stream",
     "text": [
      "Approx. pi: 3.1416\n"
     ]
    }
   ],
   "source": [
    "from random import random, seed\n",
    "from math import sqrt\n",
    "\n",
    "seed(1)\n",
    "in_circle = 0.0\n",
    "trials = 10000\n",
    "\n",
    "for _ in range(trials):\n",
    "    x1 = random()\n",
    "    x2 = random()\n",
    "    r = sqrt(pow(x1, 2) + pow(x2, 2))\n",
    "    if r <= 1:\n",
    "        in_circle += 1\n",
    "        \n",
    "print (\"Approx. pi: {}\".format(in_circle/trials*4))"
   ]
  },
  {
   "cell_type": "markdown",
   "metadata": {},
   "source": [
    "### Accuracy of Monte Carlo SImulations\n",
    "\n",
    "From the central limit theorem stats that if we have $Y_1, Y_2,\\dots, Y_n$ which are random samples from a distribution $Y$ with true mean $\\mu$ and variance $\\sigma^{2}$. Then if $n$ is sufficiently large, \n",
    "\n",
    "$$ \\bar{Y} = \\cfrac{1}{n}\\sum_i^n Y_i $$\n",
    "has approximately a normal distribution $\\mathcal{N}(\\mu, \\sigma^2/n)$. \n",
    "\n",
    "The higher is $n$ the narrower is the distribution of the results around $\\mu$.\n",
    "\n",
    "This means that if ones repeates the a MC experiment (e.g. changing the seed of the random number generator) she should obtain results normally distributed around the the *true* value $\\mu$"
   ]
  },
  {
   "cell_type": "code",
   "execution_count": 2,
   "metadata": {},
   "outputs": [
    {
     "name": "stdout",
     "output_type": "stream",
     "text": [
      "Mean:  0.00769388\n",
      "Std :  0.0008770499105524154\n"
     ]
    }
   ],
   "source": [
    "# define the domain of inputs\n",
    "import numpy as np\n",
    "from random import sample, seed\n",
    "\n",
    "deck = ['A', 'K',  'Q', 'J', '2', '3', '4', '5', '6', '7'] * 4\n",
    "experiments = 10000\n",
    "trials = 10000\n",
    "r = []\n",
    "for e in range(experiments):\n",
    "    seed(e)\n",
    "    successes = 0.0\n",
    "    for i in range(trials):\n",
    "        cards = sample(deck, 2)\n",
    "        if cards == ['K', 'K']:\n",
    "            successes += 1\n",
    "        \n",
    "    r.append(successes/trials)\n",
    "\n",
    "print (\"Mean: \", np.mean(r))\n",
    "print (\"Std : \", np.std(r))"
   ]
  },
  {
   "cell_type": "code",
   "execution_count": 49,
   "metadata": {
    "scrolled": true
   },
   "outputs": [
    {
     "data": {
      "image/png": "[encoded data removed]",
      "text/plain": [
       "<Figure size 576x360 with 1 Axes>"
      ]
     },
     "metadata": {
      "needs_background": "light"
     },
     "output_type": "display_data"
    }
   ],
   "source": [
    "from matplotlib import pyplot as plt\n",
    "\n",
    "fig = plt.figure(figsize=(8,5))\n",
    "plt.hist(r, 25, range=(0.004, 0.012))\n",
    "plt.grid(True)\n",
    "\n",
    "plt.show()"
   ]
  },
  {
   "cell_type": "markdown",
   "metadata": {},
   "source": [
    "Hence:\n",
    "$$\\mu_n - \\mu \\approx \\mathcal{N}(0, \\sigma^2/n) $$\n",
    "\n",
    "<img src=\"confidence_interval.png\">\n",
    "\n",
    "So considering one single Monte Carlo experiment we can define an interval so that there is a certain probability to find $\\mu$ in there.\n",
    "Referring to the previous Figure we can write:\n",
    "\n",
    "$$ \\mathbb{P}\\left(\\mu_n - \\cfrac{1.96\\sigma}{\\sqrt{n}}\\le \\mu \\le \\mu_n + \\cfrac{1.96\\sigma}{\\sqrt{n}}\\right) = 0.95$$\n",
    "\n",
    "This interval is called **95% confidence interval** because the shaded part covers 95% of the total area under the Gaussian.\n",
    "It can be interpreted as if you repeat many times the above simulation, the fraction of calculated confidence intervals that contains the true parameter $\\mu$ would tend toward 95%.\n",
    "\n",
    "The most common intervals are 99% and 95% confidence levels and are respectively defined as $\\pm \\cfrac{2.57\\sigma}{\\sqrt{n}}$ and $\\pm \\cfrac{1.96\\sigma}{\\sqrt{n}}$ (in the notes there is the formula to define custom intervals).\n",
    "\n",
    "The confidence interval can be used to assess the accuracy of the Monte Carlo simulation.\n",
    "The root mean squared error on our best estimate of $\\mu$ is:\n",
    "\n",
    "$$ \\mathrm{RMSE}(\\mu_n) = \\sqrt{\\mathbb{E}((\\mu_n - \\mu )^2)} = \\sqrt{\\cfrac{\\sigma^2}{n}}=\\cfrac{\\sigma}{\\sqrt{n}} $$\n",
    "where $\\sigma^2 = \\mathrm{Var}(Y)$.\n",
    "\n",
    "* to get one more decimal digit of accuracy is like asking for an RMSE\n",
    "one tenth as large, and that requires a 100-fold increase in computation. \n",
    "* to get three more digits of accuracy requires one million times as much computation. "
   ]
  },
  {
   "cell_type": "markdown",
   "metadata": {},
   "source": [
    "### Derivation of log-normal Stochastic Differential Equation\n",
    "\n",
    "Stock prices deviate from a steady state as a result of the random fluctuations given by the trades. Considering a stock with a price $S_t$ and an expected rate of return $\\mu$, then the relative change in its price during a period $dt$ can be decomposed in two parts:\n",
    "\n",
    "* a deterministic part that is the expected return from the stock hold during the time period $dt$ ($\\mu S_tdt$)\n",
    "* a stochastic part which reflects the random changes of the market (e.g. as a response to external effects such as unexpected news). A reasonable assumption is to take this contribution proportional to the stock ($\\sigma S_tdB_t$ where $dB_t$ is a random walk process equal to $\\mathcal{N}(0,1)\\sqrt{dt} = \\epsilon\\sqrt{dt}$).\n",
    "\n",
    "The resulting differential equation is:\n",
    "\n",
    "$$dS_t = \\mu S_tdt + \\sigma S_tdB_t$$\n",
    "or\n",
    "$$\\frac{dS_t}{S_t} = d\\textrm{log}(S_t) = \\mu dt + \\sigma dB_t$$\n",
    "\n",
    "The solution of this equation can be derived by applying the It$\\hat{o}$'s formula which states that for any given function $G(S, t)$ where $S$ satisfies the following stochastic differential equation $dS=a\\cdot dt +b\\cdot dB_t$ it holds:\n",
    "\n",
    "$$dG=\\big(a\\frac{\\partial G}{\\partial S} + \\frac{\\partial G}{\\partial t} + \\frac{1}{2}b^2\\frac{\\partial^2 G}{\\partial S^2} \\big)dt + b \\frac{\\partial G}{\\partial S}dB$$\n",
    "\n",
    "Considering $G = \\textrm{log}(S_t)$ we have:\n",
    "\n",
    "$$\\frac{\\partial G}{\\partial S} = \\frac{\\partial \\mathrm{log}(S_t)}{\\partial S} = \\frac{1}{S_t}$$\n",
    "\n",
    "$$\\frac{\\partial G}{\\partial t} = 0$$\n",
    "\n",
    "$$\\frac{\\partial^2 G}{\\partial S^2} = \\frac{\\partial \\frac{1}{S_t}}{\\partial S} = -\\frac{1}{S_t^{2}}$$\n",
    "\n",
    "By inserting these into It$\\hat{o}$'s formula we get:\n",
    "\n",
    "$$d(\\textrm{log} S_t) = \\big(\\mu S_t \\frac{1}{S_t} + \\frac{1}{2}\\sigma^2 S_t^2 (-\\frac{1}{S_t^2})\\big)dt + \\sigma\\epsilon\\sqrt{dt}$$\n",
    "\n",
    "$$d(\\textrm{log} S_t) = \\textrm{log} (S_t) - \\textrm{log} (S_{t-1}) = \\textrm{log} \\frac{S_t}{S_{t-1}} = \\big(\\mu - \\frac{1}{2}\\sigma^2\\big)dt + \\sigma\\epsilon\\sqrt{dt}$$\n",
    "\n",
    "$$S_t = S_{t-1}e^{\\big(\\mu - \\frac{1}{2}\\sigma^2\\big)dt + \\sigma\\epsilon\\sqrt{dt}}$$\n",
    "\n",
    "As can be seen from the following equation:\n",
    "\n",
    "$$d(\\textrm{log} S_t) = \\big(\\mu - \\frac{1}{2}\\sigma^2\\big)dt + \\sigma\\epsilon\\sqrt{dt}$$\n",
    "\n",
    "the change in $\\textrm{log} S_t$ has a constant *drift* $\\mu - \\frac{1}{2}\\sigma^2$ and a constance variance rate $\\sigma^2$ (remember that $\\epsilon$ is a normally distributed random variable ($\\mathcal{N}(0,1)$). So you have a constant plus a gaussian distributed variable, therefore $\\textrm{log} S_t$ at some time $T$ is normally distributed with:\n",
    "\n",
    "$$\\textrm{log}S_t - \\textrm{log}S_0 \\approx\\mathcal{N}\\big[\\big(\\mu-\\frac{\\sigma^2}{2}\\big)T, \\sigma^2 T\\big]$$\n",
    "\n",
    "This equation shows that $\\textrm{log}S_t$ is normally distributed, but **a variable whose logarithm is normally distributed is said to be log-normal**. Hence the model we have just developed implies that the stock price at time T, given today's price, is lognormally distributed.\n",
    "\n",
    "Lognormality is important because we need to ensure that a stock price will never be negative. Indeed looking at the initial $dS$ equation we have that:\n",
    "\n",
    "$$dS_t = \\mu S_tdt + \\sigma S_tdB_t$$\n",
    "\n",
    "which shows that the closer is $S_t$ to 0 the smaller is the $dS$ variation (so it will never go below 0).\n",
    "\n",
    "Let's implement the simulation of a stock price."
   ]
  },
  {
   "cell_type": "code",
   "execution_count": 21,
   "metadata": {},
   "outputs": [
    {
     "data": {
      "image/png": "[encoded data removed]",
      "text/plain": [
       "<Figure size 432x288 with 1 Axes>"
      ]
     },
     "metadata": {
      "needs_background": "light"
     },
     "output_type": "display_data"
    }
   ],
   "source": [
    "# stock price evolution\n",
    "from numpy.random import normal, seed\n",
    "from math import exp, sqrt\n",
    "\n",
    "seed(1)\n",
    "S = 100\n",
    "series = []\n",
    "mu = 0.1/252\n",
    "sigma = 0.15\n",
    "T = 1\n",
    "for _ in range(100):\n",
    "    S = S*exp((mu - 0.5*sigma**2)*T - sigma*sqrt(T)*normal())\n",
    "    series.append(S)\n",
    "    \n",
    "plt.plot(range(100), series)\n",
    "plt.grid(True)\n",
    "plt.show()"
   ]
  },
  {
   "cell_type": "markdown",
   "metadata": {
    "colab_type": "text",
    "id": "50Aw7k02w0CA",
    "slideshow": {
     "slide_type": "slide"
    }
   },
   "source": [
    "## Interest Rate Swaps\n",
    "\n",
    "Interest rate swaps (IRS) consist of a floating leg and a fixed leg. The contract parameters are:\n",
    "\n",
    "* start date $d_0$\n",
    "* notional $N$\n",
    "* fixed rate $K$\n",
    "* floating rate tenor (months)\n",
    "* maturity (years)\n",
    "\n",
    "The floating leg pays the reference LIBOR fixing at a frequency equal to the tenor of the floating rate - so for example an IRS on a 3-month LIBOR will pay a floating coupon every three months, an IRS on 6-month EURIBOR pays the floating coupon every six months and so on.\n",
    "\n",
    "The fixed leg pays a predetermined cash flow at annual frequency, regardless of the tenor of  the underlying floating rate. For simplicity we will only consider swaps with maturities which are multiples of 1 year.\n",
    "\n",
    "Before going into the deatils of the valuation of IRSs, we need to modify the `generate_swap_dates` function in our `finmarkets` module to generate the payment dates for both the fixed and floating legs, as follows:"
   ]
  },
  {
   "cell_type": "code",
   "execution_count": 22,
   "metadata": {
    "colab": {
     "base_uri": "https://localhost:8080/",
     "height": 136
    },
    "colab_type": "code",
    "executionInfo": {
     "elapsed": 460,
     "status": "ok",
     "timestamp": 1572128954852,
     "user": {
      "displayName": "Matteo Sani",
      "photoUrl": "https://lh3.googleusercontent.com/a-/AAuE7mAJoEkE0aEpcWTzP7VnHn98dIfMUkpRno3NEZn6SA=s64",
      "userId": "10639058540037747059"
     },
     "user_tz": -120
    },
    "id": "6vlqLlwgw0CE",
    "outputId": "55c3a3b4-a4be-4bdf-a6d8-872fee48b945",
    "scrolled": true,
    "slideshow": {
     "slide_type": "fragment"
    }
   },
   "outputs": [
    {
     "data": {
      "text/plain": [
       "[datetime.date(2020, 10, 28),\n",
       " datetime.date(2021, 4, 28),\n",
       " datetime.date(2021, 10, 28),\n",
       " datetime.date(2022, 1, 28)]"
      ]
     },
     "execution_count": 22,
     "metadata": {},
     "output_type": "execute_result"
    }
   ],
   "source": [
    "# modify generate_swap_dates\n",
    "from datetime import date\n",
    "from dateutil.relativedelta import relativedelta\n",
    "\n",
    "def generate_swap_dates(start_date, nmonths, tenor=12):\n",
    "    dates = []\n",
    "    for i in range(0, nmonths, tenor):\n",
    "        dates.append(start_date + relativedelta(months=i))\n",
    "    dates.append(start_date + relativedelta(months=nmonths))\n",
    "    return dates\n",
    "\n",
    "generate_swap_dates(date.today(), 15, 6)"
   ]
  },
  {
   "cell_type": "markdown",
   "metadata": {
    "colab_type": "text",
    "id": "EOVpabaFw0CK",
    "slideshow": {
     "slide_type": "fragment"
    }
   },
   "source": [
    "Using this function and the contract parameters we will be able to  determine a sequence of payment dates for each of the two legs.\n",
    "\n",
    "Let $d_0=d_0^{\\mathrm{fixed}},...,d_p^{\\mathrm{fixed}}$ be the fixed leg payment dates and $d_0=d_0^{\\mathrm{float}},...,d_p^{\\mathrm{float}}$ be the floating leg payment dates, and let's use the following notation:\n",
    "\n",
    "* $d$ the pricing date\n",
    "* $D(d, d')$ the discount factor observed in date $d$ for the value date $d'$\n",
    "* $F(d, d', d'')$ the forward rate observed in date $d$ for the period $[d', d'']$. The rate tenor is $\\tau = d'' - d'$.\n",
    "\n",
    "The NPV of the fixed leg is calculated as follows:\n",
    "\n",
    "$$\\mathrm{NPV}_{\\mathrm{fixed}}(d; K) = N\\cdot K\\cdot\\sum_{i=1}^{n}D(d, d_{i}^{\\mathrm{fixed}})$$\n",
    "\n",
    "while the NPV of the floating leg is calculated as follows:\n",
    "\n",
    "$$\\mathrm{NPV}_{\\mathrm{float}}(d) = N\\cdot\\sum_{i=1}^{m}F(d, d_{j-1}^{\\mathrm{float}}, d_{j}^{\\mathrm{float}}) \\cdot \\frac{d_{j}^{\\mathrm{float}}-d_{j-1}^{\\mathrm{float}}}{360}\n",
    "\\cdot D(d, d_{i}^{\\mathrm{float}})$$\n",
    "\n",
    "Therefore the NPV of the swap (seen from the point of view of the counter-party which receives the floating leg) is\n",
    "\n",
    "$$\\mathrm{NPV}(d; K) = \\mathrm{NPV}_{\\mathrm{float}}(d) - \\mathrm{NPV}_{\\mathrm{fixed}}(d;K)$$\n",
    "\n",
    "For reasons which will become apparent later, it's actually more convenient to express the NPV of an IRS as a function of the fair value fixed rate $S$ of the IRS, also known as the **swap rate**. $S$ is the value of K which makes $\\mathrm{NPV}(d)=0$.\n",
    "\n",
    "On the basis of the previous expressions, we can easiy calculate $S$ as:\n",
    "\n",
    "$$\\mathrm{NPV}_{\\mathrm{fixed}}(d;S) = \\mathrm{NPV}_{\\mathrm{float}}(d)$$\n",
    "<br>\n",
    "$$N\\cdot S\\cdot\\sum_{i=1}^{n}D(d, d_{i}^{\\mathrm{fixed}}) = N\\cdot\\sum_{i=1}^{m}F(d, d_{j-1}^{\\mathrm{float}}, d_{j}^{\\mathrm{float}}) \\cdot \\frac{d_{j}^{\\mathrm{float}}-d_{j-1}^{\\mathrm{float}}}{360} \\cdot D(d, d_{i}^{\\mathrm{float}})$$\n",
    "<br>\n",
    "$$S=\\frac{\\sum_{i=1}^{m}F(d, d_{j-1}^{\\mathrm{float}}, d_{j}^{\\mathrm{float}}) \\cdot \\frac{d_{j}^{\\mathrm{float}}-d_{j-1}^{\\mathrm{float}}}{360}\n",
    "\\cdot D(d, d_{i}^{\\mathrm{float}})}{\\sum_{i=1}^{n}D(d, d_i^{\\mathrm{fixed}})} $$\n",
    "\n",
    "Once we have calculated $S$, we can express the $\\mathrm{NPV}$ of an IRS as follows:\n",
    "\n",
    "$$\\begin{align}&\\mathrm{NPV}(d; K) = \\mathrm{NPV}_{\\mathrm{float}}(d) - \\mathrm{NPV}_{\\mathrm{fixed}}(d; K) = & \\\\ \\\\ &= \\underbrace{\\mathrm{NPV}_{\\mathrm{float}}(d) - \\mathrm{NPV}_{\\mathrm{fixed}}(d; S)}_{\\mathrm{=\\;0}} + \\mathrm{NPV}_{\\mathrm{fixed}}(d;S) - \\mathrm{NPV}_{\\mathrm{fixed}}(d;K) & \\\\ & = N\\cdot(S-K)\\cdot\\underbrace{\\sum_{i=1}^{n}D(d, d_{i}^{\\mathrm{fixed}})}_{\\mathrm{'annuity'}}\\end{align}$$\n",
    "\n",
    "Now we can implement an `InterestRateSwap` class to valuate IRS contracts."
   ]
  },
  {
   "cell_type": "code",
   "execution_count": 23,
   "metadata": {
    "colab": {
     "base_uri": "https://localhost:8080/",
     "height": 368
    },
    "colab_type": "code",
    "executionInfo": {
     "elapsed": 630,
     "status": "error",
     "timestamp": 1572128972543,
     "user": {
      "displayName": "Matteo Sani",
      "photoUrl": "https://lh3.googleusercontent.com/a-/AAuE7mAJoEkE0aEpcWTzP7VnHn98dIfMUkpRno3NEZn6SA=s64",
      "userId": "10639058540037747059"
     },
     "user_tz": -120
    },
    "id": "DAFn_3TLw0CU",
    "outputId": "6fbb3fa7-6d5c-4271-afef-f8fe2d3ed0e0",
    "slideshow": {
     "slide_type": "slide"
    }
   },
   "outputs": [],
   "source": [
    "# implent InterestRateSap \n",
    "class InterestRateSwap:\n",
    "    def __init__(self, notional, start_date, fixed_rate, maturity, tenor):\n",
    "        self.notional = notional\n",
    "        self.start_date = start_date\n",
    "        self.fixed_payment_dates = generate_swap_dates(start_date, maturity*12)\n",
    "        self.floating_payment_dates = generate_swap_dates(start_date, maturity*12, tenor)\n",
    "        self.fixed_rate = fixed_rate   \n",
    "\n",
    "    def annuity(self, discount_curve):\n",
    "        a = 0\n",
    "        for p in self.fixed_payment_dates:\n",
    "            a += discount_curve.df(p)\n",
    "        return a\n",
    "    \n",
    "    def S(self, discount_curve, libor_curve):\n",
    "        s = 0\n",
    "        for i in range(1, len(self.floating_payment_dates)):\n",
    "            p1 = self.floating_payment_dates[i-1]\n",
    "            p2 = self.floating_payment_dates[i]\n",
    "            s += libor_curve.forward_rate(p1)*(p2-p1).days/360*discount_curve.df(p2)\n",
    "            \n",
    "        return s/self.annuity(discount_curve)\n",
    "        \n",
    "    def npv(self, discount_curve, libor_curve):\n",
    "        return self.notional*(self.S(discount_curve, libor_curve) - \\\n",
    "                              self.fixed_rate)*self.annuity(discount_curve)"
   ]
  },
  {
   "cell_type": "markdown",
   "metadata": {
    "colab_type": "text",
    "id": "R4ZEVWVmw0CP",
    "slideshow": {
     "slide_type": "slide"
    }
   },
   "source": [
    "For convenience the relevant inputs that will be used later (libor and discount curve definitions) have been saved in the files $\\href{https://drive.google.com/file/d/1dm5oZnZKmJM6UrV0L32OcqD5Tzs9SI9A/view?usp=sharing}{\\texttt{libor_curve.xlsx}}$ and $\\href{https://drive.google.com/file/d/14R22r7m-6VpQ_P79D3qHdK0QN_mOQ_UB/view?usp=sharing}{\\texttt{discount_curve.xlsx}}$."
   ]
  },
  {
   "cell_type": "code",
   "execution_count": 24,
   "metadata": {
    "colab": {
     "base_uri": "https://localhost:8080/",
     "height": 351
    },
    "colab_type": "code",
    "executionInfo": {
     "elapsed": 469,
     "status": "error",
     "timestamp": 1572128959854,
     "user": {
      "displayName": "Matteo Sani",
      "photoUrl": "https://lh3.googleusercontent.com/a-/AAuE7mAJoEkE0aEpcWTzP7VnHn98dIfMUkpRno3NEZn6SA=s64",
      "userId": "10639058540037747059"
     },
     "user_tz": -120
    },
    "id": "iHN_2nnlw0CQ",
    "outputId": "33fe3336-6e35-4dd0-e808-60b40aed9993",
    "scrolled": false,
    "slideshow": {
     "slide_type": "fragment"
    }
   },
   "outputs": [
    {
     "name": "stdout",
     "output_type": "stream",
     "text": [
      "1.0041959227522805\n",
      "0.060712328767123284\n"
     ]
    }
   ],
   "source": [
    "# import xlsx and define discount and libor curves\n",
    "import pandas as pd\n",
    "from datetime import date\n",
    "from finmarkets import DiscountCurve, ForwardRateCurve\n",
    "\n",
    "observation_date = date.today()\n",
    "discount_data = pd.read_excel('discount_curve.xlsx')\n",
    "libor_data = pd.read_excel('libor_curve.xlsx')\n",
    "\n",
    "dc = DiscountCurve(observation_date, \n",
    "                   discount_data['pillars'].dt.date.tolist(),\n",
    "                   discount_data['discount_factors'].tolist())\n",
    "\n",
    "fr = ForwardRateCurve(libor_data['dates'].dt.date.tolist(),\n",
    "                      libor_data['rates'].tolist())\n",
    "\n",
    "print(dc.df(date(2021, 1, 1)))\n",
    "print (fr.forward_rate(date(2021, 1, 1)))"
   ]
  },
  {
   "cell_type": "markdown",
   "metadata": {},
   "source": [
    "Let's test our class instantiating an IRS with 1M notional, fixed rate of 5%, 6 month tenor and a maturity of 4 years; discount and libor curves are the same as before."
   ]
  },
  {
   "cell_type": "code",
   "execution_count": 25,
   "metadata": {
    "colab": {
     "base_uri": "https://localhost:8080/",
     "height": 181
    },
    "colab_type": "code",
    "executionInfo": {
     "elapsed": 430,
     "status": "error",
     "timestamp": 1572128972872,
     "user": {
      "displayName": "Matteo Sani",
      "photoUrl": "https://lh3.googleusercontent.com/a-/AAuE7mAJoEkE0aEpcWTzP7VnHn98dIfMUkpRno3NEZn6SA=s64",
      "userId": "10639058540037747059"
     },
     "user_tz": -120
    },
    "id": "IMkf-YK1w0CX",
    "outputId": "b501e2eb-a5e0-48d4-e21d-449a4cbc13ae",
    "slideshow": {
     "slide_type": "slide"
    }
   },
   "outputs": [
    {
     "data": {
      "text/plain": [
       "17517.942857055208"
      ]
     },
     "execution_count": 25,
     "metadata": {},
     "output_type": "execute_result"
    }
   ],
   "source": [
    "# test it\n",
    "start_date = date.today()+relativedelta(months=1)\n",
    "irs = InterestRateSwap(1e6, start_date, 0.05, 4, 6)\n",
    "irs.npv(dc, fr)"
   ]
  },
  {
   "cell_type": "markdown",
   "metadata": {
    "colab_type": "text",
    "id": "wXwkA1FQw0Ca",
    "slideshow": {
     "slide_type": "fragment"
    }
   },
   "source": [
    "Can you guess what could be the **swap rate** given the value obtained for the NPV ? \n",
    "\n",
    "(Remember that we are looking at this contracts from the point of view of the receiver of the floating leg...)"
   ]
  },
  {
   "cell_type": "code",
   "execution_count": 26,
   "metadata": {
    "colab": {
     "base_uri": "https://localhost:8080/",
     "height": 164
    },
    "colab_type": "code",
    "executionInfo": {
     "elapsed": 742,
     "status": "error",
     "timestamp": 1572128975123,
     "user": {
      "displayName": "Matteo Sani",
      "photoUrl": "https://lh3.googleusercontent.com/a-/AAuE7mAJoEkE0aEpcWTzP7VnHn98dIfMUkpRno3NEZn6SA=s64",
      "userId": "10639058540037747059"
     },
     "user_tz": -120
    },
    "id": "ZHPydpMLw0Cb",
    "outputId": "9a104d86-a87b-4037-c99d-9aa98e2f365b",
    "slideshow": {
     "slide_type": "-"
    }
   },
   "outputs": [
    {
     "data": {
      "text/plain": [
       "0.05347864726072163"
      ]
     },
     "execution_count": 26,
     "metadata": {},
     "output_type": "execute_result"
    }
   ],
   "source": [
    "# check the swap rate\n",
    "irs.S(dc, fr)"
   ]
  },
  {
   "cell_type": "markdown",
   "metadata": {},
   "source": [
    "To check if the we have computed correctly the swap rate we can instanciate a new IRS with fixed rate equal to the just calculated swap rate and print its NPV, it should come very close to 0."
   ]
  },
  {
   "cell_type": "code",
   "execution_count": 29,
   "metadata": {
    "colab": {
     "base_uri": "https://localhost:8080/",
     "height": 181
    },
    "colab_type": "code",
    "executionInfo": {
     "elapsed": 400,
     "status": "error",
     "timestamp": 1572128975374,
     "user": {
      "displayName": "Matteo Sani",
      "photoUrl": "https://lh3.googleusercontent.com/a-/AAuE7mAJoEkE0aEpcWTzP7VnHn98dIfMUkpRno3NEZn6SA=s64",
      "userId": "10639058540037747059"
     },
     "user_tz": -120
    },
    "id": "UONUQ_69w0Ce",
    "outputId": "523fe290-b7db-47f7-b644-fb60a8eae32c",
    "slideshow": {
     "slide_type": "fragment"
    }
   },
   "outputs": [
    {
     "data": {
      "text/plain": [
       "0.23799786491957628"
      ]
     },
     "execution_count": 29,
     "metadata": {},
     "output_type": "execute_result"
    }
   ],
   "source": [
    "irs_new = InterestRateSwap(1.e6, start_date, 0.0534786, 4, 6)\n",
    "irs_new.npv(dc, fr)"
   ]
  },
  {
   "cell_type": "markdown",
   "metadata": {},
   "source": [
    "## Inheritance\n",
    "\n",
    "At this point we have implemented two swap classes and we can try an alternative approach, inheritance. \n",
    "This is just for illuatration since, as we will see, there is not much code to share between $\\tt{InterestRateSwap}$ and $\\tt{OvernightIndexSwap}$."
   ]
  },
  {
   "cell_type": "code",
   "execution_count": null,
   "metadata": {},
   "outputs": [],
   "source": [
    "# inheritance\n",
    "class GenericSwap:\n",
    "    def __init__(self, notional, start_date, fixed_rate,\n",
    "                maturity, tenor=12):\n",
    "        self.notional = notional\n",
    "        self.start_date = start_date\n",
    "        self.fixed_rate = fixed_rate\n",
    "        self.fixed_payment_dates = generate_swap_dates(start_date, maturity*12)\n",
    "        self.floating_payment_dates = generate_swap_dates(start_date, maturity*12,\n",
    "                                                      tenor)\n",
    "                \n",
    "class InterestRateSwap(GenericSwap):\n",
    "    def annuity(self...)\n",
    "    \n",
    "class OvernightIndexSwap(GenericSwap):\n",
    "    def npv_fixed_leg()\n",
    "    "
   ]
  },
  {
   "cell_type": "markdown",
   "metadata": {
    "colab_type": "text",
    "id": "1x-Dcv4Nw0Ch",
    "slideshow": {
     "slide_type": "slide"
    }
   },
   "source": [
    "## Interest Rate Swaptions\n",
    "\n",
    "Swaptions are the equivalent of European options for the interest rate markets. They give the option holder the right but not the obligation, at the exercise date $d_{ex}$, to enter into an Interest Rate Swap at a pre-determined fixed rate.\n",
    "\n",
    "Clearly the option holder will only choose to do this if the NPV of the underlying swap at $d_{ex}$ is positive - looking at the expression for the NPV of the IRS in terms of the swap rate $S$ therefore, we can see that the payoff of the swaption is\n",
    "\n",
    "$$N\\cdot \\mathrm{max}(0, S(d_{\\mathrm{ex}}) - K)\\cdot\\sum D(d, d_i^{\\mathrm{fixed}})$$\n",
    "\n",
    "The key issue is now to estimate $S(d_{\\mathrm{ex}})$ in order to evaluate the payoff of a swaption. This will be shown with two alternative approaches."
   ]
  },
  {
   "cell_type": "markdown",
   "metadata": {
    "colab_type": "text",
    "id": "Y9j11ZUJw0Cj",
    "slideshow": {
     "slide_type": "slide"
    }
   },
   "source": [
    "#### Evaluation through Black-Scholes formula\n",
    "\n",
    "In this case, to evaluate the NPV of this payoff, we'll use a generalization of the Black-Scholes-Merton formula applied to swaptions:\n",
    "\n",
    "$$\\mathrm{NPV} = N\\cdot A\\cdot [S \\Phi(d_+) - K\\Phi(d_-)]$$\n",
    "\n",
    "where $\\Phi$ represents the cumulative distribution function of the normal distribution\n",
    "\n",
    "$$d_{\\pm} = \\frac{\\mathrm{log}(\\frac{S}{K}) \\pm \\frac{1}{2}\\sigma^{2}T}{\\sigma\\sqrt{T}}\\qquad(\\sigma~\\textrm{is the volatility of the swap rate})\\\\$$\n",
    "$$A =\\sum_{i=1}^{p}D(d, d_{i}^{\\mathrm{fixed}})\\qquad\\mathrm{(annuity})$$\n",
    "\n",
    "\n",
    "As an example let's consider a swaption whose underlying 6M-IRS has a notional of 1M, fixed rate of 1%, and a maturity of 4 years.\n",
    "In addition we assume a volatility associated to the swap rate of about 7%."
   ]
  },
  {
   "cell_type": "code",
   "execution_count": 31,
   "metadata": {
    "colab": {
     "base_uri": "https://localhost:8080/",
     "height": 232
    },
    "colab_type": "code",
    "executionInfo": {
     "elapsed": 560,
     "status": "error",
     "timestamp": 1572128944503,
     "user": {
      "displayName": "Matteo Sani",
      "photoUrl": "https://lh3.googleusercontent.com/a-/AAuE7mAJoEkE0aEpcWTzP7VnHn98dIfMUkpRno3NEZn6SA=s64",
      "userId": "10639058540037747059"
     },
     "user_tz": -120
    },
    "id": "TEh0rznTw0Ck",
    "outputId": "f2a3c49d-c202-4a55-fd62-c58b56ffb3c1",
    "slideshow": {
     "slide_type": "slide"
    }
   },
   "outputs": [
    {
     "data": {
      "text/plain": [
       "218951.90892605192"
      ]
     },
     "execution_count": 31,
     "metadata": {},
     "output_type": "execute_result"
    }
   ],
   "source": [
    "# define function to compute swaption payoff\n",
    "from math import log\n",
    "from scipy.stats import norm \n",
    "\n",
    "def swaptionPayoffBS(irs, sigma, T):\n",
    "    N = irs.notional\n",
    "    A = irs.annuity(dc)\n",
    "    S = irs.S(dc, fr)\n",
    "    K = irs.fixed_rate\n",
    "    d_p = (log(S/K) + 0.5*(sigma**2) * T)/(sigma*sqrt(T))\n",
    "    d_m = (log(S/K) - 0.5*(sigma**2) * T)/(sigma*sqrt(T))\n",
    "    payoff = N * A * (S*norm.cdf(d_p) - K*norm.cdf(d_m))\n",
    "    return payoff\n",
    "    \n",
    "sigma = 0.07\n",
    "irs = InterestRateSwap(1e6, start_date, 0.01, 4, 6)\n",
    "exercise_date = start_date\n",
    "T = (exercise_date - observation_date).days/365\n",
    "swaptionPayoffBS(irs, sigma, T)"
   ]
  },
  {
   "cell_type": "markdown",
   "metadata": {
    "colab_type": "text",
    "id": "MgD1S0d6w0Cr",
    "slideshow": {
     "slide_type": "slide"
    }
   },
   "source": [
    "#### Evaluation through Monte-Carlo Simulation\n",
    "\n",
    "In this second case we start from the current swap rate $S(d)$ evaluated at the pricing date $d$, and assume that it follows a log-normal stochastic process, i.e. its distribution at $d_{\\mathrm{ex}}$ (exercise date) is $S(d_{\\mathrm{ex}}) = S(d)\\mathrm{exp}(-\\frac{1}{2}\\sigma^{2}T+\\sigma\\sqrt{T}\\epsilon)$ where $\\epsilon\\approx\\mathcal{N}(0,1)$. \n",
    "Notice that it is assumed that the *drift* rate in the evolution of the swap rate is zero.\n",
    "Given that the discounted payoff is given by:\n",
    "\n",
    "$$N\\cdot \\mathrm{max}(0, S(d_{\\mathrm{ex}}) - K)\\cdot\\sum D(d, d_i^{\\mathrm{fixed}})$$\n",
    "\n",
    "to perform the simulation we can:\n",
    "\n",
    "* sample the normal distribution $\\mathcal{N}(0, 1)$ to calculate a large number of scenarios for $S(d_{\\mathrm{ex}})$;\n",
    "* evaluate the underlying swap's NPV at the exercise date, and consequently the swaption's payoff, for each scenario;\n",
    "* take the average of these values to get the final estimate."
   ]
  },
  {
   "cell_type": "code",
   "execution_count": 32,
   "metadata": {
    "colab": {
     "base_uri": "https://localhost:8080/",
     "height": 232
    },
    "colab_type": "code",
    "executionInfo": {
     "elapsed": 527,
     "status": "error",
     "timestamp": 1572128920449,
     "user": {
      "displayName": "Matteo Sani",
      "photoUrl": "https://lh3.googleusercontent.com/a-/AAuE7mAJoEkE0aEpcWTzP7VnHn98dIfMUkpRno3NEZn6SA=s64",
      "userId": "10639058540037747059"
     },
     "user_tz": -120
    },
    "id": "jwSPhuzJw0Cs",
    "outputId": "1154c6d3-06f5-417e-e418-cd670a0bf33b",
    "slideshow": {
     "slide_type": "slide"
    }
   },
   "outputs": [
    {
     "name": "stdout",
     "output_type": "stream",
     "text": [
      "218903.1978282608\n"
     ]
    }
   ],
   "source": [
    "# implement MC swaption payoff\n",
    "import numpy as np\n",
    "from math import exp, sqrt\n",
    "from numpy.random import normal, seed\n",
    "\n",
    "res = []\n",
    "T = (exercise_date - observation_date).days/365\n",
    "S0 = irs.S(dc, fr)\n",
    "trials = 10000\n",
    "for _ in range(trials):\n",
    "    S = S0 * exp((-0.5*(sigma**2)*T)-sigma*normal()*sqrt(T))\n",
    "    payoff = irs.notional*max(0, S-irs.fixed_rate)*irs.annuity(dc)\n",
    "    res.append(payoff)\n",
    "    \n",
    "print (np.mean(res))"
   ]
  },
  {
   "cell_type": "markdown",
   "metadata": {
    "slideshow": {
     "slide_type": "notes"
    }
   },
   "source": [
    "### Confidence Interval\n",
    "So let's calculate the 95% confidence level for the swaption simulation above."
   ]
  },
  {
   "cell_type": "code",
   "execution_count": 33,
   "metadata": {},
   "outputs": [
    {
     "name": "stdout",
     "output_type": "stream",
     "text": [
      "218903.1978282608 +- 107.48017439787056 (95% conf. level)\n"
     ]
    }
   ],
   "source": [
    "# calculate the MC error estimate as\n",
    "# 95% confidence interval\n",
    "interval = 1.96*np.std(res)/sqrt(trials)\n",
    "print (\"{} +- {} (95% conf. level)\".format(np.mean(res), interval))"
   ]
  },
  {
   "cell_type": "markdown",
   "metadata": {
    "colab_type": "text",
    "id": "_DtkYrpWw0Cv",
    "slideshow": {
     "slide_type": "slide"
    }
   },
   "source": [
    "At this point we can check if the two estimated of the swaption payoff are compatible.\n",
    "The NPV calculated via the Black-Scholes-Merton formula falls within the confidence interval produced by the Monte Carlo simulation, so we can assert that the two methods are in agreement:\n",
    "\n",
    "* Swaption NPV (BS): €218951\n",
    "* Swaption NPV (MC): €218903"
   ]
  }
 ],
 "metadata": {
  "celltoolbar": "Slideshow",
  "colab": {
   "collapsed_sections": [],
   "name": "lecture_6.ipynb",
   "provenance": []
  },
  "kernelspec": {
   "display_name": "Python 3",
   "language": "python",
   "name": "python3"
  },
  "language_info": {
   "codemirror_mode": {
    "name": "ipython",
    "version": 3
   },
   "file_extension": ".py",
   "mimetype": "text/x-python",
   "name": "python",
   "nbconvert_exporter": "python",
   "pygments_lexer": "ipython3",
   "version": "3.6.3"
  }
 },
 "nbformat": 4,
 "nbformat_minor": 1
}
