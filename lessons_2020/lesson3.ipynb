{
 "cells": [
  {
   "cell_type": "markdown",
   "metadata": {},
   "source": [
    "# Bootstrapping\n",
    "\n",
    "## Overnight Index Swap\n",
    "\n",
    "Interest rate swaps (IRS) are usually used to mitigate the risks od fluctuations of varying interest rates, or to benefit from lower rates. We will always look at these products from the point of view of the **receiver of the floating leg**.\n",
    "\n",
    "Overnight Index Swaps (OIS) are a particular kind of IRS which pay a floating coupon, determined by overnight rate fixings over the reference periods, against a fixed coupon.  By definition an OIS is defined by:\n",
    "\n",
    "* a notional amount $N$;\n",
    "* a starting date $d_0$;\n",
    "* a sequence of payment dates $d_1,...,d_n$;\n",
    "* a fixed rate $K$.\n",
    "\n",
    "For simplicity in the following we are assuming that the fixed and floating legs of our OIS have the same notional and payment dates, although this is not necessarily always the case in practice.\n",
    "\n",
    "### OIS Valuation\n",
    "To evaluate the net present value (NPV) of such products the cash flows of each leg have to be calculated; today's NPV then is the sum of all the discounted cash flows.\n",
    "\n",
    "#### Floating leg\n",
    "At each payment date, the floating leg pays a cash flow determined as follows:\n",
    "\n",
    "$$f_{\\mathrm{float},~i} = N \\Bigg\\{\\prod_{d=d_{i-1}}^{d=d_i-1}\\Big(1+r_{\\mathrm{O/N}}(d)\\cdot\\frac{1}{360}\\Big) -1 \\Bigg\\}$$\n",
    "\n",
    "Strictly speaking this formula is valid for an EONIA swaps (i.e.~for OIS swaps in EUR) other currencies might have different conventions. The $\\frac{1}{360}$ fraction appears because EONIA rates are quoted using the ACT/360 day-count convention. In addition we are making the simplifying assumption of ignoring weekends and holidays, so we assume that each overnight rate is valid for only one day.\n",
    "The sum of the discounted expected values of these cash flows is\n",
    "\n",
    "$$\\mathrm{NPV}_{\\mathrm{float}} = \\sum_{i=1}^{n}D(d_i)\\mathbb{E}[f_{\\mathrm{float},~i}]$$\n",
    "where $D(d)$ is the discount factor with expiry $d$. On the other hand, by definition (remember Lesson~\\ref{calculating-forward-rates} with forward rates), we also have the following relationship\n",
    "\n",
    "$$\\mathbb{E}[f_{\\mathrm{float},~i}] = N\\cdot\\Big(\\frac{D_{\\mathrm{OIS}}(d_{i-1})}{D_{\\mathrm{OIS}}(d_{i})} - 1\\Big)$$\n",
    "hence\n",
    "$$\\mathrm{NPV}_{\\mathrm{float}} = N\\cdot \\sum_{i=1}^{n}D(d_i) \\Big(\\frac{D_{\\mathrm{OIS}}(d_{i-1})}{D_{\\mathrm{OIS}}(d_{i})} - 1\\Big)$$\n",
    "where $D_{\\mathrm{OIS}}(d)$ is the discount factor implied by OIS prices (we will see how to derive it).\n",
    "\n",
    "<!----The correct curve to use for discounting the flows of a collateralized contract, like OIS, is the one associated with the collateral. Since OIS contracts are collateralized with cash, and cash accrues daily interest\n",
    "at the overnight rate, the OIS curve is itself the correct curve with which to discount the flows of an OIS contract ! --->\n",
    "Since the correct curve to discount OIS is the overnight index itself we have that $D = D_{\\mathrm{OIS}}$ so the NPV simplifies to\n",
    "\n",
    "$$\\begin{equation}\n",
    "  \\begin{split}\n",
    "    \\mathrm{NPV}_{\\mathrm{float}} & = N\\cdot\\sum_{i=1}^{n}[D(d_{i-1}) - D(d_i)] =  \\\\\n",
    "    &= N\\cdot[(D(d_{0}) - D(d_{1})) + (D(d_{1}) - D(d_{2})) + ... + (D(d_{n-1}) - D(d_{n}))]\\\\\n",
    "    &= N \\cdot [D(d_0) - D(d_n)]\n",
    "  \\end{split}\n",
    "\\end{equation}\n",
    "$$\n",
    "\n",
    "#### Fixed leg\n",
    "The calculation for the fixed leg is simpler; each cash flow is  equal to\n",
    "\n",
    "$$f_{\\mathrm{fix},~i}=N\\cdot K\\cdot \\frac{d_i - d_{i-1}}{360}$$\n",
    "so the NPV of the fixed leg is\n",
    "\n",
    "$$\\mathrm{NPV}_{\\mathrm{fix}} = N\\cdot K\\cdot \\sum_{i=1}^{n}D(d_{i})\\frac{d_i - d_{i-1}}{360}$$\n",
    "\n",
    "### Discount Factor Determination from Market Quotes\n",
    "\n",
    "Our ultimate goal is to take a series of Overnight Index Swap quotations, and determine the discount factors implied by their prices. To do this we will build a class to represent OIS and compute its value, given particular discount curve. Then we will use this class, put inside a numerical optimizer, to *invert* so that the implied discount factors can be determined from their prices (market quotes)."
   ]
  },
  {
   "cell_type": "code",
   "execution_count": 1,
   "metadata": {},
   "outputs": [],
   "source": [
    "class OvernightIndexSwap:\n",
    "    \"\"\"\n",
    "    OvernightIndexSwap: a class to valuate Overnight Index Swaps\n",
    "    \n",
    "    Attributes:\n",
    "    -----------\n",
    "    notional: float\n",
    "        Notional of the swap.\n",
    "    payment_dates: list of datetime.date\n",
    "        List of payment dates of the swap.\n",
    "    fixed_rate: float\n",
    "        Rate of the fixed leg of the swap.\n",
    "    \"\"\"\n",
    "    def __init__(self, notional, payment_dates, fixed_rate):\n",
    "        self.notional = notional\n",
    "        self.payment_dates = payment_dates\n",
    "        self.fixed_rate = fixed_rate\n",
    "\n",
    "    def npv_floating_leg(self, discount_curve):\n",
    "        \"\"\"\n",
    "        npv_floating_leg: computes the floating leg npv.\n",
    "        \n",
    "        Params:\n",
    "        -------\n",
    "        discount_curve: DiscountCurve\n",
    "            Discount curve object used for npv calculation.\n",
    "        \"\"\"\n",
    "        return self.notional * (discount_curve.df(self.payment_dates[0]) -\n",
    "               discount_curve.df(self.payment_dates[-1]))\n",
    "\n",
    "    def npv_fixed_leg(self, discount_curve):\n",
    "        \"\"\"\n",
    "        npv_fixed_leg: computes the fixed leg npv.\n",
    "        \n",
    "        Params:\n",
    "        -------\n",
    "        discount_curve: DiscountCurve\n",
    "            Discount curve object used for npv calculation.\n",
    "        \"\"\"\n",
    "        npv = 0\n",
    "        for i in range(1, len(self.payment_dates)):\n",
    "            start_date = self.payment_dates[i-1]\n",
    "            end_date = self.payment_dates[i]\n",
    "            tau = (end_date - start_date).days / 360\n",
    "            df = discount_curve.df(end_date)\n",
    "            npv = npv + df * tau\n",
    "            return self.notional * self.fixed_rate * npv\n",
    "    def npv(self, discount_curve):\n",
    "        \"\"\"\n",
    "        npv: computes the total npv of the swap.\n",
    "        \n",
    "        Params:\n",
    "        -------\n",
    "        discount_curve: DiscountCurve\n",
    "            Discount curve object used for npv calculation.        \n",
    "        \"\"\"\n",
    "        float_npv = self.npv_floating_leg(discount_curve)\n",
    "        fixed_npv = self.npv_fixed_leg(discount_curve)\n",
    "        return float_npv - fixed_npv"
   ]
  },
  {
   "cell_type": "markdown",
   "metadata": {},
   "source": [
    "To test the newly developed class we need a discount curve. \n",
    "In the following example a fake curve will be defined, and then used with an OIS product."
   ]
  },
  {
   "cell_type": "code",
   "execution_count": 4,
   "metadata": {},
   "outputs": [
    {
     "data": {
      "text/plain": [
       "-10990.364227052869"
      ]
     },
     "execution_count": 4,
     "metadata": {},
     "output_type": "execute_result"
    }
   ],
   "source": [
    "from datetime import date\n",
    "from finmarkets import DiscountCurve\n",
    "\n",
    "ois = OvernightIndexSwap(\n",
    "            # the notional, one million\n",
    "            1e6,\n",
    "            # the list of product dates,\n",
    "            # i.e. the start date then the payment dates\n",
    "            [date(2020, 1, 1), date(2020, 4, 1),\n",
    "             date(2020, 7, 1), date(2020, 10, 1),\n",
    "             date(2021, 1, 1)],\n",
    "            # the fixed rate, 2.5%\n",
    "            0.025)\n",
    "\n",
    "# fake discount curve\n",
    "curve = DiscountCurve(date(2020, 1, 1),\n",
    "                      [date(2020, 1, 1), date(2021, 6, 1),\n",
    "                       date(2022, 1, 1)],\n",
    "                      [1.0, 0.98, 0.82])\n",
    "\n",
    "ois.npv(curve)"
   ]
  },
  {
   "cell_type": "markdown",
   "metadata": {},
   "source": [
    "## Bootstrapping Technique \n",
    "\n",
    "As we said before we would like to determine a *real* discount curve starting from the market quotes of a set of Overnight Index Swaps with different maturities, this will be done via a technique called bootstrapping.\n",
    "This is the ABC of financial mathematics, since you almost always need a\n",
    "discount curve to price every contract. We are going to concentrate on EONIA swaps in order to build an EUR discount curve.\n",
    "\n",
    "### Building OIS Instances\n",
    "The first step involves getting data, the swap market quotes. This is not quite easy since EONIA swap market is over the counter (OTC) and it’s not straightforward to access it. Anyway in the file ois_data.xlsx it is available \n",
    "a data-set of of swap quotes (which actually are rates rather prices) suitable for our needs.\n",
    "With the help of the $\\tt{pandas}$ module the data-set can be inspected:"
   ]
  },
  {
   "cell_type": "code",
   "execution_count": 5,
   "metadata": {},
   "outputs": [
    {
     "data": {
      "text/html": [
       "<div>\n",
       "<style scoped>\n",
       "    .dataframe tbody tr th:only-of-type {\n",
       "        vertical-align: middle;\n",
       "    }\n",
       "\n",
       "    .dataframe tbody tr th {\n",
       "        vertical-align: top;\n",
       "    }\n",
       "\n",
       "    .dataframe thead th {\n",
       "        text-align: right;\n",
       "    }\n",
       "</style>\n",
       "<table border=\"1\" class=\"dataframe\">\n",
       "  <thead>\n",
       "    <tr style=\"text-align: right;\">\n",
       "      <th></th>\n",
       "      <th>months</th>\n",
       "      <th>quote</th>\n",
       "    </tr>\n",
       "  </thead>\n",
       "  <tbody>\n",
       "    <tr>\n",
       "      <th>0</th>\n",
       "      <td>1</td>\n",
       "      <td>-0.350</td>\n",
       "    </tr>\n",
       "    <tr>\n",
       "      <th>1</th>\n",
       "      <td>2</td>\n",
       "      <td>-0.347</td>\n",
       "    </tr>\n",
       "    <tr>\n",
       "      <th>2</th>\n",
       "      <td>3</td>\n",
       "      <td>-0.348</td>\n",
       "    </tr>\n",
       "    <tr>\n",
       "      <th>3</th>\n",
       "      <td>4</td>\n",
       "      <td>-0.350</td>\n",
       "    </tr>\n",
       "    <tr>\n",
       "      <th>4</th>\n",
       "      <td>5</td>\n",
       "      <td>-0.350</td>\n",
       "    </tr>\n",
       "  </tbody>\n",
       "</table>\n",
       "</div>"
      ],
      "text/plain": [
       "   months  quote\n",
       "0       1 -0.350\n",
       "1       2 -0.347\n",
       "2       3 -0.348\n",
       "3       4 -0.350\n",
       "4       5 -0.350"
      ]
     },
     "execution_count": 5,
     "metadata": {},
     "output_type": "execute_result"
    }
   ],
   "source": [
    "import pandas, datetime\n",
    "\n",
    "observation_date = datetime.date.today()\n",
    "df = pandas.read_excel('ois_data.xlsx')\n",
    "df.head()"
   ]
  },
  {
   "cell_type": "markdown",
   "metadata": {},
   "source": [
    "Next we could convert the data-set into a dictionary for later usage or use the $\\tt{DataFrame}$ directly, it is just matter of taste.\n",
    "\n",
    "Let’s say we want to build a 15 months swap instance using data contained in $\\tt{ois_data}$ file. Bbe careful when doing this operation and double check the units of rates, quotes, etc...in this case\n",
    "for example quotes are expressed in percent so you need to multiply them by 0.01 before using them.\n",
    "Another detail to check is that 15 months quote is not the fifteenth entry in the $\\tt{DataFrame}$ (actually it is the twelveth)."
   ]
  },
  {
   "cell_type": "code",
   "execution_count": 10,
   "metadata": {},
   "outputs": [
    {
     "data": {
      "text/plain": [
       "datetime.date(2020, 1, 23)"
      ]
     },
     "execution_count": 10,
     "metadata": {},
     "output_type": "execute_result"
    }
   ],
   "source": [
    "ois = OvernightIndexSwap(1e6,\n",
    "                         [date(2019, 10, 23),\n",
    "                          date(2020, 10, 23),\n",
    "                          date(2020, 1, 23)],\n",
    "                         df['quote'].tolist()[12]*0.01)\n",
    "\n",
    "# print the last payment date \n",
    "# (15 months after obs date)\n",
    "ois.payment_dates[-1]"
   ]
  },
  {
   "cell_type": "markdown",
   "metadata": {},
   "source": [
    "### Bootstrap Algorithm\n",
    "\n",
    "Keep aside for a moment our swaps and introduce the *bootstrap algorithm*. In finance, bootstrap is a method for constructing a (zero-coupon) fixed-income yield curve from the prices of a set of coupon-bearing products, e.g. bonds and swaps. The term structure of spot returns is obtained from the bond yields by solving for them recursively, by forward substitution: this iterative process is what is called the bootstrap method. \n",
    "The usefulness of bootstrap is that using only a few carefully selected zero-coupon products, it becomes possible to derive swap forward and spot rates for all maturities given the solved curve.\n",
    "\n",
    "To illustrate the algorithm let’s consider the following example which can be solved in part analytically: \n",
    "we have some coupon paying bond (coupon of 4\\%, 5\\%, 6\\%, 7\\% and 8\\% respectively) with\n",
    "maturities ranging from 1 to 5 years, each having a value of €100 and traded at par. To determine\n",
    "the zero-coupon yield curve proceed as follows:\n",
    "\n",
    "* at the end of first year the first bond will pay, so the implied *fair* rate \n",
    "\n",
    "$$100 = \\cfrac{104}{(1 + S_{1y})}\\implies S_{1y} =  104/100 - 1 = 4\\%$$\n",
    "\n",
    "* at the end of second year the sum of the cash flows of the 2nd bond can be compared to its trading price to compute the 2-year spot rate $S_{2y}$ using the previously derived value of $S_{1y}$ \n",
    "\n",
    "$$100 = \\cfrac{5}{(1 + S_{1y})} + \\cfrac{105}{(1 + S_{2y})^{2}}$$\n",
    "\n",
    "$$\\begin{equation*}\n",
    "\\begin{split}\n",
    "& 100 = 5 / (1 + 0.04) + 105 / (1 + S_{2y})^{2}\\qquad\\Rightarrow\\qquad S_{2y}^2  + 2 S_{2y}  - 0.103030 = 0 \\\\\n",
    "& S_{2y} = - 1 \\pm \\sqrt{1 + 0.103030} = \\begin{cases}-2.05023 \\\\ 0.0503\\end{cases}\n",
    "\\end{split}\n",
    "\\end{equation*}$$\n",
    "\n",
    "From the third year on, still keeping the same reasoning, we obtain equation of third order or more which are not easily analitically solvable. For example following the equation for the fifth bond after five years:\n",
    "\n",
    "$$100 = \\cfrac{8} {(1 + S_{1y})} + \\cfrac{8} {(1 + S_{2y})^{2}}+ \\cfrac{8} {(1 + S_{3y})^{3}} + \\cfrac{8} {(1 + S_{4y})^{4}} + \\cfrac{108} {(1 + S_{5y})^{5}}$$\n",
    "\n",
    "After the substitution of the previously found rates we can however solve it numerically. This can be done like this:"
   ]
  },
  {
   "cell_type": "code",
   "execution_count": 9,
   "metadata": {},
   "outputs": [
    {
     "name": "stdout",
     "output_type": "stream",
     "text": [
      "5y rate: 0.0836\n"
     ]
    }
   ],
   "source": [
    "from scipy.optimize import brentq\n",
    "\n",
    "def func(x):\n",
    "    return 100 - 8/(1+0.04) - 8/(1+0.0503)**2 - 8/(1+0.0608)**3 - 8/(1+0.0719)**4 - 108/(1+x)**5\n",
    "\n",
    "a = brentq(func, 0, 0.10)\n",
    "print (\"5y rate: {:.4f}\".format(a))"
   ]
  },
  {
   "cell_type": "markdown",
   "metadata": {},
   "source": [
    "The very same mechanism can be generalized and extended to more maturities to get a more detailed yield curve. In general terms the previous system can be written as:\n",
    "\n",
    "$$\\begin{equation*}\n",
    "\\begin{cases}\n",
    "f_1(S_1, p_1) = 0 \\\\\n",
    "f_2(S_1, S_2, p_2) = 0 \\\\\n",
    "f_3(S_1, S_2, S_3, p_3) = 0 \\\\\n",
    "f_4(S_1, S_2, S_3, S_4, p_4) = 0 \\\\\n",
    "\\cdots\n",
    "\\end{cases}\n",
    "\\end{equation*}\n",
    "$$\n",
    "where $S_i$ are the unknown spot rates and $p_i$ the market quotes of the considered products. The iterative procedure we have applied before exploits the first equation to find $S_1 = $f_1^{-1}(p_1)$, the second to find $S_2 = f_2^{-1}(S_1, p_2)$ and so on and so forth.\n",
    "This algorithm works since each equation will determine exactly one free spot rate which is not already determined by the others.\n",
    "\n",
    "### Bootstrap as Minimization Problem\n",
    "Instead of iteratively finding the solution of each equation as before, equivalently we could define a vector of spot rates $\\mathbf{S} = (S_1, S_2, S_3,\\ldots)$ seeking for a particular $\\mathbf{\\hat{S}}$ which solves the following equation:\n",
    "\n",
    "$$F = f_1^2(S_1) + f_2^2(S_1, S_2) + f_3^2(S_1, S_2, S_3) + f_4^2(S_1, S_2, S_3, S_4) + \\ldots = 0$$\n",
    "\n",
    "Under this terms the bootstrap technique can be considered as a minimization problem indeed we need to find $\\mathbf{\\hat{S}}$ which \\emph{minimize} $F$, or at least makes it as close as possible to 0.\n",
    "Each $f_i$ is squared since we want all of them to be minimized and not only $F$ globally (without the squared there may be cancellation effects between the terms of the sum).\n",
    "\n",
    "### OIS Example\n",
    "Back to our Overnight Index Swap, the general idea here is to find the discount curve $\\mathcal{C}$ such that it prices as much correctly as possible each OIS by minimizing the sum of the squared OIS NPVs (our $f_i$):\n",
    "\n",
    "$$\\mathrm{min}_{\\mathcal{C}} \\Big\\{\\sum_{i=1}^{n}\\mathrm{NPV}(\\mathrm{OIS}_i, \\mathcal{C})^2\\Big\\}$$\n",
    "\n",
    "A discount curve is characterized by pillar dates and the corresponding discount factors. The description of the problem we have given above does not, in theory, specifies any constraint on the pillar dates of the discount curve $\\mathcal{C}$ we are going to find.\n",
    "However, the pillar dates determine the number of unknown variables (i.e.~the dimensionality \\(N\\) of the optimization problem). A curve with \\(N\\) pillar dates has also \\(N\\) discount factors (note that the first discount factor with value date equal to the today date, is constrained to 1). **In practice, therefore, it makes sense to choose the pillar dates in such a way that there are exactly the right number of degrees of freedom in the optimization to match data.** So the natural choice is to choose the pillar dates of the discount curve equal to the set of expiry dates of the swaps.\n",
    "\n",
    "Therefore, once we've fixed $\\mathbf{d}$ to be a vector of pillar dates equal to the expiry dates of the OIS swaps, and we use the notation $\\mathbf{x}$ to represent the vector of unknown pillar discount factors, then the problem becomes:\n",
    "\n",
    "$$\\mathrm{min}_{\\mathbf{x}} \\Big\\{\\sum_{i=1}^{N}\\mathrm{NPV}(\\mathrm{OIS}_i, \\mathcal{C}(\\mathbf{d}, \\mathbf{x}))^2\\Big\\}$$\n",
    "which is our optimization problem (**to find the minimum of the above expression as a function of x**) which can be solved using one of the available numerical optimization routines in $\\tt{python}$.\n",
    "\n",
    "So first let's create the swaps according to all the available market quotes and also the pillar dates of our final discount curve:"
   ]
  },
  {
   "cell_type": "code",
   "execution_count": 12,
   "metadata": {},
   "outputs": [],
   "source": [
    "from finmarkets import generate_swap_dates\n",
    "\n",
    "observation_date = date(2019, 10, 23)\n",
    "pillar_dates = [observation_date]\n",
    "swaps = [] # container of the OIS objects\n",
    "\n",
    "for i in range(len(df)):\n",
    "    swap = OvernightIndexSwap(1e6,\n",
    "                    generate_swap_dates(\n",
    "                        observation_date, \n",
    "                        df['months'].tolist()[i]),\n",
    "                    0.01 * df['quote'].tolist()[i])\n",
    "\n",
    "    swaps.append(swap)\n",
    "    pillar_dates.append(swap.payment_dates[-1])\n",
    "\n",
    "# this shouldn't be necessary if the original\n",
    "# list of market quotes is sorted\n",
    "pillar_dates = sorted(pillar_dates)"
   ]
  },
  {
   "cell_type": "markdown",
   "metadata": {},
   "source": [
    "### Minimization Algorithm\n",
    "\n",
    "A minimization algorithm follows these steps:\n",
    "\n",
    "* define an *objective function* i.e. the function that is actually minimized to reach our goal;\n",
    "* set the initial value of the unknown parameters and their range of variability;\n",
    "* the minimizer will compute the objective function value;\n",
    "* then it will move the parameter values in such a way to find a smaller value of the objective function (e.g. following the derivative w.r.t. each parameter);\n",
    "* the last two steps will be repeated until further variations of the $\\mathbf{x}$ values won’t change significantly the objective function (i.e. we have found a minimum of the function so the minimisation process is completed !).\n",
    "\n",
    "So implement the method to the swaps we have just created.\n",
    "\n",
    "* define the objective function: the sum of the squared NPVs of the OIS "
   ]
  },
  {
   "cell_type": "code",
   "execution_count": 13,
   "metadata": {},
   "outputs": [],
   "source": [
    "def objective_function(x):\n",
    "    curve = DiscountCurve(observation_date,\n",
    "                          pillar_dates,\n",
    "                          x)\n",
    "    \n",
    "    sum_sq = 0.0\n",
    "    for swap in swaps:\n",
    "        sum_sq += swap.npv(curve) ** 2\n",
    "    return sum_sq"
   ]
  },
  {
   "cell_type": "markdown",
   "metadata": {},
   "source": [
    "* set the initial value of the discount factors ($x_i$) to 1 with a range of variability $[ 0.01, 10]$, in addition the first element of the list, today’s discount factor, will be fixed to 1 (variability $[1, 1]$)"
   ]
  },
  {
   "cell_type": "code",
   "execution_count": 14,
   "metadata": {},
   "outputs": [],
   "source": [
    "x0 = [1.0 for i in range(len(pillar_dates))]\n",
    "\n",
    "bounds = [(0.01, 10.0) for i in range(len(pillar_dates))]\n",
    "bounds[0] = (1.0, 1.0)"
   ]
  },
  {
   "cell_type": "markdown",
   "metadata": {},
   "source": [
    "* finally we can launch the minimizer to find the discount factors ($x$)"
   ]
  },
  {
   "cell_type": "code",
   "execution_count": 16,
   "metadata": {},
   "outputs": [
    {
     "name": "stdout",
     "output_type": "stream",
     "text": [
      "      fun: 0.000819919032900304\n",
      " hess_inv: <34x34 LbfgsInvHessProduct with dtype=float64>\n",
      "      jac: array([ 6.58948735e+05, -1.58720803e+01, -6.53143264e+01, -1.03323232e+02,\n",
      "       -1.26050260e+02, -1.31748898e+02, -1.20374599e+02, -9.15399651e+01,\n",
      "       -4.24363322e+01,  2.44903182e+01,  1.14345243e+02,  2.22002243e+02,\n",
      "       -3.72021700e+00,  4.21398633e+01,  4.21787852e+01,  4.22369487e+01,\n",
      "        4.23327026e+01,  4.31814758e+01,  4.44924460e+01,  4.62078978e+01,\n",
      "        4.82906823e+01, -3.69972738e+00, -1.42454702e+00,  7.53771932e-01,\n",
      "        2.79741018e+00,  4.62896699e+00,  6.24844054e+00,  9.93101553e+00,\n",
      "        1.31122434e+01,  1.42880909e+01,  1.48279215e+01,  1.50787019e+01,\n",
      "        1.43267935e+01,  1.38451324e+01])\n",
      "  message: b'CONVERGENCE: REL_REDUCTION_OF_F_<=_FACTR*EPSMCH'\n",
      "     nfev: 840\n",
      "      nit: 7\n",
      "   status: 0\n",
      "  success: True\n",
      "        x: array([1.        , 1.00030147, 1.00058831, 1.00089012, 1.00119726,\n",
      "       1.00147996, 1.00178743, 1.00208107, 1.00238467, 1.00267865,\n",
      "       1.00298261, 1.00327737, 1.00357104, 1.00357104, 1.00355063,\n",
      "       1.00352002, 1.00346901, 1.00302007, 1.00232627, 1.00141821,\n",
      "       1.00031629, 0.99911234, 0.99790839, 0.99675545, 0.99567393,\n",
      "       0.99470465, 0.9938476 , 0.99189884, 0.99021534, 0.98959296,\n",
      "       0.98930728, 0.98917464, 0.98957256, 0.98982763])\n"
     ]
    }
   ],
   "source": [
    "from scipy.optimize import minimize\n",
    "\n",
    "result = minimize(objective_function, x0, bounds=bounds)\n",
    "print (result)"
   ]
  },
  {
   "cell_type": "markdown",
   "metadata": {},
   "source": [
    "Some diagnostic number/plot."
   ]
  },
  {
   "cell_type": "code",
   "execution_count": 18,
   "metadata": {},
   "outputs": [
    {
     "name": "stdout",
     "output_type": "stream",
     "text": [
      "Initial objective function value  931188216.6666666\n",
      "Final objective function value  0.000819919032900304\n"
     ]
    }
   ],
   "source": [
    "print (\"Initial objective function value \", objective_function(x0))\n",
    "print (\"Final objective function value \", objective_function(result.x))"
   ]
  },
  {
   "cell_type": "markdown",
   "metadata": {},
   "source": [
    "<img src=\"obj_func.png\" width=600>\n",
    "<img src=\"obj_func_iter.png\" width=600>"
   ]
  },
  {
   "cell_type": "markdown",
   "metadata": {},
   "source": [
    "Finally we can create the discount curve implied by the market quote of our swaps. "
   ]
  },
  {
   "cell_type": "code",
   "execution_count": 21,
   "metadata": {},
   "outputs": [
    {
     "name": "stdout",
     "output_type": "stream",
     "text": [
      "40y df: 0.9891780176191146\n",
      "40y rate: 0.0002720241491103593\n"
     ]
    }
   ],
   "source": [
    "from math import log\n",
    "curve = DiscountCurve(observation_date, pillar_dates, result.x)\n",
    "\n",
    "d = date(2059, 11, 23)\n",
    "print (\"40y df: {}\".format(curve.df(d)))\n",
    "print (\"40y rate: {}\".format(-log(curve.df(d)) / 40))             "
   ]
  },
  {
   "cell_type": "code",
   "execution_count": 30,
   "metadata": {},
   "outputs": [
    {
     "data": {
      "image/png": "[encoded data removed]",
      "text/plain": [
       "<Figure size 432x288 with 1 Axes>"
      ]
     },
     "metadata": {
      "needs_background": "light"
     },
     "output_type": "display_data"
    }
   ],
   "source": [
    "from matplotlib import pyplot as plt\n",
    "\n",
    "dates = [(d-observation_date).days/365. for d in curve.pillar_dates]\n",
    "plt.plot(dates, result.x, label=\"Discount Curve\")\n",
    "plt.grid(True)\n",
    "plt.xlabel(\"years\")\n",
    "plt.ylabel(\"disc. factor\")\n",
    "plt.legend()\n",
    "plt.show()"
   ]
  },
  {
   "cell_type": "code",
   "execution_count": null,
   "metadata": {},
   "outputs": [],
   "source": []
  }
 ],
 "metadata": {
  "kernelspec": {
   "display_name": "Python 3",
   "language": "python",
   "name": "python3"
  },
  "language_info": {
   "codemirror_mode": {
    "name": "ipython",
    "version": 3
   },
   "file_extension": ".py",
   "mimetype": "text/x-python",
   "name": "python",
   "nbconvert_exporter": "python",
   "pygments_lexer": "ipython3",
   "version": "3.6.3"
  }
 },
 "nbformat": 4,
 "nbformat_minor": 4
}
