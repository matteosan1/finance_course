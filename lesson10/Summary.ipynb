{
 "cells": [
  {
   "cell_type": "markdown",
   "metadata": {},
   "source": [
    "# Summary\n",
    "\n",
    "* **Interpolation / Extrapolation**\n",
    "  * linear Interpolation\n",
    "  * log-linear interpolation\n",
    "  * interpolation of a discount-factor curve\n",
    "  * examples of plotting\n",
    "\n",
    "* **Forward rates**\n",
    "  * concept of forward rate\n",
    "  * financial crisis and multicurve-framework\n",
    "  * concept of class and application to `DiscountCurve`\n",
    "\n",
    "* **Swaps and bootstrapping**\n",
    "  * `OvernightIndexSwap` (fixed coupon vs Overnight Index), definition and implementation of corresponding class\n",
    "  * bootstrap technique, how to go from market quotes to implied term structure\n",
    "  * example of bootstrap, from OIS quotes to discount curves\n",
    "  * minimization algorithms\n",
    "  * `finmarkets` module\n",
    "  \n",
    "* **Monte Carlo Simulation**\n",
    "  * `InterestRateSwap` (fixed coupon vs LIBOR index), definition and implementation of corresponding class \n",
    "  * swap rate, annuity\n",
    "  * Interest rate swaptions\n",
    "  * pricing of a swaption with Black-Scholes\n",
    "  * definition of Monte Carlo simulation\n",
    "  * uniformly distributed random numbers\n",
    "  * normal distributed random numbers\n",
    "  * log-normality\n",
    "  * pricing of a swaption with MC simulation\n",
    "  * confidence level\n",
    "  \n",
    "* **Credit Risk**\n",
    "  * Credit curve, non default probabilities, hazard rate, conditional probability\n",
    "  * `CreditDefaultSwap` (default and premium legs), definition and implementation of corresponding class\n",
    "  * example of bootstrap, from CDS market quotes to credit curve\n",
    "  * recap on minimization with example\n",
    "  \n",
    "* **Credit Risk**\n",
    "  * value at risk, definition\n",
    "  * computation of VaR with historical series\n",
    "  * computation of VaR with model approach\n",
    "  * computation of VaR with Monte Carlo simulation\n",
    "  * percentile calculation (python, \"by hand\")\n",
    "  * stress and back-testing\n",
    "  * credit rating\n",
    "  * bonds, definition and pricing\n",
    "  * default probabilities and bond pricing\n",
    "  * VaR and default \n",
    "  * credit valuation adjustment (CVA)\n",
    "  \n",
    "* **Machine Learning**\n",
    "  * basic principle of a neural network (NN)\n",
    "  * architecture of a NN\n",
    "  * training and testing of a NN\n",
    "  * example of NN to recognize handwritten digits\n",
    "  * example of NN to price european call options\n",
    "  * example of NN to perform technical analysis"
   ]
  }
 ],
 "metadata": {
  "kernelspec": {
   "display_name": "Python 3",
   "language": "python",
   "name": "python3"
  },
  "language_info": {
   "codemirror_mode": {
    "name": "ipython",
    "version": 3
   },
   "file_extension": ".py",
   "mimetype": "text/x-python",
   "name": "python",
   "nbconvert_exporter": "python",
   "pygments_lexer": "ipython3",
   "version": "3.7.5"
  }
 },
 "nbformat": 4,
 "nbformat_minor": 2
}
