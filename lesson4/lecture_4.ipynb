{
 "cells": [
  {
   "cell_type": "markdown",
   "metadata": {},
   "source": [
    "# Forward Rates and Classes - Practical Lesson 4\n",
    "\n",
    "## Recap\n",
    "\n",
    "In the first three lessons we looked at:\n",
    "\n",
    "* basic Python statements, expressions and objects (lists, dictionaries)\n",
    "* dates, tuples and functions\n",
    "* we started looking at how to implement functionality related to the theoretical lessons\n",
    "\n",
    "## Today's lesson\n",
    "\n",
    "We're going to look at classes and while we talk about this topic we're going to move ahead with implementing functionality related to the theory lessons."
   ]
  },
  {
   "cell_type": "markdown",
   "metadata": {},
   "source": [
    "## Calculating Forward Rates\n",
    "\n",
    "Last week we wrote a function called `df` for calculating a discount factor at any date, given a set of discount factors each relative to a corresponding pillar date, using log-linear interpolation. Now we want a function to compute forward rates.\n",
    "\n",
    "The formula to calculate the forward rates can be found exploiting the property that investing at rate $r_1$ for the period $(0, T_1)$ and then *reinvesting* at rate $r_{1,2}$ for the time period $(T_1, T_2)$ is equivalent to invest at rate $r_2$ for the time period $(0, T_2)$ (i.e. no arbitrage condition, two investors shouldn't be able to earn money from arbitraging between different interest periods). That said:\n",
    "\n",
    "$$(1+r_1 T_1)(1+r_{1,2}(T_2 - T_1)) = 1 + r_2 T_2$$\n",
    "\n",
    "Solving for $r_{1,2}$ leads to\n",
    "\n",
    "$$F(T_1, T_2) = r_{1,2} = \\frac{1}{T_2-T_1}\\Big(\\frac{D(T_1)}{D(T_2)} - 1 \\Big)~~~~\\textrm{(where $D{(T_i)}=\\frac{1}{1+r_iT_{i}}$)}$$"
   ]
  },
  {
   "cell_type": "code",
   "execution_count": null,
   "metadata": {},
   "outputs": [],
   "source": [
    "from datetime import date\n",
    "import numpy, math\n",
    "\n",
    "today_date = date (2019, 1, 1)\n",
    "\n",
    "pillar_dates = [date(2019 , 1 ,1), \n",
    "                date(2020, 1, 1), \n",
    "                date(2021, 10 ,1)]\n",
    "discount_factors = [1.0, 0.97, 0.72]\n",
    "\n",
    "def df(d):\n",
    "    log_discount_factors = [math.log(discount_factor) \\\n",
    "                            for discount_factor in discount_factors]\n",
    "    pillar_days = [(pillar_date - today_date).days \\\n",
    "                   for pillar_date in pillar_dates]\n",
    "    d_days = (d - today_date).days\n",
    "    interpolated_log_discount_factor = \\\n",
    "        numpy.interp(d_days, pillar_days, log_discount_factors)\n",
    "    \n",
    "    return math.exp(interpolated_log_discount_factor)\n",
    "\n",
    "def forward_rate(t1, t2):\n",
    "    return 365.0/(t2-t1).days * (df(t1) / df(t2) - 1)\n",
    "\n",
    "forward_rate(date(2019, 2, 1), date(2019, 8, 1))"
   ]
  },
  {
   "cell_type": "markdown",
   "metadata": {},
   "source": [
    "### 2008 Financial Crisis\n",
    "\n",
    "Looking at the historical series of the Euribor (6M) rate versus the Eonia Overnight Indexed Swap (OIS-6M) rate over  the time interval 2006-2011 it becomes apparent how before August 2007 the two rates display strictly overlapping trends differing of no more than 6 bps. \n",
    "\n",
    "![](credit_crunch.png)\n",
    "\n",
    "In August 2007 however we observe a sudden increase of the Euribor rate and a simultaneous decrease of the OIS rate  that leads to the explosion of the corresponding basis spread, touching the peak of 222 bps in October 2008, when Lehman Brothers filed for bankruptcy protection. Successively the basis has sensibly reduced and stabilized between  40 bps and 60 bps (notice that the pre-crisis level has never been recovered). The same effect is observed for other similar couples, e.g. Euribor 3M vs OIS 3M. \n",
    "\n",
    "The reason of the abrupt divergence between the Euribor and OIS rates can be explained by considering both the monetary policy decisions adopted by international authorities in response to the financial turmoil, and the impact of the credit crunch on the credit and liquidity risk perception of the market, coupled with the different financial meaning and dynamics of these rates. \n",
    "\n",
    "* The Euribor rate is the reference rate for over-the-counter (OTC) transactions in the  Euro  area. It is defined as “the rate at which Euro interbank Deposits are being offered within the EMU zone by one prime bank to another at 11:00 a.m. Brussels time\". The rate fixings for a strip of 15 maturities, ranging from one day to one year, are constructed as the average of the rates submitted (excluding  the  highest and lowest 15% tails) by  a  panel  of banks 42 banks, selected among the EU banks with the highest volume of business in the Euro zone money markets, plus some large international bank from non-EU countries with important  euro  zone  operations. **Thus, Euribor rates reflect the average cost of  funding of banks in the interbank market at each given maturity. During the crisis the  solvency and solidity of the whole financial sector was brought into question and the credit and liquidity risk and premia associated to interbank counterparties sharply increased.** The Euribor rates immediately reflected these dynamics and raise to their highest values over more than 10 years. As seen in the plot above, the Euribor 6M rate suddenly increased on August 2007 and reached 5.49% on 10th October 2008. \n",
    "* The Eonia rate is the reference rate for overnight OTC transactions in the Euro area. It is constructed as the average rate of the overnight transactions (one day maturity deposits) executed during a given business day by a panel of banks on the interbank money market, weighted with the corresponding transaction volumes. **The Eonia Contribution Panel  coincides with the Euribor Contribution Panel, thus Eonia rate includes information on the  short term (overnight) liquidity expectations of banks in the Euro money market. It is also used by the European Central Bank (ECB) as a method of effecting and observing the  transmission of its monetary policy actions. During the crisis the central banks were  mainly concerned about restabilising the level of liquidity in the market, thus they reduced the level of the official rates.** Furthermore, the daily tenor of the Eonia rate makes negligible the credit and liquidity risks reflected on it: for this reason the OIS rates are considered the best proxies available in the market for the risk-free rate.\n",
    "\n",
    "As a practial result, after the 2008 financial crisis, it is not possible anymore to use a single discount curve to correctly price forward rates of all tenors. For example, if we want to calculate the net present value of a forward 6-month libor coupon, we need to simultaneously use two different discount curves:\n",
    "\n",
    "* the 6-month libor curve for determining the forward rate\n",
    "* the EONIA curve for discounting the expected cash flow\n",
    "\n",
    "Essentially we are now going to explore how to implement the following calculation:\n",
    "\n",
    "$$\\mathrm{NPV} = D_{\\mathrm{EONIA}}(T_1) \\times \\frac{1}{T_2-T_1}\\Big(\\frac{D_{\\mathrm{LIBOR}}(T_1)}{D_{\\mathrm{LIBOR}}(T_2)} - 1 \\Big)$$\n",
    "\n",
    "#### Programming problem\n",
    "**We only have one `df` function, and one set of data (i.e. the curve inputs): how can we generalize what we have done so far in such a way that we can conveniently do the above calculation ?**\n",
    "\n",
    "One *BAD* idea would be to write a different discount factor function for each curve:"
   ]
  },
  {
   "cell_type": "markdown",
   "metadata": {},
   "source": [
    "```python\n",
    "# THIS IS PSEUDOCODE JUST FOR ILLUSTRATION\n",
    "eonia_pillar_dates = [date(2019, 10, 1), \n",
    "                      date(2020, 10, 1),  \n",
    "                      date(2021, 10, 1)]\n",
    "eonia_discount_factors = [1.0, 0.95, 0.8]\n",
    "libor6m_pillar_dates = [date(2019, 10, 1),  \n",
    "                        date(2020, 4, 1),  \n",
    "                        date(2020, 10, 1)]\n",
    "libor6m_discount_factors = [1.0, 0.98, 0.82]\n",
    "\n",
    "def df_eonia(t):\n",
    "    log_discount_factors = [math.log(discount_factor) \\\n",
    "       for discount_factor in eonia_discount_factors]\n",
    "    interpolated_log_discount_factor = \\\n",
    "       interp_over_dates(t, eonia_pillar_dates, \n",
    "                         log_discount_factors)\n",
    "    return math.exp(interpolated_log_discount_factor)\n",
    "\n",
    "def df_libor(t):\n",
    "    log_discount_factors = [math.log(discount_factor) \\\n",
    "       for discount_factor in libor6m_discount_factors]\n",
    "    interpolated_log_discount_factor = \\\n",
    "        numpy.interp(t, libor6m_pillar_dates, log_discount_factors)\n",
    "    return math.exp(interpolated_log_discount_factor)\n",
    "\n",
    "def forward_rate(t1, t2):\n",
    "    return 365.0/(t2 - t1).days * (df_libor(t1) / df_libor(t2) - 1.0)\n",
    "\n",
    "rate = forward_rate(date(2019, 10, 1), date(2020, 4, 1))\n",
    "npv = df_eonia(date(2019, 10, 1)) * rate\n",
    "```"
   ]
  },
  {
   "cell_type": "markdown",
   "metadata": {},
   "source": [
    "this becomes pretty laborious, since we need to rewrite a function for every discount curve we add (e.g. if we have another currency or more libor rates with different tenors). Also, if we want to change the behaviour of the df function (e.g. change the type of interpolation), we then have to go and change each single implementation (`df_eonia`, `df_libor`, etc...) so it's not a convenient way of organizing the code.\n",
    "\n",
    "An alternative could be to generalize the `df` function so that it takes the pillar dates and discount factors as arguments, then we pass in the data we want to use to calculate the interpolated discount factor in each specific case:\n"
   ]
  },
  {
   "cell_type": "markdown",
   "metadata": {},
   "source": [
    "```python\n",
    "# THIS IS PSEUDOCODE JUST FOR ILLUSTRATION\n",
    "def df(pillar_dates, discount_factors, t):\n",
    "    log_discount_factors = [math.log(discount_factor) \\\n",
    "        for discount_factor in discount_factors]\n",
    "    interpolated_log_discount_factor = \\\n",
    "        interp_over_dates(t, pillar_dates, log_discount_factors)\n",
    "    return math.exp(interpolated_log_discount_factor)\n",
    "\n",
    "def forward_rate(t1, t2):\n",
    "    return 365.0 / (t2 ‐ t1).days * (\n",
    "        df(libor6m_pillar_dates, libor6m_discount_factors, t1) /\n",
    "        df(libor6m_pillar_dates, libor6m_discount_factors, t2) ‐ 1.0)\n",
    "\n",
    "rate = forward_rate(date(2019, 10, 1), date(2020, 4, 1)) \\\n",
    "    * df(eonia_pillar_dates, eonia_discount_factors, date(2019, 10, 1))\n",
    "```"
   ]
  },
  {
   "cell_type": "markdown",
   "metadata": {},
   "source": [
    "This is still very inconvenient though, because we always have to pass a set of static parameters to every function call. It's just about OK as long as the parameter set is small (like in this case with only few items) but as it gets larger it becomes unmanageable.\n",
    "\n",
    "However, as we have seen, Python allows you to represent collections of objects with dictionaries. A clear improvement could be, instead of passing a long list of data parameters to each function call, to group the datasets into dictionaries, and then pass those to the function."
   ]
  },
  {
   "cell_type": "markdown",
   "metadata": {},
   "source": [
    "```python\n",
    "# THIS IS PSEUDOCODE JUST FOR ILLUSTRATION\n",
    "# One generalized df function, using dictionaries for representing datasets\n",
    "\n",
    "eonia_data = {\"pillar_dates\": [date(2019, 10, 1), \n",
    "                               date(2020, 10, 1),  \n",
    "                               date(2021, 10, 1)],\n",
    "              \"discount_factors\": [1.0, 0.95, 0.8]\n",
    "             }\n",
    "libor6m_data = {\"pillar_dates\": [date(2019, 10, 1), \n",
    "                                 date(2020, 4, 1), \n",
    "                                 date(2020, 10, 1)],\n",
    "                \"discount_factors\": [1.0, 0.98, 0.82]\n",
    "             }\n",
    "def df(data, t):\n",
    "    pillar_dates = data['pillar_dates']\n",
    "    discount_factors = data['discount_factors']\n",
    "    log_discount_factors = [math.log(discount_factor) \\\n",
    "        for discount_factor in discount_factors]\n",
    "    interpolated_log_discount_factor = \\\n",
    "        interp_over_dates(t, pillar_dates, log_discount_factors)\n",
    "    return math.exp(interpolated_log_discount_factor)\n",
    "\n",
    "def forward_rate(t1, t2):\n",
    "    return 365.0/(t2 ‐ t1).days * (\n",
    "        df(libor6m_data, t1) /\n",
    "        df(libor6m_data, t2) ‐ 1.0)\n",
    "        \n",
    "npv = df(eonia_data, date(2019, 10, 1)) \\\n",
    "    * forward_rate(date(2019, 10, 1), date(2019, 4, 1))\n",
    "```"
   ]
  },
  {
   "cell_type": "markdown",
   "metadata": {},
   "source": [
    "This design pattern, i.e. using dictionaries to group together data, and then having functions operate on those dictionaries, perhaps with a few additional parameters, is so useful that Python (and many other programming languages) have a built-in feature that allows you to do this conveniently: **classes**."
   ]
  },
  {
   "cell_type": "markdown",
   "metadata": {},
   "source": [
    "## Classes\n",
    "\n",
    "Classes are a key ingredient of *Object Oriented Programming* (OOP) and their concept is implemented in many languages like `Python`, `Java`, `C++`.\n",
    "OOP is a programming model in which programs are organized around data, or objects, rather than functions and logic. **An object can be defined as a dataset with unique attributes and behaviour** (examples can range from physical entities, such as a human being that is described by properties like name and birthday, down to abstract concepts as a discount curve). This opposes the historical approach to programming where emphasis was placed on how the logic was written rather than how to define the data within the logic.\n",
    "In this framework classes are a mean for creating objects (a particular data structure), providing initial values for state (member variables or attributes), and implementations of behavior (member functions or methods).\n",
    "\n",
    "Let's summarize here some terminology:\n",
    "\n",
    "* a class is a collection of related functions, and these are called the *methods* of the class;\n",
    "* methods act on *instances* of the class;\n",
    "* an *instance* is basically a collection of related data;\n",
    "* each data item has a name, and those names are called the *attributes* of the class.\n",
    "\n",
    "**Essentially classes are collections of functions that operate on a dataset, and instances of that class represent individual datasets (or in othre words a specialization of that class).**\n",
    "\n",
    "![Graphical representation of a class instance.](classes_instances.png)\n",
    "\n",
    "Class methods always take the instance `self` as the first argument, and fall into two categories:\n",
    "\n",
    "* normal methods which use or modify the instance attributes;\n",
    "* special methods, which define the class behaviour: you can spot these because they start and end with two underscores (__).\n",
    "\n",
    "The `self` argument is very important since it allows a method to use its class attributes.\n",
    "\n",
    "There are lots of other things you can do with classes, but this is enough for now.\n",
    "Let's take a look at an example:"
   ]
  },
  {
   "cell_type": "code",
   "execution_count": null,
   "metadata": {},
   "outputs": [],
   "source": [
    "from datetime import date\n",
    "\n",
    "# this is the class definition\n",
    "# usually classes use camel naming convention\n",
    "class Person:\n",
    "    \n",
    "    # the special method __init__ allows to instanciate a class\n",
    "    # with an initial dataset (in this example a name and a birthday)\n",
    "    def __init__(self, name, date_of_birth):\n",
    "        # attribute of the class Person\n",
    "        # name and self.name are different variable !!!\n",
    "        # name will be destroyed once __init__ is processed\n",
    "        # self.name lives with every particualar instance of Person\n",
    "        self.name = name \n",
    "        # attribute of the class Person\n",
    "        self.date_of_birth = date_of_birth \n",
    "        \n",
    "    # this normal method computes the current age of the\n",
    "    # \"instanciated\" person\n",
    "    def age(self):\n",
    "        today = date.today()\n",
    "        age = today.year - self.date_of_birth.year\n",
    "        if today.month < self.date_of_birth.month or \\\n",
    "            today.day < self.date_of_birth.day:\n",
    "            age -= 1\n",
    "        return age"
   ]
  },
  {
   "cell_type": "code",
   "execution_count": null,
   "metadata": {},
   "outputs": [],
   "source": [
    "# here we instanciate (create an instance of) the class \n",
    "# in other words we \"specialize\" a generic Person with some data\n",
    "\n",
    "me = Person(\"Matteo\", date(1974, 10, 20))\n",
    "print (type(me))"
   ]
  },
  {
   "cell_type": "markdown",
   "metadata": {},
   "source": [
    "`__init__` is the simplest example of special methods, it is called every time a class is instanciated (e.g. when you write me = Person(...)) and initializes the attributes of the class."
   ]
  },
  {
   "cell_type": "code",
   "execution_count": null,
   "metadata": {},
   "outputs": [],
   "source": [
    "# to access class attributes you have to use .\n",
    "me.name"
   ]
  },
  {
   "cell_type": "code",
   "execution_count": null,
   "metadata": {},
   "outputs": [],
   "source": [
    "me.date_of_birth"
   ]
  },
  {
   "cell_type": "code",
   "execution_count": null,
   "metadata": {},
   "outputs": [],
   "source": [
    "# to call a class method you have to use . \n",
    "# passing the parameters if needed\n",
    "me.age()"
   ]
  },
  {
   "cell_type": "code",
   "execution_count": null,
   "metadata": {},
   "outputs": [],
   "source": [
    "from datetime import date\n",
    "\n",
    "# let's add a new method to print in a nicer form \n",
    "# the age of the person\n",
    "class Person:\n",
    "    \n",
    "    def __init__(self, name, date_of_birth):\n",
    "        self.name = name\n",
    "        self.date_of_birth = date_of_birth\n",
    "    \n",
    "    def age(self):\n",
    "        today = date.today()\n",
    "        age = today.year - self.date_of_birth.year\n",
    "        if today.month < self.date_of_birth.month or \\\n",
    "            today.day < self.date_of_birth.day:\n",
    "            age -= 1\n",
    "        return age\n",
    "  \n",
    "    # methods in a class are just functions which can work\n",
    "    # with the class attributes\n",
    "    # Remember I told you functions can have no return ?\n",
    "    def print_age(self):\n",
    "        print (\"{} is {} years old right now\"\\\n",
    "               .format(self.name, self.age()))"
   ]
  },
  {
   "cell_type": "code",
   "execution_count": null,
   "metadata": {},
   "outputs": [],
   "source": [
    "her = Person(\"Francesca\", date(1986, 1, 27))"
   ]
  },
  {
   "cell_type": "code",
   "execution_count": null,
   "metadata": {},
   "outputs": [],
   "source": [
    "her.print_age()"
   ]
  },
  {
   "cell_type": "markdown",
   "metadata": {},
   "source": [
    "## Exercises\n",
    "\n",
    "### Exercise 4.1\n",
    "\n",
    "Write two classes, `Circle` and `Rectangle` that given the radius and height, width respectively allow to compute area and perimeter of the two shapes. Test them with the following:\n",
    "```python\n",
    "a_circle = Circle(5)\n",
    "print (\"My circle has an area of {} m**2\".format(a_circle.area()))\n",
    "\n",
    "a_rectangle = Rectangle(3, 6)\n",
    "print (\"My rectangle has a perimeter of {} m and an area of {} m**2\" \\\n",
    "    .format(a_rectangle.perimeter(), a_rectangle.area()))\n",
    "```\n",
    "### Exercise 4.2\n",
    "\n",
    "Define a class `Songs`, its `__init__` should take as input a dictionary (`lyrics` that contains lyrics line by line). Define a method, `sing_me_a_song` that prints each element of the lyrics in his own line. Also test it with the follwing input.\n",
    "```python\n",
    "lyrics = {\"Wonderwall\":[\"Today is gonna be the day\",\n",
    "                        \"That they're gonna throw it back to you\",\n",
    "                        \"By now you should've somehow\", \"...\"], \n",
    "          \"Wish you were here\":  [\"So, so you think you can tell\",\n",
    "                                  \"Heaven from hell\",\n",
    "                                   \"Blue skies from pain\", \"...\"]}\n",
    "```\n",
    "\n",
    "### Exercise 4.3\n",
    "\n",
    "Define a Point2D class that represent a point in a plane. Its `__init__` method should accept the point coordinates `x` and `y`. Write a method `distanceTo` that compute the distance of the point to another passed as input. Test the class by printing the distance of the point $P=(4, 5)$ to the origin $P=(0,0)$ and to $P=(3,4)$.\n",
    "\n",
    "### Exercise 4.4\n",
    "\n",
    "Try to write a ```DiscountCurve``` class which contains the pillar dates and pillar discount factors as attributes and which has methods for calculating the discount factor and forward rate at arbitrary dates.\n",
    "\n",
    "#### Hint:\n",
    "\n",
    "```python\n",
    "# here goes import statement of the needed modules\n",
    "import ABCD\n",
    "from XYZ import xyz\n",
    "\n",
    "# usually classes have CamelCase naming convention\n",
    "class DiscountCurve:\n",
    "\n",
    "    # the special __init__ method defines \n",
    "    # how to construct instances of the class\n",
    "    # so you need to identify the attributes you need to store \n",
    "    # in the class defining a discount curve\n",
    "    def __init__(self, ...):\n",
    "\n",
    "    # then we want to add a method to compute the discount\n",
    "    # factor at an arbitrary value date \n",
    "    # using the data stored in the instance\n",
    "    def df(self, param1, param2, ...):\n",
    "      # the implementation can follow what we did in the \n",
    "      # function we wrote last week but this time has to \n",
    "      # use the class attributes\n",
    "      \n",
    "    # finally we want a method to calculates the forward rate \n",
    "    # based on the discount curve data stored in the instance\n",
    "    def forward_rate(self, param1, param2, ...):\n",
    "        # here of course we can use the df method \n",
    "        # implemented above to calculate the forward rate\n",
    "```"
   ]
  }
 ],
 "metadata": {
  "kernelspec": {
   "display_name": "Python 3",
   "language": "python",
   "name": "python3"
  },
  "language_info": {
   "codemirror_mode": {
    "name": "ipython",
    "version": 3
   },
   "file_extension": ".py",
   "mimetype": "text/x-python",
   "name": "python",
   "nbconvert_exporter": "python",
   "pygments_lexer": "ipython3",
   "version": "3.7.3"
  }
 },
 "nbformat": 4,
 "nbformat_minor": 2
}
