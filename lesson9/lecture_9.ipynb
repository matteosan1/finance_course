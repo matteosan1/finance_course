{
 "cells": [
  {
   "cell_type": "markdown",
   "metadata": {},
   "source": [
    "# Financial Markets - Lesson 7\n",
    "\n",
    "In this lesson we're going to:\n",
    "\n",
    "* go through the new additions to finmarkets.py;\n",
    "* implement a credit curve class;\n",
    "* if there's time, start talking about credit default swaps.\n",
    "\n",
    "## New additions to finmarkets.py"
   ]
  },
  {
   "cell_type": "code",
   "execution_count": 1,
   "metadata": {},
   "outputs": [],
   "source": [
    "from curve_data import discount_curve, libor_curve, pricing_date"
   ]
  },
  {
   "cell_type": "code",
   "execution_count": 2,
   "metadata": {},
   "outputs": [],
   "source": [
    "from finmarkets import InterestRateSwap, InterestRateSwaption"
   ]
  },
  {
   "cell_type": "code",
   "execution_count": 3,
   "metadata": {},
   "outputs": [
    {
     "data": {
      "text/plain": [
       "-34969.02685005371"
      ]
     },
     "execution_count": 3,
     "metadata": {},
     "output_type": "execute_result"
    }
   ],
   "source": [
    "irs = InterestRateSwap(pricing_date, 1e6, 0.01, 6, 4)\n",
    "irs.npv(discount_curve, libor_curve)"
   ]
  },
  {
   "cell_type": "code",
   "execution_count": 4,
   "metadata": {},
   "outputs": [
    {
     "data": {
      "text/plain": [
       "0.0"
      ]
     },
     "execution_count": 4,
     "metadata": {},
     "output_type": "execute_result"
    }
   ],
   "source": [
    "from datetime import date\n",
    "swaption = InterestRateSwaption(date(2017, 6, 1), irs)\n",
    "swaption.npv_bs(discount_curve, libor_curve, 0.07)"
   ]
  },
  {
   "cell_type": "code",
   "execution_count": 5,
   "metadata": {},
   "outputs": [
    {
     "data": {
      "text/plain": [
       "(0.0, 0.0)"
      ]
     },
     "execution_count": 5,
     "metadata": {},
     "output_type": "execute_result"
    }
   ],
   "source": [
    "swaption.npv_mc(discount_curve, libor_curve, 0.07)"
   ]
  },
  {
   "cell_type": "markdown",
   "metadata": {},
   "source": [
    "## Credit curves\n",
    "\n",
    "Just like a discount curve is an abstract way of representing the underlying interest rate implicit in the market quotes of a collection of real-world interest rate products, **credit curves** are a way of representing tha data implied by credit default swaps.\n",
    "\n",
    "**Credit default swaps (CDS)** are instruments whose value depends on the likelihood that a given company (the curve's issuer) will suffer a credit event over a given period.\n",
    "\n",
    "A credit event can be a default, the failure to make payments, the issuer entering into bankruptcy proceedings, or the occurence of other legal events. The exact definition of what constitutes a credit event depends on a series of factors and is usually defined in some kind of ISDA master agreement, or the event can be declared by ISDA (International Swaps and Derivatives Association) itself.\n",
    "\n",
    "In any case, we will generically call a credit event a 'default', and talk about **non-default probabilities (NDP)**, i.e. the probability that the issuer will not suffer a credit event before a given value date. NDPs are the equivalent for credit curve of discount factors for discount curves. Just like discount curves, credit curves are built by specifying a pricing/observation date, a sequence of pillar dates and a sequence of pillar NDPs, and provide a method which log-linearly interpolates these pillar NDPs to return the NDP at an arbitrary value date between the pricing date and the last pillar date.\n",
    "\n",
    "In addition, we'll also write a method which returns tha **hazard rate** at an arbitray value date. The hazard rate is the credit curve equivalent of the short rate or overnight rate for discount curves. It represents the instantaneous probability of the issuer defaulting conditioned on it not having defaulted until that moment - though in practice we'll calculate it numerically, and therfore it'll be the (annualized) conditional probability of the issuer defaulting between the value date and the day after."
   ]
  },
  {
   "cell_type": "code",
   "execution_count": 7,
   "metadata": {},
   "outputs": [],
   "source": [
    "import math, numpy\n",
    "\n",
    "class CreditCurve():\n",
    "    def __init__(self, pillar_dates, pillar_ndps):\n",
    "        self.pillar_dates = pillar_dates\n",
    "        self.pillar_ndps = pillar_ndps\n",
    "        \n",
    "        self.pillar_days = [(pd - pillar_dates[0]).days for pd in pillar_dates]\n",
    "        self.log_ndps = [math.log(ndp) for ndp in pillar_ndps]\n",
    "\n",
    "    def ndp(self, value_date):\n",
    "        value_days = (value_date - self.pillar_dates[0]).days\n",
    "        return math.exp(numpy.interp(value_days, self.pillar_days, self.log_ndps))\n",
    "    \n",
    "    def hazard(self, value_date):\n",
    "        ndp_1 = self.ndp(value_date)\n",
    "        ndp_2 = self.ndp(value_date + relativedelta(days=1))\n",
    "        delta_t = 1.0 / 365.0\n",
    "        h = -1.0 / ndp_1 * (ndp_2 - ndp_1) / delta_t\n",
    "        return h"
   ]
  },
  {
   "cell_type": "code",
   "execution_count": 9,
   "metadata": {},
   "outputs": [],
   "source": [
    "from datetime import date\n",
    "from dateutil.relativedelta import relativedelta\n",
    "\n",
    "cc = CreditCurve([pricing_date, pricing_date + relativedelta(years=2)], [1.0, 0.8])"
   ]
  },
  {
   "cell_type": "code",
   "execution_count": 10,
   "metadata": {},
   "outputs": [
    {
     "data": {
      "text/plain": [
       "0.8944271909999159"
      ]
     },
     "execution_count": 10,
     "metadata": {},
     "output_type": "execute_result"
    }
   ],
   "source": [
    "cc.ndp(pricing_date + relativedelta(years=1))"
   ]
  },
  {
   "cell_type": "code",
   "execution_count": 11,
   "metadata": {},
   "outputs": [
    {
     "data": {
      "text/plain": [
       "0.11155472498198307"
      ]
     },
     "execution_count": 11,
     "metadata": {},
     "output_type": "execute_result"
    }
   ],
   "source": [
    "cc.hazard(pricing_date + relativedelta(years=1))"
   ]
  }
 ],
 "metadata": {
  "kernelspec": {
   "display_name": "Python 3",
   "language": "python",
   "name": "python3"
  },
  "language_info": {
   "codemirror_mode": {
    "name": "ipython",
    "version": 3
   },
   "file_extension": ".py",
   "mimetype": "text/x-python",
   "name": "python",
   "nbconvert_exporter": "python",
   "pygments_lexer": "ipython3",
   "version": "3.7.3"
  }
 },
 "nbformat": 4,
 "nbformat_minor": 2
}
