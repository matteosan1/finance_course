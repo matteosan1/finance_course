{
 "cells": [
  {
   "cell_type": "markdown",
   "metadata": {},
   "source": [
    "## Matrices\n",
    "\n",
    "In mathematics, a matrix (plural matrices) is a rectangular array of numbers, symbols, or expressions, arranged in rows and columns. Matrices are commonly written in box brackets. The horizontal and vertical lines of entries in a matrix are called rows and columns, respectively. The size of a matrix is defined by the number of rows and columns that it contains. A matrix with $m$ rows and $n$ columns is called an $m\\times n$ matrix or $m$-by-$n$\n",
    "matrix, while $m$ and $n$ are called its dimensions. The dimensions of the following matrix are $2\\times 3$\n",
    "(read “two by three”), because there are two rows and three columns.\n",
    " \n",
    "\\begin{bmatrix}\n",
    "1 & 2 & 3\\\\\n",
    "4 & 5 & 6\n",
    "\\end{bmatrix}\n",
    "\n",
    "The individual items (numbers, symbols or expressions) in a matrix are called its elements or entries.\n",
    "\n",
    "In \\texttt{python} matrices can be represented as \\texttt{numpy.array}, so the example above will become:"
   ]
  },
  {
   "cell_type": "code",
   "execution_count": 17,
   "metadata": {},
   "outputs": [
    {
     "name": "stdout",
     "output_type": "stream",
     "text": [
      "[[1 2 3]\n",
      " [4 5 6]]\n"
     ]
    }
   ],
   "source": [
    "import numpy as np\n",
    "\n",
    "print (np.array([[1,2,3],[4,5,6]]))"
   ]
  },
  {
   "cell_type": "markdown",
   "metadata": {},
   "source": [
    "Essentially a \\texttt{numpy.array} is a list of lists each one representing a matrix row. Arrays can have any dimension so they can be used to represent also vectors in \\texttt{python}. There are two special types of arrays \\texttt{zeros} and \\texttt{ones} whose name already clarify their meaning:"
   ]
  },
  {
   "cell_type": "code",
   "execution_count": 18,
   "metadata": {},
   "outputs": [
    {
     "name": "stdout",
     "output_type": "stream",
     "text": [
      "[[0. 0. 0.]\n",
      " [0. 0. 0.]\n",
      " [0. 0. 0.]]\n",
      "\n",
      "[[1. 1. 1. 1.]\n",
      " [1. 1. 1. 1.]\n",
      " [1. 1. 1. 1.]\n",
      " [1. 1. 1. 1.]]\n"
     ]
    }
   ],
   "source": [
    "A = np.zeros(shape=(3, 3))\n",
    "B = np.ones(shape=(4, 4))\n",
    "\n",
    "print (A)\n",
    "print ()\n",
    "print (B)"
   ]
  },
  {
   "cell_type": "markdown",
   "metadata": {},
   "source": [
    "### Adding and Subtracting Matrices\n",
    "We use matrices to list data or to represent systems. Because the entries are numbers, we can perform operations on matrices. We add or subtract matrices by adding or subtracting corresponding entries.\n",
    "\n",
    "In order to do this, the entries must correspond. Therefore, addition and subtraction of matrices is only possible when the matrices have the same dimensions.  \n",
    "Adding matrices is very simple. Just add each element in the first matrix to the corresponding element in the second matrix.\n",
    "\n",
    "$$\n",
    "\\begin{bmatrix}\n",
    "1 & 2 & 3 \\\\\n",
    "4 & 5 & 6\n",
    "\\end{bmatrix}\n",
    "+\n",
    "\\begin{bmatrix}\n",
    "10 & 20 & 30\\\\\n",
    "40 & 50 & 60\n",
    "\\end{bmatrix}\n",
    "=\n",
    "\\begin{bmatrix}\n",
    "11 & 22 & 33\\\\\n",
    "44 & 55 & 66\n",
    "\\end{bmatrix}\n",
    "$$\n",
    "\n",
    "As you might guess, subtracting works much the same way except that you subtract instead of adding.\n",
    "\n",
    "$$\n",
    "\\begin{bmatrix}\n",
    "10 & 20 & 30\\\\\n",
    "40 & 50 & 60\n",
    "\\end{bmatrix}\n",
    "-\n",
    "\\begin{bmatrix}\n",
    "1 & 2 & 3 \\\\\n",
    "4 & 5 & 6\n",
    "\\end{bmatrix}\n",
    "=\n",
    "\\begin{bmatrix}\n",
    "9 & 18 & 27\\\\\n",
    "36 & 45 & 54\n",
    "\\end{bmatrix}\n",
    "$$\n",
    "\n",
    "Adding and subtracting \\texttt{numpy.array} is as easy as that:"
   ]
  },
  {
   "cell_type": "code",
   "execution_count": 19,
   "metadata": {},
   "outputs": [
    {
     "name": "stdout",
     "output_type": "stream",
     "text": [
      "[[11 22 33]\n",
      " [44 55 66]]\n",
      "[[ 9 18 27]\n",
      " [36 45 54]]\n"
     ]
    }
   ],
   "source": [
    "A = np.array([[1,2,3],[4,5,6]])\n",
    "B = np.array([[10,20,30],[40,50,60]])\n",
    "\n",
    "print (A+B)\n",
    "print (B-A)"
   ]
  },
  {
   "cell_type": "markdown",
   "metadata": {},
   "source": [
    "### Scalar Multiplication\n",
    "Multiplying a matrix by a scalar $c$ means you add the matrix to itself $c$ times, or simply multiply each element by that constant.\n",
    "\n",
    "$$\n",
    "3 \\cdot\n",
    "\\begin{bmatrix}\n",
    "1 & 2 & 3 \\\\\n",
    "4 & 5 & 6\n",
    "\\end{bmatrix}\n",
    "=\n",
    "\\begin{bmatrix}\n",
    "3 & 6 & 9 \\\\\n",
    "12 & 15 & 18\n",
    "\\end{bmatrix}\n",
    "$$\n",
    "\n",
    "Scalar multiplication of \\texttt{numpy.array} is:"
   ]
  },
  {
   "cell_type": "code",
   "execution_count": 20,
   "metadata": {},
   "outputs": [
    {
     "name": "stdout",
     "output_type": "stream",
     "text": [
      "[[ 3  6  9]\n",
      " [12 15 18]]\n"
     ]
    }
   ],
   "source": [
    "c = 3\n",
    "A = np.array([[1,2,3],[4,5,6]])\n",
    "\n",
    "print (c*A)"
   ]
  },
  {
   "cell_type": "markdown",
   "metadata": {},
   "source": [
    "### Matrix Multiplication\n",
    "Matrix multiplication is multiplying every element of each row of the first matrix times every element of each column in the second matrix. When multiplying matrices, the elements of the rows in the first matrix are multiplied with corresponding columns in the second matrix. Each entry of the resultant matrix is computed one at a time.\n",
    "\n",
    "Let's see with an example:\n",
    "$$ \n",
    "\\begin{bmatrix}\n",
    "1 & 2 \\\\\n",
    "3 & 4\n",
    "\\end{bmatrix}\n",
    "\\cdot\n",
    "\\begin{bmatrix}\n",
    "5 & 6 \\\\\n",
    "7 & 8\n",
    "\\end{bmatrix}\n",
    "= ?\n",
    "$$\n",
    "\n",
    "First ask: Do the number of columns in the first matrix equal the number of rows in the second ?\n",
    "If so the product exists.\n",
    "Then start with producing the product for the first row, first column element. Take the first row of the first matrix and multiply by the first column of the second like this:\n",
    "\n",
    "$$ \n",
    "\\begin{bmatrix}\n",
    "1 & 2 \\\\\n",
    "3 & 4\n",
    "\\end{bmatrix}\n",
    "\\cdot\n",
    "\\begin{bmatrix}\n",
    "5 & 6 \\\\\n",
    "7 & 8\n",
    "\\end{bmatrix}\n",
    "=\n",
    "\\begin{bmatrix}\n",
    "(1\\cdot 5) + (2\\cdot 7) & X \\\\\n",
    "X & X\n",
    "\\end{bmatrix}\n",
    "$$\n",
    "\n",
    "Continue the pattern with the first row of the first matrix with the second column of the second matrix:\n",
    "\n",
    "$$ \n",
    "\\begin{bmatrix}\n",
    "1 & 2 \\\\\n",
    "3 & 4\n",
    "\\end{bmatrix}\n",
    "\\cdot\n",
    "\\begin{bmatrix}\n",
    "5 & 6 \\\\\n",
    "7 & 8\n",
    "\\end{bmatrix}\n",
    "=\n",
    "\\begin{bmatrix}\n",
    "(1\\cdot 5) + (2\\cdot 7) & (1\\cdot 6) + (2\\cdot 8)  \\\\\n",
    "X & X\n",
    "\\end{bmatrix}\n",
    "$$\n",
    "\n",
    "The do the same with the second row of the first matrix and you are done:\n",
    "\n",
    "$$ \n",
    "\\begin{bmatrix}\n",
    "1 & 2 \\\\\n",
    "3 & 4\n",
    "\\end{bmatrix}\n",
    "\\cdot\n",
    "\\begin{bmatrix}\n",
    "5 & 6 \\\\\n",
    "7 & 8\n",
    "\\end{bmatrix}\n",
    "=\n",
    "\\begin{bmatrix}\n",
    "(1\\cdot 5) + (2\\cdot 7) & (1\\cdot 6) + (2\\cdot 8)  \\\\\n",
    "(3\\cdot 5) + (4\\cdot 7) & (3\\cdot 6) + (4\\cdot 8) \n",
    "\\end{bmatrix}\n",
    "=\n",
    "\\begin{bmatrix}\n",
    "19 & 22 \\\\\n",
    "43 & 50 \n",
    "\\end{bmatrix}\n",
    "$$\n",
    "\n",
    "In \\texttt{numpy} array multiplication can be done like this:"
   ]
  },
  {
   "cell_type": "code",
   "execution_count": 21,
   "metadata": {},
   "outputs": [
    {
     "name": "stdout",
     "output_type": "stream",
     "text": [
      "[[19 22]\n",
      " [43 50]]\n"
     ]
    }
   ],
   "source": [
    "A = np.array([[1,2],[3,4]])\n",
    "B = np.array([[5,6],[7,8]])\n",
    "\n",
    "print (np.dot(A, B))"
   ]
  },
  {
   "cell_type": "markdown",
   "metadata": {},
   "source": [
    "### The identity matrix \n",
    "$[I]$ is defined so that $[A][I]=[A]$, i.e. it is the matrix version of multiplying a number by one.\n",
    "What matrix has this property? A first guess might be a matrix full of 1s, but that does not work:\n",
    "\n",
    "$$\n",
    "\\begin{bmatrix}\n",
    "1 & 2 \\\\\n",
    "3 & 4\n",
    "\\end{bmatrix}\n",
    "\\begin{bmatrix}\n",
    "1 & 1 \\\\\n",
    "1 & 1\n",
    "\\end{bmatrix}\n",
    "=\n",
    "\\begin{bmatrix}\n",
    "3 & 3 \\\\\n",
    "7 & 7\n",
    "\\end{bmatrix}\n",
    "$$\n",
    "\n",
    "So our initial guess was wrong ! The matrix that does work is a diagonal stretch of 1s, with all other elements being 0:\n",
    "\n",
    "$$\n",
    "\\begin{bmatrix}\n",
    "1 & 2 \\\\\n",
    "3 & 4\n",
    "\\end{bmatrix}\n",
    "\\begin{bmatrix}\n",
    "1 & 0 \\\\\n",
    "0 & 1\n",
    "\\end{bmatrix}\n",
    "=\n",
    "\\begin{bmatrix}\n",
    "1 & 2 \\\\\n",
    "3 & 4\n",
    "\\end{bmatrix}\n",
    "$$\n",
    "\n",
    "So $\n",
    "I = \\begin{bmatrix}\n",
    "1 & 0 \\\\\n",
    "0 & 1\n",
    "\\end{bmatrix}\n",
    "$ is the identity matrix for $2\\times 2$ matrices.\n",
    " \n",
    "The \\texttt{numpy} equivalent of the identity matrix is given by \\texttt{numpy.identity(n)} with n the dimension of the matrix. So for example:"
   ]
  },
  {
   "cell_type": "code",
   "execution_count": 22,
   "metadata": {},
   "outputs": [
    {
     "name": "stdout",
     "output_type": "stream",
     "text": [
      "[[1 2]\n",
      " [3 4]]\n",
      "\n",
      "[[1. 2.]\n",
      " [3. 4.]]\n"
     ]
    }
   ],
   "source": [
    "A = np.array([[1,2],[3,4]])\n",
    "I = np.identity(2)\n",
    "\n",
    "print (A)\n",
    "print ()\n",
    "print (np.dot(A, I))"
   ]
  },
  {
   "cell_type": "markdown",
   "metadata": {},
   "source": [
    "### Matrix Equations\n",
    "Matrices can be used to compactly write and work with systems of multiple linear equations.\n",
    "As we have learned in previous sections, matrices can be manipulated in any way that a normal equation can be. This is very helpful when we start to work with systems of equations. It is helpful to understand how to organize matrices to solve these systems.\n",
    "\n",
    "### Writing a System of Equations with Matrices\n",
    "It is possible to solve this system using the elimination or substitution method, but it is also possible to do it with a matrix operation. Before we start setting up the matrices, it is important to do the following:\n",
    "\n",
    "* make sure that all of the equations are written in a similar manner, meaning the variables need to all be in the same order;\n",
    "* make sure that one side of the equation is only variables and their coefficients, and the other side is just constants;\n",
    "\n",
    "Solving a system of linear equations using the inverse of a matrix requires the definition of two new matrices: \n",
    "$X$ is the matrix representing the variables of the system, and $B$ is the matrix representing the constants. Using matrix multiplication, we may define a system of equations with the same number of equations as variables as:\n",
    "\n",
    "$$ A\\cdot X = B$$\n",
    "\n",
    "where $A$ is the coefficient matrix, $X$ is the variable matrix, and $B$ is the constant matrix.\n",
    "Given the system:\n",
    "\n",
    "$$\n",
    "\\begin{cases}\n",
    "x + 8y = 7 \\\\\n",
    "2x − 8y = −3\n",
    "\\end{cases}\n",
    "$$\n",
    "\n",
    "The corresponding matrices are then:\n",
    "\n",
    "$$\n",
    "A=\n",
    "\\begin{bmatrix}\n",
    "1 & 8\\\\\n",
    "2 & −8\n",
    "\\end{bmatrix}\n",
    ";\n",
    "X=\n",
    "\\begin{bmatrix}\n",
    "x\\\\\n",
    "y\n",
    "\\end{bmatrix}\n",
    ";\n",
    "A=\n",
    "\\begin{bmatrix}\n",
    "7\\\\\n",
    "-3\n",
    "\\end{bmatrix}\n",
    "$$\n",
    "\n",
    "Thus, to solve a system $AX=B$, for $X$, multiply both sides by the inverse of $A$ and we shall obtain the solution:\n",
    "\n",
    "$$A^{-1}AX=A^{-1}B \\implies X = A^{-1}B $$\n",
    "\n",
    "Provided the inverse $A^{-1}$ exists, this formula will solve the system.\n",
    "If the coefficient matrix is not invertible, the system could be inconsistent and have no solution, or be dependent and have infinitely many solutions."
   ]
  },
  {
   "cell_type": "markdown",
   "metadata": {},
   "source": [
    "### The Inverse of a Matrix\n",
    "The inverse of matrix $A$ is $A^{-1}$, and is defined by the property: \n",
    "\n",
    "$$ AA^{-1}=I $$\n",
    "\n",
    "Hence the matrix $B$ is the inverse of the matrix $A$ if when multiplied together, $A\\cdot B$ gives the identity matrix.\n",
    "Using the definition let's try to find the inverse of:\n",
    "\n",
    "$$\n",
    "\\begin{bmatrix}\n",
    "3 & 4\\\\\n",
    "5 & 6\n",
    "\\end{bmatrix}\n",
    "$$\n",
    "\n",
    "First, let the following be true:\n",
    "\n",
    "$$\n",
    "\\begin{bmatrix}\n",
    "3 & 4\\\\\n",
    "5 & 6\n",
    "\\end{bmatrix}\n",
    "\\begin{bmatrix}\n",
    "a & b\\\\\n",
    "c & d\n",
    "\\end{bmatrix}\n",
    "=\n",
    "\\begin{bmatrix}\n",
    "1 & 0\\\\\n",
    "0 & 1\n",
    "\\end{bmatrix}\n",
    "$$\n",
    "\n",
    "When multiplying this mystery matrix by our original matrix, the result is \n",
    "\n",
    "$$\n",
    "\\begin{bmatrix}\n",
    "3a+4c & 3b+4d\\\\\n",
    "5a+6c & 5b+6d\n",
    "\\end{bmatrix}\n",
    "=\n",
    "\\begin{bmatrix}\n",
    "1 & 0\\\\\n",
    "0 & 1\n",
    "\\end{bmatrix}\n",
    "$$\n",
    "\n",
    "For two matrices to be equal, every element in the left must equal its corresponding element on the right. So, for these two matrices to equal each other:\n",
    "\n",
    "$$\n",
    "\\begin{cases}\n",
    "3a+4c=1\\\\\n",
    "3b+4d=0\\\\\n",
    "5a+6c=0\\\\\n",
    "5b+6d=1\n",
    "\\end{cases}\n",
    "$$\n",
    "\n",
    "Solving this simple system we get the following result:\n",
    "\n",
    "$$\n",
    "\\begin{cases}\n",
    "a=−3\\\\\n",
    "b=2\\\\\n",
    "c=2.5\\\\\n",
    "d=−1.5\n",
    "\\end{cases}\n",
    "$$\n",
    "\n",
    "Having solved for the four variables, the result is the inverse \n",
    "\n",
    "$$\n",
    "\\begin{bmatrix}\n",
    "−3 & 2\\\\\n",
    "2.5 & −1.5\n",
    "\\end{bmatrix}\n",
    "$$\n",
    "\n",
    "The quick check to be sure it is correct is to multiply it by the original matrix and see if the identify matrix results, this is left as an exercise to the reader.\n",
    "\n",
    "The \\texttt{linalg.inv()} function can be used to find the inverse of a matrix in \\texttt{python}:"
   ]
  },
  {
   "cell_type": "code",
   "execution_count": 23,
   "metadata": {},
   "outputs": [
    {
     "name": "stdout",
     "output_type": "stream",
     "text": [
      "[[-3.   2. ]\n",
      " [ 2.5 -1.5]]\n"
     ]
    }
   ],
   "source": [
    "from numpy.linalg import inv\n",
    "\n",
    "A = np.array([[3,4],[5,6]])\n",
    "print (inv(A))"
   ]
  },
  {
   "cell_type": "markdown",
   "metadata": {},
   "source": [
    "\n",
    "### Solving Systems of Equations Using Matrix Inverses\n",
    "A system of equations can be readily solved using the concepts of the inverse matrix and matrix multiplication.  \n",
    "\n",
    "#### Solve the following system of linear equations:\n",
    "$$\n",
    "\\begin{cases}\n",
    "x+2y−z=11\\\\\n",
    "2x−y+3z=7\\\\\n",
    "7x−3y−2z=2\n",
    "\\end{cases}\n",
    "$$\n",
    "\n",
    "Set up the three necesary matrices: \n",
    "\n",
    "$$\n",
    "A=\n",
    "\\begin{bmatrix}\n",
    "1 & 2 & −1 \\\\ \n",
    "2 & −1 & 3 \\\\\n",
    "7 & −3 & −2\n",
    "\\end{bmatrix}\n",
    ";\n",
    "B=\n",
    "\\begin{bmatrix}\n",
    "11\\\\\n",
    "7\\\\\n",
    "2\n",
    "\\end{bmatrix}\n",
    ";\n",
    "X=\n",
    "\\begin{bmatrix}\n",
    "x\\\\\n",
    "y \\\\ \n",
    "z\n",
    "\\end{bmatrix}\n",
    "$$\n",
    "\n",
    "Since to solve this system we have to find the inverse matrix of $A$ and multiply it to $B$ we have all the ingredients to do it in \\texttt{python}:"
   ]
  },
  {
   "cell_type": "code",
   "execution_count": 24,
   "metadata": {},
   "outputs": [
    {
     "name": "stdout",
     "output_type": "stream",
     "text": [
      "[3. 5. 2.]\n"
     ]
    }
   ],
   "source": [
    "A = np.array([[1,2,-1],[2,-1,3],[7,-3,-2]])\n",
    "B = np.array([11,7,2])\n",
    "\n",
    "A_inv = inv(A)\n",
    "sol = np.dot(A_inv, B)\n",
    "\n",
    "print (sol)"
   ]
  },
  {
   "cell_type": "markdown",
   "metadata": {},
   "source": [
    "So the solution of the system is:\n",
    "$$\n",
    "\\begin{cases}\n",
    "x=3\\\\\n",
    "y=5\\\\\n",
    "z=2\n",
    "\\end{cases}\n",
    "$$"
   ]
  },
  {
   "cell_type": "code",
   "execution_count": 7,
   "metadata": {},
   "outputs": [
    {
     "name": "stdout",
     "output_type": "stream",
     "text": [
      "P(=0): 0.000\n",
      "P(=4): 0.084\n",
      "P(<13): 1.000\n"
     ]
    }
   ],
   "source": [
    "import random\n",
    "\n",
    "random.seed(1)\n",
    "\n",
    "successes = {\"=0\":0.0, \"=4\":0.0, \"<13\":0.0}\n",
    "trials = 100000\n",
    "for _ in range(trials):\n",
    "    d1 = random.randint(1, 6)\n",
    "    d2 = random.randint(1, 6)\n",
    "    if (d1 + d2) == 0:\n",
    "        successes[\"=0\"] += 1.0\n",
    "    if (d1 + d2) == 4:\n",
    "        successes[\"=4\"] += 1.0\n",
    "    if (d1 + d2) < 13:\n",
    "        successes[\"<13\"] += 1.0\n",
    "    \n",
    "for k,v in successes.items():\n",
    "    print (\"P({}): {:.3f}\".format(k, v/trials))"
   ]
  },
  {
   "cell_type": "code",
   "execution_count": 17,
   "metadata": {},
   "outputs": [
    {
     "name": "stdout",
     "output_type": "stream",
     "text": [
      "95% confidence interval: 4.4375 +- 0.8119808363806419\n"
     ]
    }
   ],
   "source": [
    "import numpy as np\n",
    "from scipy.stats import norm\n",
    "\n",
    "samples = [1.,2.,3.,4.,4.,4.,5.,5.,5.,5.,4.,4.,4.,6.,7.,8.]\n",
    "\n",
    "alpha = 0.95\n",
    "a = np.array(samples)\n",
    "\n",
    "A = norm.ppf((1 + alpha)/2)\n",
    "m, se = np.mean(a), np.std(a)\n",
    "h = A*se/np.sqrt(len(samples))\n",
    "\n",
    "print (\"{:.0f}% confidence interval: {} +- {}\".format(alpha*100, m, h))"
   ]
  },
  {
   "cell_type": "code",
   "execution_count": 54,
   "metadata": {},
   "outputs": [
    {
     "name": "stdout",
     "output_type": "stream",
     "text": [
      "Probbility: 6.7%\n"
     ]
    }
   ],
   "source": [
    "import random\n",
    "\n",
    "flasks = [\"C\"]*54 + [\"U\"] * 6\n",
    "\n",
    "random.seed(1)\n",
    "trials = 1000\n",
    "success = 0.\n",
    "for _ in range(trials):\n",
    "    draw = random.sample(flasks, 5)\n",
    "    if draw.count(\"C\") == 3:\n",
    "        success += 1.\n",
    "        \n",
    "print (\"Probbility: {:.1f}%\".format(success/float(trials)*100))"
   ]
  },
  {
   "cell_type": "code",
   "execution_count": 56,
   "metadata": {},
   "outputs": [
    {
     "name": "stdout",
     "output_type": "stream",
     "text": [
      "Avg temperature in Septepmber (US): 65.10992063492064\n",
      "99% confidence interval: +- 0.33013045424273185\n"
     ]
    }
   ],
   "source": [
    "from scipy.stats import norm\n",
    "import numpy as np\n",
    "temperatures =[65.98, 68.43, 67.53, 66.27, 67.12, 68.54, 66.20, 66.96, 66.31, 66.09,\n",
    "66.85, 65.70, 65.57, 64.35, 67.35, 64.08, 64.60, 65.25, 65.84, 65.93, 64.18, 62.89, 64.54, 61.77, 63.70, 66.34, 66.45, 66.16, 65.89, 64.09, 63.66, 64.53, 65.35, 67.37, 65.75, 63.41, 63.27, 64.98, 61.92, 64.09, 63.50, 64.42, 66.25, 65.95, 64.96, 62.73,\n",
    "               66.49, 66.38, 65.21, 66.43, 63.30, 67.37, 65.66, 64.96, 68.99, 66.42, 63.46, 64.69, 65.55, 63.30, 64.67, 64.90, 63.70, 62.73, 63.14, 65.59, 64.04, 64.92, 66.24, 66.09, 62.31, 64.40, 64.44, 64.33, 64.58, 65.55, 63.90, 64.06, 64.18, 63.41, 66.45, 64.74, 65.43, 64.18, 65.10, 65.88, 63.50, 63.73, 66.07, 66.54, 64.54, 64.99, 65.26, 64.33, 66.63, 65.70, 66.36, 64.80, 63.84, 67.73, 64.69, 68.13, 64.11, 66.67, 62.74, 65.07, 67.28, 66.54, 65.44, 65.64, 64.58, 63.64, 62.73, 66.09, 65.68, 64.40, 65.59, 64.22, 62.76, 63.25, 65.14, 64.80, 65.46, 66.40, 62.94, 65.57]\n",
    "temperatures = np.array(temperatures)\n",
    "\n",
    "alpha = 0.99\n",
    "\n",
    "A = norm.ppf((1 + alpha)/2)\n",
    "m, se = np.mean(temperatures), np.std(temperatures)\n",
    "h = A*se/np.sqrt(len(temperatures))\n",
    "\n",
    "print (\"Avg temperature in Septepmber (US): {}\".format(m)) \n",
    "print (\"{:.0f}% confidence interval: +- {}\".format(alpha*100, h))"
   ]
  },
  {
   "cell_type": "code",
   "execution_count": 63,
   "metadata": {},
   "outputs": [
    {
     "name": "stdout",
     "output_type": "stream",
     "text": [
      "P(>=1) : 0.8673804441052471\n",
      "P(>=10): 3.441680604299169e-05\n"
     ]
    }
   ],
   "source": [
    "from scipy.stats import binom\n",
    "\n",
    "b = binom(100, 0.02)\n",
    "print(\"P(>=1) : {}\".format(1 - b.cdf(0)))\n",
    "print(\"P(>=10): {}\".format(1 - b.cdf(9)))"
   ]
  },
  {
   "cell_type": "code",
   "execution_count": null,
   "metadata": {},
   "outputs": [],
   "source": []
  }
 ],
 "metadata": {
  "kernelspec": {
   "display_name": "Python 3",
   "language": "python",
   "name": "python3"
  },
  "language_info": {
   "codemirror_mode": {
    "name": "ipython",
    "version": 3
   },
   "file_extension": ".py",
   "mimetype": "text/x-python",
   "name": "python",
   "nbconvert_exporter": "python",
   "pygments_lexer": "ipython3",
   "version": "3.7.4"
  }
 },
 "nbformat": 4,
 "nbformat_minor": 2
}
