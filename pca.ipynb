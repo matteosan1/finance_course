{
 "cells": [
  {
   "cell_type": "markdown",
   "id": "consolidated-interaction",
   "metadata": {},
   "source": [
    "## Principal Components Analysis\n",
    "\n",
    "Dimensions are a crucial topic in data science. The dimensions are all the features of the dataset. For instance, if you are looking at a dataset containing pieces of music, dimensions could be the genre, the length of the piece, the number of instruments, the presence of a singer, etc. You can imagine all these dimensions as different columns. \n",
    "\n",
    "When there are only two dimensions, it is very convenient to plot: you can use the x- and y-axis. Add color and you can represent a third dimension. It is similar if you have tens or hundereds of dimensions, it will just be harder to visualize it.\n",
    "\n",
    "When you have that many dimensions, it happens that some of them are correlated. For instance, we can reasonably think that the genre of a piece of music will correlate with the instruments present in the piece. One way to reduce dimensionality is simply to keep only some of them. The problem is that you loose good information. It would be nice to have a way to reduce these dimensions while keeping important informations present in the dataset.\n",
    "\n",
    "The aim of Principal Components Analysis (PCA) is generaly to reduce the number of dimensions of a dataset. PCA provides us with a new set of dimensions, the Principal Components (PC). They are ordered: the first PC is the dimension associated with the largest variance. In addition, PC’s are orthogonal. This means that each PC is decorelated to the preceding one. You can choose to keep only the first few PC’s, knowing that each PC is a linear combination of the data features. For instance, one PC could be a linear combination of the length of the muscial piece and the number of instruments playing.\n",
    "\n",
    "## Describing the problem\n",
    "The problem can be expressed as finding a function that converts a set of data points from ℝn to ℝl: we want to change the number of dimensions of our dataset from n to l. If l<n, the new dataset will be compressed because its number of features decreased. \n",
    "\n",
    "## Principal components analysis (PCA)\n",
    "Principal components analysis as a change of coordinate system\n",
    "\n",
    "The first step is to understand the shape of the data. $x^{(i)}$ is one data point containing $n$ dimensions. \n",
    "Let’s have $m$ data points organized as column vectors:\n",
    "\n",
    "$$x=\\left[x^{(1)}x^{(2)}\\cdots x^{(m)}\\right]$$\n",
    "\n",
    "If we deploy the $n$ dimensions of our data points we will have:\n",
    "\n",
    "$$\n",
    "x=\\begin{bmatrix}\n",
    "x^{(1)}_1 &x^{(2)}_1&\\cdots &x^{(m)}_1 \\\\\n",
    "x^{(1)}_2 &x^{(2)}_2&\\cdots &x^{(m)}_2 \\\\\n",
    "\\cdots &\\cdots &\\cdots &\\cdots \\\\\n",
    "x^{(1)}_n &x^{(2)}_n&\\cdots &x^{(m)}_n \n",
    "\\end{bmatrix}$$\n",
    "\n",
    "### Adding some constraints: the decoding function\n",
    "The encoding function $f(x)$ transforms $x$ into a smaller dimension $c$ and the decoding function transforms back $c$ into an approximation of $x$. To keep things simple, PCA will respect some constraints:\n",
    "\n",
    "Constraint 1.\n",
    "The decoding function has to be a simple matrix multiplication:\n",
    "\n",
    "$$g(c)=[D]c$$\n",
    "\n",
    "By applying the matrix $[D]$ to the dataset from the new coordinates system we should get back to the initial coordinate system.\n",
    "\n",
    "Constraint 2.\n",
    "The columns of $[D]$ must be orthogonal.\n",
    "\n",
    "Constraint 3.\n",
    "The columns of $[D]$ must have unit norm.\n",
    "\n",
    "### Principal components analysis (PCA) - the decoding function\n",
    "\n",
    "### Eigendecomposition\n",
    "We will see that we can find the maximum of the function by calculating the eigenvectors of XTX.\n",
    "\n",
    "Covariance matrix\n",
    "As we wrote above, the optimization problem of maximizing the variance of the components and minimizing the error between the reconstructed and the actual data are equivalent. Actually, if you look at the formula of d you can see that there is the term XTX in the middle.\n",
    "\n",
    "If we have centered our data around 0 (see bellow for more details about centering), XTX is the covariance matrix (see this Quora question).\n",
    "\n",
    "The covariance matrix is a n by n matrix (n being the number of dimensions). Its diagonal is the variance of the corresponding dimensions and the other cells are the covariance between the two corresponding dimensions (the amount of redundancy).\n",
    "\n",
    "This means that the largest covariance we have between two dimensions the more redundancy exists between these dimensions. This also means that the best-fit line is associated with small errors if the variance is high. To maximize the variance and minimize the covariance (in order to decorrelate the dimensions) means that the ideal covariance matrix is a diagonal matrix (non-zero values in the diagonal only). Therefore the diagonalization of the covariance matrix will give us the optimal solution.\n",
    "\n",
    "Example 2.\n",
    "As an example we will create again a 2D data set (like in 2.9). To see the effect of the PCA we will introduce some correlations between the two dimensions. Let’s create 100 data points with 2 dimensions:"
   ]
  },
  {
   "cell_type": "code",
   "execution_count": 3,
   "id": "straight-muslim",
   "metadata": {},
   "outputs": [
    {
     "data": {
      "image/png": "[encoded data removed]",
      "text/plain": [
       "<Figure size 432x288 with 1 Axes>"
      ]
     },
     "metadata": {
      "needs_background": "light"
     },
     "output_type": "display_data"
    }
   ],
   "source": [
    "import numpy as np\n",
    "from matplotlib import pyplot as plt\n",
    "\n",
    "np.random.seed(123)\n",
    "x = 5*np.random.rand(100)\n",
    "y = 2*x + 1 + np.random.randn(100)\n",
    "\n",
    "x = x.reshape(100, 1)\n",
    "y = y.reshape(100, 1)\n",
    "\n",
    "X = np.hstack([x, y])\n",
    "X.shape\n",
    "\n",
    "plt.plot(X[:,0], X[:,1], '*')\n",
    "plt.show()"
   ]
  },
  {
   "cell_type": "markdown",
   "id": "flying-snapshot",
   "metadata": {},
   "source": [
    "Highly correlated data means that the dimensions are redundant. It is possible to predict one from the other without losing much information.\n",
    "\n",
    "The first processing we will do is to center the data around 0. PCA is a regression model without intercept (see here) and the first component is thus necessarly crossing the origin.\n",
    "\n",
    "Here is a simple function that substract the mean of each column to each data point of this column. It can be used to center the data points around 0."
   ]
  },
  {
   "cell_type": "code",
   "execution_count": 4,
   "id": "entitled-dancing",
   "metadata": {},
   "outputs": [],
   "source": [
    "def centerData(X):\n",
    "    X = X.copy()\n",
    "    X -= np.mean(X, axis = 0)\n",
    "    return X"
   ]
  },
  {
   "cell_type": "code",
   "execution_count": 5,
   "id": "preceding-notice",
   "metadata": {},
   "outputs": [
    {
     "data": {
      "image/png": "[encoded data removed]",
      "text/plain": [
       "<Figure size 432x288 with 1 Axes>"
      ]
     },
     "metadata": {
      "needs_background": "light"
     },
     "output_type": "display_data"
    }
   ],
   "source": [
    "X_centered = centerData(X)\n",
    "plt.plot(X_centered[:,0], X_centered[:,1], '*')\n",
    "plt.show()"
   ]
  },
  {
   "cell_type": "markdown",
   "id": "central-links",
   "metadata": {},
   "source": [
    "We can now look for PCs. We saw that they correspond to values taken by $d$ that maximize the following function:\n",
    "\n",
    "d∗=argmaxdTr(dTXTXd) subject to dTd=1\n",
    "To find $d$ we can calculate the eigenvectors of $[X]^T[X]$ . So let’s do that:"
   ]
  },
  {
   "cell_type": "code",
   "execution_count": 6,
   "id": "confirmed-namibia",
   "metadata": {},
   "outputs": [
    {
     "data": {
      "text/plain": [
       "array([[-0.91116273, -0.41204669],\n",
       "       [ 0.41204669, -0.91116273]])"
      ]
     },
     "execution_count": 6,
     "metadata": {},
     "output_type": "execute_result"
    }
   ],
   "source": [
    "eigVals, eigVecs = np.linalg.eig(X_centered.T.dot(X_centered))\n",
    "eigVecs"
   ]
  },
  {
   "cell_type": "markdown",
   "id": "verified-dealing",
   "metadata": {},
   "source": [
    "These are the vectors maximizing our function. Each column vector is associated with an eigenvalue. The vector associated with the larger eigenvalue tells us the direction associated with the larger variance in our data."
   ]
  },
  {
   "cell_type": "code",
   "execution_count": 7,
   "id": "enhanced-vacation",
   "metadata": {},
   "outputs": [
    {
     "data": {
      "image/png": "[encoded data removed]",
      "text/plain": [
       "<Figure size 432x288 with 1 Axes>"
      ]
     },
     "metadata": {
      "needs_background": "light"
     },
     "output_type": "display_data"
    }
   ],
   "source": [
    "from finmarkets import plotVectors\n",
    "\n",
    "orange = '#FF9A13'\n",
    "blue = '#1190FF'\n",
    "plotVectors(eigVecs.T, [orange, blue])\n",
    "plt.plot(X_centered[:,0], X_centered[:,1], '*')\n",
    "plt.xlim(-3, 3)\n",
    "plt.ylim(-3, 3)\n",
    "plt.show()"
   ]
  },
  {
   "cell_type": "markdown",
   "id": "detailed-diving",
   "metadata": {},
   "source": [
    "We can see that the blue vector direction corresponds to the oblique shape of our data. The idea is that if you project the data points on the line corresponding to the blue vector direction you will end up with the largest variance. This vector has the direction that maximizes variance of projected data. \n",
    "\n",
    "In our figure above, the blue vector is the second eigenvector so let’s check that it is the one associated with the bigger eigenvalue:"
   ]
  },
  {
   "cell_type": "code",
   "execution_count": 8,
   "id": "employed-second",
   "metadata": {},
   "outputs": [
    {
     "data": {
      "text/plain": [
       "array([ 18.04730409, 798.35242844])"
      ]
     },
     "execution_count": 8,
     "metadata": {},
     "output_type": "execute_result"
    }
   ],
   "source": [
    "eigVals"
   ]
  },
  {
   "cell_type": "markdown",
   "id": "hungarian-recording",
   "metadata": {},
   "source": [
    "So yes, the second vector corresponds to the biggest eigenvalue.\n",
    "\n",
    "Now that we have found the matrix $d$ we will use the encoding function to rotate the data. The goal of the rotation is to end up with a new coordinate system where data is uncorrelated and thus where the basis axes gather all the variance. It is then possible to keep only few axes: this is the purpose of dimensionality reduction.\n",
    "\n",
    "$$c=[D]^Tx$$\n",
    "$[D]$ is the matrix containing the eigenvectors that we have calculated before. In addition, this formula corresponds to only one data point where dimensions are the rows of $x$. In our case, we will apply it to all data points and since $X$ has dimensions on the columns we need to transpose it."
   ]
  },
  {
   "cell_type": "code",
   "execution_count": 9,
   "id": "ceramic-seating",
   "metadata": {},
   "outputs": [
    {
     "data": {
      "image/png": "[encoded data removed]",
      "text/plain": [
       "<Figure size 432x288 with 1 Axes>"
      ]
     },
     "metadata": {
      "needs_background": "light"
     },
     "output_type": "display_data"
    }
   ],
   "source": [
    "X_new = eigVecs.T.dot(X_centered.T)\n",
    "\n",
    "plt.plot(eigVecs.T.dot(X_centered.T)[0, :], eigVecs.T.dot(X_centered.T)[1, :], '*')\n",
    "plt.xlim(-5, 5)\n",
    "plt.ylim(-5, 5)\n",
    "plt.show()"
   ]
  },
  {
   "cell_type": "markdown",
   "id": "productive-prime",
   "metadata": {},
   "source": [
    "It worked! The rotation transformed our dataset that have now the more variance on one of the basis axis. You could keep only this dimension and have a fairly good representation of the data."
   ]
  },
  {
   "cell_type": "markdown",
   "id": "center-advocate",
   "metadata": {},
   "source": [
    "References\n",
    "PCA\n",
    "A lot of intuitive explanations on PCA\n",
    "\n",
    "Principal Component Analysis\n",
    "\n",
    "Linear algebra - ncsu\n",
    "\n",
    "A one stop shop for PCA\n",
    "\n",
    "PCA - Ben-Gurion University\n",
    "\n",
    "Semi-orthogonal matrix\n",
    "Wikipedia - Semi orthogonal matrix\n",
    "Intuition about PCA\n",
    "Blog George M Dallas\n",
    "Derivatives\n",
    "SE - Derivative of vector and vector transpose product\n",
    "Link between variance maximized and error minimized:\n",
    "SE - What norm of the reconstruction error is minimized by the low rank approximation\n",
    "\n",
    "SE - PCA objective function\n",
    "\n",
    "SE - Why do the leading eigenvectors of A maximize…\n",
    "\n",
    "Centering data\n",
    "Quora - Why do we need to center the data for PCA\n",
    "\n",
    "SE - How does centering the data get rid of the intercept in regression and PCA\n",
    "\n",
    "Unit norm constraint\n",
    "SE - Why is the eigenvector in PCA taken to be unit norm"
   ]
  }
 ],
 "metadata": {
  "kernelspec": {
   "display_name": "Python 3",
   "language": "python",
   "name": "python3"
  },
  "language_info": {
   "codemirror_mode": {
    "name": "ipython",
    "version": 3
   },
   "file_extension": ".py",
   "mimetype": "text/x-python",
   "name": "python",
   "nbconvert_exporter": "python",
   "pygments_lexer": "ipython3",
   "version": "3.7.4"
  }
 },
 "nbformat": 4,
 "nbformat_minor": 5
}
