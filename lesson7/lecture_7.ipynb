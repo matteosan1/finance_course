{
 "cells": [
  {
   "cell_type": "markdown",
   "metadata": {},
   "source": [
    "# Credit Default Swaps\n",
    "\n",
    "## Credit curves\n",
    "\n",
    "Just like a discount curve is a way of representing the underlying interest rates implicit in the market quotes of a collection of real-world interest rate products, **credit curves** are a way of representing the data implied by credit default swaps.\n",
    "\n",
    "**Credit default swaps** (**CDS**) are instruments whose value depends on the likelihood that a given company (the curve's **issuer**) will suffer a credit event over a given period.\n",
    "\n",
    "A **credit event** can be a default, the failure to make payments, the issuer entering into bankruptcy proceedings, or the occurence of other legal events. The exact definition of what constitutes a credit event depends on a series of factors and is usually defined in some kind of ISDA (International Swaps and Derivatives Association) master agreement.\n",
    "\n",
    "In any case, we will generically call a credit event a *default*, and talk about **non-default probabilities** (**NDP**), i.e. the probability that the issuer will not suffer a credit event before a given date. \n",
    "\n",
    "NDPs are the equivalent for credit curves of discount factors for discount curves. Just like discount curves, credit curves are built by specifying a pricing/observation date, a sequence of pillar dates and a sequence of NDPs. We will then implement a $\\tt{CreditCurve}$ class that provides a method which interpolates between the pillars of the curve to return the NDP at an arbitrary value date between the pricing date and the last pillar date.\n",
    "\n",
    "In addition, we'll also write a method which returns the **hazard rate** at an arbitrary value date. The hazard rate is the credit curve equivalent of the short rate or overnight rate for discount curves. It represents the instantaneous probability of the issuer defaulting conditioned on it not having defaulted until that moment. In practice we will calculate it numerically, and therefore it'll be the (annualized) conditional probability of the issuer defaulting between the value date and the day after.\n",
    "\n",
    "<table>\n",
    "  <tr width=200>\n",
    "    <th>Discount Curve</th>\n",
    "    <th>Credit Curve</th>\n",
    "  </tr>\n",
    "  <tr>\n",
    "    <td>Represents underlying rates implicit in market quotes of IR products</td>\n",
    "    <td>Represents default probability implied by credit default swaps</td>\n",
    "  </tr>\n",
    "  <tr>\n",
    "    <td>discount factors</td>\n",
    "    <td>non-default probabilities</td>\n",
    "  </tr>\n",
    "  <tr>\n",
    "    <td>short rate</td>\n",
    "    <td>hazard rate</td>\n",
    "  </tr>\n",
    "</table>   "
   ]
  },
  {
   "cell_type": "code",
   "execution_count": null,
   "metadata": {},
   "outputs": [],
   "source": []
  },
  {
   "cell_type": "markdown",
   "metadata": {},
   "source": [
    "### Hazard Rate\n",
    "\n",
    "Hazard rate is often called a *conditional failure rate* since it's expression is a direct\n",
    "application of the conditional probability concept.\n",
    "\n",
    "Conditional probability answers to the question \"how should you update probabilities of events when there is additional information available ?\". To derive the general formula let's start with an example.\n",
    "\n",
    "A fair die is rolled. Let $A$ be the event that the outcome is an odd number ($A={1,3,5}$). Also let $B$ be the event that the outcome is less than or equal to $3$ ($B={1,2,3}$). What is the probability of $A$ ($P(A)$) ? What is the probability of $A$ given $B$ ($P(A|B)$) ?\n",
    "\n",
    "Being a simple example we can compute the result by hand:\n",
    "\n",
    "$$P(A) = \\frac{|A|}{|S|} = \\frac{|\\{1,3,5\\}|}{6} = \\frac{1}{2}\\qquad\\textrm{(where S is the entire sample space)}$$\n",
    "\n",
    "Now let's find the conditional probability of $A$ given that $B$ occurred. If we know $B$ has occurred, the outcome must be among $\\{1,2,3\\}$. For $A$ to also happen the outcome must be in $A\\cap B = \\{1,3\\}$. Since all die rolls are equally likely, we argue that $P(A|B)$ must be equal to\n",
    "\n",
    "$$P(A|B) = \\frac{|A\\cap B|}{|B|} = \\frac{2}{3}$$\n",
    "\n",
    "To generalize our example we can rewrite the calculation by dividing the numerator and denominator by the entire space of the events $|S|$ hence:\n",
    "\n",
    "$$P(A|B) = \\cfrac{|A\\cap B|}{|B|} = \\cfrac{\\cfrac{|A\\cap B|}{|S|}}{\\cfrac{|B|}{|S|}} = \\cfrac{P(A\\cap B)}{P(B)}$$\n",
    "\n",
    "<img src=\"conditional_b.png\" width=500>\n",
    "\n",
    "In formula if the non-default probability is indicated by $N$ and the hazard rate by $\\lambda$:\n",
    "\n",
    "$$\\lambda = -\\cfrac{dN}{dt}\\cfrac{1}{N(t_0, t_1)}$$\n",
    "\n",
    "where the minus sign derives from the fact that $N$ is a **non** default probability while the hazard rate is defined in terms of the probability of default.\n",
    "\n",
    "Conversly given the hazard rate the non-default probability can be determined as:\n",
    "\n",
    "$$\\lambda = -\\cfrac{1}{dt}\\cdot\\cfrac{dN}{N} = -\\cfrac{d(\\textrm{log}N)}{dt}$$\n",
    "\n",
    "$$N(t_0, t) = e^{-\\int_{t_0}^{t}\\lambda dt}$$"
   ]
  },
  {
   "cell_type": "code",
   "execution_count": null,
   "metadata": {},
   "outputs": [],
   "source": [
    "import math, numpy\n",
    "from dateutil.relativedelta import relativedelta\n",
    "\n",
    "class CreditCurve(object):\n",
    "    \n",
    "    def __init__(self, pillar_dates, pillar_ndps):\n",
    "        self.pillar_dates = pillar_dates\n",
    "        \n",
    "        self.pillar_days = [\n",
    "            (pd - pillar_dates[0]).days\n",
    "            for pd in pillar_dates\n",
    "        ]\n",
    "        \n",
    "        self.log_ndps = [\n",
    "            math.log(ndp)\n",
    "            for ndp in pillar_ndps\n",
    "        ]\n",
    "        \n",
    "    def ndp(self, value_date):\n",
    "        value_days = (value_date - self.pillar_dates[0]).days\n",
    "        return math.exp(\n",
    "            numpy.interp(value_days,\n",
    "                         self.pillar_days,\n",
    "                         self.log_ndps))\n",
    "    \n",
    "    def hazard(self, value_date):\n",
    "        ndp_1 = self.ndp(value_date)\n",
    "        ndp_2 = self.ndp(value_date + relativedelta(days=1))\n",
    "        delta_t = 1.0 / 365.0\n",
    "        h = -1.0 / ndp_1 * (ndp_2 - ndp_1) / delta_t\n",
    "        return h"
   ]
  },
  {
   "cell_type": "markdown",
   "metadata": {},
   "source": [
    "As usual we test the newly developed class with some dummy data."
   ]
  },
  {
   "cell_type": "code",
   "execution_count": null,
   "metadata": {},
   "outputs": [],
   "source": [
    "from datetime import date\n",
    "\n",
    "pricing_date = date.today()\n",
    "\n",
    "cc = CreditCurve(\n",
    "    [pricing_date, pricing_date + relativedelta(years=2)],\n",
    "    [1.0, 0.8]\n",
    ")"
   ]
  },
  {
   "cell_type": "code",
   "execution_count": null,
   "metadata": {},
   "outputs": [],
   "source": [
    "cc.ndp(pricing_date + relativedelta(years=1))"
   ]
  },
  {
   "cell_type": "code",
   "execution_count": null,
   "metadata": {},
   "outputs": [],
   "source": [
    "cc.hazard(pricing_date + relativedelta(years=1))"
   ]
  },
  {
   "cell_type": "markdown",
   "metadata": {},
   "source": [
    "## Credit Deafult Swaps\n",
    "\n",
    "Once we have implemented a $\\tt{CreditCurve}$ class which allows us to interpolate pillar non-default probabilities (NDPs), and also to calculate the hazard rate at arbitrary dates, we can use it to price **credit default swaps** (CDSs).\n",
    "\n",
    "CDSs are made up of two legs:\n",
    "\n",
    "* the *default* leg: which pays $LGD = 1 - R$, known as the **loss given default**, if and when the credit event occurs. A conventional value for the recovery parameter $R$ is 40%;\n",
    "* the *premium* leg: which pays a *spread* $S$ every m months until the credit event occurs.\n",
    "\n",
    "### Premium leg\n",
    "\n",
    "Let's start with the premium leg, which is easier to calculate. We will use the following notation:\n",
    "\n",
    "* $t$ today's date;\n",
    "* $t_0$ the start date of the CDS (could be different from $t$);\n",
    "* $t_1, ..., t_n$ the payment dates of the premium leg, which occur at a m-month frequency (we assume that $t_n$ is the end date of the CDS);\n",
    "* $D(t')$ the discount factor between $t$ and $t'$;\n",
    "* $N(t')$ the non-default probability between $t$ and $t'$;\n",
    "* $\\tau$ the random variable representing the date of the credit event.\n",
    "\n",
    "At each payment date $t_i$, a flow $S$ is paid if and only if the credit event has not occurred before that date. Therefore the NPV of the each flow is\n",
    "\n",
    "$$\\mathbb{E}\\left[ S \\times D(t_i) \\times \\mathbb{1}(\\tau > t_i) \\right] = S \\cdot D(t_i) \\cdot N(t_i)$$\n",
    "therefore the NPV of the premium leg is simply the sum, over the payment dates, of these terms:\n",
    "\n",
    "$$\\textrm{NPV}_{premium} = \\sum_{i=1}^{n} S \\cdot D(t_i) \\cdot N(t_i)$$\n",
    "\n",
    "## Default leg\n",
    "\n",
    "The LGD $(1-R)$ is paid out on the same date on which the credit event occurs, i.e. it can potentially be paid out on any date between $t_0$ and $t_n$. Mathematically, therefore, the NPV of the premium leg can be expressed as follows:\n",
    "\n",
    "$$ \\mathbb{E} \\left[(1-R) \\times D(\\tau) \\times \\mathbb{1}(\\tau \\leq t_n) \\right] $$\n",
    "\n",
    "Using the law of total probability, we can break this down into the sum of \"daily NPVs\" calculated as a function of the daily \"forward\" default probabilities $\\mathbb{P}$:\n",
    "\n",
    "$$\n",
    "\\begin{align*}\n",
    "\\mathbb{E}\\left[(1-R) \\times D(\\tau) \\times \\mathbb{1}(\\tau \\leq t_n) \\right]\n",
    "&= \\sum_{t'=t_0}^{t_n} \\mathbb{E}[ (1-R) \\times D(\\tau) | \\tau = t'] \\mathbb{P}[ \\tau = t' ] \\\\\n",
    "&= (1-R) \\sum_{t'=t_0}^{t_n} D(t') \\left( \\mathbb{P}[ \\tau \\geq t' ] - \\mathbb{P}[ \\tau \\geq t'+1 ] \\right) \\\\\n",
    "&= (1-R) \\sum_{t'=t_0}^{t_n} D(t') \\left( N(t') - N(t'+1) \\right)\n",
    "\\end{align*}\n",
    "$$\n",
    "\n",
    "where the last step holds since $\\mathbb{P}[\\tau\\geq d^{'}] = 1 - \\mathbb{P}[\\tau < d^{'}] = 1 - (1-N(d^{'})) = N(d^{'})$."
   ]
  },
  {
   "cell_type": "code",
   "execution_count": null,
   "metadata": {},
   "outputs": [],
   "source": [
    "from finmarkets import generate_swap_dates\n",
    "\n",
    "class CreditDefaultSwap:\n",
    "    \n",
    "    def __init__(self, notional, start_date, fixed_spread, \n",
    "                 maturity, tenor=3, recovery=0.4):\n",
    "        self.notional = notional\n",
    "        self.payment_dates = generate_swap_dates(start_date, maturity*12, tenor)\n",
    "        self.fixed_spread = fixed_spread\n",
    "        self.recovery = recovery\n",
    "    \n",
    "    def premium_leg_npv(self, discount_curve, credit_curve):\n",
    "        npv = 0\n",
    "        for i in range(1, len(self.payment_dates)):\n",
    "            npv += (\n",
    "                self.fixed_spread *\n",
    "                discount_curve.df(self.payment_dates[i]) *\n",
    "                credit_curve.ndp(self.payment_dates[i])\n",
    "            )\n",
    "        return npv * self.notional\n",
    "    \n",
    "    def default_leg_npv(self, discount_curve, credit_curve):\n",
    "        npv = 0\n",
    "        d = self.payment_dates[0]\n",
    "        while d <= self.payment_dates[-1]:\n",
    "            npv += discount_curve.df(d) * (\n",
    "                credit_curve.ndp(d) -\n",
    "                credit_curve.ndp(d + relativedelta(days=1))\n",
    "            )\n",
    "            d += relativedelta(days=1)\n",
    "        return npv * self.notional * (1 - self.recovery)\n",
    "    \n",
    "    def npv(self, discount_curve, credit_curve):\n",
    "        return self.default_leg_npv(discount_curve, credit_curve) - \\\n",
    "               self.premium_leg_npv(discount_curve, credit_curve)"
   ]
  },
  {
   "cell_type": "markdown",
   "metadata": {},
   "source": [
    "Below a simple test of the class."
   ]
  },
  {
   "cell_type": "code",
   "execution_count": null,
   "metadata": {},
   "outputs": [],
   "source": [
    "\n",
    "credit_curve = CreditCurve([pricing_date, pricing_date + relativedelta(months=36)], \n",
    "                           [1.0, 0.7])\n",
    "\n",
    "cds = CreditDefaultSwap(1e6, pricing_date, 3, 0.03)\n",
    "cds.premium_leg_npv(discount_curve, credit_curve)"
   ]
  },
  {
   "cell_type": "code",
   "execution_count": null,
   "metadata": {},
   "outputs": [],
   "source": [
    "cds.default_leg_npv(discount_curve, credit_curve)"
   ]
  },
  {
   "cell_type": "code",
   "execution_count": null,
   "metadata": {},
   "outputs": [],
   "source": [
    "cds.npv(discount_curve, credit_curve)"
   ]
  },
  {
   "cell_type": "markdown",
   "metadata": {},
   "source": [
    "## Estimate Default Probabilities from CDS\n",
    "\n",
    "Pretty much like the discount curves could be derived from swap market quotes, we can estimate default probabilities (hence credit curves) from CDS quotes.\n",
    "Following the same steps outlined in Chapter~\\ref{swaps-and-bootstrapping---practical-lesson-5} in fact, through a boostrapping algorithm, we can determine default probabilites at discrete dates to fill our curve.\n",
    "\n",
    "Although the derivation is left as an exercise to the reader here we list the necessary steps:\n",
    "\n",
    "* collect market quotes for a number of CDS with different maturities;\n",
    "* create the corresponding CDS objects;\n",
    "* define a $\\tt{CreditCurve}$ whose pillars are the CDS maturity dates and with a set of unknown default probabilities;\n",
    "* define an objective function to minimize the sum of the squared CDS's NPVs;\n",
    "* set the non-default probabilities to an initial value and define their range of variability between $[0, 1]$ since they are probabilities and fix \"today's\" probability to 1 since there hasn't been any default;\n",
    "* run the minimization.\n"
   ]
  }
 ],
 "metadata": {
  "kernelspec": {
   "display_name": "Python 3",
   "language": "python",
   "name": "python3"
  },
  "language_info": {
   "codemirror_mode": {
    "name": "ipython",
    "version": 3
   },
   "file_extension": ".py",
   "mimetype": "text/x-python",
   "name": "python",
   "nbconvert_exporter": "python",
   "pygments_lexer": "ipython3",
   "version": "3.7.4"
  }
 },
 "nbformat": 4,
 "nbformat_minor": 2
}
