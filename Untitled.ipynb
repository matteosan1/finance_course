{
 "cells": [
  {
   "cell_type": "code",
   "execution_count": 120,
   "metadata": {},
   "outputs": [
    {
     "name": "stdout",
     "output_type": "stream",
     "text": [
      "0.1102447509765625\n"
     ]
    }
   ],
   "source": [
    "import math\n",
    "from datetime import date\n",
    "from finmarkets import generate_swap_dates\n",
    "\n",
    "def bond_price(today, payment_dates, C, N, r):\n",
    "    price = 0\n",
    "    for p in payment_dates:\n",
    "        if p >= today:\n",
    "            dt = (p - today).days/365\n",
    "            price += math.exp(-r*dt)*C\n",
    "        \n",
    "    price += math.exp(-r*dt)*N\n",
    "    return price\n",
    "\n",
    "def yield_to_maturity(today, payment_dates, C, N, P0):\n",
    "    ACCURACY = 1e-5\n",
    "    MAX_ITER = 200\n",
    "    bot=0\n",
    "    top=1\n",
    "    while (bond_price(today, payment_dates, C, N, top) > P0):\n",
    "        top = top*2\n",
    "    r = 0.5 * (top + bot)\n",
    "    for i in range(MAX_ITER):\n",
    "        diff = bond_price(today, payment_dates, C, N, r) - P0\n",
    "        if abs(diff) < ACCURACY:\n",
    "            return r\n",
    "        if diff > 0:\n",
    "            bot = r\n",
    "        else:\n",
    "            top = r\n",
    "        r = 0.5 * (bot + top)\n",
    "        \n",
    "    return r\n",
    "\n",
    "today = date.today()\n",
    "payment_dates = generate_swap_dates(today, 12*5, 6)\n",
    "print (yield_to_maturity(today, payment_dates, 5, 100, 100))"
   ]
  },
  {
   "cell_type": "code",
   "execution_count": 121,
   "metadata": {},
   "outputs": [],
   "source": [
    "import numpy as np\n",
    "\n",
    "class FiniteDifferences:\n",
    "    def __init__(self, S0, K, r, T, sigma, Smax, M, N, is_call = True):\n",
    "        self.S0 = S0\n",
    "        self.K = K\n",
    "        self.r = r\n",
    "        self.T = T\n",
    "        self.sigma = sigma\n",
    "        self.Smax = Smax\n",
    "        self.M, self.N = int(M), int(N)\n",
    "        self.is_call = is_call\n",
    "        self.dS = Smax / float(self.M)\n",
    "        self.dt = T / float(self.N)\n",
    "        self.i_values = np.arange(self.M)\n",
    "        self.j_values = np.arange(self.N)\n",
    "        self.grid = np.zeros(shape=(self.M+1, self.N+1)) \n",
    "        self.boundary_conds = np.linspace(0, Smax, self.M+1)\n",
    "\n",
    "    def _setup_boundary_conditions_(self):\n",
    "        pass\n",
    "       \n",
    "    def _setup_coefficients_(self):\n",
    "        pass\n",
    "   \n",
    "    def _traverse_grid_(self):\n",
    "        pass\n",
    "   \n",
    "    def _interpolate_(self):\n",
    "        return np.interp(self.S0, self.boundary_conds, self.grid[:, 0])\n",
    "    \n",
    "    def price(self): \n",
    "        self._setup_boundary_conditions_() \n",
    "        self._setup_coefficients_() \n",
    "        self._traverse_grid_()\n",
    "        return self._interpolate_()"
   ]
  },
  {
   "cell_type": "code",
   "execution_count": 127,
   "metadata": {},
   "outputs": [],
   "source": [
    "import numpy as np\n",
    "\n",
    "class FDExplicitEu(FiniteDifferences):\n",
    "    def _setup_boundary_conditions_(self): \n",
    "        if self.is_call:\n",
    "            self.grid[:, -1] = np.maximum(self.boundary_conds - self.K, 0)\n",
    "            self.grid[-1, :-1] = (self.Smax - self.K) * np.exp(-self.r * self.dt * (self.N-self.j_values))\n",
    "        else:\n",
    "            self.grid[:, -1] = np.maximum(self.K-self.boundary_conds, 0) \n",
    "            self.grid[0, :-1] = (self.K - self.Smax) * np.exp(-self.r * self.dt * (self.N-self.j_values))\n",
    "\n",
    "    def _setup_coefficients_(self):\n",
    "        self.a = 0.5*self.dt*((self.sigma**2) * (self.i_values**2) - self.r*self.i_values) \n",
    "        self.b = 1 - self.dt*((self.sigma**2) * (self.i_values**2) + self.r)\n",
    "        self.c = 0.5*self.dt*((self.sigma**2) * (self.i_values**2) + self.r*self.i_values)\n",
    "\n",
    "    def _traverse_grid_(self):\n",
    "        for j in reversed(self.j_values):\n",
    "            for i in range(self.M)[2:]:\n",
    "                self.grid[i,j] = self.a[i]*self.grid[i-1,j+1] + self.b[i]*self.grid[i,j+1] + self.c[i]*self.grid[i+1,j+1]"
   ]
  },
  {
   "cell_type": "code",
   "execution_count": 129,
   "metadata": {},
   "outputs": [
    {
     "name": "stdout",
     "output_type": "stream",
     "text": [
      "4.072882278148043\n"
     ]
    }
   ],
   "source": [
    "option = FDExplicitEu(50, 50, 0.1, 5./12., 0.4, 100, 100, 1000, False)\n",
    "print (option.price())"
   ]
  },
  {
   "cell_type": "code",
   "execution_count": 130,
   "metadata": {},
   "outputs": [
    {
     "name": "stdout",
     "output_type": "stream",
     "text": [
      "-1.6291077072251005e+53\n"
     ]
    }
   ],
   "source": [
    "option = FDExplicitEu(50, 50, 0.1, 5./12., 0.4, 100, 100, 100, False)\n",
    "print (option.price())"
   ]
  },
  {
   "cell_type": "code",
   "execution_count": 134,
   "metadata": {},
   "outputs": [],
   "source": [
    "import scipy.linalg as linalg\n",
    "\n",
    "class FDImplicitEu(FDExplicitEu):\n",
    "    def _setup_coefficients_(self):\n",
    "        self.a = 0.5*(self.r*self.dt*self.i_values - (self.sigma**2)*self.dt*(self.i_values**2)) \n",
    "        self.b = 1 + (self.sigma**2)*self.dt*(self.i_values**2) + self.r*self.dt \n",
    "        self.c = -0.5*(self.r * self.dt*self.i_values + (self.sigma**2)*self.dt*(self.i_values**2)) \n",
    "        self.coeffs = np.diag(self.a[2:self.M], -1) + np.diag(self.b[1:self.M]) + np.diag(self.c[1:self.M-1], 1)\n",
    "        \n",
    "    def _traverse_grid_(self):\n",
    "        P, L, U = linalg.lu(self.coeffs)\n",
    "        aux = np.zeros(self.M-1)\n",
    "        for j in reversed(range(self.N)):\n",
    "            aux[0] = np.dot(-self.a[1], self.grid[0, j])\n",
    "            x1 = linalg.solve(L, self.grid[1:self.M, j+1]+aux) \n",
    "            x2 = linalg.solve(U, x1)\n",
    "            self.grid[1:self.M, j] = x2"
   ]
  },
  {
   "cell_type": "code",
   "execution_count": 135,
   "metadata": {},
   "outputs": [
    {
     "name": "stdout",
     "output_type": "stream",
     "text": [
      "4.065801939431454\n"
     ]
    }
   ],
   "source": [
    "option = FDImplicitEu(50, 50, 0.1, 5./12., 0.4, 100, 100, 100, False)\n",
    "print (option.price())"
   ]
  },
  {
   "cell_type": "code",
   "execution_count": 136,
   "metadata": {},
   "outputs": [
    {
     "name": "stdout",
     "output_type": "stream",
     "text": [
      "4.071594188049893\n"
     ]
    }
   ],
   "source": [
    "option = FDImplicitEu(50, 50, 0.1, 5./12., 0.4, 100, 100, 1000, False)\n",
    "print (option.price())"
   ]
  },
  {
   "cell_type": "code",
   "execution_count": 138,
   "metadata": {},
   "outputs": [],
   "source": [
    "class FDCnEu(FDExplicitEu):\n",
    "    def _setup_coefficients_(self): \n",
    "        self.alpha = 0.25*self.dt*((self.sigma**2)*(self.i_values**2) - self.r*self.i_values) \n",
    "        self.beta = -self.dt*0.5*((self.sigma**2)*(self.i_values**2) + self.r)\n",
    "        self.gamma = 0.25*self.dt*((self.sigma**2)*(self.i_values**2) + self.r*self.i_values)\n",
    "        self.M1 = -np.diag(self.alpha[2:self.M], -1) + np.diag(1-self.beta[1:self.M]) + np.diag(self.gamma[1:self.M-1], 1)\n",
    "        self.M2 = np.diag(self.alpha[2:self.M], -1) + np.diag(1+self.beta[1:self.M]) + np.diag(self.gamma[1:self.M-1], 1)\n",
    "\n",
    "    def _traverse_grid_(self):\n",
    "        P, L, U = linalg.lu(self.M1)\n",
    "        for j in reversed(range(self.N)): \n",
    "            x1 = linalg.solve(L, np.dot(self.M2, self.grid[1:self.M, j+1]))\n",
    "            x2 = linalg.solve(U, x1) \n",
    "            self.grid[1:self.M, j] = x2"
   ]
  },
  {
   "cell_type": "code",
   "execution_count": 140,
   "metadata": {},
   "outputs": [
    {
     "name": "stdout",
     "output_type": "stream",
     "text": [
      "1.6382715987620217e-10\n"
     ]
    }
   ],
   "source": [
    "option = FDCnEu(50, 50, 0.1, 5./12., 0.4, 100, 100, 100, False)\n",
    "print (option.price())"
   ]
  },
  {
   "cell_type": "code",
   "execution_count": 141,
   "metadata": {},
   "outputs": [
    {
     "name": "stdout",
     "output_type": "stream",
     "text": [
      "1.0220621095408119e-10\n"
     ]
    }
   ],
   "source": [
    "option = FDCnEu(50, 50, 0.1, 5./12., 0.4, 100, 100, 1000, False)\n",
    "print (option.price())"
   ]
  },
  {
   "cell_type": "markdown",
   "metadata": {},
   "source": [
    "Assume that company A has agreed to pay a 6-month Libor and receive a fixed interest rate of 8\\% per year (with interest payable every six months) from the face value of \\$100 million. Swap is 1.25 years to expire. The interest rates for 3, 9 and 15 months are: 10\\%, 10.5\\% and 11\\% respectively. Assume that interest rates are continously compounded. The 6-month Libor is currently 10.2\\%. "
   ]
  },
  {
   "cell_type": "code",
   "execution_count": 22,
   "metadata": {},
   "outputs": [
    {
     "data": {
      "text/plain": [
       "-2329308.9765570816"
      ]
     },
     "execution_count": 22,
     "metadata": {},
     "output_type": "execute_result"
    }
   ],
   "source": [
    "from finmarkets import InterestRateSwap, generate_swap_dates\n",
    "from finmarkets import DiscountCurve, ForwardRateCurve\n",
    "from datetime import date\n",
    "from dateutil.relativedelta import relativedelta\n",
    "from math import exp\n",
    "\n",
    "start_date = date.today()\n",
    "maturity = 1.25\n",
    "notional = 100e6\n",
    "fixed_rate = 0.08\n",
    "tenor_months = 6\n",
    "\n",
    "r_dates = [0, 0.25, 0.75, 1.25]\n",
    "r = [0.1, 0.10, 0.105, 0.11]\n",
    "libors = [0.102, 0.102, 0.102, 0.102]\n",
    "pillars = [start_date + relativedelta(months=r_dates[i]*12) \n",
    "                          for i in range(len(r))] \n",
    "dfs = [exp(-r[i]*r_dates[i]) for i in range(len(r))]\n",
    "dcurve = DiscountCurve(start_date+relativedelta(days=1), pillars, dfs)\n",
    "fcurve  = ForwardRateCurve(pillars, libors)\n",
    "\n",
    "irs = InterestRateSwap(start_date, notional, fixed_rate, \n",
    "                       tenor_months, maturity)\n",
    "irs.npv(dcurve, fcurve)"
   ]
  },
  {
   "cell_type": "code",
   "execution_count": 30,
   "metadata": {},
   "outputs": [
    {
     "data": {
      "text/plain": [
       "11.084460901321371"
      ]
     },
     "execution_count": 30,
     "metadata": {},
     "output_type": "execute_result"
    }
   ],
   "source": [
    "(4*exp(-r[1]*r_dates[1])+4*exp(-r[2]*r_dates[2])+4*exp(-r[3]*r_dates[3]))"
   ]
  },
  {
   "cell_type": "code",
   "execution_count": 31,
   "metadata": {},
   "outputs": [
    {
     "data": {
      "text/plain": [
       "4.974080551344496"
      ]
     },
     "execution_count": 31,
     "metadata": {},
     "output_type": "execute_result"
    }
   ],
   "source": [
    "5.1*exp(-r[1]*r_dates[1])"
   ]
  },
  {
   "cell_type": "markdown",
   "metadata": {},
   "source": [
    "A $100 million interest rate swap has a remaining life of 10 months. Under the terms\n",
    "of the swap ; 6-month LIBOR is exchanged for 7\\% per annum (compounded semiannually). The average of the bid-offer rate being exchanged for 6-month LIBOR in\n",
    "swaps of all maturities is currently 5\\% per annum with continuous compounding. The\n",
    "6-month LIBOR rate was 4.6\\% per annum 2 months ago. What is the current value of\n",
    "the swap to the party paying floating ? What is its value to the party paying fixed ?"
   ]
  },
  {
   "cell_type": "code",
   "execution_count": null,
   "metadata": {},
   "outputs": [],
   "source": [
    "start_date = date.today()\n",
    "maturity = 10/12\n",
    "notional = 100e6\n",
    "fixed_rate = 0.07\n",
    "tenor_months = 6\n",
    "\n",
    "r_dates = [0, 0.25, 0.75, 1.25]\n",
    "r = [0.1, 0.10, 0.105, 0.11]\n",
    "libors = [0.05, 0.05, 0.05, 0.05]\n",
    "pillars = [start_date + relativedelta(months=r_dates[i]*12) \n",
    "                          for i in range(len(r))] \n",
    "dfs = [exp(-r[i]*r_dates[i]) for i in range(len(r))]\n",
    "dcurve = DiscountCurve(start_date, pillars, dfs)\n",
    "fcurve  = ForwardRateCurve(pillars, libors)\n",
    "\n",
    "irs = InterestRateSwap(start_date, notional, fixed_rate, \n",
    "                       tenor_months, maturity)\n",
    "irs.npv(dcurve, fcurve)"
   ]
  }
 ],
 "metadata": {
  "kernelspec": {
   "display_name": "Python 3",
   "language": "python",
   "name": "python3"
  },
  "language_info": {
   "codemirror_mode": {
    "name": "ipython",
    "version": 3
   },
   "file_extension": ".py",
   "mimetype": "text/x-python",
   "name": "python",
   "nbconvert_exporter": "python",
   "pygments_lexer": "ipython3",
   "version": "3.6.3"
  }
 },
 "nbformat": 4,
 "nbformat_minor": 5
}
