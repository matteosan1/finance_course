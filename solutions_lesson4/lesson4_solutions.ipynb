{
 "cells": [
  {
   "cell_type": "markdown",
   "metadata": {},
   "source": [
    "# Solutions - Practical Lesson 4\n",
    "\n",
    "## Exercises\n",
    "\n",
    "### Exercise 4.1\n",
    "\n",
    "Write two classes, `Circle` and `Rectangle` that given the radius and height, width respectively allow to compute area and perimeter of the two shapes. Test them with the following:\n",
    "```python\n",
    "a_circle = Circle(5)\n",
    "print (\"My circle has an area of {} m**2\".format(a_circle.area()))\n",
    "\n",
    "a_rectangle = Rectangle(3, 6)\n",
    "print (\"My rectangle has a perimeter of {} m and an area of {} m**2\" \\\n",
    "    .format(a_rectangle.perimeter(), a_rectangle.area()))\n",
    "```"
   ]
  },
  {
   "cell_type": "code",
   "execution_count": 1,
   "metadata": {},
   "outputs": [
    {
     "name": "stdout",
     "output_type": "stream",
     "text": [
      "My circle area is 78.5 m**2\n",
      "My rect area is 18.0 m**2 and the perimeter is 18 m\n"
     ]
    }
   ],
   "source": [
    "from math import pi\n",
    "\n",
    "class Circle:\n",
    "    def __init__(self, radius):\n",
    "        self.radius = radius\n",
    "\n",
    "    def area(self):\n",
    "        return pi*self.radius**2\n",
    "\n",
    "class Rectangle:\n",
    "    def __init__(self, width, height):\n",
    "        self.height = height\n",
    "        self.width = width\n",
    "\n",
    "    def area(self):\n",
    "        return self.width*self.height\n",
    "\n",
    "    def perimeter(self):\n",
    "        return self.width*2 + self.height*2\n",
    "\n",
    "circle = Circle(5)\n",
    "print (\"My circle area is {:.1f} m**2\".format(circle.area()))\n",
    "\n",
    "rect = Rectangle(3, 6)\n",
    "print (\"My rect area is {:.1f} m**2 and the \"\\\n",
    "       \"perimeter is {} m\".format(rect.area(), rect.perimeter()))"
   ]
  },
  {
   "cell_type": "markdown",
   "metadata": {},
   "source": [
    "### Exercise 4.2\n",
    "\n",
    "Define a class `Songs`, its `__init__` should take as input a dictionary (`lyrics` that contains lyrics line by line). Define a method, `sing_me_a_song` that prints each element of the lyrics in his own line. Also test it with the follwing input.\n",
    "```python\n",
    "lyrics = {\"Wonderwall\":[\"Today is gonna be the day\",\n",
    "                        \"That they're gonna throw it back to you\",\n",
    "                        \"By now you should've somehow\", \"...\"], \n",
    "          \"Vado al massimo\":  [\"Voglio veder come va a finire\",\n",
    "                        \"Andando al massimo senza frenare\"\n",
    "                        \"Voglio vedere se davvero poi\",\n",
    "                        \"Si va a finir male\", \"...\"]}\n",
    "```"
   ]
  },
  {
   "cell_type": "code",
   "execution_count": 2,
   "metadata": {},
   "outputs": [
    {
     "name": "stdout",
     "output_type": "stream",
     "text": [
      "Title: Wonderwall\n",
      "********************\n",
      "Today is gonna be the day\n",
      "That they're gonna throw it back to you\n",
      "By now you should've somehow\n",
      "...\n"
     ]
    }
   ],
   "source": [
    "class Songs:\n",
    "    def __init__(self, lyrics):\n",
    "        self.lyrics = lyrics\n",
    "\n",
    "    def sing_me_a_song(self, title):\n",
    "        song = self.lyrics[title]\n",
    "        print (\"Title: {}\".format(title))\n",
    "        print (\"********************\")\n",
    "        for line in song:\n",
    "            print (line)\n",
    "\n",
    "lyrics = {\"Wonderwall\":[\"Today is gonna be the day\",\n",
    "                        \"That they're gonna throw it back to you\",\n",
    "                        \"By now you should've somehow\", \"...\"], \n",
    "          \"Vado al massimo\":  [\"Voglio veder come va a finire\",\n",
    "                        \"Andando al massimo senza frenare\"\n",
    "                        \"Voglio vedere se davvero poi\",\n",
    "                        \"Si va a finir male\", \"...\"]}\n",
    "\n",
    "songs = Songs(lyrics)\n",
    "songs.sing_me_a_song(\"Wonderwall\")"
   ]
  },
  {
   "cell_type": "markdown",
   "metadata": {},
   "source": [
    "### Exercise 4.3\n",
    "\n",
    "Define a Point2D class that represent a point in a plane. Its `__init__` method should accept the point coordinates `x` and `y`. Write a method `distanceTo` that compute the distance of the point to another passed as input. Test the class by printing the distance of the point $P=(4, 5)$ to the origin $P=(0,0)$ and to $P=(3,4)$."
   ]
  },
  {
   "cell_type": "code",
   "execution_count": 3,
   "metadata": {},
   "outputs": [
    {
     "name": "stdout",
     "output_type": "stream",
     "text": [
      "distance to p0: 6.40\n",
      "distance_v2 to p0: 6.40\n",
      "distance_v3 to p0: 6.40\n",
      "distance to p1: 1.41\n",
      "distance_v2 to p1: 1.41\n",
      "distance_v3 to p1: 1.41\n"
     ]
    }
   ],
   "source": [
    "from math import sqrt\n",
    "\n",
    "class Point2D:\n",
    "    def __init__(self, x, y):\n",
    "        self.x = x\n",
    "        self.y = y\n",
    "\n",
    "    def distanceTo(self, x, y):\n",
    "        dist = sqrt((self.x-x)**2 + (self.y - y)**2)\n",
    "        return dist\n",
    "\n",
    "    def distanceTo_v2(self, p):\n",
    "        dist = sqrt((self.x-p[0])**2 + (self.y - p[1])**2)\n",
    "        return dist\n",
    "\n",
    "    def distanceTo_v3(self, p):\n",
    "        dist = sqrt((self.x-p.x)**2 + (self.y - p.y)**2)\n",
    "        return dist\n",
    "\n",
    "\n",
    "point = Point2D(4, 5)\n",
    "p0 = (0, 0)\n",
    "point0 = Point2D(0, 0)\n",
    "print (\"distance to p0: {:.2f}\".format(point.distanceTo(p0[0], p0[1])))\n",
    "print (\"distance_v2 to p0: {:.2f}\".format(point.distanceTo_v2(p0)))\n",
    "print (\"distance_v3 to p0: {:.2f}\".format(point.distanceTo_v3(point0)))\n",
    "\n",
    "p1 = (3, 4)\n",
    "point1 = Point2D(3, 4)\n",
    "print (\"distance to p1: {:.2f}\".format(point.distanceTo(p1[0], p1[1])))\n",
    "print (\"distance_v2 to p1: {:.2f}\".format(point.distanceTo_v2(p1)))\n",
    "print (\"distance_v3 to p1: {:.2f}\".format(point.distanceTo_v3(point1)))\n"
   ]
  },
  {
   "cell_type": "markdown",
   "metadata": {},
   "source": [
    "### Exercise 4.4\n",
    "\n",
    "So now that we have an idea of what a class is, try to write a ```DiscountCurve``` class which contains the pillar dates and pillar discount factors as attributes and which has methods for calculating the discount factor and forward rate at arbitrary dates.\n",
    "\n",
    "#### Solution:"
   ]
  },
  {
   "cell_type": "code",
   "execution_count": 4,
   "metadata": {},
   "outputs": [],
   "source": [
    "import math\n",
    "import numpy\n",
    "from datetime import date\n",
    "\n",
    "class DiscountCurve:\n",
    "\n",
    "    # the special __init__ method defines \n",
    "    # how to construct instances of the class\n",
    "    def __init__(self, today, pillar_dates, discount_factors):\n",
    "        # we just store the arguments as attributes of the instance\n",
    "        self.today = today\n",
    "        self.pillar_dates = pillar_dates\n",
    "        self.discount_factors = discount_factors\n",
    "\n",
    "    # calculates a discount factor at an arbitrary \n",
    "    #value date using the data stored in the instance\n",
    "    def df(self, d):\n",
    "        # these remain local variables, \n",
    "        # i.e. they are only available within the function.\n",
    "        # to read (or write) instance attributes, \n",
    "        # you always need to use the self. syntax\n",
    "        log_discount_factors = \\\n",
    "          [math.log(discount_factor) \n",
    "           for discount_factor in self.discount_factors]\n",
    "        pillar_days = [(pillar_date - self.today).days \n",
    "                       for pillar_date in self.pillar_dates]\n",
    "        d_days = (d - self.today).days\n",
    "        interpolated_log_discount_factor = \\\n",
    "            numpy.interp(d_days, pillar_days, log_discount_factors)\n",
    "        return math.exp(interpolated_log_discount_factor)\n",
    "\n",
    "    # calculates a forward libor rate based on the discount \n",
    "    # curve data stored in the instance\n",
    "    def forward_rate(self, d1, d2):\n",
    "        # we use the df method of the current instance to calculate\n",
    "        # the forward rate\n",
    "        return (self.df(d1) / self.df(d2) - 1.0) * \\\n",
    "                (365.0 / ((d2 - d1).days))"
   ]
  },
  {
   "cell_type": "code",
   "execution_count": 5,
   "metadata": {},
   "outputs": [
    {
     "name": "stdout",
     "output_type": "stream",
     "text": [
      "0.9705901255781632\n",
      "0.9517777485424973\n"
     ]
    }
   ],
   "source": [
    "# build the EONIA curve object\n",
    "# n.b. here we use the 'parameter=argument' syntax \n",
    "# (today=..., pillar_dates=...)\n",
    "# just so it's really clear what we're doing ‐ it's not necessary, \n",
    "# it's only for clarity\n",
    "eonia_curve = DiscountCurve(today=date(2019, 10, 1),\n",
    "                            pillar_dates=[date(2019, 10, 1), \n",
    "                                          date(2020, 10, 1), \n",
    "                                          date(2021, 10, 1)],\n",
    "                            discount_factors=[1.0, 0.95, 0.8])\n",
    "\n",
    "# build the Libor curve object\n",
    "libor_curve = DiscountCurve(today=date(2019, 10, 1),\n",
    "                            pillar_dates=[date(2019, 10, 1), \n",
    "                                          date(2020, 4, 1), \n",
    "                                          date(2020, 10, 1)],\n",
    "                            discount_factors=[1.0, 0.98, 0.82])\n",
    "\n",
    "# Let's compute the discount factor of the two curves\n",
    "# on the 2020-5-1\n",
    "print (eonia_curve.df(date(2020, 5, 1)))\n",
    "print (libor_curve.df(date(2020, 5, 1)))"
   ]
  },
  {
   "cell_type": "code",
   "execution_count": 6,
   "metadata": {},
   "outputs": [
    {
     "name": "stdout",
     "output_type": "stream",
     "text": [
      "0.05248777681909687\n",
      "0.3891776622684259\n"
     ]
    }
   ],
   "source": [
    "# Let's compute now the 6m forward rate at 1-4-2020\n",
    "print (eonia_curve.forward_rate(date(2019, 10, 1), \n",
    "                                 date(2020, 10, 1)))\n",
    "\n",
    "print (libor_curve.forward_rate(date(2020, 4, 1), \n",
    "                                 date(2020, 10, 1)))"
   ]
  },
  {
   "cell_type": "code",
   "execution_count": 7,
   "metadata": {},
   "outputs": [
    {
     "name": "stdout",
     "output_type": "stream",
     "text": [
      "0.37932346377238657\n",
      "0.38139410902305737\n"
     ]
    }
   ],
   "source": [
    "# Compute the NPV of the 6m forward libor coupon\n",
    "npv = eonia_curve.df(date(2020, 4, 1)) * \\\n",
    "      libor_curve.forward_rate(date(2020,4, 1), \n",
    "                                date(2020, 10, 1))\n",
    "\n",
    "# Compute it in the pre-2008 way\n",
    "npv_pre_2008 = libor_curve.df(date(2020, 4, 1)) * \\\n",
    "               libor_curve.forward_rate(date(2020, 4, 1), \n",
    "                                         date(2020, 10, 1))\n",
    "print (npv)\n",
    "print (npv_pre_2008)"
   ]
  }
 ],
 "metadata": {
  "kernelspec": {
   "display_name": "Python 3",
   "language": "python",
   "name": "python3"
  },
  "language_info": {
   "codemirror_mode": {
    "name": "ipython",
    "version": 3
   },
   "file_extension": ".py",
   "mimetype": "text/x-python",
   "name": "python",
   "nbconvert_exporter": "python",
   "pygments_lexer": "ipython3",
   "version": "3.7.5rc1"
  }
 },
 "nbformat": 4,
 "nbformat_minor": 2
}
