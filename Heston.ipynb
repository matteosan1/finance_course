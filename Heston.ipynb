{
 "cells": [
  {
   "cell_type": "code",
   "execution_count": 10,
   "metadata": {},
   "outputs": [],
   "source": [
    "from scipy.integrate import quad\n",
    "from numpy import exp, sqrt, log\n",
    "from math import pi\n",
    "import cmath\n",
    "\n",
    "def heston_call_price(kappa, theta, sigma, rho, v0 ,r ,T ,s0 ,K): \n",
    "    p1 = p(kappa, theta, sigma, rho, v0 ,r ,T ,s0 ,K, 1) \n",
    "    p2 = p(kappa, theta, sigma, rho, v0 ,r ,T ,s0 ,K, 2) \n",
    "    return (s0*p1-K*exp(-r*T)*p2) \n",
    "\n",
    "def p(kappa, theta, sigma, rho, v0 ,r ,T ,s0 , K, status): \n",
    "    integrand = lambda phi: (exp(-1j*phi*log(K))*f(phi, kappa, theta, sigma, rho, v0 , r, T, s0, status)/(1j*phi)).real \n",
    "    return (0.5+(1/pi)*quad(integrand,0,100)[0]) \n",
    "\n",
    "def f(phi, kappa, theta, sigma, rho, v0, r, T, s0, status): \n",
    "    if status==1: \n",
    "        u = 0.5 \n",
    "        b = kappa-rho*sigma \n",
    "    else: \n",
    "        u = -0.5 \n",
    "        b = kappa \n",
    "    a = kappa*theta \n",
    "    x = log(s0) \n",
    "    d = sqrt((rho*sigma*phi*1j-b)**2-sigma**2*(2*u*phi*1j-phi**2))  \n",
    "    g = (b-rho*sigma*phi*1j+d)/(b-rho*sigma*phi*1j-d) \n",
    "    C = r*phi*1j*T+(a/sigma**2)*((b-rho*sigma*phi*1j+d)*T-2*log((1-g*exp(d*T))/( 1-g))) \n",
    "    D = (b-rho*sigma*phi*1j+d)/sigma**2*((1-exp(d*T))/(1-g*exp(d*T)))  \n",
    "    return exp(C+D*v0+1j*phi*x)"
   ]
  },
  {
   "cell_type": "code",
   "execution_count": 19,
   "metadata": {},
   "outputs": [
    {
     "name": "stdout",
     "output_type": "stream",
     "text": [
      "20.596981633580796\n",
      "20.596981633580796\n",
      "20.596981633580796\n",
      "20.596981633580796\n",
      "20.596981633580796\n",
      "20.596981633580796\n",
      "20.596981633580796\n",
      "20.596981633580796\n",
      "20.596981633580796\n",
      "20.596981633580796\n",
      "0.08334708213806152\n"
     ]
    }
   ],
   "source": [
    "T = 1\n",
    "rho = -0.4\n",
    "theta = 0.06\n",
    "sigma = 0.1\n",
    "kappa=3\n",
    "v0 = 0.07\n",
    "s0=115 \n",
    "K=100\n",
    "r = 0.01\n",
    "\n",
    "t1 = time.time()\n",
    "for i in range(10):\n",
    "    print (heston_call_price(kappa, theta, sigma, rho, v0, r, T, s0, K))\n",
    "print (time.time()-t1)\n"
   ]
  },
  {
   "cell_type": "code",
   "execution_count": 17,
   "metadata": {},
   "outputs": [
    {
     "name": "stdout",
     "output_type": "stream",
     "text": [
      "19.083364725112915\n",
      "Heston Fourier inversion call price:  20.596981633580626\n",
      "-----------------------------------\n",
      "Heston Fourier inversion put price:  -57.39053690630631\n",
      "-----------------------------------\n"
     ]
    }
   ],
   "source": [
    "import numpy as np\n",
    "from functools import partial\n",
    "\n",
    "r = 0.01 # drift\n",
    "rho = -0.4 # correlation coefficient\n",
    "kappa = 3 # mean reversion coefficient\n",
    "theta = 0.06 # long-term mean of the variance\n",
    "sigma = 0.1 # (Vol of Vol) - Volatility of instantaneous variance\n",
    "T = 1 # Terminal time\n",
    "K = 100 # Stike\n",
    "v0 = 0.07 # spot variance (initial variance)\n",
    "S0 = 115 # spot stock price\n",
    "k = np.log(K/S0)\n",
    "\n",
    "def cf_Heston(u, t, v0, mu, kappa, theta, sigma, rho):\n",
    "    \"\"\"\n",
    "    Heston characteristic function as proposed in the original paper of Heston (1993)\n",
    "    \"\"\"\n",
    "    xi = kappa - sigma*rho*u*1j\n",
    "    d = np.sqrt( xi**2 + sigma**2 * (u**2 + 1j*u) )\n",
    "    g1 = (xi+d)/(xi-d)\n",
    "    cf = np.exp( 1j*u*mu*t + (kappa*theta)/(sigma**2) * ( (xi+d)*t - 2*np.log( (1-g1 *np.exp(d*t))/(1-g1) ))\\\n",
    "                + (v0/sigma**2)*(xi+d) * (1-np.exp(d*t))/(1-g1*np.exp(d*t)) )\n",
    "    return cf\n",
    "\n",
    "def cf_Heston_good(u, t, v0, mu, kappa, theta, sigma, rho):\n",
    "    \"\"\"\n",
    "    Heston characteristic function as proposed by Schoutens (2004)\n",
    "    \"\"\"\n",
    "    xi = kappa - sigma*rho*u*1j\n",
    "    d = np.sqrt( xi**2 + sigma**2 * (u**2 + 1j*u) )\n",
    "    g1 = (xi+d)/(xi-d)\n",
    "    g2 = 1/g1\n",
    "    cf = np.exp( 1j*u*mu*t + (kappa*theta)/(sigma**2) * ( (xi-d)*t - 2*np.log( (1-g2*np.exp(-d*t))/(1-g2) ))\\\n",
    "                + (v0/sigma**2)*(xi-d) * (1-np.exp(-d*t))/(1-g2*np.exp(-d*t)) )\n",
    "    return cf\n",
    "\n",
    "cf_H_b = partial(cf_Heston, t=T, v0=v0, mu=r, theta=theta, sigma=sigma, kappa=kappa,rho= rho )\n",
    "cf_H_b_good = partial(cf_Heston_good, t=T, v0=v0, mu=r, theta=theta, sigma=sigma, kappa=kappa, rho=rho )\n",
    "\n",
    "def Q1(k, cf, right_lim):\n",
    "    \"\"\"\n",
    "    P(X<k) - Probability to be in the money under the stock numeraire.\n",
    "    cf: characteristic function\n",
    "    right_lim: right limit of integration\n",
    "    \"\"\"\n",
    "    integrand = lambda u: np.real( (np.exp(-u*k*1j) / (u*1j)) * cf(u-1j) / cf(-1.0000000000001j) )\n",
    "    return 1/2 + 1/np.pi * quad(integrand, 1e-15, right_lim, limit=2000 )[0]\n",
    "\n",
    "def Q2(k, cf, right_lim):\n",
    "    \"\"\"\n",
    "    P(X<k) - Probability to be in the money under the money market numeraire\n",
    "    cf: characteristic function\n",
    "    right_lim: right limit of integration\n",
    "    \"\"\"\n",
    "    integrand = lambda u: np.real( np.exp(-u*k*1j) /(u*1j) * cf(u) )\n",
    "    return 1/2 + 1/np.pi * quad(integrand, 1e-15, right_lim, limit=2000 )[0]\n",
    "\n",
    "import time\n",
    "limit_max = 1000 # right limit in the integration\n",
    "t1 = time.time()\n",
    "for i in range(1000):\n",
    "    call = S0 * Q1(k, cf_H_b_good, limit_max) - K * np.exp(-r*T) * Q2(k, cf_H_b_good, limit_max)\n",
    "    #put = K * np.exp(-r*T) * (1 - Q2(k, cf_H_b_good, limit_max)) - S0 * Q1(k, cf_H_b_good, limit_max)\n",
    "print (time.time() - t1)\n",
    "print(\"Heston Fourier inversion call price: \", call)\n",
    "print(\"-----------------------------------\")\n",
    "print(\"Heston Fourier inversion put price: \", put)\n",
    "print(\"-----------------------------------\")"
   ]
  },
  {
   "cell_type": "code",
   "execution_count": null,
   "metadata": {},
   "outputs": [],
   "source": []
  }
 ],
 "metadata": {
  "kernelspec": {
   "display_name": "Python 3",
   "language": "python",
   "name": "python3"
  },
  "language_info": {
   "codemirror_mode": {
    "name": "ipython",
    "version": 3
   },
   "file_extension": ".py",
   "mimetype": "text/x-python",
   "name": "python",
   "nbconvert_exporter": "python",
   "pygments_lexer": "ipython3",
   "version": "3.6.3"
  }
 },
 "nbformat": 4,
 "nbformat_minor": 4
}
