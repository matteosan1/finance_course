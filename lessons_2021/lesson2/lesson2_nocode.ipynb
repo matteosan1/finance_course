{
 "cells": [
  {
   "cell_type": "markdown",
   "metadata": {},
   "source": [
    "# Discount Factor, Interpolation and Forward Rates"
   ]
  },
  {
   "cell_type": "markdown",
   "metadata": {},
   "source": [
    "If there are $Y$ payments each year the discount factor formula becomes\n",
    "\n",
    "\\begin{equation}\n",
    "D_n = \\cfrac{1}{(1+r)^{n}}\n",
    "\\end{equation}\n",
    "\n",
    "When the continuously-compounded hypothesis is used the discount factor becomes\n",
    "\n",
    "\\begin{equation}\n",
    "D_n = e^{-rn}\n",
    "\\end{equation}\n",
    "\n",
    "Discount factors are usually presented as curves (*discount curves*) where each point represents a discount factor relative to a future date.\n",
    "\n",
    "![alt text](discount_curve.png \"Title\")\n",
    "\n",
    "Since usually discount factors are available only at discrete times some technique is needed to determine the factors at any time would be needed, this tool is called *interpolation*."
   ]
  },
  {
   "cell_type": "markdown",
   "metadata": {},
   "source": [
    "# Interpolation\n",
    "\n",
    "## Linear interpolation\n",
    "\n",
    "It may happen to have few data points, obtained by sampling or experimenting. \n",
    "These points represent the values of a function $f(x)$, where $x$ is a variable (e.g. in recording a trip: distances at certain times, $d = f(t)$). \n",
    "It is often required to estimate the value of that function for intermediate values of the variable $x$ (e.g. what is the distance $d$ at a new time $t$ not sampled originally ?).\n",
    "\n",
    "Interpolation is a method to \"construct\" new points within a range of a discrete set of known data points. \n",
    "\n",
    "#### Example 1\n",
    "Assume you are going on holidays by car and that luckily there isn't much traffic so that you can drive at constant speed (which gives a linear relation between travelled space and time i.e. $s = v \\cdot t$, which means that if you plot the distances $s$ as a function of the time $t$ you get a line with slope $v$)."
   ]
  },
  {
   "cell_type": "code",
   "execution_count": null,
   "metadata": {},
   "outputs": [],
   "source": [
    "from matplotlib import pyplot as plt\n",
    "\n",
    "t = [15, 100, 150]\n",
    "s = [25.75, 171.7, 257.7]\n",
    "\n",
    "t_ex = [200]\n",
    "s_ex = [300]\n",
    "\n",
    "plt.scatter(t, s, marker=\"o\", s=35)\n",
    "plt.scatter(t_ex, s_ex, marker=\"*\", s=35, color=\"red\")\n",
    "plt.xlabel(\"Time (minutes)\")\n",
    "plt.ylabel(\"Distance (km)\")\n",
    "plt.grid(True)\n",
    "plt.show()"
   ]
  },
  {
   "cell_type": "markdown",
   "metadata": {},
   "source": [
    "Given two samples of the car travelled distance $s_1$ and $s_2$ taken at two different times $t_1$ and $t_2$ you can linearly interpolate to find your position at different times using the following relations:\n",
    "\n",
    "$$s(t) = (1 - w)\\cdot s_1 + w \\cdot s_2~~~~~~~~~(\\textrm{with}~w = \\frac{t - t_1}{t_2 - t_1})$$\n",
    "($t$ generic time at which we want to know the distance $s$)\n",
    "\n",
    "**The simple derivation of this relation is available in the lecture notes.**\n",
    "\n",
    "This formula can also be understood as a weighted average, where the weights are inversely related to the distance from the end points to the unknown point; the closer point has more influence than the farther point. \n",
    "\n",
    "\\begin{equation*}\n",
    "w_1 = (1 - w) = \\cfrac{t_2 - t}{t_2 - t_1} \\\\\n",
    "w_2 = w = \\frac{t - t_1}{t_2 - t_1}\n",
    "\\end{equation*}\n",
    "which are distances between the unknown point and each of the end points.\n",
    "\n",
    "Back to our example, if $s_1 = 25.75~\\mathrm{km}\\;(@t_1 = 15~\\mathrm{min})$ and $s_2 = 171.7~\\mathrm{km}\\;(@t_2 = 100~\\mathrm{min})$ let's compute:"
   ]
  },
  {
   "cell_type": "code",
   "execution_count": null,
   "metadata": {},
   "outputs": [],
   "source": [
    "# interpolate at t = 60\n"
   ]
  },
  {
   "cell_type": "markdown",
   "metadata": {},
   "source": [
    "![alt text](interp_example1.png \"Title\")"
   ]
  },
  {
   "cell_type": "markdown",
   "metadata": {},
   "source": [
    "**Always interpret critically your results.** In this case $t=60$ is a time in the middle of the interval $t_1, t_2$, so we expected a distance somehow in between $s_1, s_2$...\n",
    "\n",
    "If we believe the relation between our variable stays the same, we can use the same formula to extrapolate values outside our initial sample.\n",
    "\n",
    "For example if we keep the same constant velocity in our trip we could check:"
   ]
  },
  {
   "cell_type": "code",
   "execution_count": null,
   "metadata": {},
   "outputs": [],
   "source": [
    "# distance travelled in 180 min trip (extrapolation)\n"
   ]
  },
  {
   "cell_type": "markdown",
   "metadata": {},
   "source": [
    "### Log-linear interpolation\n",
    "\n",
    "When the function $f$ that we want to interpolate is an exponential we can fall back to the previous case by a simple variable transformation. \n",
    "\n",
    "$$p = \\mathrm{exp}(c \\cdot h)$$\n",
    "\n",
    "$$s = \\mathrm{log}(p) = \\mathrm{log}(\\mathrm{exp}(c \\cdot h)) = c \\cdot h$$\n",
    "\n",
    "$$w = \\frac{h - h_1}{h_2 - h_1}$$\n",
    "\n",
    "$$s = (1 - w)\\cdot s_1 + w \\cdot s_2\\;\\;(\\mathrm{remember \\;now }\\;s = \\mathrm{log}(p))$$\n",
    "\n",
    "$$p = \\mathrm{exp}(s)$$\n",
    "\n",
    "#### Example 2\n",
    "\n",
    "Atmospheric pressure decreases with the altitude (i.e. the highest I flight the lower is the pressure) following an exponential law:\n",
    "\n",
    "$$p = p_0\\cdot e^{-\\alpha h}$$\n",
    "\n",
    "where\n",
    "\n",
    "* $h$ is the altitude\n",
    "* $p_0$ is the pressure at sea level\n",
    "* $\\alpha$ is a constant\n",
    "\n",
    "Taking the logarithm of each side of the equation I get a linear relation which can be interpolated as before:\n",
    "\n",
    "$$s = \\mathrm{log}(p) = \\mathrm{log}(p_0\\cdot e^{-\\alpha h}) = - \\alpha \\cdot h$$\n",
    "\n",
    "Now assume that we have measured $p_1 = 90~\\mathrm{kPa}\\;(h_1 = 1000~\\mathrm{m})$ and $p_2 = 40~\\mathrm{kPa}\\;(h_2 = 7000~\\mathrm{m})$ what will be the atmospheric pressure on top of the Mont Blanc ($4812~\\mathrm{m}$) ? and on top of Mount Everest ($8848~\\mathrm{m}$) ? "
   ]
  },
  {
   "cell_type": "code",
   "execution_count": null,
   "metadata": {},
   "outputs": [],
   "source": [
    "# pressure on top of the Mont Blanc (interpolation)\n",
    "from math import log, exp\n"
   ]
  },
  {
   "cell_type": "code",
   "execution_count": null,
   "metadata": {},
   "outputs": [],
   "source": [
    "# pressure on top of the Mount Everest (extrapolation)\n"
   ]
  },
  {
   "cell_type": "markdown",
   "metadata": {},
   "source": [
    "<img src=\"Atmospheric_Pressure_vs._Altitude.png\" width=500>"
   ]
  },
  {
   "cell_type": "markdown",
   "metadata": {},
   "source": [
    "### Limitations of Linear Interpolation\n",
    "\n",
    "Interpolation is just an approximation and works well when either the function $f$ is linear or we are trying to interpolate between two points that are close enough to believe that $f$ is *almost* linear in that interval.\n",
    "It can be easily demonstrated that the approximation between two points on a given function gets worse with the second derivative of the function that is approximated. This is intuitively correct: the \"curvier\" the function is, the worse the approximations made with simple linear interpolation become."
   ]
  },
  {
   "cell_type": "code",
   "execution_count": null,
   "metadata": {},
   "outputs": [],
   "source": [
    "import numpy as np\n",
    "from matplotlib import pyplot as plt\n",
    "\n",
    "x = [1, 2]\n",
    "y = np.sin(x)\n",
    "\n",
    "xi = 1.5\n",
    "z = np.interp(xi, x, y)\n",
    "xs = np.arange(0,np.pi, 0.01)\n",
    "plt.plot(xs, np.sin(xs), linestyle=\"--\")\n",
    "plt.plot([1,1.5,2], [y[0], z, y[1]], linestyle=\"--\", color=\"red\")\n",
    "plt.scatter(x, y, marker=\"o\", color=\"black\")\n",
    "plt.scatter(xi, z, marker=\"*\", color=\"red\")\n",
    "plt.ylim(0.55, 1.15)\n",
    "plt.show()"
   ]
  },
  {
   "cell_type": "markdown",
   "metadata": {},
   "source": [
    "## Discount curve interpolation\n",
    "\n",
    "Finally we can come back to finance and using what we have just learnt try to write a function which interpolates some given discount factors.\n",
    "\n",
    "Needed data:\n",
    "\n",
    "* a list of pillars dates specifying the value dates of the given discount factors, $t_0,...,t_{n-1}$\n",
    "* a list of given discount factors, $D(t_0),...,D(t_{n-1})$\n",
    "* a pricing date ('today' date) which corresponds to $t=0$\n",
    "\n",
    "The input argument to the function will be the value date at which we want to interpolate the discount factor.\n",
    "\n",
    "Since the discount factor can be expresses as $D=e^{-r(T-t)}$ the function will use a log-linear interpolation to return the value we are looking for.\n",
    "More technically we can say that we are doing a linear interpolation over time in the log space.\n",
    "\n",
    "So applying the same steps as before we get:\n",
    "\n",
    "$$d(t_i):=\\mathrm{ln}(D(t_i))$$\n",
    "\n",
    "$$d(t) = (1-w)d(t_i) + wd(t_{i+1});\\;\\;\\;w=\\frac{t-t_i}{t_{i+1}-t_i}$$\n",
    "\n",
    "$$D(t) = \\mathrm{exp}(d(t))$$\n",
    "\n",
    "where $i$ is such that $t_i \\le t \\le t_{i+1}$\n",
    "\n",
    "Instead of reinventing the wheel and perform the interpolation with our own code, we'll use the function `interp` provided by the module `numpy`. So first let's try it with some simple examples:"
   ]
  },
  {
   "cell_type": "code",
   "execution_count": null,
   "metadata": {},
   "outputs": [],
   "source": [
    "# the numpy.interp function linearly interpolates\n",
    "from numpy import interp\n",
    "\n",
    "xf = [1, 2, 5, 6]\n",
    "yf = [2, 4, 7, 10]"
   ]
  },
  {
   "cell_type": "code",
   "execution_count": null,
   "metadata": {},
   "outputs": [],
   "source": [
    "# define the df function\n"
   ]
  },
  {
   "cell_type": "markdown",
   "metadata": {},
   "source": [
    "This is almost OK, **but it won't work** because ```numpy.interp``` only accepts numbers/lists of numbers as arguments i.e. it doesn't automatically convert or interpret dates as numbers in any way, so it doesn't know how to interpolate them.\n",
    "So we need to do the conversion ourselves before passing the data into the ```numpy.interp``` function."
   ]
  },
  {
   "cell_type": "code",
   "execution_count": null,
   "metadata": {},
   "outputs": [],
   "source": [
    "# corrected function\n"
   ]
  },
  {
   "cell_type": "code",
   "execution_count": null,
   "metadata": {},
   "outputs": [],
   "source": [
    "# now we can use the df function to get discount factors\n",
    "# on value dates between the given pillar dates\n"
   ]
  },
  {
   "cell_type": "code",
   "execution_count": null,
   "metadata": {},
   "outputs": [],
   "source": [
    "# let's see what these look like when plotted on a semi‐log graph\n",
    "from matplotlib import pyplot as plt\n",
    "import matplotlib.dates as mdates\n",
    "\n",
    "plt.semilogy(pillar_dates, discount_factors, marker='o')\n",
    "plt.semilogy(df_date, df0 , marker='X')\n",
    "plt.gca().xaxis.set_major_formatter(mdates.DateFormatter('%m/%d/%Y'))\n",
    "plt.gca().xaxis.set_major_locator(mdates.YearLocator())\n",
    "plt.grid(True)\n",
    "plt.show()"
   ]
  },
  {
   "cell_type": "code",
   "execution_count": null,
   "metadata": {},
   "outputs": [],
   "source": [
    "# let's see what these look like when plotted on a linear graph\n",
    "\n",
    "from matplotlib import pyplot as plt\n",
    "import matplotlib.dates as mdates\n",
    "plt.plot(pillar_dates, discount_factors, marker='o')\n",
    "plt.plot(df_date,df0 , marker='X')\n",
    "plt.gca().xaxis.set_major_formatter(mdates.DateFormatter('%m/%d/%Y'))\n",
    "plt.gca().xaxis.set_major_locator(mdates.YearLocator())\n",
    "plt.grid(True)\n",
    "plt.show()"
   ]
  },
  {
   "cell_type": "markdown",
   "metadata": {},
   "source": [
    "**In the lecture notes you will see an implementation of a DiscountCurve class which is capable of computing discount factors at arbitrary dates. As an exercise try to implement it yourself and add the code to your own finmarkets.py module.**"
   ]
  },
  {
   "cell_type": "markdown",
   "metadata": {},
   "source": [
    "# Forward Rates\n",
    "\n",
    "## Calculating Forward Rates\n",
    "\n",
    "We have just written s function called `df` for calculating a discount factor at any date, given a set of discount factors each relative to a corresponding pillar date, using log-linear interpolation. Now we want a function to compute forward rates.\n",
    "\n",
    "The formula to calculate the forward rates can be found exploiting the property that investing at rate $r_1$ for the period $(0, T_1)$ and then *reinvesting* at rate $r_{1,2}$ for the time period $(T_1, T_2)$ is equivalent to invest at rate $r_2$ for the time period $(0, T_2)$ (i.e. no arbitrage condition, two investors shouldn't be able to earn money from arbitraging between different interest periods). That said:\n",
    "\n",
    "$$(1+r_1 T_1)(1+r_{1,2}(T_2 - T_1)) = 1 + r_2 T_2$$\n",
    "\n",
    "Solving for $r_{1,2}$ leads to\n",
    "\n",
    "$$F(T_1, T_2) = r_{1,2} = \\frac{1}{T_2-T_1}\\Big(\\frac{D(T_1)}{D(T_2)} - 1 \\Big)~~~~\\textrm{(where $D{(T_i)}=\\frac{1}{1+r_iT_{i}}$)}$$"
   ]
  },
  {
   "cell_type": "code",
   "execution_count": null,
   "metadata": {},
   "outputs": [],
   "source": [
    "import numpy\n",
    "from math import log\n"
   ]
  },
  {
   "cell_type": "code",
   "execution_count": null,
   "metadata": {},
   "outputs": [],
   "source": [
    "from datetime import date\n",
    "observation_date = date (2020, 1, 1)\n",
    "\n",
    "pillar_dates = [date(2020, 1, 1), \n",
    "                date(2021, 1, 1), \n",
    "                date(2022, 8, 1)]\n",
    "rates = [0.05, 0.07, 0.08]\n"
   ]
  },
  {
   "cell_type": "markdown",
   "metadata": {},
   "source": [
    "### 2008 Financial Crisis\n",
    "\n",
    "Looking at the historical series of the Euribor (6M) rate versus the Eonia Overnight Indexed Swap (OIS-6M) rate over  the time interval 2006-2011 it becomes apparent how before August 2007 the two rates display strictly overlapping trends differing of no more than 6 bps. \n",
    "\n",
    "<img src=\"credit_crunch.png\" width=600>\n",
    "\n",
    "In August 2007 however we observe a sudden increase of the Euribor rate and a simultaneous decrease of the OIS rate  that leads to the explosion of the corresponding basis spread, touching the peak of 222 bps in October 2008, when Lehman Brothers filed for bankruptcy protection. Successively the basis has sensibly reduced and stabilized between  40 bps and 60 bps (notice that the pre-crisis level has never been recovered). The same effect is observed for other similar couples, e.g. Euribor 3M vs OIS 3M. \n",
    "\n",
    "The reason of the abrupt divergence between the Euribor and OIS rates can be explained by considering both the monetary policy decisions adopted by international authorities in response to the financial turmoil, and the impact of the credit crunch on the credit and liquidity risk perception of the market, coupled with the different financial meaning and dynamics of these rates. \n",
    "\n",
    "As a practial result, after the 2008 financial crisis, it is not possible anymore to use a single discount curve to correctly price forward rates of all tenors. For example, if we want to calculate the net present value of a forward 6-month libor coupon, we need to simultaneously use two different discount curves:\n",
    "\n",
    "* the 6-month libor curve for determining the forward rate\n",
    "* the EONIA curve for discounting the expected cash flow\n",
    "\n",
    "Essentially we will hav to implement the following calculation:\n",
    "\n",
    "$$\\mathrm{NPV} = D_{\\mathrm{EONIA}}(T_1) \\times \\frac{1}{T_2-T_1}\\Big(\\frac{D_{\\mathrm{LIBOR}}(T_1)}{D_{\\mathrm{LIBOR}}(T_2)} - 1 \\Big)$$"
   ]
  },
  {
   "cell_type": "code",
   "execution_count": null,
   "metadata": {},
   "outputs": [],
   "source": [
    "from finmarkets import DiscountCurve\n",
    "from math import exp\n"
   ]
  }
 ],
 "metadata": {
  "kernelspec": {
   "display_name": "Python 3 (ipykernel)",
   "language": "python",
   "name": "python3"
  },
  "language_info": {
   "codemirror_mode": {
    "name": "ipython",
    "version": 3
   },
   "file_extension": ".py",
   "mimetype": "text/x-python",
   "name": "python",
   "nbconvert_exporter": "python",
   "pygments_lexer": "ipython3",
   "version": "3.8.10"
  },
  "nbdime-conflicts": {
   "local_diff": [
    {
     "key": "language_info",
     "op": "add",
     "value": {
      "codemirror_mode": {
       "name": "ipython",
       "version": 3
      },
      "file_extension": ".py",
      "mimetype": "text/x-python",
      "name": "python",
      "nbconvert_exporter": "python",
      "pygments_lexer": "ipython3",
      "version": "3.7.4"
     }
    }
   ],
   "remote_diff": [
    {
     "key": "language_info",
     "op": "add",
     "value": {
      "codemirror_mode": {
       "name": "ipython",
       "version": 3
      },
      "file_extension": ".py",
      "mimetype": "text/x-python",
      "name": "python",
      "nbconvert_exporter": "python",
      "pygments_lexer": "ipython3",
      "version": "3.6.3"
     }
    }
   ]
  }
 },
 "nbformat": 4,
 "nbformat_minor": 2
}
