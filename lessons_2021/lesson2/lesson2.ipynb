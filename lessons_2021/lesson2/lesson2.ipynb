{
 "cells": [
  {
   "cell_type": "markdown",
   "metadata": {},
   "source": [
    "# Bootstrapping"
   ]
  },
  {
   "cell_type": "markdown",
   "metadata": {},
   "source": [
    "## Overnight Index Swap\n",
    "\n",
    "Interest rate swaps (IRS) are usually used to mitigate the risks of fluctuations of varying interest rates, or to benefit from lower rates. We will always look at these products from the point of view of the **receiver of the floating leg**.\n",
    "\n",
    "Overnight Index Swaps (OIS) are a particular kind of IRS which pay a floating coupon, determined by overnight rate fixings over the reference periods, against a fixed coupon.  By definition an OIS is defined by:\n",
    "\n",
    "* a notional amount $N$;\n",
    "* a starting date $d_0$;\n",
    "* a sequence of payment dates $d_1,...,d_n$;\n",
    "* a fixed rate $K$.\n",
    "\n",
    "For simplicity in the following we are assuming that the fixed and floating legs of our OIS have the same notional and payment dates, although this is not necessarily always the case in practice.\n",
    "\n",
    "### OIS Valuation\n",
    "To evaluate the net present value (NPV) of such products the cash flows of each leg have to be calculated; today's NPV then is the sum of all the discounted cash flows.\n",
    "\n",
    "#### Floating leg\n",
    "At each payment date, the floating leg pays a cash flow determined as follows:\n",
    "\n",
    "$$f_{\\mathrm{float},~i} = N \\Bigg\\{\\prod_{d=d_{i-1}}^{d=d_i-1}\\Big(1+r_{\\mathrm{O/N}}(d)\\cdot\\frac{1}{360}\\Big) -1 \\Bigg\\}$$\n",
    "\n",
    "Strictly speaking this formula is valid for an EONIA swaps (i.e.~for OIS swaps in EUR) other currencies might have different conventions. The $\\frac{1}{360}$ fraction appears because EONIA rates are quoted using the ACT/360 day-count convention. In addition we are making the simplifying assumption of ignoring weekends and holidays, so we assume that each overnight rate is valid for only one day.\n",
    "The sum of the discounted expected values of these cash flows is\n",
    "\n",
    "$$\\mathrm{NPV}_{\\mathrm{float}} = \\sum_{i=1}^{n}D(d_i)\\mathbb{E}[f_{\\mathrm{float},~i}]$$\n",
    "where $D(d)$ is the discount factor with expiry $d$. On the other hand, by definition (remember last lesson on forward rates), we also have the following relationship\n",
    "\n",
    "$$\\mathbb{E}[f_{\\mathrm{float},~i}] = N\\cdot\\Big(\\frac{D_{\\mathrm{OIS}}(d_{i-1})}{D_{\\mathrm{OIS}}(d_{i})} - 1\\Big)$$\n",
    "hence\n",
    "$$\\mathrm{NPV}_{\\mathrm{float}} = N\\cdot \\sum_{i=1}^{n}D(d_i) \\Big(\\frac{D_{\\mathrm{OIS}}(d_{i-1})}{D_{\\mathrm{OIS}}(d_{i})} - 1\\Big)$$\n",
    "where $D_{\\mathrm{OIS}}(d)$ is the discount factor implied by OIS prices (we will see how to derive it).\n",
    "\n",
    "Since the correct curve to discount OIS is the overnight index itself we have that $D = D_{\\mathrm{OIS}}$ so the NPV simplifies to\n",
    "\n",
    "$$\\begin{equation}\n",
    "  \\begin{split}\n",
    "    \\mathrm{NPV}_{\\mathrm{float}} & = N\\cdot\\sum_{i=1}^{n}[D(d_{i-1}) - D(d_i)] =  \\\\\n",
    "    &= N\\cdot[(D(d_{0}) - D(d_{1})) + (D(d_{1}) - D(d_{2})) + ... + (D(d_{n-1}) - D(d_{n}))]\\\\\n",
    "    &= N \\cdot [D(d_0) - D(d_n)]\n",
    "  \\end{split}\n",
    "\\end{equation}\n",
    "$$\n",
    "\n",
    "#### Fixed leg\n",
    "The calculation for the fixed leg is simpler; each cash flow is  equal to\n",
    "\n",
    "$$f_{\\mathrm{fixed},~i}=N\\cdot K\\cdot \\frac{d_i - d_{i-1}}{360}$$\n",
    "so the NPV of the fixed leg is\n",
    "\n",
    "$$\\mathrm{NPV}_{\\mathrm{fixed}} = N\\cdot K\\cdot \\sum_{i=1}^{n}D_{\\mathrm{OIS}}(d_{i})\\frac{d_i - d_{i-1}}{360}$$\n",
    "\n",
    "### Discount Factor Determination from Market Quotes\n",
    "\n",
    "Our ultimate goal is to take a series of Overnight Index Swap quotations, and determine the discount factors implied by their prices. To do this we will build a class to represent OIS and compute its value given particular discount curve. Then we will use this class, with a numerical optimizer, to *invert* the relation which ties the NPV to the discount curve so that the implied discount factors can be determined from OIS prices (market quotes)."
   ]
  },
  {
   "cell_type": "code",
   "execution_count": 14,
   "metadata": {},
   "outputs": [],
   "source": [
    "# define OIS class\n",
    "class OvernightIndexSwap:\n",
    "    def __init__(self, notional, payment_dates, fixed_rate):\n",
    "        self.notional = notional\n",
    "        self.payment_dates = payment_dates\n",
    "        self.fixed_rate = fixed_rate\n",
    "        \n",
    "    def npv(self, dc):\n",
    "        return self.npv_floating_leg(dc) - self.npv_fixed_leg(dc)\n",
    "    \n",
    "    def npv_floating_leg(self, dc):\n",
    "        return self.notional * (dc.df(self.payment_dates[0]) -\n",
    "                                dc.df(self.payment_dates[-1]))\n",
    "\n",
    "    def npv_fixed_leg(self, dc):\n",
    "        v = 0\n",
    "        for i in range(1, len(self.payment_dates)):\n",
    "            tau = (self.payment_dates[i] - self.payment_dates[i-1]).days / 360\n",
    "            v += dc.df(self.payment_dates[i]) * tau\n",
    "        return self.notional*self.fixed_rate*v\n",
    "                    "
   ]
  },
  {
   "cell_type": "markdown",
   "metadata": {},
   "source": [
    "To test the newly developed class we need a discount curve. \n",
    "In the following example a fake curve will be defined, and then used to build an OIS contract."
   ]
  },
  {
   "cell_type": "code",
   "execution_count": 15,
   "metadata": {},
   "outputs": [
    {
     "data": {
      "text/plain": [
       "105332.19237766218"
      ]
     },
     "execution_count": 15,
     "metadata": {},
     "output_type": "execute_result"
    }
   ],
   "source": [
    "from datetime import date\n",
    "from finmarkets import DiscountCurve\n",
    "\n",
    "ois = OvernightIndexSwap(\n",
    "            # the notional, one million\n",
    "            1e6,\n",
    "            # the list of product dates,\n",
    "            # i.e. the start date then the payment dates\n",
    "            [date(2020, 10, 21), date(2021, 1, 21),\n",
    "             date(2021, 4, 21), date(2021, 7, 21),\n",
    "             date(2021, 10, 21)],\n",
    "            # the fixed rate, 2.5%\n",
    "            0.025)\n",
    "\n",
    "# fake discount curve\n",
    "curve = DiscountCurve(date(2020, 10, 21),\n",
    "                      [date(2020, 10, 21), date(2021, 6, 1),\n",
    "                       date(2022, 1, 1)],\n",
    "                      [1.0, 0.98, 0.82])\n",
    "\n",
    "ois.npv(curve)"
   ]
  },
  {
   "cell_type": "markdown",
   "metadata": {},
   "source": [
    "## Bootstrapping Technique \n",
    "\n",
    "As we said before we would like to determine a *real* discount curve starting from the market quotes of a set of Overnight Index Swaps with different maturities, this will be done via a technique called bootstrapping.\n",
    "This is the ABC of financial mathematics, since you almost always need a\n",
    "discount curve to price every contract. We are going to concentrate on EONIA swaps in order to build an EUR discount curve.\n",
    "The underlying assumption is that market quotes represent the **fair** prices of the OIS so they make the swap NPVs null (the fair price is an estimate of what a willing buyer would pay a willing seller for a given asset, assuming both have a reasonable knowledge of the asset's worthness).\n",
    "\n",
    "### Building OIS Instances\n",
    "The first step involves getting data, the swap market quotes. This is not quite easy since EONIA swap market is over the counter (OTC) and it’s not straightforward to access it. Anyway in the file [ois_data.xlsx](https://drive.google.com/file/d/1LCEDmheKqwPXFpJ25hFz32QI5im2UJO1/view?usp=sharing) it is available \n",
    "a data-set of of swap quotes (which actually are rates rather prices) suitable for our needs.\n",
    "With the help of the $\\tt{pandas}$ module the data-set can be inspected:"
   ]
  },
  {
   "cell_type": "code",
   "execution_count": 16,
   "metadata": {
    "scrolled": true
   },
   "outputs": [
    {
     "data": {
      "text/html": [
       "<div>\n",
       "<style scoped>\n",
       "    .dataframe tbody tr th:only-of-type {\n",
       "        vertical-align: middle;\n",
       "    }\n",
       "\n",
       "    .dataframe tbody tr th {\n",
       "        vertical-align: top;\n",
       "    }\n",
       "\n",
       "    .dataframe thead th {\n",
       "        text-align: right;\n",
       "    }\n",
       "</style>\n",
       "<table border=\"1\" class=\"dataframe\">\n",
       "  <thead>\n",
       "    <tr style=\"text-align: right;\">\n",
       "      <th></th>\n",
       "      <th>months</th>\n",
       "      <th>quote</th>\n",
       "    </tr>\n",
       "  </thead>\n",
       "  <tbody>\n",
       "    <tr>\n",
       "      <th>0</th>\n",
       "      <td>1</td>\n",
       "      <td>-0.350</td>\n",
       "    </tr>\n",
       "    <tr>\n",
       "      <th>1</th>\n",
       "      <td>2</td>\n",
       "      <td>-0.347</td>\n",
       "    </tr>\n",
       "    <tr>\n",
       "      <th>2</th>\n",
       "      <td>3</td>\n",
       "      <td>-0.348</td>\n",
       "    </tr>\n",
       "    <tr>\n",
       "      <th>3</th>\n",
       "      <td>4</td>\n",
       "      <td>-0.350</td>\n",
       "    </tr>\n",
       "    <tr>\n",
       "      <th>4</th>\n",
       "      <td>5</td>\n",
       "      <td>-0.350</td>\n",
       "    </tr>\n",
       "  </tbody>\n",
       "</table>\n",
       "</div>"
      ],
      "text/plain": [
       "   months  quote\n",
       "0       1 -0.350\n",
       "1       2 -0.347\n",
       "2       3 -0.348\n",
       "3       4 -0.350\n",
       "4       5 -0.350"
      ]
     },
     "execution_count": 16,
     "metadata": {},
     "output_type": "execute_result"
    }
   ],
   "source": [
    "# read from ois_data.xlsx and set an observation_date\n",
    "import pandas\n",
    "mq = pandas.read_excel('ois_data.xlsx')\n",
    "mq.head()\n"
   ]
  },
  {
   "cell_type": "markdown",
   "metadata": {},
   "source": [
    "Let’s say we want to build a 15 months swap instance using data contained in $\\tt{ois\\_data}$ file. Be careful when doing this operation and double check the units of rates, quotes, etc...in this case\n",
    "for example quotes are expressed in percent so you need to multiply by 0.01 before using them.\n",
    "Another detail to check is that 15 months quote is not the fifteenth entry in the $\\tt{DataFrame}$ (actually it is the twelfth)."
   ]
  },
  {
   "cell_type": "code",
   "execution_count": 17,
   "metadata": {},
   "outputs": [
    {
     "data": {
      "text/plain": [
       "datetime.date(2022, 12, 14)"
      ]
     },
     "execution_count": 17,
     "metadata": {},
     "output_type": "execute_result"
    }
   ],
   "source": [
    "from finmarkets import generate_dates\n",
    "\n",
    "# create an OvernightIndexSwap with a market quote\n",
    "start_date = date.today()\n",
    "ois = OvernightIndexSwap(1e6, \n",
    "                        generate_dates(date.today(), 15),\n",
    "                        mq['quote'].tolist()[12])\n",
    "ois.payment_dates[-1]"
   ]
  },
  {
   "cell_type": "markdown",
   "metadata": {},
   "source": [
    "### Bootstrap Algorithm\n",
    "\n",
    "Keep aside for a moment our swaps and introduce the *bootstrap algorithm*. In finance, bootstrap is a method for constructing a (zero-coupon) fixed-income yield curve from the prices of a set of coupon-bearing products, e.g. bonds and swaps. The term structure of spot returns is obtained from the bond yields by solving for them recursively, by *forward substitution*: this iterative process is what is called the bootstrap method. \n",
    "The usefulness of bootstrap is that using only a few carefully selected zero-coupon products, it becomes possible to derive swap forward and spot rates for all maturities given the solved curve.\n",
    "\n",
    "To illustrate the algorithm let’s consider the following example which can be solved, at least parrtially, analytically.\n",
    "We have some coupon paying bonds (coupon of 4\\%, 5\\%, 6\\%, 7\\% and 8\\% respectively) with\n",
    "maturities ranging from 1 to 5 years, each having a value of €100 and traded at par (traded at its face value). To determine the zero-coupon yield curve proceed as follows:\n",
    "\n",
    "* at the end of first year the discounted cash flow of the first bond is €104 (face value plus the coupon) times the discount factor, so the implied *fair* rate \n",
    "\n",
    "$$100 = \\cfrac{104}{(1 + S_{1y})}\\implies S_{1y} =  104/100 - 1 = 4\\%$$\n",
    "\n",
    "* at the end of second year the sum of the cash flows of the 2nd bond can be compared to its trading price to compute the 2-year spot rate $S_{2y}$ (using the previously derived value of $S_{1y}$)\n",
    "\n",
    "$$100 = \\cfrac{5}{(1 + S_{1y})} + \\cfrac{105}{(1 + S_{2y})^{2}}$$\n",
    "\n",
    "$$\\begin{equation*}\n",
    "\\begin{split}\n",
    "& 100 = 5 / (1 + 0.04) + 105 / (1 + S_{2y})^{2}\\qquad\\Rightarrow\\qquad S_{2y}^2  + 2 S_{2y}  - 0.103030 = 0 \\\\\n",
    "& S_{2y} = - 1 \\pm \\sqrt{1 + 0.103030} = \\begin{cases}-2.05023 \\\\ 0.0503\\end{cases}\n",
    "\\end{split}\n",
    "\\end{equation*}$$\n",
    "\n",
    "From the third year on, still keeping the same reasoning, we obtain equation of third order or more which are not easily analitically solvable. For example following the equation for the fifth bond after five years:\n",
    "\n",
    "$$100 = \\cfrac{8} {(1 + S_{1y})} + \\cfrac{8} {(1 + S_{2y})^{2}}+ \\cfrac{8} {(1 + S_{3y})^{3}} + \\cfrac{8} {(1 + S_{4y})^{4}} + \\cfrac{108} {(1 + S_{5y})^{5}}$$\n",
    "\n",
    "Assuming we have already determined the previous rates:\n",
    "\n",
    "| years | coupon rate | bond price | rate|\n",
    "|:----:|:----:|:----:|:----:|\n",
    "|1 | 1.00 % | 100 | 4.00% |\n",
    "|2 | 2.00 % | 100 | 5.03% |\n",
    "|3 | 3.00 % | 100 | 6.08% |\n",
    "|4 | 4.00 % | 100 | 7.19% |\n",
    "|5 | 5.00 % | 100 | ??? |\n",
    "\n",
    "we can solve also the last one numerically. This can be done by using $\\tt{brentq}$ function as for the yield to maturity.\n",
    "\n",
    "<img src=\"bond_5_plot.png\">"
   ]
  },
  {
   "cell_type": "code",
   "execution_count": 18,
   "metadata": {},
   "outputs": [
    {
     "name": "stdout",
     "output_type": "stream",
     "text": [
      "0.08358311708621957\n"
     ]
    }
   ],
   "source": [
    "# find zeros of previous eq. with brentq\n",
    "from scipy.optimize import brentq\n",
    "\n",
    "def func(x):\n",
    "    return 100 - 8/(1+0.04) - 8/(1+0.0503)**2 - 8/(1+0.0609)**3 - \\\n",
    "           8/(1+0.0719)**4 - 108/(1+x)**5\n",
    "\n",
    "r = brentq(func, 0, 0.5)\n",
    "print (r)"
   ]
  },
  {
   "cell_type": "markdown",
   "metadata": {},
   "source": [
    "The very same mechanism can be generalized and extended to more maturities to get a more detailed yield curve. In general terms the previous system can be written as:\n",
    "\n",
    "$$\\begin{equation*}\n",
    "\\begin{cases}\n",
    "f_1(S_1, p_1) = 0 \\\\\n",
    "f_2(S_1, S_2, p_2) = 0 \\\\\n",
    "f_3(S_1, S_2, S_3, p_3) = 0 \\\\\n",
    "f_4(S_1, S_2, S_3, S_4, p_4) = 0 \\\\\n",
    "\\cdots\n",
    "\\end{cases}\n",
    "\\end{equation*}\n",
    "$$\n",
    "where $S_i$ are the unknown spot rates and $p_i$ the market quotes of the considered products. \n",
    "\n",
    "The iterative procedure we have applied before exploits the first equation to find $S_1 = f_1^{-1}(p_1)$, the second to find $S_2 = f_2^{-1}(S_1, p_2)$ and so on and so forth.\n",
    "\n",
    "This algorithm works since each equation will determine exactly one free spot rate which is not already determined by the others.\n",
    "\n",
    "### Bootstrap as Minimization Problem\n",
    "Instead of iteratively finding the solution of each equation as before, we could define a vector of spot rates $\\mathbf{S} = (S_1, S_2, S_3,\\ldots)$ seeking for a particular $\\mathbf{\\hat{S}}$ which solves the following equation:\n",
    "\n",
    "$$F = f_1^2(S_1) + f_2^2(S_1, S_2) + f_3^2(S_1, S_2, S_3) + f_4^2(S_1, S_2, S_3, S_4) + \\ldots = 0$$\n",
    "\n",
    "Under this terms the bootstrap technique can be considered as a minimization problem, indeed we need to find $\\mathbf{\\hat{S}}$ which makes $F$ zero, or at least *minimize* it making $F$ as close as possible to 0.\n",
    "\n",
    "Notice that each $f_i$ is squared since we want all of them to be minimized and not only $F$ globally (without the squared there may be cancellation effects between the terms of the sum).\n"
   ]
  },
  {
   "cell_type": "markdown",
   "metadata": {},
   "source": [
    "### Minimization Algorithm\n",
    "\n",
    "A minimization algorithm follows these steps:\n",
    "\n",
    "* define an *objective function* i.e. the function that is actually minimized to reach our goal;\n",
    "* set the initial value of the unknown parameters and their range of variability;\n",
    "* the minimizer will compute the objective function value;\n",
    "* then it will move the parameter values in such a way to find a smaller value of the objective function (e.g. following the derivative w.r.t. each parameter);\n",
    "* if there are contraints the step above will take them into account;\n",
    "* the last two steps will be repeated until further variations of the $\\mathbf{x}$ values won’t change significantly the objective function (i.e. we have found a minimum of the function so the minimisation process is completed !).\n",
    "\n",
    "Let's see two examples of $\\tt{python}$ applications of the minimization function $\\tt{scipy.optimize.minimize}$"
   ]
  },
  {
   "cell_type": "markdown",
   "metadata": {},
   "source": [
    "### Example \n",
    "Find the dimensions that will minimize the costs to manufacture a circular cylindrical can of volume, $330~\\mathrm{cm}^3$.\n",
    "\n",
    "Clearly to minimize the costs the company needs to reduce the can surface, given the required volume.\n",
    "\n",
    "<img src=\"cylinder.png\" width=100>\n",
    "\n",
    "$$ S(r, h) = 2\\pi rh + 2\\cdot(\\pi r^2) $$\n",
    "\n",
    "On the other hand we want the volume to be $330~\\mathrm{cm}^3$ so we can remove $h$ from the previous equation:\n",
    "\n",
    "$$ V = \\pi r^2 h = 330\\quad\\implies h = \\cfrac{330}{\\pi r^2} $$\n",
    "\n",
    "So in the end the surface function to be minimized is:\n",
    "\n",
    "$$ S(r) = 2\\pi rh + 2\\cdot(\\pi r^2) = \\cfrac{2\\cdot 330}{r} + 2\\cdot(\\pi r^2)$$\n",
    "\n",
    "So we implement the objective function $\\tt{x[0]}$ is the can radius:"
   ]
  },
  {
   "cell_type": "code",
   "execution_count": 19,
   "metadata": {},
   "outputs": [],
   "source": [
    "from math import pi\n",
    "\n",
    "def of(x):\n",
    "    return 660/x[0] + 2 * pi * x[0]**2"
   ]
  },
  {
   "cell_type": "markdown",
   "metadata": {},
   "source": [
    "Set the limits to our unknown variable and its initial value:"
   ]
  },
  {
   "cell_type": "code",
   "execution_count": 20,
   "metadata": {},
   "outputs": [],
   "source": [
    "x0 = [1]\n",
    "bounds = [(0.1, 100)]"
   ]
  },
  {
   "cell_type": "markdown",
   "metadata": {},
   "source": [
    "Finally we run the minimization:"
   ]
  },
  {
   "cell_type": "code",
   "execution_count": 21,
   "metadata": {},
   "outputs": [
    {
     "name": "stdout",
     "output_type": "stream",
     "text": [
      "      fun: 264.35681091484054\n",
      " hess_inv: <1x1 LbfgsInvHessProduct with dtype=float64>\n",
      "      jac: array([0.])\n",
      "  message: 'CONVERGENCE: NORM_OF_PROJECTED_GRADIENT_<=_PGTOL'\n",
      "     nfev: 24\n",
      "      nit: 9\n",
      "     njev: 12\n",
      "   status: 0\n",
      "  success: True\n",
      "        x: array([3.74493853])\n"
     ]
    }
   ],
   "source": [
    "from scipy.optimize import minimize\n",
    "r = minimize(of, x0, bounds=bounds)\n",
    "print (r)"
   ]
  },
  {
   "cell_type": "markdown",
   "metadata": {},
   "source": [
    "So to minimize the cost the company should produce cans with a radius of about 3.745 cm (I suspect that Coke have done a similar calculation...)."
   ]
  },
  {
   "cell_type": "markdown",
   "metadata": {},
   "source": [
    "### Example with Constraint\n",
    "We are going to fence in a rectangular field. If we look at the field from above the cost of the vertical sides are €10/m, the cost of the bottom is €2/m and the cost of the top is €7/m. If we have €700 determine the dimensions of the field that will maximize the enclosed area.\n",
    "\n",
    "<img src=\"field.png\" width=300>\n",
    "\n",
    "In this example there are two differences w.r.t before:\n",
    "\n",
    "* we want to maximize a quantity (not minimize);\n",
    "* there is a contraint (we have a limited amount of money).\n",
    "\n",
    "So let's repeat the steps as before. The objective is to maximize the enclosed area $A$ so we can *minimize* the quantity $-A$. If we define the length and the width of the field with $\\tt{x[0]}$ and $\\tt{x[1]}$ (items of the list $\\tt{x}$ we get:"
   ]
  },
  {
   "cell_type": "code",
   "execution_count": 22,
   "metadata": {},
   "outputs": [],
   "source": [
    "def of(x):\n",
    "    return -x[0]*x[1]"
   ]
  },
  {
   "cell_type": "markdown",
   "metadata": {},
   "source": [
    "Now we can set the boundaries for length and width and their initial values (1 m each):"
   ]
  },
  {
   "cell_type": "code",
   "execution_count": 23,
   "metadata": {},
   "outputs": [],
   "source": [
    "x0 = [1, 1]\n",
    "bounds = [(1, 100) for _ in range(len(x0))]"
   ]
  },
  {
   "cell_type": "markdown",
   "metadata": {},
   "source": [
    "We have also to impose the constraint on the money. This is done by defining a function that compute the money spent with the fence and compare it to €700. \n",
    "The constraint is passed to the minimizer with a dictionary which has two keys: $\\tt{type}$ with value $\\tt{eq}$ (like equality) since we want to spend all of our available money so the fence has to cost €700\n",
    "\n",
    "$$\\mathrm{fence~cost} = l\\cdot10 + l\\cdot10 + w\\cdot2 + w\\cdot7 = 700$$\n",
    "$$l\\cdot10 + l\\cdot10 + w\\cdot2 + w\\cdot7 - 700 = 0$$\n",
    "\n",
    ", $\\tt{fun}$ whose value is the constraint function. "
   ]
  },
  {
   "cell_type": "code",
   "execution_count": 24,
   "metadata": {},
   "outputs": [],
   "source": [
    "def const(x):\n",
    "    return 2*x[0]*10 + x[1]*7 + x[1]*2 - 700\n",
    "\n",
    "constraints = {'type':'eq', 'fun':const}"
   ]
  },
  {
   "cell_type": "markdown",
   "metadata": {},
   "source": [
    "Finally we can call the minimizer."
   ]
  },
  {
   "cell_type": "code",
   "execution_count": 25,
   "metadata": {},
   "outputs": [
    {
     "name": "stdout",
     "output_type": "stream",
     "text": [
      "     fun: -680.555555555548\n",
      "     jac: array([-38.88889313, -17.5       ])\n",
      " message: 'Optimization terminated successfully'\n",
      "    nfev: 12\n",
      "     nit: 4\n",
      "    njev: 4\n",
      "  status: 0\n",
      " success: True\n",
      "       x: array([17.49999818, 38.88889293])\n"
     ]
    }
   ],
   "source": [
    "r = minimize(of, x0, bounds=bounds, constraints=constraints)\n",
    "print (r)"
   ]
  },
  {
   "cell_type": "markdown",
   "metadata": {},
   "source": [
    "So the field will come out $17.5$ m long and $38.9$ m wide.\n",
    "\n",
    "## Local Minima"
   ]
  },
  {
   "cell_type": "code",
   "execution_count": 10,
   "metadata": {},
   "outputs": [],
   "source": [
    "import numpy as np\n",
    "from math import pi\n",
    "\n",
    "def func(x):\n",
    "    return np.cos(3*pi*x)/x"
   ]
  },
  {
   "cell_type": "code",
   "execution_count": 11,
   "metadata": {},
   "outputs": [
    {
     "name": "stdout",
     "output_type": "stream",
     "text": [
      "      fun: array([-1.00569871])\n",
      " hess_inv: <1x1 LbfgsInvHessProduct with dtype=float64>\n",
      "      jac: array([-4.4408921e-07])\n",
      "  message: b'CONVERGENCE: NORM_OF_PROJECTED_GRADIENT_<=_PGTOL'\n",
      "     nfev: 16\n",
      "      nit: 5\n",
      "   status: 0\n",
      "  success: True\n",
      "        x: array([0.98865633])\n"
     ]
    }
   ],
   "source": [
    "from scipy.optimize import minimize\n",
    "x0 = [1.1]\n",
    "bounds = [(0.01, 2)]\n",
    "\n",
    "r = minimize(func, x0, bounds=bounds)\n",
    "print (r)"
   ]
  },
  {
   "cell_type": "code",
   "execution_count": 12,
   "metadata": {},
   "outputs": [
    {
     "name": "stdout",
     "output_type": "stream",
     "text": [
      "      fun: array([-3.17151711])\n",
      " hess_inv: <1x1 LbfgsInvHessProduct with dtype=float64>\n",
      "      jac: array([9.76996262e-07])\n",
      "  message: b'CONVERGENCE: NORM_OF_PROJECTED_GRADIENT_<=_PGTOL'\n",
      "     nfev: 16\n",
      "      nit: 5\n",
      "   status: 0\n",
      "  success: True\n",
      "        x: array([0.29691798])\n"
     ]
    }
   ],
   "source": [
    "from scipy.optimize import minimize\n",
    "x0 = [0.5]\n",
    "bounds = [(0.01, 2)]\n",
    "\n",
    "r = minimize(func, x0, bounds=bounds)\n",
    "print (r)"
   ]
  },
  {
   "cell_type": "markdown",
   "metadata": {},
   "source": [
    "<img src=\"local_minima.png\">"
   ]
  },
  {
   "cell_type": "markdown",
   "metadata": {},
   "source": [
    "### OIS Example\n",
    "Back to our Overnight Index Swap, the general idea here is to find the discount curve $\\mathcal{C}$ such that it prices as much correctly as possible each OIS by minimizing the sum of the squared NPVs (our $f_i$):\n",
    "\n",
    "$$\\mathrm{min}_{\\mathcal{C}} \\Big\\{\\sum_{i=1}^{n}\\mathrm{NPV}^2(\\mathrm{OIS}_i, \\mathcal{C})\\Big\\}$$\n",
    "\n",
    "A discount curve is characterized by pillar dates and the corresponding discount factors. The description of the problem we have given above does not, in theory, specifies any constraint on the number of pillar dates of the discount curve $\\mathcal{C}$ we are going to find.\n",
    "However, the pillar dates determine the number of unknown variables (i.e.~the dimensionality $N$ of the optimization problem). A curve with $N$ pillar dates has also $N$ discount factors (note that the first discount factor with value date equal to the today date, is constrained to 1). **In practice, therefore, it makes sense to choose the pillar dates in such a way that there are exactly the right number of degrees of freedom in the optimization to match data, so equal number of pillars and market quotes.** Hence the natural choice is to choose the pillar dates of the discount curve equal to the set of expiry dates of the swaps.\n",
    "\n",
    "Once we've fixed $\\mathbf{d}$ to be a vector of pillar dates equal to the expiry dates of the OIS swaps, and we use the notation $\\mathbf{x}$ to represent the vector of unknown pillar discount factors, then the problem becomes:\n",
    "\n",
    "$$ F= \\mathrm{min}_{\\mathbf{x}} \\Big\\{\\sum_{i=1}^{N}\\mathrm{NPV}^2(\\mathrm{OIS}_i, \\mathcal{C}(\\mathbf{d}, \\mathbf{x}))\\Big\\}\\qquad (f_i^2 = \\mathrm{NPV}^2(\\mathrm{OIS}_i, \\mathcal{C}(\\mathbf{d}, \\mathbf{x})))$$\n",
    "which is our optimization problem (**to find the minimum of the above expression as a function of x**) that can be solved as before using the available numerical optimization routines in $\\tt{python}$.\n",
    "\n",
    "So first let's create the swaps according to all the available market quotes and also the pillar dates of our final discount curve:"
   ]
  },
  {
   "cell_type": "code",
   "execution_count": 56,
   "metadata": {},
   "outputs": [],
   "source": [
    "from finmarkets import generate_dates\n",
    "\n",
    "# creates the OIS from market quotes\n",
    "observation_date = date.today()\n",
    "pillar_dates = [observation_date]\n",
    "swaps = [] # container of the OIS objects \n",
    "for i in range(len(mq)):\n",
    "    swap = OvernightIndexSwap(1e6,\n",
    "                              generate_dates(observation_date,\n",
    "                                                 mq['months'].tolist()[i]),\n",
    "                              0.01*mq['quote'].tolist()[i])\n",
    "    pillar_dates.append(swap.payment_dates[-1])\n",
    "    swaps.append(swap)"
   ]
  },
  {
   "cell_type": "markdown",
   "metadata": {},
   "source": [
    "So implement the method to the swaps we have just created.\n",
    "\n",
    "* define the objective function: the sum of the squared NPVs of the OIS "
   ]
  },
  {
   "cell_type": "code",
   "execution_count": 57,
   "metadata": {},
   "outputs": [],
   "source": [
    "# define objective function\n",
    "import numpy as np\n",
    "from finmarkets import DiscountCurve\n",
    "\n",
    "def objective_function(x):\n",
    "    curve = DiscountCurve(observation_date,\n",
    "                         pillar_dates,\n",
    "                         x)\n",
    "    s = 0\n",
    "    for swap in swaps:\n",
    "        s += swap.npv(curve)**2\n",
    "    return s"
   ]
  },
  {
   "cell_type": "markdown",
   "metadata": {},
   "source": [
    "* set the initial value of the discount factors ($x_i$) to 1 with a range of variability $[ 0.01, 10]$, in addition the first element of the list, today’s discount factor, will be fixed to 1 (variability $[1, 1]$)"
   ]
  },
  {
   "cell_type": "code",
   "execution_count": 58,
   "metadata": {},
   "outputs": [],
   "source": [
    "# set boundaries and guess values\n",
    "x0 = [1 for _ in range(len(pillar_dates))]\n",
    "bounds = [(0.01, 10) for _ in range(len(pillar_dates))]\n",
    "bounds[0] = (1, 1)"
   ]
  },
  {
   "cell_type": "markdown",
   "metadata": {},
   "source": [
    "* finally we can launch the minimizer to find the discount factors ($\\mathbf{x}$)"
   ]
  },
  {
   "cell_type": "code",
   "execution_count": 59,
   "metadata": {},
   "outputs": [
    {
     "name": "stdout",
     "output_type": "stream",
     "text": [
      "   direc: array([[ 1.00000000e+00,  0.00000000e+00,  0.00000000e+00, ...,\n",
      "         0.00000000e+00,  0.00000000e+00,  0.00000000e+00],\n",
      "       [ 0.00000000e+00,  1.00000000e+00,  0.00000000e+00, ...,\n",
      "         0.00000000e+00,  0.00000000e+00,  0.00000000e+00],\n",
      "       [ 0.00000000e+00,  0.00000000e+00,  1.00000000e+00, ...,\n",
      "         0.00000000e+00,  0.00000000e+00,  0.00000000e+00],\n",
      "       ...,\n",
      "       [ 0.00000000e+00, -1.66826121e-14,  1.66826121e-14, ...,\n",
      "        -8.86208104e-07,  8.81526113e-06, -7.54821657e-07],\n",
      "       [ 0.00000000e+00,  1.24936936e-13,  1.98973639e-13, ...,\n",
      "         5.22337614e-06,  3.37049121e-07, -2.98916112e-07],\n",
      "       [ 0.00000000e+00, -9.17545888e-15, -1.12278642e-14, ...,\n",
      "         1.83941064e-08, -1.51642647e-08, -9.94543774e-09]])\n",
      "     fun: array(80.45402063)\n",
      " message: 'Optimization terminated successfully.'\n",
      "    nfev: 4140\n",
      "     nit: 18\n",
      "  status: 0\n",
      " success: True\n",
      "       x: array([1.        , 1.00029175, 1.00058832, 1.00088044, 1.00118752,\n",
      "       1.00148972, 1.00176787, 1.00207128, 1.00236508, 1.00266885,\n",
      "       1.002963  , 1.0032578 , 1.00356136, 1.00444991, 1.00529984,\n",
      "       1.00614269, 1.00693073, 1.00907045, 1.00931993, 1.00710124,\n",
      "       1.00189872, 0.99379275, 0.98332974, 0.97101001, 0.95723162,\n",
      "       0.94267503, 0.9277256 , 0.8831291 , 0.81781096, 0.76554623,\n",
      "       0.71988353, 0.64350526, 0.5928188 , 0.54546435])\n"
     ]
    }
   ],
   "source": [
    "# minimize\n",
    "r = minimize(objective_function, x0, bounds=bounds, method=\"Powell\")\n",
    "print (r)"
   ]
  },
  {
   "cell_type": "markdown",
   "metadata": {},
   "source": [
    "Some diagnostic number/plot."
   ]
  },
  {
   "cell_type": "code",
   "execution_count": 60,
   "metadata": {},
   "outputs": [
    {
     "name": "stdout",
     "output_type": "stream",
     "text": [
      "1055848739798.0426\n",
      "80.45402063265621\n"
     ]
    }
   ],
   "source": [
    "# print initial and final objective function values\n",
    "print (objective_function(x0))\n",
    "print (objective_function(r.x))"
   ]
  },
  {
   "cell_type": "markdown",
   "metadata": {},
   "source": [
    "<img src=\"obj_func.png\" width=600>\n",
    "<img src=\"obj_func_iter.png\" width=600>"
   ]
  },
  {
   "cell_type": "markdown",
   "metadata": {},
   "source": [
    "Finally we can create the discount curve implied by the market quote of our swaps. \n",
    "\n",
    "$$ \\mathrm{df} = e^{-rt} \\quad\\implies \\mathrm{log(df)} = -rt\\quad\\implies r = -\\mathrm{log(df)}/t$$"
   ]
  },
  {
   "cell_type": "code",
   "execution_count": 61,
   "metadata": {},
   "outputs": [
    {
     "name": "stdout",
     "output_type": "stream",
     "text": [
      "0.010768092001754373\n"
     ]
    }
   ],
   "source": [
    "# create the discount curve with our factors\n",
    "from math import log\n",
    "\n",
    "curve = DiscountCurve(observation_date, pillar_dates, r.x)\n",
    "# find 40y implied rate\n",
    "\n",
    "rate = -log(curve.df(date(2060, 10, 21)))/40\n",
    "print (rate)"
   ]
  },
  {
   "cell_type": "code",
   "execution_count": 63,
   "metadata": {},
   "outputs": [
    {
     "data": {
      "image/png": "[encoded data removed]",
      "text/plain": [
       "<Figure size 432x288 with 1 Axes>"
      ]
     },
     "metadata": {
      "needs_background": "light"
     },
     "output_type": "display_data"
    }
   ],
   "source": [
    "from matplotlib import pyplot as plt\n",
    "\n",
    "plt.plot(pillar_dates, r.x)\n",
    "plt.grid(True)\n",
    "plt.ylim(0.4, 1.1)\n",
    "plt.show()"
   ]
  }
 ],
 "metadata": {
  "kernelspec": {
   "display_name": "Python 3 (ipykernel)",
   "language": "python",
   "name": "python3"
  },
  "language_info": {
   "codemirror_mode": {
    "name": "ipython",
    "version": 3
   },
   "file_extension": ".py",
   "mimetype": "text/x-python",
   "name": "python",
   "nbconvert_exporter": "python",
   "pygments_lexer": "ipython3",
   "version": "3.8.10"
  }
 },
 "nbformat": 4,
 "nbformat_minor": 4
}
