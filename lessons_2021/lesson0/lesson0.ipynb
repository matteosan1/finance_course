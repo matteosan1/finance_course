{
 "cells": [
  {
   "cell_type": "markdown",
   "id": "3a856c62",
   "metadata": {},
   "source": [
    "## Introduction\n",
    "\n",
    "In this first lesson we cover topics that will be useful for the rest of the course. So today we will deal with various small arguments, rather than a big one.\n",
    "\n",
    "### Why Python \n",
    "First of all few words on why we are concentrating on $\\tt{python}$. \n",
    "\n",
    "In short, python is widely used even when it is somehow slower than other languages\n",
    "because:\n",
    "* is more productive; it is a very concise and expressive language and requires little time, effort, and lines of code to perform the same operations than with other languages;\n",
    "* rich set of libraries and frameworks, maintained by a large community of users.\n",
    "\n",
    "But unfortunately not all that glitters is gold !\n",
    "\n",
    "Python is a so called interpreted language: it takes some code (a sequence of instructions), reads and executes it. \n",
    "This is different from other programming languages like C or C++ which compile code into a language that computers can understand directly (machine language). \n",
    "\n",
    "![](compiled_language.png)\n",
    "\n",
    "As a result, python is essentially an interactive programming language, which means you can program and see the results almost at the same time. This is very nice for a faster development since \"compilation\" time can be quite long (just to give an idea the compilation of our C++ financial code takes more than one hour). \n",
    "\n",
    "However there are drawbacks in term of performance, the translation to machine language has to be done in real-time resulting in slower execution times.\n",
    "\n",
    "![](machine_language.png)\n",
    "\n",
    "The first few Chapters of the lecture notes cover the main features and characteristics of this programming language. \n",
    "\n",
    "\n",
    "As you probably know $\\tt{python}$ is available in various versions (flavours), we are going to use the 3.X. It is not mandatory to use the exact same version,\n",
    "most of those available in the 3 series should be OK.\n"
   ]
  },
  {
   "cell_type": "markdown",
   "id": "appointed-pakistan",
   "metadata": {},
   "source": [
    "## Data Analysis\n",
    "\n",
    "The very first step of every analysis is data collection. There are many $\\tt{python}$ modules to fetch financial data, here we will use $\\tt{yfinance}$ which is based on the YahooFinance database. (More details on this module in the lecture notes)."
   ]
  },
  {
   "cell_type": "code",
   "execution_count": 5,
   "id": "loved-collective",
   "metadata": {},
   "outputs": [
    {
     "name": "stdout",
     "output_type": "stream",
     "text": [
      "                  Open        High         Low       Close    Volume  \\\n",
      "Date                                                                   \n",
      "2019-12-31  154.118588  155.101675  153.803993  155.032852  18369400   \n",
      "2020-01-02  156.094611  158.011628  155.652225  157.903488  22622100   \n",
      "2020-01-03  155.642372  157.244794  155.386760  155.937286  21116200   \n",
      "2020-01-06  154.423330  156.409171  153.862963  156.340347  20813700   \n",
      "2020-01-07  156.625448  156.969520  154.659274  154.914871  21634100   \n",
      "\n",
      "            Dividends  Stock Splits  \n",
      "Date                                 \n",
      "2019-12-31        0.0             0  \n",
      "2020-01-02        0.0             0  \n",
      "2020-01-03        0.0             0  \n",
      "2020-01-06        0.0             0  \n",
      "2020-01-07        0.0             0  \n"
     ]
    }
   ],
   "source": [
    "import yfinance as yf\n",
    " \n",
    "proxy = yf.Ticker('MSFT')\n",
    "data = proxy.history(start=\"2020-01-01\", end=\"2021-08-10\") \n",
    "\n",
    "print (data.head())"
   ]
  },
  {
   "cell_type": "markdown",
   "id": "intensive-swift",
   "metadata": {},
   "source": [
    "The $\\tt{history}$ method returns a $\\tt{pandas}$ dataframe which then can be easily manipulated."
   ]
  },
  {
   "cell_type": "code",
   "execution_count": 49,
   "id": "caring-backup",
   "metadata": {},
   "outputs": [
    {
     "data": {
      "text/plain": [
       "{'zip': '98052-6399',\n",
       " 'sector': 'Technology',\n",
       " 'fullTimeEmployees': 181000,\n",
       " 'longBusinessSummary': 'Microsoft Corporation develops, licenses, and supports software, services, devices, and solutions worldwide. Its Productivity and Business Processes segment offers Office, Exchange, SharePoint, Microsoft Teams, Office 365 Security and Compliance, and Skype for Business, as well as related Client Access Licenses (CAL); Skype, Outlook.com, OneDrive, and LinkedIn; and Dynamics 365, a set of cloud-based and on-premises business solutions for organizations and enterprise divisions. Its Intelligent Cloud segment licenses SQL, Windows Servers, Visual Studio, System Center, and related CALs; GitHub that provides a collaboration platform and code hosting service for developers; and Azure, a cloud platform. It also offers support services and Microsoft consulting services to assist customers in developing, deploying, and managing Microsoft server and desktop solutions; and training and certification on Microsoft products. Its More Personal Computing segment provides Windows original equipment manufacturer (OEM) licensing and other non-volume licensing of the Windows operating system; Windows Commercial, such as volume licensing of the Windows operating system, Windows cloud services, and other Windows commercial offerings; patent licensing; Windows Internet of Things; and MSN advertising. It also offers Surface, PC accessories, PCs, tablets, gaming and entertainment consoles, and other devices; Gaming, including Xbox hardware, and Xbox content and services; video games and third-party video game royalties; and Search, including Bing and Microsoft advertising. It sells its products through OEMs, distributors, and resellers; and directly through digital marketplaces, online stores, and retail stores. It has collaborations with Dynatrace, Inc., Morgan Stanley, Micro Focus, WPP plc, ACI Worldwide, Inc., and iCIMS, Inc., as well as a strategic relationship with Avaya Holdings Corp. Microsoft Corporation was founded in 1975 and is headquartered in Redmond, Washington.',\n",
       " 'city': 'Redmond',\n",
       " 'phone': '425 882 8080',\n",
       " 'state': 'WA',\n",
       " 'country': 'United States',\n",
       " 'companyOfficers': [],\n",
       " 'website': 'http://www.microsoft.com',\n",
       " 'maxAge': 1,\n",
       " 'address1': 'One Microsoft Way',\n",
       " 'industry': 'Software—Infrastructure',\n",
       " 'ebitdaMargins': 0.48080003,\n",
       " 'profitMargins': 0.36451998,\n",
       " 'grossMargins': 0.68926,\n",
       " 'operatingCashflow': 76740001792,\n",
       " 'revenueGrowth': 0.213,\n",
       " 'operatingMargins': 0.41595,\n",
       " 'ebitda': 80815996928,\n",
       " 'targetLowPrice': 275,\n",
       " 'recommendationKey': 'buy',\n",
       " 'grossProfits': 115856000000,\n",
       " 'freeCashflow': 41337249792,\n",
       " 'targetMedianPrice': 330,\n",
       " 'currentPrice': 295.71,\n",
       " 'earningsGrowth': 0.486,\n",
       " 'currentRatio': 2.08,\n",
       " 'returnOnAssets': 0.13761,\n",
       " 'numberOfAnalystOpinions': 33,\n",
       " 'targetMeanPrice': 329.18,\n",
       " 'debtToEquity': 57.947,\n",
       " 'returnOnEquity': 0.47079,\n",
       " 'targetHighPrice': 411,\n",
       " 'totalCash': 130256003072,\n",
       " 'totalDebt': 82277998592,\n",
       " 'totalRevenue': 168087994368,\n",
       " 'totalCashPerShare': 17.333,\n",
       " 'financialCurrency': 'USD',\n",
       " 'revenuePerShare': 22.272,\n",
       " 'quickRatio': 1.898,\n",
       " 'recommendationMean': 1.6,\n",
       " 'exchange': 'NMS',\n",
       " 'shortName': 'Microsoft Corporation',\n",
       " 'longName': 'Microsoft Corporation',\n",
       " 'exchangeTimezoneName': 'America/New_York',\n",
       " 'exchangeTimezoneShortName': 'EDT',\n",
       " 'isEsgPopulated': False,\n",
       " 'gmtOffSetMilliseconds': '-14400000',\n",
       " 'quoteType': 'EQUITY',\n",
       " 'symbol': 'MSFT',\n",
       " 'messageBoardId': 'finmb_21835',\n",
       " 'market': 'us_market',\n",
       " 'annualHoldingsTurnover': None,\n",
       " 'enterpriseToRevenue': 12.935,\n",
       " 'beta3Year': None,\n",
       " 'enterpriseToEbitda': 26.904,\n",
       " '52WeekChange': 0.43960857,\n",
       " 'morningStarRiskRating': None,\n",
       " 'forwardEps': 10.09,\n",
       " 'revenueQuarterlyGrowth': None,\n",
       " 'sharesOutstanding': 7514890240,\n",
       " 'fundInceptionDate': None,\n",
       " 'annualReportExpenseRatio': None,\n",
       " 'totalAssets': None,\n",
       " 'bookValue': 18.884,\n",
       " 'sharesShort': 41985444,\n",
       " 'sharesPercentSharesOut': 0.0056,\n",
       " 'fundFamily': None,\n",
       " 'lastFiscalYearEnd': 1625011200,\n",
       " 'heldPercentInstitutions': 0.71723,\n",
       " 'netIncomeToCommon': 61270999040,\n",
       " 'trailingEps': 8.05,\n",
       " 'lastDividendValue': None,\n",
       " 'SandP52WeekChange': 0.31772637,\n",
       " 'priceToBook': 15.659287,\n",
       " 'heldPercentInsiders': 0.00078,\n",
       " 'nextFiscalYearEnd': 1688083200,\n",
       " 'yield': None,\n",
       " 'mostRecentQuarter': 1625011200,\n",
       " 'shortRatio': 1.94,\n",
       " 'sharesShortPreviousMonthDate': 1626307200,\n",
       " 'floatShares': 7506925463,\n",
       " 'beta': 0.77893,\n",
       " 'enterpriseValue': 2174250516480,\n",
       " 'priceHint': 2,\n",
       " 'threeYearAverageReturn': None,\n",
       " 'lastSplitDate': None,\n",
       " 'lastSplitFactor': None,\n",
       " 'legalType': None,\n",
       " 'lastDividendDate': None,\n",
       " 'morningStarOverallRating': None,\n",
       " 'earningsQuarterlyGrowth': 0.469,\n",
       " 'priceToSalesTrailing12Months': 13.220624,\n",
       " 'dateShortInterest': 1628812800,\n",
       " 'pegRatio': 2.24,\n",
       " 'ytdReturn': None,\n",
       " 'forwardPE': 29.307234,\n",
       " 'lastCapGain': None,\n",
       " 'shortPercentOfFloat': 0.0056,\n",
       " 'sharesShortPriorMonth': 56416544,\n",
       " 'impliedSharesOutstanding': None,\n",
       " 'category': None,\n",
       " 'fiveYearAverageReturn': None,\n",
       " 'previousClose': 297.25,\n",
       " 'regularMarketOpen': 298.415,\n",
       " 'twoHundredDayAverage': 263.07806,\n",
       " 'trailingAnnualDividendYield': 0.0075357445,\n",
       " 'payoutRatio': 0.272,\n",
       " 'volume24Hr': None,\n",
       " 'regularMarketDayHigh': 299.92,\n",
       " 'navPrice': None,\n",
       " 'averageDailyVolume10Day': 17134516,\n",
       " 'regularMarketPreviousClose': 297.25,\n",
       " 'fiftyDayAverage': 294.28235,\n",
       " 'trailingAnnualDividendRate': 2.24,\n",
       " 'open': 298.415,\n",
       " 'toCurrency': None,\n",
       " 'averageVolume10days': 17134516,\n",
       " 'expireDate': None,\n",
       " 'algorithm': None,\n",
       " 'dividendRate': 2.24,\n",
       " 'exDividendDate': 1629244800,\n",
       " 'circulatingSupply': None,\n",
       " 'startDate': None,\n",
       " 'regularMarketDayLow': 295.39,\n",
       " 'currency': 'USD',\n",
       " 'trailingPE': 36.73416,\n",
       " 'regularMarketVolume': 19633363,\n",
       " 'lastMarket': None,\n",
       " 'maxSupply': None,\n",
       " 'openInterest': None,\n",
       " 'marketCap': 2222228242432,\n",
       " 'volumeAllCurrencies': None,\n",
       " 'strikePrice': None,\n",
       " 'averageVolume': 22127698,\n",
       " 'dayLow': 295.39,\n",
       " 'ask': 295.3,\n",
       " 'askSize': 800,\n",
       " 'volume': 19633363,\n",
       " 'fiftyTwoWeekHigh': 305.84,\n",
       " 'fromCurrency': None,\n",
       " 'fiveYearAvgDividendYield': 1.51,\n",
       " 'fiftyTwoWeekLow': 196.25,\n",
       " 'bid': 295.21,\n",
       " 'tradeable': False,\n",
       " 'dividendYield': 0.0076,\n",
       " 'bidSize': 900,\n",
       " 'dayHigh': 299.92,\n",
       " 'regularMarketPrice': 295.71,\n",
       " 'logo_url': 'https://logo.clearbit.com/microsoft.com'}"
      ]
     },
     "execution_count": 49,
     "metadata": {},
     "output_type": "execute_result"
    }
   ],
   "source": [
    "proxy.info"
   ]
  },
  {
   "cell_type": "code",
   "execution_count": 12,
   "id": "8233e593",
   "metadata": {},
   "outputs": [
    {
     "data": {
      "text/plain": [
       "181000"
      ]
     },
     "execution_count": 12,
     "metadata": {},
     "output_type": "execute_result"
    }
   ],
   "source": [
    "proxy.info['fullTimeEmployees']"
   ]
  },
  {
   "cell_type": "markdown",
   "id": "alive-hydrogen",
   "metadata": {},
   "source": [
    "Another important aspect of an analysis is data representation. In order to plot data we are going to use the $\\tt{matplotlib}$ module. Below a simple example although more details are available in the notes."
   ]
  },
  {
   "cell_type": "code",
   "execution_count": 7,
   "id": "opening-session",
   "metadata": {},
   "outputs": [
    {
     "data": {
      "image/png": "[encoded data removed]",
      "text/plain": [
       "<Figure size 432x288 with 1 Axes>"
      ]
     },
     "metadata": {
      "needs_background": "light"
     },
     "output_type": "display_data"
    }
   ],
   "source": [
    "from matplotlib import pyplot as plt\n",
    "import matplotlib.dates as mdates\n",
    "\n",
    "xd = data.index\n",
    "yd = data['Close']\n",
    "plt.gca().xaxis.set_major_formatter(mdates.DateFormatter('%m/%Y')) \n",
    "plt.gca().xaxis.set_major_locator(mdates.MonthLocator())\n",
    "plt.plot(xd, yd)\n",
    "plt.grid(True)\n",
    "plt.xticks(rotation=45)\n",
    "plt.show()"
   ]
  },
  {
   "cell_type": "code",
   "execution_count": 8,
   "id": "super-documentation",
   "metadata": {},
   "outputs": [
    {
     "data": {
      "image/png": "[encoded data removed]",
      "text/plain": [
       "<Figure size 432x288 with 1 Axes>"
      ]
     },
     "metadata": {
      "needs_background": "light"
     },
     "output_type": "display_data"
    }
   ],
   "source": [
    "from scipy.stats import norm\n",
    "import numpy\n",
    "\n",
    "returns = data['Close'].pct_change()\n",
    "\n",
    "plt.hist(returns, bins=40, range=(-0.10, 0.10))\n",
    "plt.xticks(rotation=45)\n",
    "plt.grid(True)\n",
    "plt.show()"
   ]
  },
  {
   "cell_type": "code",
   "execution_count": 11,
   "id": "aware-provision",
   "metadata": {},
   "outputs": [
    {
     "name": "stdout",
     "output_type": "stream",
     "text": [
      "0.001803585275647851\n"
     ]
    }
   ],
   "source": [
    "print (returns.mean())"
   ]
  },
  {
   "cell_type": "markdown",
   "id": "ef8c9fda",
   "metadata": {},
   "source": [
    "A stock price is a nice example of random variable..."
   ]
  },
  {
   "cell_type": "markdown",
   "id": "induced-lancaster",
   "metadata": {},
   "source": [
    "## Random Variable\n",
    "\n",
    "In probability and statistics a random variable is described as a variable whose values depend on outcomes of a random phenomenon. \n",
    "\n",
    "For example, in the event of a coin toss, only two outcomes are possible: heads or tails. If instead the random variable is designated to represent the sum of the resulting numbers after three dice are rolled, it could be 3 (1+1+1), 18 (6+6+6), or somewhere between 3 and 18.\n",
    "\n",
    "A random variable is required to be measurable, which allows for probabilities to be assigned to sets of its potential values.\n",
    "\n",
    "A random variable is different from an algebraic variable. The variable in an algebraic equation is an unknown value that can be calculated. The equation $10 + x = 13$ shows that we can calculate the specific value for $x$ which is 3. On the other hand, a random variable has a set of values, and any of those values could be the resulting outcome each of them with a certain probability.\n",
    "\n",
    "![pippo](random_process.png)\n",
    "\n",
    "In the corporate world, random variables can be assigned to properties such as the average price of an asset over a given time period, the return on investment after a specified number of years, the estimated turnover rate at a company within the following six months, etc. Risk analysts assign random variables to risk models when they want to estimate the probability of an adverse event occurring.\n",
    "\n",
    "When the range of possible values for $X$ is un-countably infinite then it is called a continuous random variable and its distribution can be described by a probability density function (PDF). Contrary if the range is countable, the random variable is called a discrete random variable and its distribution can be interpreted as a discrete probability distribution.\n",
    "\n",
    "![pippo](pdf_pmf.png)"
   ]
  },
  {
   "cell_type": "code",
   "execution_count": 2,
   "id": "unauthorized-repeat",
   "metadata": {},
   "outputs": [
    {
     "name": "stdout",
     "output_type": "stream",
     "text": [
      "0.3989422804014327\n"
     ]
    }
   ],
   "source": [
    "from scipy.stats import norm\n",
    "\n",
    "print (norm.pdf(0))"
   ]
  },
  {
   "cell_type": "markdown",
   "id": "solar-pierce",
   "metadata": {},
   "source": [
    "The probability density function is non-negative everywhere, and its integral over the entire space is equal to 1. "
   ]
  },
  {
   "cell_type": "markdown",
   "id": "dramatic-outline",
   "metadata": {},
   "source": [
    "## CDF and Quantiles\n",
    "\n",
    "The cumulative distribution function (CDF) $F$ of a random variable $X$, evaluated at $x$, is the probability that $X$ will take a value less than or equal to $x$\n",
    "\n",
    "$$F_X(x) = Pr(X\\leq x) = \\int_{-\\infty}^{x} f(x)dx$$\n",
    "\n",
    "$$Pr(a \\leq X\\leq b) = \\int_{a}^{b} f(x)dx$$\n",
    "\n",
    "The quantile function $Q$, associated with a probability distribution of a random variable, specifies the value $x$ of the random variable such that the probability $p$ of the variable being less than or equal to that value equals the given probability. It is also called the percent-point function (PPF) or inverse cumulative distribution.\n",
    "\n",
    "In terms of the cumulative distribution function $F$, the quantile function $Q$ returns the value $x_p$ such that\n",
    "\n",
    "$$F_X(x_p) = P(X \\leq x_p) = p$$\n",
    "\n",
    "So the quantile function does the \"inverse\" of the cumulative distribution function: given a\n",
    "probability $p$ (or a value of the CDF) it returns the $x$ at which the CDF reaches this probability.\n",
    "\n",
    "![pippo](percentile.png)"
   ]
  },
  {
   "cell_type": "code",
   "execution_count": 5,
   "id": "extraordinary-negative",
   "metadata": {},
   "outputs": [
    {
     "name": "stdout",
     "output_type": "stream",
     "text": [
      "30%−quantile of standard normal is -0.5244\n",
      "CDF value at -0.5244: 0.3000\n"
     ]
    }
   ],
   "source": [
    "quantile = norm.ppf(0.3)\n",
    "cdf = norm.cdf(quantile)\n",
    "print (\"30%−quantile of standard normal is {:.4f}\".format(quantile)) \n",
    "print (\"CDF value at {:.4f}: {:.4f}\".format(quantile, cdf))"
   ]
  },
  {
   "cell_type": "markdown",
   "id": "naked-winning",
   "metadata": {},
   "source": [
    "If instead of a distribution you have a dataset the quantile can be determined using the\n",
    "function $\\tt{numpy.percentile}$ (this will be useful when estimating VaR). Notice that in this case\n",
    "we are talking about percentile which is the quantile times 100 (e.g. 50-percentile is equivalent to the 0.5-quantile)"
   ]
  },
  {
   "cell_type": "code",
   "execution_count": 6,
   "id": "neither-jaguar",
   "metadata": {},
   "outputs": [
    {
     "name": "stdout",
     "output_type": "stream",
     "text": [
      "[1.08 5.  ]\n"
     ]
    }
   ],
   "source": [
    "import numpy\n",
    "dist = [1, 2, 3, 4, 5, 6, 7, 8, 9]\n",
    "\n",
    "# first argument the data−set\n",
    "# second argument a list of percentiles \n",
    "perc = numpy.percentile(dist, [1, 50]) \n",
    "print (perc)"
   ]
  },
  {
   "cell_type": "markdown",
   "id": "challenging-vitamin",
   "metadata": {},
   "source": [
    "### Expected Value\n",
    "\n",
    "The outcomes of a random variable $X$ are connected to probabilities, hence in order to evaluate $X$ all the possibilities need to be taken into account. This is done with the \\emph{expected value} which is a generalization of the weighted average, and is intuitively the arithmetic mean of a large number of independent realizations of $X$.\n",
    "\n",
    "#### Discrete Case\n",
    "Let $X$ be a random variable with a finite number of finite outcomes ($x_1, x_2, \\ldots , x_k$) occurring with probabilities ($p_1, p_2, \\ldots , p_k$) respectively. The expectation of $X$ is then defined as\n",
    "\n",
    "$$\\mathbb{E}[X] = \\sum_{i=1}^{k} x_i p_i = x_1 p_1 + x_2 p_2 +\\ldots+x_kp_k$$\n",
    "\n",
    "As an example let $X$ represents the outcome of a roll of a fair six-sided die. The possible values for $X$ are 1, 2, 3, 4, 5, and 6, all of which are equally likely with probability 1/6.\n",
    "The expectation of $X$ is then\n",
    "\n",
    "$$\\mathbb{E}[X]= 1\\cdot 1/6 +2\\cdot 1/6+3\\cdot 1/6+4\\cdot 1/6+5\\cdot 1/6+6\\cdot 1/6$$"
   ]
  },
  {
   "cell_type": "code",
   "execution_count": 7,
   "id": "elegant-powder",
   "metadata": {},
   "outputs": [
    {
     "name": "stdout",
     "output_type": "stream",
     "text": [
      "3.5\n"
     ]
    }
   ],
   "source": [
    "prob = 1/6\n",
    "expectation = 0\n",
    "for i in range(1, 7):\n",
    "    expectation += i*prob\n",
    "    \n",
    "print (expectation)"
   ]
  },
  {
   "cell_type": "markdown",
   "id": "located-constant",
   "metadata": {},
   "source": [
    "### Continuous Case\n",
    "\n",
    "If $X$ is a random variable with a probability density function of $f (x)$, then the expected value is defined as\n",
    "\n",
    "$$\\mathbb{E}[X] = \\int_{\\Omega} x\\cdot f(x) dx$$\n",
    "\n",
    "$\\Omega$ represents the space of all the possible values taken by $x$."
   ]
  },
  {
   "cell_type": "markdown",
   "id": "iraqi-parking",
   "metadata": {},
   "source": [
    "## Time Value of Money and Discounting\n",
    "A bank offers a guaranteed return of 10% on whichever amount of money I put in my account as long as that amount stays in the account for one full year. I know that I would need 11000 dollars at the end of one year to buy something. \n",
    "What do I need to put in today, so that the $X$ amount (principal) @ 10% a year will grow up to 11000 at the end of year one?\n",
    "\n",
    "We know that at 10%, a dollar today grows to\n",
    "\n",
    "\\begin{equation*}\n",
    "1 \\cdot (1 + 10\\%) = 1.1\n",
    "\\end{equation*}\n",
    "\n",
    "If we invert this equation the needed investment $X$ can be found:\n",
    "\n",
    "\\begin{equation*}\n",
    "X \\cdot (1 + 10\\%) = 11000\\\\\n",
    "X = 11000 / (1 + 10\\%)\n",
    "\\end{equation*}"
   ]
  },
  {
   "cell_type": "code",
   "execution_count": 1,
   "id": "crucial-flush",
   "metadata": {},
   "outputs": [
    {
     "data": {
      "text/plain": [
       "10000.0"
      ]
     },
     "execution_count": 1,
     "metadata": {},
     "output_type": "execute_result"
    }
   ],
   "source": [
    "11000/(1+0.1)"
   ]
  },
  {
   "cell_type": "markdown",
   "id": "clear-amazon",
   "metadata": {},
   "source": [
    "What this says is that to have 11000 dollars one year from now, we need 10000 dollars at an interest rate of 10% today.\n",
    "What about 11000 dollars two years from now ? Taking the approach used above\n",
    "\n",
    "\\begin{equation*}\n",
    "X = 11000 / \\left((1 + 10\\%) \\cdot (1 + 10\\%)\\right) =  11000/(1+10\\%)^ 2\n",
    "\\end{equation*}"
   ]
  },
  {
   "cell_type": "code",
   "execution_count": 2,
   "id": "formed-ballot",
   "metadata": {},
   "outputs": [
    {
     "data": {
      "text/plain": [
       "9090.90909090909"
      ]
     },
     "execution_count": 2,
     "metadata": {},
     "output_type": "execute_result"
    }
   ],
   "source": [
    "11000/(1+0.1)**2"
   ]
  },
  {
   "cell_type": "markdown",
   "id": "round-emerald",
   "metadata": {},
   "source": [
    "Which means the 11000 dollars we need two years from now are valued about 9090 dollars today.\n",
    "\n",
    "What we have just done above is called *discounting*. We are adjusting (i.e. discounting) the value of a payment that will be received at a point in future. Therefore, we are discounting back a future value to bring it to its present value. The rate used to adjust the future payment is called the *discount rate*.\n",
    "\n",
    "The idea behind discounting is also known as time value of money. Since a dollar at a fixed interest rate will grow in any bank account at that certain rate, if it is invested in an alternate opportunity, it should at least earn that rate from the other alternative to even consider the alternative worth thinking about. Discounting adjusts future payments, investment returns and even return of principal on this basis. The bottom line is that if you fail to earn the discount rate, you have actually lost money, since any bank, would at least have given you the discount rate as return for depositing your money with them. Anything less than that would mean that you have not put your money to its best use.\n",
    "\n",
    "When we calculate the value of future payments today, we are doing a *present value* (NPV or PV) calculation. When we calculate the value of anything in the future we do a *future value* calculation.\n",
    "\n",
    "A positive NPV denotes that at a certain cost of capital the returns or inflows from an investment opportunity outweigh the outflows or costs of investment, and vice versa. Obviously, when comparing various alternatives available for investment, the option with the most positive NPV or least negative NPV will be favoured or chosen. "
   ]
  },
  {
   "cell_type": "markdown",
   "id": "ordinary-brazil",
   "metadata": {},
   "source": [
    "As an example imagine that you have the chance to invest in a project, Ventures, Inc. that will pay 100 dollars in year 1, and 200 dollars in year 2. How much are you willing to pay for this opportunity ? (assume an annual discount rate of 10\\%).\n",
    "\n",
    "The answer to the question is that you will be willing to pay at most an amount that is equal to the present value of this stream of payments. To calculate the present value, you need to divide the payment by its respective discount factors ($D_n$ discount factor for year $n$).\n",
    "\n",
    "\\begin{equation}\n",
    "D_n = \\cfrac{1}{(1 + r)^n}\n",
    "\\end{equation}"
   ]
  },
  {
   "cell_type": "code",
   "execution_count": 13,
   "id": "smoking-likelihood",
   "metadata": {},
   "outputs": [
    {
     "name": "stdout",
     "output_type": "stream",
     "text": [
      "discount factor for year 1: 0.91\n",
      "discount factor for year 2: 0.83\n"
     ]
    }
   ],
   "source": [
    "d1 = 1/(1 + 0.1)**1\n",
    "d2 = 1/(1 + 0.1)**2\n",
    "\n",
    "print (\"discount factor for year 1: {:.2f}\".format(d1))\n",
    "print (\"discount factor for year 2: {:.2f}\".format(d2))"
   ]
  },
  {
   "cell_type": "code",
   "execution_count": 14,
   "id": "eleven-grammar",
   "metadata": {},
   "outputs": [
    {
     "name": "stdout",
     "output_type": "stream",
     "text": [
      "Total PV: 256.20$\n"
     ]
    }
   ],
   "source": [
    "pv = 100*d1 + 200*d2\n",
    "\n",
    "print (\"Total PV: {:.2f}$\".format(pv))"
   ]
  },
  {
   "cell_type": "markdown",
   "id": "pleased-shelf",
   "metadata": {},
   "source": [
    "Hence, you would be willing to pay 256.2 dollars for this opportunity."
   ]
  },
  {
   "cell_type": "markdown",
   "id": "excessive-allowance",
   "metadata": {},
   "source": [
    "If there are $Y$ payments each year the discount factor formula becomes\n",
    "\n",
    "\\begin{equation}\n",
    "D_n = \\left(1+\\cfrac{r}{Y}\\right)^{-n}\n",
    "\\end{equation}\n",
    "\n",
    "When the continuously-compounded hypothesis is used the discount factor becomes\n",
    "\n",
    "\\begin{equation}\n",
    "D_n = e^{-rn}\n",
    "\\end{equation}"
   ]
  },
  {
   "cell_type": "markdown",
   "id": "d9d39807",
   "metadata": {},
   "source": [
    "## Payment Dates Generator\n",
    "\n",
    "Before going on with the lesson let's develop a $\\tt{python}$ utility. Since from now on we need to create many lists of dates (e.g. payment dates for our contracts) we will write a function that does that for us. \n",
    "\n",
    "The function will take as input a starting date (the first date of the list), and a maturity (in months) which represents the length of the list. The tenor for the moment will be 12 months by default, when needed we will modify it.\n",
    "\n",
    "Notice that if the maturity is not a multiple of 12 months the last period will be truncated to the last computed date."
   ]
  },
  {
   "cell_type": "code",
   "execution_count": 2,
   "id": "6836c537",
   "metadata": {},
   "outputs": [],
   "source": [
    "from datetime import date\n",
    "from dateutil.relativedelta import relativedelta\n",
    "\n",
    "def generate_dates(start_date, n_months):\n",
    "    dates = []\n",
    "    for i in range(0, n_months, 12):\n",
    "        dates.append(start_date + relativedelta(months=i))\n",
    "    dates.append(start_date + relativedelta(months=n_months))\n",
    "    return dates"
   ]
  },
  {
   "cell_type": "code",
   "execution_count": 3,
   "id": "bc4c854b",
   "metadata": {},
   "outputs": [
    {
     "name": "stdout",
     "output_type": "stream",
     "text": [
      "[datetime.date(2021, 9, 14), datetime.date(2022, 9, 14), datetime.date(2022, 12, 14)]\n"
     ]
    }
   ],
   "source": [
    "# test the function\n",
    "print (generate_dates(date.today(), 15))"
   ]
  },
  {
   "cell_type": "markdown",
   "id": "a8a61ac5",
   "metadata": {},
   "source": [
    "**Create skeleton of finmarkets library and add $\\tt{generate\\_dates}$.**"
   ]
  },
  {
   "cell_type": "markdown",
   "id": "novel-powell",
   "metadata": {},
   "source": [
    "## Bond\n",
    "\n",
    "A bond is an instrument that represents a loan made by an investor to a borrower (typically corporate or governmental). Bonds are used by companies, municipalities, states, and sovereign governments to finance projects and operations.\n",
    "\n",
    "Owners of bonds are *debt-holders*, or creditors, of the *issuer*. Bond details include the end date (when the principal of the loan is due to be paid to the bond owner) and usually includes the terms for variable or fixed interest payments made by the borrower.\n",
    "The *coupon* is the interest rate that the issuer pays to the holder. This rate can be fixed throughout the life of the bond but it can also vary with a money market index, such as LIBOR, or it can be even more exotic."
   ]
  },
  {
   "cell_type": "markdown",
   "id": "fiscal-spare",
   "metadata": {},
   "source": [
    "**The value of a bond can be computed as the present discounted value of future cash flows generated by the bond itself.**\n",
    "\n",
    "For example consider a 3-years bond with a face value of 100 EUR providing coupons at a 6% rate annually. Assume also that the spot rates are 5.0% 5.8% and 6.4% for 1, 2, 3 year maturities. To compute the present value of the first coupon we need to discount it at 5.0% for 1 year, for the second the discount has to be at 5.8% and so on. "
   ]
  },
  {
   "cell_type": "code",
   "execution_count": 78,
   "id": "express-siemens",
   "metadata": {},
   "outputs": [
    {
     "name": "stdout",
     "output_type": "stream",
     "text": [
      "98.53 EUR\n"
     ]
    }
   ],
   "source": [
    "from math import exp\n",
    "\n",
    "rates = [0.05, 0.058, 0.064] \n",
    "N = 100\n",
    "maturity = 3\n",
    "fixed_coupon = 0.06\n",
    "\n",
    "price = 0\n",
    "for tau in range(maturity):\n",
    "    price += N * fixed_coupon * exp(-rates[tau] * (tau+1))\n",
    "price += N * exp(-rates[tau] * (tau+1)) \n",
    "\n",
    "print (\"{:.2f} EUR\".format(price))"
   ]
  },
  {
   "cell_type": "markdown",
   "id": "rapid-alert",
   "metadata": {},
   "source": [
    "### Yield to Maturity\n",
    "\n",
    "The *yield to maturity* is the interest rate that makes the present value of the future coupon payments equal to the current bond price, that is, for a known price $P_0$, the yield is the solution $y$ to the equation\n",
    "\n",
    "\\begin{equation}\n",
    "\tP_0 = \\sum_{t=1}^T e^{-yt}C + e^{-yT}F \n",
    "\\end{equation}\n",
    "where $C$ is the coupon end $F$ the nominal.\n",
    "\n",
    "Finding the yield to maturity is equivalent to find the zeros of the previous function. To find the zeros of a function $f(x)$ means to find the values of $\\hat{x}$ for which $f(\\hat{x})=0$. There are various methods to solve this problem (which is also called root-finding), the simplest being the *bisection method*.\n",
    "\n",
    "![](bisection_method.png)\n",
    "\n",
    "In $\\tt{python}$ this algorithm is implemented in $\\tt{scipy.optimize.bisect}$."
   ]
  },
  {
   "cell_type": "code",
   "execution_count": 5,
   "id": "funded-recommendation",
   "metadata": {},
   "outputs": [
    {
     "name": "stdout",
     "output_type": "stream",
     "text": [
      "0.12998780026036003\n"
     ]
    }
   ],
   "source": [
    "from scipy.optimize import bisect\n",
    "from datetime import date\n",
    "from finmarkets import generate_dates\n",
    "\n",
    "def ytom(y, N, C, P0, start_date=date.today(), maturity_years=4, tenor=0.5):\n",
    "    price = 0\n",
    "    payment_dates = generate_dates(start_date, maturity_years*12, tenor*12)\n",
    "\n",
    "    for p in payment_dates[1:]:\n",
    "        dt = (p - start_date).days/365\n",
    "        price += C*tenor*N/(1+y)**dt \n",
    "    price += N/(1+y)**dt - P0\n",
    "    return price\n",
    "\n",
    "bis = (bisect(ytom, -0.99, 1, args=(100, 0.1, 92)))\n",
    "print (bis)"
   ]
  },
  {
   "cell_type": "markdown",
   "id": "northern-protest",
   "metadata": {},
   "source": [
    "An interesting alternative is the $\\tt{Brent}$ method available in $\\tt{scipy.optimize.brentq}$."
   ]
  },
  {
   "cell_type": "code",
   "execution_count": 6,
   "id": "recorded-furniture",
   "metadata": {},
   "outputs": [
    {
     "name": "stdout",
     "output_type": "stream",
     "text": [
      "0.12998780025953005\n"
     ]
    }
   ],
   "source": [
    "from scipy.optimize import brentq\n",
    "\n",
    "bis = (brentq(ytom, -0.99, 1, args=(100, 0.1, 92)))\n",
    "print (bis)"
   ]
  }
 ],
 "metadata": {
  "kernelspec": {
   "display_name": "Python 3 (ipykernel)",
   "language": "python",
   "name": "python3"
  },
  "language_info": {
   "codemirror_mode": {
    "name": "ipython",
    "version": 3
   },
   "file_extension": ".py",
   "mimetype": "text/x-python",
   "name": "python",
   "nbconvert_exporter": "python",
   "pygments_lexer": "ipython3",
   "version": "3.8.10"
  }
 },
 "nbformat": 4,
 "nbformat_minor": 5
}
