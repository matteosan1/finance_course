{
 "cells": [
  {
   "cell_type": "markdown",
   "metadata": {
    "colab_type": "text",
    "id": "Cal9jfUFw0Cp",
    "slideshow": {
     "slide_type": "-"
    }
   },
   "source": [
    "# Monte Carlo Simulation\n",
    "\n",
    "The modern version of the Monte Carlo method was invented in the late 1940s by Stanislaw Ulam, while he was working on nuclear weapons projects at the Los Alamos National Laboratory. \n",
    "\n",
    "Monte Carlo methods, or experiments, are a broad class of computational algorithms that rely on repeated random sampling to obtain numerical results; the underlying concept is to use randomness to solve problems that might be deterministic in principle. Monte Carlo methods are mainly used in three problem classes: optimization, numerical integration, and generating draws from a probability distribution. \n",
    "\n",
    "Since in business and finance random variables are quite common, Monte Carlo simulations have a vast array of potential applications in these fields, e.g. they are used to estimate the likelihood that an asset price will move in a certain way, or analysts use them to assess the risk that an entity will default, and to analyze derivatives such as options.\n",
    "\n",
    "Monte Carlo simulations have countless applications outside of business and finance, such as in meteorology, astronomy and particle physics.\n",
    "\n",
    "\n",
    "### The Algorithm\n",
    "Monte Carlo (MC) methods are used when a closed-form solution for a property being studied cannot be developed (i.e. \n",
    "the probability of varying outcomes cannot be determined because of random variable interference). \n",
    "\n",
    "When faced with significant uncertainty in the process of making a forecast or estimation, rather than just replacing the uncertain variable with a single average number, the Monte Carlo Simulation might prove to be a better solution by using multiple values.\n",
    "\n",
    "This is achieved by building models of possible results where any factor that has inherent uncertainty (random varaiables) is replaces with a range of values (i.e. a probability distribution). \n",
    "\n",
    "A Monte Carlo simulation takes the variable that has uncertainty and assigns it a random value. The model is then run and a result is provided. This process is repeated again and again while assigning the variable in question with many different values. Once the simulation is complete, the results are averaged together to provide an estimate or the distribution of possible outcome values is drawn.\n",
    "\n",
    "Depending upon the number of uncertainties and the ranges specified for them, a Monte Carlo simulation could involve thousands or tens of thousands of recalculations before it is complete. \n",
    "\n",
    "A MC method/algorithm then can be described as follows:\n",
    "* identify the independent and dependent variables and define their domain $\\Omega$ of possible inputs (probability distributions for our inputs);\n",
    "* generate random inputs from the domain $\\Omega$;\n",
    "* compute the output for the problem based on the randomly generated inputs;\n",
    "* repeat the experiment N number of times and aggregate the results.\n",
    "\n",
    "Imagine to need to simulate the results of rolling a die: the only variable is the die outcome, $\\Omega = {1, 2, 3,4,5,6}$, the probability distribution of the outcomes is a uniform distribution since every result is equiprobable.\n",
    "So the simulation consists of sampling uniform distributed integers between 1 and 6.\n",
    "\n",
    "## Pseudo-Random Numbers\n",
    "The generation of random inputs requires large amounts of random numbers (from many different probability distributions) and it was their use that spurred the development of pseudorandom number generators. \n",
    "\n",
    "This is the main reason why every programming language has libraries that allows to produce huge series of random numbers (with a periodicity of $2^{19937}$).\n",
    "Those numbers are produced by algorithms that take as input a *seed* which determines univokely the series. This means that setting the same seed you will produce the same set of numbers every time (which is great for debugging purpouses).\n",
    "\n",
    "In $\\tt{python}$ the right module to use is `random` which has the following useful functions:\n",
    "\n",
    "* `seed` set the seed of the random number generator;\n",
    "* `random` returns a random number between 0 and 1 (with uniform probability);\n",
    "* `randint(min, max)` returns an integer random number between `min` and `max` (with uniform probability);\n",
    "* `sample(aList, k=n)` samples n elements from the list `aList`.\n",
    "\n",
    "As usual for a more detailed description check `help(random)`."
   ]
  },
  {
   "cell_type": "code",
   "execution_count": 16,
   "metadata": {
    "colab": {
     "base_uri": "https://localhost:8080/",
     "height": 468
    },
    "colab_type": "code",
    "executionInfo": {
     "elapsed": 713,
     "status": "ok",
     "timestamp": 1572127724382,
     "user": {
      "displayName": "Matteo Sani",
      "photoUrl": "https://lh3.googleusercontent.com/a-/AAuE7mAJoEkE0aEpcWTzP7VnHn98dIfMUkpRno3NEZn6SA=s64",
      "userId": "10639058540037747059"
     },
     "user_tz": -120
    },
    "id": "pUuPzyvsLSHD",
    "outputId": "c3f979d6-b5b9-4d66-ac18-2083183b0160",
    "slideshow": {
     "slide_type": "-"
    }
   },
   "outputs": [
    {
     "name": "stdout",
     "output_type": "stream",
     "text": [
      "0.13436424411240122\n",
      "0.8474337369372327\n",
      "0.9560342718892494\n",
      "0.9478274870593494\n",
      "0.13436424411240122\n",
      "0.8474337369372327\n",
      "1\n",
      "['c', 'a']\n"
     ]
    }
   ],
   "source": [
    "# test seed number and sample\n",
    "import random \n",
    "\n",
    "random.seed(1)\n",
    "print(random.random())\n",
    "print(random.random())\n",
    "\n",
    "random.seed(2)\n",
    "print(random.random())\n",
    "print(random.random())\n",
    "\n",
    "random.seed(1)\n",
    "print(random.random())\n",
    "print(random.random())\n",
    "\n",
    "print (random.randint(1, 6))\n",
    "a = ['a', 'b', 'c', 'd']\n",
    "print (random.sample(a, 2))"
   ]
  },
  {
   "cell_type": "markdown",
   "metadata": {},
   "source": [
    "Below an example of uniform distribution."
   ]
  },
  {
   "cell_type": "code",
   "execution_count": 18,
   "metadata": {
    "slideshow": {
     "slide_type": "-"
    }
   },
   "outputs": [
    {
     "data": {
      "image/png": "[encoded data removed]",
      "text/plain": [
       "<Figure size 432x288 with 1 Axes>"
      ]
     },
     "metadata": {
      "needs_background": "light"
     },
     "output_type": "display_data"
    }
   ],
   "source": [
    "# uniform distrobution\n",
    "numbers = []\n",
    "for _ in range(10000):\n",
    "    numbers.append(random.random())\n",
    "    \n",
    "from matplotlib import pyplot as plt\n",
    "plt.hist(numbers)\n",
    "plt.show()"
   ]
  },
  {
   "cell_type": "markdown",
   "metadata": {
    "slideshow": {
     "slide_type": "-"
    }
   },
   "source": [
    "Other modules provide random number generators. Below an example with `numpy.random` which allows among others to throw random numbers according to a standard normal distribution ($\\mathcal{N}(0, 1)$)."
   ]
  },
  {
   "cell_type": "code",
   "execution_count": 19,
   "metadata": {
    "colab": {
     "base_uri": "https://localhost:8080/",
     "height": 281
    },
    "colab_type": "code",
    "executionInfo": {
     "elapsed": 1242,
     "status": "ok",
     "timestamp": 1572128608841,
     "user": {
      "displayName": "Matteo Sani",
      "photoUrl": "https://lh3.googleusercontent.com/a-/AAuE7mAJoEkE0aEpcWTzP7VnHn98dIfMUkpRno3NEZn6SA=s64",
      "userId": "10639058540037747059"
     },
     "user_tz": -120
    },
    "id": "t1uopGp_Jlyh",
    "outputId": "5a57bfc2-b64b-4c81-dbce-1bf46df7c03e",
    "slideshow": {
     "slide_type": "-"
    }
   },
   "outputs": [
    {
     "data": {
      "image/png": "[encoded data removed]",
      "text/plain": [
       "<Figure size 432x288 with 1 Axes>"
      ]
     },
     "metadata": {
      "needs_background": "light"
     },
     "output_type": "display_data"
    }
   ],
   "source": [
    "# normal distribution\n",
    "from numpy.random import normal, seed\n",
    "\n",
    "seed(1)\n",
    "numbers = []\n",
    "for _ in range(10000):\n",
    "    numbers.append(normal())\n",
    "    \n",
    "plt.hist(numbers, 100)\n",
    "plt.show()\n"
   ]
  },
  {
   "cell_type": "markdown",
   "metadata": {
    "colab_type": "text",
    "id": "fl16WXNALVnF",
    "slideshow": {
     "slide_type": "-"
    }
   },
   "source": [
    "#### Example of Monte Carlo Simulation\n",
    "\n",
    "Let's check the probability to get two kings drawing randomly two cards from a deck.\n",
    "Using a frequentist approach, we can calculate the probability of an event as the ratio of the number of favorable outcomes of an experiment (number of successes) and the number of all possible outcomes so for our example:\n",
    "\n",
    "$$P_\\textrm{two kings} = \\frac{4}{40} \\cdot \\frac{3}{39} = \\frac{1}{130} \\approx 0.0077$$\n",
    "\n",
    "Let's now try with a Monte Carlo simulation."
   ]
  },
  {
   "cell_type": "code",
   "execution_count": 2,
   "metadata": {
    "colab": {
     "base_uri": "https://localhost:8080/",
     "height": 204
    },
    "colab_type": "code",
    "executionInfo": {
     "elapsed": 5069,
     "status": "ok",
     "timestamp": 1572127791290,
     "user": {
      "displayName": "Matteo Sani",
      "photoUrl": "https://lh3.googleusercontent.com/a-/AAuE7mAJoEkE0aEpcWTzP7VnHn98dIfMUkpRno3NEZn6SA=s64",
      "userId": "10639058540037747059"
     },
     "user_tz": -120
    },
    "id": "nPVXb08Y4cKQ",
    "outputId": "88009bc5-0b7e-483c-b0d0-1721e9aa26b3",
    "slideshow": {
     "slide_type": "-"
    }
   },
   "outputs": [
    {
     "name": "stdout",
     "output_type": "stream",
     "text": [
      "0.007\n"
     ]
    }
   ],
   "source": [
    "# define the domain of inputs\n",
    "from random import sample, seed\n",
    "\n",
    "deck = ['A', 'K', 'J', 'Q', '7', '6', '5', '4', '3', '2'] * 4\n",
    "\n",
    "seed(1)\n",
    "def deck_sim(trials):\n",
    "    successes = 0.0\n",
    "    for _ in range(trials):\n",
    "        cards = sample(deck, 2)\n",
    "        if cards == ['K', 'K']:\n",
    "            successes += 1\n",
    "    return successes\n",
    "\n",
    "trials = 10000\n",
    "successes = deck_sim(trials)\n",
    "print (successes/trials)"
   ]
  },
  {
   "cell_type": "markdown",
   "metadata": {},
   "source": [
    "Since we rely on a frequentist approach naively we can say that the lower is the probability we need to estimate the higher has to be the number of simulated trials. This is because to get a reasonable number of \"success\" so that the uncertainty in the probability is small, we have to try many times. This is apparent playing with the number of trials in the above simulation.\n",
    "Monte Carlo Simulation is not always the best approach to follow !"
   ]
  },
  {
   "cell_type": "code",
   "execution_count": 5,
   "metadata": {},
   "outputs": [
    {
     "name": "stdout",
     "output_type": "stream",
     "text": [
      "0.02\n",
      "0.007836\n"
     ]
    }
   ],
   "source": [
    "trials = 100\n",
    "successes = deck_sim(trials)\n",
    "print (successes/trials)\n",
    "\n",
    "trials = 1000000\n",
    "successes = deck_sim(trials)\n",
    "print (successes/trials)"
   ]
  },
  {
   "cell_type": "markdown",
   "metadata": {},
   "source": [
    "### Determine $\\pi$\n",
    "\n",
    "Also in this case we know what to expect: $\\pi\\approx 3.141592653589793\\ldots$. In order to get an estimate with MC simulation a straightforward geometric approach is to consider a circle of diameter $D$ which is inscribed in a square with side length $D$. \n",
    "\n",
    "<img src=\"circle_inscribed.jpeg\" width=200>\n",
    "\n",
    "Computing the ratio of the area of the 2 figures\n",
    "\n",
    "$$\\cfrac{\\textrm{Area Circle}}{\\textrm{Area Square}} = \\cfrac{\\pi D^2/4}{D^2} = \\cfrac{\\pi}{4} $$\n",
    "\n",
    "The algorithm to approximate $\\pi$ should be like the following:\n",
    "* select 2 random numbers, $x_1$ and $x_2$, from the interval $[0,D]$;\n",
    "* determine if the point defined by the ordered pair $(x_1, x_2)$ lies within or on\n",
    "the circle (check if $\\sqrt{x_1^2 + x_2^2} \\le D$) , keeping track of the total number of points within or on the circle and the total number of points tested;\n",
    "* approximate the ratio of the areas by the number of points within or on the\n",
    "circle divided by the total number of points tested;\n",
    "* multiply the approximated area by 4 to get $\\pi$."
   ]
  },
  {
   "cell_type": "code",
   "execution_count": 21,
   "metadata": {},
   "outputs": [
    {
     "name": "stdout",
     "output_type": "stream",
     "text": [
      "3.140696\n"
     ]
    }
   ],
   "source": [
    "from random import random, seed\n",
    "from math import sqrt\n",
    "\n",
    "seed(1)\n",
    "trials=1000000\n",
    "in_circle = 0\n",
    "for _ in range(trials):\n",
    "    # assume D=1\n",
    "    # set the origin in the center of the circle\n",
    "    # generate x between -D/2 and +D/2\n",
    "    x1 = random()-0.5\n",
    "    x2 = random()-0.5\n",
    "    r = sqrt(pow(x1, 2)+pow(x2, 2))\n",
    "    # check if the distance of P(x1, x2) to the origin is <= circle radius\n",
    "    if r <= 0.5:\n",
    "        in_circle += 1\n",
    "        \n",
    "print (in_circle/trials*4)"
   ]
  },
  {
   "cell_type": "markdown",
   "metadata": {},
   "source": [
    "### Accuracy of Monte Carlo Simulations\n",
    "\n",
    "The central limit theorem states that if we have $Y_1, Y_2,\\dots, Y_n$ which are random samples from a distribution $Y$ with true mean $\\mu$ and variance $\\sigma^{2}$, then when $n$ is sufficiently large, \n",
    "\n",
    "$$ \\mu_n = \\cfrac{1}{n}\\sum_i^n Y_i $$\n",
    "has approximately a normal distribution $\\mathcal{N}(\\mu, \\sigma^2/n)$. \n",
    "\n",
    "**This means that if ones repeates a MC experiment (e.g. changing the seed of the random number generator) she should obtain results normally distributed around the *true* value $\\mu$.**"
   ]
  },
  {
   "cell_type": "code",
   "execution_count": 7,
   "metadata": {},
   "outputs": [
    {
     "name": "stdout",
     "output_type": "stream",
     "text": [
      "Mean:  0.0076885\n",
      "Std :  0.0008707799664668452\n"
     ]
    }
   ],
   "source": [
    "# define the domain of inputs\n",
    "import numpy as np\n",
    "from random import sample, seed\n",
    "\n",
    "deck = ['A', 'K',  'Q', 'J', '2', '3', '4', '5', '6', '7'] * 4\n",
    "experiments = 1000\n",
    "trials = 10000\n",
    "r = []\n",
    "for e in range(experiments):\n",
    "    seed(e)\n",
    "    successes = 0.0\n",
    "    for i in range(trials):\n",
    "        cards = sample(deck, 2)\n",
    "        if cards == ['K', 'K']:\n",
    "            successes += 1\n",
    "        \n",
    "    r.append(successes/trials)\n",
    "\n",
    "print (\"Mean: \", np.mean(r))\n",
    "print (\"Std : \", np.std(r))"
   ]
  },
  {
   "cell_type": "markdown",
   "metadata": {},
   "source": [
    "![](experiment_distribution.png)"
   ]
  },
  {
   "cell_type": "markdown",
   "metadata": {},
   "source": [
    "Hence:\n",
    "$$\\mu_n - \\mu \\approx \\mathcal{N}(0, \\sigma^2/n) $$\n",
    "\n",
    "So considering one single Monte Carlo experiment we can define an interval so that there is a certain probability to find $\\mu$ in there.\n",
    "Referring to the previous Figure we can write:\n",
    "\n",
    "$$ \\mathbb{P}\\left(\\mu_n - \\cfrac{1.96\\sigma}{\\sqrt{n}}\\le \\mu \\le \\mu_n + \\cfrac{1.96\\sigma}{\\sqrt{n}}\\right) = 0.95$$\n",
    "\n",
    "<img src=\"confidence_interval.png\">\n",
    "\n",
    "This interval is called **95% confidence interval** because the shaded part covers 95% of the total area under the Gaussian.\n",
    "It can be interpreted as if you repeat many times the above simulation, the fraction of calculated confidence intervals that contains the true parameter $\\mu$ would tend toward 95%.\n",
    "\n",
    "The most common intervals are 99% and 95% confidence levels and are respectively defined as $\\pm \\cfrac{2.57\\sigma}{\\sqrt{n}}$ and $\\pm \\cfrac{1.96\\sigma}{\\sqrt{n}}$ (in the notes there is the formula to define custom intervals).\n",
    "\n",
    "The confidence interval can be used to assess the accuracy of the Monte Carlo simulation.\n",
    "The root mean squared error on our best estimate of $\\mu$ is:\n",
    "\n",
    "$$ \\mathrm{RMSE}(\\mu_n) = \\sqrt{\\mathbb{E}((\\mu_n - \\mu )^2)} = \\sqrt{\\cfrac{\\sigma^2}{n}}=\\cfrac{\\sigma}{\\sqrt{n}} $$\n",
    "where $\\sigma^2 = \\mathrm{Var}(Y)$.\n",
    "\n",
    "* to get one more decimal digit of accuracy is like asking for an RMSE\n",
    "one tenth as large, and that requires a 100-fold increase in computation. \n",
    "* to get three more digits of accuracy requires one million times as much computation. "
   ]
  },
  {
   "cell_type": "markdown",
   "metadata": {},
   "source": [
    "#### Advantages\n",
    "* Strong way of estimating uncertainty;\n",
    "* simple & intuitive, this approach is quite easy to understand.\n",
    "\n",
    "#### Disadvantages\n",
    "* Computationally inefficient — when you have a large amount of variables bounded to different constraints, it requires a lot of time and a lot of computations to approximate a solution using this method;\n",
    "* if poor parameters and constraints are input into the model then poor results will be given as outputs."
   ]
  },
  {
   "cell_type": "markdown",
   "metadata": {},
   "source": [
    "## Stochastic Processes\n",
    "\n",
    "If a system evolves according to a *deterministic* process, all data necessary to predict its development with 100% certainty is available.\n",
    "\n",
    "Real life processes usually are noisy, in the sense that they are distorted and exhibits behaviours that cannot be described by a deterministic model. It is then necessary to switch to stochastic processes in order to model the\n",
    "uncertainty (i.e. patterns not described by a deterministic model) of our data.\n",
    "\n",
    "A *stochastic or random process*, mahtematically, can be defined as a collection of random variables that is indexed by some set (usually time), meaning that each random variable of the stochastic process is uniquely associated with an element in the set (e.g. a time). \n",
    "\n",
    "![](random_process.png)\n",
    "\n",
    "A model of the dynamics of asset prices must reflect the random nature of price movements and indeed stock prices are usually assumed to follow a so called *Markov process*. Markov processes can be characterized as a particular type of stochastic processes without any history. Past values and the way the present has emerged from the past are therefore irrelevant. This unique characteristic of Markov processes render them memoryless.\n",
    "\n",
    "The simplest example of Markov stochastic process is the so called Wiener process ($W$) or elementary Brownian motion, which is characterized by stationary and independent increments that are normally distributed. Those increments can be expressed as\n",
    "\n",
    "$$dW = Z \\sqrt{dt}$$\n",
    "where $Z ∼ \\mathcal{N}( 0, 1 )$ and $\\mathcal{N}$ represents the standard normal Gaussian. The mean of $dW$ is\n",
    "zero and its variance is $dt$, which means the standard deviation grows with the square root of time. It follows that $W(t) ∼ \\mathcal{N}( 0, t )$ because each $dW$ is distributed like independent standard Gaussian. \n",
    "\n",
    "!()[wiener_process.png]\n",
    "\n",
    "An It$\\hat{o}$ process ($X$) is a stochastic process whose increments satisfy the following *stochastic differential equation* (SDE)\n",
    "\n",
    "$$dX ( t ) = \\mu ( t, X ( t )) dt + \\sigma ( t, X ( t )) dW ( t )$$ \n",
    "\n",
    "In the special case where the drift $\\mu$ and the diffusion coefficient $\\sigma$ are constant (i.e. deterministic and independent of both the time $t$ and the variable $X$), the process $X ( t )$ is called an arithmetic Brownian motion. The corresponding SDE is\n",
    "\n",
    "$$dX ( t ) = \\mu dt + \\sigma dW (t) = \\mu dt + \\sigma \\sqrt{t}\\mathcal{N}(0,1)$$\n",
    "\n",
    "thus $X(t) ∼ \\mathcal{N} ( \\mu t, \\sigma^2 t )$.\n",
    "Since an arithmetic Brownian motion can also take negative values, this type of process is unsuitable for simulating asset prices. These are rather assumed to follow a geometric Brownian motion (GBM) instead."
   ]
  },
  {
   "cell_type": "markdown",
   "metadata": {},
   "source": [
    "### Log-normal Stochastic Differential Equation\n",
    "\n",
    "Stock prices deviate from a steady state as a result of the random fluctuations given by the trades. Considering a stock with a price $S_t$ and an expected rate of return $\\mu$, then the relative change in its price during a period $dt$ can be decomposed in two parts:\n",
    "\n",
    "* a deterministic part that is the expected return from the stock hold during the time period $dt$ ($\\mu S_tdt$)\n",
    "* a stochastic part which reflects the random changes of the market (e.g. as a response to external effects such as unexpected news). A reasonable assumption is to take this contribution proportional to the stock ($\\sigma S_tdB_t$ where $dB_t$ is a random walk process equal to $\\mathcal{N}(0,1)\\sqrt{dt} = \\epsilon\\sqrt{dt}$).\n",
    "\n",
    "The resulting differential equation is:\n",
    "\n",
    "$$dS_t = \\mu S_tdt + \\sigma S_tdB_t$$\n",
    "or\n",
    "$$\\frac{dS_t}{S_t} = d\\textrm{log}(S_t) = \\mu dt + \\sigma dB_t$$\n",
    "\n",
    "The solution of this equation can be derived by applying the It$\\hat{o}$'s formula (you can find the full derivation in the notes).\n",
    "$$S_t = S_{t-1}e^{\\big(\\mu - \\frac{1}{2}\\sigma^2\\big)dt + \\sigma\\epsilon\\sqrt{dt}}$$\n",
    "\n",
    "As can be seen from the following equation:\n",
    "\n",
    "$$d(\\textrm{log} S_t) = \\big(\\mu - \\frac{1}{2}\\sigma^2\\big)dt + \\sigma\\epsilon\\sqrt{dt}$$\n",
    "\n",
    "the change in $\\textrm{log} S_t$ has a constant *drift* $\\mu - \\frac{1}{2}\\sigma^2$ and a constance variance rate $\\sigma^2$ (remember that $\\epsilon$ is a normally distributed random variable ($\\mathcal{N}(0,1)$). So you have a constant plus a gaussian distributed variable, therefore $\\textrm{log} S_t$ at some time $T$ is normally distributed with:\n",
    "\n",
    "$$\\textrm{log}S_t - \\textrm{log}S_0 \\approx\\mathcal{N}\\big[\\big(\\mu-\\frac{\\sigma^2}{2}\\big)T, \\sigma^2 T\\big]$$\n",
    "\n",
    "This equation shows that $\\textrm{log}S_t$ is normally distributed, but **a variable whose logarithm is normally distributed is said to be log-normal**. Hence the model we have just developed implies that the stock price at time T, given today's price, is lognormally distributed.\n",
    "\n",
    "Lognormality is important because we need to ensure that a stock price will never be negative. Indeed looking at the initial $dS$ equation we have that:\n",
    "\n",
    "$$dS_t = \\mu S_tdt + \\sigma S_tdB_t$$\n",
    "\n",
    "which shows that the closer is $S_t$ to 0 the smaller is the $dS$ variation (so it will never go below 0)."
   ]
  },
  {
   "cell_type": "markdown",
   "metadata": {},
   "source": [
    "## Simulating Stochastic Differential Equations\n",
    "\n",
    "If we need to simulate SDEs in order to estimate quantities of interest the most fundamental method is the Euler scheme (the Milstein scheme, an extention of Euler scheme, is discussed in the notes).\n",
    "\n",
    "As a starting point consider an SDE of the form\n",
    "\n",
    "$$dX ( t ) = \\mu ( t, X ( t )) dt + \\sigma ( t, X ( t )) dW ( t )$$\n",
    "\n",
    "note that both the drift $\\mu$ and the diffusion \\$\\sigma$ are functions of the process variable $X$ and the time $t$. \n",
    "\n",
    "The simulation of values of $X ( T )$, it is generally done by simulating a discretized process, $\\{ X_b , X_{2b} , \\ldots , X_{mb} \\} = \\{ X ( t_i ) , X ( t_i + 1 ) , \\ldots, X ( t_i + n )\\}$ ,\n",
    "where the time steps $\\Delta t$ are constant and denoted by $b$. Furthermore, the variable $m$ indicates the total number of simulated time steps, with $mb = T$.\n",
    "\n",
    "Taking these preliminary considerations into account, the Euler scheme is given by\n",
    "\n",
    "$$X ( t_i + 1 ) = X ( t_i ) + \\mu ( t_i , X ( t_i )) b + \\sigma ( t_i , X ( t_i )) \\sqrt{b} Z_{i + 1}$$\n",
    "\n",
    "where $Z_i$ are independent standard normal random vectors, $Z_i ∼ \\mathcal{N} ( 0, 1 )$ .\n",
    "\n",
    "The last equation for example allows to simulate an arbitrary number of possible asset price *paths* by Monte\n",
    "Carlo. Particularly, a random path for an asset price can be simulated by sampling repeatedly for $Z$ from $\\mathcal{N} ( 0, 1 )$ and substituting it in the equation."
   ]
  },
  {
   "cell_type": "code",
   "execution_count": 25,
   "metadata": {},
   "outputs": [
    {
     "data": {
      "image/png": "[encoded data removed]",
      "text/plain": [
       "<Figure size 432x288 with 1 Axes>"
      ]
     },
     "metadata": {
      "needs_background": "light"
     },
     "output_type": "display_data"
    }
   ],
   "source": [
    "# stock price evolution\n",
    "from numpy.random import normal, seed\n",
    "from math import exp, sqrt\n",
    "\n",
    "seed(1)\n",
    "S = 100\n",
    "mu = -0.01\n",
    "sigma = 0.15\n",
    "dT = 1\n",
    "histo = []\n",
    "for _ in range(120):\n",
    "    S = S*exp((mu-0.5*sigma**2*dT)+sigma*sqrt(dT)*normal())\n",
    "    histo.append(S)\n",
    "\n",
    "plt.plot(range(120), histo)\n",
    "plt.grid(True)\n",
    "plt.show()"
   ]
  },
  {
   "cell_type": "markdown",
   "metadata": {},
   "source": [
    "## Markov Chain\n",
    "\n",
    "A Markov chain is a mathematical system usually defined as a collection of random variables,\n",
    "that transition from one state to another according to certain probabilistic rules. These set of\n",
    "transition satisfies the Markov property, which states that the probability of transitioning to\n",
    "any particular state is dependent solely on the current state and time elapsed, and not on the\n",
    "sequence of state that preceded it.\n",
    "\n",
    "### Discrete Time Markov Chain\n",
    "A discrete-time Markov chain involves a system which is in a certain state at each step, with\n",
    "the state changing randomly between steps. The steps are often thought of as moments in\n",
    "time. A discrete time Markov chain is a sequence of random variables $X_1 , X_2 , X_3 ,\\ldots$ with the Markov\n",
    "property, such that the probability of moving to the next state depends only on the present\n",
    "state and not on the previous states. Putting this is mathematical probabilistic formula:\n",
    "\n",
    "$$P ( X_{n + 1} ) = x | X_1 = x_1 , X_2 = x_2 , \\ldots , X_n = x_n ) = P ( X_{n + 1} = x | X_n = x_n )$$\n",
    "\n",
    "The probability of $X_{n + 1}$ only depends on the probability of $X_n$ that precedes it. Which means the knowledge of the previous state is all that is necessary to determine the probability distribution of the current state, satisfying the rule of conditional independence.\n",
    "\n",
    "### The Markov Model\n",
    "A Markov chain can be represented by a set of probabilities associated with the various possible transitions (the changes of state of the system). These probabilities are usually put in matricial form creating the *transition matrix*. Each element of the matrix can be read as the probability of going to state $X_{n + 1}$ given the current value of state $X_n$. \n",
    "\n",
    "If the Markov chain has $N$ possible states, the matrix will be an $N\\times N$ matrix, such that entry $( i, j )$ is the probability of transitioning from state $i$ to state $j$. \n",
    "So, the model is characterized by a state space (the set of possible state of the system), a transition matrix escribing the probabilities of particular transitions, and an initial state across the state space. \n",
    "\n",
    "#### Markov Chain to Predict Market Trends\n",
    "Markov chains can be used to model the probabilities of certain financial market climates and thus predicting the likelihood of future market conditions. These conditions, also known as trends, are:\n",
    "* *bull markets*: periods of time where prices generally are rising, due to the actors having optimistic hopes of the future;\n",
    "* *bear markets*: periods of time where prices generally are declining, due to the actors having a pessimistic view of the future;\n",
    "* *stagnant markets*: periods of time where the market is characterized by neither a decline nor rise in general prices.\n",
    "\n",
    "The transition matrix of such trends can be inferred from the analysis of historical data. Given the following transition probabilities\n",
    "\n",
    "![](markov_chain.png)\n",
    "\n",
    "It is easy now to derive the transition matrix \n",
    "\n",
    "$$\\Pi = \n",
    "\\begin{bmatrix}\n",
    "p_{11} & p_{12} & p_{13} \\\\\n",
    "p_{12} & p_{22} & p_{23} \\\\\n",
    "p_{13} & p_{32} & p_{33}\n",
    "\\end{bmatrix} =\n",
    "\\begin{bmatrix}\n",
    "0.9 & 0.075 & 0.025 \\\\\n",
    "0.15 & 0.8 & 0.05 \\\\\n",
    "0.25 & 0.25 & 0.5\n",
    "\\end{bmatrix} \n",
    "$$\n",
    "\n",
    "Let’s indicate with a $1 \\times 3$ vector $C$ the information about which of the three different states the market is in; where column 1 represents a bull week, column 2 a bear week and column 3 a stagnant week. Assume that today’s week the market is in a bearish state, resulting in the initial vector $C_0 = ( 0, 1, 0 )$.\n",
    "\n",
    "To calculate the probabilities of a bull, bear or stagnant week for any number of $n$ weeks into the future it is enough to multiply $C$ by the transition matrix $n$ times $(C_n = C_0 \\cdot \\Pi^n )$.\n",
    "\n",
    "$$C_1 = C_0 \\cdot \\Pi =  \n",
    "\\begin{bmatrix}\n",
    "0 \\\\\n",
    "1 \\\\\n",
    "0 \n",
    "\\end{bmatrix}\n",
    "\\begin{bmatrix}\n",
    "0.9 & 0.075 & 0.025 \\\\\n",
    "0.15 & 0.8 & 0.05 \\\\\n",
    "0.25 & 0.25 & 0.5\n",
    "\\end{bmatrix} = \n",
    "\\begin{bmatrix}\n",
    "0.15 \\\\\n",
    "0.8 \\\\\n",
    "0.05 \n",
    "\\end{bmatrix}\n",
    "$$\n",
    "\n",
    "With python it is possible to determine longer term behaviour quite easily."
   ]
  },
  {
   "cell_type": "code",
   "execution_count": 21,
   "metadata": {},
   "outputs": [
    {
     "name": "stdout",
     "output_type": "stream",
     "text": [
      "[0.62499979 0.31250019 0.06250002]\n"
     ]
    }
   ],
   "source": [
    "import numpy as np\n",
    "\n",
    "n = 50\n",
    "C = np.array([0, 1, 0])\n",
    "P = np.array([[0.9, 0.075, 0.025],[0.15, 0.8, 0.05],[0.25, 0.25, 0.5]])\n",
    "\n",
    "for i in range(n):\n",
    "    C = C.dot(P)\n",
    "print (C)"
   ]
  },
  {
   "cell_type": "markdown",
   "metadata": {},
   "source": [
    "From this example it can be concluded that as $n\\rightarrow\\infty$, the probabilities will converge to\n",
    "a steady state, meaning that 63% of all weeks will be bullish, 31% bearish and 6% stagnant.\n",
    "\n",
    "![](markov_chain_sim.png)\n",
    "\n",
    "It can also be shown, by changing C 0 that the steady-state probabilities of this Markov chain do not depend upon the initial state.\n",
    "The results can be used in various ways, some examples are calculating the average time it takes for a bearish period to end, or the risk that a bullish market turns bearish or stagnant."
   ]
  },
  {
   "cell_type": "markdown",
   "metadata": {
    "colab_type": "text",
    "id": "50Aw7k02w0CA",
    "slideshow": {
     "slide_type": "slide"
    }
   },
   "source": [
    "## Interest Rate Derivatives\n",
    "\n",
    "### Interest Rate Swaps\n",
    "\n",
    "Interest rate swaps (IRS) consist of a floating leg and a fixed leg. The contract parameters are:\n",
    "\n",
    "* start date $d_0$\n",
    "* notional $N$\n",
    "* fixed rate $K$\n",
    "* floating rate tenor (months)\n",
    "* maturity (years)\n",
    "\n",
    "The floating leg pays the reference LIBOR fixing at a frequency equal to the tenor of the floating rate - so for example an IRS on a 3-month LIBOR will pay a floating coupon every three months, an IRS on 6-month EURIBOR pays the floating coupon every six months and so on.\n",
    "\n",
    "The fixed leg pays a predetermined cash flow at annual frequency, regardless of the tenor of  the underlying floating rate. (for simplicity we will only consider swaps with maturities which are multiples of 1 year).\n",
    "\n",
    "Before going into the deatils of the valuation of IRSs, we need to modify the `generate_dates` function in `finmarkets` module to generate the payment dates for both the fixed and floating legs, as follows:"
   ]
  },
  {
   "cell_type": "code",
   "execution_count": 26,
   "metadata": {
    "colab": {
     "base_uri": "https://localhost:8080/",
     "height": 136
    },
    "colab_type": "code",
    "executionInfo": {
     "elapsed": 460,
     "status": "ok",
     "timestamp": 1572128954852,
     "user": {
      "displayName": "Matteo Sani",
      "photoUrl": "https://lh3.googleusercontent.com/a-/AAuE7mAJoEkE0aEpcWTzP7VnHn98dIfMUkpRno3NEZn6SA=s64",
      "userId": "10639058540037747059"
     },
     "user_tz": -120
    },
    "id": "6vlqLlwgw0CE",
    "outputId": "55c3a3b4-a4be-4bdf-a6d8-872fee48b945",
    "scrolled": true,
    "slideshow": {
     "slide_type": "fragment"
    }
   },
   "outputs": [
    {
     "data": {
      "text/plain": [
       "[datetime.date(2020, 10, 28),\n",
       " datetime.date(2021, 2, 28),\n",
       " datetime.date(2021, 6, 28),\n",
       " datetime.date(2021, 10, 28),\n",
       " datetime.date(2022, 1, 28)]"
      ]
     },
     "execution_count": 26,
     "metadata": {},
     "output_type": "execute_result"
    }
   ],
   "source": [
    "# modify generate_dates\n",
    "from datetime import date\n",
    "from dateutil.relativedelta import relativedelta\n",
    "\n",
    "def generate_dates(start_date, nmonths, tenor=12):\n",
    "    dates = []\n",
    "    for i in range(0, nmonths, tenor):\n",
    "        dates.append(start_date + relativedelta(months=i))\n",
    "    dates.append(start_date + relativedelta(months=nmonths))\n",
    "    return dates\n",
    "\n",
    "generate_swap_dates(date.today(), 15, 4)"
   ]
  },
  {
   "cell_type": "markdown",
   "metadata": {
    "colab_type": "text",
    "id": "EOVpabaFw0CK",
    "slideshow": {
     "slide_type": "fragment"
    }
   },
   "source": [
    "Using this function and the contract parameters we will be able to  determine a sequence of payment dates for each of the two legs.\n",
    "\n",
    "Let $d_0=d_0^{\\mathrm{fixed}},...,d_p^{\\mathrm{fixed}}$ be the fixed leg payment dates and $d_0=d_0^{\\mathrm{float}},...,d_p^{\\mathrm{float}}$ be the floating leg payment dates, and let's use the following notation:\n",
    "\n",
    "* $d$ the pricing date\n",
    "* $D(d, d')$ the discount factor observed in date $d$ for the value date $d'$\n",
    "* $F(d, d', d'')$ the forward rate observed in date $d$ for the period $[d', d'']$. The rate tenor is $\\tau = d'' - d'$.\n",
    "\n",
    "The NPV of the fixed leg is calculated as follows:\n",
    "\n",
    "$$\\mathrm{NPV}_{\\mathrm{fixed}}(d; K) = N\\cdot K\\cdot\\sum_{i=1}^{n}D(d, d_{i}^{\\mathrm{fixed}})$$\n",
    "\n",
    "while the NPV of the floating leg is calculated as follows:\n",
    "\n",
    "$$\\mathrm{NPV}_{\\mathrm{float}}(d) = N\\cdot\\sum_{i=1}^{m}F(d, d_{j-1}^{\\mathrm{float}}, d_{j}^{\\mathrm{float}}) \\cdot \\frac{d_{j}^{\\mathrm{float}}-d_{j-1}^{\\mathrm{float}}}{360}\n",
    "\\cdot D(d, d_{i}^{\\mathrm{float}})$$\n",
    "\n",
    "Therefore the NPV of the swap (seen from the point of view of the counter-party which receives the floating leg) is\n",
    "\n",
    "$$\\mathrm{NPV}(d; K) = \\mathrm{NPV}_{\\mathrm{float}}(d) - \\mathrm{NPV}_{\\mathrm{fixed}}(d;K)$$\n",
    "\n",
    "For reasons which will become apparent later, it's actually more convenient to express the NPV of an IRS as a function of the fair value fixed rate $S$ of the IRS, also known as the **swap rate**. $S$ is the value of $K$ which makes $\\mathrm{NPV}(d)=0$.\n",
    "\n",
    "On the basis of the previous expressions, we can easiy calculate $S$ as:\n",
    "\n",
    "$$\\mathrm{NPV}_{\\mathrm{fixed}}(d;S) = \\mathrm{NPV}_{\\mathrm{float}}(d)$$\n",
    "<br>\n",
    "$$N\\cdot S\\cdot\\sum_{i=1}^{n}D(d, d_{i}^{\\mathrm{fixed}}) = N\\cdot\\sum_{i=1}^{m}F(d, d_{j-1}^{\\mathrm{float}}, d_{j}^{\\mathrm{float}}) \\cdot \\frac{d_{j}^{\\mathrm{float}}-d_{j-1}^{\\mathrm{float}}}{360} \\cdot D(d, d_{i}^{\\mathrm{float}})$$\n",
    "<br>\n",
    "$$S=\\frac{\\sum_{i=1}^{m}F(d, d_{j-1}^{\\mathrm{float}}, d_{j}^{\\mathrm{float}}) \\cdot \\frac{d_{j}^{\\mathrm{float}}-d_{j-1}^{\\mathrm{float}}}{360}\n",
    "\\cdot D(d, d_{i}^{\\mathrm{float}})}{\\sum_{i=1}^{n}D(d, d_i^{\\mathrm{fixed}})} $$\n",
    "\n",
    "Once we have calculated $S$, we can express the $\\mathrm{NPV}$ of an IRS as follows:\n",
    "\n",
    "$$\\begin{align}&\\mathrm{NPV}(d; K) = \\mathrm{NPV}_{\\mathrm{float}}(d) - \\mathrm{NPV}_{\\mathrm{fixed}}(d; K) = & \\\\ \\\\ &= \\underbrace{\\mathrm{NPV}_{\\mathrm{float}}(d) - \\mathrm{NPV}_{\\mathrm{fixed}}(d; S)}_{\\mathrm{=\\;0}} + \\mathrm{NPV}_{\\mathrm{fixed}}(d;S) - \\mathrm{NPV}_{\\mathrm{fixed}}(d;K) & \\\\ & = N\\cdot(S-K)\\cdot\\underbrace{\\sum_{i=1}^{n}D(d, d_{i}^{\\mathrm{fixed}})}_{\\mathrm{'annuity'}}\\end{align}$$\n",
    "\n",
    "Now we can implement an `InterestRateSwap` class to valuate IRS contracts."
   ]
  },
  {
   "cell_type": "code",
   "execution_count": 3,
   "metadata": {
    "colab": {
     "base_uri": "https://localhost:8080/",
     "height": 368
    },
    "colab_type": "code",
    "executionInfo": {
     "elapsed": 630,
     "status": "error",
     "timestamp": 1572128972543,
     "user": {
      "displayName": "Matteo Sani",
      "photoUrl": "https://lh3.googleusercontent.com/a-/AAuE7mAJoEkE0aEpcWTzP7VnHn98dIfMUkpRno3NEZn6SA=s64",
      "userId": "10639058540037747059"
     },
     "user_tz": -120
    },
    "id": "DAFn_3TLw0CU",
    "outputId": "6fbb3fa7-6d5c-4271-afef-f8fe2d3ed0e0",
    "slideshow": {
     "slide_type": "slide"
    }
   },
   "outputs": [],
   "source": [
    "# implement InterestRateSwap \n",
    "class InterestRateSwap:\n",
    "    def __init__(self, obs_date, start_date, nominal, fixed_rate, tenor_months, maturity_years):\n",
    "        self.nominal = nominal\n",
    "        self.obs_date = obs_date\n",
    "        self.fixed_rate = fixed_rate\n",
    "        self.fixed_leg_dates = generate_dates(start_date, 12 * maturity_years, \n",
    "                                                   tenor_months)\n",
    "        self.floating_leg_dates = generate_dates(start_date, 12 * maturity_years,\n",
    "                                                      tenor_months)\n",
    "                \n",
    "    def annuity(self, discount_curve, start_date=None):\n",
    "        a = 0\n",
    "        for i in range(1, len(self.fixed_leg_dates)):\n",
    "            if start_date is None or start_date < self.fixed_leg_dates[i]:\n",
    "                a += discount_curve.df(self.fixed_leg_dates[i])\n",
    "        return a\n",
    "\n",
    "    def num(self, discount_curve, libor_curve):\n",
    "        s = 0\n",
    "        for j in range(1, len(self.floating_leg_dates)):\n",
    "            F = libor_curve.forward_rate(self.floating_leg_dates[j], self.floating_leg_dates[j-1])\n",
    "            tau = (self.floating_leg_dates[j] - self.floating_leg_dates[j-1]).days / 360\n",
    "            D = discount_curve.df(self.floating_leg_dates[j])\n",
    "            s += F * tau * D\n",
    "        return s\n",
    "    \n",
    "    def swap_rate(self, discount_curve, libor_curve):\n",
    "        return self.num(discount_curve, libor_curve) / self.annuity(discount_curve)\n",
    "        \n",
    "    def npv(self, discount_curve, libor_curve):\n",
    "        S = self.swap_rate(discount_curve, libor_curve)\n",
    "        A = self.annuity(discount_curve)\n",
    "        return self.nominal * (S - self.fixed_rate) * A"
   ]
  },
  {
   "cell_type": "markdown",
   "metadata": {
    "colab_type": "text",
    "id": "R4ZEVWVmw0CP",
    "slideshow": {
     "slide_type": "slide"
    }
   },
   "source": [
    "For convenience the relevant inputs that will be used later (libor and discount curve definitions) have been saved in the files $\\href{https://drive.google.com/file/d/1dm5oZnZKmJM6UrV0L32OcqD5Tzs9SI9A/view?usp=sharing}{\\texttt{libor_curve.xlsx}}$ and $\\href{https://drive.google.com/file/d/14R22r7m-6VpQ_P79D3qHdK0QN_mOQ_UB/view?usp=sharing}{\\texttt{discount_curve.xlsx}}$."
   ]
  },
  {
   "cell_type": "code",
   "execution_count": 9,
   "metadata": {
    "colab": {
     "base_uri": "https://localhost:8080/",
     "height": 351
    },
    "colab_type": "code",
    "executionInfo": {
     "elapsed": 469,
     "status": "error",
     "timestamp": 1572128959854,
     "user": {
      "displayName": "Matteo Sani",
      "photoUrl": "https://lh3.googleusercontent.com/a-/AAuE7mAJoEkE0aEpcWTzP7VnHn98dIfMUkpRno3NEZn6SA=s64",
      "userId": "10639058540037747059"
     },
     "user_tz": -120
    },
    "id": "iHN_2nnlw0CQ",
    "outputId": "33fe3336-6e35-4dd0-e808-60b40aed9993",
    "scrolled": false,
    "slideshow": {
     "slide_type": "fragment"
    }
   },
   "outputs": [
    {
     "name": "stdout",
     "output_type": "stream",
     "text": [
      "1.0041959227522805\n"
     ]
    }
   ],
   "source": [
    "# import xlsx and define discount and libor curves\n",
    "import pandas as pd\n",
    "from datetime import date\n",
    "from finmarkets import DiscountCurve, ForwardRateCurve, generate_dates\n",
    "\n",
    "observation_date = date.today()\n",
    "discount_data = pd.read_excel('discount_curve.xlsx')\n",
    "libor_data = pd.read_excel('libor_curve.xlsx')\n",
    "\n",
    "dc = DiscountCurve(observation_date, \n",
    "                   discount_data['pillars'].dt.date.tolist(),\n",
    "                   discount_data['discount_factors'].tolist())\n",
    "\n",
    "fr = ForwardRateCurve(observation_date, \n",
    "                      libor_data['dates'].dt.date.tolist(),\n",
    "                      libor_data['rates'].tolist())\n",
    "\n",
    "print(dc.df(date(2021, 1, 1)))"
   ]
  },
  {
   "cell_type": "markdown",
   "metadata": {},
   "source": [
    "Let's test our class instantiating an IRS with 1M notional, fixed rate of 5%, 6 month tenor and a maturity of 4 years; discount and libor curves are the same as before."
   ]
  },
  {
   "cell_type": "code",
   "execution_count": 10,
   "metadata": {
    "colab": {
     "base_uri": "https://localhost:8080/",
     "height": 181
    },
    "colab_type": "code",
    "executionInfo": {
     "elapsed": 430,
     "status": "error",
     "timestamp": 1572128972872,
     "user": {
      "displayName": "Matteo Sani",
      "photoUrl": "https://lh3.googleusercontent.com/a-/AAuE7mAJoEkE0aEpcWTzP7VnHn98dIfMUkpRno3NEZn6SA=s64",
      "userId": "10639058540037747059"
     },
     "user_tz": -120
    },
    "id": "IMkf-YK1w0CX",
    "outputId": "b501e2eb-a5e0-48d4-e21d-449a4cbc13ae",
    "slideshow": {
     "slide_type": "slide"
    }
   },
   "outputs": [
    {
     "data": {
      "text/plain": [
       "-155215.90894583438"
      ]
     },
     "execution_count": 10,
     "metadata": {},
     "output_type": "execute_result"
    }
   ],
   "source": [
    "# test it\n",
    "from dateutil.relativedelta import relativedelta\n",
    "\n",
    "start_date = date.today() + relativedelta(months=1)\n",
    "irs = InterestRateSwap(date.today(), start_date, 1.e6, 0.05, 6, 4)\n",
    "irs.npv(dc, fr)"
   ]
  },
  {
   "cell_type": "markdown",
   "metadata": {
    "colab_type": "text",
    "id": "wXwkA1FQw0Ca",
    "slideshow": {
     "slide_type": "fragment"
    }
   },
   "source": [
    "Can you guess what could be the **swap rate** given the value obtained for the NPV ? (In particular will it be higher or lower than the IRS fixed rate of 5% ?)\n",
    "\n",
    "(Remember that we are looking at this contracts from the point of view of the receiver of the floating leg...)"
   ]
  },
  {
   "cell_type": "code",
   "execution_count": 11,
   "metadata": {
    "colab": {
     "base_uri": "https://localhost:8080/",
     "height": 164
    },
    "colab_type": "code",
    "executionInfo": {
     "elapsed": 742,
     "status": "error",
     "timestamp": 1572128975123,
     "user": {
      "displayName": "Matteo Sani",
      "photoUrl": "https://lh3.googleusercontent.com/a-/AAuE7mAJoEkE0aEpcWTzP7VnHn98dIfMUkpRno3NEZn6SA=s64",
      "userId": "10639058540037747059"
     },
     "user_tz": -120
    },
    "id": "ZHPydpMLw0Cb",
    "outputId": "9a104d86-a87b-4037-c99d-9aa98e2f365b",
    "slideshow": {
     "slide_type": "-"
    }
   },
   "outputs": [
    {
     "data": {
      "text/plain": [
       "0.03073666118338544"
      ]
     },
     "execution_count": 11,
     "metadata": {},
     "output_type": "execute_result"
    }
   ],
   "source": [
    "# check the swap rate\n",
    "irs.swap_rate(dc, fr)"
   ]
  },
  {
   "cell_type": "markdown",
   "metadata": {},
   "source": [
    "To check if the we have computed correctly the swap rate we can instanciate a new IRS with fixed rate equal to the just calculated swap rate and print its NPV, it should come very close to 0."
   ]
  },
  {
   "cell_type": "code",
   "execution_count": 14,
   "metadata": {
    "colab": {
     "base_uri": "https://localhost:8080/",
     "height": 181
    },
    "colab_type": "code",
    "executionInfo": {
     "elapsed": 400,
     "status": "error",
     "timestamp": 1572128975374,
     "user": {
      "displayName": "Matteo Sani",
      "photoUrl": "https://lh3.googleusercontent.com/a-/AAuE7mAJoEkE0aEpcWTzP7VnHn98dIfMUkpRno3NEZn6SA=s64",
      "userId": "10639058540037747059"
     },
     "user_tz": -120
    },
    "id": "UONUQ_69w0Ce",
    "outputId": "523fe290-b7db-47f7-b644-fb60a8eae32c",
    "slideshow": {
     "slide_type": "-"
    }
   },
   "outputs": [
    {
     "data": {
      "text/plain": [
       "-26.902784640079684"
      ]
     },
     "execution_count": 14,
     "metadata": {},
     "output_type": "execute_result"
    }
   ],
   "source": [
    "# check NPV of new IRS\n",
    "irs_new = InterestRateSwap(date.today(), start_date, 1e6, 0.03074, 6, 4)\n",
    "irs_new.npv(dc, fr)"
   ]
  },
  {
   "cell_type": "markdown",
   "metadata": {},
   "source": [
    "## Inheritance\n",
    "\n",
    "At this point we have implemented two swap classes and we can try an alternative approach, inheritance. \n",
    "This is just for illuatration since, as we will see, there is not much code to share between $\\tt{InterestRateSwap}$ and $\\tt{OvernightIndexSwap}$."
   ]
  },
  {
   "cell_type": "code",
   "execution_count": null,
   "metadata": {},
   "outputs": [],
   "source": [
    "# inheritance\n",
    "class GenericSwap:\n",
    "    def __init__(self, notional, start_date, fixed_rate,\n",
    "                maturity, tenor=12):\n",
    "        self.notional = notional\n",
    "        self.start_date = start_date\n",
    "        self.fixed_rate = fixed_rate\n",
    "        self.fixed_payment_dates = generate_dates(start_date, maturity*12)\n",
    "        self.floating_payment_dates = generate_dates(start_date, maturity*12,\n",
    "                                                     tenor)\n",
    "    \n",
    "def InterestRateSwap(GenericSwap):\n",
    "    def annuity():\n",
    "    def swap_rate():\n",
    "        \n",
    "def OvernightIndexSwap(GenericSwap):\n",
    "    def npv_floating_leg()\n",
    "    def npv_fixed_leg()"
   ]
  },
  {
   "cell_type": "markdown",
   "metadata": {
    "colab_type": "text",
    "id": "1x-Dcv4Nw0Ch",
    "slideshow": {
     "slide_type": "-"
    }
   },
   "source": [
    "## Interest Rate Swaptions\n",
    "\n",
    "Swaptions are the equivalent of European options for the interest rate markets. They give the option holder the right but not the obligation, at the exercise date $d_{ex}$, to enter into an Interest Rate Swap at a pre-determined fixed rate.\n",
    "\n",
    "Clearly the option holder will only choose to do this if the NPV of the underlying swap at $d_{ex}$ is positive - looking at the expression for the NPV of the IRS in terms of the swap rate $S$ therefore, we can see that the payoff of the swaption is\n",
    "\n",
    "$$N\\cdot \\mathrm{max}(0, S(d_{\\mathrm{ex}}) - K)\\cdot\\sum D(d, d_i^{\\mathrm{fixed}})$$\n",
    "\n",
    "The key issue is now to estimate $S(d_{\\mathrm{ex}})$ in order to evaluate the payoff of a swaption. This will be shown with two alternative approaches."
   ]
  },
  {
   "cell_type": "markdown",
   "metadata": {
    "colab_type": "text",
    "id": "Y9j11ZUJw0Cj",
    "slideshow": {
     "slide_type": "-"
    }
   },
   "source": [
    "#### Evaluation through Black-Scholes formula\n",
    "\n",
    "In this case, to evaluate the NPV of this payoff, we'll use a generalization of the Black-Scholes-Merton formula applied to swaptions:\n",
    "\n",
    "$$\\mathrm{NPV} = N\\cdot A\\cdot [S \\Phi(d_+) - K\\Phi(d_-)]$$\n",
    "\n",
    "where $\\Phi$ represents the cumulative distribution function of the normal distribution\n",
    "\n",
    "$$d_{\\pm} = \\frac{\\mathrm{log}(\\frac{S}{K}) \\pm \\frac{1}{2}\\sigma^{2}T}{\\sigma\\sqrt{T}}\\qquad(\\sigma~\\textrm{is the volatility of the swap rate})\\\\$$\n",
    "$$A =\\sum_{i=1}^{p}D(d, d_{i}^{\\mathrm{fixed}})\\qquad\\mathrm{(annuity})$$\n",
    "\n",
    "\n",
    "As an example let's consider a swaption whose underlying 6M-IRS has a notional of 1M, fixed rate of 1%, and a maturity of 4 years.\n",
    "In addition we assume a volatility associated to the swap rate of about 7%."
   ]
  },
  {
   "cell_type": "code",
   "execution_count": 17,
   "metadata": {
    "colab": {
     "base_uri": "https://localhost:8080/",
     "height": 232
    },
    "colab_type": "code",
    "executionInfo": {
     "elapsed": 560,
     "status": "error",
     "timestamp": 1572128944503,
     "user": {
      "displayName": "Matteo Sani",
      "photoUrl": "https://lh3.googleusercontent.com/a-/AAuE7mAJoEkE0aEpcWTzP7VnHn98dIfMUkpRno3NEZn6SA=s64",
      "userId": "10639058540037747059"
     },
     "user_tz": -120
    },
    "id": "TEh0rznTw0Ck",
    "outputId": "f2a3c49d-c202-4a55-fd62-c58b56ffb3c1",
    "slideshow": {
     "slide_type": "-"
    }
   },
   "outputs": [
    {
     "data": {
      "text/plain": [
       "167087.3229569575"
      ]
     },
     "execution_count": 17,
     "metadata": {},
     "output_type": "execute_result"
    }
   ],
   "source": [
    "# define function to compute swaption payoff\n",
    "from math import log, sqrt\n",
    "from scipy.stats import norm \n",
    "\n",
    "def swaptionPayoffBS(irs, dc, fr, sigma, T):\n",
    "    N = irs.nominal\n",
    "    K = irs.fixed_rate\n",
    "    S = irs.swap_rate(dc, fr)\n",
    "    A = irs.annuity(dc)\n",
    "    dp = (log(S/K) + 0.5*sigma**2*T)/(sigma*sqrt(T))\n",
    "    dm = (log(S/K) - 0.5*sigma**2*T)/(sigma*sqrt(T))\n",
    "    return N*A*(S*norm.cdf(dp)-K*norm.cdf(dm))\n",
    "\n",
    "observation_date = date.today()\n",
    "star_date = observation_date + relativedelta(months=1)\n",
    "irs = InterestRateSwap(observation_date, start_date, 1e6, 0.01, 6, 4)\n",
    "exercise_date = start_date\n",
    "T = (exercise_date - observation_date).days/365\n",
    "sigma = 0.07\n",
    "swaptionPayoffBS(irs, dc, fr, sigma, T)"
   ]
  },
  {
   "cell_type": "markdown",
   "metadata": {
    "colab_type": "text",
    "id": "MgD1S0d6w0Cr",
    "slideshow": {
     "slide_type": "-"
    }
   },
   "source": [
    "#### Evaluation through Monte-Carlo Simulation\n",
    "\n",
    "In this second case we start from the current swap rate $S(d)$ evaluated at the pricing date $d$, and assume that it follows a log-normal stochastic process, i.e. its distribution at $d_{\\mathrm{ex}}$ (exercise date) is $S(d_{\\mathrm{ex}}) = S(d)\\mathrm{exp}(-\\frac{1}{2}\\sigma^{2}T+\\sigma\\sqrt{T}\\epsilon)$ where $\\epsilon\\approx\\mathcal{N}(0,1)$. \n",
    "Notice that it is assumed that the *drift* rate in the evolution of the swap rate is zero.\n",
    "Given that the discounted payoff is given by:\n",
    "\n",
    "$$N\\cdot \\mathrm{max}(0, S(d_{\\mathrm{ex}}) - K)\\cdot\\sum D(d, d_i^{\\mathrm{fixed}})$$\n",
    "\n",
    "to perform the simulation we can:\n",
    "\n",
    "* sample the normal distribution $\\mathcal{N}(0, 1)$ to calculate a large number of scenarios for $S(d_{\\mathrm{ex}})$;\n",
    "* evaluate the underlying swap's NPV at the exercise date, and consequently the swaption's payoff, for each scenario;\n",
    "* take the average of these values to get the final estimate."
   ]
  },
  {
   "cell_type": "code",
   "execution_count": 19,
   "metadata": {
    "colab": {
     "base_uri": "https://localhost:8080/",
     "height": 232
    },
    "colab_type": "code",
    "executionInfo": {
     "elapsed": 527,
     "status": "error",
     "timestamp": 1572128920449,
     "user": {
      "displayName": "Matteo Sani",
      "photoUrl": "https://lh3.googleusercontent.com/a-/AAuE7mAJoEkE0aEpcWTzP7VnHn98dIfMUkpRno3NEZn6SA=s64",
      "userId": "10639058540037747059"
     },
     "user_tz": -120
    },
    "id": "jwSPhuzJw0Cs",
    "outputId": "1154c6d3-06f5-417e-e418-cd670a0bf33b",
    "slideshow": {
     "slide_type": "-"
    }
   },
   "outputs": [
    {
     "name": "stdout",
     "output_type": "stream",
     "text": [
      "167085.00972089425\n"
     ]
    }
   ],
   "source": [
    "# implement MC swaption payoff\n",
    "import numpy as np\n",
    "from math import exp, sqrt\n",
    "from numpy.random import normal, seed\n",
    "\n",
    "n_scenarios = 100000\n",
    "payoffs = []\n",
    "S0 = irs.swap_rate(dc, fr)\n",
    "for _ in range(n_scenarios):\n",
    "    S = S0 * exp(-0.5*sigma*sigma*T + sigma*sqrt(T)*normal())\n",
    "    payoff = irs.nominal*max(0, S - irs.fixed_rate)*irs.annuity(dc)\n",
    "    payoffs.append(payoff)\n",
    "\n",
    "print (np.mean(payoffs))"
   ]
  },
  {
   "cell_type": "markdown",
   "metadata": {
    "slideshow": {
     "slide_type": "-"
    }
   },
   "source": [
    "### Confidence Interval\n",
    "So let's calculate the 95% confidence level for the swaption simulation above."
   ]
  },
  {
   "cell_type": "code",
   "execution_count": 20,
   "metadata": {},
   "outputs": [
    {
     "name": "stdout",
     "output_type": "stream",
     "text": [
      "167085.00972089425 +- 30.830050973212675\n"
     ]
    }
   ],
   "source": [
    "# calculate the MC error estimate as\n",
    "# 95% confidence interval\n",
    "interval = 1.96*np.std(payoffs)/sqrt(n_scenarios)\n",
    "print (\"{} +- {}\".format(np.mean(payoffs), interval))"
   ]
  }
 ],
 "metadata": {
  "celltoolbar": "Slideshow",
  "colab": {
   "collapsed_sections": [],
   "name": "lecture_6.ipynb",
   "provenance": []
  },
  "kernelspec": {
   "display_name": "Python 3 (ipykernel)",
   "language": "python",
   "name": "python3"
  },
  "language_info": {
   "codemirror_mode": {
    "name": "ipython",
    "version": 3
   },
   "file_extension": ".py",
   "mimetype": "text/x-python",
   "name": "python",
   "nbconvert_exporter": "python",
   "pygments_lexer": "ipython3",
   "version": "3.8.10"
  }
 },
 "nbformat": 4,
 "nbformat_minor": 1
}
