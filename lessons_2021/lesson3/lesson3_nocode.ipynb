{
 "cells": [
  {
   "cell_type": "code",
   "execution_count": null,
   "metadata": {
    "id": "3Zomfg_fFtvA"
   },
   "outputs": [],
   "source": [
    "import sys\n",
    "from google.colab import drive\n",
    "\n",
    "drive.mount('/content/drive')\n",
    "sys.path.append('/content/drive/MyDrive/finance_course/2021/lesson3')"
   ]
  },
  {
   "cell_type": "markdown",
   "metadata": {
    "id": "KSnutchpFK1S"
   },
   "source": [
    "## Overnight Index Swap\n",
    "\n",
    "* Interest rate swaps (IRS) are usually used to mitigate the risks of fluctuations of varying interest rates, or to benefit from lower rates. \n",
    "\n",
    "* Overnight Index Swaps (OIS) are a particular kind of IRS which pay a floating coupon, determined by overnight rate fixings over the reference periods, against a fixed coupon.  \n",
    "  * We will always look at these products from the point of view of the **receiver of the floating leg**.\n",
    "\n",
    "* An OIS is defined by:\n",
    "  * a notional amount $N$;\n",
    "  * a starting date $d_0$;\n",
    "  * a sequence of payment dates $d_1,...,d_n$;\n",
    "  * a fixed rate $K$.\n",
    "\n",
    "* For simplicity in the following we assume the fixed and floating legs to have the same notional and payment dates, although this is not necessarily always the case in practice.\n"
   ]
  },
  {
   "cell_type": "markdown",
   "metadata": {
    "id": "nDguX2fIKZYS"
   },
   "source": [
    "### OIS Valuation\n",
    "\n",
    "* To evaluate the NPV of such products the cash flows of each leg have to be calculated; then sum their discounted values.\n"
   ]
  },
  {
   "cell_type": "markdown",
   "metadata": {
    "id": "I3h_EgYKKaQf"
   },
   "source": [
    "#### Floating leg\n",
    "\n",
    "* The floating leg pays a cash flow determined as follows:\n",
    "\n",
    "$$f_{\\mathrm{float},~i} = N \\Bigg\\{\\prod_{d=d_{i-1}}^{d=d_i-1}\\Big(1+r_{\\mathrm{O/N}}(d)\\cdot\\frac{1}{360}\\Big) -1 \\Bigg\\}$$\n",
    "\n",
    "* This formula is valid for OIS swaps in EUR since the $\\frac{1}{360}$ fraction appears because EONIA rates are quoted using the ACT/360 day-count convention.\n",
    "  * Other currencies might have different conventions.  \n",
    "  * In addition we are making the simplifying assumption of ignoring weekends and holidays:\n",
    "    * each overnight rate is valid for only one day.\n",
    "\n",
    "* The sum of the discounted expected values of these cash flows is\n",
    "\n",
    "$$\\mathrm{NPV}_{\\mathrm{float}} = \\sum_{i=1}^{n}D(d_i)\\mathbb{E}[f_{\\mathrm{float},~i}]$$\n",
    "\n",
    "* where $D(d)$ is the discount factor with expiry $d$. \n",
    "\n",
    "* On the other hand, by definition \n",
    "\n",
    "$$\\begin{equation*}\n",
    "\\prod_{i=0}^{d} (1+r_i\\Delta T) = \\underbrace{(1+r_{0,1}\\Delta T)\\underbrace{(1+r_{1,2}\\Delta T)\\ldots\\underbrace{(1+r_{d-2,d-1}\\Delta T)(1+r_{d-1,d}\\Delta T)}_{=(1+r_{d-2,d}\\Delta T)}}_{=(1+r_{1,d}\\Delta T)}}_{=(1+r_{0,d}\\Delta T)}\n",
    "\\end{equation*}$$\n",
    "\n",
    "$$\\mathbb{E}[f_{\\mathrm{float},~i}] = N\\cdot\\Big(\\frac{D_{\\mathrm{OIS}}(d_{i-1})}{D_{\\mathrm{OIS}}(d_{i})} - 1\\Big)$$\n",
    "\n",
    "$$\\mathrm{NPV}_{\\mathrm{float}} = N\\cdot \\sum_{i=1}^{n}D(d_i) \\Big(\\frac{D_{\\mathrm{OIS}}(d_{i-1})}{D_{\\mathrm{OIS}}(d_{i})} - 1\\Big)$$\n",
    "\n",
    "* where $D_{\\mathrm{OIS}}(d)$ is the discount factor implied by OIS prices (we will see how to derive it).\n",
    "\n",
    "* Since the correct curve to discount OIS is the overnight index itself we have that $D = D_{\\mathrm{OIS}}$ so the NPV simplifies to\n",
    "\n",
    "$$\\begin{equation}\n",
    "  \\begin{split}\n",
    "    \\mathrm{NPV}_{\\mathrm{float}} & = N\\cdot\\sum_{i=1}^{n}[D(d_{i-1}) - D(d_i)] =  \\\\\n",
    "    &= N\\cdot[(D(d_{0}) - D(d_{1})) + (D(d_{1}) - D(d_{2})) + ... + (D(d_{n-1}) - D(d_{n}))]\\\\\n",
    "    &= N \\cdot [D(d_0) - D(d_n)]\n",
    "  \\end{split}\n",
    "\\end{equation}\n",
    "$$"
   ]
  },
  {
   "cell_type": "markdown",
   "metadata": {
    "id": "K-Ze7cvAKbC5"
   },
   "source": [
    "#### Fixed leg\n",
    "* The calculation for the fixed leg is simpler: each cash flow is  equal to\n",
    "\n",
    "$$f_{\\mathrm{fixed},~i}=N\\cdot K\\cdot \\frac{d_i - d_{i-1}}{360}$$\n",
    "\n",
    "* So the NPV of the fixed leg is\n",
    "\n",
    "$$\\mathrm{NPV}_{\\mathrm{fixed}} = N\\cdot K\\cdot \\sum_{i=1}^{n}D_{\\mathrm{OIS}}(d_{i})\\frac{d_i - d_{i-1}}{360}$$\n"
   ]
  },
  {
   "cell_type": "markdown",
   "metadata": {
    "id": "nBOCB-bSKvx-"
   },
   "source": [
    "### Discount Factor Determination from Market Quotes\n",
    "\n",
    "* Our ultimate goal is to take a series of Overnight Index Swap quotations, and determine the discount factors implied by their prices. \n",
    "  * To do this we will build a class to represent OIS and compute its value given particular discount curve; \n",
    "  * then we will use this class, with a numerical optimizer, to *invert* the relation which connects the NPV to the discount curve so that the implied discount factors can be determined from OIS prices (market quotes)."
   ]
  },
  {
   "cell_type": "code",
   "execution_count": null,
   "metadata": {
    "id": "e8rEhWVcFK1T"
   },
   "outputs": [],
   "source": [
    "# define OIS class\n",
    "from finmarkets import generate_dates\n"
   ]
  },
  {
   "cell_type": "markdown",
   "metadata": {
    "id": "DWTzSHjrFK1U"
   },
   "source": [
    "#### Example"
   ]
  },
  {
   "cell_type": "code",
   "execution_count": null,
   "metadata": {
    "id": "MIU4V8jwFK1U"
   },
   "outputs": [],
   "source": [
    "# test the class with a fake curve\n",
    "from datetime import date\n",
    "from finmarkets import DiscountCurve\n",
    "\n",
    "ois = OvernightIndexSwap(\n",
    "            1e6,\n",
    "            date(2020, 10, 21),\n",
    "            0.025, 36)\n",
    "\n",
    "# fake discount curve\n",
    "curve = DiscountCurve([date(2020, 10, 21), date(2021, 6, 1),\n",
    "                       date(2022, 1, 1)],\n",
    "                      [1.0, 0.98, 0.82])\n",
    "\n",
    "print (\"OIS NPV: {:.2f}\".format(ois.npv(curve)))"
   ]
  },
  {
   "cell_type": "markdown",
   "metadata": {
    "id": "YJqAYGIEFK1V"
   },
   "source": [
    "## Bootstrapping Technique \n",
    "\n",
    "* We would like to determine a discount curve starting from the market quotes of a set of Overnight Index Swaps with different maturities.\n",
    "\n",
    "* The employed technique is called bootstrapping.\n",
    "  * This is the ABC of financial mathematics, since you always need a\n",
    "discount curve to price a contract. \n",
    "  * We concentrate on EONIA swaps in order to build an EUR discount curve.\n",
    "* The asumption underlying bootstrapping is that market quotes represent the **fair** prices of the OIS so they make the swap NPVs null.\n",
    "  * The fair price is an estimate of what a willing buyer would pay a willing seller for a given asset, assuming both have a reasonable knowledge of the asset's worthness.\n"
   ]
  },
  {
   "cell_type": "markdown",
   "metadata": {
    "id": "eQjF538PMWXE"
   },
   "source": [
    "### Building OIS Instances\n",
    "\n",
    "* The first step involves getting data, the swap market quotes. \n",
    "  * This is not easy since EONIA swap market is over the counter (OTC) and it’s not straightforward to access it. \n",
    "  * Anyway in [ois_data.xlsx](https://github.com/matteosan1/finance_course/raw/develop/libro/input_files/ois_data.xlsx) it is available \n",
    "a dataset of swap quotes (which actually are rates rather prices) for our needs.\n"
   ]
  },
  {
   "cell_type": "code",
   "execution_count": null,
   "metadata": {
    "id": "33GqFN4DFK1V",
    "scrolled": true
   },
   "outputs": [],
   "source": [
    "# read and inspect ois_data.xlsx\n",
    "import pandas as pd\n"
   ]
  },
  {
   "cell_type": "markdown",
   "metadata": {
    "id": "KtucR8EeFK1W"
   },
   "source": [
    "* Let’s build a 15 months swap instance using above input data. \n",
    "  * Be careful when doing this operation and double check the units of rates, quotes, etc...\n",
    "  * For example quotes are expressed in percent so you need to multiply by 0.01 before using them;\n",
    "  * another detail to check is that 15 months quote is not the fifteenth entry in the $\\tt{DataFrame}$ (actually it is the twelfth)."
   ]
  },
  {
   "cell_type": "code",
   "execution_count": null,
   "metadata": {
    "id": "Vkk-rzEvFK1W"
   },
   "outputs": [],
   "source": [
    "# create an OvernightIndexSwap with a market quote\n"
   ]
  },
  {
   "cell_type": "markdown",
   "metadata": {
    "id": "DZkvqil9FK1W"
   },
   "source": [
    "### Bootstrap Algorithm\n",
    "\n",
    "* In finance, bootstrap is a method for constructing a (zero-coupon) yield curve from the prices of a set of coupon-bearing products (e.g. bonds and swaps). \n",
    "* The term structure of spot rates is obtained from the yields by solving for them recursively (by *forward substitution*): \n",
    "  * this iterative process is what is called the bootstrap method. \n",
    "* The usefulness of bootstrap is that using only few selected products, it is possible to derive forward and spot rates for all maturities.\n",
    "\n",
    "* Let’s consider the following example which can be solved, at least partially, analytically.\n",
    "* Select few bonds (yearly coupon of 4\\%, 5\\%, 6\\%, 7\\% and 8\\% respectively) with\n",
    "maturities ranging from 1 to 5 years, each having a value of €100 and traded at par (traded at its face value). \n",
    "\n",
    "* To determine the zero-coupon yield curve proceed as follows:\n",
    "  1. at the end of first year the discounted cash flow of the first bond is €104 (principal plus the coupon) times the discount factor, so the implied 1 year rate \n",
    "\n",
    "$$100 = \\cfrac{104}{(1 + S_{1y})}\\implies S_{1y} =  104/100 - 1 = 4\\%$$\n",
    "\n",
    "  2. at the end of second year the sum of the cash flows of the second bond can be compared to its trading price to compute the 2-year spot rate $S_{2y}$ (using the previously derived value of $S_{1y}$)\n",
    "\n",
    "$$100 = \\cfrac{5}{(1 + S_{1y})} + \\cfrac{105}{(1 + S_{2y})^{2}}$$\n",
    "<br>\n",
    "$$\n",
    "100 = 5 / (1 + 0.04) + 105 / (1 + S_{2y})^{2}\\qquad\\Rightarrow\\qquad S_{2y}^2  + 2 S_{2y}  - 0.103030 = 0 $$\n",
    "\n",
    "* This second order equation can be solved either by hand or with `numpy.roots`.\n",
    "\n",
    "\n",
    "\n",
    "\n"
   ]
  },
  {
   "cell_type": "code",
   "execution_count": null,
   "metadata": {
    "colab": {
     "base_uri": "https://localhost:8080/"
    },
    "executionInfo": {
     "elapsed": 8,
     "status": "ok",
     "timestamp": 1633266513123,
     "user": {
      "displayName": "Matteo Sani",
      "photoUrl": "https://lh3.googleusercontent.com/a-/AOh14GineBtaMxaxjhqcwcrPYHu9akgYzh5nR28bIHY8M0k=s64",
      "userId": "10639058540037747059"
     },
     "user_tz": -120
    },
    "id": "k2FpEZJiQ7E3",
    "outputId": "2c75b586-1d88-49d0-c230-c0739365f483"
   },
   "outputs": [],
   "source": [
    "import numpy as np\n"
   ]
  },
  {
   "cell_type": "markdown",
   "metadata": {
    "id": "46hRk-RvQ7pi"
   },
   "source": [
    "$$S_{2y} = - 1 \\pm \\sqrt{1 + 0.103030} = \\begin{cases}-2.05023 \\\\ 0.0502\\end{cases}$$\n",
    "\n",
    "* From the third year on we should obtain equation of third order or more:\n",
    "  * they are not easily analitically solvable. \n",
    "  \n",
    "* For example the equation for the fifth bond at the fifth year:\n",
    "\n",
    "$$100 = \\cfrac{8} {(1 + S_{1y})} + \\cfrac{8} {(1 + S_{2y})^{2}}+ \\cfrac{8} {(1 + S_{3y})^{3}} + \\cfrac{8} {(1 + S_{4y})^{4}} + \\cfrac{108} {(1 + S_{5y})^{5}}$$\n",
    "\n",
    "* Assuming we have already determined the previous rates:\n",
    "\n",
    "| years | coupon rate | bond price | rate|\n",
    "|:----:|:----:|:----:|:----:|\n",
    "|1 | 1.00 % | 100 | 4.00% |\n",
    "|2 | 2.00 % | 100 | 5.02% |\n",
    "|3 | 3.00 % | 100 | 6.08% |\n",
    "|4 | 4.00 % | 100 | 7.19% |\n",
    "|5 | 5.00 % | 100 | ??? |\n",
    "\n",
    "* Previous equation can be solved numerically using for example Brent's algorithm.\n",
    "\n",
    "![](https://drive.google.com/uc?id=1AmCejDf3ifMz9Zc6XOHeAk-5Tc23Zbrw)"
   ]
  },
  {
   "cell_type": "code",
   "execution_count": null,
   "metadata": {
    "id": "Rb0Pcz77FK1X"
   },
   "outputs": [],
   "source": [
    "# find zeros of previous eq. with brentq\n",
    "from scipy.optimize import brentq\n"
   ]
  },
  {
   "cell_type": "markdown",
   "metadata": {
    "id": "pmd4OQztFK1X"
   },
   "source": [
    "* The very same mechanism can be generalized to more maturities to get a more detailed yield curve: \n",
    "\n",
    "$$\\begin{equation*}\n",
    "\\begin{cases}\n",
    "f_1(S_1, p_1) = 0 \\\\\n",
    "f_2(S_1, S_2, p_2) = 0 \\\\\n",
    "f_3(S_1, S_2, S_3, p_3) = 0 \\\\\n",
    "f_4(S_1, S_2, S_3, S_4, p_4) = 0 \\\\\n",
    "\\cdots\n",
    "\\end{cases}\n",
    "\\end{equation*}\n",
    "$$\n",
    "* where $S_i$ are the unknown spot rates and $p_i$ the market quotes of the considered products. \n",
    "\n",
    "* The iterative procedure we have applied before exploits the first equation to find $S_1 = f_1^{-1}(p_1)$, the second to find $S_2 = f_2^{-1}(S_1, p_2)$ and so on...\n",
    "\n",
    "* This algorithm works since each equation will determine exactly one free spot rate which is not already determined by the others.\n"
   ]
  },
  {
   "cell_type": "markdown",
   "metadata": {
    "id": "UsG31lPaTzl_"
   },
   "source": [
    "### Bootstrap as Minimization Problem\n",
    "\n",
    "* Instead of iteratively finding the solution of each equation as before, we could:\n",
    "  * define a vector of spot rates $\\mathbf{S} = (S_1, S_2, S_3,\\ldots)$;\n",
    "  * seek for a particular $\\mathbf{\\hat{S}}$ which solves the following equation:\n",
    "\n",
    "$$F = f_1^2(\\hat{S}_1,p_1) + f_2^2(\\hat{S}_1, \\hat{S}_2,p_2) + f_3^2(\\hat{S}_1, \\hat{S}_2, \\hat{S}_3,p_3) + f_4^2(\\hat{S}_1, \\hat{S}_2, \\hat{S}_3, \\hat{S}_4,p_4) + \\ldots = 0$$\n",
    "\n",
    "* Under this terms the bootstrap technique can be considered as a minimization problem;\n",
    "  * indeed we need to find $\\mathbf{\\hat{S}}$ which makes $F$ zero, or at least *minimize* it making $F$ as close as possible to 0.\n",
    "  * Notice that each $f_i$ is squared since we want all of them to be minimized at the same time and not only $F$ globally (without the squared there may be cancellation effects between the terms of the sum).\n"
   ]
  },
  {
   "cell_type": "markdown",
   "metadata": {
    "id": "eSxtDCNQFK1X"
   },
   "source": [
    "### Minimization Algorithm\n",
    "\n",
    "* A minimization algorithm follows these steps:\n",
    "  1. define an *objective function* i.e. the function that is actually minimized to reach our goal;\n",
    "  2. set the initial value of the unknown parameters and their range of variability;\n",
    "  3. the minimizer will compute the objective function value;\n",
    "  4. then it will move the parameter values in such a way to find a smaller value of the objective function (e.g. following the derivative w.r.t. each parameter);\n",
    "  5. if there are contraints the step above will take them into account;\n",
    "  6. steps 4 and 5 are repeated until further variations of the $\\mathbf{x}$ values won’t change significantly the objective function (i.e. we have found a minimum of the function so the minimisation process is completed !).\n",
    "\n",
    "* In $\\tt{python}$ the algorithm is implemented in $\\tt{scipy.optimize.minimize}$"
   ]
  },
  {
   "cell_type": "markdown",
   "metadata": {
    "id": "GkfVneYAFK1X"
   },
   "source": [
    "### Example \n",
    "* Find the dimensions that will minimize the costs to manufacture a cylindrical can of volume $330~\\mathrm{cm}^3 (33~\\mathrm{cl})$.\n",
    "\n",
    "![](https://drive.google.com/uc?id=1LQaX8j10nq1KgRu4RdR4Ade96fsMNxa6)\n",
    "\n",
    "* Minimize the costs means the company needs to reduce the can surface, given the required volume.\n",
    "\n",
    "$$ S(r, h) = 2\\pi rh + 2\\cdot(\\pi r^2) $$\n",
    "\n",
    "* The volume is fixed to $330~\\mathrm{cm}^3$ so we can remove $h$ from the previous equation:\n",
    "\n",
    "$$ V = \\pi r^2 h = 330\\quad\\implies h = \\cfrac{330}{\\pi r^2} $$\n",
    "\n",
    "* The surface function to be minimized is:\n",
    "\n",
    "$$ S(r) = 2\\pi rh + 2\\cdot(\\pi r^2) = \\cfrac{2\\cdot 330}{r} + 2\\cdot(\\pi r^2)$$\n",
    "\n"
   ]
  },
  {
   "cell_type": "code",
   "execution_count": null,
   "metadata": {
    "id": "U-HZN82bFK1Y"
   },
   "outputs": [],
   "source": [
    "from math import pi\n"
   ]
  },
  {
   "cell_type": "markdown",
   "metadata": {
    "id": "B-k8VGgpFK1Y"
   },
   "source": [
    "* Set the limits to our unknown variable and its initial value:"
   ]
  },
  {
   "cell_type": "code",
   "execution_count": null,
   "metadata": {
    "id": "0cy_uuoOFK1Y"
   },
   "outputs": [],
   "source": []
  },
  {
   "cell_type": "markdown",
   "metadata": {
    "id": "zOrJicLqFK1Z"
   },
   "source": [
    "* Run the minimization:"
   ]
  },
  {
   "cell_type": "code",
   "execution_count": null,
   "metadata": {
    "executionInfo": {
     "elapsed": 863,
     "status": "ok",
     "timestamp": 1633267789013,
     "user": {
      "displayName": "Matteo Sani",
      "photoUrl": "https://lh3.googleusercontent.com/a-/AOh14GineBtaMxaxjhqcwcrPYHu9akgYzh5nR28bIHY8M0k=s64",
      "userId": "10639058540037747059"
     },
     "user_tz": -120
    },
    "id": "f0FjIa6zFK1Z"
   },
   "outputs": [],
   "source": [
    "from scipy.optimize import minimize\n"
   ]
  },
  {
   "cell_type": "markdown",
   "metadata": {
    "id": "ZB8lTd5_FK1Z"
   },
   "source": [
    "* To minimize the cost the company should produce cans with a radius of about 3.745 cm."
   ]
  },
  {
   "cell_type": "markdown",
   "metadata": {
    "id": "N5JSfh1tFK1Z"
   },
   "source": [
    "### Example with Constraint\n",
    "\n",
    "* You need to fence a rectangular field. \n",
    "  * If we look at the field from above the cost of the vertical sides are €10/m, the cost of the bottom is €2/m and the cost of the top is €7/m. \n",
    "  * If we have €700 determine the dimensions of the field that will maximize the enclosed area.\n",
    "\n",
    "![](https://drive.google.com/uc?id=1JhL79-u0uDs8nkcEtletOWypdKWWZDBc)\n",
    "\n",
    "* In this example there are two differences w.r.t before:\n",
    "  * we want to maximize a quantity (not minimize);\n",
    "  * there is a contraint (we have a limited amount of money).\n",
    "\n",
    "* The objective is to **maximize** the enclosed area $A$ so we can **minimize** the quantity $-A$. \n",
    "* Further define length and width of the field with $\\tt{x[0]}$ and $\\tt{x[1]}$ (items of the list $\\tt{x}$)."
   ]
  },
  {
   "cell_type": "code",
   "execution_count": null,
   "metadata": {
    "id": "19GPLyZxXKuk"
   },
   "outputs": [],
   "source": []
  },
  {
   "cell_type": "markdown",
   "metadata": {
    "id": "6fp7WSdFFK1a"
   },
   "source": [
    "* Set the boundaries for length and width and their initial values (1 m each):"
   ]
  },
  {
   "cell_type": "code",
   "execution_count": null,
   "metadata": {
    "id": "4g4m2lHIFK1a"
   },
   "outputs": [],
   "source": []
  },
  {
   "cell_type": "markdown",
   "metadata": {
    "id": "NWEU50gdFK1a"
   },
   "source": [
    "* We need to impose the constraint on the money.\n",
    "* This is done by defining a function that computes the money spent with the fence and compare it to €700.\n",
    "* The constraint is passed to the minimizer as a dictionary which has two keys: \n",
    "  * $\\tt{type}$ with value $\\tt{eq}$ (like equality) since we want to spend all of our available money so the fence has to cost €700\n",
    "\n",
    "$$\\mathrm{fence~cost} = l\\cdot10 + l\\cdot10 + w\\cdot2 + w\\cdot7 = 700$$\n",
    "$$l\\cdot10 + l\\cdot10 + w\\cdot2 + w\\cdot7 - 700 = 0$$\n",
    "\n",
    "  * $\\tt{fun}$ whose value is the constraint function. "
   ]
  },
  {
   "cell_type": "code",
   "execution_count": null,
   "metadata": {
    "id": "V4EaymTAFK1a"
   },
   "outputs": [],
   "source": []
  },
  {
   "cell_type": "markdown",
   "metadata": {
    "id": "QqHSO4YJFK1a"
   },
   "source": [
    "* Run the minimizer."
   ]
  },
  {
   "cell_type": "code",
   "execution_count": null,
   "metadata": {
    "id": "0FDs-GL7FK1b"
   },
   "outputs": [],
   "source": []
  },
  {
   "cell_type": "markdown",
   "metadata": {
    "id": "qMQ3ggVcFK1b"
   },
   "source": [
    "* So the field will come out $17.5$ m long and $38.9$ m wide.\n",
    "\n",
    "## Local Minima"
   ]
  },
  {
   "cell_type": "code",
   "execution_count": null,
   "metadata": {
    "id": "CvxqbIvEFK1b"
   },
   "outputs": [],
   "source": [
    "import numpy as np\n",
    "from math import pi\n",
    "\n",
    "def func(x):\n",
    "    return np.cos(3*pi*x)/x"
   ]
  },
  {
   "cell_type": "markdown",
   "metadata": {
    "id": "7yTOei7iFK1c"
   },
   "source": [
    "![](https://drive.google.com/uc?id=1NarHa2FYJxDT6nq_sm6H57PUJcwHBxxx)"
   ]
  },
  {
   "cell_type": "code",
   "execution_count": null,
   "metadata": {
    "id": "Sg7E-vkaFK1b"
   },
   "outputs": [],
   "source": [
    "from scipy.optimize import minimize\n",
    "x0 = [1.1]\n",
    "bounds = [(0.01, 2)]\n",
    "\n",
    "r = minimize(func, x0, bounds=bounds)\n",
    "print (r)"
   ]
  },
  {
   "cell_type": "code",
   "execution_count": null,
   "metadata": {
    "id": "Yhcaky95FK1b"
   },
   "outputs": [],
   "source": [
    "from scipy.optimize import minimize\n",
    "x0 = [0.5]\n",
    "bounds = [(0.01, 2)]\n",
    "\n",
    "r = minimize(func, x0, bounds=bounds)\n",
    "print (r)"
   ]
  },
  {
   "cell_type": "markdown",
   "metadata": {
    "id": "-DsV0-E9FK1c"
   },
   "source": [
    "### Back to OIS Example\n",
    "\n",
    "* Find the discount curve $\\mathcal{C}$ such that it prices as much correctly as possible each OIS by minimizing the sum of the squared NPVs (our $f_i$):\n",
    "\n",
    "$$\\begin{equation}\n",
    "\t\\mathrm{min}_{\\mathcal{C}} \\Big\\{\\sum_{i=1}^{n}\\mathrm{NPV}(\\mathrm{OIS}_i, \\mathcal{C})^2\\Big\\}\n",
    "\\end{equation}$$\n",
    "\n",
    "\n",
    "* Note: market quotes represent the OIS *fair* prices, so their NPV's should be close to 0.\n",
    "\n",
    "\n",
    "* The previous equation is the objective function to implement, and the algorithm will adjust the unknown discount factors of $\\mathcal{C}$ to reach the minimum.\n",
    "\n",
    "\n",
    "* In the previous examples the number of minimization parameters (i.e. the degrees of freedom of the problem) was clear:\n",
    "    * 1 for the can example, the can radius;\n",
    "    * 2 for the fence problem, width and height of the field.\n",
    "\n",
    "* A discount curve is characterized by pillar dates ($\\mathbf{d}$) and discount factors ($\\mathbf{x}$):\n",
    "    * we haven't yet identified a constraint on how many points the curve is made of (too many or too few points may prevent us from finding the solution).\n",
    "    \n",
    "    \n",
    "* **In practice, it makes sense to choose the number of degrees of freedom to match the number of market quotes.** \n",
    "    * In particular it is wise to choose the pillar dates of the discount curve equal to the set of the swap expiry dates.\n",
    "\n",
    "$$\\begin{equation}\n",
    " F= \\mathrm{min}_{\\mathbf{x}} \\Big\\{\\sum_{i=1}^{N}\\mathrm{NPV}^2(\\mathrm{OIS}_i, \\mathcal{C}(\\mathbf{d}, \\mathbf{x}))\\Big\\}\\qquad (f_i^2 = \\mathrm{NPV}^2(\\mathrm{OIS}_i, \\mathcal{C}(\\mathbf{d}, \\mathbf{x})))\n",
    "\\end{equation}$$\n",
    "\n",
    "* which is the final version of our optimization problem (i.e. finding the minimum of the above expression as a function of $\\mathbf{x}$).\n",
    "\n",
    "\n",
    "* First create the swaps according to all the available market quotes and also the pillar dates of our final discount curve:"
   ]
  },
  {
   "cell_type": "code",
   "execution_count": null,
   "metadata": {
    "id": "xa4fWe3gFK1c"
   },
   "outputs": [],
   "source": [
    "# creates the OIS from market quotes\n",
    "from finmarkets import generate_dates\n",
    "\n",
    "pricing_date = date.today()\n",
    "pillar_dates = [pricing_date]\n",
    "swaps = [] # container of the OIS objects \n"
   ]
  },
  {
   "cell_type": "markdown",
   "metadata": {
    "id": "SG22qBgEFK1c"
   },
   "source": [
    "* Define the objective function: the sum of the squared NPVs of the OIS "
   ]
  },
  {
   "cell_type": "code",
   "execution_count": null,
   "metadata": {
    "id": "jyEtaJqmFK1c"
   },
   "outputs": [],
   "source": [
    "# define objective function\n",
    "import numpy as np\n",
    "from finmarkets import DiscountCurve\n"
   ]
  },
  {
   "cell_type": "markdown",
   "metadata": {
    "id": "-s-8AakMFK1d"
   },
   "source": [
    "* Set the initial value of the discount factors ($x_i$) to 1 with a range of variability $[ 0.01, 10]$, in addition the first element of the list, today’s discount factor, will be fixed to 1 (variability $[1, 1]$)"
   ]
  },
  {
   "cell_type": "code",
   "execution_count": null,
   "metadata": {
    "id": "VmFiOOyKFK1d"
   },
   "outputs": [],
   "source": [
    "# set boundaries and guess values\n"
   ]
  },
  {
   "cell_type": "markdown",
   "metadata": {
    "id": "pJsX4NPiFK1d"
   },
   "source": [
    "* Launch the minimizer to find the discount factors ($\\mathbf{x}$)"
   ]
  },
  {
   "cell_type": "code",
   "execution_count": null,
   "metadata": {
    "id": "2zmZStYtFK1d"
   },
   "outputs": [],
   "source": [
    "# minimize\n"
   ]
  },
  {
   "cell_type": "markdown",
   "metadata": {
    "id": "IEiIPjYOFK1d"
   },
   "source": [
    "* Some diagnostic number/plot."
   ]
  },
  {
   "cell_type": "code",
   "execution_count": null,
   "metadata": {
    "id": "QxGdUZeqFK1e"
   },
   "outputs": [],
   "source": [
    "# print initial and final objective function values\n"
   ]
  },
  {
   "cell_type": "markdown",
   "metadata": {
    "id": "a2kpqBNXFK1e"
   },
   "source": [
    "![](https://drive.google.com/uc?id=17VFztegQzIOh1IMKf49BJlVXO51F_n5P)\n",
    "![](https://drive.google.com/uc?id=1poBs7n51TC_rrXww1mzbqBkdHH5ZoyoD)"
   ]
  },
  {
   "cell_type": "markdown",
   "metadata": {
    "id": "wIIIMeEgFK1e"
   },
   "source": [
    "* Finally we can create the discount curve implied by the market quote of our swaps. \n",
    "\n",
    "$$ \\mathrm{df} = e^{-rt} \\quad\\implies \\mathrm{log(df)} = -rt\\quad\\implies r = -\\mathrm{log(df)}/t$$"
   ]
  },
  {
   "cell_type": "code",
   "execution_count": null,
   "metadata": {
    "id": "gmyKWn5EFK1e"
   },
   "outputs": [],
   "source": [
    "# create the discount curve with our factors\n",
    "from math import log\n",
    "from dateutil.relativedelta import relativedelta\n",
    "from finmarkets import DiscountCurve\n",
    "\n"
   ]
  },
  {
   "cell_type": "code",
   "execution_count": null,
   "metadata": {
    "id": "OUxmY0r-FK1e"
   },
   "outputs": [],
   "source": [
    "from matplotlib import pyplot as plt\n"
   ]
  }
 ],
 "metadata": {
  "colab": {
   "collapsed_sections": [],
   "name": "lesson3_nocode.ipynb",
   "provenance": []
  },
  "kernelspec": {
   "display_name": "Python 3 (ipykernel)",
   "language": "python",
   "name": "python3"
  },
  "language_info": {
   "codemirror_mode": {
    "name": "ipython",
    "version": 3
   },
   "file_extension": ".py",
   "mimetype": "text/x-python",
   "name": "python",
   "nbconvert_exporter": "python",
   "pygments_lexer": "ipython3",
   "version": "3.8.10"
  }
 },
 "nbformat": 4,
 "nbformat_minor": 1
}
