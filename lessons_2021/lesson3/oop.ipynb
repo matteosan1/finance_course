{
 "cells": [
  {
   "cell_type": "markdown",
   "id": "ef99df39",
   "metadata": {},
   "source": [
    "## Classes\n",
    "\n",
    "* Classes are the key ingredient of *Object Oriented Programming* (OOP).\n",
    "    * Their concept is implemented in every modern programming language like *python*, *Java*, *C++*... \n",
    "    \n",
    "    \n",
    "* OOP is a programming model where programs are organized around data, or **objects**, rather than functions and logic.\n",
    "    * Any object can be thought of as a dataset with unique attributes and behaviour;\n",
    "    * Examples: \n",
    "        * a human being that is described by properties like name and birthday,\n",
    "        * the *abstract concepts* of a discount curve with dates and discount factor.\n",
    "        \n",
    "        \n",
    "* In this framework classes are a mean for \n",
    "    * creating objects (a particular data structure);\n",
    "    * providing initial values for its state (member variables or attributes); \n",
    "    * implementating their behaviour (member functions or methods).\n",
    "    \n",
    "    \n",
    "* Classes are collections of functions that operate on a dataset and *instances* of that class represent individual datasets (or if you prefer a specialization of that class).\n",
    "\n",
    "![](classes_instances.png)\n",
    "\n",
    "\n",
    "#### Example: the Class Person\n",
    "\n",
    "* First of all we have to import the necessary modules:\n",
    "    * in this case the `datetime` module is used to managed the person age.\n",
    "    \n",
    "\n",
    "* Then the `class` keyword followed by the class name is used to start the actual definition."
   ]
  },
  {
   "cell_type": "code",
   "execution_count": null,
   "id": "d5201f51",
   "metadata": {},
   "outputs": [],
   "source": [
    "from datetime import date        \n",
    "\n",
    "class Person:"
   ]
  },
  {
   "cell_type": "markdown",
   "id": "d09dea6a",
   "metadata": {},
   "source": [
    "### The \"Constructor\" Method\n",
    "\n",
    "* After declaring the class name, the constructor method must be defined. \n",
    "\n",
    "\n",
    "* It is always denoted by `__init__`: \n",
    "    * as every other method in a class, takes `self` as the first argument;\n",
    "    * then any number of parameters as desired by the programmer. \n",
    "    \n",
    "    \n",
    "* `__init__` allows to specify the initial state of a class by setting its attribute values.\n",
    "    * Here, talking about a person, we may want to specify its name, birthday...\n",
    "\n",
    "\n",
    "* The `self` parameter is used to create and access every class attribute or method.\n",
    "\n",
    "\n",
    "* Variables whose name starts with `self.` have *class scope*, which means are available within each class method. \n",
    "\n",
    "\n",
    "* To use the parameters and associate them with a particular instance of the class, within the `__init__` method, create variables for each argument like this: \n",
    "`self.variableName = param`\n"
   ]
  },
  {
   "cell_type": "code",
   "execution_count": 2,
   "id": "c988f174",
   "metadata": {},
   "outputs": [],
   "source": [
    "from datetime import date\n",
    "\n",
    "# this is the class definition\n",
    "# usually classes use camel naming convention\n",
    "class Person:\n",
    "    # the special method __init__ allows to instantiate a class\n",
    "    # with an initial dataset\n",
    "    def __init__(self, name, birthday):\n",
    "        self.name = name\n",
    "        self.birthday = birthday\n",
    "        self.occupation = None # this attribute won't be set at instantiation"
   ]
  },
  {
   "cell_type": "markdown",
   "id": "ff76398d",
   "metadata": {},
   "source": [
    "* Now that we have a class definition that represents a generic person we can specialized it to some real person.\n",
    "    * When we instantiate a class, `python` first calls the `__init__` method and initializes the attributes with the parameter we are passing.\n",
    "    * To access class attributes and methods the dot (`.`) operator has to be used. "
   ]
  },
  {
   "cell_type": "code",
   "execution_count": 4,
   "id": "d5b635e0",
   "metadata": {},
   "outputs": [
    {
     "name": "stdout",
     "output_type": "stream",
     "text": [
      "<class '__main__.Person'>\n",
      "Matteo\n"
     ]
    }
   ],
   "source": [
    "me = Person(\"Matteo\", date(1974, 10, 20))\n",
    "print (type(me))\n",
    "print (me.name)"
   ]
  },
  {
   "cell_type": "markdown",
   "id": "6f8d73e0",
   "metadata": {},
   "source": [
    "### Class Methods\n",
    "\n",
    "* We haven't yet defined any \"person behaviour\".\n",
    "    * Add a couple of methods: \n",
    "        * one computing the person's age;\n",
    "        * the other setting its primary occupation."
   ]
  },
  {
   "cell_type": "code",
   "execution_count": 8,
   "id": "3e458752",
   "metadata": {},
   "outputs": [],
   "source": [
    "class Person:\n",
    "    def __init__(self, name, birthday):\n",
    "        self.name = name\n",
    "        self.birthday = birthday\n",
    "        self.employment = None\n",
    "\n",
    "    # this is a normal method and will work on some class attribute\n",
    "    def age(self):\n",
    "        age = (date.today() - self.birthday).days/365\n",
    "        print (\"{} is {:.0f} years old\".format(self.name, age))\n",
    "\n",
    "    def mainOccupation(self, occupation):\n",
    "        self.employment = occupation\n",
    "        print (\"{}'s main occupation is: {}\".format(self.name, self.employment))"
   ]
  },
  {
   "cell_type": "code",
   "execution_count": 10,
   "id": "3425d32e",
   "metadata": {},
   "outputs": [
    {
     "name": "stdout",
     "output_type": "stream",
     "text": [
      "Matteo is 47 years old\n"
     ]
    }
   ],
   "source": [
    "me = Person(\"Matteo\", date(1974, 10, 20))\n",
    "me.age()"
   ]
  },
  {
   "cell_type": "markdown",
   "id": "155ba80e",
   "metadata": {},
   "source": [
    "### Inheritance and Overriding Methods\n",
    "\n",
    "* Inheritance in OOP works like in real life objects.\n",
    "    * When objects belonging to the same \"category\" share some characteristics those can be specified in a single **parent** class.\n",
    "    * Then **children** classes characterize the peculiar attributes of each specific object.\n",
    "    \n",
    "    \n",
    "* In a fantasy story, there are heroes and monsters: both of them are *characters*.\n",
    "\n",
    "\n",
    "* Looking at the monsters we may have: dragons and orcs:\n",
    "    * Though dragons and orcs are different kind of monsters, they share some qualities: \n",
    "        * they both have a color, a size and enemies. \n",
    "    * But orcs might have characteristics that dragons do not; for example, their own weapon.\n",
    "    \n",
    "![](inheritance.png)"
   ]
  },
  {
   "cell_type": "markdown",
   "id": "95b5a65e",
   "metadata": {},
   "source": [
    "* Inheritance allows code to be reused and reduces the complexity of a program. \n",
    "\n",
    "\n",
    "* The derived classes (descendants) override or extend the functionalities of the base classes (ancestors). \n",
    "\n",
    "\n",
    "* Let's derive two classes from `Person`: `Adult` and `Child`."
   ]
  },
  {
   "cell_type": "code",
   "execution_count": 11,
   "id": "73f63cf6",
   "metadata": {},
   "outputs": [],
   "source": [
    "class Adult(Person):\n",
    "    def __init__(self, name, birthday, drv_license_id):\n",
    "        Person.__init__(self, name, birthday) # this is a special syntax\n",
    "        self.drv_license_id = drv_license_id\n",
    "\n",
    "class Child(Person):\n",
    "    def mainOccupation(self):\n",
    "        self.employment = \"schoolchild\"\n",
    "        print (\"{} is a {}\".format(self.name, self.employment))"
   ]
  },
  {
   "cell_type": "markdown",
   "id": "31484e44",
   "metadata": {},
   "source": [
    "* Inheritance is specified in parenthesis after the class name. \n",
    "\n",
    "\n",
    "* `Child` inherits from `Person` and modifies it by setting the only occupation allowed for a child, **overriding** the `mainOccupation` method:\n",
    "    * overriding means change kind of action implemented by a method.\n",
    "    \n",
    "\n",
    "* `Adult` class inherits from `Person` too but only extends it adding a new attribute (i.e. the driving license id). \n"
   ]
  },
  {
   "cell_type": "code",
   "execution_count": 12,
   "id": "b4bbc26c",
   "metadata": {},
   "outputs": [],
   "source": [
    "pippo = Adult(\"Goofy\", date(1936, 1, 1), \"A1234\")\n",
    "qui = Child(\"Huey\", date(2014, 10, 9))"
   ]
  },
  {
   "cell_type": "markdown",
   "id": "8f40dc18",
   "metadata": {},
   "source": [
    "* Behind the scenes, when instantiating a `Child` class, the constructor of `Person` is called and the attributes, `name` and `birthday` are still initialised.  \n",
    "\n",
    "\n",
    "* For the `Adult` class things are a little bit different because a new attribute has been added, so we need to code its own constructor where we first call explicitly the `Person`'s constructor `Person.__init__(self, ...)` and then we initialise the new attributes.\n"
   ]
  },
  {
   "cell_type": "code",
   "execution_count": 14,
   "id": "1a23a5b5",
   "metadata": {},
   "outputs": [
    {
     "name": "stdout",
     "output_type": "stream",
     "text": [
      "Goofy is 86 years old\n",
      "Goofy's main occupation is: Comic's character\n"
     ]
    }
   ],
   "source": [
    "pippo.age()\n",
    "pippo.mainOccupation(\"Comic's character\")"
   ]
  },
  {
   "cell_type": "code",
   "execution_count": 15,
   "id": "f5192069",
   "metadata": {},
   "outputs": [
    {
     "name": "stdout",
     "output_type": "stream",
     "text": [
      "Huey is 7 years old\n",
      "Huey is a schoolchild\n"
     ]
    }
   ],
   "source": [
    "qui.age()\n",
    "qui.mainOccupation()"
   ]
  }
 ],
 "metadata": {
  "kernelspec": {
   "display_name": "Python 3 (ipykernel)",
   "language": "python",
   "name": "python3"
  },
  "language_info": {
   "codemirror_mode": {
    "name": "ipython",
    "version": 3
   },
   "file_extension": ".py",
   "mimetype": "text/x-python",
   "name": "python",
   "nbconvert_exporter": "python",
   "pygments_lexer": "ipython3",
   "version": "3.8.10"
  }
 },
 "nbformat": 4,
 "nbformat_minor": 5
}
