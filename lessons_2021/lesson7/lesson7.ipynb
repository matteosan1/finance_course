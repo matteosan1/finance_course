{
 "cells": [
  {
   "cell_type": "markdown",
   "metadata": {},
   "source": [
    "# VaR and Credit Risk\n",
    "## Value at Risk \n",
    "\n",
    "* The value at risk (VaR) of a portfolio is a function of two parameters (time horizon and confidence level) and it is used to asses to a certain precentage of confidence ($X$) how much will be the maximum loss in the next $N $days. \n",
    "    * It can be interpreted as the loss level over $N$ days that has a probability of only $(100 - X)\\%$ of being exceeded.\n",
    "\n",
    "\n",
    "* Mathematically the VaR is the loss corresponding to the $(100-X)\\textrm{th}$ precentile of the distribution of the change in the value of the portfolio over the next $N$ days.\n",
    "    * For example, with $N=1$ and $X=95$, VaR is the fifth percentile of the distribution of changes in the value of the portfolio over the next day \n",
    "\n",
    "<img src=\"normal_curve.png\">\n",
    "\n",
    "\n",
    "* VaR is useful to summarize all the information about the risk of a portfolio in one single number, but this can be also considered its main limitation (too much simplification).\n",
    "\n",
    "\n",
    "* If the portfolio daily changes are normally distributed then:\n",
    "\n",
    "$$\\textrm{N-day VaR} = \\textrm{1-day VaR}\\times \\sqrt{N}$$\n",
    "\n",
    "\n",
    "## How to Estimate the VaR\n",
    "\n",
    "* Input data [historical_data.csv](https://raw.githubusercontent.com/matteosan1/finance_course/develop/libro/input_files/historical_data.csv). "
   ]
  },
  {
   "cell_type": "code",
   "execution_count": 8,
   "metadata": {},
   "outputs": [
    {
     "name": "stdout",
     "output_type": "stream",
     "text": [
      "         Date       aapl       nflx  aapl_rets  nflx_rets\n",
      "0  2014-01-02  17.598297  51.831429        NaN        NaN\n",
      "1  2014-01-03  17.211735  51.871429  -0.021966   0.000772\n",
      "2  2014-01-06  17.305593  51.367142   0.005453  -0.009722\n",
      "3  2014-01-07  17.181829  48.500000  -0.007152  -0.055817\n",
      "4  2014-01-08  17.290642  48.712856   0.006333   0.004389\n"
     ]
    }
   ],
   "source": [
    "# import historical data and add the return column\n",
    "import pandas as pd\n",
    "import numpy as np\n",
    "\n",
    "data = pd.read_csv(\"https://raw.githubusercontent.com/matteosan1/finance_course/develop/libro/input_files/historical_data.csv\")\n",
    "\n",
    "aapl = data.loc[:, 'aapl']\n",
    "nflx = data.loc[:, 'nflx']\n",
    "\n",
    "data['aapl_rets'] = aapl.pct_change()\n",
    "data['nflx_rets'] = nflx.pct_change()\n",
    "\n",
    "print (data.head())"
   ]
  },
  {
   "cell_type": "markdown",
   "metadata": {},
   "source": [
    "* In the following we will **assume to have a portfolio made of 60% of AAPL and 40% NFLX stocks**."
   ]
  },
  {
   "cell_type": "code",
   "execution_count": 9,
   "metadata": {},
   "outputs": [],
   "source": [
    "# define the weights of our portfolio\n",
    "\n",
    "w = np.array([0.6, 0.4])"
   ]
  },
  {
   "cell_type": "markdown",
   "metadata": {},
   "source": [
    "### Historical Simulation\n",
    "\n",
    "* Collect the market variables affecting the portfolio over the last $N$ days (with $N$ quite large). \n",
    "\n",
    "\n",
    "* The variation over each day in our series will provide different scenarios to be applied to today's market data \n",
    "\n",
    "$$P_i(t_n+1) = P\\Big(x_1(t_n)\\frac{x_1(t_i)}{x_1(t_{i-1})} , x_2(t_n)\\frac{x_2(t_i)}{x_2(t_{i-1})}\\Big)$$\n",
    "\n",
    "\n",
    "* Our VaR estimate will be the (100 - X)% percentile of the resulting distribution.\n",
    "\n",
    "\n",
    "* Of course such historical simulation relies on the assumption that past behaviors are indicative of what might happen in the future.\n",
    "\n",
    "#### Example\n",
    "\n",
    "* Imagine a portfolio $P$ whose value depends only on ($x_1(t) = aapl(t), x_2(t)=nflx(t)$). "
   ]
  },
  {
   "cell_type": "code",
   "execution_count": 55,
   "metadata": {},
   "outputs": [
    {
     "data": {
      "image/png": "[encoded data removed]",
      "text/plain": [
       "<Figure size 432x288 with 1 Axes>"
      ]
     },
     "metadata": {
      "needs_background": "light"
     },
     "output_type": "display_data"
    },
    {
     "name": "stdout",
     "output_type": "stream",
     "text": [
      "[-3.34964378]\n"
     ]
    }
   ],
   "source": [
    "# historical VaR\n",
    "from matplotlib import pyplot as plt\n",
    "\n",
    "# today's value\n",
    "xN = [data['aapl'].iloc[-1], data['nflx'].iloc[-1]]\n",
    "current_value = w.dot(xN)\n",
    "\n",
    "#rets = []\n",
    "#for i in range(1, len(aapl)):\n",
    "#    rets.append(current_value*(w[0]*data['aapl_rets'].iloc[i] + \n",
    "#                               w[1]*data['nflx_rets'].iloc[i]))\n",
    "\n",
    "rets = current_value * data.loc[1:, ['aapl_rets', 'nflx_rets']].dot(w)\n",
    "\n",
    "plt.hist(rets, bins=50)\n",
    "plt.xlabel(\"$\\Delta$P\")\n",
    "plt.show()\n",
    "\n",
    "print (np.percentile(rets, [5]))"
   ]
  },
  {
   "cell_type": "markdown",
   "metadata": {},
   "source": [
    "### Monte Carlo Simulation\n",
    "* A very useful alternative to the previous approach is using a Monte Carlo simulation to generate the probability distribution of the $\\Delta P$.  Once we have the distribution of the returns the VaR can be computed as usual.\n",
    "\n",
    "\n",
    "* The simulation can be done:\n",
    "    1. generating random returns from a distribution with mean and standard deviation obtained from the historical data of each stock; \n",
    "    2. or by simulating the evolution of all the portfolio market variables in one day.\n",
    "\n",
    "#### Case 1\n",
    "* Compute mean and standard deviation of each historical data-set. \n",
    "\n",
    "\n",
    "* Then throw various simulated returns from a multivariate Gaussian with such means and variances. \n",
    "    * Useful aspect: other distribution could be used instead Gaussians."
   ]
  },
  {
   "cell_type": "code",
   "execution_count": 59,
   "metadata": {},
   "outputs": [
    {
     "name": "stdout",
     "output_type": "stream",
     "text": [
      "[0.0008887944217690788, 0.0020063179213583673]\n",
      "           aapl_rets  nflx_rets\n",
      "aapl_rets   0.000207   0.000103\n",
      "nflx_rets   0.000103   0.000718\n"
     ]
    },
    {
     "data": {
      "image/png": "[encoded data removed]",
      "text/plain": [
       "<Figure size 432x288 with 1 Axes>"
      ]
     },
     "metadata": {
      "needs_background": "light"
     },
     "output_type": "display_data"
    },
    {
     "name": "stdout",
     "output_type": "stream",
     "text": [
      "[-3.46081218]\n"
     ]
    }
   ],
   "source": [
    "# MC simulated VaR 1\n",
    "from scipy.stats import multivariate_normal\n",
    "\n",
    "np.random.seed(1)\n",
    "means = [data['aapl_rets'].mean(), data['nflx_rets'].mean()]\n",
    "cov = data.loc[1:, ['aapl_rets', 'nflx_rets']].cov()\n",
    "print (means)\n",
    "print (cov)\n",
    "mvnorm = multivariate_normal(mean=means, cov=cov)\n",
    "samples = 100000\n",
    "x = mvnorm.rvs(size=samples)\n",
    "#rets = []\n",
    "#for x in rrets:\n",
    "#    rets.append(current_value*(w.dot(x)))\n",
    "rets = current_value*x.dot(w) \n",
    "\n",
    "plt.hist(rets, bins=50)\n",
    "plt.show()\n",
    "print (np.percentile(rets, [5]))"
   ]
  },
  {
   "cell_type": "markdown",
   "metadata": {},
   "source": [
    "* This result can be compared with the VaR estimated with a simulation of the daily evolution of the stock price. \n",
    "    * We will use the log-normal evolution where $\\mu$ and $\\sigma$ are the mean and variance estimated from the historical series. "
   ]
  },
  {
   "cell_type": "code",
   "execution_count": 64,
   "metadata": {},
   "outputs": [
    {
     "data": {
      "image/png": "[encoded data removed]",
      "text/plain": [
       "<Figure size 432x288 with 1 Axes>"
      ]
     },
     "metadata": {
      "needs_background": "light"
     },
     "output_type": "display_data"
    },
    {
     "name": "stdout",
     "output_type": "stream",
     "text": [
      "[-4.92050153]\n"
     ]
    }
   ],
   "source": [
    "from numpy.random import normal\n",
    "from numpy import exp, sqrt\n",
    "\n",
    "simulations = 10000\n",
    "T = 1\n",
    "rets = []\n",
    "for _ in range(simulations):\n",
    "    ret = 0\n",
    "    for i in range(2):\n",
    "        ret += w[i]*xN[i]*exp((means[i] - 0.5*cov.iloc[i][i])*T - sqrt(T)*sqrt(cov.iloc[i][i])*normal())\n",
    "    rets.append(ret - current_value)\n",
    "    \n",
    "plt.hist(rets, bins=50)\n",
    "plt.show()\n",
    "print (np.percentile(rets, [5]))"
   ]
  },
  {
   "cell_type": "markdown",
   "metadata": {},
   "source": [
    "### Stress Testing and Back Testing\n",
    "* Usually it can be useful to perform a *stress test*. \n",
    "    * Implies to estimate how a portfolio would behave under the most extreme market moves seen in the past years.\n",
    "\n",
    "\n",
    "* From the historical series take the market variables seen in particular days with exceptional large variations to analyze extreme events that can occur in reality more frequently than in simulations despite their low probability.\n",
    "    * e.g. a 5-standard deviation move should happen once every 7000 years but in practice can be observed twice over 10 years."
   ]
  },
  {
   "cell_type": "code",
   "execution_count": 44,
   "metadata": {},
   "outputs": [
    {
     "name": "stdout",
     "output_type": "stream",
     "text": [
      "6921.737673091068\n"
     ]
    }
   ],
   "source": [
    "# probability of having a 5-sigma event\n",
    "from scipy.stats import norm\n",
    "\n",
    "p = 1/(252*2*norm.cdf(-5))\n",
    "print (p)"
   ]
  },
  {
   "cell_type": "markdown",
   "metadata": {},
   "source": [
    "* Another important check that could be done is the *back testing* which consists of checking how well the VaR estimate would have performed in the past. \n",
    "    * it has to be tested how often the daily loss exceeded the N-days X% VaR just computed.\n",
    "    * If it happens on about (100-X)% of the times we can be confident that our estimate is correct."
   ]
  }
 ],
 "metadata": {
  "kernelspec": {
   "display_name": "Python 3 (ipykernel)",
   "language": "python",
   "name": "python3"
  },
  "language_info": {
   "codemirror_mode": {
    "name": "ipython",
    "version": 3
   },
   "file_extension": ".py",
   "mimetype": "text/x-python",
   "name": "python",
   "nbconvert_exporter": "python",
   "pygments_lexer": "ipython3",
   "version": "3.8.10"
  }
 },
 "nbformat": 4,
 "nbformat_minor": 4
}
