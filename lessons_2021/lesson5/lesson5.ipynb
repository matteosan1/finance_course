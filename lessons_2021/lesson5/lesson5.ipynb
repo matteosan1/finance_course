{
 "cells": [
  {
   "cell_type": "markdown",
   "metadata": {
    "id": "slJKfOyKxGw8"
   },
   "source": [
    "## Credit curves\n",
    "\n",
    "* Just like a discount curve is a way of representing the underlying interest rates (or equivalently discount factors) implicit in the market quotes of a collection of real-world interest rate products, **credit curves** are a way of representing survival probabilities implied by credit default swaps.\n",
    "\n",
    "* Credit default swaps (CDS) are instruments whose value depends on the likelihood that a given company (the curve's issuer) will suffer a credit event over a given period.\n",
    "\n",
    "* A **credit event** can be a default, the failure to make payments, the issuer entering into bankruptcy proceedings, or the occurence of other legal events...\n",
    "    * We will call a credit event a *default*;\n",
    "    * and talk about **non-default probabilities** or survival probabilities($P_{\\textrm{sur}}$), i.e. the probability that the issuer will not suffer a credit event before a given date \n",
    "        * *non-default probability is a cumulative probability* since refers to a time period. \n",
    "\n",
    "<table>\n",
    "  <tr width=200>\n",
    "    <th>Discount Curve</th>\n",
    "    <th>Credit Curve</th>\n",
    "  </tr>\n",
    "  <tr>\n",
    "    <td>Represents underlying rates implicit in market quotes of IR products</td>\n",
    "    <td>Represents default probability implied by credit default swaps</td>\n",
    "  </tr>\n",
    "  <tr>\n",
    "    <td>made of pillar_dates and discount factors</td>\n",
    "    <td>made of pillar_dates and survival probabilities</td>\n",
    "  </tr>\n",
    "  <tr>\n",
    "    <td>discount factors</td>\n",
    "    <td>non-default probabilities</td>\n",
    "  </tr>\n",
    "  <tr>\n",
    "    <td>short rate</td>\n",
    "    <td>hazard rate</td>\n",
    "  </tr>\n",
    "</table>   \n",
    "\n",
    "* Remember the short rate, $r_t$, is the interest rate at which an entity can borrow money for an infinitesimally short period of time from time $t$ to $t+dt$."
   ]
  },
  {
   "cell_type": "markdown",
   "metadata": {
    "id": "Nx0WWodsxGxD"
   },
   "source": [
    "### Conditional Probability\n",
    "\n",
    "* Hazard rate is often called a *conditional failure rate* since it's expression is a direct application of the conditional probability concept.\n",
    "\n",
    "* Conditional probability answers to the question \"how should you update probabilities of events when there is additional information available ?\". \n",
    "\n",
    "#### Example\n",
    "\n",
    "* Imagine a fair die is rolled: \n",
    "    * let $A$ be the event that the outcome is an odd number ($A={1,3,5}$); \n",
    "    * let $B$ be the event that the outcome is less than or equal to $3$ ($B={1,2,3}$). \n",
    "    1. What is the probability of $A$ ($P(A)$) ? \n",
    "    2. What is the probability of $A$ given $B$ ($P(A|B)$) ?\n",
    "\n",
    "* Being a simple example we can compute the result by hand:\n",
    "\n",
    "$$P(A) = \\cfrac{|A|}{|S|} = \\cfrac{|\\{1,3,5\\}|}{6} = \\cfrac{1}{2}\\qquad\\textrm{(where $S$ is the entire sample space)}$$\n",
    "\n",
    "* If $B$ has occurred, the outcome must be among $\\{1,2,3\\}$. \n",
    "\n",
    "* For $A$ to also happen the outcome must be in $A\\cap B = \\{1,3\\}$. \n",
    "    * Since the die is fair, we argue that $P(A|B)$ must be equal to\n",
    "\n",
    "$$P(A|B) = \\cfrac{|A\\cap B|}{|B|} = \\cfrac{2}{3}$$\n",
    "\n",
    "* To generalize, divide numerator and denominator by the entire space of the events $|S|$ hence:\n",
    "\n",
    "$$P(A|B) = \\cfrac{|A\\cap B|}{|B|} = \\cfrac{\\cfrac{|A\\cap B|}{|S|}}{\\cfrac{|B|}{|S|}} = \\cfrac{P(A\\cap B)}{P(B)}$$\n",
    "\n",
    "<img src=\"https://drive.google.com/uc?id=16bF8jTwIMLPPDK2vIP99CV-RcBJTocyk\" width=500>\n",
    "\n",
    "### Hazard Rate\n",
    "* Hazard rate represents the instantaneous probability of the issuer defaulting *conditioned* on it not having defaulted until that moment.\n",
    "\n",
    "$$\\lambda(t) = \\cfrac{\\cfrac{P_{\\textrm{def}}(\\tau \\in (t, t+dt))}{dt}}{P_{\\textrm{def}}(\\tau\\gt t)} = \\cfrac{\\cfrac{dP_{\\textrm{def}}}{dt}}{P_{\\textrm{sur}}(t_0, t)} = \\cfrac{\\cfrac{d(1-P_{\\textrm{sur}})}{dt}}{P_{\\textrm{sur}}(t_0, t)} = -\\cfrac{dP_{\\textrm{sur}}}{dt}\\cfrac{1}{P_{\\textrm{sur}}(t_0, t)}$$\n",
    "\n",
    "* where the default (survival) probability is indicated by $P_{\\textrm{def}}$ ($P_{\\textrm{sur}}$), the hazard rate by $\\lambda$ and the time of default with $\\tau$. The minus sign derives from the fact that $P_{\\textrm{sur}}$ is a **non** default probability while the hazard rate is defined in terms of the probability of default $P_{\\textrm{def}}$.\n",
    "\n",
    "* Given the hazard rate the survival probability can be determined as:\n",
    "\n",
    "$$\\lambda(t) = -\\cfrac{1}{dt}\\cdot\\cfrac{dP_{\\textrm{sur}}}{P_{\\textrm{sur}}} = -\\cfrac{d(\\textrm{log}P_{\\textrm{sur}})}{dt}$$\n",
    "\n",
    "$$P_{\\textrm{sur}}(t_0, t) = e^{-\\int_{t_0}^{t}\\lambda(s) ds}$$\n",
    "\n",
    "### CreditCurve class"
   ]
  },
  {
   "cell_type": "code",
   "execution_count": 2,
   "metadata": {
    "id": "Faf34T_lxGxH"
   },
   "outputs": [],
   "source": [
    "# implement CreditCurve class\n",
    "from numpy import interp\n",
    "from dateutil.relativedelta import relativedelta\n",
    "\n",
    "class CreditCurve:\n",
    "    def __init__(self, pillar_dates, ndps):\n",
    "        self.start_date = pillar_dates[0]\n",
    "        self.pillar_days = [(pd - self.start_date).days for pd in pillar_dates]\n",
    "        self.ndps = ndps\n",
    "    \n",
    "    def ndp(self, value_date):\n",
    "        value_days = (value_date - self.start_date).days\n",
    "        return interp(value_days, self.pillar_days, self.ndps)\n",
    "\n",
    "    def hazard(self, value_date):\n",
    "        ndp_1 = self.ndp(value_date)\n",
    "        ndp_2 = self.ndp(value_date + relativedelta(days=1))\n",
    "        delta_t = 1.0 / 365.0\n",
    "        h = -1.0 / ndp_1 * (ndp_2 - ndp_1) / delta_t\n",
    "        return h"
   ]
  },
  {
   "cell_type": "markdown",
   "metadata": {
    "id": "JVY9ErrBxGxI"
   },
   "source": [
    "* As usual we test the newly developed class with some data."
   ]
  },
  {
   "cell_type": "code",
   "execution_count": 6,
   "metadata": {
    "id": "anuxXkdOxGxJ"
   },
   "outputs": [],
   "source": [
    "# set observation_date and CreditCurve\n",
    "from datetime import date\n",
    "from dateutil.relativedelta import relativedelta\n",
    "\n",
    "start_date = date.today()\n",
    "cc = CreditCurve(\n",
    "    [start_date, start_date + relativedelta(years=2)],\n",
    "    [1.0, 0.8])"
   ]
  },
  {
   "cell_type": "code",
   "execution_count": 5,
   "metadata": {
    "id": "f4vR2PhQxGxJ"
   },
   "outputs": [
    {
     "data": {
      "text/plain": [
       "0.9"
      ]
     },
     "execution_count": 5,
     "metadata": {},
     "output_type": "execute_result"
    }
   ],
   "source": [
    "# check ndp in 1 year\n",
    "cc.ndp(start_date + relativedelta(years=1))"
   ]
  },
  {
   "cell_type": "code",
   "execution_count": 7,
   "metadata": {
    "id": "wtnF_H3cxGxK"
   },
   "outputs": [
    {
     "data": {
      "text/plain": [
       "0.11111111111112416"
      ]
     },
     "execution_count": 7,
     "metadata": {},
     "output_type": "execute_result"
    }
   ],
   "source": [
    "# check hazard in 1 year\n",
    "cc.hazard(start_date + relativedelta(years=1))"
   ]
  },
  {
   "cell_type": "markdown",
   "metadata": {
    "id": "fI1ngBh7xGxL"
   },
   "source": [
    "## Credit Deafult Swaps\n",
    "\n",
    "* A Credit Default Swap (CDS) is a financial swap agreement that the seller of the CDS will compensate the buyer in the event of a credit event. \n",
    "    * The seller of the CDS insures the buyer against some reference asset defaulting. \n",
    "    * The buyer of the CDS makes a series of payments (the CDS \"fee\" or \"spread\") to the seller and, in exchange, may expect to receive a payoff if the asset defaults. \n",
    "\n",
    "* CDSs are made up of two legs:\n",
    "    * the *default* leg: which pays $LGD = F(1 - R)$, known as the **loss given default**, if and when the credit event occurs, $F$ is the face value of the contact, $R$ is the recovery rate (usually set around 40%);\n",
    "    * the *premium* leg: which pays the *spread* $S$ every m months until the credit event occurs.\n",
    "\n",
    "### Premium leg\n",
    "\n",
    "Let's start with the premium leg. We will use the following notation:\n",
    "\n",
    "* $d$ today's date;\n",
    "* $d_0$ the start date of the CDS (could be different from $d$);\n",
    "* $d_1, ..., d_n$ the payment dates of the premium leg, which occur at a m-month frequency (we assume that $d_n$ is the end date of the CDS);\n",
    "* $D(d')$ the discount factor between $d$ and $d'$;\n",
    "* $P_{\\textrm{sur}}(d')$ the survival probability between $d$ and $d'$;\n",
    "* $\\tau$ the random variable representing the date of the credit event.\n",
    "\n",
    "At each payment date $d_i$, a flow $F\\cdot S$ is paid if and only if the credit event has not occurred before that date. Since the NPV depends on the default probability, the value of the premium leg can be estimated by an expectation\n",
    "\n",
    "$$f_{\\textrm{premium}}^i = \\mathbb{E}\\left[ S \\times D(d_i) \\times \\mathbb{1}(\\tau > d_i) \\right]$$\n",
    "\n",
    "where $\\mathbb{1}(\\tau > d_i)$ means that the expectation value has to be evaluated when $\\tau > d_i$. Remember that if $x$ is a random variable with a finite number of finite outcomes $x_{1},x_{2},\\ldots ,x_{k}$ occurring with probabilities $p_{1},p_{2},\\ldots ,p_{k}$ respectively, the expectation of $x$ is:\n",
    "\n",
    "$$\\mathbb{E}[x] = \\sum _{i=1}^{k}x_{i}\\,p_{i}=x_{1}p_{1}+x_{2}p_{2}+\\cdots +x_{k}p_{k}$$\n",
    "which is the weighted sum of the $x_i$, with $p_{i}$ values being the weights. \n",
    "\n",
    "In our case $x_i = S\\cdot D(d_i)$ and $p_i=P_{\\textrm{sur}}(d_i)$ so the NPV of the leg can be expressed as:\n",
    "\n",
    "$$\\textrm{NPV}_{premium} = F\\cdot S\\cdot \\sum_{i=1}^{n} D(d_i) \\cdot P_{\\textrm{sur}}(d_i)$$\n",
    "\n",
    "## Default leg\n",
    "\n",
    "The LGD is paid out on the same date on which the credit event occurs, i.e. it can potentially be paid out on any date between $d_0$ and $d_n$. Mathematically, therefore, the NPV of the premium leg can be expressed as follows:\n",
    "\n",
    "$$\\mathrm{NPV_{default}} = \\mathbb{E} \\left[F(1-R) \\times D(\\tau) \\times \\mathbb{1}(\\tau \\leq d_n) \\right] $$\n",
    "\n",
    "Using the laws of probability, we can break this down into the sum of \"daily NPVs\" calculated as a function of the daily default probabilities $P_{\\textrm{def}}$:\n",
    "\n",
    "$$\n",
    "\\begin{align*}\n",
    "\\mathbb{E}\\left[F(1-R) \\times D(\\tau) \\times \\mathbb{1}(\\tau \\leq d_n) \\right]\n",
    "&= \\sum_{d'=d_0}^{d_n} \\mathbb{E}[ F(1-R) \\times D(\\tau) | \\tau = d'] P_{\\textrm{def}}[ \\tau = d' ] \\\\\n",
    "&= F(1-R) \\sum_{d'=d_0}^{d_n} D(d') \\left( P_{\\textrm{def}}[ \\tau \\geq d' ] - P_{\\textrm{def}}[ \\tau \\geq d'+1 ] \\right) \\\\\n",
    "&= F(1-R) \\sum_{d'=d_0}^{d_n} D(d') \\left( P_{\\textrm{sur}}(d') - P_{\\textrm{sur}}(d'+1) \\right)\n",
    "\\end{align*}\n",
    "$$\n",
    "\n",
    "where the last step holds since $P_{\\textrm{def}}[\\tau\\geq d'] = 1 - P_{\\textrm{def}}[\\tau < d'] = 1 - (1-P_{\\textrm{sur}}(\\tau < d')) = P_{\\textrm{sur}}(\\tau < d')$."
   ]
  },
  {
   "cell_type": "markdown",
   "metadata": {
    "id": "PLNco-S-xGxN"
   },
   "source": [
    "<img src=\"timeline.png\">"
   ]
  },
  {
   "cell_type": "code",
   "execution_count": 69,
   "metadata": {
    "id": "cVKlCIU1xGxN"
   },
   "outputs": [],
   "source": [
    "# credit default swap class with breakeven method\n",
    "from finmarkets import generate_dates\n",
    "\n",
    "class CreditDefaultSwap:\n",
    "    def __init__(self, notional, start_date, fixed_spread,\n",
    "                 maturity_y, tenor=3, recovery=0.4):\n",
    "        self.notional = notional\n",
    "        self.payment_dates = generate_dates(start_date,\n",
    "                                            maturity_y*12, tenor)\n",
    "        self.fixed_spread = fixed_spread\n",
    "        self.recovery = recovery\n",
    "\n",
    "    def npv_premium_leg(self, discount_curve, credit_curve):\n",
    "        npv = 0\n",
    "        for i in range(1, len(self.payment_dates)):\n",
    "            npv += (self.fixed_spread *\n",
    "                    discount_curve.df(self.payment_dates[i]) *\n",
    "                    credit_curve.ndp(self.payment_dates[i]))\n",
    "        return npv * self.notional\n",
    "\n",
    "    def npv_default_leg(self, discount_curve, credit_curve):\n",
    "        npv = 0\n",
    "        d = self.payment_dates[0]\n",
    "        while d <= self.payment_dates[-1]:\n",
    "            npv += discount_curve.df(d) * (\n",
    "                   credit_curve.ndp(d) -\n",
    "                   credit_curve.ndp(d + relativedelta(days=1)))\n",
    "            d += relativedelta(days=1)\n",
    "        return npv * self.notional * (1 - self.recovery)\n",
    "\n",
    "    def npv(self, discount_curve, credit_curve):\n",
    "        return self.npv_default_leg(discount_curve, credit_curve) - \\\n",
    "               self.npv_premium_leg(discount_curve, credit_curve)"
   ]
  },
  {
   "cell_type": "markdown",
   "metadata": {
    "id": "PbY1N_blxGxO"
   },
   "source": [
    "* Below a simple test of the class, using [discount_curve.xlsx](https://github.com/matteosan1/finance_course/blob/develop/libro/input_files/discount_curve.xlsx?raw=true)."
   ]
  },
  {
   "cell_type": "code",
   "execution_count": 72,
   "metadata": {
    "id": "LeubT5hUxGxO"
   },
   "outputs": [],
   "source": [
    "# test CDS class with previous inputs \n",
    "import pandas as pd\n",
    "from finmarkets import DiscountCurve\n",
    "from dateutil.relativedelta import relativedelta\n",
    "from datetime import date\n",
    "\n",
    "dc_data = pd.read_excel(\"https://github.com/matteosan1/finance_course/blob/develop/libro/input_files/discount_curve.xlsx?raw=true\")\n",
    "observation_date = date.today() \n",
    "dc = DiscountCurve(observation_date,\n",
    "dc_data['pillars'].dt.date.tolist(),\n",
    "dc_data['discount_factors'].tolist())\n",
    "credit_curve = CreditCurve([start_date,\n",
    "                            start_date + relativedelta(months=36)],\n",
    "                            [1.0, 0.7])\n",
    "cds = CreditDefaultSwap(1e6, start_date, 0.03, 3)"
   ]
  },
  {
   "cell_type": "code",
   "execution_count": 73,
   "metadata": {
    "id": "sWbWvkE-xGxP"
   },
   "outputs": [
    {
     "name": "stdout",
     "output_type": "stream",
     "text": [
      "303160.9661537263\n",
      "180949.18879529936\n"
     ]
    }
   ],
   "source": [
    "# check default leg, premium leg and npv\n",
    "print (cds.npv_premium_leg(dc, credit_curve))\n",
    "print (cds.npv_default_leg(dc, credit_curve))"
   ]
  },
  {
   "cell_type": "code",
   "execution_count": 74,
   "metadata": {},
   "outputs": [
    {
     "data": {
      "text/plain": [
       "-122211.77735842692"
      ]
     },
     "execution_count": 74,
     "metadata": {},
     "output_type": "execute_result"
    }
   ],
   "source": [
    "cds.npv(dc, credit_curve)"
   ]
  },
  {
   "cell_type": "markdown",
   "metadata": {
    "id": "kUIpwciXxGxQ"
   },
   "source": [
    "## Estimate Default Probabilities from CDS\n",
    "\n",
    "* We can estimate default probabilities (hence credit curves) from CDS quotes using *bootstrap*:\n",
    "    1. collect market quotes for a number of CDS with different maturities;\n",
    "    2. create the corresponding CDS objects;\n",
    "    3. define a $\\tt{CreditCurve}$ whose pillars are the CDS maturity dates and the survival probabilities are unknown;\n",
    "    4. define an objective function to minimize the sum of the squared CDS's NPVs;\n",
    "    5. set the non-default probabilities to an initial value and define their range of variability between $[0, 1]$ since they are probabilities and fix \"today's\" probability to 1 since there hasn't been any default;\n",
    "    6. run the minimization.\n",
    "\n",
    "* The file with a test set of market quotes is [cds_quotes.xlsx](https://github.com/matteosan1/finance_course/raw/develop/libro/input_files/cds_quotes.xlsx).\n"
   ]
  },
  {
   "cell_type": "code",
   "execution_count": 80,
   "metadata": {
    "id": "Bx51jtHWxGxR"
   },
   "outputs": [],
   "source": [
    "# bootstrapping for CDS\n",
    "from scipy.optimize import minimize\n",
    "import pandas as pd\n",
    "import numpy as np\n",
    "\n",
    "dc = pd.read_excel(\"https://github.com/matteosan1/finance_course/blob/develop/libro/input_files/discount_curve.xlsx?raw=true\")\n",
    "mq = pd.read_excel(\"https://github.com/matteosan1/finance_course/raw/develop/libro/input_files/cds_quotes.xlsx\")\n",
    "discount_curve = DiscountCurve(observation_date,\n",
    "                               dc['pillars'].dt.date.tolist(),\n",
    "                               dc['discount_factors'].tolist())\n",
    "cdswaps = []\n",
    "pillar_dates = [start_date]\n",
    "for i in range(len(mq)):\n",
    "    cds = CreditDefaultSwap(1e6, start_date,\n",
    "                            mq['quote'].tolist()[i],\n",
    "                            mq['months'].tolist()[i]//12)\n",
    "    cdswaps.append(cds)\n",
    "    pillar_dates.append(cds.payment_dates[-1])\n",
    "\n",
    "def objective_function(unknown_ndps):\n",
    "    unknown_ndps = np.insert(unknown_ndps, 0, 1)\n",
    "    credit_curve = CreditCurve(pillar_dates, unknown_ndps)\n",
    "    sum_sq = 0\n",
    "    for cds in cdswaps:\n",
    "        sum_sq += cds.npv(discount_curve, credit_curve)**2\n",
    "    return sum_sq\n",
    "\n",
    "ndp_guess = [1 for _ in range(len(pillar_dates)-1)]\n",
    "bounds = [(0.01, 1) for _ in range(len(pillar_dates)-1)]\n",
    "\n",
    "r = minimize(objective_function, ndp_guess, bounds=bounds)"
   ]
  },
  {
   "cell_type": "code",
   "execution_count": 81,
   "metadata": {},
   "outputs": [
    {
     "name": "stdout",
     "output_type": "stream",
     "text": [
      "      fun: 1.6567237922097584e-05\n",
      " hess_inv: <6x6 LbfgsInvHessProduct with dtype=float64>\n",
      "      jac: array([1057.6428894 ,  697.66468945, 2288.37362133, 3207.19521611,\n",
      "       3960.08247585, 3403.59384113])\n",
      "  message: 'CONVERGENCE: REL_REDUCTION_OF_F_<=_FACTR*EPSMCH'\n",
      "     nfev: 140\n",
      "      nit: 11\n",
      "     njev: 20\n",
      "   status: 0\n",
      "  success: True\n",
      "        x: array([0.90794559, 0.80382963, 0.70844196, 0.48031869, 0.29174604,\n",
      "       0.06689759])\n"
     ]
    }
   ],
   "source": [
    "print (r)"
   ]
  },
  {
   "cell_type": "code",
   "execution_count": 83,
   "metadata": {},
   "outputs": [
    {
     "name": "stdout",
     "output_type": "stream",
     "text": [
      "S(t<2021-10-12): 1.00\n",
      "S(t<2022-10-12): 0.91\n",
      "S(t<2023-10-12): 0.80\n",
      "S(t<2024-10-12): 0.71\n",
      "S(t<2027-10-12): 0.48\n",
      "S(t<2031-10-12): 0.29\n",
      "S(t<2041-10-12): 0.07\n"
     ]
    }
   ],
   "source": [
    "x = np.insert(r.x, 0, 1)\n",
    "cc = CreditCurve(pillar_dates, x)\n",
    "for i in range(len(pillar_dates)):\n",
    "    print (\"S(t<{}): {:.2f}\".format(pillar_dates[i], x[i]))"
   ]
  },
  {
   "cell_type": "markdown",
   "metadata": {
    "id": "KTKoegG6xGxS"
   },
   "source": [
    "### Determine Default Probabilities from Bond Prices"
   ]
  },
  {
   "cell_type": "markdown",
   "metadata": {
    "id": "P1cfKp12xGxT"
   },
   "source": [
    "* The price of a bond is directly linked to the credit rating of the issuer.\n",
    "    * There is always an associated default risk: the borrower might not be able to repay the loan.\n",
    "    * Bonds with low ratings (*junk bonds*) are sold at lower prices since riskier;\n",
    "    * high ratings bonds (*investment-grade bonds*) are sold at higher prices.\n",
    "\n",
    "\n",
    "* The average default intensity can be approximated by considering the spread $s$ between a risky bond yield and the risk-free rate, and $R$ the recovery rate. \n",
    "    * The expected loss due to default can be expressed both in terms of spread and loss given default:\n",
    "    \n",
    "$$s \\Delta t \\approx \\lambda\\Delta t (1 − R) \\implies \\bar{\\lambda} = \\cfrac{s}{(1-R)}$$\n",
    "\n",
    "\n",
    "* Imagine for example a bond that yields 150 bp more than a similar risk-free bond and assume an expected recovery rate of 40%.\n",
    "\n",
    "$$\\bar{\\lambda} = \\cfrac{0.015}{(1-0.4)} = 2.5\\%$$"
   ]
  }
 ],
 "metadata": {
  "colab": {
   "collapsed_sections": [],
   "name": "lesson5_nocode.ipynb",
   "provenance": []
  },
  "kernelspec": {
   "display_name": "Python 3 (ipykernel)",
   "language": "python",
   "name": "python3"
  },
  "language_info": {
   "codemirror_mode": {
    "name": "ipython",
    "version": 3
   },
   "file_extension": ".py",
   "mimetype": "text/x-python",
   "name": "python",
   "nbconvert_exporter": "python",
   "pygments_lexer": "ipython3",
   "version": "3.8.10"
  }
 },
 "nbformat": 4,
 "nbformat_minor": 1
}
