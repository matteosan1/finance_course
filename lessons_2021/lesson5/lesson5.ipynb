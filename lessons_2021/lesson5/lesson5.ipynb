{
 "cells": [
  {
   "cell_type": "markdown",
   "metadata": {},
   "source": [
    "## Quantiles\n",
    "\n",
    "Given a probability distribution $f(x)$ (e.g. Gaussian, Binomial, Poisson...) the *cumulative distribution function* (CDF) is defined as \n",
    "\n",
    "$$ F(x) = \\mathbb{P}(X\\le x)\\qquad\\textrm{or equivalently}\\int_{-\\infty}^{x}f(x)dx$$\n",
    "\n",
    "<img src=\"percentile.png\">"
   ]
  },
  {
   "cell_type": "markdown",
   "metadata": {},
   "source": [
    "The quantile function $Q$, associated with a probability distribution of a random variable, specifies the value  $x$ of the random variable such that the probability $p$ of the variable being less than or equal to that value equals a given probability. It is also called the percent-point function (PPF) or inverse cumulative distribution function\n",
    "\n",
    "$$Q = F^{-1}\\qquad\\textrm{returns $x_p$ such that}~F(x_p)\\le p$$"
   ]
  },
  {
   "cell_type": "code",
   "execution_count": 2,
   "metadata": {},
   "outputs": [
    {
     "name": "stdout",
     "output_type": "stream",
     "text": [
      "0.30000017826482295\n",
      "-0.5244005127080409\n"
     ]
    }
   ],
   "source": [
    "# compute ppf and cdf \n",
    "from scipy.stats import norm\n",
    "\n",
    "cdf = norm.cdf(-0.5244)\n",
    "print(cdf)\n",
    "print (norm.ppf(0.3))"
   ]
  },
  {
   "cell_type": "markdown",
   "metadata": {},
   "source": [
    "The median of a distribution is the 50-percentile (the mean only if the distribution is symmetric)."
   ]
  },
  {
   "cell_type": "markdown",
   "metadata": {},
   "source": [
    "## Credit curves\n",
    "\n",
    "Just like a discount curve is a way of representing the underlying interest rates (or equivalently discount factors) implicit in the market quotes of a collection of real-world interest rate products, **credit curves** are a way of representing survival probabilities implied by credit default swaps.\n",
    "\n",
    "**Credit default swaps** (**CDS**) are instruments whose value depends on the likelihood that a given company (the curve's **issuer**) will suffer a credit event over a given period.\n",
    "\n",
    "A **credit event** can be a default, the failure to make payments, the issuer entering into bankruptcy proceedings, or the occurence of other legal events. The exact definition of what constitutes a credit event depends on a series of factors and is usually defined in some kind of ISDA (International Swaps and Derivatives Association) master agreement.\n",
    "\n",
    "In any case, we will generically call a credit event a *default*, and talk about **non-default probabilities** (**NDP**), i.e. the probability that the issuer will not suffer a credit event before a given date i.e. *non-default probability is a cumulative probability* since refers to a time period. \n",
    "\n",
    "<table>\n",
    "  <tr width=200>\n",
    "    <th>Discount Curve</th>\n",
    "    <th>Credit Curve</th>\n",
    "  </tr>\n",
    "  <tr>\n",
    "    <td>Represents underlying rates implicit in market quotes of IR products</td>\n",
    "    <td>Represents default probability implied by credit default swaps</td>\n",
    "  </tr>\n",
    "  <tr>\n",
    "    <td>made of pillar_dates and discount factors</td>\n",
    "    <td>made of pillar_dates and survival probabilities</td>\n",
    "  </tr>\n",
    "  <tr>\n",
    "    <td>discount factors</td>\n",
    "    <td>non-default probabilities</td>\n",
    "  </tr>\n",
    "  <tr>\n",
    "    <td>short rate</td>\n",
    "    <td>hazard rate</td>\n",
    "  </tr>\n",
    "</table>   \n",
    "\n",
    "The short rate, $r_t$, is the interest rate at which an entity can borrow money for an infinitesimally short period of time from time $t$ to $t+dt$."
   ]
  },
  {
   "cell_type": "markdown",
   "metadata": {},
   "source": [
    "### Hazard Rate\n",
    "\n",
    "Hazard rate is often called a *conditional failure rate* since it's expression is a direct\n",
    "application of the conditional probability concept.\n",
    "\n",
    "Conditional probability answers to the question \"how should you update probabilities of events when there is additional information available ?\". To derive the general formula let's start with an example.\n",
    "\n",
    "A fair die is rolled. Let $A$ be the event that the outcome is an odd number ($A={1,3,5}$). Also let $B$ be the event that the outcome is less than or equal to $3$ ($B={1,2,3}$). What is the probability of $A$ ($\\mathbb{P}(A)$) ? What is the probability of $A$ given $B$ ($\\mathbb{P}(A|B)$) ?\n",
    "\n",
    "Being a simple example we can compute the result by hand:\n",
    "\n",
    "$$\\mathbb{P}(A) = \\cfrac{|A|}{|S|} = \\cfrac{|\\{1,3,5\\}|}{6} = \\cfrac{1}{2}\\qquad\\textrm{(where $S$ is the entire sample space)}$$\n",
    "\n",
    "Now let's find the conditional probability of $A$ given that $B$ occurred. If we know $B$ has occurred, the outcome must be among $\\{1,2,3\\}$. For $A$ to also happen the outcome must be in $A\\cap B = \\{1,3\\}$. Since all die rolls are equally likely, we argue that $\\mathbb{P}(A|B)$ must be equal to\n",
    "\n",
    "$$\\mathbb{P}(A|B) = \\cfrac{|A\\cap B|}{|B|} = \\cfrac{2}{3}$$\n",
    "\n",
    "To generalize our example we can rewrite the calculation by dividing the numerator and denominator by the entire space of the events $|S|$ hence:\n",
    "\n",
    "$$\\mathbb{P}(A|B) = \\cfrac{|A\\cap B|}{|B|} = \\cfrac{\\cfrac{|A\\cap B|}{|S|}}{\\cfrac{|B|}{|S|}} = \\cfrac{\\mathbb{P}(A\\cap B)}{\\mathbb{P}(B)}$$\n",
    "\n",
    "<img src=\"conditional_b.png\" width=500>\n",
    "\n",
    "Hazard rate represents the instantaneous probability of the issuer defaulting *conditioned* on it not having defaulted until that moment.\n",
    "\n",
    "In formula if the default (survival) probability is indicated by $DP$ ($N$), the hazard rate by $\\lambda$ and the time of default with $\\tau$:\n",
    "\n",
    "$$\\lambda(t) = \\cfrac{\\mathbb{P}(A\\cap B)}{\\mathbb{P}(B)} = \\cfrac{DP(\\tau \\in (t, t+dt))}{DP(\\tau\\gt t)} = \\cfrac{\\cfrac{d(DP)}{dt}}{N(t_0, t)} = \\cfrac{\\cfrac{d(1-N)}{dt}}{N(t_0, t)} = -\\cfrac{dN}{dt}\\cfrac{1}{N(t_0, t)}$$\n",
    "\n",
    "where the minus sign derives from the fact that $N$ is a **non** default probability while the hazard rate is defined in terms of the probability of default $DP$.\n",
    "\n",
    "In practice we will calculate it numerically, and therefore it'll be the (annualized) conditional probability of the issuer defaulting between the value date and the day after.\n",
    "Conversely given the hazard rate the survival probability can be determined as:\n",
    "\n",
    "$$\\lambda(t) = -\\cfrac{1}{dt}\\cdot\\cfrac{dN}{N} = -\\cfrac{d(\\textrm{log}N)}{dt}$$\n",
    "\n",
    "$$N(t_0, t) = e^{-\\int_{t_0}^{t}\\lambda(s) ds}$$\n",
    "\n",
    "### CreditCurve class"
   ]
  },
  {
   "cell_type": "code",
   "execution_count": 1,
   "metadata": {},
   "outputs": [],
   "source": [
    "# implement CreditCurve class\n",
    "import math, numpy\n",
    "from dateutil.relativedelta import relativedelta\n",
    "\n",
    "class CreditCurve:\n",
    "    def __init__(self, pillars, ndps):\n",
    "        self.pillars = pillars\n",
    "        self.ndps = ndps\n",
    "        self.pillar_days = [(p-self.pillars[0]).days for p in self.pillars]\n",
    "        \n",
    "    def ndp(self, d):\n",
    "        d = (d - self.pillars[0]).days\n",
    "        return (numpy.interp(d, self.pillar_days, self.ndps))\n",
    "\n",
    "    def hazard_rate(self, d):\n",
    "        ndp_1 = self.ndp(d - relativedelta(days=1))\n",
    "        ndp_2 = self.ndp(d)\n",
    "        dt = 1/365.\n",
    "        l = -(ndp_2 - ndp_1)/dt/self.ndp(d)\n",
    "        return l"
   ]
  },
  {
   "cell_type": "markdown",
   "metadata": {},
   "source": [
    "As usual we test the newly developed class with some dummy data."
   ]
  },
  {
   "cell_type": "code",
   "execution_count": 2,
   "metadata": {},
   "outputs": [],
   "source": [
    "# set observation_date and CreditCurve\n",
    "from datetime import date\n",
    "\n",
    "observation_date = date.today()\n",
    "cc = CreditCurve([observation_date, observation_date+relativedelta(years=2)],\n",
    "                 [1, 0.8])"
   ]
  },
  {
   "cell_type": "code",
   "execution_count": 3,
   "metadata": {},
   "outputs": [
    {
     "data": {
      "text/plain": [
       "0.9"
      ]
     },
     "execution_count": 3,
     "metadata": {},
     "output_type": "execute_result"
    }
   ],
   "source": [
    "# check ndp in 1 year\n",
    "cc.ndp(observation_date+relativedelta(years=1))\n"
   ]
  },
  {
   "cell_type": "code",
   "execution_count": 4,
   "metadata": {},
   "outputs": [
    {
     "data": {
      "text/plain": [
       "0.11111111111112416"
      ]
     },
     "execution_count": 4,
     "metadata": {},
     "output_type": "execute_result"
    }
   ],
   "source": [
    "# check hazard in 1 year\n",
    "cc.hazard_rate(observation_date+relativedelta(years=1))"
   ]
  },
  {
   "cell_type": "markdown",
   "metadata": {},
   "source": [
    "## Credit Deafult Swaps\n",
    "\n",
    "Once we have implemented a $\\tt{CreditCurve}$ class which allows us to interpolate survival probabilities, and also to calculate the hazard rate at arbitrary dates, we can use it to price **credit default swaps** (CDSs).\n",
    "\n",
    "A CDS is a financial swap agreement that the seller of the CDS will compensate the buyer in the event of a debt default or other credit event. That is, the seller of the CDS insures the buyer against some reference asset defaulting. The buyer of the CDS makes a series of payments (the CDS \"fee\" or \"spread\") to the seller and, in exchange, may expect to receive a payoff if the asset defaults. \n",
    "\n",
    "CDSs are made up of two legs:\n",
    "\n",
    "* the *default* leg: which pays $LGD = F(1 - R)$, known as the **loss given default**, if and when the credit event occurs, $F$ is the face value of the contact, $R$ is the recovery rate (usually set around 40%);\n",
    "* the *premium* leg: which pays the *spread* $S$ every m months until the credit event occurs.\n",
    "\n",
    "### Premium leg\n",
    "\n",
    "Let's start with the premium leg. We will use the following notation:\n",
    "\n",
    "* $d$ today's date;\n",
    "* $d_0$ the start date of the CDS (could be different from $d$);\n",
    "* $d_1, ..., d_n$ the payment dates of the premium leg, which occur at a m-month frequency (we assume that $d_n$ is the end date of the CDS);\n",
    "* $D(d')$ the discount factor between $d$ and $d'$;\n",
    "* $N(d')$ the survival probability between $d$ and $d'$;\n",
    "* $\\tau$ the random variable representing the date of the credit event.\n",
    "\n",
    "At each payment date $d_i$, a flow $F\\cdot S$ is paid if and only if the credit event has not occurred before that date. Since the NPV depends on the default probability, the value of the premium leg can be estimated by an expectation\n",
    "\n",
    "$$f_{\\textrm{premium}}^i = \\mathbb{E}\\left[ S \\times D(d_i) \\times \\mathbb{1}(\\tau > d_i) \\right]$$\n",
    "\n",
    "where $\\mathbb{1}(\\tau > d_i)$ means that the expectation value has to be evaluated when $\\tau > d_i$. Remember that if $x$ is a random variable with a finite number of finite outcomes $x_{1},x_{2},\\ldots ,x_{k}$ occurring with probabilities $p_{1},p_{2},\\ldots ,p_{k}$ respectively, the expectation of $x$ is:\n",
    "\n",
    "$$\\mathbb{E}[x] = \\sum _{i=1}^{k}x_{i}\\,p_{i}=x_{1}p_{1}+x_{2}p_{2}+\\cdots +x_{k}p_{k}$$\n",
    "which is the weighted sum of the $x_i$, with $p_{i}$ values being the weights. \n",
    "\n",
    "In our case $x_i = S\\cdot D(d_i)$ and $p_i=N(d_i)$ so the NPV of the leg can be expressed as:\n",
    "\n",
    "$$\\textrm{NPV}_{premium} = F\\cdot S\\cdot \\sum_{i=1}^{n} D(d_i) \\cdot N(d_i)$$\n",
    "\n",
    "## Default leg\n",
    "\n",
    "The LGD is paid out on the same date on which the credit event occurs, i.e. it can potentially be paid out on any date between $d_0$ and $d_n$. Mathematically, therefore, the NPV of the premium leg can be expressed as follows:\n",
    "\n",
    "$$\\mathrm{NPV_{default}} = \\mathbb{E} \\left[F(1-R) \\times D(\\tau) \\times \\mathbb{1}(\\tau \\leq d_n) \\right] $$\n",
    "\n",
    "Using the laws of probability, we can break this down into the sum of \"daily NPVs\" calculated as a function of the daily default probabilities $DP$:\n",
    "\n",
    "$$\n",
    "\\begin{align*}\n",
    "\\mathbb{E}\\left[F(1-R) \\times D(\\tau) \\times \\mathbb{1}(\\tau \\leq d_n) \\right]\n",
    "&= \\sum_{d'=d_0}^{d_n} \\mathbb{E}[ F(1-R) \\times D(\\tau) | \\tau = d'] DP[ \\tau = d' ] \\\\\n",
    "&= F(1-R) \\sum_{d'=d_0}^{d_n} D(d') \\left( DP[ \\tau \\geq d' ] - DP[ \\tau \\geq d'+1 ] \\right) \\\\\n",
    "&= F(1-R) \\sum_{d'=d_0}^{d_n} D(d') \\left( N(d') - N(d'+1) \\right)\n",
    "\\end{align*}\n",
    "$$\n",
    "\n",
    "where the last step holds since $DP[\\tau\\geq d'] = 1 - DP[\\tau < d'] = 1 - (1-N(\\tau < d')) = N(\\tau < d')$.\n",
    "\n",
    "<img src=\"timeline.png\">"
   ]
  },
  {
   "cell_type": "code",
   "execution_count": 1,
   "metadata": {},
   "outputs": [],
   "source": [
    "# credit default swap class with breakeven method\n",
    "from finmarkets import generate_dates\n",
    "\n",
    "class CreditDefaultSwap:\n",
    "    def __init__(self, notional, start_date, spread, maturity, tenor=3, recovery=0.4):\n",
    "        self.notional = notional\n",
    "        self.spread = spread\n",
    "        self.start_date = start_date\n",
    "        self.payment_dates = generate_dates(start_date, maturity*12, tenor)\n",
    "        self.recovery = recovery\n",
    "    \n",
    "    def npv_premium(self, dc, cc):\n",
    "        v = 0\n",
    "        for i in range(1, len(self.payment_dates)):\n",
    "            v += dc.df(self.payment_dates[i]) * cc.ndp(self.payment_dates[i])\n",
    "            \n",
    "        return self.notional * self.spread * v\n",
    "    \n",
    "    def npv_default(self, dc, cc):\n",
    "        d = self.payment_dates[0]\n",
    "        v = 0\n",
    "        while d <= self.payment_dates[-1]:\n",
    "            v += dc.df(d)*(cc.ndp(d) - cc.ndp(d+relativedelta(days=1)))\n",
    "            d += relativedelta(days=1)        \n",
    "        return self.notional*(1-self.recovery)*v\n",
    "            \n",
    "    def npv(self, dc, cc):\n",
    "        return self.npv_default(dc, cc) - self.npv_premium(dc, cc)\n",
    "    \n",
    "    def breakeven_rate(self, dc, cc):\n",
    "        num = self.npv_default(dc, cc)\n",
    "        den = self.npv_premium(dc, cc) / self.spread\n",
    "        return num/den"
   ]
  },
  {
   "cell_type": "markdown",
   "metadata": {},
   "source": [
    "Below a simple test of the class, using [discount_curve_ch_10.xlsx](https://drive.google.com/file/d/1mugHyet3H9tcSAvYvt8G4_kpfaEbVY7b/view?usp=sharing)."
   ]
  },
  {
   "cell_type": "code",
   "execution_count": 31,
   "metadata": {},
   "outputs": [],
   "source": [
    "import pandas as pd\n",
    "from finmarkets import DiscountCurve, CreditCurve\n",
    "from dateutil.relativedelta import relativedelta\n",
    "from datetime import date\n",
    "\n",
    "start_date = date(2020, 11, 4)\n",
    "dc_data = pd.read_excel('discount_curve_ch_10.xlsx')\n",
    "dc_data['pillars'] = dc_data['pillars'].dt.date\n",
    "dc_data.dropna(subset=['pillars'], inplace=True)\n",
    "\n",
    "dc = DiscountCurve(start_date, \n",
    "                   dc_data['pillars'],\n",
    "                   dc_data['discount_factors'].tolist())\n",
    "\n",
    "credit_curve = CreditCurve([start_date, \n",
    "                            start_date + relativedelta(months=36)], \n",
    "                           [1.0, 0.7])\n",
    "\n",
    "cds = CreditDefaultSwap(1e6, start_date, 0.03, 3)"
   ]
  },
  {
   "cell_type": "code",
   "execution_count": 30,
   "metadata": {},
   "outputs": [
    {
     "name": "stdout",
     "output_type": "stream",
     "text": [
      "299867.86539770674\n",
      "180844.13223595402\n",
      "-119023.73316175272\n",
      "0.018092381989257694\n"
     ]
    }
   ],
   "source": [
    "# check default leg, premium leg and npv\n",
    "print (cds.npv_premium(dc, credit_curve))\n",
    "print (cds.npv_default(dc, credit_curve))\n",
    "print (cds.npv(dc, credit_curve))\n",
    "print (cds.breakeven_rate(dc, credit_curve))"
   ]
  },
  {
   "cell_type": "markdown",
   "metadata": {},
   "source": [
    "## Estimate Default Probabilities from CDS\n",
    "\n",
    "Pretty much like the discount curves could be derived from OIS market quotes, we can estimate default probabilities (hence credit curves) from CDS quotes using *bootstrap*.\n",
    "Following the same steps seen for the discount curve we can determine default probabilites at discrete dates to fill our curve:\n",
    "\n",
    "* collect market quotes for a number of CDS with different maturities;\n",
    "* create the corresponding CDS objects;\n",
    "* define a $\\tt{CreditCurve}$ whose pillars are the CDS maturity dates and the survival probabilities are unknown;\n",
    "* define an objective function to minimize the sum of the squared CDS's NPVs;\n",
    "* set the non-default probabilities to an initial value and define their range of variability between $[0, 1]$ since they are probabilities and fix \"today's\" probability to 1 since there hasn't been any default;\n",
    "* run the minimization.\n",
    "\n",
    "The file for market quotes is [cds_quotes.xlsx](https://drive.google.com/file/d/1BOtwCFYk0CUwYkMhnowWTj0HNOpBefd_/view?usp=sharing).\n"
   ]
  },
  {
   "cell_type": "code",
   "execution_count": 32,
   "metadata": {},
   "outputs": [
    {
     "name": "stdout",
     "output_type": "stream",
     "text": [
      "   months    quote\n",
      "0      12  0.01469\n",
      "1      24  0.01650\n",
      "2      36  0.01730\n",
      "3      72  0.01820\n",
      "4     120  0.01830\n"
     ]
    }
   ],
   "source": [
    "# bootstrapping\n",
    "from scipy.optimize import minimize\n",
    "\n",
    "import pandas as pd\n",
    "quotes = pd.read_excel(\"cds_quotes.xlsx\")\n",
    "print (quotes.head())\n",
    "\n",
    "pillars = [start_date]\n",
    "cdss = []\n",
    "for i in range(len(quotes)):\n",
    "    cds = CreditDefaultSwap(1, start_date, quotes['quote'][i],\n",
    "                           quotes['months'][i]//12)\n",
    "    cdss.append(cds)\n",
    "    pillars.append(cds.payment_dates[-1])\n",
    "\n",
    "def objective_function(x):\n",
    "    cc = CreditCurve(pillars, x)\n",
    "    \n",
    "    s = 0\n",
    "    for c in cdss:\n",
    "        s += c.npv(dc, cc)**2\n",
    "    return s\n",
    "\n",
    "bounds = [(0,1) for _ in range(len(pillars))]\n",
    "x0 = [0.1 for _ in range(len(pillars))]\n",
    "bounds[0] = (1,1)\n",
    "\n",
    "res = minimize(objective_function, x0, bounds=bounds)"
   ]
  },
  {
   "cell_type": "code",
   "execution_count": 33,
   "metadata": {},
   "outputs": [
    {
     "name": "stdout",
     "output_type": "stream",
     "text": [
      "      fun: 1.5631087068777117e-11\n",
      " hess_inv: <7x7 LbfgsInvHessProduct with dtype=float64>\n",
      "      jac: array([-1.50174114e-06,  2.28813890e-06, -2.46120241e-06, -2.07817681e-07,\n",
      "        3.48982754e-06, -8.13928577e-07,  1.66483400e-06])\n",
      "  message: b'CONVERGENCE: NORM_OF_PROJECTED_GRADIENT_<=_PGTOL'\n",
      "     nfev: 96\n",
      "      nit: 10\n",
      "   status: 0\n",
      "  success: True\n",
      "        x: array([1.        , 0.90802097, 0.80398767, 0.70870175, 0.48274049,\n",
      "       0.29639829, 0.08653125])\n"
     ]
    }
   ],
   "source": [
    "print (res)"
   ]
  },
  {
   "cell_type": "markdown",
   "metadata": {},
   "source": [
    "### Determine Default Probabilities from Bond Prices"
   ]
  },
  {
   "cell_type": "markdown",
   "metadata": {},
   "source": [
    "The price of a bond issued by a party is directly linked to the credit rating of that party, since there is always an associated default risk, which means that the borrower might not be able to repay fully or partially the amount of the taken loan.\n",
    "Bonds with low ratings, called junk bonds, are sold at lower prices (since riskier) while those with higher ratings, called investment-grade bonds, are sold at higher prices.\n",
    "\n",
    "Let's see with an example how the default probability can be determined from bond prices.\n",
    "Imagine to have a bond and let $x$ represent the present value of a bond cash flow stream. \n",
    "\n",
    "When you have a default probability associated to the issuer to valuate the bond we need to take each possible value of $x$, multiply it by its probability and sum the results. In other words the value of the bond should equal the mathematical expectation of $x$.\n",
    "\n",
    "Consider a bond which pays $F$ at maturity and that the issuer of this bond has a default probability $DP$ (in case of default the recovery is $R$).What will be the price of this bond ?\n",
    "\n",
    "$$ V_{bond} =\n",
    "\\begin{cases}\n",
    "& D \\cdot R \\cdot F\\quad\\textrm{(in case of default of the issuer)}\\\\\n",
    "&D \\cdot F\\quad\\textrm{(in case of no default)}\\\\\n",
    "\\end{cases}$$\n",
    "where $D$ is the proper discount factor.\n",
    "Since we don’t know if the issuer will default or not we can estimate the bond price as\n",
    "\n",
    "$$V_{bond} = D \\cdot R \\cdot F \\cdot DP ( \\tau ) + D \\cdot F \\cdot ( 1 − DP ( \\tau)) = D\\cdot F \\cdot ( 1 − ( 1 − R ) DP ( \\tau ))$$\n",
    "\n",
    "From the this equation is clear that the higher the default probability the lower is the bond price. Conversely, given the market price of the bond we can estimate the issuer default probability.\n",
    "\n",
    "In the notes there is a generalization of this formula to estimate the default probability of a bond issuer from its current price\n",
    "\n",
    "$$\\mathbb{E}(x) = \\Big(CSD + RF(1-S)\\Big)\\cfrac{1-(SD)^N}{1-SD}+F(SD)^N$$\n",
    "where $C$ the coupon and $N$ their number, $F$ the bond face value, $R$ the recovery percentage and $S$ the survival probability between two coupons. \n",
    "\n",
    "With $\\mathbb{E}(x)$ equal to the price of the bond, this equation can be solved numerically for $S$. The default probability is simply $(1-S)$, and the probability that the bond defaults anytime within the next $k$ coupons is $(1-S^k)$.\n",
    "\n",
    "Consider for example a bond with 4 year maturity, a face value of €100 which provides 5% yearly coupons. Also the recovery rate $R$ is 40% and the risk-free rate is constant a 3%. Let's try to estimate the default probability of the issuer of this bond, finding from the previous equation the value of $S$ which give the current trading price (€80)."
   ]
  },
  {
   "cell_type": "code",
   "execution_count": 35,
   "metadata": {},
   "outputs": [
    {
     "name": "stdout",
     "output_type": "stream",
     "text": [
      "0.04797066237531611\n"
     ]
    }
   ],
   "source": [
    "# with brentq determine default probability\n",
    "from scipy.optimize import brentq\n",
    "\n",
    "N = 4\n",
    "F = 100\n",
    "C = 0.05\n",
    "R = 0.4\n",
    "r = 0.03\n",
    "D = 1/(1+r)\n",
    "trading_price = 80\n",
    "\n",
    "def func(S):\n",
    "    return (C*S*D + R*F*(1-S))*(1-(S*D)**N)/(1-S*D) + F*(S*D)**N-trading_price\n",
    "\n",
    "S = brentq(func, 0, 1)\n",
    "print (1-S)"
   ]
  },
  {
   "cell_type": "code",
   "execution_count": 39,
   "metadata": {},
   "outputs": [
    {
     "data": {
      "text/plain": [
       "0.17851180472805073"
      ]
     },
     "execution_count": 39,
     "metadata": {},
     "output_type": "execute_result"
    }
   ],
   "source": [
    "(1-S**N)"
   ]
  },
  {
   "cell_type": "code",
   "execution_count": null,
   "metadata": {},
   "outputs": [],
   "source": []
  }
 ],
 "metadata": {
  "kernelspec": {
   "display_name": "Python 3",
   "language": "python",
   "name": "python3"
  },
  "language_info": {
   "codemirror_mode": {
    "name": "ipython",
    "version": 3
   },
   "file_extension": ".py",
   "mimetype": "text/x-python",
   "name": "python",
   "nbconvert_exporter": "python",
   "pygments_lexer": "ipython3",
   "version": "3.7.4"
  }
 },
 "nbformat": 4,
 "nbformat_minor": 2
}
