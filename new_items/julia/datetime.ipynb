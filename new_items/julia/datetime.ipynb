{
 "cells": [
  {
   "cell_type": "markdown",
   "id": "662d7e64",
   "metadata": {},
   "source": [
    "## Dates\n",
    "\n"
   ]
  },
  {
   "cell_type": "code",
   "execution_count": 1,
   "id": "1af37ab8",
   "metadata": {},
   "outputs": [
    {
     "data": {
      "text/plain": [
       "2022-01-01"
      ]
     },
     "execution_count": 1,
     "metadata": {},
     "output_type": "execute_result"
    }
   ],
   "source": [
    "using Dates\n",
    "\n",
    "Date(2022, 1, 1)"
   ]
  },
  {
   "cell_type": "code",
   "execution_count": 2,
   "id": "a16227b9",
   "metadata": {},
   "outputs": [
    {
     "data": {
      "text/plain": [
       "1974-10-20"
      ]
     },
     "execution_count": 2,
     "metadata": {},
     "output_type": "execute_result"
    }
   ],
   "source": [
    "Date(Dates.Year(1974),Dates.Month(10),Dates.Day(20))"
   ]
  },
  {
   "cell_type": "code",
   "execution_count": 3,
   "id": "239c745b",
   "metadata": {},
   "outputs": [
    {
     "data": {
      "text/plain": [
       "1983-07-03"
      ]
     },
     "execution_count": 3,
     "metadata": {},
     "output_type": "execute_result"
    }
   ],
   "source": [
    "Date(\"1983-07-03\", dateformat\"y-m-d\")"
   ]
  },
  {
   "cell_type": "code",
   "execution_count": 6,
   "id": "d28e7d7d",
   "metadata": {},
   "outputs": [
    {
     "ename": "LoadError",
     "evalue": "ArgumentError: Unable to parse date time. Expected directive DatePart(mm) at char 5",
     "output_type": "error",
     "traceback": [
      "ArgumentError: Unable to parse date time. Expected directive DatePart(mm) at char 5",
      "",
      "Stacktrace:",
      " [1] macro expansion",
      "   @ /usr/local/Cellar/julia/1.7.1/share/julia/stdlib/v1.7/Dates/src/parse.jl:104 [inlined]",
      " [2] tryparsenext_core(str::String, pos::Int64, len::Int64, df::DateFormat{:yyyymmdd, Tuple{Dates.DatePart{'y'}, Dates.DatePart{'m'}, Dates.DatePart{'d'}}}, raise::Bool)",
      "   @ Dates /usr/local/Cellar/julia/1.7.1/share/julia/stdlib/v1.7/Dates/src/parse.jl:38",
      " [3] macro expansion",
      "   @ /usr/local/Cellar/julia/1.7.1/share/julia/stdlib/v1.7/Dates/src/parse.jl:150 [inlined]",
      " [4] tryparsenext_internal",
      "   @ /usr/local/Cellar/julia/1.7.1/share/julia/stdlib/v1.7/Dates/src/parse.jl:125 [inlined]",
      " [5] parse",
      "   @ /usr/local/Cellar/julia/1.7.1/share/julia/stdlib/v1.7/Dates/src/parse.jl:282 [inlined]",
      " [6] Date(d::String, df::DateFormat{:yyyymmdd, Tuple{Dates.DatePart{'y'}, Dates.DatePart{'m'}, Dates.DatePart{'d'}}})",
      "   @ Dates /usr/local/Cellar/julia/1.7.1/share/julia/stdlib/v1.7/Dates/src/io.jl:587",
      " [7] top-level scope",
      "   @ In[6]:1",
      " [8] eval",
      "   @ ./boot.jl:373 [inlined]",
      " [9] include_string(mapexpr::typeof(REPL.softscope), mod::Module, code::String, filename::String)",
      "   @ Base ./loading.jl:1196"
     ]
    }
   ],
   "source": [
    "Date(\"1983-07-03\", dateformat\"yyyymmdd\")"
   ]
  },
  {
   "cell_type": "code",
   "execution_count": 7,
   "id": "f780f694",
   "metadata": {},
   "outputs": [
    {
     "data": {
      "text/plain": [
       "2015-01-01"
      ]
     },
     "execution_count": 7,
     "metadata": {},
     "output_type": "execute_result"
    }
   ],
   "source": [
    "df = DateFormat(\"y-m-d\")\n",
    "dt = Date(\"2015-01-01\",df)"
   ]
  },
  {
   "cell_type": "code",
   "execution_count": 8,
   "id": "1e633a30",
   "metadata": {},
   "outputs": [
    {
     "data": {
      "text/plain": [
       "2-element Vector{Date}:\n",
       " 2015-01-01\n",
       " 2016-01-01"
      ]
     },
     "execution_count": 8,
     "metadata": {},
     "output_type": "execute_result"
    }
   ],
   "source": [
    "years = [\"2015\", \"2016\"]\n",
    "Date.(years, DateFormat(\"yyyy\"))"
   ]
  },
  {
   "cell_type": "code",
   "execution_count": 14,
   "id": "7c48a58c",
   "metadata": {},
   "outputs": [
    {
     "name": "stdout",
     "output_type": "stream",
     "text": [
      "true\n",
      "true\n",
      "4411 days\n",
      "-4411 days\n"
     ]
    }
   ],
   "source": [
    "dt = Date(2012,2,29)\n",
    "dt2 = Date(2000,2,1)\n",
    "\n",
    "println(dt > dt2)\n",
    "\n",
    "println(dt != dt2)\n",
    "\n",
    "#println(dt + dt2)\n",
    "#println(dt * dt2)\n",
    "#println(dt / dt2)\n",
    "\n",
    "println(dt - dt2)\n",
    "\n",
    "println(dt2 - dt)"
   ]
  },
  {
   "cell_type": "code",
   "execution_count": 16,
   "id": "58fde3dd",
   "metadata": {},
   "outputs": [
    {
     "name": "stdout",
     "output_type": "stream",
     "text": [
      "2014\n",
      "1\n",
      "5\n",
      "31\n",
      "(2014, 1)\n",
      "(1, 31)\n",
      "(2014, 1, 31)\n"
     ]
    }
   ],
   "source": [
    "t = Date(2014, 1, 31)\n",
    "println(Dates.year(t))\n",
    "println(Dates.month(t))\n",
    "println(Dates.week(t))\n",
    "println(Dates.day(t))\n",
    "\n",
    "println(Dates.yearmonth(t))\n",
    "println(Dates.monthday(t))\n",
    "println(Dates.yearmonthday(t))"
   ]
  },
  {
   "cell_type": "code",
   "execution_count": 5,
   "id": "34853f11",
   "metadata": {},
   "outputs": [
    {
     "name": "stdout",
     "output_type": "stream",
     "text": [
      "5\n",
      "Friday\n",
      "5\n",
      "January\n",
      "31\n",
      "false\n",
      "31\n",
      "1\n",
      "31\n",
      "vendredi\n",
      "janvier\n",
      "janv\n"
     ]
    },
    {
     "ename": "LoadError",
     "evalue": "BoundsError: attempt to access 1-element Vector{String} at index [5]",
     "output_type": "error",
     "traceback": [
      "BoundsError: attempt to access 1-element Vector{String} at index [5]",
      "",
      "Stacktrace:",
      " [1] getindex",
      "   @ ./array.jl:861 [inlined]",
      " [2] dayabbr",
      "   @ /usr/local/Cellar/julia/1.7.1/share/julia/stdlib/v1.7/Dates/src/query.jl:149 [inlined]",
      " [3] #dayabbr#4",
      "   @ /usr/local/Cellar/julia/1.7.1/share/julia/stdlib/v1.7/Dates/src/query.jl:151 [inlined]",
      " [4] dayabbr(dt::Date; locale::String)",
      "   @ Dates /usr/local/Cellar/julia/1.7.1/share/julia/stdlib/v1.7/Dates/src/query.jl:190",
      " [5] top-level scope",
      "   @ In[5]:33",
      " [6] eval",
      "   @ ./boot.jl:373 [inlined]",
      " [7] include_string(mapexpr::typeof(REPL.softscope), mod::Module, code::String, filename::String)",
      "   @ Base ./loading.jl:1196"
     ]
    }
   ],
   "source": [
    "t = Date(2014, 1, 31)\n",
    "\n",
    "println(Dates.dayofweek(t))\n",
    "println(Dates.dayname(t))\n",
    "println(Dates.dayofweekofmonth(t)) # 5th Friday of January\n",
    "println(Dates.monthname(t))\n",
    "println(Dates.daysinmonth(t))\n",
    "\n",
    "println(Dates.isleapyear(t))\n",
    "println(Dates.dayofyear(t))\n",
    "println(Dates.quarterofyear(t))\n",
    "println(Dates.dayofquarter(t))\n",
    "\n",
    "# The dayname and monthname methods can also take an optional locale keyword that can be used to return the name of the day or month of the year for other languages/locales. There are also versions of these functions returning the abbreviated names, namely dayabbr and monthabbr. First the mapping is loaded into the LOCALES variable:\n",
    "\n",
    "french_months = [\"janvier\", \"février\", \"mars\", \"avril\", \"mai\", \"juin\",\n",
    "                        \"juillet\", \"août\", \"septembre\", \"octobre\", \"novembre\", \"décembre\"]\n",
    "\n",
    "french_monts_abbrev = [\"janv\",\"févr\",\"mars\",\"avril\",\"mai\",\"juin\",\n",
    "                              \"juil\",\"août\",\"sept\",\"oct\",\"nov\",\"déc\"]\n",
    "\n",
    "french_days = [\"lundi\",\"mardi\",\"mercredi\",\"jeudi\",\"vendredi\",\"samedi\",\"dimanche\"]\n",
    "\n",
    "Dates.LOCALES[\"french\"] = Dates.DateLocale(french_months, french_monts_abbrev, french_days, [\"\"])\n",
    "#The above mentioned functions can then be used to perform the queries:\n",
    "\n",
    "println(Dates.dayname(t;locale=\"french\"))\n",
    "println(Dates.monthname(t;locale=\"french\"))\n",
    "println(Dates.monthabbr(t;locale=\"french\"))\n",
    "\n",
    "#Since the abbreviated versions of the days are not loaded, trying to use the function dayabbr will error.\n",
    "\n",
    "println(Dates.dayabbr(t;locale=\"french\"))"
   ]
  },
  {
   "cell_type": "markdown",
   "id": "1c061fd5",
   "metadata": {},
   "source": [
    "## TimeType-Period Arithmetic\n",
    "\n",
    "The Dates module approach tries to follow the simple principle of trying to change as little as possible when doing Period arithmetic. This approach is also often known as calendrical arithmetic. Why all the fuss about this? Let's take a classic example: add 1 month to January 31st, 2014. What's the answer? Javascript will say March 3 (assumes 31 days). PHP says March 2 (assumes 30 days). The fact is, there is no right answer. In the Dates module, it gives the result of February 28th. How does it figure that out? Consider the classic 7-7-7 gambling game in casinos.\n",
    "\n",
    "Now just imagine that instead of 7-7-7, the slots are Year-Month-Day, or in our example, 2014-01-31. When you ask to add 1 month to this date, the month slot is incremented, so now we have 2014-02-31. Then the day number is checked if it is greater than the last valid day of the new month; if it is (as in the case above), the day number is adjusted down to the last valid day (28). What are the ramifications with this approach? Go ahead and add another month to our date, 2014-02-28 + Month(1) == 2014-03-28. What? Were you expecting the last day of March? Nope, sorry, remember the 7-7-7 slots. As few slots as possible are going to change, so we first increment the month slot by 1, 2014-03-28, and boom, we're done because that's a valid date. On the other hand, if we were to add 2 months to our original date, 2014-01-31, then we end up with 2014-03-31, as expected. The other ramification of this approach is a loss in associativity when a specific ordering is forced (i.e. adding things in different orders results in different outcomes)."
   ]
  },
  {
   "cell_type": "code",
   "execution_count": 6,
   "id": "1d25b72d",
   "metadata": {},
   "outputs": [
    {
     "name": "stdout",
     "output_type": "stream",
     "text": [
      "2014-02-28\n",
      "2014-03-01\n"
     ]
    }
   ],
   "source": [
    "println((Date(2014,1,29)+Dates.Day(1)) + Dates.Month(1))\n",
    "println((Date(2014,1,29)+Dates.Month(1)) + Dates.Day(1))"
   ]
  },
  {
   "cell_type": "markdown",
   "id": "39960cea",
   "metadata": {},
   "source": [
    "What's going on there? In the first line, we're adding 1 day to January 29th, which results in 2014-01-30; then we add 1 month, so we get 2014-02-30, which then adjusts down to 2014-02-28. In the second example, we add 1 month first, where we get 2014-02-29, which adjusts down to 2014-02-28, and then add 1 day, which results in 2014-03-01. One design principle that helps in this case is that, in the presence of multiple Periods, the operations will be ordered by the Periods' types, not their value or positional order; this means Year will always be added first, then Month, then Week, etc. Hence the following does result in associativity and Just Works:"
   ]
  },
  {
   "cell_type": "code",
   "execution_count": 8,
   "id": "24615c9c",
   "metadata": {},
   "outputs": [
    {
     "name": "stdout",
     "output_type": "stream",
     "text": [
      "2014-03-01\n",
      "2014-03-01\n"
     ]
    }
   ],
   "source": [
    "println(Date(2014,1,29) + Dates.Day(1) + Dates.Month(1))\n",
    "println(Date(2014,1,29) + Dates.Month(1) + Dates.Day(1))"
   ]
  },
  {
   "cell_type": "markdown",
   "id": "8963f762",
   "metadata": {},
   "source": [
    "The bottom line is to be aware that explicitly forcing a certain associativity, when dealing with months, may lead to some unexpected results, but otherwise, everything should work as expected. \n",
    "\n",
    "As a bonus, all period arithmetic objects work directly with ranges:\n"
   ]
  },
  {
   "cell_type": "code",
   "execution_count": 10,
   "id": "4a8a9e58",
   "metadata": {},
   "outputs": [
    {
     "data": {
      "text/plain": [
       "6-element Vector{Date}:\n",
       " 2014-01-29\n",
       " 2014-01-30\n",
       " 2014-01-31\n",
       " 2014-02-01\n",
       " 2014-02-02\n",
       " 2014-02-03"
      ]
     },
     "execution_count": 10,
     "metadata": {},
     "output_type": "execute_result"
    }
   ],
   "source": [
    "dr = Date(2014,1,29):Day(1):Date(2014,2,3)\n",
    "collect(dr)"
   ]
  },
  {
   "cell_type": "code",
   "execution_count": 11,
   "id": "de436541",
   "metadata": {},
   "outputs": [
    {
     "data": {
      "text/plain": [
       "7-element Vector{Date}:\n",
       " 2014-01-29\n",
       " 2014-02-28\n",
       " 2014-03-29\n",
       " 2014-04-29\n",
       " 2014-05-29\n",
       " 2014-06-29\n",
       " 2014-07-29"
      ]
     },
     "execution_count": 11,
     "metadata": {},
     "output_type": "execute_result"
    }
   ],
   "source": [
    "dr = Date(2014,1,29):Dates.Month(1):Date(2014,07,29)\n",
    "collect(dr)"
   ]
  },
  {
   "cell_type": "markdown",
   "id": "3204c3d8",
   "metadata": {},
   "source": [
    "## Adjuster Functions\n",
    "\n",
    "As convenient as date-period arithmetic is, often the kinds of calculations needed on dates take on a calendrical or temporal nature rather than a fixed number of periods. Holidays are a perfect example; most follow rules such as \"Memorial Day = Last Monday of May\", or \"Thanksgiving = 4th Thursday of November\". These kinds of temporal expressions deal with rules relative to the calendar, like first or last of the month, next Tuesday, or the first and third Wednesdays, etc.\n",
    "\n",
    "The Dates module provides the adjuster API through several convenient methods that aid in simply and succinctly expressing temporal rules. The first group of adjuster methods deal with the first and last of weeks, months, quarters, and years. They each take a single TimeType as input and return or adjust to the first or last of the desired period relative to the input."
   ]
  },
  {
   "cell_type": "code",
   "execution_count": 12,
   "id": "6611ba38",
   "metadata": {},
   "outputs": [
    {
     "name": "stdout",
     "output_type": "stream",
     "text": [
      "2014-07-14\n",
      "2014-07-31\n",
      "2014-09-30\n"
     ]
    }
   ],
   "source": [
    "println(Dates.firstdayofweek(Date(2014,7,16))) # Adjusts the input to the Monday of the input's week\n",
    "println(Dates.lastdayofmonth(Date(2014,7,16))) # Adjusts to the last day of the input's month\n",
    "println(Dates.lastdayofquarter(Date(2014,7,16))) # Adjusts to the last day of the input's quarter"
   ]
  },
  {
   "cell_type": "markdown",
   "id": "42025e9c",
   "metadata": {},
   "source": [
    "The next two higher-order methods, tonext, and toprev, generalize working with temporal expressions by taking a DateFunction as first argument, along with a starting TimeType. A DateFunction is just a function, usually anonymous, that takes a single TimeType as input and returns a Bool, true indicating a satisfied adjustment criterion. For example:"
   ]
  },
  {
   "cell_type": "code",
   "execution_count": 14,
   "id": "e52d3a75",
   "metadata": {},
   "outputs": [
    {
     "name": "stdout",
     "output_type": "stream",
     "text": [
      "2014-07-15\n",
      "2014-07-15\n"
     ]
    }
   ],
   "source": [
    "istuesday = x->Dates.dayofweek(x) == Dates.Tuesday # Returns true if the day of the week of x is Tuesday\n",
    "println(Dates.tonext(istuesday, Date(2014,7,13))) # 2014-07-13 is a Sunday\n",
    "println(Dates.tonext(Date(2014,7,13), Dates.Tuesday)) # Convenience method provided for day of the week adjustments"
   ]
  },
  {
   "cell_type": "markdown",
   "id": "8dec7e87",
   "metadata": {},
   "source": [
    "This is useful with the do-block syntax for more complex temporal expressions:"
   ]
  },
  {
   "cell_type": "code",
   "execution_count": 15,
   "id": "3411869a",
   "metadata": {},
   "outputs": [
    {
     "data": {
      "text/plain": [
       "2014-11-27"
      ]
     },
     "execution_count": 15,
     "metadata": {},
     "output_type": "execute_result"
    }
   ],
   "source": [
    "Dates.tonext(Date(2014,7,13)) do x\n",
    "   # Return true on the 4th Thursday of November (Thanksgiving)\n",
    "   Dates.dayofweek(x) == Dates.Thursday &&\n",
    "   Dates.dayofweekofmonth(x) == 4 &&\n",
    "   Dates.month(x) == Dates.November\n",
    "end"
   ]
  },
  {
   "cell_type": "markdown",
   "id": "794cb504",
   "metadata": {},
   "source": [
    "The Base.filter method can be used to obtain all valid dates/moments in a specified range:"
   ]
  },
  {
   "cell_type": "code",
   "execution_count": 16,
   "id": "b442017e",
   "metadata": {},
   "outputs": [
    {
     "data": {
      "text/plain": [
       "8-element Vector{Date}:\n",
       " 2014-04-08\n",
       " 2014-05-13\n",
       " 2014-06-10\n",
       " 2014-07-08\n",
       " 2014-08-12\n",
       " 2014-09-09\n",
       " 2014-10-14\n",
       " 2014-11-11"
      ]
     },
     "execution_count": 16,
     "metadata": {},
     "output_type": "execute_result"
    }
   ],
   "source": [
    "# Pittsburgh street cleaning; Every 2nd Tuesday from April to November\n",
    "# Date range from January 1st, 2014 to January 1st, 2015\n",
    "\n",
    "dr = Dates.Date(2014):Day(1):Dates.Date(2015)\n",
    "filter(dr) do x\n",
    "   Dates.dayofweek(x) == Dates.Tue &&\n",
    "   Dates.April <= Dates.month(x) <= Dates.Nov &&\n",
    "   Dates.dayofweekofmonth(x) == 2\n",
    "end"
   ]
  }
 ],
 "metadata": {
  "kernelspec": {
   "display_name": "Julia 1.7.1",
   "language": "julia",
   "name": "julia-1.7"
  },
  "language_info": {
   "file_extension": ".jl",
   "mimetype": "application/julia",
   "name": "julia",
   "version": "1.7.1"
  }
 },
 "nbformat": 4,
 "nbformat_minor": 5
}
