{
 "cells": [
  {
   "cell_type": "markdown",
   "metadata": {},
   "source": []
  },
  {
   "cell_type": "code",
   "execution_count": null,
   "metadata": {},
   "outputs": [],
   "source": [
    "# Setup and Import data\n",
    "from statsmodels.tsa.stattools import adfuller\n",
    "import pandas as pd\n",
    "import numpy as np\n",
    "%matplotlib inline\n",
    "\n",
    "url = 'https://raw.githubusercontent.com/selva86/datasets/master/a10.csv'\n",
    "df = pd.read_csv(url, parse_dates=['date'], index_col='date')\n",
    "series = df.loc[:, 'value'].values\n",
    "df.plot(figsize=(14,8), legend=None, title='a10 - Drug Sales Series');"
   ]
  },
  {
   "cell_type": "markdown",
   "metadata": {},
   "source": [
    "The packages and the data is loaded, we have everything needed to perform the test using adfuller().\n",
    "\n",
    "An optional argument the adfuller() accepts is the number of lags you want to consider while performing the OLS regression.\n",
    "\n",
    "By default, this value is 12*(nobs/100)^{1/4}, where nobs is the number of observations in the series. But, optionally you can specify either the maximum number of lags with maxlags parameter or let the algorithm compute the optimal number iteratively.\n",
    "\n",
    "This can be done by setting the autolag='AIC'. By doing so, the adfuller will choose a the number of lags that yields the lowest AIC. This is usually a good option to follow.\n",
    "\n"
   ]
  },
  {
   "cell_type": "code",
   "execution_count": null,
   "metadata": {},
   "outputs": [],
   "source": [
    "# ADF Test\n",
    "result = adfuller(series, autolag='AIC')\n",
    "print(f'ADF Statistic: {result[0]}')\n",
    "print(f'n_lags: {result[1]}')\n",
    "print(f'p-value: {result[1]}')\n",
    "for key, value in result[4].items():\n",
    "    print('Critial Values:')\n",
    "    print(f'   {key}, {value}')    "
   ]
  },
  {
   "cell_type": "markdown",
   "metadata": {},
   "source": [
    "The p-value is obtained is greater than significance level of 0.05 and the ADF statistic is higher than any of the critical values.\n",
    "\n",
    "Clearly, there is no reason to reject the null hypothesis. So, the time series is in fact non-stationary.\n",
    "\n",
    "6. ADF Test on stationary series\n",
    "Now, let’s see another example of performing the test on a series of random numbers which is usually considered as stationary.\n",
    "\n",
    "Let’s use np.random.randn() to generate a randomized series."
   ]
  },
  {
   "cell_type": "code",
   "execution_count": null,
   "metadata": {},
   "outputs": [],
   "source": [
    "# ADF test on random numbers\n",
    "series = np.random.randn(100)\n",
    "result = adfuller(series, autolag='AIC')\n",
    "print(f'ADF Statistic: {result[0]}')\n",
    "print(f'p-value: {result[1]}')\n",
    "for key, value in result[4].items():\n",
    "    print('Critial Values:')\n",
    "    print(f'   {key}, {value}')"
   ]
  },
  {
   "cell_type": "markdown",
   "metadata": {},
   "source": [
    "The p-value is very less than the significance level of 0.05 and hence we can reject the null hypothesis and take that the series is stationary.\n",
    "\n",
    "Let’s visualise the series as well to confirm."
   ]
  },
  {
   "cell_type": "code",
   "execution_count": null,
   "metadata": {},
   "outputs": [],
   "source": []
  }
 ],
 "metadata": {
  "kernelspec": {
   "display_name": "Python 3",
   "language": "python",
   "name": "python3"
  },
  "language_info": {
   "codemirror_mode": {
    "name": "ipython",
    "version": 3
   },
   "file_extension": ".py",
   "mimetype": "text/x-python",
   "name": "python",
   "nbconvert_exporter": "python",
   "pygments_lexer": "ipython3",
   "version": "3.6.3"
  }
 },
 "nbformat": 4,
 "nbformat_minor": 5
}
