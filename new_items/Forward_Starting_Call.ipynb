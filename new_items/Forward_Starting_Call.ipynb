{
 "cells": [
  {
   "cell_type": "markdown",
   "metadata": {},
   "source": [
    "In the definition of a forward starting call there are three times: $t_0$ which is now, $T_0$ which is the fixing of the strike of the call and $T_1$ which is the maturity of the call.\n",
    "\n",
    "The strike will be set at time time $T_0$ as $\\theta\\cdot S(t_0)$, with $\\theta$ a constant. So the\n",
    "strike in such options are set as a % of the asset price at that time.\n",
    "\n",
    "So we want to value an option where we don’t know what the actual strike is going to be. One way to price such options is the following: under GBM and risk neutral probabilities the underlying price can be written as:\n",
    "\n",
    "$S(t) = S(0)\\cdot e^{[(r-\\frac{\\sigma^{2}}{2})\\cdot T+\\sigma\\sqrt{T}Z]}$, with $Z = N(0,1)$\n",
    "\n",
    "Hence,\n",
    "\n",
    "$S(T_0) = S(t_0)\\cdot e^{[(r-\\frac{\\sigma^{2}}{2})\\cdot (T_0-t_0)+\\sigma\\sqrt{T_0-t_0}Z_1]}$\n",
    "\n",
    "and\n",
    "\n",
    "$S(T_1) = S(T_0)\\cdot e^{[(r-\\frac{\\sigma^{2}}{2})\\cdot (T_1-T_0)+\\sigma\\sqrt{T_1-T_0}Z_2]}$\n",
    "\n",
    "$Z_1$ and $Z_2$ are independent.\n",
    "\n",
    "Now the value of the options is given by the disounted payoff:\n",
    "\n",
    "$V_0 = e^{-r(T_1-T_0)}\\mathbb{E}[\\mathrm{max}(S(T_1)-\\theta S(T_0), 0)]$\n",
    "\n",
    "To solve di expectation value would require to compute a double integral but we can exploit the following result (law of total expectation):\n",
    "\n",
    "$\\mathbb{E}(X) = \\mathbb{E}(\\mathbb{E}(X|Y))$\n",
    "\n",
    "So\n",
    "\n",
    "$V_0 = e^{-r(T_1-t_0)}\\mathbb{E}[\\mathbb{E}[\\mathrm{max}(S(T_1)-\\theta S(T_0), 0)|S(T_0)]$\n",
    "\n",
    "The inner expectation can be easily computed by noticing that the expression is conditioned to information we\n",
    "have at time $T_0$. So we have a strike which is a constant and known at that time, leaving us with just the \n",
    "Black Scholes formula:\n",
    "\n",
    "$V_0 = e^{-r(T_1-t_0)}\\mathbb{E}[e^{r(T_1-T_0)}(S(T_0)N(d_1)-e^{-r(T_1-T_0)}\\theta S(T_0)N(d_2))]$\n",
    "\n",
    "$N(d_1)$ and $N(d_2)$ are constant so the remaining expectation results in:\n",
    "\n",
    "$V_0 = e^{-r(T_1-t_0)}e^{r(T_1-T_0)}\\cdot c\\cdot \\mathbb{E}[S(T_0)]$\n",
    "\n",
    "$S$ is lognormal so $\\mathbb{E}[X_{\\mathrm{lognorm}}] = e^{\\mu_X+\\frac{\\mathrm{var(X)}}{2}}$:\n",
    "\n",
    "$\\mathbb{E}[S(T_0)] = S(t_0)\\cdot e^{r(T_0-t_0)}$\n",
    "\n",
    "Substitung back:\n",
    "\n",
    "$V_0 = c\\cdot e^{-r(T_1-t_0)}e^{r(T_1-T_0)}\\cdot S(t_0)\\cdot e^{r(T_0-t_0)} = c\\cdot S(t_0)$\n",
    "\n",
    "Finally:\n",
    "\n",
    "$V_0 = S(t_0)\\cdot [N(d_1)- e^{-r(T_1-T_0)}\\theta N(d_2)]$, with $d_{1,2} = \\frac{\\mathrm{ln}\\frac{1}{\\theta}+(r\\pm \\frac{\\sigma^2}{2})(T_1-T_0)}{\\sigma\\sqrt{T_1-T_0}}$\n",
    "\n",
    "$\\Delta = \\frac{\\partial V}{\\partial S} = [N(d_1)- e^{-r(T_1-T_0)}\\theta N(d_2)]$\n",
    "\n",
    "$\\Gamma = 0$"
   ]
  },
  {
   "cell_type": "code",
   "execution_count": null,
   "metadata": {},
   "outputs": [],
   "source": []
  }
 ],
 "metadata": {
  "kernelspec": {
   "display_name": "Python 3",
   "language": "python",
   "name": "python3"
  },
  "language_info": {
   "codemirror_mode": {
    "name": "ipython",
    "version": 3
   },
   "file_extension": ".py",
   "mimetype": "text/x-python",
   "name": "python",
   "nbconvert_exporter": "python",
   "pygments_lexer": "ipython3",
   "version": "3.6.3"
  }
 },
 "nbformat": 4,
 "nbformat_minor": 4
}
