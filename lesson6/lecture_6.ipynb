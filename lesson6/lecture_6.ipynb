{
 "cells": [
  {
   "cell_type": "markdown",
   "metadata": {
    "colab_type": "text",
    "id": "37Q0hdCRw0Bv",
    "slideshow": {
     "slide_type": "slide"
    }
   },
   "source": [
    "# Interest Rate Swaps and Swaptions - Lesson 6\n",
    "\n",
    "## Overview \n",
    "\n",
    "Last week we looked at how to extract ('bootstrap' or 'calibrate') a discount curve from observed market quotes.\n",
    "This week we're going to move on using that discount curve to price EURIBOR/LIBOR interest rate swaps and swaptions."
   ]
  },
  {
   "cell_type": "markdown",
   "metadata": {
    "colab_type": "text",
    "id": "ZqC1SVPPw0B3",
    "slideshow": {
     "slide_type": "slide"
    }
   },
   "source": [
    "## EONIA vs EURIBOR\n",
    "\n",
    "Let's start by reminding ourselves of the differences and similarities between the EONIA/OIS and EURIBOR/LIBOR interest rate markets.\n",
    "\n",
    "* Similarities:\n",
    "    * both are **unsecured** lending, i.e. the lender assumes the risk of losing the capital if the borrower fails during the lending period;\n",
    "    * both represent some kind of *average* interest rate between similar, large financial institutions."
   ]
  },
  {
   "cell_type": "markdown",
   "metadata": {
    "colab_type": "text",
    "id": "blVgJ1dSw0B6",
    "slideshow": {
     "slide_type": "slide"
    }
   },
   "source": [
    "* Differences:\n",
    "    * EONIA/OIS:\n",
    "        * are related to overnight lending, which needs to be renewed each day. This means that each day the lender can choose to not renew the loan or lend the capital to a different borrower;\n",
    "        * rates are a volume-weighted average of real transactions.\n",
    "    * EURIBOR/LIBOR:\n",
    "        * refer to term lending, i.e. lending periods such as one month, three months, etc. The lender needs to wait until the expiration of the loan before having the option to lend the capital to a different borrower;\n",
    "        * are determined through a survey of panel banks' percieved market rates."
   ]
  },
  {
   "cell_type": "markdown",
   "metadata": {
    "colab_type": "text",
    "id": "0WbmTradw0B7",
    "slideshow": {
     "slide_type": "slide"
    }
   },
   "source": [
    "A naive understanding of the interest rate markets would lead one to believe that these different markets (O/N, 1M, 3M, etc) can all be priced with a single discount curve - indeed in periods of low market stress, this has been the case.\n",
    "\n",
    "In reality, the details of the liquidity and counterparty risk involved in each type of transaction are such that there is a basis between these markets, and therefore each one has a different discount (or rate) curve associated with it."
   ]
  },
  {
   "cell_type": "markdown",
   "metadata": {
    "colab_type": "text",
    "id": "V7D8Ocinw0B8",
    "slideshow": {
     "slide_type": "skip"
    }
   },
   "source": [
    "Given the fact that LIBOR curves do not represent a *pure* interest rate market but incorporate elements of liquidity and counterparty risk, it is surprising that, so many years after the financial crisis, they still maintain so much importance as benchmark rate markets for a wide range of purposes.\n",
    "\n",
    "Indeed, though OIS markets are fully liquid enough to extract information about forward interest rates, there is no functioning options market from which to extract information about the volatility of those interest rates. The liquidity in rate volatility continues to be present only in the LIBOR swaptions markets.\n",
    "\n",
    "As such, it continues to be important for banks to be able to price and calibrate market parameters against LIBOR instruments.\n",
    "\n"
   ]
  },
  {
   "cell_type": "markdown",
   "metadata": {
    "colab_type": "text",
    "id": "6vbq5O-Yw0B-",
    "slideshow": {
     "slide_type": "slide"
    }
   },
   "source": [
    "## Structure of today's lesson\n",
    "\n",
    "* We'll start writing a class which represents and interest rate swap (IRS) on a LIBOR index. The class will have a method which, given a discount curve and a forward rate curve, will calculate the NPV of the swap (the latter curve will be used for determining the forward rates to calculate the expected value of the floating leg cash flows, whereas the former curve will be used to discount both the floating and fixed leg cash flows).\n",
    "\n",
    "* Next we'll write a similar class for interest rate swaptions. We'll add a method for calculating the NPV analytically using the Black-Scholes formula, and then an additional method for calculating the same NPV via a Monte-Carlo simulation."
   ]
  },
  {
   "cell_type": "markdown",
   "metadata": {
    "colab_type": "text",
    "id": "50Aw7k02w0CA",
    "slideshow": {
     "slide_type": "slide"
    }
   },
   "source": [
    "## Interest Rate Swaps\n",
    "\n",
    "Interest rate swaps consist of a floating leg and a fixed leg. The contract parameters are:\n",
    "\n",
    "* start date $d_0$\n",
    "* notional $N$\n",
    "* fixed rate $K$\n",
    "* floating rate tenor (months)\n",
    "* maturity (years)\n",
    "\n",
    "The floating leg pays the reference LIBOR fixing at a frequency equal to the tenor of the floating rate - so for example an IRS on a 3-month LIBOR will pay a floating coupon every three months, an IRS on 6-month EURIBOR pays the floating coupon every six months and so on.\n",
    "\n",
    "The fixed leg pays a predetermined cash flow at annual frequency, regardless of the tenor of  the underlying floating rate. For simplicity we will only consider swaps with maturities which are multiples of 1 year."
   ]
  },
  {
   "cell_type": "markdown",
   "metadata": {
    "colab_type": "text",
    "id": "7zF9sKTKw0CB",
    "slideshow": {
     "slide_type": "slide"
    }
   },
   "source": [
    "We can modify the `generate_swap_dates` function in `finmarkets.py` to generate the payment dates for both the fixed and floating legs, as follows:"
   ]
  },
  {
   "cell_type": "code",
   "execution_count": 1,
   "metadata": {
    "colab": {
     "base_uri": "https://localhost:8080/",
     "height": 136
    },
    "colab_type": "code",
    "executionInfo": {
     "elapsed": 460,
     "status": "ok",
     "timestamp": 1572128954852,
     "user": {
      "displayName": "Matteo Sani",
      "photoUrl": "https://lh3.googleusercontent.com/a-/AAuE7mAJoEkE0aEpcWTzP7VnHn98dIfMUkpRno3NEZn6SA=s64",
      "userId": "10639058540037747059"
     },
     "user_tz": -120
    },
    "id": "6vlqLlwgw0CE",
    "outputId": "55c3a3b4-a4be-4bdf-a6d8-872fee48b945",
    "scrolled": true,
    "slideshow": {
     "slide_type": "fragment"
    }
   },
   "outputs": [
    {
     "data": {
      "text/plain": [
       "[datetime.date(2019, 10, 30),\n",
       " datetime.date(2020, 1, 30),\n",
       " datetime.date(2020, 4, 30),\n",
       " datetime.date(2020, 7, 30),\n",
       " datetime.date(2020, 10, 30),\n",
       " datetime.date(2021, 1, 30),\n",
       " datetime.date(2021, 2, 28)]"
      ]
     },
     "execution_count": 1,
     "metadata": {},
     "output_type": "execute_result"
    }
   ],
   "source": [
    "from datetime import date\n",
    "from dateutil.relativedelta import relativedelta\n",
    "\n",
    "def generate_swap_dates(start_date, n_months, tenor_months=12):\n",
    "    dates = []\n",
    "    for n in range(0, n_months, tenor_months):\n",
    "        dates.append(start_date + relativedelta(months=n))\n",
    "    dates.append(start_date + relativedelta(months=n_months))\n",
    "    return dates\n",
    "\n",
    "generate_swap_dates(date.today(), 16, 3)"
   ]
  },
  {
   "cell_type": "markdown",
   "metadata": {
    "colab_type": "text",
    "id": "EOVpabaFw0CK",
    "slideshow": {
     "slide_type": "fragment"
    }
   },
   "source": [
    "Using this function and the contract parameters we can determine a sequence of payment dates for each of the two legs."
   ]
  },
  {
   "cell_type": "markdown",
   "metadata": {
    "colab_type": "text",
    "id": "IRtJBNROw0CL",
    "slideshow": {
     "slide_type": "slide"
    }
   },
   "source": [
    "Let $d_0=d_0^{\\mathrm{fixed}},...,d_p^{\\mathrm{fixed}}$ be the fixed leg payment dates and $d_0=d_0^{\\mathrm{float}},...,d_p^{\\mathrm{float}}$ be the floating leg payment dates, and let's use the following notation:\n",
    "* $d$ the pricing date\n",
    "* $D(d, d')$ the discount factor observed in date $d$ for the value date $d'$\n",
    "* $F(d, d', d'')$ the forward rate observed in date $d$ for the period $[d', d'']$. The rate tenor is $\\tau = d'' - d'$."
   ]
  },
  {
   "cell_type": "markdown",
   "metadata": {
    "slideshow": {
     "slide_type": "subslide"
    }
   },
   "source": [
    "Then NPV of the fixed leg is calculated as follows:\n",
    "\n",
    "$$\\mathrm{NPV}_{\\mathrm{fixed}}(d; K) = N\\cdot K\\cdot\\sum_{i=1}^{p}D(d, d_{i}^{\\mathrm{fixed}})$$\n",
    "\n",
    "and the NPV of the floating leg is calculated as follows:\n",
    "\n",
    "$$\\mathrm{NPV}_{\\mathrm{float}}(d) = N\\cdot\\sum_{i=1}^{q}F(d, d_{j-1}^{\\mathrm{float}}, d_{j}^{\\mathrm{float}}) \\cdot \\frac{d_{j}^{\\mathrm{float}}-d_{j-1}^{\\mathrm{float}}}{360}\n",
    "\\cdot D(d, d_{i}^{\\mathrm{float}})$$\n",
    "\n",
    "Therefore the NPV of the swap (seen from the point of view of the counterparty which receives the floating leg) is\n",
    "\n",
    "$$\\mathrm{NPV}(d; K) = \\mathrm{NPV}_{\\mathrm{float}}(d) - \\mathrm{NPV}_{\\mathrm{fixed}}(d;K)$$"
   ]
  },
  {
   "cell_type": "markdown",
   "metadata": {
    "colab_type": "text",
    "id": "-oesSjBdw0CN",
    "slideshow": {
     "slide_type": "slide"
    }
   },
   "source": [
    "For reasons which will become apparent later, it's actually more convenient to express the NPV of an IRS as a function of the fair value fixed rate $S$ of the IRS, also known as the **swap rate**. $S$ is the value of K which makes $\\mathrm{NPV}(d)=0$.\n",
    "\n",
    "On the basis of the previous expressions, we can easiy calculate $S$ as:\n",
    "\n",
    "$$\\mathrm{NPV}_{\\mathrm{fixed}}(d;S) = \\mathrm{NPV}_{\\mathrm{float}}(d)$$\n",
    "<br>\n",
    "$$N\\cdot S\\cdot\\sum_{i=1}^{p}D(d, d_{i}^{\\mathrm{fixed}}) = N\\cdot\\sum_{i=1}^{q}F(d, d_{j-1}^{\\mathrm{float}}, d_{j}^{\\mathrm{float}}) \\cdot \\frac{d_{j}^{\\mathrm{float}}-d_{j-1}^{\\mathrm{float}}}{360} \\cdot D(d, d_{i}^{\\mathrm{float}})$$\n",
    "<br>\n",
    "$$S=\\frac{\\sum_{i=1}^{q}F(d, d_{j-1}^{\\mathrm{float}}, d_{j}^{\\mathrm{float}}) \\cdot \\frac{d_{j}^{\\mathrm{float}}-d_{j-1}^{\\mathrm{float}}}{360}\n",
    "\\cdot D(d, d_{i}^{\\mathrm{float}})}{\\sum_{i=1}^{p}D(d, d_i^{\\mathrm{fixed}})} $$"
   ]
  },
  {
   "cell_type": "markdown",
   "metadata": {
    "slideshow": {
     "slide_type": "slide"
    }
   },
   "source": [
    "Once we have calculated $S$, we can express the $\\mathrm{NPV}$ of an IRS as follows:\n",
    "\n",
    "$$\\begin{align}&\\mathrm{NPV}(d; K) = \\mathrm{NPV}_{\\mathrm{float}}(d) - \\mathrm{NPV}_{\\mathrm{fixed}}(d; K) = & \\\\ \\\\ &= \\underbrace{\\mathrm{NPV}_{\\mathrm{float}}(d) - \\mathrm{NPV}_{\\mathrm{fixed}}(d; S)}_{\\mathrm{=\\;0}} + \\mathrm{NPV}_{\\mathrm{fixed}}(d;S) - \\mathrm{NPV}_{\\mathrm{fixed}}(d;K) & \\\\ & = N\\cdot(S-K)\\cdot\\underbrace{\\sum_{i=1}^{p}D(d, d_{i}^{\\mathrm{fixed}})}_{\\mathrm{'annuity'}}\\end{align}$$"
   ]
  },
  {
   "cell_type": "markdown",
   "metadata": {
    "colab_type": "text",
    "id": "R4ZEVWVmw0CP",
    "slideshow": {
     "slide_type": "slide"
    }
   },
   "source": [
    "For convenience the relevant inputs that will be used later (observation date, discount and libor curve definitions) have been saved in a file `curve_data.py` that can be found $\\href{https://repl.it/@MatteoSani/support6}{\\textrm{here}}$."
   ]
  },
  {
   "cell_type": "code",
   "execution_count": 2,
   "metadata": {
    "colab": {
     "base_uri": "https://localhost:8080/",
     "height": 351
    },
    "colab_type": "code",
    "executionInfo": {
     "elapsed": 469,
     "status": "error",
     "timestamp": 1572128959854,
     "user": {
      "displayName": "Matteo Sani",
      "photoUrl": "https://lh3.googleusercontent.com/a-/AAuE7mAJoEkE0aEpcWTzP7VnHn98dIfMUkpRno3NEZn6SA=s64",
      "userId": "10639058540037747059"
     },
     "user_tz": -120
    },
    "id": "iHN_2nnlw0CQ",
    "outputId": "33fe3336-6e35-4dd0-e808-60b40aed9993",
    "scrolled": false,
    "slideshow": {
     "slide_type": "fragment"
    }
   },
   "outputs": [
    {
     "name": "stdout",
     "output_type": "stream",
     "text": [
      "1.0003778376026289\n",
      "0.01000266393442623\n"
     ]
    }
   ],
   "source": [
    "from datetime import date\n",
    "from curve_data import pricing_date, discount_curve, libor_curve\n",
    "print(discount_curve.df(date(2020, 1, 1)))\n",
    "print (libor_curve.forward_rate(date(2020, 1, 1)))"
   ]
  },
  {
   "cell_type": "code",
   "execution_count": 3,
   "metadata": {
    "colab": {
     "base_uri": "https://localhost:8080/",
     "height": 368
    },
    "colab_type": "code",
    "executionInfo": {
     "elapsed": 630,
     "status": "error",
     "timestamp": 1572128972543,
     "user": {
      "displayName": "Matteo Sani",
      "photoUrl": "https://lh3.googleusercontent.com/a-/AAuE7mAJoEkE0aEpcWTzP7VnHn98dIfMUkpRno3NEZn6SA=s64",
      "userId": "10639058540037747059"
     },
     "user_tz": -120
    },
    "id": "DAFn_3TLw0CU",
    "outputId": "6fbb3fa7-6d5c-4271-afef-f8fe2d3ed0e0",
    "slideshow": {
     "slide_type": "slide"
    }
   },
   "outputs": [],
   "source": [
    "from finmarkets import generate_swap_dates\n",
    "\n",
    "class InterestRateSwap:\n",
    "    \n",
    "    def __init__(self, start_date, notional, fixed_rate, tenor_months, \n",
    "                 maturity_years):\n",
    "        self.notional = notional\n",
    "        self.fixed_rate = fixed_rate\n",
    "        self.fixed_leg_dates = \\\n",
    "            generate_swap_dates(start_date, 12 * maturity_years)\n",
    "        self.floating_leg_dates = \\\n",
    "            generate_swap_dates(start_date, 12 * maturity_years,\n",
    "                                                      tenor_months)\n",
    "        \n",
    "    def annuity(self, discount_curve):\n",
    "        a = 0\n",
    "        for i in range(1, len(self.fixed_leg_dates)):\n",
    "            a += discount_curve.df(self.fixed_leg_dates[i])\n",
    "        return a\n",
    "\n",
    "    def swap_rate(self, discount_curve, libor_curve):\n",
    "        s = 0\n",
    "        for j in range(1, len(self.floating_leg_dates)):\n",
    "            F = libor_curve.forward_rate(self.floating_leg_dates[j-1])\n",
    "            tau = (self.floating_leg_dates[j] - \\\n",
    "                   self.floating_leg_dates[j-1]).days / 360\n",
    "            P = discount_curve.df(self.floating_leg_dates[j])\n",
    "            s += F * tau * P\n",
    "        return s / self.annuity(discount_curve)\n",
    "        \n",
    "    def npv(self, discount_curve, libor_curve):\n",
    "        S = self.swap_rate(discount_curve, libor_curve)\n",
    "        A = self.annuity(discount_curve)\n",
    "        return self.notional * (S - self.fixed_rate) * A"
   ]
  },
  {
   "cell_type": "code",
   "execution_count": 4,
   "metadata": {
    "colab": {
     "base_uri": "https://localhost:8080/",
     "height": 181
    },
    "colab_type": "code",
    "executionInfo": {
     "elapsed": 430,
     "status": "error",
     "timestamp": 1572128972872,
     "user": {
      "displayName": "Matteo Sani",
      "photoUrl": "https://lh3.googleusercontent.com/a-/AAuE7mAJoEkE0aEpcWTzP7VnHn98dIfMUkpRno3NEZn6SA=s64",
      "userId": "10639058540037747059"
     },
     "user_tz": -120
    },
    "id": "IMkf-YK1w0CX",
    "outputId": "b501e2eb-a5e0-48d4-e21d-449a4cbc13ae",
    "slideshow": {
     "slide_type": "slide"
    }
   },
   "outputs": [
    {
     "name": "stdout",
     "output_type": "stream",
     "text": [
      "-160130.58 EUR\n"
     ]
    }
   ],
   "source": [
    "from datetime import date\n",
    "\n",
    "pricing_date = date(2019, 11, 23)\n",
    "irs = InterestRateSwap(pricing_date, 1e6, 0.05, 6, 4)\n",
    "print (\"{:.2f} EUR\".format(irs.npv(discount_curve, libor_curve)))"
   ]
  },
  {
   "cell_type": "markdown",
   "metadata": {
    "colab_type": "text",
    "id": "wXwkA1FQw0Ca",
    "slideshow": {
     "slide_type": "fragment"
    }
   },
   "source": [
    "#### Can you guess what could be the swap rate given that the npv is negative ? (Remember that we are looking at this contracts from the point of view of the receiver of the floating leg...)"
   ]
  },
  {
   "cell_type": "code",
   "execution_count": 5,
   "metadata": {
    "colab": {
     "base_uri": "https://localhost:8080/",
     "height": 164
    },
    "colab_type": "code",
    "executionInfo": {
     "elapsed": 742,
     "status": "error",
     "timestamp": 1572128975123,
     "user": {
      "displayName": "Matteo Sani",
      "photoUrl": "https://lh3.googleusercontent.com/a-/AAuE7mAJoEkE0aEpcWTzP7VnHn98dIfMUkpRno3NEZn6SA=s64",
      "userId": "10639058540037747059"
     },
     "user_tz": -120
    },
    "id": "ZHPydpMLw0Cb",
    "outputId": "9a104d86-a87b-4037-c99d-9aa98e2f365b",
    "slideshow": {
     "slide_type": "fragment"
    }
   },
   "outputs": [
    {
     "name": "stdout",
     "output_type": "stream",
     "text": [
      "0.01\n"
     ]
    }
   ],
   "source": [
    "print (\"{:.2f}\".format(irs.swap_rate(discount_curve, libor_curve)))"
   ]
  },
  {
   "cell_type": "code",
   "execution_count": 6,
   "metadata": {
    "colab": {
     "base_uri": "https://localhost:8080/",
     "height": 181
    },
    "colab_type": "code",
    "executionInfo": {
     "elapsed": 400,
     "status": "error",
     "timestamp": 1572128975374,
     "user": {
      "displayName": "Matteo Sani",
      "photoUrl": "https://lh3.googleusercontent.com/a-/AAuE7mAJoEkE0aEpcWTzP7VnHn98dIfMUkpRno3NEZn6SA=s64",
      "userId": "10639058540037747059"
     },
     "user_tz": -120
    },
    "id": "UONUQ_69w0Ce",
    "outputId": "523fe290-b7db-47f7-b644-fb60a8eae32c",
    "slideshow": {
     "slide_type": "fragment"
    }
   },
   "outputs": [
    {
     "name": "stdout",
     "output_type": "stream",
     "text": [
      "0.23 EUR\n"
     ]
    }
   ],
   "source": [
    "irs2 = InterestRateSwap(pricing_date, 1e6, 0.0102542, 6, 4)\n",
    "print (\"{:.2f} EUR\".format(irs2.npv(discount_curve, libor_curve)))"
   ]
  },
  {
   "cell_type": "markdown",
   "metadata": {
    "colab_type": "text",
    "id": "1x-Dcv4Nw0Ch",
    "slideshow": {
     "slide_type": "slide"
    }
   },
   "source": [
    "## Interest Rate Swaptions\n",
    "\n",
    "Swaptions are the equivalent of European options for the interest rate markets. They give the option holder the right but not the obligation, at the exercise date $d_{ex}$, to enter into an IRS at a pre-determined fixed rate.\n",
    "\n",
    "Clearly the option holder will only choose to do this if the NPV of the underlying swap at $d_{ex}$ is positive - looking at the expression for the NPV of the IRS in terms of the swap rate $S$ therefore, we can see that the payoff of the swaption is\n",
    "\n",
    "$$N\\cdot \\mathrm{max}(0, S(d_{\\mathrm{ex}}) - K)\\cdot\\sum D(d_{\\mathrm{ex}}, d_i^{\\mathrm{fixed}})$$\n",
    "\n",
    "We now evaluate the NPV of a swaption in two alternative approaches."
   ]
  },
  {
   "cell_type": "markdown",
   "metadata": {
    "colab_type": "text",
    "id": "Y9j11ZUJw0Cj",
    "slideshow": {
     "slide_type": "slide"
    }
   },
   "source": [
    "#### Evaluation through Black-Scholes formula\n",
    "\n",
    "In this case, to evaluate the NPV of this payoff, we'll use a generalization of the Black-Scholes-Merton formula applied to swaptions:\n",
    "\n",
    "$$\\mathrm{NPV} = N\\cdot A\\cdot [S \\mathcal{N}(d_+) - K\\mathcal{N}(d_-)]$$\n",
    "\n",
    "where \n",
    "\n",
    "$$d_{\\pm} = \\frac{\\mathrm{log}(\\frac{S}{K}) \\pm \\frac{1}{2}\\sigma^{2}T}{\\sigma\\sqrt{T}}\\;\\; (\\sigma\\;\\textrm{is the volatility of the swap rate})\\\\$$\n",
    "$$A =\\sum_{i=1}^{p}D(d, d_{i}^{\\mathrm{fixed}})\\;\\;(\\mathrm{annuity})$$"
   ]
  },
  {
   "cell_type": "code",
   "execution_count": 7,
   "metadata": {
    "colab": {
     "base_uri": "https://localhost:8080/",
     "height": 232
    },
    "colab_type": "code",
    "executionInfo": {
     "elapsed": 560,
     "status": "error",
     "timestamp": 1572128944503,
     "user": {
      "displayName": "Matteo Sani",
      "photoUrl": "https://lh3.googleusercontent.com/a-/AAuE7mAJoEkE0aEpcWTzP7VnHn98dIfMUkpRno3NEZn6SA=s64",
      "userId": "10639058540037747059"
     },
     "user_tz": -120
    },
    "id": "TEh0rznTw0Ck",
    "outputId": "f2a3c49d-c202-4a55-fd62-c58b56ffb3c1",
    "slideshow": {
     "slide_type": "slide"
    }
   },
   "outputs": [
    {
     "name": "stdout",
     "output_type": "stream",
     "text": [
      "Swaption NPV with BS: 3330.741 EUR\n"
     ]
    }
   ],
   "source": [
    "sigma = 0.07\n",
    "irs = InterestRateSwap(pricing_date, 1e6, 0.01, 6, 4)\n",
    "\n",
    "from curve_data import pricing_date, discount_curve, libor_curve, start_date\n",
    "from scipy.stats import norm \n",
    "import math\n",
    "from dateutil.relativedelta import relativedelta\n",
    "\n",
    "exercise_date = start_date + relativedelta(years=4)\n",
    "A = irs.annuity(discount_curve)\n",
    "S = irs.swap_rate(discount_curve, libor_curve)\n",
    "T = (exercise_date - pricing_date).days / 365\n",
    "d1 = (math.log(S/irs.fixed_rate) + 0.5 * sigma**2 * T) / (sigma * T**0.5)\n",
    "d2 = (math.log(S/irs.fixed_rate) - 0.5 * sigma**2 * T) / (sigma * T**0.5)\n",
    "npv = irs.notional * A * (S * norm.cdf(d1) - irs.fixed_rate * norm.cdf(d2))\n",
    "\n",
    "print(\"Swaption NPV with BS: {:.3f} EUR\".format(npv))"
   ]
  },
  {
   "cell_type": "markdown",
   "metadata": {
    "colab_type": "text",
    "id": "Cal9jfUFw0Cp",
    "slideshow": {
     "slide_type": "slide"
    }
   },
   "source": [
    "### What's Monte Carlo Simulation ?\n",
    "\n",
    "The modern version of the Monte Carlo method was invented in the late 1940s by Stanislaw Ulam, while he was working on nuclear weapons projects at the Los Alamos National Laboratory. \n",
    "\n",
    "Monte Carlo methods, or Monte Carlo experiments, are a broad class of computational algorithms that rely on repeated random sampling to obtain numerical results. The underlying concept is to use randomness to solve problems that might be deterministic in principle. Monte Carlo methods are mainly used in three problem classes: optimization, numerical integration, and generating draws from a probability distribution. \n",
    "\n",
    "In principle, Monte Carlo methods can be used to solve any problem having a probabilistic interpretation. By the law of large numbers, the expected value of some random variable can be approximated by taking the empirical mean of independent samples of the variable. "
   ]
  },
  {
   "cell_type": "markdown",
   "metadata": {
    "slideshow": {
     "slide_type": "subslide"
    }
   },
   "source": [
    "Monte Carlo methods vary, but tend to follow a particular pattern:\n",
    "\n",
    "* define a domain of possible inputs;\n",
    "* generate inputs randomly from a probability distribution over the domain of inputs;\n",
    "* perform a deterministic computation on the inputs;\n",
    "* aggregate the results.\n",
    "\n",
    "Monte Carlo simulation is widely used in many fields: Engineering,\n",
    "Physics, Computational biology, Computer graphics, Applied statistics,\n",
    "Artificial intelligence for games, Search and rescue and of course\n",
    "Finance and business."
   ]
  },
  {
   "cell_type": "markdown",
   "metadata": {
    "slideshow": {
     "slide_type": "slide"
    }
   },
   "source": [
    "#### Pseudo-Random Numbers\n",
    "Uses of Monte Carlo methods require large amounts of random numbers to generate the inputs, and it was their use that spurred the development of pseudorandom number generators. Every language has libraries that allows to produce huge series of random numbers (with a periodicity of $2^{19937}$).\n",
    "Those numbers are produced by algorithms that take as input a *seed* which determines univokely the series. This means that setting the same seed you will produce the same set of numbers every time (which is great for debugging purpouses).\n",
    "\n",
    "In Python the right module to use is `random` which has the following useful functions:\n",
    "\n",
    "* `seed` set the seed of the random number generator;\n",
    "* `random` returns a random number between 0 and 1 (with uniform probability);\n",
    "* `randint(min, max)` returns an integer random number between `min` and `max` (with uniform probability);\n",
    "* `sample(aList, k=n)` samples n elements from the list `aList`.\n",
    "\n",
    "As usual for a more detailed description check `help(random)`."
   ]
  },
  {
   "cell_type": "code",
   "execution_count": 8,
   "metadata": {
    "colab": {
     "base_uri": "https://localhost:8080/",
     "height": 468
    },
    "colab_type": "code",
    "executionInfo": {
     "elapsed": 713,
     "status": "ok",
     "timestamp": 1572127724382,
     "user": {
      "displayName": "Matteo Sani",
      "photoUrl": "https://lh3.googleusercontent.com/a-/AAuE7mAJoEkE0aEpcWTzP7VnHn98dIfMUkpRno3NEZn6SA=s64",
      "userId": "10639058540037747059"
     },
     "user_tz": -120
    },
    "id": "pUuPzyvsLSHD",
    "outputId": "c3f979d6-b5b9-4d66-ac18-2083183b0160",
    "slideshow": {
     "slide_type": "slide"
    }
   },
   "outputs": [
    {
     "name": "stdout",
     "output_type": "stream",
     "text": [
      "seed is 1\n",
      "0.13436424411240122\n",
      "0.8474337369372327\n",
      "seed is 2\n",
      "0.9560342718892494\n",
      "0.9478274870593494\n",
      "seed is 1 again\n",
      "0.13436424411240122\n",
      "0.8474337369372327\n",
      "2\n",
      "['c', 'a']\n"
     ]
    }
   ],
   "source": [
    "import random \n",
    "\n",
    "random.seed(1)\n",
    "print (\"seed is 1\")\n",
    "print(random.random())\n",
    "print(random.random())\n",
    "\n",
    "random.seed(2)\n",
    "print (\"seed is 2\")\n",
    "print(random.random())\n",
    "print(random.random())\n",
    "\n",
    "random.seed(1)\n",
    "print (\"seed is 1 again\")\n",
    "print(random.random())\n",
    "print(random.random())\n",
    "\n",
    "print(random.randint(1, 10))\n",
    "aList = ['a', 'b', 'c', 'd', 'f']\n",
    "print (random.sample(aList, k=2))"
   ]
  },
  {
   "cell_type": "code",
   "execution_count": 14,
   "metadata": {
    "slideshow": {
     "slide_type": "subslide"
    }
   },
   "outputs": [
    {
     "data": {
      "image/png": "[encoded data removed]",
      "text/plain": [
       "<Figure size 432x288 with 1 Axes>"
      ]
     },
     "metadata": {
      "needs_background": "light"
     },
     "output_type": "display_data"
    }
   ],
   "source": [
    "\n",
    "numbers = []\n",
    "for _ in range(10000):\n",
    "  numbers.append(random.randint(0, 5))\n",
    "\n",
    "from matplotlib import pyplot as plt\n",
    "plt.hist(numbers, 6, range=[-0.5, 5.5])\n",
    "plt.title(\"Uniform distribution from randint\")\n",
    "plt.show()"
   ]
  },
  {
   "cell_type": "markdown",
   "metadata": {
    "colab_type": "text",
    "id": "fl16WXNALVnF",
    "slideshow": {
     "slide_type": "slide"
    }
   },
   "source": [
    "#### Example of Monte Carlo Simulation\n",
    "\n",
    "Let's check the probability to get two kings drawing randomly two cards from a deck.\n",
    "Using a frequentist approach, we can calculate the probability of an event as the ratio of the number of favorable outcomes of an experiment (number of successes) and the number of all possible outcomes so for our example:\n",
    "\n",
    "$$P_\\textrm{two kings} = \\frac{4}{40} \\cdot \\frac{3}{39} = \\frac{1}{130} \\approx 0.0077$$\n",
    "\n",
    "Let's now try with a Monte Carlo simulation."
   ]
  },
  {
   "cell_type": "code",
   "execution_count": 10,
   "metadata": {
    "colab": {
     "base_uri": "https://localhost:8080/",
     "height": 204
    },
    "colab_type": "code",
    "executionInfo": {
     "elapsed": 5069,
     "status": "ok",
     "timestamp": 1572127791290,
     "user": {
      "displayName": "Matteo Sani",
      "photoUrl": "https://lh3.googleusercontent.com/a-/AAuE7mAJoEkE0aEpcWTzP7VnHn98dIfMUkpRno3NEZn6SA=s64",
      "userId": "10639058540037747059"
     },
     "user_tz": -120
    },
    "id": "nPVXb08Y4cKQ",
    "outputId": "88009bc5-0b7e-483c-b0d0-1721e9aa26b3",
    "slideshow": {
     "slide_type": "subslide"
    }
   },
   "outputs": [
    {
     "name": "stdout",
     "output_type": "stream",
     "text": [
      "['Q', '7']\n",
      "['5', '7']\n",
      "['J', '2']\n",
      "['Q', 'A']\n",
      "['5', '4']\n",
      "['7', '2']\n",
      "['2', '5']\n",
      "['J', 'Q']\n",
      "['A', 'Q']\n",
      "['J', '5']\n",
      "The probability to draw two kings is 0.0077\n"
     ]
    }
   ],
   "source": [
    "from random import sample, choices, seed\n",
    "\n",
    "seed(1)\n",
    "\n",
    "deck = [\"A\", \"2\", \"3\", \"4\", \"5\", \"6\", \"7\", \"J\", \"Q\", \"K\"] * 4\n",
    "\n",
    "trials = 1000000\n",
    "success = 0\n",
    "\n",
    "for i in range(trials):\n",
    "  cards = sample(deck, k=2)\n",
    "  if i < 10:\n",
    "    print (cards)\n",
    "  if cards == [\"K\", \"K\"]:\n",
    "    success += 1\n",
    "    \n",
    "print (\"The probability to draw two kings is {:.4f}\".format(success/trials))"
   ]
  },
  {
   "cell_type": "markdown",
   "metadata": {
    "slideshow": {
     "slide_type": "slide"
    }
   },
   "source": [
    "Other modules provide random generators according to different distributions. Below an example with `numpy.random` which allows to throw random numbers according to a normal distribution ($\\mathcal{N}(0, 1)$)."
   ]
  },
  {
   "cell_type": "code",
   "execution_count": 11,
   "metadata": {
    "colab": {
     "base_uri": "https://localhost:8080/",
     "height": 281
    },
    "colab_type": "code",
    "executionInfo": {
     "elapsed": 1242,
     "status": "ok",
     "timestamp": 1572128608841,
     "user": {
      "displayName": "Matteo Sani",
      "photoUrl": "https://lh3.googleusercontent.com/a-/AAuE7mAJoEkE0aEpcWTzP7VnHn98dIfMUkpRno3NEZn6SA=s64",
      "userId": "10639058540037747059"
     },
     "user_tz": -120
    },
    "id": "t1uopGp_Jlyh",
    "outputId": "5a57bfc2-b64b-4c81-dbce-1bf46df7c03e",
    "slideshow": {
     "slide_type": "fragment"
    }
   },
   "outputs": [
    {
     "data": {
      "image/png": "[encoded data removed]",
      "text/plain": [
       "<Figure size 432x288 with 1 Axes>"
      ]
     },
     "metadata": {
      "needs_background": "light"
     },
     "output_type": "display_data"
    }
   ],
   "source": [
    "from numpy.random import normal\n",
    "from matplotlib import pyplot as plt\n",
    "\n",
    "gauss = []\n",
    "for _ in range(50000):\n",
    "  gauss.append(normal())\n",
    "  \n",
    "plt.hist(gauss, 100, range=[-4, 4])\n",
    "plt.title(\"Example of gaussian distribution from numpy\")\n",
    "plt.show()"
   ]
  },
  {
   "cell_type": "markdown",
   "metadata": {
    "colab_type": "text",
    "id": "zz5fPj7G4d1V",
    "slideshow": {
     "slide_type": "skip"
    }
   },
   "source": [
    "#### Derivation of log-normal Stochastic Differential Equation\n",
    "\n",
    "Stock prices deviate from a steady state as a result of the random fluctuations given by the trades. Considering a stoke with a price $S_t$ and an expected rate of return $\\mu$, then the relative change in its price during a period $dt$ can be decomposed in two parts:\n",
    "\n",
    "* a deterministic part that is the expected return from the stock hold during the time period $dt$ ($\\mu S_tdt$)\n",
    "* a stochastic part which reflects the random changes of the market (e.g. as a response to external effects such as unexpected news). A reasonable assumption is to take this contribution proportional to the stock ($\\sigma S_tdB_t$ where $dB_t$ is a random walk process)."
   ]
  },
  {
   "cell_type": "markdown",
   "metadata": {
    "slideshow": {
     "slide_type": "skip"
    }
   },
   "source": [
    "The resulting differential equation is:\n",
    "\n",
    "$$dS_t = \\mu S_tdt + \\sigma S_tdB_t$$\n",
    "or\n",
    "$$\\frac{dS_t}{S_t} = d\\textrm{log}(dS_t) = \\mu dt + \\sigma dB_t$$"
   ]
  },
  {
   "cell_type": "markdown",
   "metadata": {
    "slideshow": {
     "slide_type": "skip"
    }
   },
   "source": [
    "The solution of this equation can be derived by applying the It$\\hat{o}$'s formula which states that for any given function $G(S, t)$ where $S$ satisfies the following stochastic differential equation $dS=a\\cdot dt +b\\cdot dB_t$ it holds:\n",
    "\n",
    "$$dG=\\big(a\\frac{\\partial G}{\\partial S} + \\frac{\\partial G}{\\partial t} + \\frac{1}{2}b^2\\frac{\\partial^2 G}{\\partial S^2} \\big)dt + b \\frac{\\partial G}{\\partial S}dB$$\n",
    "\n",
    "Considering $G = \\textrm{log}(S_t)$ we have:\n",
    "\n",
    "$$\\frac{\\partial G}{\\partial S} = \\frac{1}{S_t}$$\n",
    "\n",
    "$$\\frac{\\partial G}{\\partial t} = 0$$\n",
    "\n",
    "$$\\frac{\\partial^2 G}{\\partial S^2} = -\\frac{1}{S_t^{2}}$$"
   ]
  },
  {
   "cell_type": "markdown",
   "metadata": {
    "slideshow": {
     "slide_type": "skip"
    }
   },
   "source": [
    "By inserting these into It$\\hat{o}$'s formula we get:\n",
    "\n",
    "$$d(\\textrm{log} S_t) = \\big(\\mu S_t \\frac{1}{S_t} + \\frac{1}{2}\\sigma^2 S_t^2 (-\\frac{1}{S_t^2})\\big)dt + \\sigma\\epsilon\\sqrt{dt}$$\n",
    "\n",
    "$$d(\\textrm{log} S_t) = \\textrm{log} (S_t) - \\textrm{log} (S_{t-1}) = \\textrm{log} \\frac{S_t}{S_{t-1}} = \\big(\\mu - \\frac{1}{2}\\sigma^2\\big)dt + \\sigma\\epsilon\\sqrt{dt}$$\n",
    "\n",
    "$$S_t = S_{t-1}e^{\\big(\\mu - \\frac{1}{2}\\sigma^2\\big)dt + \\sigma\\epsilon\\sqrt{dt}}$$"
   ]
  },
  {
   "cell_type": "markdown",
   "metadata": {
    "colab_type": "text",
    "id": "MgD1S0d6w0Cr",
    "slideshow": {
     "slide_type": "slide"
    }
   },
   "source": [
    "#### Evaluation through Monte-Carlo Simulation\n",
    "\n",
    "In this second case we start from the current swap rate $S(d)$ evaluated at the pricing data $d$, and assume that it follows a log-normal stochastic process, so its distribution at $d_{\\mathrm{ex}}$ (exercise date) is $S(d_{\\mathrm{ex}}) = S(d)\\mathrm{exp}(-\\frac{1}{2}\\sigma^{2}T+\\sigma\\sqrt{T}\\epsilon)$ where $\\epsilon\\approx\\mathcal{N}(0,1)$. \n",
    "Remember that the discounted payoff is given by:\n",
    "\n",
    "$$N\\cdot \\mathrm{max}(0, S(d_{\\mathrm{ex}}) - K)\\cdot\\sum D(d_{\\mathrm{ex}}, d_i^{\\mathrm{fixed}})$$\n",
    "\n",
    "So to perform the simulation:\n",
    "\n",
    "* we sample the normal distribution $\\mathcal{N}$ to calculate a large number of scenarios for $S(d_{\\mathrm{ex}})$;\n",
    "* we evaluate the underlying swap's NPV at the expiry date, and consequently the swaption's payoff, and take the average of these values."
   ]
  },
  {
   "cell_type": "code",
   "execution_count": 12,
   "metadata": {
    "colab": {
     "base_uri": "https://localhost:8080/",
     "height": 232
    },
    "colab_type": "code",
    "executionInfo": {
     "elapsed": 527,
     "status": "error",
     "timestamp": 1572128920449,
     "user": {
      "displayName": "Matteo Sani",
      "photoUrl": "https://lh3.googleusercontent.com/a-/AAuE7mAJoEkE0aEpcWTzP7VnHn98dIfMUkpRno3NEZn6SA=s64",
      "userId": "10639058540037747059"
     },
     "user_tz": -120
    },
    "id": "jwSPhuzJw0Cs",
    "outputId": "1154c6d3-06f5-417e-e418-cd670a0bf33b",
    "slideshow": {
     "slide_type": "slide"
    }
   },
   "outputs": [
    {
     "name": "stdout",
     "output_type": "stream",
     "text": [
      "Swaption NPV: 3351.42 EUR (+/‐ 66.14 EUR with 99% confidence)\n"
     ]
    }
   ],
   "source": [
    "# we'll need numpy.mean and numpy.std to calculate the average and standard \n",
    "# deviation of a list of values\n",
    "import numpy as np\n",
    "from numpy.random import normal, seed\n",
    "\n",
    "# define the number of Monte Carlo scenarios\n",
    "n_scenarios = 50000\n",
    "discounted_payoffs = []\n",
    "seed(1)\n",
    "\n",
    "for i_scenario in range(n_scenarios):\n",
    "    # simulate the swap rate in this scenario\n",
    "    S_simulated = S * math.exp(-0.5 * sigma * sigma * T +\n",
    "                               sigma * math.sqrt(T) * normal())\n",
    "    \n",
    "    # calculate the swap NPV in this scenario\n",
    "    swap_npv = irs.notional * (S_simulated - irs.fixed_rate) * A\n",
    "    \n",
    "    # add the discounted payoff of the swaption, in this scenario, to the list\n",
    "    discounted_payoffs.append(max(0, swap_npv))\n",
    "    \n",
    "    # calculate the NPV of the swaption by taking the average of the discounted \n",
    "    # payoffs across all the scenarios\n",
    "    npv_mc = np.mean(discounted_payoffs)\n",
    "    \n",
    "# calculate the Monte Carlo error estimate for 'npv_mc' this will give us a 99% \n",
    "# confidence interval for the calculated value (3 sigmas)\n",
    "npv_error = 3 * np.std(discounted_payoffs) / math.sqrt(n_scenarios)\n",
    "\n",
    "print(\"Swaption NPV: {:.2f} EUR (+/‐ {:.2f} EUR with 99% confidence)\"\\\n",
    "      .format(npv_mc, npv_error))"
   ]
  },
  {
   "cell_type": "code",
   "execution_count": 13,
   "metadata": {
    "slideshow": {
     "slide_type": "notes"
    }
   },
   "outputs": [],
   "source": [
    "# Note that this is not *strictly speaking* the correct way of calculating\n",
    "# the value, the reason being that one should calculate the swap NPV at \n",
    "# the expiry date of the swaption, apply the payoff function max(0, ...) \n",
    "# and *then* discount from the expiry date to today.\n",
    "\n",
    "# However, it's simpler to calculate it as above and it doesn't make any \n",
    "# difference to the result, since \n",
    "# DF * max(0, SwapNPVAtExpiry) == max(0, DF * SwapNPVAtExpiry)"
   ]
  },
  {
   "cell_type": "markdown",
   "metadata": {
    "colab_type": "text",
    "id": "_DtkYrpWw0Cv",
    "slideshow": {
     "slide_type": "slide"
    }
   },
   "source": [
    "The NPV calculated via the Black-Scholes-Merton formula falls within the confidence interval produced by the Monte Carlo simulation, so we can assert that the two methods are in agreement.\n",
    "\n",
    "* Swaption NPV (BS): 3330.74 EUR\n",
    "* Swaption NPV (MC): 3351.42 EUR"
   ]
  },
  {
   "cell_type": "markdown",
   "metadata": {
    "colab_type": "text",
    "id": "WdKtdrEkw0Cw",
    "slideshow": {
     "slide_type": "slide"
    }
   },
   "source": [
    "#### Confidence interval\n",
    "X% confidence interval can be interpreted by saying that there is X% probability that the calculated interval from another (different) simulation contains the true value of the population parameter. In other words X% confidence interval can be expressed in terms of repeated experiments (or samples): if you repeat many time the above simulation, hence $\\mathcal{N}$ is sampled many times, the fraction of calculated confidence intervals (which would differ for each sample) than contains the true population parameter would tend toward X%\n",
    "\n",
    "![Confidence interval graphical explanation](Standard_deviation_diagram.svg.png)"
   ]
  },
  {
   "cell_type": "markdown",
   "metadata": {
    "colab_type": "text",
    "id": "Cz0r_GgBw0Cx",
    "slideshow": {
     "slide_type": "slide"
    }
   },
   "source": [
    "## Exercises\n",
    "\n",
    "### Exercise 6.1\n",
    "\n",
    "Write a ForwardRateCurve (for EURIBOR/LIBOR rate curve) which doesn't compute discount factors but only interplatates forward rates; then add it to the `finmarkets` module (this function is used to define the Libor curve used throughout this lesson)."
   ]
  },
  {
   "cell_type": "markdown",
   "metadata": {
    "slideshow": {
     "slide_type": "slide"
    }
   },
   "source": [
    "\n",
    "### Exercise 6.2\n",
    "Using the function `randint` of the module `random` make a Monte Carlo simulation of rolling three dices to check the probability of getting the same values on the three of them.\n",
    "\n",
    "From the probability theory you should expect:\n",
    "\n",
    "$$P_{d1=d2=d3} = \\frac{1}{6}\\cdot\\frac{1}{6}\\cdot\\frac{1}{6}\\cdot 6 = \\frac{1}{36} = 0.0278$$"
   ]
  },
  {
   "cell_type": "markdown",
   "metadata": {
    "slideshow": {
     "slide_type": "slide"
    }
   },
   "source": [
    "### Exercise 6.3\n",
    "Using the function `normal` of `numpy.random` simulate the price of a stoke which evolves according to a log-normal stochastic process with a daily rate of return $\\mu=0.1$ and a volatility $\\sigma=0.15$ for 30 days.\n",
    "\n",
    "Also plot the price. Try to play with $\\mu$ and $\\sigma$ to see how the plot changes."
   ]
  },
  {
   "cell_type": "markdown",
   "metadata": {
    "slideshow": {
     "slide_type": "slide"
    }
   },
   "source": [
    "### Exercise 6.4\n",
    "Suppouse that the Libor Forward rates are those defined here in $\\href{https://repl.it/@MatteoSani/support6}{\\textrm{curve_data.py}}$. Determine the value of an option to pay a fixed rate of 4% and receives LIBOR on a 5 year swap starting in 1 year. Assume the  notional is 100 EUR, the exercise date is on October, 30th 2020 and the swap rate volatility is 15%."
   ]
  }
 ],
 "metadata": {
  "celltoolbar": "Slideshow",
  "colab": {
   "collapsed_sections": [],
   "name": "lecture_6.ipynb",
   "provenance": []
  },
  "kernelspec": {
   "display_name": "Python 3",
   "language": "python",
   "name": "python3"
  },
  "language_info": {
   "codemirror_mode": {
    "name": "ipython",
    "version": 3
   },
   "file_extension": ".py",
   "mimetype": "text/x-python",
   "name": "python",
   "nbconvert_exporter": "python",
   "pygments_lexer": "ipython3",
   "version": "3.7.5rc1"
  }
 },
 "nbformat": 4,
 "nbformat_minor": 1
}
