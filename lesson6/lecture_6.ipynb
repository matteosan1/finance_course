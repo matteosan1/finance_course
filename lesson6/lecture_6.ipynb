{
 "cells": [
  {
   "cell_type": "markdown",
   "metadata": {},
   "source": [
    "# Bootstrapping - Lesson 6\n",
    "\n",
    "## Recap\n",
    "\n",
    "* basic Python;\n",
    "* discount factor interpolation and forward rates: we implemented functions then classes;\n",
    "* last lesson we looked at Python modules and we implemented a class to store data defining an OIS contract, and for calculating its NPV.\n",
    "\n",
    "## This lesson\n",
    "\n",
    "Now we're going to look at how extract a discount curve from OIS market data, via a process called *bootstrapping*. This is the ABC of financial mathematics, since you almost always need a discount curve to price any contract, especially if you're interested in its NPV. We're going to concentrate on EONIA swaps in order to build an EUR discount curve."
   ]
  },
  {
   "cell_type": "markdown",
   "metadata": {},
   "source": [
    "## Bootstrapping\n",
    "\n",
    "### Getting the data\n",
    "\n",
    "The first problem is actually getting the data from somewhere, and this is not actually as simple as it sounds.\n",
    "\n",
    "The issue is that the EONIA swap market is Over The Counter (OTC) and it's not straightforward to access it. Unlike (some) listed futures, where anyone with a retail brokerage account can view and apply realtime prices, to trade in the EONIA swap market you have to be a financial institution or at least a large company and have an agreement with a broker which operates in the market. One of the main brokers in the OIS market is ICAP.\n",
    "\n",
    "Though there exist some electronic platform in which market participants post bids and offers and other participants can apply them, in practice a lot of trading is still done over \"voice\", i.e. by phone or more commonly over chat. For convenience, however, Bloomberg provides a service which displays indicative realtime prices as provided by a selection of relevant brokers.\n",
    "\n",
    "![](icap_3.png)\n",
    "\n",
    "As part of our Quants duties we have set up an Excel spreadsheet which acquires this data from Bloomberg in realtime. From this spreadsheet, it's easy to export the data into a Python file - I have done this and saved the data in a module called ```ois_data.py```. \n",
    "\n",
    "We will use a data set extracted in this way, and derive from it the corresponding discount curve."
   ]
  },
  {
   "cell_type": "code",
   "execution_count": 1,
   "metadata": {},
   "outputs": [
    {
     "name": "stdout",
     "output_type": "stream",
     "text": [
      "<class 'list'>\n"
     ]
    }
   ],
   "source": [
    "import ois_data\n",
    "print (type(ois_data.quotes))"
   ]
  },
  {
   "cell_type": "code",
   "execution_count": 2,
   "metadata": {},
   "outputs": [
    {
     "data": {
      "text/plain": [
       "{'months': 1, 'rate': -0.35}"
      ]
     },
     "execution_count": 2,
     "metadata": {},
     "output_type": "execute_result"
    }
   ],
   "source": [
    "ois_data.quotes[0]"
   ]
  },
  {
   "cell_type": "code",
   "execution_count": 3,
   "metadata": {},
   "outputs": [
    {
     "data": {
      "text/plain": [
       "{'months': 720, 'rate': 0.997}"
      ]
     },
     "execution_count": 3,
     "metadata": {},
     "output_type": "execute_result"
    }
   ],
   "source": [
    "ois_data.quotes[-1]"
   ]
  },
  {
   "cell_type": "code",
   "execution_count": 4,
   "metadata": {},
   "outputs": [
    {
     "data": {
      "text/plain": [
       "datetime.date(2019, 10, 30)"
      ]
     },
     "execution_count": 4,
     "metadata": {},
     "output_type": "execute_result"
    }
   ],
   "source": [
    "ois_data.observation_date"
   ]
  },
  {
   "cell_type": "markdown",
   "metadata": {},
   "source": [
    "### Building OIS instances\n",
    "\n",
    "We can use the newly created function to build the OIS instances (```generate_swap_dates```).\n",
    "This function can then be used to build an OIS object based on the data contained in ois_data."
   ]
  },
  {
   "cell_type": "code",
   "execution_count": 8,
   "metadata": {},
   "outputs": [
    {
     "data": {
      "text/plain": [
       "{'months': 15, 'rate': -0.35}"
      ]
     },
     "execution_count": 8,
     "metadata": {},
     "output_type": "execute_result"
    }
   ],
   "source": [
    "# first check the 15 months rate\n",
    "ois_data.quotes[12]"
   ]
  },
  {
   "cell_type": "code",
   "execution_count": 5,
   "metadata": {},
   "outputs": [
    {
     "data": {
      "text/plain": [
       "datetime.date(2021, 1, 30)"
      ]
     },
     "execution_count": 5,
     "metadata": {},
     "output_type": "execute_result"
    }
   ],
   "source": [
    "from finmarkets import OvernightIndexSwap, generate_swap_dates\n",
    "\n",
    "# with the new function generates all the dates from the\n",
    "# observation up to 15 months \n",
    "ois = OvernightIndexSwap(1e6,\n",
    "                         generate_swap_dates(ois_data.observation_date, 15),                        \n",
    "                         -0.35\n",
    "                        )\n",
    "# print the last payment date (15 months after obs date)\n",
    "ois.payment_dates[-1]"
   ]
  },
  {
   "cell_type": "code",
   "execution_count": 7,
   "metadata": {},
   "outputs": [
    {
     "ename": "NameError",
     "evalue": "name 'curve' is not defined",
     "output_type": "error",
     "traceback": [
      "\u001b[0;31m---------------------------------------------------------------------------\u001b[0m",
      "\u001b[0;31mNameError\u001b[0m                                 Traceback (most recent call last)",
      "\u001b[0;32m<ipython-input-7-f4413985072e>\u001b[0m in \u001b[0;36m<module>\u001b[0;34m()\u001b[0m\n\u001b[1;32m      4\u001b[0m \u001b[0;31m# curve with which to evaluate it!\u001b[0m\u001b[0;34m\u001b[0m\u001b[0;34m\u001b[0m\u001b[0;34m\u001b[0m\u001b[0m\n\u001b[1;32m      5\u001b[0m \u001b[0;34m\u001b[0m\u001b[0m\n\u001b[0;32m----> 6\u001b[0;31m \u001b[0mois\u001b[0m\u001b[0;34m.\u001b[0m\u001b[0mnpv\u001b[0m\u001b[0;34m(\u001b[0m\u001b[0mcurve\u001b[0m\u001b[0;34m)\u001b[0m\u001b[0;34m\u001b[0m\u001b[0;34m\u001b[0m\u001b[0m\n\u001b[0m",
      "\u001b[0;31mNameError\u001b[0m: name 'curve' is not defined"
     ]
    }
   ],
   "source": [
    "# remember we could use the npv method to \n",
    "# calculate the OIS's npv\n",
    "# only problem is we don't yet have a discount \n",
    "# curve with which to evaluate it!\n",
    "\n",
    "ois.npv(curve)"
   ]
  },
  {
   "cell_type": "markdown",
   "metadata": {},
   "source": [
    "### Bootstrapping\n",
    "\n",
    "In the next we are going to somehow reverse what we did last week where we determined the OIS's NPV given a certain discount curve. \n",
    "\n",
    "The general idea here is to find the discount curve such that it prices correctly each OIS, or at least as well as possible, by minimizing the sum of the square NPVs:\n",
    "\n",
    "$$\\mathrm{min}_{curve} \\Big\\{\\sum_{i=1}^{n}\\mathrm{NPV}(\\mathrm{ois}_i, \\mathrm{curve})^2\\Big\\}$$\n",
    "\n",
    "This description of the problem does not, in theory, specify any constraints on the pillar dates of the discount curve. However, the pillar dates determine the number of unknown variables (i.e. the dimensionality $n$ of the optimization problem). A curve with $n$ pillar dates has $n$ pillar discount factors (note that the first discount factor with value date equal to the today date, is constrained to 1, so it doesn't count).\n",
    "\n",
    "In practice, therefore, it makes sense to choose the pillar dates in such a way that there are exactly the right number of degrees of freedom in the optimization to match data. So the natural choide is to choose the pillar dates of the discount curve equal to the set of expiry dates of the swaps so that in principle we could find a vector of pillar discount factor that perfectly recover a zero NPV for every swap. \n",
    "\n",
    "The reason for this is that each market quote will determine exactly one *free* discount factor which is not already determined by the other market quotes - this can be seen by considering the mathematical expression for calculating the fixed leg of the OIS swaps ($f_{\\mathrm{fix},~i}=N\\cdot K\\cdot \\frac{d_i - d_{i-1}}{360}$), and the way that the payment date schedules are constructed.\n",
    "Therefore, once we've fixed $\\vec{d}$ to be a vector of pillar dates equal to the expiry dates of the OIS swaps, and we use the notation $\\vec{x}$ to represent the vector of pillar discount factors, then the problem becomes:\n",
    "\n",
    "$$\\mathrm{min}_{\\vec{x}} \\Big\\{\\sum_{i=1}^{n}\\mathrm{NPV}(\\mathrm{ois}_i, \\mathrm{curve(\\vec{d}, \\vec{x})})^2\\Big\\}$$\n",
    "\n",
    "In practice this is an optmization problem: **to find the minimum of the above expression as a function of $\\vec{x}$**, so we can just use one the available numerical optimization routines.\n",
    "\n",
    "So let's start by defining a set of OIS objects to cover all the maturities defined by the market data we have collected in the ```ois_data.py``` file."
   ]
  },
  {
   "cell_type": "code",
   "execution_count": 10,
   "metadata": {},
   "outputs": [],
   "source": [
    "from finmarkets import DiscountCurve, OvernightIndexSwap, generate_swap_dates\n",
    "import ois_data\n",
    "\n",
    "pillar_dates = [ois_data.observation_date]\n",
    "\n",
    "swaps = [] # container of the OIS objects\n",
    "\n",
    "for quote in ois_data.quotes:\n",
    "    swap = OvernightIndexSwap(\n",
    "        # notional - doesn't really matter what we put here\n",
    "        1e6,\n",
    "        \n",
    "        # payment dates\n",
    "        generate_swap_dates(\n",
    "            ois_data.observation_date,\n",
    "            quote['months']\n",
    "        ),\n",
    "        \n",
    "        # the fixed rate (in the file is expressed in percent)\n",
    "        0.01 * quote['rate']\n",
    "    )\n",
    "    swaps.append(swap)\n",
    "    pillar_dates.append(swap.payment_dates[-1])\n",
    "    \n",
    "pillar_dates = sorted(pillar_dates)\n",
    "n_df_vector = len(pillar_dates)"
   ]
  },
  {
   "cell_type": "code",
   "execution_count": 11,
   "metadata": {},
   "outputs": [
    {
     "data": {
      "text/plain": [
       "(list, 34, datetime.date(2019, 10, 30), datetime.date(2079, 10, 30))"
      ]
     },
     "execution_count": 11,
     "metadata": {},
     "output_type": "execute_result"
    }
   ],
   "source": [
    "type(pillar_dates), len(pillar_dates), pillar_dates[0], pillar_dates[-1]"
   ]
  },
  {
   "cell_type": "markdown",
   "metadata": {},
   "source": [
    "Every optimization algorithm needs an *objective function* i.e. the function that is actually minimized to reach our goal. In our case we want to find the discount curve which minimize the sum of the squared NPVs (x will be our result aka the list of *best* discount factors*):"
   ]
  },
  {
   "cell_type": "code",
   "execution_count": 12,
   "metadata": {},
   "outputs": [],
   "source": [
    "def objective_function(x):\n",
    "    \n",
    "    curve = DiscountCurve(       \n",
    "        # today date\n",
    "        ois_data.observation_date,\n",
    "        \n",
    "        # pillar dates\n",
    "        pillar_dates,\n",
    "        \n",
    "        # pillar discount factors\n",
    "        x\n",
    "    )\n",
    "    \n",
    "    sum_sq = 0.0\n",
    "    \n",
    "    for swap in swaps:\n",
    "        sum_sq += swap.npv(curve) ** 2\n",
    "        \n",
    "    return sum_sq"
   ]
  },
  {
   "cell_type": "markdown",
   "metadata": {},
   "source": [
    "To optimize our $\\vec{x}$ we can use the ```minimize``` algorithm defined in ```scipy.optimize```."
   ]
  },
  {
   "cell_type": "code",
   "execution_count": 13,
   "metadata": {},
   "outputs": [],
   "source": [
    "from scipy.optimize import minimize\n",
    "\n",
    "# initialize to 1 the x vector (random choice)\n",
    "x0 = [1.0 for i in range(n_df_vector)] \n",
    "\n",
    "# set wide constraints on the discount factors\n",
    "# in the minimization problem the value of each x_i\n",
    "# will be bound between these limits\n",
    "bounds = [(0.01, 100.0) for i in range(n_df_vector)] \n",
    "\n",
    "# in addition we have an additional constraint:\n",
    "# we want the first pillar to be 1 (fixed)\n",
    "# (because it has pillar date = today)\n",
    "bounds[0] = (1.0, 1.0)\n",
    "\n",
    "# finally we run the minimization\n",
    "result = minimize(objective_function, x0, bounds=bounds)"
   ]
  },
  {
   "cell_type": "code",
   "execution_count": 14,
   "metadata": {},
   "outputs": [
    {
     "data": {
      "text/plain": [
       "      fun: 0.000737067806478276\n",
       " hess_inv: <34x34 LbfgsInvHessProduct with dtype=float64>\n",
       "      jac: array([ 6.40060919e+05, -4.10141278e+01, -1.97120762e+01,  5.02186770e+00,\n",
       "        3.16953828e+01,  6.01053281e+01,  9.22468259e+01,  1.25056055e+02,\n",
       "        1.61067035e+02,  1.97872773e+02,  2.37837001e+02,  2.78325327e+02,\n",
       "       -9.76591575e+02, -3.98919050e+02, -3.70947586e+02, -3.33820367e+02,\n",
       "       -3.09413767e+02,  1.33740400e+02,  5.96171630e+02,  9.90164849e+02,\n",
       "        1.18880634e+03,  1.09651231e+03,  7.00761702e+02,  8.12483823e+01,\n",
       "       -6.55803166e+02, -1.36412700e+03, -1.91306081e+02,  1.92698529e+03,\n",
       "        5.34498413e+02, -1.56729815e+02, -5.39276839e+02, -2.47024084e+03,\n",
       "       -1.83758059e+02,  1.89609719e+03])\n",
       "  message: b'CONVERGENCE: REL_REDUCTION_OF_F_<=_FACTR*EPSMCH'\n",
       "     nfev: 840\n",
       "      nit: 12\n",
       "   status: 0\n",
       "  success: True\n",
       "        x: array([1.        , 1.00030147, 1.00058831, 1.00089012, 1.00118751,\n",
       "       1.00147996, 1.00178743, 1.00208107, 1.00238467, 1.00267865,\n",
       "       1.00298261, 1.00327737, 1.00357104, 1.00446948, 1.00531932,\n",
       "       1.00615237, 1.00694015, 1.00907035, 1.00931983, 1.00710503,\n",
       "       1.00189947, 0.99379259, 0.98332953, 0.9710012 , 0.95721995,\n",
       "       0.94267437, 0.92772436, 0.88312793, 0.81780916, 0.7655247 ,\n",
       "       0.71986347, 0.64350408, 0.5928013 , 0.5454718 ])"
      ]
     },
     "execution_count": 14,
     "metadata": {},
     "output_type": "execute_result"
    }
   ],
   "source": [
    "# print the diagnostic of the minimization problem\n",
    "result"
   ]
  },
  {
   "cell_type": "code",
   "execution_count": 17,
   "metadata": {},
   "outputs": [
    {
     "data": {
      "text/plain": [
       "1055914177798.2069"
      ]
     },
     "execution_count": 17,
     "metadata": {},
     "output_type": "execute_result"
    }
   ],
   "source": [
    "# objective function value with starting point parameters\n",
    "objective_function(x0) "
   ]
  },
  {
   "cell_type": "code",
   "execution_count": 18,
   "metadata": {},
   "outputs": [
    {
     "data": {
      "text/plain": [
       "0.000737067806478276"
      ]
     },
     "execution_count": 18,
     "metadata": {},
     "output_type": "execute_result"
    }
   ],
   "source": [
    "# objective function value with final values\n",
    "objective_function(result.x) "
   ]
  },
  {
   "cell_type": "code",
   "execution_count": 21,
   "metadata": {},
   "outputs": [
    {
     "data": {
      "text/plain": [
       "0.643157206728785"
      ]
     },
     "execution_count": 21,
     "metadata": {},
     "output_type": "execute_result"
    }
   ],
   "source": [
    "# define the discount curve object using the \n",
    "# resulting discount factors (result.x)\n",
    "curve = DiscountCurve(ois_data.observation_date, pillar_dates, result.x)\n",
    "\n",
    "from datetime import date\n",
    "curve.df(date(2059, 11, 23))"
   ]
  },
  {
   "cell_type": "code",
   "execution_count": 23,
   "metadata": {},
   "outputs": [
    {
     "data": {
      "text/plain": [
       "0.00882732190315717"
      ]
     },
     "execution_count": 23,
     "metadata": {},
     "output_type": "execute_result"
    }
   ],
   "source": [
    "# 50 years rate \n",
    "import math\n",
    "-math.log(curve.df(date(2059, 11, 23))) / 50"
   ]
  },
  {
   "cell_type": "code",
   "execution_count": 26,
   "metadata": {},
   "outputs": [
    {
     "data": {
      "text/plain": [
       "[1.0,\n",
       " 1.0003014747310168,\n",
       " 1.000588313127077,\n",
       " 1.0008901199536386,\n",
       " 1.0011875146572378,\n",
       " 1.0014799598670674,\n",
       " 1.0017874342847497,\n",
       " 1.0020810669287863,\n",
       " 1.002384668218312,\n",
       " 1.0026786511290502,\n",
       " 1.0029826146845602,\n",
       " 1.003277367891063,\n",
       " 1.0035710351042981,\n",
       " 1.0044694772149225,\n",
       " 1.0053193209371638,\n",
       " 1.006152366379903,\n",
       " 1.0069401522566988,\n",
       " 1.009070346753292,\n",
       " 1.0093198286477054,\n",
       " 1.0071050311457177,\n",
       " 1.0018994747802303,\n",
       " 0.9937925927976946,\n",
       " 0.9833295330059759,\n",
       " 0.9710012014584769,\n",
       " 0.9572199541886813,\n",
       " 0.9426743720454831,\n",
       " 0.9277243626192413,\n",
       " 0.8831279292517638,\n",
       " 0.8178091614623915,\n",
       " 0.7655246963531933,\n",
       " 0.719863473051108,\n",
       " 0.6435040837229044,\n",
       " 0.592801300550168,\n",
       " 0.545471799496346]"
      ]
     },
     "execution_count": 26,
     "metadata": {},
     "output_type": "execute_result"
    }
   ],
   "source": [
    "list(result.x)"
   ]
  },
  {
   "cell_type": "code",
   "execution_count": 27,
   "metadata": {},
   "outputs": [
    {
     "data": {
      "text/plain": [
       "[datetime.date(2019, 10, 30),\n",
       " datetime.date(2019, 11, 30),\n",
       " datetime.date(2019, 12, 30),\n",
       " datetime.date(2020, 1, 30),\n",
       " datetime.date(2020, 2, 29),\n",
       " datetime.date(2020, 3, 30),\n",
       " datetime.date(2020, 4, 30),\n",
       " datetime.date(2020, 5, 30),\n",
       " datetime.date(2020, 6, 30),\n",
       " datetime.date(2020, 7, 30),\n",
       " datetime.date(2020, 8, 30),\n",
       " datetime.date(2020, 9, 30),\n",
       " datetime.date(2020, 10, 30),\n",
       " datetime.date(2021, 1, 30),\n",
       " datetime.date(2021, 4, 30),\n",
       " datetime.date(2021, 7, 30),\n",
       " datetime.date(2021, 10, 30),\n",
       " datetime.date(2022, 10, 30),\n",
       " datetime.date(2023, 10, 30),\n",
       " datetime.date(2024, 10, 30),\n",
       " datetime.date(2025, 10, 30),\n",
       " datetime.date(2026, 10, 30),\n",
       " datetime.date(2027, 10, 30),\n",
       " datetime.date(2028, 10, 30),\n",
       " datetime.date(2029, 10, 30),\n",
       " datetime.date(2030, 10, 30),\n",
       " datetime.date(2031, 10, 30),\n",
       " datetime.date(2034, 10, 30),\n",
       " datetime.date(2039, 10, 30),\n",
       " datetime.date(2044, 10, 30),\n",
       " datetime.date(2049, 10, 30),\n",
       " datetime.date(2059, 10, 30),\n",
       " datetime.date(2069, 10, 30),\n",
       " datetime.date(2079, 10, 30)]"
      ]
     },
     "execution_count": 27,
     "metadata": {},
     "output_type": "execute_result"
    }
   ],
   "source": [
    "pillar_dates"
   ]
  }
 ],
 "metadata": {
  "kernelspec": {
   "display_name": "Python 3",
   "language": "python",
   "name": "python3"
  },
  "language_info": {
   "codemirror_mode": {
    "name": "ipython",
    "version": 3
   },
   "file_extension": ".py",
   "mimetype": "text/x-python",
   "name": "python",
   "nbconvert_exporter": "python",
   "pygments_lexer": "ipython3",
   "version": "3.7.3"
  }
 },
 "nbformat": 4,
 "nbformat_minor": 2
}
