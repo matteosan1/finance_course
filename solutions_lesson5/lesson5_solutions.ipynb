{
 "cells": [
  {
   "cell_type": "markdown",
   "metadata": {},
   "source": [
    "# Solutions - Lesson 5\n",
    "\n",
    "## Exercises\n",
    "\n",
    "### Exercise 5.1\n",
    "\n",
    "In the next lesson we're going to build lots of ```OvernightIndexSwap``` objects, one for each market quote we have. The market quotes will consist of fixed strikes for 1M, 2M, 3M, ..., 12M, 15M, 18M, 2Y, 3Y, ..., 30Y and 40Y swaps.\n",
    "\n",
    "It would be very boring to write a long list of payment dates for each one of these, plus they'd need to be updated every day. Write a function which given a start date and the number of months, returns a list of dates of **annual** frequency starting from the start date and ending after the specified number of months.\n",
    "\n",
    "For example\n",
    "\n",
    "2019-11-10 start date 12 months $\\rightarrow$ 2019-11-10, 2020-11-10 <br>\n",
    "2019-11-10 start date 24 months $\\rightarrow$ 2019-11-10, 2020-11-10, 2021-11-10 <br>\n",
    "\n",
    "Note that if the number of months is not a multiple of 12, the last period should simply be shorter than 12 months.\n",
    "For example\n",
    "\n",
    "2019-11-10 start date 9 months $\\rightarrow$ 2019-11-10, 2020-08-10 <br>\n",
    "2019-11-10 start date 15 months $\\rightarrow$ 2019-11-10, 2020-11-10, 2021-02-10 <br>\n",
    "\n",
    "**Solution**:"
   ]
  },
  {
   "cell_type": "code",
   "execution_count": 1,
   "metadata": {},
   "outputs": [],
   "source": [
    "from finmarkets import generate_swap_dates\n",
    "from datetime import date\n",
    "from dateutil.relativedelta import relativedelta\n",
    "\n",
    "def generate_swap_dates(start_date, n_months):\n",
    "    dates = []\n",
    "    for i in range(0, n_months, 12):\n",
    "        dates.append(start_date + relativedelta(months=i))\n",
    "    dates.append(start_date + relativedelta(months=n_months))\n",
    "    \n",
    "    return dates\n",
    "\n",
    "\n",
    "assert generate_swap_dates(date(2019, 11, 10), 12) == [date(2019, 11, 10), \n",
    "                                                       date(2020, 11, 10)]\n",
    "assert generate_swap_dates(date(2019, 11, 10), 24) == [date(2019, 11, 10), \n",
    "                                                       date(2020, 11, 10), \n",
    "                                                       date(2021, 11, 10)]\n",
    "\n",
    "assert generate_swap_dates(date(2019, 11, 10), 9) == [date(2019, 11, 10), \n",
    "                                                      date(2020, 8, 10)]\n",
    "assert generate_swap_dates(date(2019, 11, 10), 15) == [date(2019, 11, 10), \n",
    "                                                       date(2020, 11, 10), \n",
    "                                                       date(2021, 2, 10)]"
   ]
  },
  {
   "cell_type": "markdown",
   "metadata": {},
   "source": [
    "### Exercise 5.2\n",
    "\n",
    "Take the ```OvernightIndexSwap``` class from the lesson and add a new method called fair_value_strike which takes a discount curve object and returns the fixed rate which would make the OIS have zero NPV.\n",
    "\n",
    "*Hints*:\n",
    "\n",
    "* first take the formulas for the NPV of the fixed leg and the NPV of the floating leg, put one equal to the other and solve for $K$;\n",
    "* then implement that in Python.\n",
    "\n",
    "**Solution**:\n",
    "As the hint suggested and going back to lesson 5 formulas we have:\n",
    "\n",
    "$$\\mathrm{NPV}_{\\mathrm{fix}} = NK \\sum_{i=1}^{n}D(d_{i})\\frac{d_i - d_{i-1}}{360}$$ \n",
    "\n",
    "$$\\mathrm{NPV}_{\\mathrm{float}} = N \\cdot [D(d_0) - D(d_n)]$$\n",
    "\n",
    "$$K \\sum_{i=1}^{n}D(d_{i})\\frac{d_i - d_{i-1}}{360} = [D(d_0) - D(d_n)]$$\n",
    "\n",
    "$$K = \\frac{[D(d_0) - D(d_n)]}{\\sum_{i=1}^{n}D(d_{i})\\frac{d_i - d_{i-1}}{360}}$$\n",
    "\n",
    "Now in python:\n",
    "```python\n",
    "class OverNightIndexSwap:\n",
    "    ...\n",
    "    def fair_value_strike(self, discount_curve):\n",
    "        den = 0\n",
    "        for i in range(1, len(self.payment_dates)):\n",
    "            start_date = self.payment_dates[i-1] \n",
    "            end_date = self.payment_dates[i]\n",
    "            tau = (end_date - start_date).days / 360\n",
    "            df = discount_curve.df(end_date)\n",
    "            den += df * tau\n",
    "        num = (discount_curve.df(self.payment_dates[0]) - \n",
    "               discount_curve.df(self.payment_dates[-1]))\n",
    "\n",
    "        return num/den    \n",
    "```\n",
    "\n",
    "Since the ratio to compute the fair_value_strike is done with two quantities that are almost already computed in the class it is possible to simplify the method, and make it more manageable, like this:\n",
    "\n",
    "```python\n",
    "class OverNightIndexSwap:\n",
    "    ...\n",
    "    def fair_value_strike(self, discount_curve):\n",
    "        den = self.npv_fixed(discount_curve)/self.fixed_rate\n",
    "        num = self.npv_floating_leg(discount_curve)\n",
    "\n",
    "        return num/den    \n",
    "```\n"
   ]
  },
  {
   "cell_type": "markdown",
   "metadata": {},
   "source": [
    "### Exercise 5.3\n",
    "\n",
    "Take the ```OvernightIndexSwap``` class, add it to finmarkets.py and try importing it and using it.\n",
    "\n",
    "**Solution:** <br>\n",
    "Copy the above function in the ```OvernightIndexSwap``` class. Then import the finmarket library and check few results "
   ]
  },
  {
   "cell_type": "code",
   "execution_count": 3,
   "metadata": {},
   "outputs": [
    {
     "data": {
      "text/plain": [
       "0.1947172768497251"
      ]
     },
     "execution_count": 3,
     "metadata": {},
     "output_type": "execute_result"
    }
   ],
   "source": [
    "from datetime import date\n",
    "from finmarkets import OvernightIndexSwap, DiscountCurve\n",
    "\n",
    "curve = DiscountCurve(date(2019, 1, 1),\n",
    "                      [date(2019, 1, 1), \n",
    "                       date(2019, 6, 1), \n",
    "                       date(2020, 1, 1)],\n",
    "                      [1.0, 0.98, 0.82])\n",
    "\n",
    "ois = OvernightIndexSwap(\n",
    "    # the notional, one million\n",
    "    1e6,\n",
    "    # the list of product dates, \n",
    "    # i.e. the start date then the payment dates\n",
    "    [date(2019, 1, 1), \n",
    "     date(2019, 4, 1), \n",
    "     date(2019, 7, 1), \n",
    "     date(2019, 10, 1), \n",
    "     date(2020, 1, 1)],\n",
    "    # the fixed rate, 2.5%\n",
    "    0.025\n",
    ")\n",
    "\n",
    "ois.fair_value_strike(curve)"
   ]
  }
 ],
 "metadata": {
  "kernelspec": {
   "display_name": "Python 3",
   "language": "python",
   "name": "python3"
  },
  "language_info": {
   "codemirror_mode": {
    "name": "ipython",
    "version": 3
   },
   "file_extension": ".py",
   "mimetype": "text/x-python",
   "name": "python",
   "nbconvert_exporter": "python",
   "pygments_lexer": "ipython3",
   "version": "3.7.5rc1"
  }
 },
 "nbformat": 4,
 "nbformat_minor": 2
}
