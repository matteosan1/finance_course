{
 "cells": [
  {
   "cell_type": "markdown",
   "id": "historic-grace",
   "metadata": {},
   "source": [
    "## Eigendecomposition\n",
    "The eigendecomposition is one form of matrix decomposition. Decomposing a matrix means that we want to find a product of matrices that is equal to the initial matrix. In the case of eigendecomposition, we decompose the initial matrix into the product of its eigenvectors and eigenvalues. Before all, let’s see the link between matrices and linear transformation. Then, you’ll learn what are eigenvectors and eigenvalues.\n",
    "\n",
    "### Matrices as linear transformations\n",
    "You can think of matrices as linear transformations. Some matrices will rotate your space, others will rescale it. When we apply a matrix to a vector, we end up with a transformed version of the vector. When we say that we apply the matrix to the vector, it means that we calculate the dot product of the matrix with the vector. \n",
    "\n",
    "Now, let’s apply the matrix $[A]$ to this vector. We’ll plot the old vector $v$ (light blue) and the new one (orange):"
   ]
  },
  {
   "cell_type": "code",
   "execution_count": 2,
   "id": "together-radical",
   "metadata": {},
   "outputs": [
    {
     "data": {
      "text/plain": [
       "(-1.0, 4.0)"
      ]
     },
     "execution_count": 2,
     "metadata": {},
     "output_type": "execute_result"
    },
    {
     "data": {
      "image/png": "[encoded data removed]",
      "text/plain": [
       "<Figure size 432x288 with 1 Axes>"
      ]
     },
     "metadata": {
      "needs_background": "light"
     },
     "output_type": "display_data"
    }
   ],
   "source": [
    "import numpy as np\n",
    "from finmarkets import plotVectors\n",
    "from matplotlib import pyplot as plt\n",
    "\n",
    "A = np.array([[-1, 3], [2, -2]])\n",
    "v = np.array([[2], [1]])\n",
    "\n",
    "Av = A.dot(v)\n",
    "\n",
    "plotVectors([v.flatten(), Av.flatten()], cols=['#1190FF', '#FF9A13'])\n",
    "plt.ylim(-1, 4)\n",
    "plt.xlim(-1, 4)"
   ]
  },
  {
   "cell_type": "markdown",
   "id": "private-upgrade",
   "metadata": {},
   "source": [
    "We can see that applying the matrix $[A]$ has the effect of modifying the vector.\n",
    "\n",
    "### Eigenvectors and eigenvalues\n",
    "%We have seen an example of a vector transformed by a matrix. Now imagine that the transformation of the initial %vector gives us a new vector that has the exact same direction. The scale can be different but the direction is the %same. Applying the matrix doesn’t change the direction of the vector. This special vector is called an eigenvector of %the matrix.\n",
    "\n",
    "Imagine that the transformation of the initial vector by the matrix gives a new vector with the exact same direction. This vector is called an *eigenvector *of $[A]$.\n",
    "\n",
    "This means that $v$ is a eigenvector of $[A]$ if $v$ and $[A]v$ (the transformed vector) are in the same direction. The output vector is just a scaled version of the input vector. This scalling factor is $\\lambda$ which is called the *eigenvalue* of $[A]$.\n",
    "\n",
    "Mathematically, we have the following equation:\n",
    "\n",
    "$$[A]v=\\lambda v$$\n",
    "\n",
    "### Example 2.\n",
    "Let’s $[A]$ be the following matrix:\n",
    "\n",
    "$$A=\\begin{bmatrix}\n",
    "5 &1 \\\\\n",
    "3 &3\n",
    "\\end{bmatrix}$$\n",
    "\n",
    "We know that one eigenvector of A is:\n",
    "\n",
    "$$v=\\begin{bmatrix}\n",
    "1 \\\\\n",
    "1\\end{bmatrix}$$\n",
    "We can check that $[A]v=\\lambda v$\n",
    "\n",
    "$$\\begin{bmatrix}\n",
    "5 & 1 \\\\\n",
    "3& 3\\end{bmatrix}\n",
    "\\begin{bmatrix}\n",
    "1 \\\\\n",
    "1\\end{bmatrix}\n",
    "=\\begin{bmatrix}\n",
    "6 \\\\\n",
    "6\\end{bmatrix}$$\n",
    "\n",
    "We can represent $v$ and $[A]v$ to check if their directions are the same:"
   ]
  },
  {
   "cell_type": "code",
   "execution_count": 3,
   "id": "limiting-showcase",
   "metadata": {},
   "outputs": [
    {
     "data": {
      "text/plain": [
       "(-1.0, 7.0)"
      ]
     },
     "execution_count": 3,
     "metadata": {},
     "output_type": "execute_result"
    },
    {
     "data": {
      "image/png": "[encoded data removed]",
      "text/plain": [
       "<Figure size 432x288 with 1 Axes>"
      ]
     },
     "metadata": {
      "needs_background": "light"
     },
     "output_type": "display_data"
    }
   ],
   "source": [
    "A = np.array([[5, 1], [3, 3]])\n",
    "v = np.array([[1], [1]])\n",
    "\n",
    "Av = A.dot(v)\n",
    "\n",
    "orange = '#FF9A13'\n",
    "blue = '#1190FF'\n",
    "\n",
    "plotVectors([Av.flatten(), v.flatten()], cols=[blue, orange])\n",
    "plt.ylim(-1, 7)\n",
    "plt.xlim(-1, 7)"
   ]
  },
  {
   "cell_type": "markdown",
   "id": "incident-status",
   "metadata": {},
   "source": [
    "We can see that their directions are the same!\n",
    "\n",
    "This example shows that the eigenvectors $v$ are vectors that change only in scale when we apply the matrix $[A]$ to them. \n",
    "\n",
    "### Find eigenvalues and eigenvectors in Python\n",
    "$\\tt{Numpy}$ provides a function returning eigenvectors and eigenvalues:\n",
    "Here a demonstration with the preceding example."
   ]
  },
  {
   "cell_type": "code",
   "execution_count": 4,
   "id": "separated-highway",
   "metadata": {},
   "outputs": [
    {
     "data": {
      "text/plain": [
       "(array([6., 2.]),\n",
       " array([[ 0.70710678, -0.31622777],\n",
       "        [ 0.70710678,  0.9486833 ]]))"
      ]
     },
     "execution_count": 4,
     "metadata": {},
     "output_type": "execute_result"
    }
   ],
   "source": [
    "A = np.array([[5, 1], [3, 3]])\n",
    "np.linalg.eig(A)"
   ]
  },
  {
   "cell_type": "markdown",
   "id": "varying-toolbox",
   "metadata": {},
   "source": [
    "We can see that the eigenvalues are the same than the ones we used before: 6 and 2 (first array).\n",
    "\n",
    "The eigenvectors correspond to the columns of the second array. This means that the eigenvector corresponding to $\\lambda=6$ is:\n",
    "\n",
    "$$\\begin{bmatrix}\n",
    "0.70710678 \\\\\n",
    "0.70710678\\end{bmatrix}$$\n",
    "\n",
    "The eigenvector corresponding to $\\lambda=2$ is:\n",
    "\n",
    "$$\\begin{bmatrix}\n",
    "−0.31622777 \\\\\n",
    "0.9486833\\end{bmatrix}$$\n",
    "\n",
    "The eigenvectors look different because they have not necessarly the same scaling than the ones we gave in the example. We can easily see that the first corresponds to a scaled version of our $[1 1]$. But the same property stands. We still have $[A]v=\\lambda v$. \n",
    "So there are an infinite number of eigenvectors corresponding to the eigenvalue 6. They are equivalent because we are interested by their directions."
   ]
  },
  {
   "cell_type": "code",
   "execution_count": 5,
   "id": "generic-penetration",
   "metadata": {},
   "outputs": [
    {
     "data": {
      "text/plain": [
       "(-1.0, 3.0)"
      ]
     },
     "execution_count": 5,
     "metadata": {},
     "output_type": "execute_result"
    },
    {
     "data": {
      "image/png": "[encoded data removed]",
      "text/plain": [
       "<Figure size 432x288 with 1 Axes>"
      ]
     },
     "metadata": {
      "needs_background": "light"
     },
     "output_type": "display_data"
    }
   ],
   "source": [
    "v = np.array([[1], [-3]])\n",
    "Av = A.dot(v)\n",
    "v_np = [-0.31622777, 0.9486833]\n",
    "\n",
    "plotVectors([Av.flatten(), v.flatten(), v_np], cols=[blue, orange, 'blue'])\n",
    "plt.ylim(-7, 1)\n",
    "plt.xlim(-1, 3)"
   ]
  },
  {
   "cell_type": "markdown",
   "id": "legendary-friend",
   "metadata": {},
   "source": [
    "We can see that the vector found with $\\tt{numpy}$ (in dark blue) is a scaled version of our preceding [1 −3].\n",
    "\n",
    "### Concatenating eigenvalues and eigenvectors\n",
    "Now that we have an idea of what eigenvectors and eigenvalues are, we can see how it can be used to decompose a matrix. All eigenvectors of a matrix $[A]$ can be concatenated in a matrix with each column corresponding to each eigenvector (like in the second array return by $\\tt{np.linalg.eig(A))}$:\n",
    "\n",
    "$$V=\\begin{bmatrix}\n",
    "1 & 1 \\\\\n",
    "1 &−3\\end{bmatrix}$$\n",
    "\n",
    "The vector $\\lambda$ can be created from all eigenvalues\n",
    "\n",
    "$\\lambda =\\begin{bmatrix}\n",
    "6\\\\\n",
    "2\\end{bmatrix}$$\n",
    "Then the *eigendecomposition* is given by\n",
    "\n",
    "$$[A]=[V]\\cdot \\textrm{diag}(\\lambda)\\cdot [V]^{−1}$$\n",
    "where $\\textrm{diag}(v)$ is a diagonal matrix containing all the eigenvalues. \n",
    "Continuing with our example we have\n",
    "\n",
    "$$V=\\begin{bmatrix}\n",
    "1 & 1 \\\\\n",
    "1 &−3\\end{bmatrix}$$\n",
    "\n",
    "$$\\textrm{diag}(v)=\\begin{bmatrix}\n",
    "6&0\\\\\n",
    "0&2\\end{bmatrix}$$\n",
    "The inverse matrix of $[V]$ can be calculated with $\\tt{numpy}$"
   ]
  },
  {
   "cell_type": "code",
   "execution_count": 6,
   "id": "expressed-shark",
   "metadata": {},
   "outputs": [
    {
     "data": {
      "text/plain": [
       "array([[ 0.75,  0.25],\n",
       "       [ 0.25, -0.25]])"
      ]
     },
     "execution_count": 6,
     "metadata": {},
     "output_type": "execute_result"
    }
   ],
   "source": [
    "V = np.array([[1, 1], [1, -3]])\n",
    "V_inv = np.linalg.inv(V)\n",
    "V_inv"
   ]
  },
  {
   "cell_type": "markdown",
   "id": "expensive-rebound",
   "metadata": {},
   "source": [
    "So let’s plug it into our equation:\n",
    "\n",
    "$$ [V]\\cdot\\textrm{diag}(\\lambda)\\cdot [V]^{−1}=\n",
    "\\begin{bmatrix}\n",
    "1 & 1 \\\\\n",
    "1 &−3\\end{bmatrix}\n",
    "\\begin{bmatrix}\n",
    "6&0\\\\\n",
    "0&2\\end{bmatrix}\n",
    "\\begin{bmatrix}\n",
    "0.75 & 0.25\\\\\n",
    "0.25&-0.25 \\end{bmatrix}\n",
    "=\\begin{bmatrix}\n",
    "5 & 1\\\\\n",
    "3& 3\\end{bmatrix}\n",
    "$$\n",
    "\n",
    "Let’s check our result with Python:"
   ]
  },
  {
   "cell_type": "code",
   "execution_count": 7,
   "id": "recovered-feedback",
   "metadata": {},
   "outputs": [
    {
     "data": {
      "text/plain": [
       "array([[5., 1.],\n",
       "       [3., 3.]])"
      ]
     },
     "execution_count": 7,
     "metadata": {},
     "output_type": "execute_result"
    }
   ],
   "source": [
    "lambdas = np.diag([6, 2])\n",
    "V.dot(lambdas).dot(V_inv)"
   ]
  },
  {
   "cell_type": "markdown",
   "id": "veterinary-brazilian",
   "metadata": {},
   "source": [
    "### Real symmetric matrix\n",
    "In the case of real symmetric ($[A]=[A]^T$) matrices the eigendecomposition can be expressed as\n",
    "\n",
    "$$[A]=[Q][\\Lambda][Q]^T$$\n",
    "where $[Q]$ is the matrix with eigenvectors as columns and $\\Lambda$ is $\\textrm{diag}(\\lambda)$.\n",
    "\n",
    "For that reason, it can useful to use symmetric matrices! Let’s do it now with $\\tt{linalg}$ from $\\tt{numpy}$"
   ]
  },
  {
   "cell_type": "code",
   "execution_count": 9,
   "id": "outstanding-plaza",
   "metadata": {},
   "outputs": [
    {
     "data": {
      "text/plain": [
       "array([[6., 2.],\n",
       "       [2., 3.]])"
      ]
     },
     "execution_count": 9,
     "metadata": {},
     "output_type": "execute_result"
    }
   ],
   "source": [
    "A = np.array([[6, 2], [2, 3]])\n",
    "eigVals, eigVecs = np.linalg.eig(A)\n",
    "eigVals = np.diag(eigVals)\n",
    "eigVecs.dot(eigVals).dot(eigVecs.T)"
   ]
  },
  {
   "cell_type": "markdown",
   "id": "coordinate-dakota",
   "metadata": {},
   "source": [
    "### Quadratic form to matrix form\n",
    "Let’s have the following quadratic equation:\n",
    "\n",
    "$$f(x)=ax^2_1+(b+c)x_1x_2+dx^2_2$$\n",
    "These quadratic forms can be generated by matrices:\n",
    "\n",
    "$$f(x)=\n",
    "\\begin{bmatrix}\n",
    "x_1 & x_2\n",
    "\\end{bmatrix}\n",
    "\\begin{bmatrix}\n",
    "a&b\\\\\n",
    "c&d\n",
    "\\end{bmatrix}\n",
    "\\begin{bmatrix}\n",
    "x_1\\\\\n",
    "x_2\\end{bmatrix}\n",
    "=x^T[A]x$$\n",
    "\n",
    "### With the Principal Axes Theorem\n",
    "Actually there is a simpler way to do the change of variable. We can stay in the matrix form. Recall that we start with the form:\n",
    "\n",
    "$$f(x)=x^T[A]x$$\n",
    "The linear substitution can be wrote in these terms. We want replace the variables $x$ by $y$ that relates by:\n",
    "\n",
    "$$x=[P]y$$\n",
    "We want to find $[P]$ such as our new equation doesn’t contain the cross terms. The first step is to replace that in the first equation:\n",
    "\n",
    "$$x^T[A]x=([P]y)^T[A]([P]y)=y^T([P]^T[A][P])y$$\n",
    "Can you see the how to transform the left hand side ($x$) into the right hand side ($y$)? The substitution is done by replacing $[A]$ with $[P]^T[A][P]$. We also know that $[A]$ is symmetric and thus that there is a diagonal matrix $[D]$ containing the eigenvectors of $[A]$ and such as $[D]=[P]^T[A][P]$. We thus end up with:\n",
    "\n",
    "$$x^T[A]x=y^T[D]y$$\n",
    "All of this implies that we can use $[D]$ to simplify our quadratic equation and remove the cross terms. If you remember from example 2 we know that the eigenvalues of $[A]$ are:\n",
    "\n",
    "$$[D]=\\begin{bmatrix}\n",
    "7 &0\\\\\n",
    "0 &2\\end{bmatrix}$$\n",
    "\n",
    "$$x^T[A]x=y^T[D]y=y^T\n",
    "\\begin{bmatrix}\n",
    "7 &0\\\\\n",
    "0 &2\\end{bmatrix}y=\n",
    "\\begin{bmatrix}y_1 & y_2\\end{bmatrix}\n",
    "\\begin{bmatrix}\n",
    "7 &0\\\\\n",
    "0 &2\\end{bmatrix}\n",
    "\\begin{bmatrix}y_1\\\\y_2\\end{bmatrix}\n",
    "=\\begin{bmatrix}7y_1+0y_2 & 0y_1+2y_2\\end{bmatrix}\n",
    "\\begin{bmatrix}y_1\\\\y_2\\end{bmatrix}=7y^2_1+2y^2_2\n",
    "$$\n",
    "\n",
    "This form (without cross-term) is called the principal axes form.\n",
    "\n",
    "### Quadratic form optimization\n",
    "Depending to the context, optimizing a function means finding its maximum or its minimum. It is for instance widely used to minimize the error of cost functions in machine learning.\n",
    "\n",
    "Here we will see how eigendecomposition can be used to optimize quadratic functions and why this can be done easily without cross terms. The difficulty is that we want a constrained optimization, that is to find the minimum or the maximum of the function for $f(x)$ being a unit vector.\n",
    "\n",
    "#### Example 8.\n",
    "We want to optimize:\n",
    "\n",
    "$f(x)=x^T[A]x$ subject to $||x||_2=1$.In our last example we ended up with:\n",
    "\n",
    "$f(x)=7y^2_1+2y^2_2$\n",
    "And the constraint of $x$ being a unit vector imply:\n",
    "\n",
    "$$||x||_2=1 \\implies x^2_1+x^2_2=1$$\n",
    "We can also show that $y$ has to be a unit vector if it is the case for $x$. Recall first that $x=[P]y$:\n",
    "\n",
    "$$||x||_2=$x^Tx=([P]y)^T([P]y)=y^T[P]^T[P]y=y^Ty=||y||_2$$\n",
    "So $‖x‖_2=‖y‖_2=1$ and thus $y^2_1+y^2_2=1$\n",
    "Since $y^2_1$ and $y^2_2$ cannot be negative because they are squared values, we can be sure that $2y^2_2\\leq 7y^2_2$. Hence:\n",
    "\n",
    "$$f(x)=7y^2_1+2y^2_2\\leq 7y^2_1+7y^2_2 \\leq 7(y^2_1+y^2_2)\\leq7$$\n",
    "This means that the maximum value of $f(x)$ is 7.\n",
    "\n",
    "The same way can lead to find the minimum of $f(x)$. $7y^2_1\\geq 2y^2_1$ and:\n",
    "\n",
    "$$f(x)=7y^2_1+2y^2_2\\geq2y^2_1+2y^2_2\\geq2(y^2_1+y^2_2)\\geq2$$\n",
    "And the minimum of $f(x)$ is 2."
   ]
  },
  {
   "cell_type": "markdown",
   "id": "nonprofit-april",
   "metadata": {},
   "source": [
    "## The Moore-Penrose Pseudoinverse\n",
    "The Moore-Penrose pseudoinverse is a direct application of the SVD. \n",
    "But before all, we have to remind that systems of equations can be expressed under the matrix form.\n",
    "\n",
    "The inverse of a matrix $[A]$ can be used to solve the equation $[A]x=b$:\n",
    "\n",
    "$$\n",
    "\\begin{gathered}[A]^{−1}[A]x=[A]^{−1}b \n",
    "[I]x=[A]^{−1}b\n",
    "x=[A]^{−1}b\n",
    "\\end{gathered}\n",
    "$$\n",
    "But in the case where the set of equations have 0 or many solutions the inverse cannot be found and the equation cannot be solved. The pseudoinverse is $[A]^+$ such as:\n",
    "\n",
    "$$[A][A]^+≈[I]$$\n",
    "\n",
    "Think of it as a generalization of the inverse. It is defined in for all matrices, but has fewer guaranteed properties as a result. For example, it will be a matrix such that  $[𝐴][𝐴]^+[𝐴]=[𝐴]$ , but not necessarily the stronger usual inverse property  $[𝐴]^{−1}[𝐴]=[𝐴][𝐴]^{−1}=[𝐼]$  (the second one implies the first). In the special case where a matrix has an inverse, it will be the same as the pseudo-inverse. \n",
    "\n",
    "%So pinv() gives you the inverse where it exists, and still gives something inverse-like everywhere else.\n",
    "\n",
    "The pseudo-inverse is the \"closest\" answer to  $[𝐴][𝑋]=[𝐼]$, in the sense that the norm $||[𝐴][𝑋]−[𝐼]||_2$  is smallest. It's 0 when the inverse exists of course.\n",
    "\n",
    "To me the important property of the pseudo-inverse arises in solving a simple linear system of equations. It has 0, 1, or infinitely many solutions.  $𝑥=[𝐴]^+𝑏$  is the closest solution when none exists in the sense above. It gives the single answer when 1 exists. And when many exists, it is the smallest solution in the sense that  $||𝑥||_2$  is smallest.\n",
    "\n",
    "Example 1.\n",
    "Let’s see how to implement that. We will create a non square matrix A, calculate its singular value decomposition and its pseudoinverse.\n",
    "\n",
    "$$A=\\begin{bmatrix}\n",
    "7&2\\\\\n",
    "3&4\\\\\n",
    "5&3\\end{bmatrix}$$"
   ]
  },
  {
   "cell_type": "code",
   "execution_count": 23,
   "id": "welcome-wells",
   "metadata": {},
   "outputs": [
    {
     "name": "stdout",
     "output_type": "stream",
     "text": [
      "[[ 0.16666667 -0.10606061  0.03030303]\n",
      " [-0.16666667  0.28787879  0.06060606]]\n"
     ]
    }
   ],
   "source": [
    "A = np.array([[7, 2], [3, 4], [5, 3]])\n",
    "A_plus = np.linalg.pinv(A)\n",
    "print (A_plus)"
   ]
  },
  {
   "cell_type": "markdown",
   "id": "fantastic-premium",
   "metadata": {},
   "source": [
    "It looks good! We can now check that it is really the near inverse of A. Since we know that\n",
    "\n",
    "$$[A]^{−1}[A]=[I]$$"
   ]
  },
  {
   "cell_type": "code",
   "execution_count": 24,
   "id": "manufactured-circuit",
   "metadata": {},
   "outputs": [
    {
     "data": {
      "text/plain": [
       "array([[1.00000000e+00, 2.35922393e-16],\n",
       "       [3.33066907e-16, 1.00000000e+00]])"
      ]
     },
     "execution_count": 24,
     "metadata": {},
     "output_type": "execute_result"
    }
   ],
   "source": [
    "A_plus.dot(A)"
   ]
  },
  {
   "cell_type": "markdown",
   "id": "consolidated-queensland",
   "metadata": {},
   "source": [
    "This is not bad! This is almost the identity matrix!\n",
    "\n",
    "A difference with the real inverse is that $[A]^+[A]≈[I]$ but $[A][A]^+\\neq [I]$."
   ]
  },
  {
   "cell_type": "markdown",
   "id": "bulgarian-testing",
   "metadata": {},
   "source": [
    "### Using the pseudoinverse to solve a overdetermined system of linear equations\n",
    "In general there is no solution to overdetermined systems. \n",
    "\n",
    "The pseudoinverse solve the system in the least square error perspective: it finds the solution that minimize the error. We will see this more explicitly with an example.\n",
    "\n",
    "For this example we will consider this set of three equations with two unknowns:\n",
    "\n",
    "$$\n",
    "\\begin{cases}\n",
    "−2x_1−x_2=−2 \\\\\n",
    "4x_1−x_2=−8 \\\\\n",
    "−x_1−x_2=−2 \n",
    "\\end{cases}$$"
   ]
  },
  {
   "cell_type": "code",
   "execution_count": 13,
   "id": "regulated-clone",
   "metadata": {},
   "outputs": [
    {
     "data": {
      "image/png": "[encoded data removed]",
      "text/plain": [
       "<Figure size 432x288 with 1 Axes>"
      ]
     },
     "metadata": {
      "needs_background": "light"
     },
     "output_type": "display_data"
    }
   ],
   "source": [
    "x1 = np.linspace(-5, 5, 1000)\n",
    "x2_1 = -2*x1 + 2\n",
    "x2_2 = 4*x1 + 8\n",
    "x2_3 = -1*x1 + 2\n",
    "\n",
    "plt.plot(x1, x2_1)\n",
    "plt.plot(x1, x2_2)\n",
    "plt.plot(x1, x2_3)\n",
    "plt.xlim(-2., 1)\n",
    "plt.ylim(1, 5)\n",
    "plt.show()"
   ]
  },
  {
   "cell_type": "markdown",
   "id": "collaborative-niger",
   "metadata": {},
   "source": [
    "Putting this into the matrix form we have:\n",
    "\n",
    "\n",
    "$$[A]=\\begin{bmatrix}\n",
    "−2&-1\\\\\n",
    "4&-1\\\\\n",
    "−1&−1\\end{bmatrix}$$\n",
    "\n",
    "$$x=\\begin{bmatrix}\n",
    "x_1\\\\\n",
    "x_2\\end{bmatrix}$$\n",
    "\n",
    "and\n",
    "\n",
    "$$b=\\begin{bmatrix}\n",
    "−2\\\\\n",
    "−8\\\\\n",
    "−2\\end{bmatrix}$$\n",
    "\n",
    "So we have:\n",
    "\n",
    "$$[A]x=b\\implies \n",
    "\\begin{bmatrix}\n",
    "−2&-1\\\\\n",
    "4&-1\\\\\n",
    "−1&−1\\end{bmatrix}\n",
    "\\begin{bmatrix}\n",
    "x_1\\\\\n",
    "x_2\\end{bmatrix}=\n",
    "\\begin{bmatrix}\n",
    "−2\\\\\n",
    "−8\\\\\n",
    "−2\\end{bmatrix}$$\n",
    "\n",
    "We will now calculate the pseudoinverse of $[A]$:"
   ]
  },
  {
   "cell_type": "code",
   "execution_count": 25,
   "id": "brazilian-radiation",
   "metadata": {},
   "outputs": [
    {
     "data": {
      "text/plain": [
       "array([[-0.11290323,  0.17741935, -0.06451613],\n",
       "       [-0.37096774, -0.27419355, -0.35483871]])"
      ]
     },
     "execution_count": 25,
     "metadata": {},
     "output_type": "execute_result"
    }
   ],
   "source": [
    "A = np.array([[-2, -1], [4, -1], [-1, -1]])\n",
    "A_plus = np.linalg.pinv(A)\n",
    "A_plus"
   ]
  },
  {
   "cell_type": "markdown",
   "id": "completed-retro",
   "metadata": {},
   "source": [
    "Now that we have calculated the pseudoinverse of $[A]$:\n",
    "we can use it to find $x$ knowing that: $x=[A]^+ b$"
   ]
  },
  {
   "cell_type": "code",
   "execution_count": 26,
   "id": "adjustable-alfred",
   "metadata": {},
   "outputs": [
    {
     "data": {
      "text/plain": [
       "array([[-1.06451613],\n",
       "       [ 3.64516129]])"
      ]
     },
     "execution_count": 26,
     "metadata": {},
     "output_type": "execute_result"
    }
   ],
   "source": [
    "b = np.array([[-2], [-8], [-2]])\n",
    "res = A_plus.dot(b)\n",
    "res"
   ]
  },
  {
   "cell_type": "markdown",
   "id": "increasing-destruction",
   "metadata": {},
   "source": [
    "In our two dimensions, the coordinates of $x$ are $[−1.06451613, 3.64516129]$.\n",
    "Let’s plot this point along with the equations lines:"
   ]
  },
  {
   "cell_type": "code",
   "execution_count": 16,
   "id": "loving-longer",
   "metadata": {},
   "outputs": [
    {
     "data": {
      "image/png": "[encoded data removed]",
      "text/plain": [
       "<Figure size 432x288 with 1 Axes>"
      ]
     },
     "metadata": {
      "needs_background": "light"
     },
     "output_type": "display_data"
    }
   ],
   "source": [
    "plt.plot(x1, x2_1)\n",
    "plt.plot(x1, x2_2)\n",
    "plt.plot(x1, x2_3)\n",
    "plt.xlim(-2., 1)\n",
    "plt.ylim(1, 5)\n",
    "\n",
    "plt.scatter(res[0], res[1])\n",
    "\n",
    "plt.show()"
   ]
  },
  {
   "cell_type": "markdown",
   "id": "conditional-monitoring",
   "metadata": {},
   "source": [
    "Maybe you would have expected the point being at the barycenter of the triangle. This is not the case because the equations are not scaled the same way. "
   ]
  },
  {
   "cell_type": "markdown",
   "id": "soviet-tourist",
   "metadata": {},
   "source": [
    "Intuition\n",
    "Sean Owen - Pseudoinverse intuition\n",
    "Numpy\n",
    "Numpy - linalg.pinv\n",
    "\n",
    "Numpy random seed\n",
    "\n",
    "Systems of equations\n",
    "Using the Moore-Penrose Pseudoinverse to Solve Linear Equations\n",
    "\n",
    "Overdetermined systems\n",
    "\n",
    "Least square solution in the triangle center\n",
    "\n",
    "Symmedian\n",
    "\n",
    "Least square fit\n",
    "Least square fitting\n",
    "https://arxiv.org/pdf/1606.03899.pdf"
   ]
  }
 ],
 "metadata": {
  "kernelspec": {
   "display_name": "Python 3",
   "language": "python",
   "name": "python3"
  },
  "language_info": {
   "codemirror_mode": {
    "name": "ipython",
    "version": 3
   },
   "file_extension": ".py",
   "mimetype": "text/x-python",
   "name": "python",
   "nbconvert_exporter": "python",
   "pygments_lexer": "ipython3",
   "version": "3.7.4"
  }
 },
 "nbformat": 4,
 "nbformat_minor": 5
}
