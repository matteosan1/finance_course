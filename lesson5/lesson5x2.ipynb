{
 "cells": [
  {
   "cell_type": "markdown",
   "metadata": {},
   "source": [
    "# Swaps and Bootstrapping - Practical Lesson 5\n",
    "\n",
    "## Recap\n",
    "\n",
    "* basic Python (mostly not related directly to finance)\n",
    "* how to implement a discount factor interpolation function\n",
    "* wrapping up functionality in classes in order to work with multiple data sets more easily\n",
    "* libor forward rate calculator\n",
    "\n",
    "## Today's lesson\n",
    "\n",
    "We're going to look at:\n",
    "\n",
    "* modules, and start building up our library of finance-related functionality;\n",
    "* implementing an Overnight Index Swap class for calculating the NPV of an OIS;\n",
    "* bootstrapping technique to derive discount curve.\n",
    "\n",
    "\n",
    "## Modules (again)\n",
    "\n",
    "An interactive session (e.g notebook or interactive shell) is great for quick testing and \n",
    "exploratory use, but once you have some code (i.e. functions or classes) which you'd like to reuse often, rather than copy/pasting it every time you need it, you can save it in a .py file and use it from your session (aka you can create your own library).\n",
    "These work just like the modules we have been importing up to now, except they're written by us...\n",
    "\n",
    "Today we're going to start writing a module called **finmarkets**, and over the course of the remaining lessons we'll add functionality related to the theory lessons **(consider that you will be asked to use as much as possible this module for your final project !).**\n",
    "\n",
    "According to your preferred way of working there are different instructions to write a module:\n",
    "\n",
    "* take a look at this video (https://www.youtube.com/watch?v=AqCl65wxikw) for an example of how using your own module is done for *Jupyter notebook*;\n",
    "* if you prefer to work with *repl.it* instead please look at a this (https://repl.it/@MatteoSani/finmarkets) skeleton of project which has a finmarkets module example. \n",
    "\n",
    "So to start our financial module let's create a new file called `finmarkets.py` and copy the ```DiscountCurve``` class you have written last time into it. As for any other module we will be able to import it and use its classes and functions.\n",
    "Let's try with an example:"
   ]
  },
  {
   "cell_type": "code",
   "execution_count": null,
   "metadata": {},
   "outputs": [],
   "source": [
    "from datetime import date\n",
    "from finmarkets import DiscountCurve\n",
    "\n",
    "curve = DiscountCurve(date(2020, 1, 1),\n",
    "                      [date(2020, 1, 1), \n",
    "                       date(2021, 6, 1), \n",
    "                       date(2022, 1, 1)],\n",
    "                      [1.0, 0.98, 0.82])\n",
    "curve.df(date(2020, 7, 1))"
   ]
  },
  {
   "cell_type": "markdown",
   "metadata": {},
   "source": [
    "# Overnight Index Swap\n",
    "\n",
    "Overnight Index Swaps (OIS) are products which pay a floating coupon, determined by overnight rate fixings over the reference periods, against a fixed coupon. Interest rate swaps are usually used to mitigate the risks of fluctuations of varying interest rates, or to benefit from lower interest rates. We will always look at these products from the point of view of the **receiver of the floating leg**.\n",
    "By definition an OIS is defined by:\n",
    "\n",
    "* a notional amount $N$\n",
    "* a start date $d_0$\n",
    "* a sequence of payment dates $d_1,...,d_n$\n",
    "* a fixed rate $K$\n",
    "\n",
    "(n.b. for simplicity we're assuming that the fixed and floating legs have the same notional and payment dates, although this is not necessarily always the case in practice).\n",
    "\n",
    "At each payment date, the floating leg pays a cash flow determined as follows:\n",
    "\n",
    "$$f_{\\mathrm{float},~i} = N \\Bigg\\{\\prod_{d=d_{i-1}}^{d=d_i-1}\\Big(1+r_{o/n}(d)\\cdot\\frac{1}{360}\\Big) -1 \\Bigg\\}$$\n",
    "\n",
    "(This formula is valid for an EONIA swap, i.e. for OIS swaps in EUR, other currencies might have different conventions. The $\\frac{1}{360}$ fraction appears because EONIA rates are quoted using the ACT/360 daycount convention and here we're making the simplifying assumption of ignoring weekends and holidays, so we assume that each overnight rate is valid for only one day.)\n",
    "\n",
    "The sum of the discounted expected values of these cash flows is\n",
    "\n",
    "$$\\mathrm{NPV}_{\\mathrm{float}} = \\sum_{i=1}^{n}D(d_i)\\mathbb{E}[f_{\\mathrm{float},~i}]$$\n",
    "\n",
    "where $D(d)$ is the discount factor with expiry $d$. On the other hand, by definition (remember practical lesson 4 with forward rates), we also have the following relationship\n",
    "\n",
    "$$\\mathbb{E}[f_{\\mathrm{float},~i}] = N\\cdot\\Big(\\frac{D_{ois}(d_{i-1})}{D_{ois}(d_{i})} - 1\\Big) $$\n",
    "\n",
    "hence\n",
    "\n",
    "$$\\mathrm{NPV}_{\\mathrm{float}} = N\\cdot \\sum_{i=1}^{n}D(d_i) \\Big(\\frac{D_{ois}(d_{i-1})}{D_{ois}(d_{i})} - 1\\Big) $$\n",
    "\n",
    "where $D_{ois}(d)$ is the discount factor implied by OIS prices (we will see it better later).\n",
    "\n",
    "The correct curve to use for discounting the flows of a collateralized contract, like OIS,  is the one associated with the collateral. Since OIS contracts are collateralized with cash, and cash accrues daily interes at the overnight rate, the OIS curve is itself the correct curve with which to discount the flows of an OIS contract !\n",
    "\n",
    "In summary, $D = D_{ois}$ so the NPV simplifies to \n",
    "\n",
    "$$\\mathrm{NPV}_{\\mathrm{float}} = N\\cdot\\sum_{i=1}^{n}[D(d_{i-1}) - D(d_i)] =  \\\\\n",
    " = N\\cdot[(D(d_{0}) - D(d_{1})) + (D(d_{1}) - D(d_{2})) + ... + (D(d_{n-1}) - D(d_{n}))]\\\\\n",
    " = N \\cdot [D(d_0) - D(d_n)]$$\n",
    "\n",
    "Each cash flow of the fixed leg is equal to \n",
    "\n",
    "$$f_{\\mathrm{fix},~i}=N\\cdot K\\cdot \\frac{d_i - d_{i-1}}{360}$$\n",
    "\n",
    "so the NPV of the fixed leg is\n",
    "\n",
    "$$\\mathrm{NPV}_{\\mathrm{fix}} = N\\cdot K\\cdot \\sum_{i=1}^{n}D(d_{i})\\frac{d_i - d_{i-1}}{360}$$\n",
    "\n",
    "**Ultimately the aim will be to take a series of OIS quotations, and determine the discount factors implied by their prices.** To do this we'll build a pricing `class`, which takes discount curve as the input and produces the net present value (NPV) of the OIS as the output. Then we'll put this function inside a numerical optimizer to invert the process to determine the implied discount factors from their prices (market quotes)."
   ]
  },
  {
   "cell_type": "code",
   "execution_count": null,
   "metadata": {},
   "outputs": [],
   "source": [
    "class OvernightIndexSwap:\n",
    "\n",
    "    # this method is called to build the instance,\n",
    "    # we take some data arguments and save them as\n",
    "    # attributes of self \n",
    "    # n.b.: payment_dates should be a list of dates,\n",
    "    # including the start date as the first element\n",
    "    def __init__(self, notional, payment_dates, fixed_rate):\n",
    "        self.notional = notional\n",
    "        self.payment_dates = payment_dates\n",
    "        self.fixed_rate = fixed_rate\n",
    "        \n",
    "    # this method takes a discount curve and calculates\n",
    "    # the NPV of the floating leg using that curve\n",
    "    def npv_floating_leg(self, discount_curve):\n",
    "        # self.payment_date s[0] is the start date of the swap\n",
    "        # self.payment_date s[‐1] is the last payment date of the swap\n",
    "        return self.notional * (discount_curve.df(self.payment_dates[0]) - \n",
    "                                discount_curve.df(self.payment_dates[-1]))\n",
    "    \n",
    "    # this method takes a discount curve and calculates the NPV\n",
    "    # of the fixed leg using that curve\n",
    "    def npv_fixed_leg(self, discount_curve):\n",
    "        npv = 0\n",
    "        # we loop from i=1 up to but not including the length of the date list\n",
    "        for i in range(1, len(self.payment_dates)): \n",
    "            # we can do i‐1, because the loop starts with i=1\n",
    "            start_date = self.payment_dates[i-1] \n",
    "            end_date = self.payment_dates[i]\n",
    "            tau = (end_date - start_date).days / 360\n",
    "            df = discount_curve.df(end_date)\n",
    "            npv = npv + df * tau\n",
    "        return self.notional * self.fixed_rate * npv\n",
    "    \n",
    "    # this method calculates the NPV of the OIS swap\n",
    "    # n.b.: inside this method we call the other two \n",
    "    # methods of the class on the same instance 'self',\n",
    "    # using self.npv_XXX_leg(...), and we pass the \n",
    "    # discount_curve we received as an argument\n",
    "    def npv(self, discount_curve):\n",
    "        float_npv = self.npv_floating_leg(discount_curve)\n",
    "        fixed_npv = self.npv_fixed_leg(discount_curve)\n",
    "        return float_npv - fixed_npv"
   ]
  },
  {
   "cell_type": "code",
   "execution_count": null,
   "metadata": {},
   "outputs": [],
   "source": [
    "from datetime import date\n",
    "\n",
    "ois = OvernightIndexSwap(\n",
    "    # the notional, one million\n",
    "    1e6,\n",
    "    # the list of product dates, \n",
    "    # i.e. the start date then the payment dates\n",
    "    [date(2020, 1, 1), \n",
    "     date(2020, 4, 1), \n",
    "     date(2020, 7, 1), \n",
    "     date(2020, 10, 1),\n",
    "     date(2021, 1, 1)],\n",
    "    # the fixed rate, 2.5%\n",
    "    0.025\n",
    ")"
   ]
  },
  {
   "cell_type": "markdown",
   "metadata": {},
   "source": [
    "We can now use the curve we have prepared at the beginning of the lesson and that we stored in a variable called curve to check if the class is working by evaluating the NPV of the OIS."
   ]
  },
  {
   "cell_type": "code",
   "execution_count": null,
   "metadata": {},
   "outputs": [],
   "source": [
    "ois.npv(curve)"
   ]
  },
  {
   "cell_type": "markdown",
   "metadata": {},
   "source": [
    "## Bootstrapping\n",
    "\n",
    "Now we're going to look at how extract a discount curve from OIS market data, via a process called *bootstrapping*. This is the ABC of financial mathematics, since you almost always need a discount curve to price any contract, especially if you're interested in its NPV. We're going to concentrate on EONIA swaps in order to build an EUR discount curve.\n",
    "\n",
    "### Getting the data\n",
    "\n",
    "The first problem is actually getting the data (swap market quotes) from somewhere, and this is not actually as simple as it sounds.\n",
    "\n",
    "The issue is that the EONIA swap market is Over The Counter (OTC) and it's not straightforward to access it. Unlike (some) listed futures, where anyone with a retail brokerage account can view and apply realtime prices, to trade in the EONIA swap market you have to be a financial institution or at least a large company and have an agreement with a broker which operates in the market. One of the main brokers in the OIS market is ICAP.\n",
    "\n",
    "Though there exist some electronic platform in which market participants post bids and offers and other participants can apply them, in practice a lot of trading is still done over \"voice\", i.e. by phone or more commonly over chat. For convenience, however, Bloomberg provides a service which displays indicative realtime rates as provided by a selection of relevant brokers.\n",
    "(*n.b. interest rate swap quotes vary from standard price quotes of commonly traded instruments, they can appear puzzling because the quotes are effectively interest rates*)\n",
    "\n",
    "![](icap_3.png)\n",
    "\n",
    "As part of our Quants duties we have set up an Excel spreadsheet which acquires this data from Bloomberg in realtime. From this spreadsheet, it's easy to export the data into a Python file - I have done this and saved the data in a file (`ois_data.py`). \n",
    "\n",
    "We now use this dataset to derive a discount curve, let's check how it looks like:"
   ]
  },
  {
   "cell_type": "code",
   "execution_count": null,
   "metadata": {},
   "outputs": [],
   "source": [
    "import ois_data\n",
    "print (type(ois_data.quotes))"
   ]
  },
  {
   "cell_type": "code",
   "execution_count": null,
   "metadata": {},
   "outputs": [],
   "source": [
    "ois_data.quotes[0]"
   ]
  },
  {
   "cell_type": "code",
   "execution_count": null,
   "metadata": {},
   "outputs": [],
   "source": [
    "ois_data.quotes[-1]"
   ]
  },
  {
   "cell_type": "code",
   "execution_count": null,
   "metadata": {},
   "outputs": [],
   "source": [
    "ois_data.observation_date"
   ]
  },
  {
   "cell_type": "markdown",
   "metadata": {},
   "source": [
    "### Building OIS instances\n",
    "\n",
    "Let's say we want to build a 15 months swap instance, we have to use data contained in `ois_data` file:"
   ]
  },
  {
   "cell_type": "code",
   "execution_count": null,
   "metadata": {},
   "outputs": [],
   "source": [
    "# first check the 15 months rate\n",
    "ois_data.quotes[12]"
   ]
  },
  {
   "cell_type": "markdown",
   "metadata": {},
   "source": [
    "We can build the swap instance like this:\n",
    "\n",
    "```python\n",
    "ois = OvernightIndexSwap(1e6,\n",
    "                         [date(2019, 10, 23), \n",
    "                          date(2020, 10, 23), \n",
    "                          date(2020, 1, 23)],                        \n",
    "                         ois_data.quotes[12]['rate']*0.01 \n",
    "                        )\n",
    "# print the last payment date (15 months after obs date)\n",
    "ois.payment_dates[-1]\n",
    "```\n",
    "\n",
    "Clearly to use the `npv` method to calculate the OIS' NPV we need a \n",
    "discount curve with which to evaluate it and here comes to hand the\n",
    "bootstrapping technique !"
   ]
  },
  {
   "cell_type": "markdown",
   "metadata": {},
   "source": [
    "### Exercise 5.1\n",
    "\n",
    "Today and in the next lessons we're going to build lots of `OvernightIndexSwap` objects, \n",
    "one for each market quote we have (market quotes, as we have seen, consist of fixed strikes for 1M, 2M, 3M, ..., 12M, 15M, 18M, 2Y, 3Y, ..., 30Y and 40Y swaps).\n",
    "\n",
    "It would be very boring to write a long list of payment dates for each one of these, plus they'd need to be updated every day. Write a function which given a start date and the number of months, returns a list of dates of **annual** frequency starting from the start date and ending after the specified number of months.\n",
    "\n",
    "For example\n",
    "\n",
    "2019-11-10 start date 12 months $\\rightarrow$ 2019-11-10, 2020-11-10 <br>\n",
    "2019-11-10 start date 24 months $\\rightarrow$ 2019-11-10, 2020-11-10, 2021-11-10 <br>\n",
    "\n",
    "Note that if the number of months is not a multiple of 12, the last period should simply be shorter than 12 months.\n",
    "For example\n",
    "\n",
    "2019-11-10 start date 9 months $\\rightarrow$ 2019-11-10, 2020-08-10 <br>\n",
    "2019-11-10 start date 15 months $\\rightarrow$ 2019-11-10, 2020-11-10, 2021-02-10 <br>\n",
    "\n",
    "![](time_flow.png)\n",
    "\n",
    "\n",
    "Here's some skeleton code to help you get started:\n",
    "```python\n",
    "from dateutil import relativedelta\n",
    "\n",
    "def generate_swap_dates(start_date, n_months):\n",
    "    dates = []\n",
    "    # your code here which adds all the relevant dates to the dates list\n",
    "    return dates\n",
    "```\n",
    "\n",
    "```python\n",
    "# some tests to check if the function is working correctly\n",
    "from datetime import date\n",
    "\n",
    "assert generate_swap_dates(date(2019, 11, 10), 12) == [date(2019, 11, 10), \n",
    "                                                       date(2020, 11, 10)]\n",
    "assert generate_swap_dates(date(2019, 11, 10), 24) == [date(2019, 11, 10), \n",
    "                                                       date(2020, 11, 10), \n",
    "                                                       date(2021, 11, 10)]\n",
    "\n",
    "assert generate_swap_dates(date(2019, 11, 10), 9) == [date(2019, 11, 10), \n",
    "                                                      date(2020, 8, 10)]\n",
    "assert generate_swap_dates(date(2019, 11, 10), 15) == [date(2019, 11, 10), \n",
    "                                                       date(2020, 11, 10), \n",
    "                                                       date(2021, 2, 10)]\n",
    "```\n"
   ]
  },
  {
   "cell_type": "markdown",
   "metadata": {},
   "source": [
    "### The Bootstrapping Technique\n",
    "\n",
    "In the next we are going to somehow reverse what we have previously done (i.e. we determined the OIS's NPV given a certain discount curve). \n",
    "\n",
    "The general idea here is to get the discount curve such that it prices correctly each OIS, or at least as well as possible, by minimizing the sum of the square NPVs:\n",
    "\n",
    "$$\\mathrm{min}_{curve} \\Big\\{\\sum_{i=1}^{n}\\mathrm{NPV}(\\mathrm{ois}_i, \\mathrm{curve})^2\\Big\\}$$\n",
    "\n",
    "A discount curve is characterized by pillar dates and the corresponding discount factors. The description of the problem we have given above does not, in theory, specifies any constraint on the pillar dates of the discount curve. However, the pillar dates determine the number of unknown variables (i.e. the dimensionality $n$ of the optimization problem). A curve with $n$ pillar dates has $n$ discount factors (note that the first discount factor with value date equal to the today date, is constrained to 1).\n",
    "**In practice, therefore, it makes sense to choose the pillar dates in such a way that there are exactly the right number of degrees of freedom in the optimization to match data.** So the natural choice is to choose the pillar dates of the discount curve equal to the set of expiry dates of the swaps. \n",
    "\n",
    "The reason for this is that each market quote will determine exactly one *free* discount factor which is not already determined by the other market quotes - this can be seen by considering the mathematical expression for calculating the fixed leg of the OIS swaps ($f_{\\mathrm{fix},~i}=N\\cdot K\\cdot D(d_i)\\cdot\\frac{d_i - d_{i-1}}{360}$), and the way that the payment date schedules are constructed.\n",
    "Therefore, once we've fixed $\\vec{d}$ to be a vector of pillar dates equal to the expiry dates of the OIS swaps, and we use the notation $\\vec{x}$ to represent the vector of pillar discount factors, then the problem becomes:\n",
    "\n",
    "$$\\mathrm{min}_{\\vec{x}} \\Big\\{\\sum_{i=1}^{n}\\mathrm{NPV}(\\mathrm{ois}_i, \\mathrm{curve(\\vec{d}, \\vec{x})})^2\\Big\\}$$\n",
    "\n",
    "In practice this is an optmization problem (**to find the minimum of the above expression as a function of $\\vec{x}$**) so we can just use one of the available numerical optimization routines.\n",
    "\n",
    "So let's start by defining a set of OIS objects to cover all the maturities defined by the market data we have collected in the `ois_data.py` file."
   ]
  },
  {
   "cell_type": "code",
   "execution_count": null,
   "metadata": {},
   "outputs": [],
   "source": [
    "from finmarkets import DiscountCurve, generate_swap_dates\n",
    "import ois_data_eric as ois_data\n",
    "\n",
    "pillar_dates = [ois_data.observation_date]\n",
    "\n",
    "swaps = [] # container of the OIS objects\n",
    "\n",
    "for quote in ois_data.quotes:\n",
    "    swap = OvernightIndexSwap(\n",
    "        # notional - doesn't really matter what we put here\n",
    "        1e6,\n",
    "        \n",
    "        # payment dates\n",
    "        generate_swap_dates(\n",
    "            ois_data.observation_date,\n",
    "            quote['months']\n",
    "        ),\n",
    "        \n",
    "        # the fixed rate (in the file is expressed in percent)\n",
    "        0.01 * quote['rate']\n",
    "    )\n",
    "    swaps.append(swap)\n",
    "    pillar_dates.append(swap.payment_dates[-1])\n",
    "    \n",
    "pillar_dates = sorted(pillar_dates)\n",
    "n_df_vector = len(pillar_dates)"
   ]
  },
  {
   "cell_type": "code",
   "execution_count": null,
   "metadata": {},
   "outputs": [],
   "source": [
    "type(pillar_dates), len(pillar_dates), pillar_dates[0], pillar_dates[-1]"
   ]
  },
  {
   "cell_type": "markdown",
   "metadata": {},
   "source": [
    "#### How Does the Minimization Algorithm Work ?\n",
    "\n",
    "* Define an *objective function* i.e. the function that is actually minimized to reach our goal. In our case we want to find the discount curve which minimize the sum of the squared NPVs (swap quotes are considered their fair-values);\n",
    "\n",
    "* set the intial value of the unknown parameters and their range of variability. We will set all the discount factors to 1 with a range of $[0.01, 100]$ (of course the first element of the list, today's discount factor will be set constant to 1);\n",
    "\n",
    "* the *minimizer* will compute the objective function value;\n",
    "\n",
    "* then will move the parameter values in such a way to find a smaller value of the objective function (e.g. *following* the derivative w.r.t. each parameter);\n",
    "\n",
    "* the last two steps will be repeated until further variations of the x values won't change significantly the objective function (i.e. we have found a minimum of the function so the minimization process is completed !).\n"
   ]
  },
  {
   "cell_type": "code",
   "execution_count": null,
   "metadata": {},
   "outputs": [],
   "source": [
    "def objective_function(x):\n",
    "    \n",
    "    curve = DiscountCurve(       \n",
    "        ois_data.observation_date,\n",
    "        pillar_dates,\n",
    "        x\n",
    "    )\n",
    "    \n",
    "    sum_sq = 0.0\n",
    "    \n",
    "    for swap in swaps:\n",
    "        sum_sq += swap.npv(curve) ** 2\n",
    "        \n",
    "    return sum_sq"
   ]
  },
  {
   "cell_type": "markdown",
   "metadata": {},
   "source": [
    "To optimize our $\\vec{x}$ we can use the ```minimize``` algorithm defined in ```scipy.optimize```."
   ]
  },
  {
   "cell_type": "code",
   "execution_count": null,
   "metadata": {},
   "outputs": [],
   "source": [
    "from scipy.optimize import minimize\n",
    "\n",
    "# initialize to 1 the x vector (random choice)\n",
    "x0 = [1.0 for i in range(n_df_vector)] \n",
    "\n",
    "# set wide constraints on the discount factors\n",
    "# in the minimization problem the value of each x_i\n",
    "# will be bound between these limits\n",
    "bounds = [(0.01, 100.0) for i in range(n_df_vector)] \n",
    "\n",
    "# in addition we have an additional constraint:\n",
    "# we want the first pillar to be 1 (fixed)\n",
    "# (because it has pillar date = today)\n",
    "bounds[0] = (1.0, 1.0)\n",
    "\n",
    "# finally we run the minimization\n",
    "result = minimize(objective_function, x0, bounds=bounds)\n"
   ]
  },
  {
   "cell_type": "markdown",
   "metadata": {},
   "source": [
    "Let's look at some diagnostic plots to check if the minimization was successful:\n",
    "\n",
    "![Objective function value as a function of discount factor $x_{1}$](obj_func.png)\n",
    "\n",
    "![Value of objective function at each iteration](obj_func_iter.png)"
   ]
  },
  {
   "cell_type": "code",
   "execution_count": null,
   "metadata": {},
   "outputs": [],
   "source": [
    "# print the diagnostic of the minimization problem\n",
    "result"
   ]
  },
  {
   "cell_type": "code",
   "execution_count": null,
   "metadata": {},
   "outputs": [],
   "source": [
    "# objective function value with starting point parameters\n",
    "objective_function(x0) "
   ]
  },
  {
   "cell_type": "code",
   "execution_count": null,
   "metadata": {},
   "outputs": [],
   "source": [
    "# objective function value with final values\n",
    "objective_function(result.x) "
   ]
  },
  {
   "cell_type": "code",
   "execution_count": null,
   "metadata": {},
   "outputs": [],
   "source": [
    "# define the discount curve object using the \n",
    "# resulting discount factors (result.x)\n",
    "curve = DiscountCurve(ois_data.observation_date, pillar_dates, result.x)\n",
    "\n",
    "from datetime import date\n",
    "curve.df(date(2059, 11, 23))"
   ]
  },
  {
   "cell_type": "code",
   "execution_count": null,
   "metadata": {},
   "outputs": [],
   "source": [
    "# 50 years rate \n",
    "import math\n",
    "-math.log(curve.df(date(2059, 11, 23))) / 50"
   ]
  },
  {
   "cell_type": "code",
   "execution_count": null,
   "metadata": {},
   "outputs": [],
   "source": [
    "list(result.x)"
   ]
  },
  {
   "cell_type": "code",
   "execution_count": null,
   "metadata": {},
   "outputs": [],
   "source": [
    "pillar_dates"
   ]
  },
  {
   "cell_type": "markdown",
   "metadata": {},
   "source": [
    "## Exercises\n",
    "\n",
    "### Exercise 5.2\n",
    "\n",
    "Take the ```OvernightIndexSwap``` class from the lesson and add a new method called fair_value_strike which takes a discount curve object and returns the fixed rate which would make the OIS have zero NPV.\n",
    "\n",
    "*Hints*:\n",
    "* first take the formulas for the NPV of the fixed leg and the NPV of the floating leg, put one equal to the other and solve for $K$;\n",
    "* then implement that in Python.\n",
    "\n",
    "### Exercise 5.3\n",
    "\n",
    "Take the ```OvernightIndexSwap``` class, add it to ```finmarkets.py``` and try importing and using it."
   ]
  }
 ],
 "metadata": {
  "kernelspec": {
   "display_name": "Python 3",
   "language": "python",
   "name": "python3"
  },
  "language_info": {
   "codemirror_mode": {
    "name": "ipython",
    "version": 3
   },
   "file_extension": ".py",
   "mimetype": "text/x-python",
   "name": "python",
   "nbconvert_exporter": "python",
   "pygments_lexer": "ipython3",
   "version": "3.7.5rc1"
  }
 },
 "nbformat": 4,
 "nbformat_minor": 2
}
