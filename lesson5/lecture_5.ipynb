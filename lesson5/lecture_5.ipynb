{
 "cells": [
  {
   "cell_type": "markdown",
   "metadata": {},
   "source": [
    "# Swaps and Modules - Practical Lesson 5\n",
    "\n",
    "## Recap\n",
    "\n",
    "* basic Python (mostly not related directly to finance)\n",
    "* how to implement a discount factor interpolation function\n",
    "* qrapping up functionality in classes in order to work with multiple data sets more easily\n",
    "* libor forward rate calculator\n",
    "\n",
    "## Today's lesson\n",
    "\n",
    "We're going to look at:\n",
    "\n",
    "* modules, and start building up our library of finance-related functionality\n",
    "* implementing an Overnight Index Swap class for calculating the NPV of an OIS.\n",
    "\n",
    "# Modules\n",
    "\n",
    "An interactive session (e.g notebook or interactive shell) is great for quick testing and exploratory use, but once you have some code (i.e. functions or classes) which you'd like to reuse often, rather than copy/pasting it every time you need it, you can save it in a .py file and use it from your session (aka you can create your own library).\n",
    "\n",
    "These work just like the modules we have been importing up to now, except they're written by us! Take a look at this video (https://www.youtube.com/watch?v=AqCl65wxikw) for an example of how it's done for Jupyter notebook.\n",
    "\n",
    "We're going to start writing a module called **finmarkets**, and over the course of the remaining lessons we'll add functionality related to the theory lessons.\n",
    "\n",
    "So first of all let's create a new file called finmarkets.py and copy into it the ```DiscountCurve``` class we wrote last time."
   ]
  },
  {
   "cell_type": "code",
   "execution_count": 1,
   "metadata": {},
   "outputs": [
    {
     "data": {
      "text/plain": [
       "0.9558151167629666"
      ]
     },
     "execution_count": 1,
     "metadata": {},
     "output_type": "execute_result"
    }
   ],
   "source": [
    "from datetime import date\n",
    "from finmarkets import DiscountCurve\n",
    "\n",
    "curve = DiscountCurve(date(2019, 1, 1),\n",
    "                      [date(2019, 1, 1), \n",
    "                       date(2019, 6, 1), \n",
    "                       date(2020, 1, 1)],\n",
    "                      [1.0, 0.98, 0.82])\n",
    "curve.df(date(2019, 7, 1))"
   ]
  },
  {
   "cell_type": "markdown",
   "metadata": {},
   "source": [
    "We will use this discount curve later in this lesson.\n",
    "\n",
    "# Overnight Index Swap\n",
    "\n",
    "Overnight Index Swap (OIS) are products which pay a floating coupon, determined by overnight rate fixings over the reference periods, against a fixed coupon. We will always look at these products from the point of view of the **receiver of the floating leg**.\n",
    "Therefore an OIS is defined by:\n",
    "\n",
    "* a notional amount $N$\n",
    "* a start date $d_0$\n",
    "* a sequence of payment dates $d_1,...,d_n$\n",
    "* a fixed rate $K$\n",
    "\n",
    "For simplicity we're assuming that the fixed and floating legs have the same notional and payment dates, although this is not necessarily always the case in practice.\n",
    "\n",
    "At each payment date, the floating leg pays a cash flow determined as follows:\n",
    "\n",
    "$$f_{\\mathrm{float},~i} = N \\Bigg\\{\\prod_{d=d_{i-1}}^{d=d_i-1}\\Big(1+r_{o/n}(d)\\cdot\\frac{1}{360}\\Big) -1 \\Bigg\\}$$\n",
    "\n",
    "(This formula is valid for an EONIA swap, i.e. for OIS swaps in EUR, other currencies might have different conventions. The $\\frac{1}{360}$ fraction appears because EONIA rates are quoted using the ACT/360 daycount convention and here we're making a simplifying assumption of ignoring weekends and holidays, so we assume that each overnight rate is valid for only one day.)\n",
    "\n",
    "The sum of the discounted expected values of these cashflows is\n",
    "\n",
    "$$\\mathrm{NPV}_{\\mathrm{float}} = \\sum_{i=1}^{n}D(d_i)\\mathbb{E}[f_{\\mathrm{float},~i}]$$\n",
    "\n",
    "where $D(d)$ is the discount factor with expiry $d$. On the other hand, by definition (remember practical lesson 4 with forward rates), we also have the following relationship\n",
    "\n",
    "$$\\mathbb{E}[f_{\\mathrm{float},~i}] = N\\cdot\\Big(\\frac{D_{ois}(d_{i-1})}{D_{ois}(d_{i})} - 1\\Big) $$\n",
    "\n",
    "where $D_{ois}(d)$ is the discount factor implied by OIS prices.\n",
    "\n",
    "In a previous theory lesson we mentioned that the correct curve to use for discounting the flows of a collateralized contract is the one associated with the collateral. Since OIS contracts are collateralized with cash, and cash accrues daily interes at the overnight rate, the OIS curve is itself the correct curve with which to discount the flows of an OIS contract !\n",
    "\n",
    "In summary, $D = D_{ois}$ so the NPV simplifies to \n",
    "\n",
    "$$\\mathrm{NPV}_{\\mathrm{float}} = N\\cdot\\sum_{i=1}^{n}[D(d_{i-1}) - D(d_i)] = N \\cdot [D(d_0) - D(d_n)]$$\n",
    "\n",
    "Each cash flow of the fixed leg is equal to \n",
    "\n",
    "$$f_{\\mathrm{fix},~i}=N\\cdot K\\cdot \\frac{d_i - d_{i-1}}{360}$$\n",
    "\n",
    "so the NPV of the fixed leg is\n",
    "\n",
    "$$\\mathrm{NPV}_{\\mathrm{fix}} = N\\cdot K\\cdot \\sum_{i=1}^{n}D(d_{i})\\frac{d_i - d_{i-1}}{360}$$\n",
    "\n",
    "Ultimately the aim will be to take a series of OIS quotations, and determine the discount factors implied by their prices. To do this we'll build a pricing function (or rather a class), which takes discount curve as the input and produces the net present value (NPV) of the OIS as the output. Next lesson we'll put this function inside a numerical optimizer to invert the process and hence to determine the implied discount factors from the prices."
   ]
  },
  {
   "cell_type": "code",
   "execution_count": 2,
   "metadata": {},
   "outputs": [],
   "source": [
    "class OvernightIndexSwap(object):\n",
    "\n",
    "    # this method is called to build the instance,\n",
    "    # we take some data arguments and save them as\n",
    "    # attributes of self \n",
    "    # n.b.: payment_dates should be a list of dates,\n",
    "    # including the start date as the first element\n",
    "    def __init__(self, notional, payment_dates, fixed_rate):\n",
    "        self.notional = notional\n",
    "        self.payment_dates = payment_dates\n",
    "        self.fixed_rate = fixed_rate\n",
    "        \n",
    "    # this method takes a discount curve and calculates\n",
    "    # the NPV of the floating leg using that curve\n",
    "    def npv_floating_leg(self, discount_curve):\n",
    "        # self.payment_date s[0] is the start date of the swap\n",
    "        # self.payment_date s[‐1] is the last payment date of the swap\n",
    "        return self.notional * (discount_curve.df(self.payment_dates[0]) - \n",
    "                                discount_curve.df(self.payment_dates[-1]))\n",
    "    \n",
    "    # this method takes a discount curve and calculates the NPV\n",
    "    # of the fixed leg using that curve\n",
    "    def npv_fixed_leg(self, discount_curve):\n",
    "        npv = 0\n",
    "        # we loop from i=1 up to but not including the length of the date list\n",
    "        for i in range(1, len(self.payment_dates)): \n",
    "            # we can do i‐1, because the loop starts with i=1\n",
    "            start_date = self.payment_dates[i-1] \n",
    "            end_date = self.payment_dates[i]\n",
    "            tau = (end_date - start_date).days / 360\n",
    "            df = discount_curve.df(end_date)\n",
    "            npv = npv + df * tau\n",
    "            return self.notional * self.fixed_rate * npv\n",
    "    \n",
    "    # this method calculates the NPV of the OIS swap\n",
    "    # n.b.: inside this method we call the other two \n",
    "    # methods of the class on the same instance 'self',\n",
    "    # using self.npv_XXX_leg(...), and we pass the \n",
    "    # discount_curve we received as an argument\n",
    "    def npv(self, discount_curve):\n",
    "        float_npv = self.npv_floating_leg(discount_curve)\n",
    "        fixed_npv = self.npv_fixed_leg(discount_curve)\n",
    "        return float_npv - fixed_npv"
   ]
  },
  {
   "cell_type": "code",
   "execution_count": 3,
   "metadata": {},
   "outputs": [],
   "source": [
    "from datetime import date\n",
    "\n",
    "ois = OvernightIndexSwap(\n",
    "    # the notional, one million\n",
    "    1e6,\n",
    "    # the list of product dates, \n",
    "    # i.e. the start date then the payment dates\n",
    "    [date(2019, 1, 1), \n",
    "     date(2019, 4, 1), \n",
    "     date(2019, 7, 1), \n",
    "     date(2019, 10, 1),\n",
    "     date(2020, 1, 1)],\n",
    "    # the fixed rate, 2.5%\n",
    "    0.025\n",
    ")"
   ]
  },
  {
   "cell_type": "markdown",
   "metadata": {},
   "source": [
    "We can now use the curve we have prepared at the beginning of the lesson and that we stored in a variable called curve. Let's now evaluate the NPV of the OIS."
   ]
  },
  {
   "cell_type": "code",
   "execution_count": 4,
   "metadata": {},
   "outputs": [
    {
     "data": {
      "text/plain": [
       "173824.80713628858"
      ]
     },
     "execution_count": 4,
     "metadata": {},
     "output_type": "execute_result"
    }
   ],
   "source": [
    "ois.npv(curve)"
   ]
  },
  {
   "cell_type": "markdown",
   "metadata": {},
   "source": [
    "## Exercises\n",
    "\n",
    "### Exercise 5.1\n",
    "\n",
    "Take the ```OvernightIndexSwap``` class from the lesson and add a new method called fair_value_strike which takes a discount curve object and returns the fixed rate which would make the OIS have zero NPV.\n",
    "\n",
    "*Hints*:\n",
    "* first take the formulas for the NPV of the fixed leg and the NPV of the floating leg, put one equal to the other and solve for $K$;\n",
    "* then implement that in Python.\n",
    "\n",
    "### Exercise 5.2\n",
    "\n",
    "Take the ```OvernightIndexSwap``` class, add it to ```finmarkets.py``` and try importing and using it.\n",
    "\n",
    "### Exercise 5.3\n",
    "\n",
    "In the next lesson we're going to build lots of ```OvernightIndexSwap``` objects, one for each market quote we have. The market quotes will consist of fixed strikes for 1M, 2M, 3M, ..., 12M, 15M, 18M, 2Y, 3Y, ..., 30Y and 40Y swaps.\n",
    "\n",
    "It would be very boring to write a long list of payment dates for each one of these, plus they'd need to be updated every day. Write a function which given a start date and the number of months, returns a list of dates of **annual** frequency starting from the start date and ending after the specified number of months.\n",
    "\n",
    "For example\n",
    "\n",
    "2016-11-17 start date 12 months $\\rightarrow$ 2016-11-17, 2017-11-17 <br>\n",
    "2016-11-17 start date 24 months $\\rightarrow$ 2016-11-17, 2017-11-17, 2018-11-17 <br>\n",
    "\n",
    "Note that if the number of months is not a multiple of 12, the last period should simply be shorter than 12 months.\n",
    "For example\n",
    "\n",
    "2016-11-17 start date 9 months $\\rightarrow$ 2016-11-17, 2017-08-17 <br>\n",
    "2016-11-17 start date 15 months $\\rightarrow$ 2016-11-17, 2017-11-17, 2018-02-17 <br>\n",
    "\n",
    "Here's some skeleton code to help you get started:\n",
    "```python\n",
    "from dateutil import relativedelta\n",
    "\n",
    "def generate_swap_dates(start_date, n_months):\n",
    "    dates = []\n",
    "    # your code here which adds all the relevant dates to the dates list\n",
    "    return dates\n",
    "```\n",
    "\n",
    "```python\n",
    "# some tests to check if the function is working correctly\n",
    "from datetime import date\n",
    "\n",
    "assert generate_swap_dates(date(2016, 11, 17), 12) == [date(2016, 11, 17), \n",
    "                                                       date(2017, 11, 17)]\n",
    "assert generate_swap_dates(date(2016, 11, 17), 24) == [date(2016, 11, 17), \n",
    "                                                       date(2017, 11, 17), \n",
    "                                                       date(2018, 11, 17)]\n",
    "\n",
    "assert generate_swap_dates(date(2016, 11, 17), 9) == [date(2016, 11, 17), \n",
    "                                                      date(2017, 8, 17)]\n",
    "assert generate_swap_dates(date(2016, 11, 17), 15) == [date(2016, 11, 17), \n",
    "                                                       date(2017, 11, 17), \n",
    "                                                       date(2018, 2, 17)]\n",
    "```\n"
   ]
  }
 ],
 "metadata": {
  "kernelspec": {
   "display_name": "Python 3",
   "language": "python",
   "name": "python3"
  },
  "language_info": {
   "codemirror_mode": {
    "name": "ipython",
    "version": 3
   },
   "file_extension": ".py",
   "mimetype": "text/x-python",
   "name": "python",
   "nbconvert_exporter": "python",
   "pygments_lexer": "ipython3",
   "version": "3.7.3"
  }
 },
 "nbformat": 4,
 "nbformat_minor": 2
}
