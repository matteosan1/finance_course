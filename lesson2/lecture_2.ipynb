{
 "cells": [
  {
   "cell_type": "markdown",
   "metadata": {},
   "source": [
    "# Introduction to Python - Lesson 2\n",
    "\n",
    "## Recap\n",
    "\n",
    "In the last lesson the basic concept of Python programming have been looked at\n",
    "\n",
    "* ```print``` statements and variables\n",
    "* mathematical expressions\n",
    "  * first import of a module (```math```)\n",
    "* boolean expressions\n",
    "* string expressions\n",
    "* indentation, ```if/elif/else``` blocks and loops\n",
    "* lists\n",
    "* dictionaries\n",
    "\n",
    "## Overview\n",
    "\n",
    "This time we will look at:\n",
    "\n",
    "* tuples\n",
    "* dates\n",
    "* functions and modules (how to write your own module)\n",
    "* few exercises for next week\n",
    "\n",
    "## Tuples\n",
    "\n",
    "Tuples create a bit of confusion for beginners because they are very similar to lists but they have some subtle conceptual differences. Nonetheless, tuples do appear when programming in Python so it's important to know about them.\n",
    "\n",
    "![At first glance list and tuples look very similar, but they are not...](Difference-Between-List-and-Tuple-fig-1-2.jpg)\n",
    "\n",
    "Like lists, tuples are containers of any type of object. Unlike lists though they are *immutable* which means that once they have been created the content cannot be changed (i.e. no append, insert or delete of the elements). Furthermore since they are immutable they can be used as dictionary keys (lists cannot)."
   ]
  },
  {
   "cell_type": "code",
   "execution_count": null,
   "metadata": {},
   "outputs": [],
   "source": [
    "atuple = (1, 2, 3)\n",
    "atuple"
   ]
  },
  {
   "cell_type": "code",
   "execution_count": null,
   "metadata": {},
   "outputs": [],
   "source": [
    "print (\"Length: {}\".format(len(atuple)))\n",
    "print (\"First element: {}\".format(atuple[0]))\n",
    "print (\"Last element: {}\".format(atuple[-1]))"
   ]
  },
  {
   "cell_type": "code",
   "execution_count": null,
   "metadata": {},
   "outputs": [],
   "source": [
    "x, y, z = (10, 5, 12) # this is called unpacking and it's another \n",
    "                      # way to access tuple elements\n",
    "print (\"coord: x={} y={} z={}\".format(x, y, z))"
   ]
  },
  {
   "cell_type": "code",
   "execution_count": null,
   "metadata": {},
   "outputs": [],
   "source": [
    "tuple2 = (1,) # this is tricky, don't forget the comma otherwise \n",
    "              # it won't be a tuple\n",
    "print(type(tuple2))\n",
    "tuple2 = (1)\n",
    "print(type(tuple2))"
   ]
  },
  {
   "cell_type": "code",
   "execution_count": null,
   "metadata": {},
   "outputs": [],
   "source": [
    "tuple1 = (1, 2, 3)\n",
    "tuple2 = tuple1 + (4, 5) # to add elements you need to create a new tuple\n",
    "tuple2 "
   ]
  },
  {
   "cell_type": "code",
   "execution_count": null,
   "metadata": {},
   "outputs": [],
   "source": [
    "# as said they can be used as dictionary keys\n",
    "d = {\n",
    "('Finance', 1): 'Room 8',\n",
    "('Finance', 2): 'Room 3',\n",
    "('Math', 1): 'Room 6',\n",
    "('Programming', 1): 'IT room'\n",
    "}\n",
    "d"
   ]
  },
  {
   "cell_type": "markdown",
   "metadata": {},
   "source": [
    "## Dates\n",
    "\n",
    "Dates are not usually included in a standard beginner Python tutorial, however since they are pretty essential for finance we are going to cover this topic.\n",
    "In Python the standard date class lives in the ```datetime``` module. We are also going to import ```relativedelta``` from the ```dateutil``` module, which allows us to add/subtract days/months/years to dates."
   ]
  },
  {
   "cell_type": "code",
   "execution_count": null,
   "metadata": {},
   "outputs": [],
   "source": [
    "from datetime import date\n",
    "from dateutil.relativedelta import relativedelta"
   ]
  },
  {
   "cell_type": "code",
   "execution_count": null,
   "metadata": {},
   "outputs": [],
   "source": [
    "date.today()"
   ]
  },
  {
   "cell_type": "code",
   "execution_count": null,
   "metadata": {},
   "outputs": [],
   "source": [
    "date.today() + relativedelta(months=2)"
   ]
  },
  {
   "cell_type": "code",
   "execution_count": null,
   "metadata": {},
   "outputs": [],
   "source": [
    "date.today() - relativedelta(days=3)"
   ]
  },
  {
   "cell_type": "code",
   "execution_count": null,
   "metadata": {},
   "outputs": [],
   "source": [
    "one_day = relativedelta(days=1)\n",
    "date.today() - 3 * one_day"
   ]
  },
  {
   "cell_type": "code",
   "execution_count": null,
   "metadata": {},
   "outputs": [],
   "source": [
    "date1 = date(2019, 7, 2)\n",
    "date2 = date(2019, 8, 16)\n",
    "(date2 - date1).days"
   ]
  },
  {
   "cell_type": "code",
   "execution_count": null,
   "metadata": {},
   "outputs": [],
   "source": [
    "print (type(date1))\n",
    "print (date1)\n",
    "date1 = str(date1) # converts (or 'cast') a date to a string\n",
    "print (date1)\n",
    "print (type(date1))"
   ]
  },
  {
   "cell_type": "code",
   "execution_count": null,
   "metadata": {},
   "outputs": [],
   "source": [
    "date1 = date(2019, 7, 2)\n",
    "date1.strftime(\"%Y-%b-%d (%a)\") # dates can formatted in many ways\n",
    "                                # check the docs for more details"
   ]
  },
  {
   "cell_type": "code",
   "execution_count": null,
   "metadata": {},
   "outputs": [],
   "source": [
    "# a string can be convered to dates too\n",
    "from datetime import datetime\n",
    "datetime.strptime('25 Aug 2019', \"%d %b %Y\").date()"
   ]
  },
  {
   "cell_type": "code",
   "execution_count": null,
   "metadata": {},
   "outputs": [],
   "source": [
    "date1.weekday() # 0 = monday, ..., 6 = sunday"
   ]
  },
  {
   "cell_type": "markdown",
   "metadata": {},
   "source": [
    "### Exercise 2.1\n",
    "\n",
    "Write code in the notebook to:\n",
    "\n",
    "* print the day of the week of your birthday\n",
    "* print the weekday of your birthdays for the next 120 years\n",
    "\n",
    "(expected output: \n",
    "Sun\n",
    "1 Mon\n",
    "2 Sun\n",
    "...\n",
    "119 Thu\n",
    "120 Sun)"
   ]
  },
  {
   "cell_type": "markdown",
   "metadata": {},
   "source": [
    "## Functions\n",
    "\n",
    "A function is a block of organized, reusable code that is used to perform a single action. Functions provide better modularity for your application and high degree of code reusing."
   ]
  },
  {
   "cell_type": "code",
   "execution_count": null,
   "metadata": {},
   "outputs": [],
   "source": [
    "# sum up all the integers between 1 and n \n",
    "def my_function(n): # this function take one input only (n)\n",
    "    x = 0\n",
    "    for i in range(1, n+1):\n",
    "        x += i\n",
    "    return x # the function returns a number"
   ]
  },
  {
   "cell_type": "code",
   "execution_count": null,
   "metadata": {},
   "outputs": [],
   "source": [
    "my_function(5) # 5 + 4 + 3 + 2 + 1"
   ]
  },
  {
   "cell_type": "markdown",
   "metadata": {},
   "source": [
    "To be clear functions can return any kind of objects (numbers, strings, lists, complex objects...) but it is not mandatory, so you can write a function **without** a ```return``` statement.\n",
    "\n",
    "```python \n",
    "def printing(mystring):\n",
    "    print (myString)\n",
    "```\n",
    "\n",
    "In addition the syntax of the ```return``` is different from ```Visual Basic```, the returned object doesn't have to have the same name as the function."
   ]
  },
  {
   "cell_type": "code",
   "execution_count": null,
   "metadata": {},
   "outputs": [],
   "source": [
    "def my_function_2(n, x): \n",
    "    return \"The result is : {}\".format(str(my_function(n)*x))\n",
    "# returns x * result of my_function(n)\n",
    "# so function of function"
   ]
  },
  {
   "cell_type": "code",
   "execution_count": null,
   "metadata": {},
   "outputs": [],
   "source": [
    "my_function_2(5, 10)"
   ]
  },
  {
   "cell_type": "markdown",
   "metadata": {},
   "source": [
    "Functions can also call themselves too (i.e *recursion*). In the next example we write a function that computes the factorial exploiting the following relationship:\n",
    "\n",
    "$$ \\begin{split}n! = n \\times (n-1)! & \\;\\; (\\forall n \\gt 1) \\\\\n",
    "    n! = 1 & \\;\\; (\\forall n \\le 1)\n",
    "    \\end{split}\n",
    "$$\n"
   ]
  },
  {
   "cell_type": "code",
   "execution_count": null,
   "metadata": {},
   "outputs": [],
   "source": [
    "def factorial(n):\n",
    "    if n <= 1:\n",
    "        return 1\n",
    "    else:\n",
    "        return n * factorial(n-1)"
   ]
  },
  {
   "cell_type": "code",
   "execution_count": null,
   "metadata": {},
   "outputs": [],
   "source": [
    "factorial(10)"
   ]
  },
  {
   "cell_type": "markdown",
   "metadata": {},
   "source": [
    "Functions can accept and return any values and arguments can have default values."
   ]
  },
  {
   "cell_type": "code",
   "execution_count": null,
   "metadata": {},
   "outputs": [],
   "source": [
    "def powers(xs, n = 2, c = 0):\n",
    "    return {x: x**n+c for x in xs}"
   ]
  },
  {
   "cell_type": "code",
   "execution_count": null,
   "metadata": {},
   "outputs": [],
   "source": [
    "powers([5, 11, 6]) # calling powers like this results in 25, 121 and 36\n",
    "                   # since n = 2 and c = 0 by default if not specified"
   ]
  },
  {
   "cell_type": "markdown",
   "metadata": {},
   "source": [
    "A nice feature of Pyhton functions is that we can associate an help message to them so that we can easily check what a function is for by simply asking \n",
    "\n",
    "```python\n",
    "help(function_name)\n",
    "```"
   ]
  },
  {
   "cell_type": "code",
   "execution_count": null,
   "metadata": {},
   "outputs": [],
   "source": [
    "def powers(xs, n=2, c=0):\n",
    "    ''' a shifted power function example in lesson 2\n",
    "    \n",
    "    x ** n + c\n",
    "    \n",
    "    '''\n",
    "    return {x: x ** n + c for x in xs}"
   ]
  },
  {
   "cell_type": "code",
   "execution_count": null,
   "metadata": {},
   "outputs": [],
   "source": [
    "help(powers)"
   ]
  },
  {
   "cell_type": "markdown",
   "metadata": {},
   "source": [
    "## Advanced - Variable scope\n",
    "\n",
    "Not all variables are accessible from all parts of our program, and not all variables exist for the same amount of time. We call the part of a program where a variable is accessible its scope.\n",
    "\n",
    "A variable which is defined in the main body of a file is called a global variable. It will be visible throughout the file, and also inside any file which imports that file. Global variables can have unintended consequences because of their wide-ranging effects – that is why we should almost never use them (usually they are represented by an uppercase name). Only objects which are intended to be used globally, like functions and classes, should be put in the global namespace.\n",
    "\n",
    "Global variables can be accessed directly inside a function but cannot be modified. To modify them you have to use the keyword ```global```:"
   ]
  },
  {
   "cell_type": "code",
   "execution_count": null,
   "metadata": {},
   "outputs": [],
   "source": [
    "AGLOBALPARAM = 10\n",
    "\n",
    "# Here you just use AGLOBALPARAM value, but do not modify it\n",
    "# param is just a copy of AGLOBALPARAM\n",
    "def multiplyParam(param): \n",
    "    param = param * 10\n",
    "    return (param)\n",
    "\n",
    "# Here you actually use AGLOBALPARAM\n",
    "# you modify it directly\n",
    "def divideParam():\n",
    "    global AGLOBALPARAM\n",
    "    AGLOBALPARAM = AGLOBALPARAM / 10\n",
    "    return (AGLOBALPARAM)\n",
    "    \n",
    "# Here you try to use AGLOBALPARAM but gives you an error\n",
    "# it is not accessible !\n",
    "def sumParam():\n",
    "    AGLOBALPARAM = AGLOBALPARAM + 10\n",
    "    return (AGLOBALPARAM + x)\n",
    "\n",
    "print (\"AGLOBALPARAM is {} to start.\".format(AGLOBALPARAM))\n",
    "print (\"Let's multiply it by 10.\")\n",
    "multiplyParam(AGLOBALPARAM)\n",
    "print (\"AGLOBALPARAM is still {}\".format(AGLOBALPARAM))\n",
    "print (\"Let's divide it by 10\")\n",
    "divideParam()\n",
    "print (\"Now AGLOBALPARAM is {}\".format(AGLOBALPARAM))\n",
    "print (\"Let's sum it to 10\")\n",
    "sumParam()"
   ]
  },
  {
   "cell_type": "markdown",
   "metadata": {},
   "source": [
    "A variable which is defined inside a function is local to that function. It is accessible from the point at which it is defined until the end of the function (e.g. the parameter names in the function definition behave like local variables)."
   ]
  },
  {
   "cell_type": "code",
   "execution_count": null,
   "metadata": {},
   "outputs": [],
   "source": [
    "# functions are not evaluated if not called\n",
    "def test_scope(max_val):\n",
    "    for i in range(max_val):\n",
    "        print (i)\n",
    "    print (\"max_val in 'test_scope' function is {}\".format(max_val))\n",
    "    \n",
    "# the Python interpreter starts evaluating the code from here    \n",
    "max_val = 10\n",
    "test_scope(5)\n",
    "print (\"max_val in global scope is {}\".format(max_val))\n",
    "print (i)"
   ]
  },
  {
   "cell_type": "markdown",
   "metadata": {},
   "source": [
    "## Exercises for next week\n",
    "\n",
    "### Exercise 2.2\n",
    "\n",
    "Write code which, given the following list\n",
    "```python\n",
    "input_list = [3, 5, 2, 1, 13, 5, 5, 1, 3, 4]\n",
    "```\n",
    "prints out the indices of every occurrence of \n",
    "```python \n",
    "y = 5\n",
    "```\n",
    "\n",
    "### Exercise 2.3\n",
    "\n",
    "Given the following variables\n",
    "```python\n",
    "S_t = 800.0 # spot price of the underlying<br>\n",
    "K = 600.0   # strike price<br>\n",
    "vol = 0.25  # volatility<br>\n",
    "r = 0.01    # interest rate<br>\n",
    "ttm = 0.5   # time to maturity, in years<br>\n",
    "```\n",
    "write out the Black Scholes formula and save the value of a call in a variable named 'call_price' and the value of a put in a variable named 'put_price'\n",
    "\n",
    "### Exercise 2.4\n",
    "\n",
    "Given the following dictionary mapping currencies to 2‐year zero coupon bond prices, build another dictionary mapping the same currencies to the corresponding annualized interest rates.\n",
    "```python\n",
    "d = {\n",
    "'EUR': 0.98,\n",
    "'CHF': 1.005,\n",
    "'USD': 0.985,\n",
    "'GBP': 0.97\n",
    "}\n",
    "```\n",
    "\n",
    "### Exercise 2.5\n",
    "\n",
    "Build again dates as in Exercise 2.1 (i.e. the weekday of your birthdays for the next 120 years) and count how many of your birthdays is a Monday, Tuesday, ... , Sunday until 120 years of age. Print out the result using a dictionary. (expected output somenthing like:\n",
    "```python\n",
    "{6: 10, 0: 10, 2: 9, 3: 10, 4: 10, 5: 10, 1: 9}\n",
    "```)"
   ]
  }
 ],
 "metadata": {
  "kernelspec": {
   "display_name": "Python 3",
   "language": "python",
   "name": "python3"
  },
  "language_info": {
   "codemirror_mode": {
    "name": "ipython",
    "version": 3
   },
   "file_extension": ".py",
   "mimetype": "text/x-python",
   "name": "python",
   "nbconvert_exporter": "python",
   "pygments_lexer": "ipython3",
   "version": "3.7.3"
  }
 },
 "nbformat": 4,
 "nbformat_minor": 2
}
