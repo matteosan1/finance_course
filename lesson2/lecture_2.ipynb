{
 "cells": [
  {
   "cell_type": "markdown",
   "metadata": {},
   "source": [
    "# Introduction to $\\tt{python}$ - Lesson 2\n",
    "\n",
    "Let's do a break and cover an unusual topic.\n",
    "\n",
    "## Dates\n",
    "\n",
    "Dates are not usually included in a standard `python` tutorial, however since they are pretty essential for finance we are going to cover this topic.\n",
    "In `python` the standard date class lives in the `datetime` module. We are also going to import `relativedelta` from the `dateutil` module, which allows us to add/subtract days/months/years to dates."
   ]
  },
  {
   "cell_type": "code",
   "execution_count": null,
   "metadata": {},
   "outputs": [],
   "source": [
    "# take a date and add/substract "
   ]
  },
  {
   "cell_type": "code",
   "execution_count": null,
   "metadata": {},
   "outputs": [],
   "source": [
    "# save relativedelta in variable and use it now"
   ]
  },
  {
   "cell_type": "code",
   "execution_count": null,
   "metadata": {},
   "outputs": [],
   "source": [
    "# time difference between two dates"
   ]
  },
  {
   "cell_type": "code",
   "execution_count": null,
   "metadata": {},
   "outputs": [],
   "source": [
    "# string to date strptime"
   ]
  },
  {
   "cell_type": "code",
   "execution_count": null,
   "metadata": {},
   "outputs": [],
   "source": [
    "# date to string strftime"
   ]
  },
  {
   "cell_type": "markdown",
   "metadata": {},
   "source": [
    "## Functions\n",
    "\n",
    "A function is a block of organized, reusable code that is used to perform a single action. Functions provide better modularity for your application and high degree of code reusing."
   ]
  },
  {
   "cell_type": "code",
   "execution_count": null,
   "metadata": {},
   "outputs": [],
   "source": [
    "# function to sum up all the integers between 1 and n "
   ]
  },
  {
   "cell_type": "code",
   "execution_count": null,
   "metadata": {},
   "outputs": [],
   "source": [
    "# call the function"
   ]
  },
  {
   "cell_type": "markdown",
   "metadata": {},
   "source": [
    "To be clear functions can return any kind of objects (numbers, strings, lists, complex objects...) but it is not mandatory, so you can write a function **without** a ```return``` statement.\n",
    "\n",
    "```python \n",
    "def printing(mystring):\n",
    "    print (myString)\n",
    "```\n",
    "\n",
    "In addition the syntax of the ```return``` is different from ```Visual Basic```, the returned object doesn't have to have the same name as the function.\n",
    "\n",
    "```python\n",
    "def myfunction(x):\n",
    "    myfunction = x + 10\n",
    "    return myfunction\n",
    "```"
   ]
  },
  {
   "cell_type": "code",
   "execution_count": null,
   "metadata": {},
   "outputs": [],
   "source": [
    "# function of function"
   ]
  },
  {
   "cell_type": "code",
   "execution_count": null,
   "metadata": {},
   "outputs": [],
   "source": [
    "# call function of function"
   ]
  },
  {
   "cell_type": "markdown",
   "metadata": {},
   "source": [
    "Functions can accept and return any values and arguments can have default values."
   ]
  },
  {
   "cell_type": "code",
   "execution_count": null,
   "metadata": {},
   "outputs": [],
   "source": [
    "# function with default values"
   ]
  },
  {
   "cell_type": "code",
   "execution_count": null,
   "metadata": {},
   "outputs": [],
   "source": [
    "# calling using defaults\n",
    "# calling using params"
   ]
  },
  {
   "cell_type": "code",
   "execution_count": null,
   "metadata": {},
   "outputs": [],
   "source": [
    "# call function with named arguments"
   ]
  },
  {
   "cell_type": "markdown",
   "metadata": {},
   "source": [
    "A nice feature of Pyhton functions is that we can associate an help message to them so that we can easily check what a function is for by simply asking \n",
    "\n",
    "```python\n",
    "help(function_name)\n",
    "```"
   ]
  },
  {
   "cell_type": "code",
   "execution_count": null,
   "metadata": {},
   "outputs": [],
   "source": [
    "# write help to a function and test it"
   ]
  },
  {
   "cell_type": "markdown",
   "metadata": {},
   "source": [
    "### Workflow of a $\\tt{python}$ program"
   ]
  },
  {
   "cell_type": "markdown",
   "metadata": {},
   "source": [
    "## Variable scope\n",
    "\n",
    "Not all variables are accessible from all parts of our program, and not all variables exist for the same amount of time. We call the part of a program where a variable is accessible its scope.\n",
    "\n",
    "A variable which is defined in the main body of a file is called a global variable. It will be visible throughout the file, and also inside any file which imports that file. Global variables can have unintended consequences because of their wide-ranging effects – that is why we should almost never use them (usually they are represented by an uppercase name to be clearly visible). Only objects which are intended to be used globally, like functions and classes, should be put in the global namespace.\n",
    "\n",
    "Global variables can be accessed directly inside a function but cannot be modified. To modify them you have to use the keyword ```global```:"
   ]
  },
  {
   "cell_type": "code",
   "execution_count": null,
   "metadata": {},
   "outputs": [],
   "source": [
    "AGLOBALPARAM = 10\n",
    "\n",
    "# Here you just use AGLOBALPARAM value, but do not modify it\n",
    "# param is just a copy of AGLOBALPARAM\n",
    "def multiplyParam(param): \n",
    "    param = param * 10\n",
    "    return (param)\n",
    "\n",
    "# Here you actually use AGLOBALPARAM\n",
    "# you modify it directly\n",
    "def divideParam():\n",
    "    global AGLOBALPARAM\n",
    "    AGLOBALPARAM = AGLOBALPARAM / 10\n",
    "    return (AGLOBALPARAM)\n",
    "    \n",
    "# Here you try to use AGLOBALPARAM but gives you an error\n",
    "# it is not accessible !\n",
    "def sumParam():\n",
    "    AGLOBALPARAM = AGLOBALPARAM + 10\n",
    "    return (AGLOBALPARAM + x)\n",
    "\n",
    "print (\"AGLOBALPARAM is {} to start.\".format(AGLOBALPARAM))\n",
    "print (\"Let's multiply it by 10.\")\n",
    "multiplyParam(AGLOBALPARAM)\n",
    "print (\"AGLOBALPARAM is still {}\".format(AGLOBALPARAM))\n",
    "print (\"Let's divide it by 10\")\n",
    "divideParam()\n",
    "print (\"Now AGLOBALPARAM is {}\".format(AGLOBALPARAM))\n",
    "print (\"Let's sum it to 10\")\n",
    "sumParam()"
   ]
  },
  {
   "cell_type": "markdown",
   "metadata": {},
   "source": [
    "A variable which is defined inside a function is local to that function. It is accessible from the point at which it is defined until the end of the function (e.g. the parameter names in the function definition behave like local variables)."
   ]
  },
  {
   "cell_type": "code",
   "execution_count": 1,
   "metadata": {},
   "outputs": [
    {
     "name": "stdout",
     "output_type": "stream",
     "text": [
      "0\n",
      "1\n",
      "2\n",
      "3\n",
      "4\n",
      "max_val in 'test_scope' function is 5\n",
      "max_val in global scope is 10\n"
     ]
    },
    {
     "ename": "NameError",
     "evalue": "name 'i' is not defined",
     "output_type": "error",
     "traceback": [
      "\u001b[0;31m---------------------------------------------------------------------------\u001b[0m",
      "\u001b[0;31mNameError\u001b[0m                                 Traceback (most recent call last)",
      "\u001b[0;32m<ipython-input-1-c9542c86aee5>\u001b[0m in \u001b[0;36m<module>\u001b[0;34m\u001b[0m\n\u001b[1;32m      9\u001b[0m \u001b[0mtest_scope\u001b[0m\u001b[0;34m(\u001b[0m\u001b[0;36m5\u001b[0m\u001b[0;34m)\u001b[0m\u001b[0;34m\u001b[0m\u001b[0m\n\u001b[1;32m     10\u001b[0m \u001b[0mprint\u001b[0m \u001b[0;34m(\u001b[0m\u001b[0;34m\"max_val in global scope is {}\"\u001b[0m\u001b[0;34m.\u001b[0m\u001b[0mformat\u001b[0m\u001b[0;34m(\u001b[0m\u001b[0mmax_val\u001b[0m\u001b[0;34m)\u001b[0m\u001b[0;34m)\u001b[0m\u001b[0;34m\u001b[0m\u001b[0m\n\u001b[0;32m---> 11\u001b[0;31m \u001b[0mprint\u001b[0m \u001b[0;34m(\u001b[0m\u001b[0mi\u001b[0m\u001b[0;34m)\u001b[0m\u001b[0;34m\u001b[0m\u001b[0m\n\u001b[0m",
      "\u001b[0;31mNameError\u001b[0m: name 'i' is not defined"
     ]
    }
   ],
   "source": [
    "# functions with local variable with some name of a global one\n",
    "# print local variable outside"
   ]
  },
  {
   "cell_type": "markdown",
   "metadata": {},
   "source": [
    "## Classes\n",
    "\n",
    "Classes are a key ingredient of *Object Oriented Programming* (OOP) and their concept is implemented in every modern language like `python`, `java`, `C++`.\n",
    "OOP is a programming model in which programs are organized around data, or objects, rather than functions and logic. \n",
    "\n",
    "In this framework classes are a mean for creating objects (a particular data structure), providing initial values for state (member variables or attributes), and implementations of behavior (member functions or methods).\n",
    "\n",
    "Following this paradigm **an object can be defined as a dataset with unique attributes and behaviour** (examples can range from physical entities, such as a human being, down to abstract concepts as a discount curve). \n",
    "\n",
    "Let's summarize here some terminology:\n",
    "\n",
    "* a class is a collection of related functions, and these are called the *methods* of the class;\n",
    "* methods act on *instances* of the class;\n",
    "* an *instance* is basically a collection of related data;\n",
    "* each data item has a name, and those names are called the *attributes* of the class.\n",
    "\n",
    "**Essentially classes are collections of functions that operate on a dataset, and instances of that class represent specific datasets.**\n",
    "\n",
    "![Graphical representation of a class instance.](classes_instances.png)\n",
    "\n",
    "Class methods are like normal functions except they always take the instance `self` as the first argument. The `self` argument is very important since it allows a method to use its class attributes.\n",
    "\n",
    "Methods fall into two categories:\n",
    "\n",
    "* normal methods which use or modify the instance attributes;\n",
    "* special methods, which define the class behaviour: you can spot these because they start and end with two underscores (__).\n",
    "\n",
    "There are lots of other things you can do with classes, but this is enough for now.\n",
    "Let's take a look at an example:"
   ]
  },
  {
   "cell_type": "code",
   "execution_count": null,
   "metadata": {},
   "outputs": [],
   "source": [
    "# put here needed module import\n",
    "\n",
    "# this is the class definition\n",
    "# usually classes use camel naming convention\n",
    "    \n",
    "    # the special method __init__ allows to instanciate a class\n",
    "    # with an initial dataset \n",
    "\n",
    "        # attribute of the class\n",
    "        # var and self.var are different variables !!!\n",
    "        # var will be destroyed once __init__ is processed\n",
    "        # self.var lives as long as each instance of the class\n",
    "         \n",
    "                \n",
    "    # this is a normal method and will work on some class attribute"
   ]
  },
  {
   "cell_type": "code",
   "execution_count": null,
   "metadata": {},
   "outputs": [],
   "source": [
    "# here we instanciate (create an instance of) the class \n",
    "# in other words we \"specialize\" a generic Object to some concrete date\n",
    "\n",
    "# print type"
   ]
  },
  {
   "cell_type": "markdown",
   "metadata": {},
   "source": [
    "`__init__` is the simplest example of special methods, it is called every time a class is instanciated (e.g. when you write me = Person(...)) and initializes the attributes of the class."
   ]
  },
  {
   "cell_type": "code",
   "execution_count": null,
   "metadata": {},
   "outputs": [],
   "source": [
    "# to access class attributes or methods you have to use ."
   ]
  },
  {
   "cell_type": "code",
   "execution_count": null,
   "metadata": {},
   "outputs": [],
   "source": [
    "# calling methods"
   ]
  },
  {
   "cell_type": "code",
   "execution_count": null,
   "metadata": {},
   "outputs": [],
   "source": [
    "# extend a class\n",
    "\n",
    "    # methods in a class are just functions which can work\n",
    "    # with the class attributes"
   ]
  },
  {
   "cell_type": "code",
   "execution_count": null,
   "metadata": {},
   "outputs": [],
   "source": [
    "# another instance to test the new method"
   ]
  }
 ],
 "metadata": {
  "kernelspec": {
   "display_name": "Python 3",
   "language": "python",
   "name": "python3"
  },
  "language_info": {
   "codemirror_mode": {
    "name": "ipython",
    "version": 3
   },
   "file_extension": ".py",
   "mimetype": "text/x-python",
   "name": "python",
   "nbconvert_exporter": "python",
   "pygments_lexer": "ipython3",
   "version": "3.6.3"
  }
 },
 "nbformat": 4,
 "nbformat_minor": 2
}
