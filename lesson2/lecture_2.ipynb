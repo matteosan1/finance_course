{
 "cells": [
  {
   "cell_type": "markdown",
   "metadata": {},
   "source": [
    "# Introduction to Python - Lesson 2\n"
   ]
  },
  {
   "cell_type": "markdown",
   "metadata": {},
   "source": [
    "## Functions\n",
    "\n",
    "A function is a block of organized, reusable code that is used to perform a single action. Functions provide better modularity for your application and high degree of code reusing."
   ]
  },
  {
   "cell_type": "code",
   "execution_count": null,
   "metadata": {},
   "outputs": [],
   "source": [
    "# sum up all the integers between 1 and n \n",
    "def my_function(n): # this function take one input only (n)\n",
    "    x = 0\n",
    "    for i in range(1, n+1):\n",
    "        x += i\n",
    "    return x # the function returns a number"
   ]
  },
  {
   "cell_type": "code",
   "execution_count": null,
   "metadata": {},
   "outputs": [],
   "source": [
    "my_function(5) # 5 + 4 + 3 + 2 + 1"
   ]
  },
  {
   "cell_type": "markdown",
   "metadata": {},
   "source": [
    "To be clear functions can return any kind of objects (numbers, strings, lists, complex objects...) but it is not mandatory, so you can write a function **without** a ```return``` statement.\n",
    "\n",
    "```python \n",
    "def printing(mystring):\n",
    "    print (myString)\n",
    "```\n",
    "\n",
    "In addition the syntax of the ```return``` is different from ```Visual Basic```, the returned object doesn't have to have the same name as the function."
   ]
  },
  {
   "cell_type": "code",
   "execution_count": null,
   "metadata": {},
   "outputs": [],
   "source": [
    "def my_function_2(n, x): \n",
    "    return \"The result is : {}\".format(str(my_function(n)*x))\n",
    "# returns x * result of my_function(n)\n",
    "# so function of function"
   ]
  },
  {
   "cell_type": "code",
   "execution_count": null,
   "metadata": {},
   "outputs": [],
   "source": [
    "my_function_2(5, 10)"
   ]
  },
  {
   "cell_type": "markdown",
   "metadata": {},
   "source": [
    "Functions can also call themselves too (i.e *recursion*). In the next example we write a function that computes the factorial exploiting the following relationship:\n",
    "\n",
    "$$ \\begin{split}n! = n \\times (n-1)! & \\;\\; (\\forall n \\gt 1) \\\\\n",
    "    n! = 1 & \\;\\; (\\forall n \\le 1)\n",
    "    \\end{split}\n",
    "$$\n"
   ]
  },
  {
   "cell_type": "code",
   "execution_count": null,
   "metadata": {},
   "outputs": [],
   "source": [
    "def factorial(n):\n",
    "    if n <= 1:\n",
    "        return 1\n",
    "    else:\n",
    "        return n * factorial(n-1)"
   ]
  },
  {
   "cell_type": "code",
   "execution_count": null,
   "metadata": {},
   "outputs": [],
   "source": [
    "factorial(10)"
   ]
  },
  {
   "cell_type": "markdown",
   "metadata": {},
   "source": [
    "Functions can accept and return any values and arguments can have default values."
   ]
  },
  {
   "cell_type": "code",
   "execution_count": null,
   "metadata": {},
   "outputs": [],
   "source": [
    "def powers(xs, n = 2, c = 0):\n",
    "    return {x: x**n+c for x in xs}"
   ]
  },
  {
   "cell_type": "code",
   "execution_count": null,
   "metadata": {},
   "outputs": [],
   "source": [
    "powers([5, 11, 6]) # calling powers like this results in 25, 121 and 36\n",
    "                   # since n = 2 and c = 0 by default if not specified"
   ]
  },
  {
   "cell_type": "markdown",
   "metadata": {},
   "source": [
    "A nice feature of Pyhton functions is that we can associate an help message to them so that we can easily check what a function is for by simply asking \n",
    "\n",
    "```python\n",
    "help(function_name)\n",
    "```"
   ]
  },
  {
   "cell_type": "code",
   "execution_count": null,
   "metadata": {},
   "outputs": [],
   "source": [
    "def powers(xs, n=2, c=0):\n",
    "    ''' a shifted power function example in lesson 2\n",
    "    \n",
    "    x ** n + c\n",
    "    \n",
    "    '''\n",
    "    return {x: x ** n + c for x in xs}"
   ]
  },
  {
   "cell_type": "code",
   "execution_count": null,
   "metadata": {},
   "outputs": [],
   "source": [
    "help(powers)"
   ]
  },
  {
   "cell_type": "markdown",
   "metadata": {},
   "source": [
    "### Workflow of a $\\tt{python}$ program"
   ]
  },
  {
   "cell_type": "markdown",
   "metadata": {},
   "source": [
    "## Advanced - Variable scope\n",
    "\n",
    "Not all variables are accessible from all parts of our program, and not all variables exist for the same amount of time. We call the part of a program where a variable is accessible its scope.\n",
    "\n",
    "A variable which is defined in the main body of a file is called a global variable. It will be visible throughout the file, and also inside any file which imports that file. Global variables can have unintended consequences because of their wide-ranging effects – that is why we should almost never use them (usually they are represented by an uppercase name). Only objects which are intended to be used globally, like functions and classes, should be put in the global namespace.\n",
    "\n",
    "Global variables can be accessed directly inside a function but cannot be modified. To modify them you have to use the keyword ```global```:"
   ]
  },
  {
   "cell_type": "code",
   "execution_count": null,
   "metadata": {},
   "outputs": [],
   "source": [
    "AGLOBALPARAM = 10\n",
    "\n",
    "# Here you just use AGLOBALPARAM value, but do not modify it\n",
    "# param is just a copy of AGLOBALPARAM\n",
    "def multiplyParam(param): \n",
    "    param = param * 10\n",
    "    return (param)\n",
    "\n",
    "# Here you actually use AGLOBALPARAM\n",
    "# you modify it directly\n",
    "def divideParam():\n",
    "    global AGLOBALPARAM\n",
    "    AGLOBALPARAM = AGLOBALPARAM / 10\n",
    "    return (AGLOBALPARAM)\n",
    "    \n",
    "# Here you try to use AGLOBALPARAM but gives you an error\n",
    "# it is not accessible !\n",
    "def sumParam():\n",
    "    AGLOBALPARAM = AGLOBALPARAM + 10\n",
    "    return (AGLOBALPARAM + x)\n",
    "\n",
    "print (\"AGLOBALPARAM is {} to start.\".format(AGLOBALPARAM))\n",
    "print (\"Let's multiply it by 10.\")\n",
    "multiplyParam(AGLOBALPARAM)\n",
    "print (\"AGLOBALPARAM is still {}\".format(AGLOBALPARAM))\n",
    "print (\"Let's divide it by 10\")\n",
    "divideParam()\n",
    "print (\"Now AGLOBALPARAM is {}\".format(AGLOBALPARAM))\n",
    "print (\"Let's sum it to 10\")\n",
    "sumParam()"
   ]
  },
  {
   "cell_type": "markdown",
   "metadata": {},
   "source": [
    "A variable which is defined inside a function is local to that function. It is accessible from the point at which it is defined until the end of the function (e.g. the parameter names in the function definition behave like local variables)."
   ]
  },
  {
   "cell_type": "code",
   "execution_count": null,
   "metadata": {},
   "outputs": [],
   "source": [
    "# functions are not evaluated if not called\n",
    "def test_scope(max_val):\n",
    "    for i in range(max_val):\n",
    "        print (i)\n",
    "    print (\"max_val in 'test_scope' function is {}\".format(max_val))\n",
    "    \n",
    "# the Python interpreter starts evaluating the code from here    \n",
    "max_val = 10\n",
    "test_scope(5)\n",
    "print (\"max_val in global scope is {}\".format(max_val))\n",
    "print (i)"
   ]
  },
  {
   "cell_type": "markdown",
   "metadata": {},
   "source": [
    "## Exercises for next week\n",
    "\n",
    "### Exercise 2.2\n",
    "\n",
    "Write code which, given the following list\n",
    "```python\n",
    "input_list = [3, 5, 2, 1, 13, 5, 5, 1, 3, 4]\n",
    "```\n",
    "prints out the indices of every occurrence of \n",
    "```python \n",
    "y = 5\n",
    "```\n",
    "\n",
    "### Exercise 2.3\n",
    "\n",
    "Given the following variables\n",
    "```python\n",
    "S_t = 800.0 # spot price of the underlying<br>\n",
    "K = 600.0   # strike price<br>\n",
    "vol = 0.25  # volatility<br>\n",
    "r = 0.01    # interest rate<br>\n",
    "ttm = 0.5   # time to maturity, in years<br>\n",
    "```\n",
    "write out the Black Scholes formula and save the value of a call in a variable named 'call_price' and the value of a put in a variable named 'put_price'\n",
    "\n",
    "### Exercise 2.4\n",
    "\n",
    "Given the following dictionary mapping currencies to 2‐year zero coupon bond prices, build another dictionary mapping the same currencies to the corresponding annualized interest rates.\n",
    "```python\n",
    "d = {\n",
    "'EUR': 0.98,\n",
    "'CHF': 1.005,\n",
    "'USD': 0.985,\n",
    "'GBP': 0.97\n",
    "}\n",
    "```\n",
    "\n",
    "### Exercise 2.5\n",
    "\n",
    "Build again dates as in Exercise 2.1 (i.e. the weekday of your birthdays for the next 120 years) and count how many of your birthdays is a Monday, Tuesday, ... , Sunday until 120 years of age. Print out the result using a dictionary. (expected output somenthing like:\n",
    "```python\n",
    "{6: 10, 0: 10, 2: 9, 3: 10, 4: 10, 5: 10, 1: 9}\n",
    "```)"
   ]
  },
  {
   "cell_type": "markdown",
   "metadata": {},
   "source": [
    "## Dates\n",
    "\n",
    "Dates are not usually included in a standard `python` tutorial, however since they are pretty essential for finance we are going to cover this topic.\n",
    "In `python` the standard date class lives in the `datetime` module. We are also going to import `relativedelta` from the `dateutil` module, which allows us to add/subtract days/months/years to dates."
   ]
  },
  {
   "cell_type": "code",
   "execution_count": null,
   "metadata": {},
   "outputs": [],
   "source": [
    "from datetime import date, datetime\n",
    "from dateutil.relativedelta import relativedelta\n",
    "\n",
    "date1 = date.today()\n",
    "print (date1)\n",
    "date2 = date.today() + relativedelta(months=2)\n",
    "print (date2)\n",
    "date3 = date.today() - relativedelta(days=3)\n",
    "print (date3)"
   ]
  },
  {
   "cell_type": "code",
   "execution_count": null,
   "metadata": {},
   "outputs": [],
   "source": [
    "one_day = relativedelta(days=1)\n",
    "date.today() - 3 * one_day"
   ]
  },
  {
   "cell_type": "code",
   "execution_count": null,
   "metadata": {},
   "outputs": [],
   "source": [
    "date1 = date(2019, 7, 2)\n",
    "date2 = date(2019, 8, 16)\n",
    "(date2 - date1).days"
   ]
  },
  {
   "cell_type": "code",
   "execution_count": null,
   "metadata": {},
   "outputs": [],
   "source": [
    "date1 = date(2019, 7, 2)\n",
    "date1.strftime(\"%Y-%b-%d (%a)\") # dates can formatted in many ways\n",
    "                                # check the docs for more details"
   ]
  },
  {
   "cell_type": "code",
   "execution_count": null,
   "metadata": {},
   "outputs": [],
   "source": [
    "# a string can be convered to dates too\n",
    "datetime.strptime('25 Aug 2019', \"%d %b %Y\").date()"
   ]
  },
  {
   "cell_type": "code",
   "execution_count": null,
   "metadata": {},
   "outputs": [],
   "source": [
    "date1.weekday() # 0 = monday, ..., 6 = sunday"
   ]
  },
  {
   "cell_type": "markdown",
   "metadata": {},
   "source": [
    "## Classes\n",
    "\n",
    "Classes are a key ingredient of *Object Oriented Programming* (OOP) and their concept is implemented in many languages like `Python`, `Java`, `C++`.\n",
    "OOP is a programming model in which programs are organized around data, or objects, rather than functions and logic. **An object can be defined as a dataset with unique attributes and behaviour** (examples can range from physical entities, such as a human being that is described by properties like name and birthday, down to abstract concepts as a discount curve). This opposes the historical approach to programming where emphasis was placed on how the logic was written rather than how to define the data within the logic.\n",
    "In this framework classes are a mean for creating objects (a particular data structure), providing initial values for state (member variables or attributes), and implementations of behavior (member functions or methods).\n",
    "\n",
    "Let's summarize here some terminology:\n",
    "\n",
    "* a class is a collection of related functions, and these are called the *methods* of the class;\n",
    "* methods act on *instances* of the class;\n",
    "* an *instance* is basically a collection of related data;\n",
    "* each data item has a name, and those names are called the *attributes* of the class.\n",
    "\n",
    "**Essentially classes are collections of functions that operate on a dataset, and instances of that class represent individual datasets (or in othre words a specialization of that class).**\n",
    "\n",
    "![Graphical representation of a class instance.](classes_instances.png)\n",
    "\n",
    "Class methods always take the instance `self` as the first argument, and fall into two categories:\n",
    "\n",
    "* normal methods which use or modify the instance attributes;\n",
    "* special methods, which define the class behaviour: you can spot these because they start and end with two underscores (__).\n",
    "\n",
    "The `self` argument is very important since it allows a method to use its class attributes.\n",
    "\n",
    "There are lots of other things you can do with classes, but this is enough for now.\n",
    "Let's take a look at an example:"
   ]
  },
  {
   "cell_type": "code",
   "execution_count": null,
   "metadata": {},
   "outputs": [],
   "source": [
    "from datetime import date\n",
    "\n",
    "# this is the class definition\n",
    "# usually classes use camel naming convention\n",
    "class Person:\n",
    "    \n",
    "    # the special method __init__ allows to instanciate a class\n",
    "    # with an initial dataset (in this example a name and a birthday)\n",
    "    def __init__(self, name, date_of_birth):\n",
    "        # attribute of the class Person\n",
    "        # name and self.name are different variable !!!\n",
    "        # name will be destroyed once __init__ is processed\n",
    "        # self.name lives with every particualar instance of Person\n",
    "        self.name = name \n",
    "        # attribute of the class Person\n",
    "        self.date_of_birth = date_of_birth \n",
    "        \n",
    "    # this normal method computes the current age of the\n",
    "    # \"instanciated\" person\n",
    "    def age(self):\n",
    "        today = date.today()\n",
    "        age = today.year - self.date_of_birth.year\n",
    "        if today.month < self.date_of_birth.month or \\\n",
    "            today.day < self.date_of_birth.day:\n",
    "            age -= 1\n",
    "        return age"
   ]
  },
  {
   "cell_type": "code",
   "execution_count": null,
   "metadata": {},
   "outputs": [],
   "source": [
    "# here we instanciate (create an instance of) the class \n",
    "# in other words we \"specialize\" a generic Person with some data\n",
    "\n",
    "me = Person(\"Matteo\", date(1974, 10, 20))\n",
    "print (type(me))"
   ]
  },
  {
   "cell_type": "markdown",
   "metadata": {},
   "source": [
    "`__init__` is the simplest example of special methods, it is called every time a class is instanciated (e.g. when you write me = Person(...)) and initializes the attributes of the class."
   ]
  },
  {
   "cell_type": "code",
   "execution_count": null,
   "metadata": {},
   "outputs": [],
   "source": [
    "# to access class attributes you have to use .\n",
    "me.name"
   ]
  },
  {
   "cell_type": "code",
   "execution_count": null,
   "metadata": {},
   "outputs": [],
   "source": [
    "me.date_of_birth"
   ]
  },
  {
   "cell_type": "code",
   "execution_count": null,
   "metadata": {},
   "outputs": [],
   "source": [
    "# to call a class method you have to use . \n",
    "# passing the parameters if needed\n",
    "me.age()"
   ]
  },
  {
   "cell_type": "code",
   "execution_count": null,
   "metadata": {},
   "outputs": [],
   "source": [
    "from datetime import date\n",
    "\n",
    "# let's add a new method to print in a nicer form \n",
    "# the age of the person\n",
    "class Person:\n",
    "    \n",
    "    def __init__(self, name, date_of_birth):\n",
    "        self.name = name\n",
    "        self.date_of_birth = date_of_birth\n",
    "    \n",
    "    def age(self):\n",
    "        today = date.today()\n",
    "        age = today.year - self.date_of_birth.year\n",
    "        if today.month < self.date_of_birth.month or \\\n",
    "            today.day < self.date_of_birth.day:\n",
    "            age -= 1\n",
    "        return age\n",
    "  \n",
    "    # methods in a class are just functions which can work\n",
    "    # with the class attributes\n",
    "    # Remember I told you functions can have no return ?\n",
    "    def print_age(self):\n",
    "        print (\"{} is {} years old right now\"\\\n",
    "               .format(self.name, self.age()))"
   ]
  },
  {
   "cell_type": "code",
   "execution_count": null,
   "metadata": {},
   "outputs": [],
   "source": [
    "her = Person(\"Francesca\", date(1986, 1, 27))"
   ]
  },
  {
   "cell_type": "code",
   "execution_count": null,
   "metadata": {},
   "outputs": [],
   "source": [
    "her.print_age()"
   ]
  }
 ],
 "metadata": {
  "kernelspec": {
   "display_name": "Python 3",
   "language": "python",
   "name": "python3"
  },
  "language_info": {
   "codemirror_mode": {
    "name": "ipython",
    "version": 3
   },
   "file_extension": ".py",
   "mimetype": "text/x-python",
   "name": "python",
   "nbconvert_exporter": "python",
   "pygments_lexer": "ipython3",
   "version": "3.6.3"
  }
 },
 "nbformat": 4,
 "nbformat_minor": 2
}
