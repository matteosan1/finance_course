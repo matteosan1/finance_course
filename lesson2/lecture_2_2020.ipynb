{
 "cells": [
  {
   "cell_type": "markdown",
   "metadata": {},
   "source": [
    "# Introduction to $\\tt{python}$ - Lesson 2"
   ]
  },
  {
   "cell_type": "markdown",
   "metadata": {},
   "source": [
    "## Variable scope\n",
    "\n",
    "Not all variables are accessible from all parts of our program, and not all variables exist for the same amount of time. We call the part of a program where a variable is accessible its scope.\n",
    "\n",
    "A variable which is defined in the main body of a file is called a global variable. It will be visible throughout the file, and also inside any file which imports that file. Global variables can have unintended consequences because of their wide-ranging effects – that is why we should almost never use them (usually they are represented by an uppercase name to be clearly visible). Only objects which are intended to be used globally, like functions and classes, should be put in the global namespace.\n",
    "\n",
    "Global variables can be accessed directly inside a function but cannot be modified. To modify them you have to use the keyword ```global```:"
   ]
  },
  {
   "cell_type": "code",
   "execution_count": null,
   "metadata": {},
   "outputs": [],
   "source": [
    "AGLOBALPARAM = 10\n",
    "\n",
    "# Here you just use AGLOBALPARAM value, but do not modify it\n",
    "# param is just a copy of AGLOBALPARAM\n",
    "def multiplyParam(param): \n",
    "    param = param * 10\n",
    "    return (param)\n",
    "\n",
    "# Here you actually use AGLOBALPARAM\n",
    "# you modify it directly\n",
    "def divideParam():\n",
    "    global AGLOBALPARAM\n",
    "    AGLOBALPARAM = AGLOBALPARAM / 10\n",
    "    return (AGLOBALPARAM)\n",
    "    \n",
    "# Here you try to use AGLOBALPARAM but gives you an error\n",
    "# it is not accessible !\n",
    "def sumParam():\n",
    "    AGLOBALPARAM = AGLOBALPARAM + 10\n",
    "    return (AGLOBALPARAM + x)\n",
    "\n",
    "print (\"AGLOBALPARAM is {} to start.\".format(AGLOBALPARAM))\n",
    "print (\"Let's multiply it by 10.\")\n",
    "multiplyParam(AGLOBALPARAM)\n",
    "print (\"AGLOBALPARAM is still {}\".format(AGLOBALPARAM))\n",
    "print (\"Let's divide it by 10\")\n",
    "divideParam()\n",
    "print (\"Now AGLOBALPARAM is {}\".format(AGLOBALPARAM))\n",
    "print (\"Let's sum it to 10\")\n",
    "sumParam()"
   ]
  },
  {
   "cell_type": "markdown",
   "metadata": {},
   "source": [
    "A variable which is defined inside a function is local to that function. It is accessible from the point at which it is defined until the end of the function (e.g. the parameter names in the function definition behave like local variables)."
   ]
  },
  {
   "cell_type": "code",
   "execution_count": 1,
   "metadata": {},
   "outputs": [
    {
     "name": "stdout",
     "output_type": "stream",
     "text": [
      "0\n",
      "1\n",
      "2\n",
      "3\n",
      "4\n",
      "max_val in 'test_scope' function is 5\n",
      "max_val in global scope is 10\n"
     ]
    },
    {
     "ename": "NameError",
     "evalue": "name 'i' is not defined",
     "output_type": "error",
     "traceback": [
      "\u001b[0;31m---------------------------------------------------------------------------\u001b[0m",
      "\u001b[0;31mNameError\u001b[0m                                 Traceback (most recent call last)",
      "\u001b[0;32m<ipython-input-1-c9542c86aee5>\u001b[0m in \u001b[0;36m<module>\u001b[0;34m\u001b[0m\n\u001b[1;32m      9\u001b[0m \u001b[0mtest_scope\u001b[0m\u001b[0;34m(\u001b[0m\u001b[0;36m5\u001b[0m\u001b[0;34m)\u001b[0m\u001b[0;34m\u001b[0m\u001b[0m\n\u001b[1;32m     10\u001b[0m \u001b[0mprint\u001b[0m \u001b[0;34m(\u001b[0m\u001b[0;34m\"max_val in global scope is {}\"\u001b[0m\u001b[0;34m.\u001b[0m\u001b[0mformat\u001b[0m\u001b[0;34m(\u001b[0m\u001b[0mmax_val\u001b[0m\u001b[0;34m)\u001b[0m\u001b[0;34m)\u001b[0m\u001b[0;34m\u001b[0m\u001b[0m\n\u001b[0;32m---> 11\u001b[0;31m \u001b[0mprint\u001b[0m \u001b[0;34m(\u001b[0m\u001b[0mi\u001b[0m\u001b[0;34m)\u001b[0m\u001b[0;34m\u001b[0m\u001b[0m\n\u001b[0m",
      "\u001b[0;31mNameError\u001b[0m: name 'i' is not defined"
     ]
    }
   ],
   "source": [
    "# functions with local variable with some name of a global one\n",
    "# print local variable outside"
   ]
  },
  {
   "cell_type": "markdown",
   "metadata": {},
   "source": [
    "## Classes\n",
    "\n",
    "Classes are a key ingredient of *Object Oriented Programming* (OOP) and their concept is implemented in every modern language like `python`, `java`, `C++`.\n",
    "OOP is a programming model in which programs are organized around data, or objects, rather than functions and logic. \n",
    "\n",
    "A class is a blueprint for creating objects (a particular data structure), providing initial values for state (member variables or attributes), and implementations of behavior (member functions or methods).\n",
    "\n",
    "Let's summarize here some terminology:\n",
    "\n",
    "* a class is a collection of related functions, and these are called the *methods* of the class;\n",
    "* methods act on *instances* of the class;\n",
    "* an *instance* is basically a collection of related data;\n",
    "* each data item has a name, and those names are called the *attributes* of the class.\n",
    "\n",
    "**Essentially classes are collections of functions that operate on a dataset, and instances of that class represent specific datasets.**\n",
    "\n",
    "![Graphical representation of a class instance.](prettycars.png)\n",
    "\n",
    "The image above shows how a Car object can be the template for many other Car instances. In the image, there are three instances: polo, mini, and beetle. Imagine to have a class called Car, that will structure a Car object to contain information about the car’s model, the color, how many passengers it can hold, its speed, etc. A class can define types of operations that can be performed on a Car object. For example, the Car class might specify an accelerate method, which would update the speed attribute of the car object.\n",
    "\n",
    "A class is a way of organizing information about a type of data so a programmer can reuse elements when making multiple instances of that data type—for example, if a programmer wanted to make three instances of Car, maybe a BMW, a Ferrari, and a Ford instance. The Car class would allow the programmer to store similar information that is unique to each car (they are different models, and maybe different colors, etc.) and associate the appropriate information with each car."
   ]
  },
  {
   "cell_type": "code",
   "execution_count": null,
   "metadata": {},
   "outputs": [],
   "source": [
    "# put here needed module import\n",
    "\n",
    "# this is the class definition\n",
    "# usually classes use camel naming convention\n",
    "    \n",
    "    # the special method __init__ allows to instanciate a class\n",
    "    # with an initial dataset \n",
    "\n",
    "        # attribute of the class\n",
    "        # var and self.var are different variables !!!\n",
    "        # var will be destroyed once __init__ is processed\n",
    "        # self.var lives as long as each instance of the class\n",
    "         \n",
    "                \n",
    "    # this is a normal method and will work on some class attribute"
   ]
  },
  {
   "cell_type": "markdown",
   "metadata": {},
   "source": [
    "### The Constructor Method\n",
    "\n",
    "After declaring the class name, a programmer must define a constructor method. In $\\tt{python}$, this is denoted `__init__()`. The `__init__` function takes `self` as the first argument, and then any number of arguments as desired by the programmer. For this example that describes a Person, the programmer wants to know name and birthday."
   ]
  },
  {
   "cell_type": "code",
   "execution_count": null,
   "metadata": {},
   "outputs": [],
   "source": [
    "# here we instanciate (create an instance of) the class \n",
    "# in other words we \"specialize\" a generic Object to some concrete date\n",
    "\n",
    "# print type"
   ]
  },
  {
   "cell_type": "markdown",
   "metadata": {},
   "source": [
    "While a class is a template for a new data type, the programmer still needs to create values of this data type in order to have something that can store in variables or pass to functions.\n",
    "\n",
    "When called, the constructor creates the new object, runs the code in the constructor, and returns the new object itself. This is what the me = Person('Matteo', datetime.date(1974, 10, 20) line is. No matter what the class name is, the constructor is always named `__init__`.\n",
    "\n",
    "To access the arguments and associate them with a particular instance of the class, within the `__init__` method, create variables for each argument like this: `self.variableName = variableName`.\n",
    "\n",
    "Attributes are characteristics of an object. `__init__()` is used to initialize the attributes of an object. Just as methods are functions defined in a class, attributes are variables defined in a class."
   ]
  },
  {
   "cell_type": "code",
   "execution_count": null,
   "metadata": {},
   "outputs": [],
   "source": [
    "# to access class attributes or methods you have to use ."
   ]
  },
  {
   "cell_type": "markdown",
   "metadata": {},
   "source": [
    "Each method in a class definition begins with a reference to the instance object. By convention, this is named `self`. The `self `parameter is used to create member variables. Variables whose name starts with `self` have class scope which means are available within each class method."
   ]
  },
  {
   "cell_type": "code",
   "execution_count": null,
   "metadata": {},
   "outputs": [],
   "source": [
    "# calling methods"
   ]
  },
  {
   "cell_type": "code",
   "execution_count": null,
   "metadata": {},
   "outputs": [],
   "source": [
    "# extend a class\n",
    "\n",
    "    # methods in a class are just functions which can work\n",
    "    # with the class attributes"
   ]
  },
  {
   "cell_type": "code",
   "execution_count": null,
   "metadata": {},
   "outputs": [],
   "source": [
    "# another instance to test the new method"
   ]
  },
  {
   "cell_type": "markdown",
   "metadata": {},
   "source": [
    "### Inheritance and Overriding Methods\n",
    "\n",
    "Inheritance is basically the idea that different classes can have similar components, and in order to avoid repeating code, inheritance is used to link parent classes to descendant classes. For example, in a fantasy story, there are heroes and monsters but both the heroes and the monsters are characters. And both dragons and orcs are monsters. Though dragons and orcs are different monsters, they share some qualities that a reader might want to know: they both have a color, they both have a size, they both have enemies. Orcs might have characteristics that dragons do not; for example, what kind of weapon does the orc carry? Inheritance allows the classes to share information relevant to multiple parts of the code.\n",
    "\n",
    "![](inheritance.png)\n",
    "\n",
    "Inheritance allows code to be reused and reduces the complexity of a program. The derived classes (descendants) override or extend the functionality of base classes (ancestors).\n",
    "\n",
    "Be aware, inheritance can be abused. Be certain that any change or update to any class would also work for the others."
   ]
  },
  {
   "cell_type": "code",
   "execution_count": null,
   "metadata": {},
   "outputs": [],
   "source": [
    "# define a Child and Parent class with fun method\n"
   ]
  },
  {
   "cell_type": "markdown",
   "metadata": {},
   "source": [
    "Although Child inherits Parent's fun method, it is overridden because Child defines its own fun method. One reason for overriding methods is to add special and unique functionality to the subclass."
   ]
  },
  {
   "cell_type": "code",
   "execution_count": null,
   "metadata": {},
   "outputs": [],
   "source": [
    "# define a Child a Parent and check they can use Person methods and the overridden one"
   ]
  }
 ],
 "metadata": {
  "kernelspec": {
   "display_name": "Python 3",
   "language": "python",
   "name": "python3"
  },
  "language_info": {
   "codemirror_mode": {
    "name": "ipython",
    "version": 3
   },
   "file_extension": ".py",
   "mimetype": "text/x-python",
   "name": "python",
   "nbconvert_exporter": "python",
   "pygments_lexer": "ipython3",
   "version": "3.7.4"
  }
 },
 "nbformat": 4,
 "nbformat_minor": 2
}
