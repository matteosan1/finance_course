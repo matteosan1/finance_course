{
 "cells": [
  {
   "cell_type": "markdown",
   "metadata": {},
   "source": [
    "## Clarifications\n",
    "\n",
    "### PyCharm and debugging\n",
    "I've prepared few slides to show you how to use the debugger (running line by line a program) with PyCharm. \n",
    "We won't probably have time to do it here, please if you are interested take a look at home and in case let me know if you have troubles.\n",
    "\n",
    "### \\\n",
    "As you may have noticed in many programs (especially in the pdf of the lessons) \n",
    "I have used a \\ inside the lines of code. \n",
    "The \\ symbol is used to tell python that an instruction is not finished but continues \n",
    "in the line below and it is used to fit the code in the width of the pdf and hopefully to\n",
    "make it more readable.\n",
    "```python\n",
    "# this line\n",
    "log_discount_factors = [log(discount_factor) for discount_factor in discount_factors]\n",
    "\n",
    "# is equivalent to this one \n",
    "log_discount_factors = \\\n",
    "    [log(discount_factor) for discount_factor in discount_factors]\n",
    "```\n",
    "\n",
    "### Functions and `return` Value\n",
    "As we have seen in Practical Lesson 2 functions can return any kind of objects (numbers, strings, lists, complex objects...) but this is not mandatory i.e. you can write a function **without** a ```return``` statement. \n",
    "\n",
    "```python \n",
    "def printing(mystring):\n",
    "    print (myString)\n",
    "```\n",
    "\n",
    "This is a dummy example to show that a function can just print something to screen.\n",
    "In addition the syntax of the ```return``` is different from ```Visual Basic```, the returned object needn't have to have the same name as the function (and actually it is better not to to avoid confusion):\n",
    "\n",
    "```python\n",
    "# advise AGAINST using this style\n",
    "def pippo(a):\n",
    "    pippo = a\n",
    "    return pippo\n",
    "```\n",
    "\n",
    "### `assert`\n",
    "Forgot to tell you that `assert` can take a second argument with a message to display in case of failure.\n",
    "```python\n",
    "assert 1 > 2, \"Two is bigger than one\"\n",
    "```\n",
    "\n",
    "### `import`\n",
    "Whenever you import one python file into another the code in the global scope of the imported file is run:\n",
    "\n",
    "```python\n",
    "# file A.py\n",
    "def functionA(sumUpTo):\n",
    "    result = 0\n",
    "    for i in range(sumUpTo+1):\n",
    "        result += i\n",
    "    return result\n",
    "\n",
    "# this is a test for functionA\n",
    "assert functionA(5) == 15\n",
    "print (\"Test is OK !\")\n",
    "\n",
    "--------------------------------\n",
    "# file B.py\n",
    "from A import functionA\n",
    "\n",
    "print (functionA(12))\n",
    "```\n",
    "\n",
    "In this case when you run file B.py you will see on the screen \"Test is OK !\" since during the import of A.py whatever is in the global scope (i.e. the code not indented) is run.\n",
    "\n",
    "In order to avoid this behaviour you can *protect* the code in A.py using the following syntax:\n",
    "\n",
    "```python\n",
    "# file A.py\n",
    "def functionA(sumUpTo):\n",
    "    result = 0\n",
    "    for i in range(sumUpTo+1):\n",
    "        result += i\n",
    "    return result\n",
    "\n",
    "# this is a test for functionA\n",
    "if __name__ == \"__main__\":\n",
    "    assert functionA(5) == 15\n",
    "    print (\"Test is OK !\")\n",
    "\n",
    "--------------------------------\n",
    "# file B.py\n",
    "from A import functionA\n",
    "\n",
    "print (functionA(12))\n",
    "```\n",
    "\n",
    "Basically the special variable `__name__` takes the value `__main__` if and only if you are running the directly file A.py. Otherwise, importing A.py, it has a different value and the if block is not executed."
   ]
  },
  {
   "cell_type": "markdown",
   "metadata": {},
   "source": [
    "# Solutions - Practical Lession 3\n",
    "\n",
    "## Exercises\n",
    "\n",
    "### Exercise 3.1\n",
    "\n",
    "Take the code for the Black‐Scholes formula from exercise 2.3 and wrap it in a function. Then, use this function to calculate the prices of calls with various strikes, using the following data.\n",
    "\n",
    "```python\n",
    "s = 800\n",
    "# strikes expressed as % of spot price\n",
    "moneyness = [ 0.5, 0.75, 0.825, 1.0, 1.125, 1.25, 1.5 ] \n",
    "vol = 0.3\n",
    "ttm = 0.75\n",
    "r = 0.005\n",
    "```\n",
    "\n",
    "The output should be a dictionary mapping strikes to call prices.\n",
    "\n",
    "**Solution:**"
   ]
  },
  {
   "cell_type": "code",
   "execution_count": 1,
   "metadata": {},
   "outputs": [
    {
     "data": {
      "text/plain": [
       "{400.0: 401.66074527896365,\n",
       " 600.0: 213.9883852521275,\n",
       " 660.0: 166.85957363897393,\n",
       " 800.0: 84.03697017660357,\n",
       " 900.0: 47.61880394696229,\n",
       " 1000.0: 25.632722952585738,\n",
       " 1200.0: 6.655275227771156}"
      ]
     },
     "execution_count": 1,
     "metadata": {},
     "output_type": "execute_result"
    }
   ],
   "source": [
    "from math import log, exp, sqrt\n",
    "from scipy.stats import norm\n",
    "\n",
    "def d1(S_t, K, r, vol, ttm):\n",
    "    num = log(S_t/K) + (r + 0.5*pow(vol, 2)) * ttm\n",
    "    den = vol * sqrt(ttm)\n",
    "    return num/den\n",
    "\n",
    "def d2(S_t, K, r, vol, ttm):\n",
    "    return d1(S_t, K, r, vol, ttm) - vol * sqrt(ttm)\n",
    "\n",
    "def call(S_t, K, r, vol, ttm):\n",
    "    return S_t * norm.cdf(d1(S_t, K, r, vol, ttm)) \\\n",
    "       - K * exp(-r * ttm) * norm.cdf(d2(S_t, K, r, vol, ttm))\n",
    "\n",
    "s = 800\n",
    "# strikes expressed as % of spot price\n",
    "moneyness = [ 0.5, 0.75, 0.825, \\\n",
    "             1.0, 1.125, 1.25, 1.5 ]\n",
    "vol = 0.3\n",
    "ttm = 0.75\n",
    "r = 0.005\n",
    "\n",
    "result = {}\n",
    "for m in moneyness:\n",
    "    result[s*m] = call(s, m*s, r, vol, ttm)\n",
    "result"
   ]
  },
  {
   "cell_type": "markdown",
   "metadata": {},
   "source": [
    "### Exercise 3.2\n",
    "\n",
    "Python has a useful command called `assert` which can be used for checking that a given\n",
    "condition is satisfied, and raising an error if the condition is not satisfied.\n",
    "\n",
    "The following line does not cause an error, in fact it does nothing \n",
    "```python\n",
    "assert 1 < 2\n",
    "```\n",
    "\n",
    "This causes an error\n",
    "```python\n",
    "assert 1 > 2\n",
    "```\n",
    "\n",
    "`assert` can take a second argument with a message to display in case of failure.\n",
    "```python\n",
    "assert 1 > 2, \"Two is bigger than one\"\n",
    "```\n",
    "Take the  `df` function from lesson 3 and modify it by adding some assertions to check that:\n",
    "\n",
    "* the pillar date list contains at least 2 elements;\n",
    "* the pillar date list is the same length as the discount factor list;\n",
    "* the first pillar date is equal to the today date;\n",
    "* the value date argument 'd' is greater or equal to the first pillar date and also less than or equal to the last pillar date.\n",
    "\n",
    "Then try using the function with some invalid data to make sure that your as\n",
    "sertions are correctly checking the desired conditions\n",
    "\n",
    "**Solution:**"
   ]
  },
  {
   "cell_type": "code",
   "execution_count": 2,
   "metadata": {},
   "outputs": [
    {
     "data": {
      "text/plain": [
       "0.9097285910181567"
      ]
     },
     "execution_count": 2,
     "metadata": {},
     "output_type": "execute_result"
    }
   ],
   "source": [
    "# import modules and objects that we need\n",
    "from datetime import date\n",
    "import numpy\n",
    "import math\n",
    "\n",
    "# define the input data\n",
    "today_date = date(2017, 10, 1)\n",
    "pillar_dates = [date(2017, 10, 1), \n",
    "                date(2018, 10, 1), \n",
    "                date(2019, 10, 1)]\n",
    "discount_factors = [1.0, 0.95, 0.8]\n",
    "\n",
    "# define the df function\n",
    "def df(t):\n",
    "    ############## CHECKS ################\n",
    "    # Check that there are at least 2 pillar dates\n",
    "    assert len(pillar_dates) >= 2, \" need at least 2 pillar dates\"\n",
    "    \n",
    "    # Check that the number of pillar dates \n",
    "    #is equal to the number of pillar discount factors\n",
    "    assert len(pillar_dates) == len(discount_factors), \\\n",
    "        \"number of pillar dates should be equal to \\\n",
    "        the number of pillar discount factors\"\n",
    "    \n",
    "    # Check that the first pillar date is the today date\n",
    "    assert today_date == pillar_dates[0], \\\n",
    "        \"first pillar date should be the today date\"\n",
    "    \n",
    "    # Check that the value date argument is between \n",
    "    #the first and last pillar dates\n",
    "    assert pillar_dates[0] <= t <= pillar_dates[-1], \\\n",
    "        \"Invalid value date %s\" % (d)\n",
    "    ############## END OF CHECKS ################\n",
    "    \n",
    "    log_discount_factors = []\n",
    "    for discount_factor in discount_factors:\n",
    "        log_discount_factors.append(math.log(discount_factor))\n",
    "    \n",
    "    pillar_days = []\n",
    "    for pillar_date in pillar_dates:\n",
    "        pillar_days.append((pillar_date - today_date).days)\n",
    "    \n",
    "    t_days = (t - today_date).days\n",
    "    \n",
    "    interpolated_log_discount_factor = \\\n",
    "        numpy.interp(t_days, pillar_days, log_discount_factors)\n",
    "    \n",
    "    return math.exp(interpolated_log_discount_factor)\n",
    "\n",
    "df(date(2019, 1, 1))"
   ]
  },
  {
   "cell_type": "markdown",
   "metadata": {},
   "source": [
    "### Exercise 3.3\n",
    "\n",
    "Python comes with a module called ```matplotlib``` which can be used for plotting graphs\n",
    "and charts. In particular, we can use a sub‐module called ```pyplot``` which\n",
    "provides slightly easier‐to‐use interface for plotting interactively.\n",
    "Use this function to plot the call prices from exercise 3.1\n",
    "\n",
    "**Solution:**"
   ]
  },
  {
   "cell_type": "code",
   "execution_count": 4,
   "metadata": {},
   "outputs": [
    {
     "data": {
      "text/plain": [
       "[<matplotlib.lines.Line2D at 0x7f5362ff89e8>]"
      ]
     },
     "execution_count": 4,
     "metadata": {},
     "output_type": "execute_result"
    },
    {
     "data": {
      "image/png": "[encoded data removed]",
      "text/plain": [
       "<Figure size 432x288 with 1 Axes>"
      ]
     },
     "metadata": {
      "needs_background": "light"
     },
     "output_type": "display_data"
    }
   ],
   "source": [
    "from matplotlib import pyplot\n",
    "\n",
    "strikes = [s*m for m in moneyness]\n",
    "call_prices = [call(s, k, r, vol, ttm) for k in strikes]\n",
    "pyplot.plot(strikes, call_prices, marker='o')\n",
    "# the next line saves the picture in a file (it is then shown in repl.it)\n",
    "#pyplot.savefig('graph4.png') "
   ]
  }
 ],
 "metadata": {
  "kernelspec": {
   "display_name": "Python 3",
   "language": "python",
   "name": "python3"
  },
  "language_info": {
   "codemirror_mode": {
    "name": "ipython",
    "version": 3
   },
   "file_extension": ".py",
   "mimetype": "text/x-python",
   "name": "python",
   "nbconvert_exporter": "python",
   "pygments_lexer": "ipython3",
   "version": "3.7.3"
  }
 },
 "nbformat": 4,
 "nbformat_minor": 2
}
