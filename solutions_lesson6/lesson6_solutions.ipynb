{
 "cells": [
  {
   "cell_type": "markdown",
   "metadata": {},
   "source": [
    "# Solutions - Practical Lesson 6\n",
    "\n",
    "## Exercises\n",
    "\n",
    "### Exercise 6.1\n",
    "Write a ForwardRateCurve (for EURIBOR/LIBOR rate curve) which doesn't compute discount factors but only interplatates forward rates; then add it to the finmarkets module.\n",
    "\n",
    "#### Solution\n",
    "In this case it is enough to write a new `class` that has the three attributes: a today date, a set of pillar_dates and the corresponding rates. There will be just a single method `forward_rate` which returns the corresponding interpolated rate."
   ]
  },
  {
   "cell_type": "code",
   "execution_count": 1,
   "metadata": {},
   "outputs": [],
   "source": [
    "import numpy\n",
    "\n",
    "# an EURIBOR or LIBOR rate curve\n",
    "# doesn't calculate discount factors, only interpolates forward rates\n",
    "class ForwardRateCurve(object):\n",
    "    \n",
    "    # the special __init__ method defines how to\n",
    "    # construct instances of the class\n",
    "    def __init__(self, pillar_dates, rates):\n",
    "        \n",
    "        # we just store the arguments as attributes of the instance\n",
    "        self.today = pillar_dates[0]\n",
    "        self.rates = rates\n",
    "        \n",
    "        self.pillar_days = [\n",
    "            (pillar_date - self.today).days\n",
    "            for pillar_date in pillar_dates\n",
    "        ]\n",
    "        \n",
    "        \n",
    "    # interpolates the forward rates stored in the instance\n",
    "    def forward_rate(self, d):\n",
    "        d_days = (d - self.today).days\n",
    "        return numpy.interp(d_days, self.pillar_days, self.rates)"
   ]
  },
  {
   "cell_type": "markdown",
   "metadata": {},
   "source": [
    "### Exercise 6.2\n",
    "Using the function `randint` of the module `random` make a Monte Carlo simulation of rolling three dices to check the probability of getting the same values on the three of them.\n",
    "\n",
    "From the probability theory you should expect:\n",
    "\n",
    "$$P_{d1=d2=d3} = \\frac{1}{6}\\cdot\\frac{1}{6}\\cdot\\frac{1}{6}\\cdot 6 = \\frac{1}{36} = 0.0278$$"
   ]
  },
  {
   "cell_type": "code",
   "execution_count": 2,
   "metadata": {},
   "outputs": [
    {
     "name": "stdout",
     "output_type": "stream",
     "text": [
      "The probability to get three equal dice is 0.0276\n"
     ]
    }
   ],
   "source": [
    "from random import seed, randint\n",
    "\n",
    "seed(1)\n",
    "\n",
    "trials = 100000\n",
    "success = 0\n",
    "for _ in range(trials):\n",
    "  d1, d2, d3 = randint(1, 6), randint(1, 6), randint(1, 6)\n",
    "  \n",
    "  if d1 == d2 and d2 == d3:\n",
    "    success += 1\n",
    "    \n",
    "print (\"The probability to get three equal dice is {:.4f}\".format(success/trials))"
   ]
  },
  {
   "cell_type": "markdown",
   "metadata": {},
   "source": [
    "### Exercise 6.3\n",
    "Using the function `normal` of `numpy.random` simulate the price of a stoke which evolves according to a log-normal stochastic process with a daily rate of return $\\mu=0.1$ and a volatility $\\sigma=0.15$ for 30 days.\n",
    "\n",
    "Also plot the price. Try to play with $\\mu$ and $\\sigma$ to see how the plot changes."
   ]
  },
  {
   "cell_type": "code",
   "execution_count": 4,
   "metadata": {},
   "outputs": [
    {
     "data": {
      "image/png": "[encoded data removed]",
      "text/plain": [
       "<Figure size 432x288 with 1 Axes>"
      ]
     },
     "metadata": {
      "needs_background": "light"
     },
     "output_type": "display_data"
    }
   ],
   "source": [
    "from numpy.random import normal, seed\n",
    "from matplotlib import pyplot as plt\n",
    "import math\n",
    "\n",
    "S = 100\n",
    "mu = 0.1\n",
    "sigma = 0.15\n",
    "T = 1\n",
    "\n",
    "seed(1)\n",
    "historical_series = [S]\n",
    "for i in range(30):\n",
    "    S = S * math.exp((mu - 0.5 * sigma * sigma) * T + sigma * math.sqrt(T) * normal())\n",
    "    historical_series.append(S)\n",
    "    \n",
    "plt.plot(range(31), historical_series)\n",
    "plt.xlabel(\"days\")\n",
    "plt.ylabel(\"Price of stoke X\")\n",
    "plt.show()\n",
    "    "
   ]
  },
  {
   "cell_type": "markdown",
   "metadata": {},
   "source": [
    "### Exercise 6.4\n",
    "Suppouse that the Libor Forward rates are those defined $\\href{}{here}$. Determine the value of an option to pay a fixed rate of 4% and receives LIBOR on a 5 year swap starting in 1 year. Assume the  notional is 100 EUR, the exercise date is on October, 30th 2020 and the swap rate volatility is 15%."
   ]
  },
  {
   "cell_type": "code",
   "execution_count": 5,
   "metadata": {},
   "outputs": [
    {
     "name": "stdout",
     "output_type": "stream",
     "text": [
      "Swaption NPV: 13.568 EUR\n"
     ]
    }
   ],
   "source": [
    "from finmarkets import InterestRateSwap\n",
    "from datetime import date\n",
    "from dateutil.relativedelta import relativedelta\n",
    "from curve_data import discount_curve, libor_curve\n",
    "from scipy.stats import norm\n",
    "import math\n",
    "\n",
    "pricing_date = date.today()\n",
    "start_date = date.today() + relativedelta(years=1)\n",
    "exercise_date = date(2020, 10, 30)\n",
    "\n",
    "irs = InterestRateSwap(start_date, 100, 0.04, 12, 5)\n",
    "sigma = 0.15\n",
    "\n",
    "A = irs.annuity(discount_curve)\n",
    "S = irs.swap_rate(discount_curve, libor_curve)\n",
    "T = (exercise_date - pricing_date).days / 365\n",
    "d1 = (math.log(S/irs.fixed_rate) + 0.5 * sigma**2 * T) / (sigma * T**0.5)\n",
    "d2 = (math.log(S/irs.fixed_rate) - 0.5 * sigma**2 * T) / (sigma * T**0.5)\n",
    "npv = irs.notional * A * (S * norm.cdf(d1) - irs.fixed_rate * norm.cdf(d2))\n",
    "\n",
    "print(\"Swaption NPV: {:.3f} EUR\".format(npv))"
   ]
  }
 ],
 "metadata": {
  "kernelspec": {
   "display_name": "Python 3",
   "language": "python",
   "name": "python3"
  },
  "language_info": {
   "codemirror_mode": {
    "name": "ipython",
    "version": 3
   },
   "file_extension": ".py",
   "mimetype": "text/x-python",
   "name": "python",
   "nbconvert_exporter": "python",
   "pygments_lexer": "ipython3",
   "version": "3.7.5rc1"
  }
 },
 "nbformat": 4,
 "nbformat_minor": 2
}
