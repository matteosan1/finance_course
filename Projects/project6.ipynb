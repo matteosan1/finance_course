{
 "cells": [
  {
   "cell_type": "markdown",
   "metadata": {},
   "source": [
    "# Libor Curve Bootstrapper\n",
    "\n",
    "The goal of the project is to build a bootstrapping procedure whose output will be a forward libor curve (an instance of the python class ForwardLiborCurve) in the “multi-curve” framework. The input parameters to derive this curve are:\n",
    "\n",
    "* The par rate of a set of Overnight Index Swaps (i.e. their market quotation)\n",
    "* The fixing value of the libor rate at the “evaluation date”\n",
    "* The par rate of a set of Swap (i.e. their market quotation), whose underlying libor rate has 6 months tenor (i.e. the floating leg pays every six months) and the fixed coupon is paid annually\n",
    "\n",
    "The resulting class will be used to compute the forward libor rate at some future dates and plot the results.\n",
    "\n",
    "Numerical results must be presented to the examining committee during a presentation in which the candidates will also explain the theoretical framework for multi-curve evaluation."
   ]
  },
  {
   "cell_type": "code",
   "execution_count": 6,
   "metadata": {
    "collapsed": true
   },
   "outputs": [],
   "source": [
    "from datetime import date\n",
    "\n",
    "today = date(2019, 10, 31)\n",
    "libor_tenor = 6\n",
    "libor_fixing_value = 0.00351\n",
    "\n",
    "# ois_quotes.csv\n",
    "# irs_quotes_proj6.csv"
   ]
  }
 ],
 "metadata": {
  "kernelspec": {
   "display_name": "Python 3",
   "language": "python",
   "name": "python3"
  },
  "language_info": {
   "codemirror_mode": {
    "name": "ipython",
    "version": 3
   },
   "file_extension": ".py",
   "mimetype": "text/x-python",
   "name": "python",
   "nbconvert_exporter": "python",
   "pygments_lexer": "ipython3",
   "version": "3.6.3"
  }
 },
 "nbformat": 4,
 "nbformat_minor": 1
}
