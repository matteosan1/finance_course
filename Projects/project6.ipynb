{
 "cells": [
  {
   "cell_type": "markdown",
   "metadata": {},
   "source": [
    "# Libor Curve Bootstrapper\n",
    "\n",
    "The goal of the project is to build a bootstrapping procedure whose output will be a forward libor curve (an instance of the python class ForwardLiborCurve) in the “multi-curve” framework. The input parameters to derive this curve are:\n",
    "\n",
    "* The par rate of a set of Overnight Index Swaps (i.e. their market quotation)\n",
    "* The fixing value of the libor rate at the “evaluation date”\n",
    "* The par rate of a set of Swap (i.e. their market quotation), whose underlying libor rate has 6 months tenor (i.e. the floating leg pays every six months) and the fixed coupon is paid annually\n",
    "\n",
    "The resulting class will be used to compute the forward libor rate at some future dates.\n",
    "\n",
    "Numerical results must be presented to the examining committee during a presentation in which the candidates will also explain the theoretical framework for multi-curve evaluation."
   ]
  },
  {
   "cell_type": "code",
   "execution_count": 6,
   "metadata": {
    "collapsed": true
   },
   "outputs": [],
   "source": [
    "from datetime import date\n",
    "\n",
    "today = date(2019, 10, 31)\n",
    "libor_tenor = 6\n",
    "libor_fixing_value = 0.00351"
   ]
  },
  {
   "cell_type": "code",
   "execution_count": 13,
   "metadata": {
    "collapsed": true
   },
   "outputs": [],
   "source": [
    "ois_quotes = [\n",
    "    {'maturity': 1, 'rate': 0.00106},\n",
    "    {'maturity': 2, 'rate': 0.00114},\n",
    "    {'maturity': 3, 'rate': 0.00115},\n",
    "    {'maturity': 4, 'rate': 0.00117},\n",
    "    {'maturity': 5, 'rate': 0.00119},\n",
    "    {'maturity': 6, 'rate': 0.00121},\n",
    "    {'maturity': 7, 'rate': 0.00122},\n",
    "    {'maturity': 8, 'rate': 0.00124},\n",
    "    {'maturity': 9, 'rate': 0.00128},\n",
    "    {'maturity': 10, 'rate': 0.00131},\n",
    "    {'maturity': 11, 'rate': 0.00135},\n",
    "    {'maturity': 12, 'rate': 0.00138},\n",
    "    {'maturity': 15, 'rate': 0.00152},\n",
    "    {'maturity': 18, 'rate': 0.00166},\n",
    "    {'maturity': 21, 'rate': 0.00184},\n",
    "    {'maturity': 24, 'rate': 0.00206},\n",
    "    {'maturity': 36, 'rate': 0.00344},\n",
    "    {'maturity': 48, 'rate': 0.00543},\n",
    "    {'maturity': 60, 'rate': 0.00756},\n",
    "    {'maturity': 72, 'rate': 0.00967},\n",
    "    {'maturity': 84, 'rate': 0.01162},\n",
    "    {'maturity': 96, 'rate': 0.0134},\n",
    "    {'maturity': 108, 'rate': 0.01502},\n",
    "    {'maturity': 120, 'rate': 0.01649},\n",
    "    {'maturity': 132, 'rate': 0.01776},\n",
    "    {'maturity': 144, 'rate': 0.01888},\n",
    "    {'maturity': 180, 'rate': 0.02137},\n",
    "    {'maturity': 240, 'rate': 0.02322},\n",
    "    {'maturity': 300, 'rate': 0.02389},\n",
    "    {'maturity': 360, 'rate': 0.02416},\n",
    "]"
   ]
  },
  {
   "cell_type": "code",
   "execution_count": 14,
   "metadata": {
    "collapsed": true
   },
   "outputs": [],
   "source": [
    "irs_quotes = [\n",
    "    {'maturity':12, 'rate': 0.00373},\n",
    "    {'maturity':24, 'rate': 0.00492},\n",
    "    {'maturity':36, 'rate': 0.00657},\n",
    "    {'maturity':48, 'rate': 0.00875},\n",
    "    {'maturity':60, 'rate': 0.01101},\n",
    "    {'maturity':72, 'rate': 0.01314},\n",
    "    {'maturity':84, 'rate': 0.01507},\n",
    "    {'maturity':96, 'rate': 0.01679},\n",
    "    {'maturity':108, 'rate': 0.01834},\n",
    "    {'maturity':120, 'rate': 0.01973},\n",
    "    {'maturity':132, 'rate': 0.02092},\n",
    "    {'maturity':144, 'rate': 0.02195},\n",
    "    {'maturity':156, 'rate': 0.02284},\n",
    "    {'maturity':168, 'rate': 0.02358},\n",
    "    {'maturity':180, 'rate': 0.02418},\n",
    "    {'maturity':192, 'rate': 0.02466},\n",
    "    {'maturity':204, 'rate': 0.02502},\n",
    "    {'maturity':216, 'rate': 0.0253},\n",
    "    {'maturity':228, 'rate': 0.02552},\n",
    "    {'maturity':240, 'rate': 0.02568},\n",
    "    {'maturity':252, 'rate': 0.02581},\n",
    "    {'maturity':264, 'rate': 0.02592},\n",
    "    {'maturity':276, 'rate': 0.026},\n",
    "    {'maturity':288, 'rate': 0.02606},\n",
    "    {'maturity':300, 'rate': 0.02611},\n",
    "    {'maturity':312, 'rate': 0.02613},\n",
    "    {'maturity':324, 'rate': 0.02617},\n",
    "    {'maturity':336, 'rate': 0.02618},\n",
    "    {'maturity':348, 'rate': 0.0262},\n",
    "    {'maturity':360, 'rate': 0.02621},\n",
    "    {'maturity':420, 'rate': 0.02633},\n",
    "    {'maturity':480, 'rate': 0.02655},\n",
    "    {'maturity':600, 'rate': 0.02691},\n",
    "]"
   ]
  }
 ],
 "metadata": {
  "kernelspec": {
   "display_name": "Python 3",
   "language": "python",
   "name": "python3"
  },
  "language_info": {
   "codemirror_mode": {
    "name": "ipython",
    "version": 3
   },
   "file_extension": ".py",
   "mimetype": "text/x-python",
   "name": "python",
   "nbconvert_exporter": "python",
   "pygments_lexer": "ipython3",
   "version": "3.7.5"
  }
 },
 "nbformat": 4,
 "nbformat_minor": 1
}
