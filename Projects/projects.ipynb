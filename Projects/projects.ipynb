{
 "cells": [
  {
   "cell_type": "markdown",
   "metadata": {},
   "source": [
    "# Basis Swap Par Spreads\n",
    "\n",
    "The goal of the project is to compute the par spreads of a pool of basis swaps, i.e. those contracts in which two floating libor rates, with different tenors, are exchanged. The par spread is that margin which has to be paid/received on top of the floating rate with the shorter tenor.\n",
    "\n",
    "The input parameters are:\n",
    "\n",
    "   * the par rate of a set of Overnight Index Swaps (i.e. their market quotation);\n",
    "   * 3 sets of forward libor rates and their fixing dates, one for the Libor 1M, one for the Libor 3M and one for the Libor 6M;\n",
    "   * the static data of the pool of swaps (nominal, maturity, tenor of the first leg, tenor of the second leg).\n",
    "\n",
    "Numerical results must be presented to the examining committee during a presentation in which the candidates will also explain the theoretical framework for multi-curve evaluation."
   ]
  },
  {
   "cell_type": "markdown",
   "metadata": {},
   "source": [
    "# Credit Curve Bootstrapper\n",
    "\n",
    "The goal of the project is to build a bootstrapping procedure whose output will be a credit curve (an instance of the Python class CreditCurve). The input parameters to derive this curve are:\n",
    "\n",
    "   * the par rate of a set of Overnight Index Swaps (i.e. their market quotations);\n",
    "   * the par rate of a set of Credit Default Swap (i.e. their market quotations).\n",
    "\n",
    "The resulting class will be used to compute the market value of a set of custom CDS.\n",
    "\n",
    "Numerical results must be presented to the examining committee during a presentation in which the candidates will also explain the theoretical framework for CDS evaluation.\n"
   ]
  },
  {
   "cell_type": "markdown",
   "metadata": {},
   "source": [
    "# Credit VAR of a Swap\n",
    "\n",
    "The goal of the project is to compute the Credit VAR (95th percentile) of a swap in which the counterparty might default. The input parameters are:\n",
    "\n",
    "* the par rate of a set of Overnight Index Swaps (i.e. their market quotation);\n",
    "* a set of forward libor rates and their fixing dates;\n",
    "* the static data of the swap (nominal, start date, maturity, underlying libor tenor, etc..). The fixed rate of the swap is such that if there was no counterparty risk, the product would be traded at par. You are requested to compute it;\n",
    "* a set of survival probabilities for the risky counterparty;\n",
    "* the recovery rate for this swap (i.e. the fraction of the market value that it is expected to recover in case of default);\n",
    "* the volatility of the swap rate, which is assumed to be constant through time (the swap rate is lognormal with fixed volatility).\n",
    "\n",
    "The swap starts today and the horizon for the VAR calculation is before any future payments. \n",
    "\n",
    "The requested VAR is today’s value at risk, i.e. the 95th percentile of the discounted loss distribution function.\n",
    "\n",
    "Numerical results must be presented to the examining committee during a presentation in which the candidates will also explain the theoretical framework for credit risk evaluation.\n"
   ]
  },
  {
   "cell_type": "markdown",
   "metadata": {},
   "source": [
    "# Fixed Coupon Bond\n",
    "\n",
    "The goal of the project is to compute the market value of a portfolio of fixed coupon bonds taking into account the issuer credit risk. The input parameters to derive this curve are:\n",
    "\n",
    "* the par rate of a set of Overnight Index Swaps (i.e. their market quotation);\n",
    "* a set of survival probabilities and the recovery rate of the issuer;\n",
    "* the static data of the pool of bonds (nominal, start date, end date, coupons, payment frequency).\n",
    "\n",
    "Numerical results must be presented to the examining committee during a presentation in which the candidates will also explain the theoretical framework for evaluation of risky flows."
   ]
  },
  {
   "cell_type": "markdown",
   "metadata": {},
   "source": [
    "# Floating Coupon Bond\n",
    "\n",
    "The goal of the project is to compute the market value of a portfolio if floating coupon bonds taking into account the issuer credit risk. The input parameters to derive this curve are:\n",
    "\n",
    "* the par rate of a set of Overnight Index Swaps (i.e. their market quotation);\n",
    "* a set of forward libor rates and their fixing dates;\n",
    "* a set of survival probabilities and the recovery rate of the issuer;\n",
    "* the static data of the pool of bonds (nominal, start date, end date, current coupon, margin, payment frequency).\n",
    "\n",
    "Numerical results must be presented to the examining committee during a presentation in which the candidates will also explain the theoretical framework for evaluation of risky flows."
   ]
  },
  {
   "cell_type": "markdown",
   "metadata": {},
   "source": [
    "# Libor Curve Bootstrapper\n",
    "\n",
    "The goal of the project is to build a bootstrapping procedure whose output will be a forward libor curve (an instance of the python class ForwardLiborCurve) in the “multi-curve” framework. The input parameters to derive this curve are:\n",
    "\n",
    "* the par rate of a set of Overnight Index Swaps (i.e. their market quotation);\n",
    "* the fixing value of the libor rate at the “evaluation date”;\n",
    "* the par rate of a set of Swap (i.e. their market quotation), whose underlying libor rate has 6 months tenor (i.e. the floating leg pays every six months) and the fixed coupon is paid annually.\n",
    "\n",
    "The resulting class will be used to compute the forward libor rate at some future dates.\n",
    "\n",
    "Numerical results must be presented to the examining committee during a presentation in which the candidates will also explain the theoretical framework for multi-curve evaluation."
   ]
  },
  {
   "cell_type": "markdown",
   "metadata": {},
   "source": [
    "# Swap with Counterparty Risk (CVA)\n",
    "\n",
    "The goal of the project is to compute the market value of a swap where the counterparty  might default. The input parameters are:\n",
    "\n",
    "* the par rate of a set of Overnight Index Swaps (i.e. their market quotation);\n",
    "* a set of forward libor rates and their fixing dates;\n",
    "* a set of survival probabilities for the risky counterparty;\n",
    "* the static data of the swap (nominal, maturity, underlying libor tenor, etc..). The fixed rate of the swap is such that if there was no counterparty risk, the product would be traded at par. You are requested to compute it;\n",
    "* the recovery rate for this swap (i.e. the fraction of the market value that it is expected to recover in case of default);\n",
    "* the volatility of the swap rate, which is assumed to be constant through time (the swap rate is lognormal with fixed volatility).\n",
    "\n",
    "Numerical results must be presented to the examining committee during a presentation in which the candidates will also explain the theoretical framework for CVA estimation."
   ]
  },
  {
   "cell_type": "markdown",
   "metadata": {},
   "source": [
    "# Collateralized Debt Obligation\n",
    "\n",
    "The goal of the project is to compute the market value of a swap where the counterparty  might default. The input parameters are:\n",
    "\n",
    "* the par rate of a set of Overnight Index Swaps (i.e. their market quotation);\n",
    "* a set of forward libor rates and their fixing dates;\n",
    "* a set of survival probabilities for the risky counterparty;\n",
    "* the static data of the swap (nominal, maturity, underlying libor tenor, etc..). The fixed rate of the swap is such that if there was no counterparty risk, the product would be traded at par. You are requested to compute it;\n",
    "* the recovery rate for this swap (i.e. the fraction of the market value that it is expected to recover in case of default);\n",
    "* the volatility of the swap rate, which is assumed to be constant through time (the swap rate is lognormal with fixed volatility).\n",
    "\n",
    "Numerical results must be presented to the examining committee during a presentation in which the candidates will also explain the theoretical framework for CVA estimation."
   ]
  },
  {
   "cell_type": "markdown",
   "metadata": {},
   "source": [
    "# Portfolio Optimization\n",
    "\n",
    "The goal of the project is to compute the market value of a swap where the counterparty  might default. The input parameters are:\n",
    "\n",
    "* the par rate of a set of Overnight Index Swaps (i.e. their market quotation);\n",
    "* a set of forward libor rates and their fixing dates;\n",
    "* a set of survival probabilities for the risky counterparty;\n",
    "* the static data of the swap (nominal, maturity, underlying libor tenor, etc..). The fixed rate of the swap is such that if there was no counterparty risk, the product would be traded at par. You are requested to compute it;\n",
    "* the recovery rate for this swap (i.e. the fraction of the market value that it is expected to recover in case of default);\n",
    "* the volatility of the swap rate, which is assumed to be constant through time (the swap rate is lognormal with fixed volatility).\n",
    "\n",
    "Numerical results must be presented to the examining committee during a presentation in which the candidates will also explain the theoretical framework for CVA estimation."
   ]
  },
  {
   "cell_type": "markdown",
   "metadata": {},
   "source": [
    "# Machine Learning\n",
    "\n",
    "The goal of the project is to compute the market value of a swap where the counterparty  might default. The input parameters are:\n",
    "\n",
    "* the par rate of a set of Overnight Index Swaps (i.e. their market quotation);\n",
    "* a set of forward libor rates and their fixing dates;\n",
    "* a set of survival probabilities for the risky counterparty;\n",
    "* the static data of the swap (nominal, maturity, underlying libor tenor, etc..). The fixed rate of the swap is such that if there was no counterparty risk, the product would be traded at par. You are requested to compute it;\n",
    "* the recovery rate for this swap (i.e. the fraction of the market value that it is expected to recover in case of default);\n",
    "* the volatility of the swap rate, which is assumed to be constant through time (the swap rate is lognormal with fixed volatility).\n",
    "\n",
    "Numerical results must be presented to the examining committee during a presentation in which the candidates will also explain the theoretical framework for CVA estimation."
   ]
  },
  {
   "cell_type": "code",
   "execution_count": null,
   "metadata": {},
   "outputs": [],
   "source": [
    "from random import randint\n",
    "groups = [\"a\", \"b\", \"c\", \"d\", \"e\", \"f\", \"g\", \"h\", \"i\", \"L\"]\n",
    "projects = {1:\"Basis Swap Par Spread\", \n",
    "            2:\"Credti Curve Bootstrapper\", \n",
    "            3:\"Credit VaR of a Swap\", \n",
    "            4:\"Fixed Coupon Bond\", \n",
    "            5:\"Floating Coupon Bond\", \n",
    "            6:\"Libor Curve Bootstrapper\", \n",
    "            7:\"Swap with Counterparty Risk (CVA)\", \n",
    "            8:\"Collateralized Debt Obligation\", \n",
    "            9:\"Portfolio Optimization\", \n",
    "            10:\"Machine Learning\"}\n",
    "\n",
    "assigned = [-1]\n",
    "for g in groups:\n",
    "    p = -1\n",
    "    while p in assigned: \n",
    "        p = randint(1, len(projects))\n",
    "    assigned.append(p)\n",
    "    print (\"Group {} has been assigned to project {} ({})\".format(g, p, projects[p]))\n",
    "    if len(assigned) == len(projects) + 1:\n",
    "        assigned = [-1]"
   ]
  }
 ],
 "metadata": {
  "kernelspec": {
   "display_name": "Python 3",
   "language": "python",
   "name": "python3"
  },
  "language_info": {
   "codemirror_mode": {
    "name": "ipython",
    "version": 3
   },
   "file_extension": ".py",
   "mimetype": "text/x-python",
   "name": "python",
   "nbconvert_exporter": "python",
   "pygments_lexer": "ipython3",
   "version": "3.6.3"
  }
 },
 "nbformat": 4,
 "nbformat_minor": 2
}
