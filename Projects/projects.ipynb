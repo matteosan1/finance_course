{
 "cells": [
  {
   "cell_type": "code",
   "execution_count": 4,
   "metadata": {},
   "outputs": [],
   "source": [
    "from random import randint\n",
    "groups = [\"Petroiu, Lucchesi\", \n",
    "          \"Onder, Amiri Fallah, Sharma\",\n",
    "          \"Caggiano, Trenti\",\n",
    "          \"Fabbiani, Pollari\",\n",
    "          \"Nuti, Criber\",\n",
    "          \"Lattanzio, Dipresa\",\n",
    "          \"Osmani, Bruno\"]\n",
    "\n",
    "projects = {1:\"Basis Swap Par Spread\", \n",
    "            2:\"Credit Curve Bootstrapper\", \n",
    "            3:\"Credit VaR of a Swap\", \n",
    "            4:\"Fixed Coupon Bond\", \n",
    "            5:\"Floating Coupon Bond\", \n",
    "            6:\"Libor Curve Bootstrapper\", \n",
    "            7:\"Swap with Counterparty Risk (CVA)\", \n",
    "            8:\"Portfolio Optimization\", \n",
    "            9:\"Machine Learning\"}\n",
    "\n",
    "# Lellis, Gregori 2\n",
    "# Osmani, Bruno  1\n",
    "# Eugene 5"
   ]
  },
  {
   "cell_type": "code",
   "execution_count": 5,
   "metadata": {},
   "outputs": [
    {
     "name": "stdout",
     "output_type": "stream",
     "text": [
      "Group Petroiu, Lucchesi has been assigned to project 9 (Machine Learning)\n",
      "Group Onder, Amiri Fallah, Sharma has been assigned to project 6 (Libor Curve Bootstrapper)\n",
      "Group Caggiano, Trenti has been assigned to project 4 (Fixed Coupon Bond)\n",
      "Group Fabbiani, Pollari has been assigned to project 8 (Portfolio Optimization)\n",
      "Group Nuti, Criber has been assigned to project 7 (Swap with Counterparty Risk (CVA))\n",
      "Group Lattanzio, DipresaOsmani, Bruno has been assigned to project 3 (Credit VaR of a Swap)\n"
     ]
    }
   ],
   "source": [
    "assigned = [-1]\n",
    "for g in groups:\n",
    "    p = -1\n",
    "    while p in assigned: \n",
    "        p = randint(1, len(projects))\n",
    "    assigned.append(p)\n",
    "    print (\"Group {} has been assigned to project {} ({})\".format(g, p, projects[p]))\n",
    "    if len(assigned) == len(projects) + 1:\n",
    "        assigned = [-1]"
   ]
  }
 ],
 "metadata": {
  "kernelspec": {
   "display_name": "Python 3",
   "language": "python",
   "name": "python3"
  },
  "language_info": {
   "codemirror_mode": {
    "name": "ipython",
    "version": 3
   },
   "file_extension": ".py",
   "mimetype": "text/x-python",
   "name": "python",
   "nbconvert_exporter": "python",
   "pygments_lexer": "ipython3",
   "version": "3.7.4"
  }
 },
 "nbformat": 4,
 "nbformat_minor": 2
}
