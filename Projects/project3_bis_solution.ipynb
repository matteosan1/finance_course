{
 "cells": [
  {
   "cell_type": "markdown",
   "metadata": {},
   "source": [
    "# Credit VAR of a Swap\n",
    "\n",
    "The goal of the project is to compute the Credit VAR (95th percentile) of a swap in which the counterparty might default. The input parameters are:\n",
    "\n",
    "* The par rate of a set of Overnight Index Swaps (i.e. their market quotation)\n",
    "* A set of forward libor rates and their fixing dates\n",
    "* The static data of the swap (nominal, start date, maturity, underlying libor tenor, etc..). The fixed rate of the swap is such that if there was no counterparty risk, the product would be traded at par. You are requested to compute it.\n",
    "* A set of survival probabilities for the risky counterparty\n",
    "* The recovery rate for this swap (i.e. the fraction of the market value that it is expected to recover in case of default).\n",
    "* The volatility of the swap rate, which is assumed to be constant through time (the swap rate is lognormal with fixed volatility)\n",
    "\n",
    "The swap starts today and the horizon for the VAR calculation is before any future payments. \n",
    "\n",
    "The requested VAR is today’s value at risk, i.e. the 95th percentile of the discounted loss distribution function.\n",
    "\n",
    "Numerical results must be presented to the examining committee during a presentation in which the candidates will also explain the theoretical framework for credit risk evaluation.\n",
    "\n",
    "\n"
   ]
  },
  {
   "cell_type": "code",
   "execution_count": 2,
   "metadata": {},
   "outputs": [],
   "source": [
    "import pandas as pd\n",
    "from datetime import date\n",
    "from finmarkets import ForwardRateCurve\n",
    "\n",
    "pricing_date = date(2020, 12, 10)\n",
    "\n",
    "df = pd.read_csv(\"survival_probabilities_proj3_bis.csv\")\n",
    "df['date'] = pd.to_datetime(df['date']).dt.date\n",
    "survival_probabilities = df.to_dict('records')\n",
    "\n",
    "ois_quotes = pd.read_csv(\"ois_quotes.csv\").to_dict('records')\n",
    "\n",
    "df = pd.read_csv(\"euribor6M_proj3_bis.csv\")\n",
    "\n",
    "libor_curve = ForwardRateCurve(pd.to_datetime(df['dates']).dt.date.to_list(), \n",
    "                               df['rates'])\n",
    "\n",
    "irs_to_price = {\n",
    "    'nominal': 100e6, \n",
    "    'libor_tenor': 6,\n",
    "    'fixed_leg_frequency': 6,\n",
    "    'maturity': 72\n",
    "}\n",
    "\n",
    "credit_var_date = date(2021, 12, 10)\n",
    "recovery = 0.4\n",
    "volatility = 0.4\n",
    "mc_runs = 10000\n",
    "percentile = 0.999"
   ]
  },
  {
   "cell_type": "code",
   "execution_count": 3,
   "metadata": {},
   "outputs": [],
   "source": [
    "from finmarkets import OvernightIndexSwap, generate_swap_dates\n",
    "\n",
    "pillar_dates = [pricing_date]\n",
    "swaps=[]\n",
    "for quote in ois_quotes:\n",
    "    swap = OvernightIndexSwap(\n",
    "        100e6,\n",
    "        generate_swap_dates(pricing_date, quote['maturity']),\n",
    "        quote['rate']        \n",
    "    )\n",
    "    \n",
    "    swaps.append(swap)\n",
    "    pillar_dates.append(swap.payment_dates[-1])\n",
    "    \n",
    "pillar_dates = sorted(pillar_dates)"
   ]
  },
  {
   "cell_type": "code",
   "execution_count": 4,
   "metadata": {},
   "outputs": [],
   "source": [
    "from finmarkets import DiscountCurve\n",
    "\n",
    "def objective_function(x):    \n",
    "    curve = DiscountCurve(pricing_date, pillar_dates, x)\n",
    "    \n",
    "    sum_sq = 0.0\n",
    "    for swap in swaps:\n",
    "        sum_sq += swap.npv(curve) ** 2\n",
    "        \n",
    "    return sum_sq"
   ]
  },
  {
   "cell_type": "code",
   "execution_count": 5,
   "metadata": {},
   "outputs": [],
   "source": [
    "from scipy.optimize import minimize\n",
    "\n",
    "x0 = [0.5 for i in range(len(pillar_dates))]\n",
    "bounds = [(0.01, 100.0) for i in range(len(pillar_dates))]\n",
    "bounds[0] = (1.0, 1.0)\n",
    "\n",
    "result = minimize(objective_function, x0, bounds=bounds, options={'eps': 1e-12})"
   ]
  },
  {
   "cell_type": "code",
   "execution_count": 6,
   "metadata": {},
   "outputs": [
    {
     "name": "stdout",
     "output_type": "stream",
     "text": [
      "      fun: 6.56705173740982e-08\n",
      " hess_inv: <31x31 LbfgsInvHessProduct with dtype=float64>\n",
      "      jac: array([ 5.79732089e+05, -1.50811928e+01, -1.44347398e+01, -1.39007663e+01,\n",
      "       -1.35623222e+01, -1.45850633e+01, -1.53234641e+01, -1.39912142e+01,\n",
      "       -1.61104472e+01, -1.51294666e+01, -1.43987067e+01, -1.44460312e+01,\n",
      "       -3.36850479e+01, -3.12687049e+00, -3.38754279e+00, -3.13005994e+00,\n",
      "       -2.09203543e+01, -6.21522538e+00,  9.75488852e+00,  1.79522575e+01,\n",
      "        6.22968430e+00,  3.60903668e+00, -1.28484029e+00,  6.17842583e-01,\n",
      "        5.20174182e+00,  1.12306275e+01,  3.96090105e+00,  1.13797999e+01,\n",
      "        4.47997195e+01,  3.53455598e+01,  2.32538988e+01])\n",
      "  message: b'CONVERGENCE: REL_REDUCTION_OF_F_<=_FACTR*EPSMCH'\n",
      "     nfev: 1088\n",
      "      nit: 31\n",
      "   status: 0\n",
      "  success: True\n",
      "        x: array([1.        , 0.99990873, 0.99980371, 0.99971258, 0.9996069 ,\n",
      "       0.99950111, 0.99938865, 0.99928207, 0.9991637 , 0.99902673,\n",
      "       0.998895  , 0.99874533, 0.99860279, 0.99808177, 0.99748219,\n",
      "       0.99674117, 0.9958344 , 0.98959237, 0.97817168, 0.96223366,\n",
      "       0.94245296, 0.92000935, 0.8955556 , 0.86968465, 0.8428393 ,\n",
      "       0.81604117, 0.78929   , 0.71351656, 0.61196124, 0.53249469,\n",
      "       0.46686657])\n",
      "3496860774632018.0\n",
      "6.56705173740982e-08\n"
     ]
    }
   ],
   "source": [
    "print (result)\n",
    "print (objective_function(x0))\n",
    "print (objective_function(result.x))"
   ]
  },
  {
   "cell_type": "code",
   "execution_count": 7,
   "metadata": {},
   "outputs": [],
   "source": [
    "discount_curve = DiscountCurve(pricing_date, pillar_dates, result.x)"
   ]
  },
  {
   "cell_type": "code",
   "execution_count": 8,
   "metadata": {},
   "outputs": [],
   "source": [
    "from finmarkets import InterestRateSwap\n",
    "\n",
    "random_fixed_rate = 1\n",
    "irs_random = InterestRateSwap(credit_var_date, irs_to_price['nominal'], \n",
    "                              random_fixed_rate, \n",
    "                              irs_to_price['libor_tenor'],\n",
    "                              irs_to_price['maturity']) \n",
    "                                                        \n",
    "swap_rate = irs_random.swap_rate(discount_curve, libor_curve)"
   ]
  },
  {
   "cell_type": "code",
   "execution_count": 9,
   "metadata": {},
   "outputs": [],
   "source": [
    "irs = InterestRateSwap(credit_var_date, irs_to_price['nominal'], \n",
    "                       swap_rate, \n",
    "                       irs_to_price['libor_tenor'],\n",
    "                       irs_to_price['maturity']) "
   ]
  },
  {
   "cell_type": "code",
   "execution_count": 10,
   "metadata": {},
   "outputs": [],
   "source": [
    "from finmarkets import CreditCurve\n",
    "from datetime import date\n",
    "\n",
    "pillar_dates = [pricing_date]\n",
    "ndps = [1.0]\n",
    "\n",
    "for quote in survival_probabilities:  \n",
    "        pillar_dates.append(quote['date']) \n",
    "        ndps.append(quote['ndp'])\n",
    "\n",
    "credit_curve = CreditCurve(pillar_dates, ndps)\n",
    "#print (credit_curve.ndp(date(2039, 12, 20)))"
   ]
  },
  {
   "cell_type": "code",
   "execution_count": 11,
   "metadata": {},
   "outputs": [],
   "source": [
    "import numpy as np\n",
    "import math\n",
    "\n",
    "n_scenarios = 1000000\n",
    "np.random.seed(1)\n",
    "payoffs = []\n",
    "npv_mc_list = []\n",
    "\n",
    "maturity = max(irs.fixed_leg_dates[-1], irs.floating_leg_dates[-1])\n",
    "S = swap_rate\n",
    "A = irs.annuity(discount_curve)\n",
    "T = (credit_var_date - pricing_date).days/365\n",
    "\n",
    "for i_scenario in range(n_scenarios):\n",
    "    \n",
    "    if np.random.uniform(0,1) > credit_curve.ndp(credit_var_date):\n",
    "        default = True\n",
    "    else:\n",
    "        default = False\n",
    "    \n",
    "    # simulates the swap rate in this scenario\n",
    "    rnd = np.random.normal()\n",
    "    S_simulated = S * math.exp(-0.5 * volatility * volatility * T + \n",
    "                               volatility * math.sqrt(T) * rnd)\n",
    "    \n",
    "    # calculate the swap NPV in this scenario\n",
    "    swap_npv = irs.notional * (S_simulated - irs.fixed_rate)*(A/discount_curve.df(credit_var_date))  \n",
    "    \n",
    "    if default and swap_npv > 0:\n",
    "        swap_npv *= (1 - recovery)\n",
    "    \n",
    "        # adds the payoff of the swap, in this scenario, to the list\n",
    "        payoffs.append(swap_npv)\n",
    "\n",
    "#print (payoffs)"
   ]
  },
  {
   "cell_type": "code",
   "execution_count": 13,
   "metadata": {},
   "outputs": [
    {
     "name": "stdout",
     "output_type": "stream",
     "text": [
      "Credit Var: 67756160.56 Eur\n"
     ]
    },
    {
     "data": {
      "image/png": "[encoded data removed]",
      "text/plain": [
       "<Figure size 432x288 with 1 Axes>"
      ]
     },
     "metadata": {
      "needs_background": "light"
     },
     "output_type": "display_data"
    }
   ],
   "source": [
    "from matplotlib import pyplot as plt\n",
    "#At the 95% of confidence interval\n",
    "\n",
    "a = np.array(payoffs)\n",
    "credit_var = np.percentile(a, 95)\n",
    "\n",
    "print('Credit Var: {:.2f} Eur'.format(credit_var))\n",
    "\n",
    "plt.title(\"Losses Distribution\")\n",
    "plt.hist(a, bins=100, facecolor='red')\n",
    "plt.axvline(x = credit_var, ymin=0, ymax=90,linestyle=':',linewidth=1, color = 'k')\n",
    "plt.text(credit_var, 80, r'95%', fontsize=10, rotation=90, color='k')\n",
    "\n",
    "plt.show()"
   ]
  }
 ],
 "metadata": {
  "anaconda-cloud": {},
  "kernelspec": {
   "display_name": "Python 3",
   "language": "python",
   "name": "python3"
  },
  "language_info": {
   "codemirror_mode": {
    "name": "ipython",
    "version": 3
   },
   "file_extension": ".py",
   "mimetype": "text/x-python",
   "name": "python",
   "nbconvert_exporter": "python",
   "pygments_lexer": "ipython3",
   "version": "3.6.3"
  }
 },
 "nbformat": 4,
 "nbformat_minor": 1
}
