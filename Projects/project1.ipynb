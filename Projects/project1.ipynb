{
 "cells": [
  {
   "cell_type": "markdown",
   "metadata": {},
   "source": [
    "## Basis Swap Par Spreads\n",
    "\n",
    "The goal of the project is to compute the par spreads of a pool of basis swaps, i.e. those contracts in which two floating libor rates, with different tenors, are exchanged. The par spread is that margin which has to be paid/received on top of the floating rate with the shorter tenor.\n",
    "\n",
    "The input parameters are:\n",
    "\n",
    "* The par rate of a set of Overnight Index Swaps (i.e. their market quotation)\n",
    "* 3 sets of forward libor rates and their fixing dates, one for the Libor 1M, one for the Libor 3M and one for the Libor 6M.\n",
    "* The static data of the pool of swaps (nominal, maturity, tenor of the first leg, tenor of the second leg)\n",
    "\n",
    "Numerical results must be presented to the examining committee during a presentation in which the candidates will also explain the theoretical framework for multi-curve evaluation."
   ]
  },
  {
   "cell_type": "code",
   "execution_count": 1,
   "metadata": {
    "collapsed": true
   },
   "outputs": [],
   "source": [
    "from datetime import date\n",
    "today = date(2019, 10, 31)\n",
    "\n",
    "# ois_quotes.csv\n",
    "# euribor1M_proj1.csv\n",
    "# euribor3M_proj1.csv\n",
    "# euribor6M_proj1.csv\n",
    "# basis_swaps_proj1.csv"
   ]
  }
 ],
 "metadata": {
  "anaconda-cloud": {},
  "kernelspec": {
   "display_name": "Python 3",
   "language": "python",
   "name": "python3"
  },
  "language_info": {
   "codemirror_mode": {
    "name": "ipython",
    "version": 3
   },
   "file_extension": ".py",
   "mimetype": "text/x-python",
   "name": "python",
   "nbconvert_exporter": "python",
   "pygments_lexer": "ipython3",
   "version": "3.6.3"
  }
 },
 "nbformat": 4,
 "nbformat_minor": 1
}
