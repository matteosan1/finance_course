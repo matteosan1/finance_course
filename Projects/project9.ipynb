{
 "cells": [
  {
   "cell_type": "markdown",
   "metadata": {},
   "source": [
    "### Parameters\n",
    "\n",
    "* Asset 1 is a bond (low Sharpe)\n",
    "* Asset 2 is equities (high Sharpe)\n",
    "* Bonds and equities are negatively correlated\n",
    "\n",
    "\n",
    "Minimum variance portfolio\n",
    "Tangent portfolio\n",
    "\n",
    "Efficient frontier with no riskless asset\n",
    "Efficient frontier with a riskless asset\n",
    "Portfolio along the efficient frontier"
   ]
  },
  {
   "cell_type": "code",
   "execution_count": null,
   "metadata": {},
   "outputs": [],
   "source": [
    "from pandas import DataFrame\n",
    "import numpy as np\n",
    "\n",
    "r=0.02 # Cash rate\n",
    "\n",
    "s1=0.07 # Vol\n",
    "sr1=0.05 # Sharpe\n",
    "s2=0.16 # Vol\n",
    "sr2=0.25 # Sharpe\n",
    "rho=-0.2 # Correlation\n",
    "sigma=np.array([[s1**2,rho*s1*s2],[rho*s1*s2,s2**2]]) # Covariance matrix\n",
    "e=np.ones(2)\n",
    "\n",
    "mu1=r+sr1*s1 # Expected return\n",
    "mu2=r+sr2*s2 # Expected return\n",
    "mu=np.array([mu1,mu2]) # Vector of expected returns"
   ]
  }
 ],
 "metadata": {
  "kernelspec": {
   "display_name": "Python 3",
   "language": "python",
   "name": "python3"
  },
  "language_info": {
   "codemirror_mode": {
    "name": "ipython",
    "version": 3
   },
   "file_extension": ".py",
   "mimetype": "text/x-python",
   "name": "python",
   "nbconvert_exporter": "python",
   "pygments_lexer": "ipython3",
   "version": "3.7.4"
  }
 },
 "nbformat": 4,
 "nbformat_minor": 2
}
