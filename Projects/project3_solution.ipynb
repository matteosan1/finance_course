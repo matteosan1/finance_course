{
 "cells": [
  {
   "cell_type": "markdown",
   "metadata": {},
   "source": [
    "# Credit VAR of a Swap\n",
    "\n",
    "The goal of the project is to compute the Credit VAR (95th percentile) of a swap in which the counterparty might default. The input parameters are:\n",
    "\n",
    "* The par rate of a set of Overnight Index Swaps (i.e. their market quotation)\n",
    "* A set of forward libor rates and their fixing dates\n",
    "* The static data of the swap (nominal, start date, maturity, underlying libor tenor, etc..). The fixed rate of the swap is such that if there was no counterparty risk, the product would be traded at par. You are requested to compute it.\n",
    "* A set of survival probabilities for the risky counterparty\n",
    "* The recovery rate for this swap (i.e. the fraction of the market value that it is expected to recover in case of default).\n",
    "* The volatility of the swap rate, which is assumed to be constant through time (the swap rate is lognormal with fixed volatility)\n",
    "\n",
    "The swap starts today and the horizon for the VAR calculation is before any future payments. \n",
    "\n",
    "The requested VAR is today’s value at risk, i.e. the 95th percentile of the discounted loss distribution function.\n",
    "\n",
    "Numerical results must be presented to the examining committee during a presentation in which the candidates will also explain the theoretical framework for credit risk evaluation.\n",
    "\n",
    "\n"
   ]
  },
  {
   "cell_type": "code",
   "execution_count": 1,
   "metadata": {},
   "outputs": [],
   "source": [
    "from datetime import date"
   ]
  },
  {
   "cell_type": "code",
   "execution_count": 2,
   "metadata": {},
   "outputs": [],
   "source": [
    "pricing_date = date(2019, 10, 31)"
   ]
  },
  {
   "cell_type": "code",
   "execution_count": 3,
   "metadata": {},
   "outputs": [],
   "source": [
    "survival_probabilities = [\n",
    "    {'date': date(2020, 12, 20), 'ndp': 0.972159727015014},\n",
    "    {'date': date(2021, 12, 20), 'ndp': 0.942926329174406},\n",
    "    {'date': date(2022, 12, 20), 'ndp': 0.913448056250137},\n",
    "    {'date': date(2024, 12, 20), 'ndp': 0.855640452819766},\n",
    "    {'date': date(2029, 12, 20), 'ndp': 0.732687779675469},\n",
    "    {'date': date(2039, 12, 20), 'ndp': 0.539046016487758},\n",
    "]"
   ]
  },
  {
   "cell_type": "code",
   "execution_count": 4,
   "metadata": {},
   "outputs": [],
   "source": [
    "ois_quotes = [\n",
    "    {'maturity': 1, 'rate': 0.00106},\n",
    "    {'maturity': 2, 'rate': 0.00114},\n",
    "    {'maturity': 3, 'rate': 0.00115},\n",
    "    {'maturity': 4, 'rate': 0.00117},\n",
    "    {'maturity': 5, 'rate': 0.00119},\n",
    "    {'maturity': 6, 'rate': 0.00121},\n",
    "    {'maturity': 7, 'rate': 0.00122},\n",
    "    {'maturity': 8, 'rate': 0.00124},\n",
    "    {'maturity': 9, 'rate': 0.00128},\n",
    "    {'maturity': 10, 'rate': 0.00131},\n",
    "    {'maturity': 11, 'rate': 0.00135},\n",
    "    {'maturity': 12, 'rate': 0.00138},\n",
    "    {'maturity': 15, 'rate': 0.00152},\n",
    "    {'maturity': 18, 'rate': 0.00166},\n",
    "    {'maturity': 21, 'rate': 0.00184},\n",
    "    {'maturity': 24, 'rate': 0.00206},\n",
    "    {'maturity': 36, 'rate': 0.00344},\n",
    "    {'maturity': 48, 'rate': 0.00543},\n",
    "    {'maturity': 60, 'rate': 0.00756},\n",
    "    {'maturity': 72, 'rate': 0.00967},\n",
    "    {'maturity': 84, 'rate': 0.01162},\n",
    "    {'maturity': 96, 'rate': 0.0134},\n",
    "    {'maturity': 108, 'rate': 0.01502},\n",
    "    {'maturity': 120, 'rate': 0.01649},\n",
    "    {'maturity': 132, 'rate': 0.01776},\n",
    "    {'maturity': 144, 'rate': 0.01888},\n",
    "    {'maturity': 180, 'rate': 0.02137},\n",
    "    {'maturity': 240, 'rate': 0.02322},\n",
    "    {'maturity': 300, 'rate': 0.02389},\n",
    "    {'maturity': 360, 'rate': 0.02416},\n",
    "]"
   ]
  },
  {
   "cell_type": "code",
   "execution_count": 5,
   "metadata": {},
   "outputs": [],
   "source": [
    "euribor_6m = [\n",
    "    {'date': date(2019, 10, 31), 'rate': 0.005},\n",
    "    {'date': date(2020, 4, 30), 'rate': 0.0058},\n",
    "    {'date': date(2020, 10, 30), 'rate': 0.0066},\n",
    "    {'date': date(2021, 4, 30), 'rate': 0.0074},\n",
    "    {'date': date(2021, 10, 30), 'rate': 0.0082},\n",
    "    {'date': date(2022, 4, 30), 'rate': 0.009},\n",
    "    {'date': date(2022, 10, 30), 'rate': 0.0098},\n",
    "    {'date': date(2023, 4, 30), 'rate': 0.0106},\n",
    "    {'date': date(2023, 10, 30), 'rate': 0.0114},\n",
    "    {'date': date(2024, 4, 30), 'rate': 0.0122},\n",
    "    {'date': date(2024, 10, 30), 'rate': 0.013},\n",
    "    {'date': date(2025, 4, 30), 'rate': 0.0138},\n",
    "    {'date': date(2025, 10, 30), 'rate': 0.0146},\n",
    "    {'date': date(2026, 4, 30), 'rate': 0.0154},\n",
    "    {'date': date(2026, 10, 30), 'rate': 0.0162},\n",
    "    {'date': date(2027, 4, 30), 'rate': 0.017},\n",
    "    {'date': date(2027, 10, 30), 'rate': 0.0178},\n",
    "    {'date': date(2028, 4, 30), 'rate': 0.0186},\n",
    "    {'date': date(2028, 10, 30), 'rate': 0.0194},\n",
    "    {'date': date(2029, 4, 30), 'rate': 0.0202},\n",
    "    {'date': date(2029, 10, 30), 'rate': 0.021},\n",
    "    {'date': date(2030, 4, 30), 'rate': 0.0218},\n",
    "    {'date': date(2030, 10, 30), 'rate': 0.0226},\n",
    "    {'date': date(2031, 4, 30), 'rate': 0.0234},\n",
    "    {'date': date(2031, 10, 30), 'rate': 0.0242},\n",
    "    {'date': date(2032, 4, 30), 'rate': 0.025},\n",
    "    {'date': date(2032, 10, 30), 'rate': 0.0258},\n",
    "    {'date': date(2033, 4, 30), 'rate': 0.0266},\n",
    "    {'date': date(2033, 10, 30), 'rate': 0.0274},\n",
    "    {'date': date(2034, 4, 30), 'rate': 0.0282},\n",
    "]"
   ]
  },
  {
   "cell_type": "code",
   "execution_count": 6,
   "metadata": {},
   "outputs": [],
   "source": [
    "irs_to_price = {\n",
    "    'nominal': 100e6, \n",
    "    'libor_tenor': 6,\n",
    "    'fixed_leg_frequency': 12,\n",
    "    'maturity': 120\n",
    "}\n",
    "\n",
    "credit_var_date = date(2020, 1, 31)\n",
    "recovery = 0.4\n",
    "volatility = 0.2\n",
    "mc_runs = 10000\n",
    "percentile = 0.95"
   ]
  },
  {
   "cell_type": "code",
   "execution_count": 7,
   "metadata": {},
   "outputs": [],
   "source": [
    "from finmarkets import ForwardRateCurve\n",
    "\n",
    "pillars = []\n",
    "rates = []\n",
    "for e in euribor_6m:\n",
    "    pillars.append(e['date'])\n",
    "    rates.append(e['rate'])\n",
    "    \n",
    "libor_curve = ForwardRateCurve(pillars, rates)"
   ]
  },
  {
   "cell_type": "code",
   "execution_count": 8,
   "metadata": {},
   "outputs": [],
   "source": [
    "from finmarkets import OvernightIndexSwap, generate_swap_dates\n",
    "\n",
    "pillar_dates = [pricing_date]\n",
    "swaps=[]\n",
    "for quote in ois_quotes:\n",
    "    swap = OvernightIndexSwap(\n",
    "        100e6,\n",
    "        generate_swap_dates(pricing_date, quote['maturity']),\n",
    "        quote['rate']        \n",
    "    )\n",
    "    \n",
    "    swaps.append(swap)\n",
    "    pillar_dates.append(swap.payment_dates[-1])\n",
    "    \n",
    "pillar_dates = sorted(pillar_dates)"
   ]
  },
  {
   "cell_type": "code",
   "execution_count": 9,
   "metadata": {},
   "outputs": [],
   "source": [
    "from finmarkets import DiscountCurve\n",
    "\n",
    "def objective_function(x):    \n",
    "    curve = DiscountCurve(pricing_date, pillar_dates, x)\n",
    "    \n",
    "    sum_sq = 0.0\n",
    "    for swap in swaps:\n",
    "        sum_sq += swap.npv(curve) ** 2\n",
    "        \n",
    "    return sum_sq"
   ]
  },
  {
   "cell_type": "code",
   "execution_count": 10,
   "metadata": {},
   "outputs": [],
   "source": [
    "from scipy.optimize import minimize\n",
    "\n",
    "x0 = [1.0 for i in range(len(pillar_dates))]\n",
    "bounds = [(0.01, 100.0) for i in range(len(pillar_dates))]\n",
    "bounds[0] = (1.0, 1.0)\n",
    "\n",
    "result = minimize(objective_function, x0, bounds=bounds)"
   ]
  },
  {
   "cell_type": "code",
   "execution_count": 11,
   "metadata": {},
   "outputs": [
    {
     "name": "stdout",
     "output_type": "stream",
     "text": [
      "      fun: 6.561222695562218\n",
      " hess_inv: <31x31 LbfgsInvHessProduct with dtype=float64>\n",
      "      jac: array([ 5.79533148e+09, -6.11416340e-01, -1.02210578e+00, -1.02002513e+00,\n",
      "       -2.29282904e-01, -4.21489688e-01,  2.38069298e-01,  2.97073299e-01,\n",
      "       -5.43240830e-01,  4.44265780e-01, -8.33293434e-01, -1.09130767e+00,\n",
      "        8.43645154e-02,  9.95737537e-01,  6.46644160e-01, -4.08023837e-02,\n",
      "        4.01171505e+00,  5.21068539e+00,  3.55710492e+00, -3.42293660e-01,\n",
      "        9.00596131e-01,  9.34938527e-01,  2.68764069e+00,  2.20538379e+00,\n",
      "        1.80671345e+00,  8.24062774e-01,  3.95180679e+00,  2.40684752e+00,\n",
      "       -4.18750963e+00, -3.05900025e+00, -2.40547777e+00])\n",
      "  message: b'CONVERGENCE: REL_REDUCTION_OF_F_<=_FACTR*EPSMCH'\n",
      "     nfev: 1120\n",
      "      nit: 13\n",
      "   status: 0\n",
      "  success: True\n",
      "        x: array([1.        , 0.99991167, 0.99980687, 0.99970619, 0.9996069 ,\n",
      "       0.9994978 , 0.99938865, 0.99927868, 0.99916369, 0.99902672,\n",
      "       0.99889136, 0.99874532, 0.99859896, 0.99806913, 0.99748218,\n",
      "       0.99674116, 0.9958287 , 0.98958289, 0.97817147, 0.96221333,\n",
      "       0.94242721, 0.91997876, 0.89555368, 0.86964679, 0.84279842,\n",
      "       0.81599792, 0.78928551, 0.71346985, 0.61195504, 0.53245428,\n",
      "       0.46683033])\n",
      "1.399018802873446e+16\n",
      "6.561222695562218\n"
     ]
    }
   ],
   "source": [
    "print (result)\n",
    "print (objective_function(x0))\n",
    "print (objective_function(result.x))"
   ]
  },
  {
   "cell_type": "code",
   "execution_count": 12,
   "metadata": {},
   "outputs": [],
   "source": [
    "discount_curve = DiscountCurve(pricing_date, pillar_dates, result.x)"
   ]
  },
  {
   "cell_type": "code",
   "execution_count": 13,
   "metadata": {},
   "outputs": [
    {
     "name": "stdout",
     "output_type": "stream",
     "text": [
      "-6210254629.589306\n"
     ]
    }
   ],
   "source": [
    "from finmarkets import InterestRateSwap\n",
    "\n",
    "random_fixed_rate = 1\n",
    "irs_random = InterestRateSwap(pricing_date, irs_to_price['nominal'], \n",
    "                              random_fixed_rate, \n",
    "                              irs_to_price['libor_tenor'],\n",
    "                              irs_to_price['maturity']) \n",
    "                                                        \n",
    "print (irs_random.npv(discount_curve, libor_curve))\n",
    "swap_rate = irs_random.swap_rate(discount_curve, libor_curve)"
   ]
  },
  {
   "cell_type": "code",
   "execution_count": 14,
   "metadata": {},
   "outputs": [
    {
     "name": "stdout",
     "output_type": "stream",
     "text": [
      "0.0\n"
     ]
    }
   ],
   "source": [
    "irs = InterestRateSwap(pricing_date, irs_to_price['nominal'], \n",
    "                       swap_rate, \n",
    "                       irs_to_price['libor_tenor'],\n",
    "                       irs_to_price['maturity']) \n",
    "\n",
    "print (irs.npv(discount_curve, libor_curve))"
   ]
  },
  {
   "cell_type": "code",
   "execution_count": 15,
   "metadata": {},
   "outputs": [
    {
     "name": "stdout",
     "output_type": "stream",
     "text": [
      "0.539046016487758\n"
     ]
    }
   ],
   "source": [
    "from finmarkets import CreditCurve\n",
    "from datetime import date\n",
    "\n",
    "pillar_dates = [pricing_date]\n",
    "ndps = [1.0]\n",
    "\n",
    "for quote in survival_probabilities:  \n",
    "        pillar_dates.append(quote['date']) \n",
    "        ndps.append(quote['ndp'])\n",
    "\n",
    "credit_curve = CreditCurve(pillar_dates, ndps)\n",
    "print (credit_curve.ndp(date(2039, 12, 20)))"
   ]
  },
  {
   "cell_type": "code",
   "execution_count": 25,
   "metadata": {},
   "outputs": [
    {
     "data": {
      "image/png": "[encoded data removed]",
      "text/plain": [
       "<Figure size 432x288 with 1 Axes>"
      ]
     },
     "metadata": {
      "needs_background": "light"
     },
     "output_type": "display_data"
    }
   ],
   "source": [
    "from dateutil.relativedelta import relativedelta\n",
    "\n",
    "maturity_date = pricing_date + relativedelta(months=irs_to_price['maturity'])\n",
    "delta = (maturity_date - pricing_date).days\n",
    "\n",
    "adate = pricing_date\n",
    "date_list = []\n",
    "for _ in range(delta):\n",
    "    date_list.append(adate)\n",
    "    adate += relativedelta(days=1)\n",
    "\n",
    "pd_cdf = []\n",
    "for i in range(len(date_list)):\n",
    "    pd_cdf.append(credit_curve.ndp(date_list[0]) - credit_curve.ndp(date_list[i]))\n",
    "    \n",
    "from matplotlib import pyplot as plt\n",
    "plt.plot(pd_cdf)\n",
    "plt.show()"
   ]
  },
  {
   "cell_type": "code",
   "execution_count": 34,
   "metadata": {},
   "outputs": [],
   "source": [
    "from numpy import random, percentile, log\n",
    "from scipy.optimize import root\n",
    "\n",
    "def invert(seed, pd_cdf):\n",
    "    for ipd, pd in enumerate(pd_cdf):\n",
    "        if pd > seed: \n",
    "            return ipd\n",
    "\n",
    "time_horizon = (credit_var_date - pricing_date).days\n",
    "\n",
    "default_dates = []\n",
    "seeds = random.uniform(0, pd_cdf[92], 10000)\n",
    "for s in seeds:\n",
    "    days = invert(s, pd_cdf)\n",
    "    default_dates.append(days)"
   ]
  },
  {
   "cell_type": "code",
   "execution_count": null,
   "metadata": {},
   "outputs": [],
   "source": [
    "from numpy.random import normal\n",
    "\n",
    "n_scenarios = 10000\n",
    "\n",
    "payoffs = []\n",
    "npv_mc_list=[]\n",
    "\n",
    "for day in default_dates:\n",
    "    T = (maturity - day).days/365\n",
    "    for i_scenario in range(n_scenarios):\n",
    "    \n",
    "    # simulates the swap rate in this scenario\n",
    "        S_simulated = S * math.exp(-0.5 * sigma * sigma * T + sigma * math.sqrt(T) * normal())\n",
    "    \n",
    "    # calculate the swap NPV in this scenario\n",
    "        swap_npv = irs_fair.notional * (S_simulated - irs_fair.fixed_rate)*(A/discount_curve_project.df(item))  \n",
    "    \n",
    "    # adds the payoff of the swap, in this scenario, to the list\n",
    "       \n",
    "        payoffs.append(swap_npv)\n",
    "    \n",
    "# calculates the NPV of the swap by taking the average of the payoffs across all the scenarios\n",
    "    npv_mc = np.mean(payoffs)\n",
    "    npv_mc_list.append(npv_mc)\n",
    "\n",
    "npv_mc_list"
   ]
  }
 ],
 "metadata": {
  "anaconda-cloud": {},
  "kernelspec": {
   "display_name": "Python 3",
   "language": "python",
   "name": "python3"
  },
  "language_info": {
   "codemirror_mode": {
    "name": "ipython",
    "version": 3
   },
   "file_extension": ".py",
   "mimetype": "text/x-python",
   "name": "python",
   "nbconvert_exporter": "python",
   "pygments_lexer": "ipython3",
   "version": "3.7.5"
  }
 },
 "nbformat": 4,
 "nbformat_minor": 1
}
