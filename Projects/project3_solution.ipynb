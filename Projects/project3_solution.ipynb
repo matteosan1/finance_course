{
 "cells": [
  {
   "cell_type": "markdown",
   "metadata": {},
   "source": [
    "# Credit VAR of a Swap\n",
    "\n",
    "The goal of the project is to compute the Credit VAR (95th percentile) of a swap in which the counterparty might default. The input parameters are:\n",
    "\n",
    "* The par rate of a set of Overnight Index Swaps (i.e. their market quotation)\n",
    "* A set of forward libor rates and their fixing dates\n",
    "* The static data of the swap (nominal, start date, maturity, underlying libor tenor, etc..). The fixed rate of the swap is such that if there was no counterparty risk, the product would be traded at par. You are requested to compute it.\n",
    "* A set of survival probabilities for the risky counterparty\n",
    "* The recovery rate for this swap (i.e. the fraction of the market value that it is expected to recover in case of default).\n",
    "* The volatility of the swap rate, which is assumed to be constant through time (the swap rate is lognormal with fixed volatility)\n",
    "\n",
    "The swap starts today and the horizon for the VAR calculation is before any future payments. \n",
    "\n",
    "The requested VAR is today’s value at risk, i.e. the 95th percentile of the discounted loss distribution function.\n",
    "\n",
    "Numerical results must be presented to the examining committee during a presentation in which the candidates will also explain the theoretical framework for credit risk evaluation.\n",
    "\n",
    "\n"
   ]
  },
  {
   "cell_type": "code",
   "execution_count": 30,
   "metadata": {},
   "outputs": [],
   "source": [
    "from datetime import date\n",
    "from finmarkets import ForwardRateCurve\n",
    "\n",
    "pricing_date = date(2019, 10, 31)\n",
    "\n",
    "df = pd.read_csv(\"survival_probabilities_proj3.csv\")\n",
    "df['date'] = pd.to_datetime(df['date']).dt.date\n",
    "survival_probabilities = df.to_dict('records')\n",
    "\n",
    "ois_quotes = pd.read_csv(\"ois_quotes.csv\").to_dict('records')\n",
    "\n",
    "df = pd.read_csv(\"euribor6M_proj3.csv\")\n",
    "\n",
    "libor_curve = ForwardRateCurve(pd.to_datetime(df['dates']).dt.date.to_list(), \n",
    "                               df['rates'])\n",
    "\n",
    "irs_to_price = {\n",
    "    'nominal': 100e6, \n",
    "    'libor_tenor': 6,\n",
    "    'fixed_leg_frequency': 12,\n",
    "    'maturity': 120\n",
    "}\n",
    "\n",
    "credit_var_date = date(2020, 1, 31)\n",
    "recovery = 0.4\n",
    "volatility = 0.2\n",
    "mc_runs = 10000\n",
    "percentile = 0.95"
   ]
  },
  {
   "cell_type": "code",
   "execution_count": 31,
   "metadata": {},
   "outputs": [],
   "source": [
    "from finmarkets import OvernightIndexSwap, generate_swap_dates\n",
    "\n",
    "pillar_dates = [pricing_date]\n",
    "swaps=[]\n",
    "for quote in ois_quotes:\n",
    "    swap = OvernightIndexSwap(\n",
    "        100e6,\n",
    "        generate_swap_dates(pricing_date, quote['maturity']),\n",
    "        quote['rate']        \n",
    "    )\n",
    "    \n",
    "    swaps.append(swap)\n",
    "    pillar_dates.append(swap.payment_dates[-1])\n",
    "    \n",
    "pillar_dates = sorted(pillar_dates)"
   ]
  },
  {
   "cell_type": "code",
   "execution_count": 32,
   "metadata": {},
   "outputs": [],
   "source": [
    "from finmarkets import DiscountCurve\n",
    "\n",
    "def objective_function(x):    \n",
    "    curve = DiscountCurve(pricing_date, pillar_dates, x)\n",
    "    \n",
    "    sum_sq = 0.0\n",
    "    for swap in swaps:\n",
    "        sum_sq += swap.npv(curve) ** 2\n",
    "        \n",
    "    return sum_sq"
   ]
  },
  {
   "cell_type": "code",
   "execution_count": 26,
   "metadata": {},
   "outputs": [],
   "source": [
    "from scipy.optimize import minimize\n",
    "\n",
    "x0 = [0.5 for i in range(len(pillar_dates))]\n",
    "bounds = [(0.01, 100.0) for i in range(len(pillar_dates))]\n",
    "bounds[0] = (1.0, 1.0)\n",
    "\n",
    "result = minimize(objective_function, x0, bounds=bounds, options={'eps': 1e-12})"
   ]
  },
  {
   "cell_type": "code",
   "execution_count": 27,
   "metadata": {},
   "outputs": [
    {
     "name": "stdout",
     "output_type": "stream",
     "text": [
      "      fun: 5.031940602398475e-08\n",
      " hess_inv: <31x31 LbfgsInvHessProduct with dtype=float64>\n",
      "      jac: array([5.43836883e+05, 1.08535460e+03, 1.07184413e+03, 1.06984039e+03,\n",
      "       1.07528858e+03, 1.08199817e+03, 1.07844792e+03, 1.09653466e+03,\n",
      "       1.09594862e+03, 1.11947873e+03, 1.13630853e+03, 1.16532467e+03,\n",
      "       1.76811952e+02, 2.23957955e+03, 2.21713369e+03, 2.24424254e+03,\n",
      "       5.37138310e+02, 6.69629920e+02, 1.96385683e+03, 1.88308574e+03,\n",
      "       1.35300930e+03, 7.93930439e+02, 8.49888670e+02, 1.62669550e+03,\n",
      "       2.76014123e+03, 4.00893403e+03, 1.31736093e+03, 1.53692739e+02,\n",
      "       1.13881360e+03, 2.09675555e+02, 3.47982532e+02])\n",
      "  message: b'CONVERGENCE: REL_REDUCTION_OF_F_<=_FACTR*EPSMCH'\n",
      "     nfev: 2336\n",
      "      nit: 29\n",
      "   status: 0\n",
      "  success: True\n",
      "        x: array([1.        , 0.99991167, 0.99980687, 0.9997062 , 0.9996069 ,\n",
      "       0.99949781, 0.99938865, 0.99927869, 0.9991637 , 0.99902673,\n",
      "       0.99889137, 0.99874533, 0.99859897, 0.99806914, 0.99748219,\n",
      "       0.99674117, 0.9958287 , 0.98958289, 0.97817147, 0.96221333,\n",
      "       0.94242721, 0.91997876, 0.89555369, 0.8696468 , 0.84279842,\n",
      "       0.81599792, 0.78928551, 0.71346985, 0.61195504, 0.53245428,\n",
      "       0.46683034])\n",
      "3497547007183614.5\n",
      "5.031940602398475e-08\n"
     ]
    }
   ],
   "source": [
    "print (result)\n",
    "print (objective_function(x0))\n",
    "print (objective_function(result.x))"
   ]
  },
  {
   "cell_type": "code",
   "execution_count": 33,
   "metadata": {},
   "outputs": [],
   "source": [
    "discount_curve = DiscountCurve(pricing_date, pillar_dates, result.x)"
   ]
  },
  {
   "cell_type": "code",
   "execution_count": 34,
   "metadata": {},
   "outputs": [],
   "source": [
    "from finmarkets import InterestRateSwap\n",
    "\n",
    "random_fixed_rate = 1\n",
    "irs_random = InterestRateSwap(credit_var_date, irs_to_price['nominal'], \n",
    "                              random_fixed_rate, \n",
    "                              irs_to_price['libor_tenor'],\n",
    "                              irs_to_price['maturity']) \n",
    "                                                        \n",
    "swap_rate = irs_random.swap_rate(discount_curve, libor_curve)"
   ]
  },
  {
   "cell_type": "code",
   "execution_count": 35,
   "metadata": {},
   "outputs": [],
   "source": [
    "irs = InterestRateSwap(credit_var_date, irs_to_price['nominal'], \n",
    "                       swap_rate, \n",
    "                       irs_to_price['libor_tenor'],\n",
    "                       irs_to_price['maturity']) "
   ]
  },
  {
   "cell_type": "code",
   "execution_count": 36,
   "metadata": {},
   "outputs": [],
   "source": [
    "from finmarkets import CreditCurve\n",
    "from datetime import date\n",
    "\n",
    "pillar_dates = [pricing_date]\n",
    "ndps = [1.0]\n",
    "\n",
    "for quote in survival_probabilities:  \n",
    "        pillar_dates.append(quote['date']) \n",
    "        ndps.append(quote['ndp'])\n",
    "\n",
    "credit_curve = CreditCurve(pillar_dates, ndps)\n",
    "#print (credit_curve.ndp(date(2039, 12, 20)))"
   ]
  },
  {
   "cell_type": "code",
   "execution_count": 37,
   "metadata": {},
   "outputs": [],
   "source": [
    "import numpy as np\n",
    "import math\n",
    "\n",
    "n_scenarios = 1000000\n",
    "np.random.seed(1)\n",
    "payoffs = []\n",
    "npv_mc_list = []\n",
    "\n",
    "maturity = max(irs.fixed_leg_dates[-1], irs.floating_leg_dates[-1])\n",
    "S = swap_rate\n",
    "A = irs.annuity(discount_curve)\n",
    "T = (credit_var_date - pricing_date).days/365\n",
    "\n",
    "for i_scenario in range(n_scenarios):\n",
    "    \n",
    "    if np.random.uniform(0,1) > credit_curve.ndp(credit_var_date):\n",
    "        default = True\n",
    "    else:\n",
    "        default = False\n",
    "    \n",
    "    # simulates the swap rate in this scenario\n",
    "    rnd = np.random.normal()\n",
    "    S_simulated = S * math.exp(-0.5 * volatility * volatility * T + \n",
    "                               volatility * math.sqrt(T) * rnd)\n",
    "    \n",
    "    # calculate the swap NPV in this scenario\n",
    "    swap_npv = irs.notional * (S_simulated - irs.fixed_rate)*(A/discount_curve.df(credit_var_date))  \n",
    "    \n",
    "    if default and swap_npv > 0:\n",
    "        swap_npv *= (1 - recovery)\n",
    "    \n",
    "        # adds the payoff of the swap, in this scenario, to the list\n",
    "        payoffs.append(swap_npv)\n",
    "\n",
    "#print (payoffs)"
   ]
  },
  {
   "cell_type": "code",
   "execution_count": 39,
   "metadata": {},
   "outputs": [
    {
     "name": "stdout",
     "output_type": "stream",
     "text": [
      "Credit Var: 20368666.08 Eur\n"
     ]
    },
    {
     "data": {
      "image/png": "[encoded data removed]",
      "text/plain": [
       "<Figure size 432x288 with 1 Axes>"
      ]
     },
     "metadata": {
      "needs_background": "light"
     },
     "output_type": "display_data"
    }
   ],
   "source": [
    "from matplotlib import pyplot as plt\n",
    "#At the 95% of confidence interval\n",
    "\n",
    "a = np.array(payoffs)\n",
    "credit_var = np.percentile(a, 95)\n",
    "\n",
    "print('Credit Var: {:.2f} Eur'.format(credit_var))\n",
    "\n",
    "plt.title(\"Losses Distribution\")\n",
    "plt.hist(a, bins=100, facecolor='red')\n",
    "plt.axvline(x = credit_var, ymin=0, ymax=90,linestyle=':',linewidth=1, color = 'k')\n",
    "plt.text(credit_var, 80, r'95%', fontsize=10, rotation=90, color='k')\n",
    "\n",
    "plt.show()"
   ]
  }
 ],
 "metadata": {
  "anaconda-cloud": {},
  "kernelspec": {
   "display_name": "Python 3",
   "language": "python",
   "name": "python3"
  },
  "language_info": {
   "codemirror_mode": {
    "name": "ipython",
    "version": 3
   },
   "file_extension": ".py",
   "mimetype": "text/x-python",
   "name": "python",
   "nbconvert_exporter": "python",
   "pygments_lexer": "ipython3",
   "version": "3.6.3"
  }
 },
 "nbformat": 4,
 "nbformat_minor": 1
}
