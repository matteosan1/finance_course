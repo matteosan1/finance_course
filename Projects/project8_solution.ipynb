{
 "cells": [
  {
   "cell_type": "markdown",
   "metadata": {},
   "source": [
    "## Portfolio Optimization\n",
    "\n",
    "Given the historical series of a set of securities (SP500 included), you are asked to:\n",
    "\n",
    "* find the best set of 10 securities to build a portfolio according to CAPM and justify your choice;\n",
    "* find the Markowitz portfolio;\n",
    "* draw efficient frontier of the risky portfolio and the CAL;\n",
    "* find the market portfolio (the one maximizing the Sharpe Ratio);\n",
    "* compare and comment the composition of the Sharpe portfolio and the one obtained with CAPM.\n",
    "\n",
    "The inputs are:\n",
    "\n",
    "* historical series file;\n",
    "* risk-free rate.\n",
    "\n",
    "### Notes and hints\n",
    "\n",
    "Numerical results must be presented to the examining committee during a presentation in which the candidates will also explain the theoretical framework of the portfolio optimization models."
   ]
  },
  {
   "cell_type": "code",
   "execution_count": 51,
   "metadata": {},
   "outputs": [
    {
     "name": "stdout",
     "output_type": "stream",
     "text": [
      "                  SP500         AAP   ABMD        AOS        APA        ATO  \\\n",
      "date                                                                          \n",
      "27/03/2014  1849.040039  123.163696  25.77  21.684981  77.581405  41.977775   \n",
      "28/03/2014  1857.619995  123.919241  25.70  21.986826  78.469886  42.096562   \n",
      "31/03/2014  1872.339966  125.758395  26.04  22.049112  78.403723  43.065140   \n",
      "01/04/2014  1885.520020  126.503998  26.20  22.216804  79.169329  42.891527   \n",
      "02/04/2014  1890.900024  126.116285  26.00  22.427617  79.613569  43.311853   \n",
      "\n",
      "                 CBOE        COG        CTL    DVA  ...        NOV        PNW  \\\n",
      "date                                                ...                         \n",
      "27/03/2014  53.824369  32.946551  25.138284  68.39  ...  63.031305  47.654249   \n",
      "28/03/2014  53.128693  33.330682  25.207706  68.45  ...  64.390917  47.243286   \n",
      "31/03/2014  53.938727  33.370080  25.331122  68.85  ...  64.556724  47.794151   \n",
      "01/04/2014  53.671892  33.764059  25.516245  69.34  ...  64.714240  47.461883   \n",
      "02/04/2014  52.652202  34.404276  25.593380  69.08  ...  65.037562  47.287005   \n",
      "\n",
      "                  PRGO         PVH       QCOM        SEE        TAP  \\\n",
      "date                                                                  \n",
      "27/03/2014  151.379885  122.418235  70.037607  29.975681  54.337591   \n",
      "28/03/2014  150.505311  123.144310  70.241385  30.128570  54.346948   \n",
      "31/03/2014  151.979312  124.099148  69.869269  31.409010  55.076814   \n",
      "01/04/2014  153.148686  125.242965  70.967898  31.504565  55.086171   \n",
      "02/04/2014  154.475286  125.053987  71.003338  31.963230  55.675679   \n",
      "\n",
      "                  UNM         WU       XRAY  \n",
      "date                                         \n",
      "27/03/2014  31.836394  14.572070  44.372173  \n",
      "28/03/2014  31.929104  14.464988  44.646984  \n",
      "31/03/2014  32.735675  14.598841  45.186792  \n",
      "01/04/2014  32.846926  14.964704  46.129001  \n",
      "02/04/2014  32.865468  14.982551  46.766956  \n",
      "\n",
      "[5 rows x 38 columns]\n"
     ]
    }
   ],
   "source": [
    "import pandas as pd\n",
    "\n",
    "rf = 0.03\n",
    "\n",
    "df = pd.read_csv(\"proj8.csv\", index_col=\"date\")\n",
    "print (df.head())"
   ]
  },
  {
   "cell_type": "code",
   "execution_count": 52,
   "metadata": {},
   "outputs": [],
   "source": [
    "daily_returns = df.pct_change()\n",
    "rm = daily_returns['SP500'].mean()"
   ]
  },
  {
   "cell_type": "code",
   "execution_count": 55,
   "metadata": {},
   "outputs": [
    {
     "name": "stdout",
     "output_type": "stream",
     "text": [
      "ABMD 0.0023403765776466193\n",
      "IPGP 0.000951585710622343\n",
      "HII 0.000708469722244493\n",
      "AOS 0.000704403233540146\n",
      "CBOE 0.0006248109425752492\n",
      "ATO 0.0005403824108852083\n",
      "NI 0.0004896528714011218\n",
      "ETFC 0.0004473379088748245\n",
      "PNW 0.0003933338176662275\n",
      "IRM 0.0002825551591147275\n",
      "NCLH 0.0002458874632280896\n",
      "FLIR 0.00015367492547958765\n",
      "IFF 0.00015351149559347313\n",
      "TAP 0.00010481457928419741\n",
      "FFIV 6.679757413383137e-05\n",
      "SEE 5.990493089583329e-05\n",
      "UNM 3.969090247819882e-05\n",
      "LNC -1.0026567403624467e-05\n",
      "WU -4.9650331235825403e-05\n",
      "PVH -5.687581133127646e-05\n",
      "XRAY -0.00011069113086256016\n",
      "HSIC -0.00012850714057728794\n",
      "AAP -0.00019511457760030938\n",
      "JNPR -0.00022741440724300264\n",
      "DVA -0.000233799819993027\n",
      "MYL -0.00039823743186035267\n",
      "IVZ -0.0004738007943852619\n",
      "COG -0.00047895032925550585\n",
      "QCOM -0.0004974981181496827\n",
      "CTL -0.000640709942504993\n",
      "PRGO -0.0007210036470330542\n",
      "NOV -0.0007420823097424855\n",
      "MOS -0.0008034521937427383\n",
      "FTI -0.0008442864665095059\n",
      "DVN -0.0009088991823244241\n",
      "APA -0.0009698589768277599\n",
      "NBL -0.001033628100582931\n",
      "DVN 1.6422618698649936\n",
      "LNC 1.606251991047485\n",
      "ETFC 1.5954432207645277\n",
      "IVZ 1.5514217050776182\n",
      "APA 1.4572974401793513\n",
      "NBL 1.4077810342322614\n",
      "FTI 1.3042944825888256\n",
      "UNM 1.228283681812546\n",
      "IPGP 1.2105106325531911\n",
      "MYL 1.2027954910089165\n",
      "AOS 1.186423674118455\n",
      "NOV 1.1698718520410174\n",
      "NCLH 1.1594649228073401\n",
      "MOS 1.1478093616582394\n",
      "ABMD 1.1007054467987423\n",
      "QCOM 1.0940344880234918\n",
      "COG 1.0640601810062555\n",
      "WU 1.0615343488585296\n",
      "SEE 1.0390778523864665\n",
      "JNPR 1.038941230951267\n",
      "HII 1.0110826681982228\n",
      "PVH 1.0058563274036998\n",
      "CTL 1.0046795182883805\n",
      "FFIV 0.9966380556067105\n",
      "IFF 0.9664268812768417\n",
      "FLIR 0.9488725978328173\n",
      "PRGO 0.9135670265583485\n",
      "AAP 0.8610077621216695\n",
      "HSIC 0.8608941782936125\n",
      "IRM 0.8565170644315325\n",
      "TAP 0.825911065648778\n",
      "XRAY 0.8127817665737538\n",
      "DVA 0.7447252768818481\n",
      "NI 0.631755422383037\n",
      "ATO 0.5186332511414248\n",
      "CBOE 0.4820055877759483\n",
      "PNW 0.4507585743301309\n"
     ]
    }
   ],
   "source": [
    "import numpy as np\n",
    "betas = {}\n",
    "alphas = {}\n",
    "for d in df.columns:\n",
    "    if d == \"SP500\":\n",
    "        continue\n",
    "    betas[d], alphas[d] = np.polyfit(daily_returns.iloc[1:]['SP500'],\n",
    "                                 daily_returns.iloc[1:][d], 1)\n",
    "\n",
    "chosen = []\n",
    "for i, k in enumerate(sorted(alphas.items(), key=lambda x: x[1], reverse=True)):\n",
    "    if i < 10:\n",
    "        chosen.append(k[0])\n",
    "    print (k[0], k[1])\n",
    "    \n",
    "for k in sorted(betas.items(), key=lambda x: x[1], reverse=True):\n",
    "    print (k[0], k[1])"
   ]
  },
  {
   "cell_type": "code",
   "execution_count": 56,
   "metadata": {},
   "outputs": [
    {
     "name": "stdout",
     "output_type": "stream",
     "text": [
      "['ABMD', 'IPGP', 'HII', 'AOS', 'CBOE', 'ATO', 'NI', 'ETFC', 'PNW', 'IRM']\n"
     ]
    }
   ],
   "source": [
    "print (chosen)"
   ]
  },
  {
   "cell_type": "code",
   "execution_count": 62,
   "metadata": {},
   "outputs": [
    {
     "name": "stdout",
     "output_type": "stream",
     "text": [
      "['AAP', 'ABMD', 'AOS', 'APA', 'ATO', 'CBOE', 'COG', 'CTL', 'DVA', 'DVN', 'ETFC', 'FFIV', 'FLIR', 'FTI', 'HII', 'HSIC', 'IFF', 'IPGP', 'IRM', 'IVZ', 'JNPR', 'LNC', 'MOS', 'MYL', 'NBL', 'NCLH', 'NI', 'NOV', 'PNW', 'PRGO', 'PVH', 'QCOM', 'SEE', 'TAP', 'UNM', 'WU', 'XRAY']\n"
     ]
    }
   ],
   "source": [
    "all = list(df.columns)\n",
    "all.remove(\"SP500\")\n",
    "print (all)"
   ]
  },
  {
   "cell_type": "code",
   "execution_count": 63,
   "metadata": {},
   "outputs": [
    {
     "name": "stdout",
     "output_type": "stream",
     "text": [
      "AAP     0.032344\n",
      "ABMD    0.693980\n",
      "AOS     0.289830\n",
      "APA    -0.106440\n",
      "ATO     0.185276\n",
      "CBOE    0.203085\n",
      "COG    -0.019959\n",
      "CTL    -0.066344\n",
      "DVA     0.011587\n",
      "DVN    -0.073567\n",
      "ETFC    0.263772\n",
      "FFIV    0.111186\n",
      "FLIR    0.128557\n",
      "FTI    -0.089280\n",
      "HII     0.274255\n",
      "HSIC    0.049118\n",
      "IFF     0.130178\n",
      "IPGP    0.354401\n",
      "IRM     0.152292\n",
      "IVZ     0.027478\n",
      "JNPR    0.041050\n",
      "LNC     0.149540\n",
      "MOS    -0.093805\n",
      "MYL     0.013515\n",
      "NBL    -0.127197\n",
      "NCLH    0.171732\n",
      "NI      0.183202\n",
      "NOV    -0.076251\n",
      "PNW     0.141794\n",
      "PRGO   -0.095204\n",
      "PVH     0.080893\n",
      "QCOM   -0.021795\n",
      "SEE     0.113467\n",
      "TAP     0.104604\n",
      "UNM     0.126286\n",
      "WU      0.087985\n",
      "XRAY    0.049053\n",
      "dtype: float64\n",
      "           AAP      ABMD       AOS       APA       ATO      CBOE       COG  \\\n",
      "AAP   0.098080  0.017338  0.016852  0.018928  0.008539  0.008979  0.013933   \n",
      "ABMD  0.017338  0.181795  0.024938  0.014443  0.006647  0.011801  0.007113   \n",
      "AOS   0.016852  0.024938  0.049280  0.027218  0.008685  0.011119  0.020278   \n",
      "APA   0.018928  0.014443  0.027218  0.151948  0.008243  0.001958  0.068465   \n",
      "ATO   0.008539  0.006647  0.008685  0.008243  0.028125  0.003170  0.008950   \n",
      "CBOE  0.008979  0.011801  0.011119  0.001958  0.003170  0.038428  0.003024   \n",
      "COG   0.013933  0.007113  0.020278  0.068465  0.008950  0.003024  0.123369   \n",
      "CTL   0.020157  0.011730  0.018632  0.030601  0.010631  0.006003  0.023474   \n",
      "DVA   0.012082  0.016887  0.014003  0.014583  0.007267  0.005372  0.015071   \n",
      "DVN   0.016639  0.017918  0.030953  0.123851  0.010535  0.000946  0.077108   \n",
      "ETFC  0.025398  0.033854  0.034320  0.037570  0.002558  0.017571  0.023740   \n",
      "FFIV  0.015459  0.030475  0.021138  0.020445  0.005734  0.007369  0.018290   \n",
      "FLIR  0.015136  0.015985  0.017813  0.021204  0.005594  0.010058  0.013210   \n",
      "FTI   0.018038  0.018076  0.024364  0.077615  0.005569  0.003808  0.047898   \n",
      "HII   0.013266  0.022372  0.022143  0.023886  0.007413  0.010580  0.018369   \n",
      "HSIC  0.013598  0.017445  0.017656  0.012582  0.008072  0.006743  0.010432   \n",
      "IFF   0.012527  0.014711  0.017895  0.022364  0.010758  0.006330  0.012957   \n",
      "IPGP  0.016325  0.034119  0.024930  0.028987  0.006988  0.011937  0.021644   \n",
      "IRM   0.012130  0.016275  0.015004  0.018239  0.016494  0.006919  0.016830   \n",
      "IVZ   0.022475  0.030292  0.032709  0.040665  0.007903  0.012840  0.028468   \n",
      "JNPR  0.020383  0.027257  0.020967  0.020054  0.006571  0.008100  0.016926   \n",
      "LNC   0.025596  0.026206  0.033663  0.043165  0.002856  0.013718  0.028106   \n",
      "MOS   0.017852  0.017727  0.026351  0.053184  0.004296  0.008063  0.031434   \n",
      "MYL   0.014507  0.031463  0.022775  0.034554  0.006187  0.010526  0.023920   \n",
      "NBL   0.019831  0.013317  0.026759  0.103106  0.008989  0.002083  0.063597   \n",
      "NCLH  0.021026  0.025699  0.023928  0.014913  0.007788  0.009580  0.011594   \n",
      "NI    0.008164  0.007552  0.009873  0.011320  0.023292  0.002764  0.011338   \n",
      "NOV   0.018631  0.009282  0.022441  0.077572  0.005656  0.000040  0.042299   \n",
      "PNW   0.007716  0.005304  0.005710  0.003163  0.021235  0.003283  0.006210   \n",
      "PRGO  0.017408  0.019059  0.017816  0.024800  0.005581  0.010512  0.016313   \n",
      "PVH   0.020068  0.019293  0.023583  0.027303  0.005757  0.007068  0.027844   \n",
      "QCOM  0.011483  0.019944  0.019697  0.025783  0.005937  0.006594  0.016720   \n",
      "SEE   0.018658  0.021399  0.022447  0.020226  0.010041  0.009979  0.017214   \n",
      "TAP   0.013836  0.017751  0.013693  0.017226  0.010785  0.006161  0.010866   \n",
      "UNM   0.019520  0.015589  0.025592  0.035915  0.003177  0.010305  0.022824   \n",
      "WU    0.017654  0.024805  0.020912  0.025936  0.007325  0.007220  0.020407   \n",
      "XRAY  0.011837  0.019561  0.017649  0.013587  0.007384  0.005533  0.011652   \n",
      "\n",
      "           CTL       DVA       DVN  ...       NOV       PNW      PRGO  \\\n",
      "AAP   0.020157  0.012082  0.016639  ...  0.018631  0.007716  0.017408   \n",
      "ABMD  0.011730  0.016887  0.017918  ...  0.009282  0.005304  0.019059   \n",
      "AOS   0.018632  0.014003  0.030953  ...  0.022441  0.005710  0.017816   \n",
      "APA   0.030601  0.014583  0.123851  ...  0.077572  0.003163  0.024800   \n",
      "ATO   0.010631  0.007267  0.010535  ...  0.005656  0.021235  0.005581   \n",
      "CBOE  0.006003  0.005372  0.000946  ...  0.000040  0.003283  0.010512   \n",
      "COG   0.023474  0.015071  0.077108  ...  0.042299  0.006210  0.016313   \n",
      "CTL   0.089537  0.008224  0.034942  ...  0.019402  0.009293  0.013385   \n",
      "DVA   0.008224  0.045979  0.018048  ...  0.012866  0.006374  0.014014   \n",
      "DVN   0.034942  0.018048  0.184944  ...  0.086441  0.004938  0.019236   \n",
      "ETFC  0.022768  0.018685  0.042968  ...  0.033253 -0.001756  0.026047   \n",
      "FFIV  0.015895  0.012245  0.024474  ...  0.019970  0.004244  0.013276   \n",
      "FLIR  0.013775  0.012069  0.021925  ...  0.018405  0.005095  0.013142   \n",
      "FTI   0.027442  0.012806  0.087551  ...  0.077933  0.001636  0.020763   \n",
      "HII   0.015749  0.013005  0.024128  ...  0.017653  0.006000  0.016373   \n",
      "HSIC  0.013247  0.013771  0.013895  ...  0.009569  0.007481  0.014093   \n",
      "IFF   0.011713  0.010016  0.025812  ...  0.016477  0.009977  0.009866   \n",
      "IPGP  0.020969  0.012802  0.026829  ...  0.017439  0.004443  0.020716   \n",
      "IRM   0.017257  0.011365  0.022533  ...  0.013578  0.015173  0.011845   \n",
      "IVZ   0.024139  0.020936  0.048519  ...  0.034736  0.004729  0.025870   \n",
      "JNPR  0.017218  0.013638  0.023039  ...  0.022410  0.003536  0.016660   \n",
      "LNC   0.023995  0.020874  0.051260  ...  0.039134 -0.001133  0.023109   \n",
      "MOS   0.027329  0.015209  0.061303  ...  0.046068  0.002294  0.016807   \n",
      "MYL   0.011597  0.017306  0.031554  ...  0.021905  0.004806  0.054718   \n",
      "NBL   0.028203  0.014927  0.114782  ...  0.069221  0.005423  0.021845   \n",
      "NCLH  0.015516  0.018424  0.014956  ...  0.014646  0.005995  0.021245   \n",
      "NI    0.011430  0.008188  0.014611  ...  0.008443  0.023286  0.005780   \n",
      "NOV   0.019402  0.012866  0.086441  ...  0.115277  0.001240  0.015836   \n",
      "PNW   0.009293  0.006374  0.004938  ...  0.001240  0.027906  0.004239   \n",
      "PRGO  0.013385  0.014014  0.019236  ...  0.015836  0.004239  0.116889   \n",
      "PVH   0.017321  0.013222  0.032246  ...  0.020612  0.004789  0.015692   \n",
      "QCOM  0.016136  0.011239  0.027026  ...  0.021443  0.006235  0.016108   \n",
      "SEE   0.016279  0.012680  0.024393  ...  0.011836  0.009113  0.013382   \n",
      "TAP   0.013520  0.011864  0.022581  ...  0.015221  0.010661  0.010428   \n",
      "UNM   0.019284  0.015899  0.040929  ...  0.032581 -0.000068  0.017572   \n",
      "WU    0.018586  0.012909  0.032042  ...  0.022320  0.005615  0.016323   \n",
      "XRAY  0.008780  0.011690  0.015346  ...  0.011359  0.006953  0.012900   \n",
      "\n",
      "           PVH      QCOM       SEE       TAP       UNM        WU      XRAY  \n",
      "AAP   0.020068  0.011483  0.018658  0.013836  0.019520  0.017654  0.011837  \n",
      "ABMD  0.019293  0.019944  0.021399  0.017751  0.015589  0.024805  0.019561  \n",
      "AOS   0.023583  0.019697  0.022447  0.013693  0.025592  0.020912  0.017649  \n",
      "APA   0.027303  0.025783  0.020226  0.017226  0.035915  0.025936  0.013587  \n",
      "ATO   0.005757  0.005937  0.010041  0.010785  0.003177  0.007325  0.007384  \n",
      "CBOE  0.007068  0.006594  0.009979  0.006161  0.010305  0.007220  0.005533  \n",
      "COG   0.027844  0.016720  0.017214  0.010866  0.022824  0.020407  0.011652  \n",
      "CTL   0.017321  0.016136  0.016279  0.013520  0.019284  0.018586  0.008780  \n",
      "DVA   0.013222  0.011239  0.012680  0.011864  0.015899  0.012909  0.011690  \n",
      "DVN   0.032246  0.027026  0.024393  0.022581  0.040929  0.032042  0.015346  \n",
      "ETFC  0.028199  0.030469  0.028989  0.017684  0.047668  0.029798  0.020061  \n",
      "FFIV  0.019356  0.024131  0.019775  0.011132  0.023145  0.019589  0.013589  \n",
      "FLIR  0.016271  0.017397  0.018101  0.011140  0.022783  0.016778  0.011419  \n",
      "FTI   0.022080  0.024454  0.019258  0.015136  0.034260  0.025910  0.013140  \n",
      "HII   0.015525  0.011513  0.019526  0.011827  0.022622  0.018096  0.014276  \n",
      "HSIC  0.013709  0.014259  0.018308  0.013446  0.014652  0.013829  0.020950  \n",
      "IFF   0.015392  0.016111  0.022362  0.015538  0.018616  0.017272  0.012340  \n",
      "IPGP  0.019852  0.027340  0.023060  0.012563  0.023596  0.023854  0.018805  \n",
      "IRM   0.012304  0.013867  0.017264  0.016258  0.012739  0.016834  0.010653  \n",
      "IVZ   0.029609  0.027648  0.029698  0.018987  0.040498  0.028390  0.019711  \n",
      "JNPR  0.019755  0.024887  0.020938  0.012743  0.022839  0.018914  0.015918  \n",
      "LNC   0.029288  0.026573  0.029411  0.017922  0.056426  0.028713  0.019531  \n",
      "MOS   0.025091  0.020206  0.021038  0.012031  0.028249  0.022364  0.012922  \n",
      "MYL   0.020276  0.023277  0.021812  0.016766  0.026598  0.020192  0.019706  \n",
      "NBL   0.026181  0.022778  0.021384  0.016548  0.031980  0.024693  0.015273  \n",
      "NCLH  0.024598  0.021910  0.024527  0.013984  0.023045  0.023118  0.016412  \n",
      "NI    0.007439  0.009167  0.012118  0.013514  0.004647  0.010215  0.009090  \n",
      "NOV   0.020612  0.021443  0.011836  0.015221  0.032581  0.022320  0.011359  \n",
      "PNW   0.004789  0.006235  0.009113  0.010661 -0.000068  0.005615  0.006953  \n",
      "PRGO  0.015692  0.016108  0.013382  0.010428  0.017572  0.016323  0.012900  \n",
      "PVH   0.083073  0.012819  0.019722  0.014753  0.021277  0.020657  0.014518  \n",
      "QCOM  0.012819  0.077635  0.018120  0.012041  0.022204  0.017379  0.016633  \n",
      "SEE   0.019722  0.018120  0.055903  0.014909  0.019345  0.020497  0.018523  \n",
      "TAP   0.014753  0.012041  0.014909  0.053621  0.013635  0.016309  0.012241  \n",
      "UNM   0.021277  0.022204  0.019345  0.013635  0.052183  0.022388  0.014495  \n",
      "WU    0.020657  0.017379  0.020497  0.016309  0.022388  0.046012  0.014366  \n",
      "XRAY  0.014518  0.016633  0.018523  0.012241  0.014495  0.014366  0.037848  \n",
      "\n",
      "[37 rows x 37 columns]\n"
     ]
    }
   ],
   "source": [
    "portfolio = df[chosen]\n",
    "portfolio = df[all]\n",
    "daily_returns = portfolio.pct_change()\n",
    "returns = 252*daily_returns.mean()\n",
    "covariance = 252*daily_returns.cov()\n",
    "\n",
    "print (returns)\n",
    "print (covariance)"
   ]
  },
  {
   "cell_type": "code",
   "execution_count": 65,
   "metadata": {},
   "outputs": [
    {
     "name": "stdout",
     "output_type": "stream",
     "text": [
      "     fun: 0.011827382262744945\n",
      "     jac: array([0.0236198 , 0.02552637, 0.02621602, 0.02687801, 0.02379934,\n",
      "       0.0236576 , 0.02377169, 0.02385559, 0.02367598, 0.03072693,\n",
      "       0.03027768, 0.02361511, 0.02353712, 0.02462817, 0.02359972,\n",
      "       0.02372282, 0.02379914, 0.02627894, 0.02523903, 0.03227899,\n",
      "       0.02351082, 0.02975528, 0.02409035, 0.02686061, 0.0270557 ,\n",
      "       0.02531209, 0.0247545 , 0.02364517, 0.02345273, 0.02351194,\n",
      "       0.0236676 , 0.02371706, 0.02641484, 0.02385   , 0.02350451,\n",
      "       0.02370194, 0.02372447])\n",
      " message: 'Optimization terminated successfully.'\n",
      "    nfev: 664\n",
      "     nit: 17\n",
      "    njev: 17\n",
      "  status: 0\n",
      " success: True\n",
      "       x: array([6.28243844e-03, 0.00000000e+00, 0.00000000e+00, 3.83536519e-18,\n",
      "       1.33573458e-01, 2.03527069e-01, 8.38509265e-03, 1.63134827e-02,\n",
      "       8.22777929e-02, 2.48011247e-18, 2.79182059e-18, 2.57111462e-02,\n",
      "       3.34015584e-02, 0.00000000e+00, 7.07751124e-03, 3.85719941e-02,\n",
      "       3.34430131e-02, 2.73761049e-18, 8.84302397e-19, 6.23416249e-19,\n",
      "       2.01470135e-03, 7.79270311e-19, 2.94165290e-03, 0.00000000e+00,\n",
      "       0.00000000e+00, 0.00000000e+00, 0.00000000e+00, 3.21049466e-02,\n",
      "       1.87126906e-01, 1.51084271e-02, 1.63659730e-02, 1.62458557e-02,\n",
      "       0.00000000e+00, 2.67947970e-02, 8.41442205e-03, 1.80975671e-02,\n",
      "       8.62201945e-02])\n"
     ]
    }
   ],
   "source": [
    "from scipy.optimize import minimize\n",
    "\n",
    "def markowitz(w, cov):\n",
    "    return w.T.dot(cov.dot(w))\n",
    "\n",
    "def sum_weights(w):\n",
    "    return sum(w) - 1\n",
    "\n",
    "const = ({'type':'eq', 'fun':sum_weights},)\n",
    "bounds = [(0, 1) for _ in range(len(all))]\n",
    "weights = [1/len(all) for _ in range(len(all))]\n",
    "\n",
    "opts = minimize(markowitz, weights, args=(covariance,),\n",
    "               constraints=const, bounds=bounds)\n",
    "print (opts)"
   ]
  },
  {
   "cell_type": "code",
   "execution_count": 70,
   "metadata": {},
   "outputs": [],
   "source": [
    "def efficient_frontier(w, ret, target):\n",
    "    return np.sum(w*ret) - target\n",
    "\n",
    "points = []\n",
    "for t in np.arange(0.01, 0.5, 0.01):\n",
    "    const = ({'type':'eq', 'fun':sum_weights},\n",
    "             {'type':'eq', 'fun':efficient_frontier, 'args':(returns, t)})\n",
    "    bounds = [(0, 1) for _ in range(len(all))]\n",
    "    weights = [1/len(all) for _ in range(len(all))]\n",
    "\n",
    "    opts = minimize(markowitz, weights, args=(covariance,),\n",
    "                   constraints=const, bounds=bounds)\n",
    "    points.append([np.sqrt(opts.fun), t])"
   ]
  },
  {
   "cell_type": "code",
   "execution_count": 76,
   "metadata": {
    "scrolled": true
   },
   "outputs": [
    {
     "data": {
      "image/png": "[encoded data removed]",
      "text/plain": [
       "<Figure size 432x288 with 1 Axes>"
      ]
     },
     "metadata": {
      "needs_background": "light"
     },
     "output_type": "display_data"
    }
   ],
   "source": [
    "from matplotlib import pyplot as plt\n",
    "\n",
    "points = np.array(points)\n",
    "plt.plot(points[:, 0], points[:, 1])\n",
    "plt.grid(True)\n",
    "plt.show()"
   ]
  },
  {
   "cell_type": "code",
   "execution_count": 84,
   "metadata": {},
   "outputs": [],
   "source": [
    "def efficient_frontier_rf(w, ret, target, r0):\n",
    "    return np.sum(w[:-1]*ret) + r0*w[-1] - target\n",
    "\n",
    "def markowitz_rf(w, cov):\n",
    "    return w[:-1].T.dot(cov.dot(w[:-1]))\n",
    "\n",
    "points_rf = []\n",
    "for t in np.arange(0.03, 0.5, 0.01):\n",
    "    const = ({'type':'eq', 'fun':sum_weights},\n",
    "             {'type':'eq', 'fun':efficient_frontier_rf, 'args':(returns, t, rf)})\n",
    "    bounds = [(0, 1) for _ in range(len(all)+1)]\n",
    "    weights = [1/(len(all)+1) for _ in range(len(all)+1)]\n",
    "\n",
    "    opts = minimize(markowitz_rf, weights, args=(covariance,),\n",
    "                   constraints=const, bounds=bounds)\n",
    "    points_rf.append([np.sqrt(opts.fun), t])"
   ]
  },
  {
   "cell_type": "code",
   "execution_count": 85,
   "metadata": {},
   "outputs": [
    {
     "data": {
      "image/png": "[encoded data removed]",
      "text/plain": [
       "<Figure size 432x288 with 1 Axes>"
      ]
     },
     "metadata": {
      "needs_background": "light"
     },
     "output_type": "display_data"
    }
   ],
   "source": [
    "points_rf = np.array(points_rf)\n",
    "plt.plot(points[:, 0], points[:, 1], color='blue')\n",
    "plt.plot(points_rf[:, 0], points_rf[:, 1], color='red')\n",
    "plt.grid(True)\n",
    "plt.show()"
   ]
  },
  {
   "cell_type": "code",
   "execution_count": 86,
   "metadata": {},
   "outputs": [
    {
     "name": "stdout",
     "output_type": "stream",
     "text": [
      "     fun: -1.9675343078178205\n",
      "     jac: array([ 0.81468271, -0.19069923, -0.19152178,  1.83194716, -0.19142662,\n",
      "       -0.19148469,  1.01364633,  1.42518213,  0.80761507,  1.75216028,\n",
      "        0.05779018,  0.62655891,  0.22607549,  1.66344009, -0.19189493,\n",
      "        0.70026281,  0.20832238, -0.19138922,  0.13051669,  1.49796902,\n",
      "        1.04075858,  0.56926823,  1.68879113,  1.34303878,  1.90537836,\n",
      "        0.23324846, -0.19136851,  1.2812673 , -0.12679192,  1.67851144,\n",
      "        0.56794953,  1.22212805,  0.58102596,  0.31659386,  0.29738557,\n",
      "        0.6849463 ,  0.71434163])\n",
      " message: 'Optimization terminated successfully.'\n",
      "    nfev: 670\n",
      "     nit: 17\n",
      "    njev: 17\n",
      "  status: 0\n",
      " success: True\n",
      "       x: array([1.23637869e-16, 2.23044615e-01, 1.28234098e-01, 0.00000000e+00,\n",
      "       2.37796668e-01, 1.76690360e-01, 0.00000000e+00, 0.00000000e+00,\n",
      "       1.17837227e-15, 0.00000000e+00, 7.77885830e-16, 1.48217690e-15,\n",
      "       3.32810997e-16, 0.00000000e+00, 9.28464196e-02, 0.00000000e+00,\n",
      "       1.27662954e-16, 8.90865524e-02, 2.28290119e-16, 0.00000000e+00,\n",
      "       0.00000000e+00, 9.63708688e-16, 0.00000000e+00, 1.92673494e-15,\n",
      "       0.00000000e+00, 6.77095297e-16, 5.23012868e-02, 0.00000000e+00,\n",
      "       3.90466055e-16, 0.00000000e+00, 0.00000000e+00, 1.40780721e-15,\n",
      "       4.69577158e-16, 4.35507055e-16, 6.01501270e-16, 4.87983988e-16,\n",
      "       8.53532231e-17])\n"
     ]
    }
   ],
   "source": [
    "def sharpe_ratio(w, ret, cov, r0):\n",
    "    sigma = np.sqrt(w.T.dot(cov.dot(w)))\n",
    "    Rp = np.sum(w*ret)\n",
    "    return -(Rp-r0)/sigma\n",
    "\n",
    "const = ({'type':'eq', 'fun':sum_weights},)\n",
    "bounds = [(0, 1) for _ in range(len(all))]\n",
    "weights = [1/len(all) for _ in range(len(all))]\n",
    "\n",
    "opts = minimize(sharpe_ratio, weights, args=(returns, covariance, rf),\n",
    "               constraints=const, bounds=bounds)\n",
    "print (opts)"
   ]
  },
  {
   "cell_type": "code",
   "execution_count": 88,
   "metadata": {},
   "outputs": [
    {
     "data": {
      "image/png": "[encoded data removed]",
      "text/plain": [
       "<Figure size 432x288 with 1 Axes>"
      ]
     },
     "metadata": {
      "needs_background": "light"
     },
     "output_type": "display_data"
    }
   ],
   "source": [
    "p = (np.sqrt(opts.x.T.dot(covariance.dot(opts.x))), np.sum(opts.x*returns))\n",
    "\n",
    "plt.plot(points[:, 0], points[:, 1], color='blue')\n",
    "plt.plot(points_rf[:, 0], points_rf[:, 1], color='red')\n",
    "plt.scatter(p[0], p[1], marker='X', color='green')\n",
    "plt.grid(True)\n",
    "plt.show()"
   ]
  },
  {
   "cell_type": "code",
   "execution_count": 68,
   "metadata": {},
   "outputs": [
    {
     "name": "stdout",
     "output_type": "stream",
     "text": [
      "ABMD 0.22304461540085396\n",
      "AOS 0.1282340979682666\n",
      "ATO 0.23779666780968786\n",
      "CBOE 0.17669035995306812\n",
      "HII 0.09284641964742776\n",
      "IPGP 0.08908655237897345\n",
      "NI 0.052301286841723714\n"
     ]
    }
   ],
   "source": [
    "for i, x in enumerate(opts.x):\n",
    "    if x > 0.01:\n",
    "        print (all[i], x)"
   ]
  }
 ],
 "metadata": {
  "kernelspec": {
   "display_name": "Python 3",
   "language": "python",
   "name": "python3"
  },
  "language_info": {
   "codemirror_mode": {
    "name": "ipython",
    "version": 3
   },
   "file_extension": ".py",
   "mimetype": "text/x-python",
   "name": "python",
   "nbconvert_exporter": "python",
   "pygments_lexer": "ipython3",
   "version": "3.6.3"
  }
 },
 "nbformat": 4,
 "nbformat_minor": 4
}
