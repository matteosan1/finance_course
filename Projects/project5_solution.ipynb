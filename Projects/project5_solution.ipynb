{
 "cells": [
  {
   "cell_type": "markdown",
   "metadata": {},
   "source": [
    "# Floating Coupon Bond\n",
    "\n",
    "The goal of the project is to compute the market value of a portfolio of floating coupon bonds taking into account the issuer credit risk. The input parameters to derive this curve are:\n",
    "\n",
    "* The par rate of a set of Overnight Index Swaps (i.e. their market quotation)\n",
    "* A set of forward libor rates and their fixing dates\n",
    "* A set of survival probabilities and the recovery rate of the issuer\n",
    "* The static data of the pool of bonds to price (nominal, start date, end date, current coupon, margin, payment frequency)\n",
    "\n",
    "### Notes and hints\n",
    "\n",
    "Numerical results must be presented to the examining committee during a presentation in which the candidates will also explain the theoretical framework for evaluation of risky flows.\n",
    "\n",
    "All maturities are expressed in months and rates are expressed as fractions of one (i.e. 0.01 means 1%).\n",
    "\n",
    "Remember to reuse the code we developed during the lessons in `finmarkets.py` as much as possible, instead of trying to rewrite everything from scratch!\n",
    "\n",
    "### Inputs"
   ]
  },
  {
   "cell_type": "code",
   "execution_count": 1,
   "metadata": {},
   "outputs": [],
   "source": [
    "import pandas as pd\n",
    "from datetime import date \n",
    "\n",
    "today = date(2019, 10, 31)\n",
    "\n",
    "libor_tenor = 6 \n",
    "\n",
    "ois_quotes = pd.read_csv(\"ois_quotes.csv\").to_dict('records')\n",
    "\n",
    "df = pd.read_csv(\"survival_probabilities_proj5.csv\")\n",
    "df['date'] = pd.to_datetime(df['date']).dt.date\n",
    "survival_probabilities = df.to_dict('records')\n",
    "\n",
    "df = pd.read_csv(\"bonds_to_price_proj5.csv\")\n",
    "df['start_date'] = pd.to_datetime(df['start_date']).dt.date\n",
    "df['end_date'] = pd.to_datetime(df['end_date']).dt.date\n",
    "bonds_to_price = df.to_dict('records')"
   ]
  },
  {
   "cell_type": "markdown",
   "metadata": {},
   "source": [
    "## Solution\n",
    "The first step is to determine the discoutn curve using the bootstrap method.\n",
    "So define a set of OIS according to the market quotes given in inputs."
   ]
  },
  {
   "cell_type": "code",
   "execution_count": 2,
   "metadata": {},
   "outputs": [],
   "source": [
    "from finmarkets import OvernightIndexSwap, generate_swap_dates\n",
    "#from project_input import today, ois_quotes\n",
    "\n",
    "ois_pillar_dates = [today]\n",
    "\n",
    "swaps = []\n",
    "\n",
    "for quote in ois_quotes:\n",
    "    \n",
    "    Swap = OvernightIndexSwap( \n",
    "                1e6, \n",
    "                generate_swap_dates(today,quote['maturity']),\n",
    "                quote['rate']\n",
    "            )\n",
    "    \n",
    "    swaps.append(Swap)\n",
    "    ois_pillar_dates.append(Swap.payment_dates[-1])\n",
    "    \n",
    "ois_pillar_dates = sorted(ois_pillar_dates)\n",
    "n_df_vector = len(ois_pillar_dates)"
   ]
  },
  {
   "cell_type": "markdown",
   "metadata": {},
   "source": [
    "Then define the objective function with a discount curve with unknown discount factors $\\vec{x}$ and the squared sum of the swap NPVs to minimize."
   ]
  },
  {
   "cell_type": "code",
   "execution_count": 3,
   "metadata": {},
   "outputs": [],
   "source": [
    "from finmarkets import DiscountCurve\n",
    "import numpy as np\n",
    "\n",
    "def objective_function(x): \n",
    "    x = np.insert(x, 0, 1)\n",
    "    curve = DiscountCurve(today, ois_pillar_dates, x)    \n",
    "    sum_sq = 0.0 \n",
    "    \n",
    "    for swap in swaps: \n",
    "        sum_sq += swap.npv(curve)**2\n",
    "        \n",
    "    return sum_sq"
   ]
  },
  {
   "cell_type": "markdown",
   "metadata": {},
   "source": [
    "Set initial values and boundaries of the unknown factors (remember that the first factor has to be 1 since refers to today's discount)."
   ]
  },
  {
   "cell_type": "code",
   "execution_count": 4,
   "metadata": {},
   "outputs": [],
   "source": [
    "from scipy.optimize import minimize \n",
    "\n",
    "x0 = [1.0 for i in range(len(ois_pillar_dates)-1)]\n",
    "bounds = [(0.01,100.0) for i in range(len(ois_pillar_dates)-1)]\n",
    "\n",
    "result = minimize(objective_function, x0, bounds = bounds)"
   ]
  },
  {
   "cell_type": "markdown",
   "metadata": {},
   "source": [
    "Check the results to be sure the minimization worked..."
   ]
  },
  {
   "cell_type": "code",
   "execution_count": 5,
   "metadata": {},
   "outputs": [
    {
     "name": "stdout",
     "output_type": "stream",
     "text": [
      "      fun: 0.0006561222358362026\n",
      " hess_inv: <30x30 LbfgsInvHessProduct with dtype=float64>\n",
      "      jac: array([-1.46847946, -1.53191341, -1.58332202, -1.62511249, -1.66104956,\n",
      "       -1.68669023, -1.70262123, -1.70887981, -1.70302094, -1.6833589 ,\n",
      "       -1.64781541, -6.24728382,  2.16153019,  1.89004275,  1.74038164,\n",
      "       -1.394626  ,  3.25513882,  6.30310848,  4.69030679,  0.59856571,\n",
      "       -2.50986137, -2.87601957, -0.35754269,  3.87740858,  8.64697188,\n",
      "       -1.66437327,  4.93504091,  2.83665348, -1.31730264, -1.77429045])\n",
      "  message: b'CONVERGENCE: REL_REDUCTION_OF_F_<=_FACTR*EPSMCH'\n",
      "     nfev: 465\n",
      "      nit: 9\n",
      "     njev: 15\n",
      "   status: 0\n",
      "  success: True\n",
      "        x: array([0.99991167, 0.99980687, 0.99970619, 0.9996069 , 0.9994978 ,\n",
      "       0.99938865, 0.99927868, 0.99916369, 0.99902672, 0.99889136,\n",
      "       0.99874532, 0.99859896, 0.99806913, 0.99748218, 0.99674116,\n",
      "       0.9958287 , 0.98958289, 0.97817147, 0.96221333, 0.94242721,\n",
      "       0.91997876, 0.89555368, 0.86964679, 0.84279842, 0.81599792,\n",
      "       0.78928551, 0.71346985, 0.61195504, 0.53245428, 0.46683033])\n"
     ]
    }
   ],
   "source": [
    "print (result)"
   ]
  },
  {
   "cell_type": "code",
   "execution_count": 6,
   "metadata": {},
   "outputs": [
    {
     "name": "stdout",
     "output_type": "stream",
     "text": [
      "Initial value of obj_func 1399018802873.446\n",
      "Final value of obj_func 0.0006561222358362026\n"
     ]
    }
   ],
   "source": [
    "print (\"Initial value of obj_func {}\".format(objective_function(x0)))\n",
    "print (\"Final value of obj_func {}\".format(objective_function(result.x)))"
   ]
  },
  {
   "cell_type": "markdown",
   "metadata": {},
   "source": [
    "Finally create the discount curve to be used in the exercise."
   ]
  },
  {
   "cell_type": "code",
   "execution_count": 7,
   "metadata": {},
   "outputs": [
    {
     "data": {
      "text/plain": [
       "0.8159979211696581"
      ]
     },
     "execution_count": 7,
     "metadata": {},
     "output_type": "execute_result"
    }
   ],
   "source": [
    "from finmarkets import DiscountCurve\n",
    "from datetime import date \n",
    "\n",
    "x = np.insert(result.x, 0, 1)\n",
    "eonia_curve = DiscountCurve(today, \n",
    "                            ois_pillar_dates, \n",
    "                            x)\n",
    "\n",
    "eonia_curve.df(date(2030,10,31))"
   ]
  },
  {
   "cell_type": "markdown",
   "metadata": {},
   "source": [
    "Our bonds are indexed to a LIBOR 6m curve given in input so we need to create a `ForwardRateCurve` object to use it."
   ]
  },
  {
   "cell_type": "code",
   "execution_count": 8,
   "metadata": {},
   "outputs": [
    {
     "data": {
      "text/plain": [
       "0.014197814207650273"
      ]
     },
     "execution_count": 8,
     "metadata": {},
     "output_type": "execute_result"
    }
   ],
   "source": [
    "from finmarkets import ForwardRateCurve\n",
    "from datetime import date\n",
    "\n",
    "df = pd.read_csv(\"euribor6M_proj5.csv\")\n",
    "forward_rate_curve = ForwardRateCurve(pd.to_datetime(df['dates']).dt.date.to_list(), \n",
    "                                     df['rates'])\n",
    "                \n",
    "forward_rate_curve.forward_rate(date(2025,7,30))"
   ]
  },
  {
   "cell_type": "markdown",
   "metadata": {},
   "source": [
    "In a similar way we need to create a `CreditCurve` from the inputs."
   ]
  },
  {
   "cell_type": "code",
   "execution_count": 9,
   "metadata": {},
   "outputs": [
    {
     "data": {
      "text/plain": [
       "0.833046076369603"
      ]
     },
     "execution_count": 9,
     "metadata": {},
     "output_type": "execute_result"
    }
   ],
   "source": [
    "from finmarkets import CreditCurve\n",
    "from datetime import date\n",
    "\n",
    "pillar_ndps = [1.0]\n",
    "ndps_pillar_dates = [today]\n",
    "\n",
    "for ndps in survival_probabilities:\n",
    "    pillar_ndps.append(ndps['ndp'])\n",
    "    \n",
    "for dates in survival_probabilities:\n",
    "    ndps_pillar_dates.append(dates['date'])\n",
    "    \n",
    "credit_curve = CreditCurve(ndps_pillar_dates,\n",
    "                           pillar_ndps)\n",
    "\n",
    "credit_curve.ndp(date(2025,10,31))"
   ]
  },
  {
   "cell_type": "markdown",
   "metadata": {},
   "source": [
    "Now that we have all the ingredients we can compute the market values of the portfolio of bonds."
   ]
  },
  {
   "cell_type": "code",
   "execution_count": 10,
   "metadata": {},
   "outputs": [],
   "source": [
    "from datetime import date \n",
    "from dateutil.relativedelta import relativedelta \n",
    "\n",
    "class BondPricer: \n",
    "    \n",
    "    def __init__(self, pricing_date, nominal, start_date, end_date,\n",
    "                 current_coupon, margin, recovery, tenor_months=6):\n",
    "        \n",
    "        self.pricing_date = pricing_date \n",
    "        self.nominal = nominal\n",
    "        self.start_date = start_date \n",
    "        self.end_date = end_date \n",
    "        self.current_coupon = current_coupon\n",
    "        self.margin = margin \n",
    "        self.recovery = recovery \n",
    "        self.tenor_months = tenor_months \n",
    "        \n",
    "\n",
    "    def payment_dates(self):\n",
    "        dates = []\n",
    "        future_dates = []\n",
    "\n",
    "        n_months = ((self.end_date.year - self.start_date.year) * 12) + \\\n",
    "                    (self.end_date.month - self.start_date.month)\n",
    "\n",
    "        for n in range(0, n_months, self.tenor_months):\n",
    "            dates.append(self.start_date + relativedelta(months=n))\n",
    "        dates.append(self.end_date)\n",
    "\n",
    "        for i in range(len(dates)):\n",
    "\n",
    "            if dates[i] > self.pricing_date: \n",
    "                future_dates.append(dates[i])\n",
    "\n",
    "        return future_dates\n",
    "        \n",
    "    def mark_to_market(self, discounting_curve, forward_curve, credit_curve):\n",
    "        \n",
    "        bond_dates = self.payment_dates()\n",
    "        npv_coupons_if_no_default = 0\n",
    "        recovery_if_early_default = 0 \n",
    "    \n",
    "        for i in range(1, len(bond_dates)):\n",
    "            if bond_dates[i] > today:\n",
    "                npv_coupons_if_no_default += self.nominal * \\\n",
    "                    (((bond_dates[i] - bond_dates[i-1]).days / 360) *\n",
    "                        discounting_curve.df(bond_dates[i]) *\n",
    "                        (forward_curve.forward_rate(bond_dates[i-1]) + self.margin) * \n",
    "                        credit_curve.ndp(bond_dates[i]))\n",
    "                    \n",
    "        notional_reimbursement_if_no_default = self.nominal * \\\n",
    "                    (discounting_curve.df(bond_dates[-1])*\n",
    "                     credit_curve.ndp(bond_dates[-1]))\n",
    "        \n",
    "        \n",
    "        first_coupon = (((bond_dates[0] - today).days / 360)*\n",
    "                          discounting_curve.df(bond_dates[0]) *\n",
    "                          self.current_coupon * credit_curve.ndp(bond_dates[0]))\n",
    "\n",
    "        npv_coupons_if_no_default += first_coupon\n",
    "        \n",
    "        d = self.pricing_date\n",
    "        while d <= bond_dates[-1]:\n",
    "            recovery_if_early_default += ((discounting_curve.df(d)) *\n",
    "                                         (credit_curve.ndp(d) - \n",
    "                                          credit_curve.ndp(d+relativedelta(days=1))))\n",
    "            d += relativedelta(days=1)  \n",
    "\n",
    "        recovery_if_early_default = recovery_if_early_default * self.recovery * self.nominal\n",
    "        MTM =  npv_coupons_if_no_default + notional_reimbursement_if_no_default + recovery_if_early_default\n",
    "        \n",
    "        return MTM"
   ]
  },
  {
   "cell_type": "code",
   "execution_count": 11,
   "metadata": {},
   "outputs": [
    {
     "name": "stdout",
     "output_type": "stream",
     "text": [
      "The market value of the portfolio is 75447420.17\n"
     ]
    }
   ],
   "source": [
    "ptf_price= 0.0\n",
    "\n",
    "for quote in bonds_to_price:   \n",
    "    ptf = BondPricer(today, quote['nominal'],\n",
    "                     quote['start_date'], quote['end_date'],\n",
    "                     quote['current_coupon'], quote['margin'], quote['recovery'])\n",
    "    ptf_price += ptf.mark_to_market(eonia_curve, \n",
    "                                    forward_rate_curve, \n",
    "                                    credit_curve)\n",
    "\n",
    "print (\"The market value of the portfolio is {:.2f}\".format(ptf_price))"
   ]
  }
 ],
 "metadata": {
  "kernelspec": {
   "display_name": "Python 3",
   "language": "python",
   "name": "python3"
  },
  "language_info": {
   "codemirror_mode": {
    "name": "ipython",
    "version": 3
   },
   "file_extension": ".py",
   "mimetype": "text/x-python",
   "name": "python",
   "nbconvert_exporter": "python",
   "pygments_lexer": "ipython3",
   "version": "3.6.3"
  }
 },
 "nbformat": 4,
 "nbformat_minor": 2
}
