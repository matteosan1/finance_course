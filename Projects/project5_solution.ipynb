{
 "cells": [
  {
   "cell_type": "markdown",
   "metadata": {},
   "source": [
    "# Floating Coupon Bond\n",
    "\n",
    "The goal of the project is to compute the market value of a portfolio of floating coupon bonds taking into account the issuer credit risk. The input parameters to derive this curve are:\n",
    "\n",
    "* The par rate of a set of Overnight Index Swaps (i.e. their market quotation)\n",
    "* A set of forward libor rates and their fixing dates\n",
    "* A set of survival probabilities and the recovery rate of the issuer\n",
    "* The static data of the pool of bonds to price (nominal, start date, end date, current coupon, margin, payment frequency)\n",
    "\n",
    "### Notes and hints\n",
    "\n",
    "Numerical results must be presented to the examining committee during a presentation in which the candidates will also explain the theoretical framework for evaluation of risky flows.\n",
    "\n",
    "All maturities are expressed in months and rates are expressed as fractions of one (i.e. 0.01 means 1%).\n",
    "\n",
    "Remember to reuse the code we developed during the lessons in `finmarkets.py` as much as possible, instead of trying to rewrite everything from scratch!\n",
    "\n",
    "### Inputs"
   ]
  },
  {
   "cell_type": "code",
   "execution_count": 1,
   "metadata": {},
   "outputs": [],
   "source": [
    "from datetime import date \n",
    "\n",
    "today = date(2013, 10, 31)\n",
    "\n",
    "libor_tenor = 6 \n",
    "\n",
    "ois_quotes = [\n",
    "    {'maturity': 1, 'rate': 0.00106},\n",
    "    {'maturity': 2, 'rate': 0.00114},\n",
    "    {'maturity': 3, 'rate': 0.00115},\n",
    "    {'maturity': 4, 'rate': 0.00117},\n",
    "    {'maturity': 5, 'rate': 0.00119},\n",
    "    {'maturity': 6, 'rate': 0.00121},\n",
    "    {'maturity': 7, 'rate': 0.00122},\n",
    "    {'maturity': 8, 'rate': 0.00124},\n",
    "    {'maturity': 9, 'rate': 0.00128},\n",
    "    {'maturity': 10, 'rate': 0.00131},\n",
    "    {'maturity': 11, 'rate': 0.00135},\n",
    "    {'maturity': 12, 'rate': 0.00138},\n",
    "    {'maturity': 15, 'rate': 0.00152},\n",
    "    {'maturity': 18, 'rate': 0.00166},\n",
    "    {'maturity': 21, 'rate': 0.00184},\n",
    "    {'maturity': 24, 'rate': 0.00206},\n",
    "    {'maturity': 36, 'rate': 0.00344},\n",
    "    {'maturity': 48, 'rate': 0.00543},\n",
    "    {'maturity': 60, 'rate': 0.00756},\n",
    "    {'maturity': 72, 'rate': 0.00967},\n",
    "    {'maturity': 84, 'rate': 0.01162},\n",
    "    {'maturity': 96, 'rate': 0.0134},\n",
    "    {'maturity': 108, 'rate': 0.01502},\n",
    "    {'maturity': 120, 'rate': 0.01649},\n",
    "    {'maturity': 132, 'rate': 0.01776},\n",
    "    {'maturity': 144, 'rate': 0.01888},\n",
    "    {'maturity': 180, 'rate': 0.02137},\n",
    "    {'maturity': 240, 'rate': 0.02322},\n",
    "    {'maturity': 300, 'rate': 0.02389},\n",
    "    {'maturity': 360, 'rate': 0.02416},\n",
    "]\n",
    "\n",
    "survival_probabilities = [\n",
    "    {'date': date(2014, 12, 20), 'ndp': 0.972159727015014},\n",
    "    {'date': date(2015, 12, 20), 'ndp': 0.942926329174406},\n",
    "    {'date': date(2016, 12, 20), 'ndp': 0.913448056250137},\n",
    "    {'date': date(2018, 12, 20), 'ndp': 0.855640452819766},\n",
    "    {'date': date(2023, 12, 20), 'ndp': 0.732687779675469},\n",
    "    {'date': date(2033, 12, 20), 'ndp': 0.539046016487758},\n",
    "]\n",
    "\n",
    "euribor_6m = [\n",
    "    {'date': date(2013, 10, 31), 'rate': 0.005},\n",
    "    {'date': date(2014, 4, 30), 'rate': 0.0058},\n",
    "    {'date': date(2014, 10, 30), 'rate': 0.0066},\n",
    "    {'date': date(2015, 4, 30), 'rate': 0.0074},\n",
    "    {'date': date(2015, 10, 30), 'rate': 0.0082},\n",
    "    {'date': date(2016, 4, 30), 'rate': 0.009},\n",
    "    {'date': date(2016, 10, 30), 'rate': 0.0098},\n",
    "    {'date': date(2017, 4, 30), 'rate': 0.0106},\n",
    "    {'date': date(2017, 10, 30), 'rate': 0.0114},\n",
    "    {'date': date(2018, 4, 30), 'rate': 0.0122},\n",
    "    {'date': date(2018, 10, 30), 'rate': 0.013},\n",
    "    {'date': date(2019, 4, 30), 'rate': 0.0138},\n",
    "    {'date': date(2019, 10, 30), 'rate': 0.0146},\n",
    "    {'date': date(2020, 4, 30), 'rate': 0.0154},\n",
    "    {'date': date(2020, 10, 30), 'rate': 0.0162},\n",
    "    {'date': date(2021, 4, 30), 'rate': 0.017},\n",
    "    {'date': date(2021, 10, 30), 'rate': 0.0178},\n",
    "    {'date': date(2022, 4, 30), 'rate': 0.0186},\n",
    "    {'date': date(2022, 10, 30), 'rate': 0.0194},\n",
    "    {'date': date(2023, 4, 30), 'rate': 0.0202},\n",
    "    {'date': date(2023, 10, 30), 'rate': 0.021},\n",
    "    {'date': date(2024, 4, 30), 'rate': 0.0218},\n",
    "    {'date': date(2024, 10, 30), 'rate': 0.0226},\n",
    "    {'date': date(2025, 4, 30), 'rate': 0.0234},\n",
    "    {'date': date(2025, 10, 30), 'rate': 0.0242},\n",
    "    {'date': date(2026, 4, 30), 'rate': 0.025},\n",
    "    {'date': date(2026, 10, 30), 'rate': 0.0258},\n",
    "    {'date': date(2027, 4, 30), 'rate': 0.0266},\n",
    "    {'date': date(2027, 10, 30), 'rate': 0.0274},\n",
    "    {'date': date(2028, 4, 30), 'rate': 0.0282},\n",
    "]\n",
    "\n",
    "bonds_to_price = [\n",
    "    {'nominal': 4972284.02, 'start_date': date(2010, 3, 1), 'end_date': date(2021, 8, 1),\n",
    "     'current_coupon': 0.0275, 'margin': 0.0175, 'recovery': 0.2},\n",
    "    {'nominal': 7344328.27, 'start_date': date(2009, 7, 1), 'end_date': date(2022, 7, 1), 'current_coupon': 0.0225, 'margin': 0.0175, 'recovery': 0.2},\n",
    "    {'nominal': 7172290.19, 'start_date': date(2013, 1, 1), 'end_date': date(2017, 9, 1), 'current_coupon': 0.035, 'margin': 0.01, 'recovery': 0.4},\n",
    "    {'nominal': 7065224.23, 'start_date': date(2010, 3, 1), 'end_date': date(2014, 10, 1), 'current_coupon': 0.018, 'margin': 0.01, 'recovery': 0.4},\n",
    "    {'nominal': 5256452.14, 'start_date': date(2011, 7, 1), 'end_date': date(2016, 4, 1), 'current_coupon': 0.039, 'margin': 0.01, 'recovery': 0.4},\n",
    "    {'nominal': 2689680.89, 'start_date': date(2009, 9, 1), 'end_date': date(2024, 7, 1), 'current_coupon': 0.032, 'margin': 0.01, 'recovery': 0.6},\n",
    "    {'nominal': 3593518.71, 'start_date': date(2010, 7, 1), 'end_date': date(2019, 2, 1), 'current_coupon': 0.032, 'margin': 0.01, 'recovery': 0.6},\n",
    "    {'nominal': 6993589.53, 'start_date': date(2011, 1, 1), 'end_date': date(2018, 11, 1), 'current_coupon': 0.021, 'margin': 0.01, 'recovery': 0.6},\n",
    "    {'nominal': 6684377.52, 'start_date': date(2009, 9, 1), 'end_date': date(2021, 9, 1), 'current_coupon': 0.019, 'margin': 0.01, 'recovery': 0.6},\n",
    "    {'nominal': 6896199.04, 'start_date': date(2010, 7, 1), 'end_date': date(2018, 11, 1), 'current_coupon': 0.0235, 'margin': 0.0135, 'recovery': 0.4},\n",
    "    {'nominal': 2587984.6, 'start_date': date(2011, 10, 1), 'end_date': date(2020, 10, 1), 'current_coupon': 0.016, 'margin': 0.01, 'recovery': 0.4},\n",
    "    {'nominal': 3621656.1, 'start_date': date(2012, 6, 1), 'end_date': date(2016, 7, 1), 'current_coupon': 0.0325, 'margin': 0.0135, 'recovery': 0.4},\n",
    "    {'nominal': 3146567.47, 'start_date': date(2011, 6, 1), 'end_date': date(2022, 3, 1), 'current_coupon': 0.019, 'margin': 0.009, 'recovery': 0.2},\n",
    "    {'nominal': 6452721.61, 'start_date': date(2009, 4, 1), 'end_date': date(2019, 4, 1), 'current_coupon': 0.029, 'margin': 0.009, 'recovery': 0.2},\n",
    "    {'nominal': 3418346.24, 'start_date': date(2010, 5, 1), 'end_date': date(2016, 1, 1), 'current_coupon': 0.026, 'margin': 0.009, 'recovery': 0.2},\n",
    "]"
   ]
  },
  {
   "cell_type": "markdown",
   "metadata": {},
   "source": [
    "## Solution\n",
    "The first step is to determine the discoutn curve using the bootstrap method.\n",
    "So define a set of OIS according to the market quotes given in inputs."
   ]
  },
  {
   "cell_type": "code",
   "execution_count": 2,
   "metadata": {},
   "outputs": [],
   "source": [
    "from finmarkets import OvernightIndexSwap, generate_swap_dates\n",
    "#from project_input import today, ois_quotes\n",
    "\n",
    "ois_pillar_dates = [today]\n",
    "\n",
    "swaps = []\n",
    "\n",
    "for quote in ois_quotes:\n",
    "    \n",
    "    Swap = OvernightIndexSwap( \n",
    "                1e6, \n",
    "                generate_swap_dates(today,quote['maturity']),\n",
    "                quote['rate']\n",
    "            )\n",
    "    \n",
    "    swaps.append(Swap)\n",
    "    ois_pillar_dates.append(Swap.payment_dates[-1])\n",
    "    \n",
    "ois_pillar_dates = sorted(ois_pillar_dates)\n",
    "n_df_vector = len(ois_pillar_dates)"
   ]
  },
  {
   "cell_type": "markdown",
   "metadata": {},
   "source": [
    "Then define the objective function with a discount curve with unknown discount factors $\\vec{x}$ and the squared sum of the swap NPVs to minimize."
   ]
  },
  {
   "cell_type": "code",
   "execution_count": 3,
   "metadata": {},
   "outputs": [],
   "source": [
    "from finmarkets import DiscountCurve\n",
    "\n",
    "def objective_function(x): \n",
    "    \n",
    "    curve = DiscountCurve(today, ois_pillar_dates, x)\n",
    "    \n",
    "    sum_sq = 0.0 \n",
    "    \n",
    "    for swap in swaps: \n",
    "        sum_sq += swap.npv(curve)**2\n",
    "        \n",
    "    return sum_sq"
   ]
  },
  {
   "cell_type": "markdown",
   "metadata": {},
   "source": [
    "Set initial values and boundaries of the unknown factors (remember that the first factor has to be 1 since refers to today's discount)."
   ]
  },
  {
   "cell_type": "code",
   "execution_count": 4,
   "metadata": {},
   "outputs": [],
   "source": [
    "from scipy.optimize import minimize \n",
    "\n",
    "x0 = [1.0 for i in range(len(ois_pillar_dates))]\n",
    "\n",
    "bounds = [(0.01,100.0) for i in range(len(ois_pillar_dates))]\n",
    "bounds[0]= (1.0,1.0)\n",
    "\n",
    "result = minimize(objective_function, x0, bounds = bounds)"
   ]
  },
  {
   "cell_type": "markdown",
   "metadata": {},
   "source": [
    "Check the results to be sure the minimization worked..."
   ]
  },
  {
   "cell_type": "code",
   "execution_count": 5,
   "metadata": {},
   "outputs": [
    {
     "name": "stdout",
     "output_type": "stream",
     "text": [
      "      fun: 0.0006561289593822537\n",
      " hess_inv: <31x31 LbfgsInvHessProduct with dtype=float64>\n",
      "      jac: array([ 5.79535027e+05, -2.83218934e-04, -3.24325939e-04, -3.24159579e-04,\n",
      "       -3.11566571e-04, -3.47202302e-04, -3.37286557e-04, -2.87379278e-04,\n",
      "       -3.00611012e-04, -1.85489428e-04, -1.04252349e-04, -1.83492739e-04,\n",
      "       -2.79941769e-03,  2.00371273e-03,  2.00847496e-03,  1.81515215e-03,\n",
      "        2.94133554e-04,  2.56011760e-03,  2.71539768e-03,  5.59571356e-04,\n",
      "       -1.80683901e-03, -2.87603688e-03, -2.12279051e-03, -6.51237224e-04,\n",
      "        8.25915508e-04,  1.54731075e-03,  1.69996320e-03, -1.17257943e-03,\n",
      "        1.79882329e-03,  2.55535285e-04, -1.25285385e-03])\n",
      "  message: b'CONVERGENCE: REL_REDUCTION_OF_F_<=_FACTR*EPSMCH'\n",
      "     nfev: 448\n",
      "      nit: 11\n",
      "   status: 0\n",
      "  success: True\n",
      "        x: array([1.        , 0.99991167, 0.99980687, 0.99970619, 0.99961015,\n",
      "       0.99950111, 0.999392  , 0.99928207, 0.99916713, 0.99903027,\n",
      "       0.998895  , 0.99874906, 0.99860278, 0.99807334, 0.99748678,\n",
      "       0.99674625, 0.99583439, 0.98958294, 0.97817155, 0.9622335 ,\n",
      "       0.94245275, 0.91997975, 0.89555481, 0.86968378, 0.84283835,\n",
      "       0.81600063, 0.78928833, 0.7134728 , 0.61195787, 0.53249163,\n",
      "       0.46686384])\n"
     ]
    }
   ],
   "source": [
    "print (result)"
   ]
  },
  {
   "cell_type": "code",
   "execution_count": 6,
   "metadata": {},
   "outputs": [
    {
     "name": "stdout",
     "output_type": "stream",
     "text": [
      "Initial value of obj_func 1398807951100.5298\n",
      "Final value of obj_func 0.0006561289593822537\n"
     ]
    }
   ],
   "source": [
    "print (\"Initial value of obj_func {}\".format(objective_function(x0)))\n",
    "print (\"Final value of obj_func {}\".format(objective_function(result.x)))"
   ]
  },
  {
   "cell_type": "markdown",
   "metadata": {},
   "source": [
    "Finally create the discount curve to be used in the exercise."
   ]
  },
  {
   "cell_type": "code",
   "execution_count": 7,
   "metadata": {},
   "outputs": [
    {
     "data": {
      "text/plain": [
       "0.6710110388246098"
      ]
     },
     "execution_count": 7,
     "metadata": {},
     "output_type": "execute_result"
    }
   ],
   "source": [
    "from finmarkets import DiscountCurve\n",
    "from datetime import date \n",
    "\n",
    "eonia_curve = DiscountCurve(today, \n",
    "                            ois_pillar_dates, \n",
    "                            result.x)\n",
    "\n",
    "eonia_curve.df(date(2030,10,31))"
   ]
  },
  {
   "cell_type": "markdown",
   "metadata": {},
   "source": [
    "Our bonds are indexed to a LIBOR 6m curve given in input so we need to create a `ForwardRateCurve` object to use it."
   ]
  },
  {
   "cell_type": "code",
   "execution_count": 8,
   "metadata": {},
   "outputs": [
    {
     "data": {
      "text/plain": [
       "0.023797814207650272"
      ]
     },
     "execution_count": 8,
     "metadata": {},
     "output_type": "execute_result"
    }
   ],
   "source": [
    "from finmarkets import ForwardRateCurve\n",
    "from datetime import date\n",
    "\n",
    "forward_rate_curve= ForwardRateCurve(\n",
    "                    [item['date'] for item in euribor_6m],\n",
    "                    [item['rate'] for item in euribor_6m])               \n",
    "                \n",
    "forward_rate_curve.forward_rate(date(2025,7,30))"
   ]
  },
  {
   "cell_type": "markdown",
   "metadata": {},
   "source": [
    "In a similar way we need to create a `CreditCurve` from the inputs."
   ]
  },
  {
   "cell_type": "code",
   "execution_count": 9,
   "metadata": {},
   "outputs": [
    {
     "data": {
      "text/plain": [
       "0.691942752218531"
      ]
     },
     "execution_count": 9,
     "metadata": {},
     "output_type": "execute_result"
    }
   ],
   "source": [
    "from finmarkets import CreditCurve\n",
    "from datetime import date\n",
    "\n",
    "pillar_ndps = [1.0]\n",
    "ndps_pillar_dates = [today]\n",
    "\n",
    "for ndps in survival_probabilities:\n",
    "    pillar_ndps.append(ndps['ndp'])\n",
    "    \n",
    "for dates in survival_probabilities:\n",
    "    ndps_pillar_dates.append(dates['date'])\n",
    "    \n",
    "credit_curve = CreditCurve(ndps_pillar_dates,\n",
    "                           pillar_ndps)\n",
    "\n",
    "credit_curve.ndp(date(2025,10,31))"
   ]
  },
  {
   "cell_type": "markdown",
   "metadata": {},
   "source": [
    "Now that we have all the ingredients we can compute the market values of the portfolio of bonds."
   ]
  },
  {
   "cell_type": "code",
   "execution_count": 10,
   "metadata": {},
   "outputs": [],
   "source": [
    "from datetime import date \n",
    "from dateutil.relativedelta import relativedelta \n",
    "\n",
    "class BondPricer: \n",
    "    \n",
    "    def __init__(self,pricing_date, nominal, start_date, end_date,\n",
    "                 current_coupon, margin, recovery, tenor_months=6):\n",
    "        \n",
    "        self.pricing_date = pricing_date \n",
    "        self.nominal = nominal\n",
    "        self.start_date = start_date \n",
    "        self.end_date = end_date \n",
    "        self.current_coupon = current_coupon\n",
    "        self.margin = margin \n",
    "        self.recovery = recovery \n",
    "        self.tenor_months = tenor_months \n",
    "        \n",
    "\n",
    "    def payment_dates(self):\n",
    "        dates = []\n",
    "        future_dates = []\n",
    "\n",
    "        n_months = ((self.end_date.year - self.start_date.year) * 12) + \\\n",
    "                    (self.end_date.month - self.start_date.month)\n",
    "\n",
    "        for n in range(0, n_months, self.tenor_months):\n",
    "            dates.append(self.start_date + relativedelta(months=n))\n",
    "        dates.append(self.end_date)\n",
    "\n",
    "        for i in range(len(dates)):\n",
    "\n",
    "            if dates[i] > self.pricing_date: \n",
    "                future_dates.append(dates[i])\n",
    "\n",
    "        return future_dates\n",
    "        \n",
    "    def mark_to_market(self, discounting_curve, forward_curve, credit_curve):\n",
    "        \n",
    "        bond_dates = self.payment_dates()\n",
    "        npv_coupons_if_no_default = 0\n",
    "        recovery_if_early_default = 0 \n",
    "    \n",
    "        for i in range(1, len(bond_dates)):\n",
    "            if bond_dates[i] > today:\n",
    "                npv_coupons_if_no_default += self.nominal *            \n",
    "                    (((bond_dates[i] - bond_dates[i-1]).days / 360) *\n",
    "                        discounting_curve.df(bond_dates[i]) *\n",
    "                        (forward_curve.forward_rate(bond_dates[i-1]) + self.margin) * \n",
    "                        credit_curve.ndp(bond_dates[i]))\n",
    "                    \n",
    "        notional_reimbursement_if_no_default = self.nominal * \n",
    "                    (discounting_curve.df(bond_dates[-1])*\n",
    "                     credit_curve.ndp(bond_dates[-1]))\n",
    "        \n",
    "        \n",
    "        first_coupon = (((bond_dates[0] - today).days / 360)*\n",
    "                          discounting_curve.df(bond_dates[0]) *\n",
    "                          self.current_coupon * credit_curve.ndp(bond_dates[0]))\n",
    "\n",
    "        npv_coupons_if_no_default += first_coupon\n",
    "        \n",
    "        \n",
    "        \n",
    "        \n",
    "        \n",
    "        d= self.pricing_date\n",
    "    \n",
    "        while d <= bond_dates[-1]:\n",
    "\n",
    "            recovery_if_early_default += ((discounting_curve.df(d)) *\n",
    "                                         (credit_curve.ndp(d) - \n",
    "                                          credit_curve.ndp(d+relativedelta(days=1))))\n",
    "            d += relativedelta(days=1)  \n",
    "\n",
    "        recovery_if_early_default = recovery_if_early_default * self.recovery * self.nominal\n",
    "        \n",
    "        MTM =  npv_coupons_if_no_default + notional_reimbursement_if_no_default + recovery_if_early_default\n",
    "        \n",
    "        return MTM"
   ]
  },
  {
   "cell_type": "code",
   "execution_count": null,
   "metadata": {},
   "outputs": [],
   "source": []
  }
 ],
 "metadata": {
  "kernelspec": {
   "display_name": "Python 3",
   "language": "python",
   "name": "python3"
  },
  "language_info": {
   "codemirror_mode": {
    "name": "ipython",
    "version": 3
   },
   "file_extension": ".py",
   "mimetype": "text/x-python",
   "name": "python",
   "nbconvert_exporter": "python",
   "pygments_lexer": "ipython3",
   "version": "3.6.3"
  }
 },
 "nbformat": 4,
 "nbformat_minor": 2
}
