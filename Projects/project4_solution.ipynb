{
 "cells": [
  {
   "cell_type": "markdown",
   "metadata": {},
   "source": [
    "# Fixed Coupon Bond\n",
    "\n",
    "The goal of the project is to compute the market value of a portfolio if fixed coupon bonds taking into account the issuer credit risk. The input parameters to derive this curve are:\n",
    "\n",
    "* The par rate of a set of Overnight Index Swaps (i.e. their market quotation)\n",
    "* A set of survival probabilities and the recovery rate of the issuer\n",
    "* The static data of the pool of bonds (nominal, start date, end date, coupons, payment frequency)\n",
    "\n",
    "### Notes and hints\n",
    "\n",
    "Numerical results must be presented to the examining committee during a presentation in which the candidates will also explain the theoretical framework for evaluation of risky flows.\n",
    "\n",
    "All maturities are expressed in months and rates are expressed as fractions of one (i.e. 0.01 means 1%).\n",
    "\n",
    "Remember to reuse the code we developed during the lessons in `finmarkets.py` as much as possible, instead of trying to rewrite everything from scratch!"
   ]
  },
  {
   "cell_type": "code",
   "execution_count": 1,
   "metadata": {},
   "outputs": [],
   "source": [
    "from datetime import date\n",
    "from dateutil.relativedelta import relativedelta\n",
    "\n",
    "today = date(2013, 10, 31)\n",
    "\n",
    "ois_quotes = [\n",
    "    {'maturity': 1, 'rate': 0.00106},\n",
    "    {'maturity': 2, 'rate': 0.00114},\n",
    "    {'maturity': 3, 'rate': 0.00115},\n",
    "    {'maturity': 4, 'rate': 0.00117},\n",
    "    {'maturity': 5, 'rate': 0.00119},\n",
    "    {'maturity': 6, 'rate': 0.00121},\n",
    "    {'maturity': 7, 'rate': 0.00122},\n",
    "    {'maturity': 8, 'rate': 0.00124},\n",
    "    {'maturity': 9, 'rate': 0.00128},\n",
    "    {'maturity': 10, 'rate': 0.00131},\n",
    "    {'maturity': 11, 'rate': 0.00135},\n",
    "    {'maturity': 12, 'rate': 0.00138},\n",
    "    {'maturity': 15, 'rate': 0.00152},\n",
    "    {'maturity': 18, 'rate': 0.00166},\n",
    "    {'maturity': 21, 'rate': 0.00184},\n",
    "    {'maturity': 24, 'rate': 0.00206},\n",
    "    {'maturity': 36, 'rate': 0.00344},\n",
    "    {'maturity': 48, 'rate': 0.00543},\n",
    "    {'maturity': 60, 'rate': 0.00756},\n",
    "    {'maturity': 72, 'rate': 0.00967},\n",
    "    {'maturity': 84, 'rate': 0.01162},\n",
    "    {'maturity': 96, 'rate': 0.0134},\n",
    "    {'maturity': 108, 'rate': 0.01502},\n",
    "    {'maturity': 120, 'rate': 0.01649},\n",
    "    {'maturity': 132, 'rate': 0.01776},\n",
    "    {'maturity': 144, 'rate': 0.01888},\n",
    "    {'maturity': 180, 'rate': 0.02137},\n",
    "    {'maturity': 240, 'rate': 0.02322},\n",
    "    {'maturity': 300, 'rate': 0.02389},\n",
    "    {'maturity': 360, 'rate': 0.02416},\n",
    "]\n",
    "\n",
    "survival_probabilities = [\n",
    "    {'date': date(2014, 12, 20), 'ndp': 0.972159727015014},\n",
    "    {'date': date(2015, 12, 20), 'ndp': 0.942926329174406},\n",
    "    {'date': date(2016, 12, 20), 'ndp': 0.913448056250137},\n",
    "    {'date': date(2018, 12, 20), 'ndp': 0.855640452819766},\n",
    "    {'date': date(2023, 12, 20), 'ndp': 0.732687779675469},\n",
    "    {'date': date(2033, 12, 20), 'ndp': 0.539046016487758},\n",
    "]\n",
    "\n",
    "bonds_to_price = [\n",
    "    {'nominal': 4972284.02, 'start_date': date(2010, 3, 1), 'end_date': date(2021, 9, 1), 'coupon_frequency': 3, 'coupon': 0.035, 'recovery': 0.2},\n",
    "    {'nominal': 7344328.27, 'start_date': date(2009, 7, 1), 'end_date': date(2022, 7, 1), 'coupon_frequency': 3, 'coupon': 0.035, 'recovery': 0.2},\n",
    "    {'nominal': 7172290.19, 'start_date': date(2013, 1, 1), 'end_date': date(2017, 7, 1), 'coupon_frequency': 6, 'coupon': 0.02, 'recovery': 0.4},\n",
    "    {'nominal': 7065224.23, 'start_date': date(2010, 3, 1), 'end_date': date(2014, 9, 1), 'coupon_frequency': 6, 'coupon': 0.02, 'recovery': 0.4},\n",
    "    {'nominal': 5256452.14, 'start_date': date(2011, 7, 1), 'end_date': date(2016, 7, 1), 'coupon_frequency': 6, 'coupon': 0.02, 'recovery': 0.4},\n",
    "    {'nominal': 2689680.89, 'start_date': date(2009, 9, 1), 'end_date': date(2024, 9, 1), 'coupon_frequency': 6, 'coupon': 0.02, 'recovery': 0.6},\n",
    "    {'nominal': 3593518.71, 'start_date': date(2010, 7, 1), 'end_date': date(2019, 7, 1), 'coupon_frequency': 12, 'coupon': 0.02, 'recovery': 0.6},\n",
    "    {'nominal': 6993589.53, 'start_date': date(2011, 1, 1), 'end_date': date(2019, 1, 1), 'coupon_frequency': 12, 'coupon': 0.02, 'recovery': 0.6},\n",
    "    {'nominal': 6684377.52, 'start_date': date(2009, 9, 1), 'end_date': date(2021, 9, 1), 'coupon_frequency': 12, 'coupon': 0.02, 'recovery': 0.6},\n",
    "    {'nominal': 6896199.04, 'start_date': date(2010, 7, 1), 'end_date': date(2018, 7, 1), 'coupon_frequency': 12, 'coupon': 0.027, 'recovery': 0.4},\n",
    "    {'nominal': 2587984.6, 'start_date': date(2011, 10, 1), 'end_date': date(2020, 10, 1), 'coupon_frequency': 12, 'coupon': 0.02, 'recovery': 0.4},\n",
    "    {'nominal': 3621656.1, 'start_date': date(2012, 6, 1), 'end_date': date(2016, 6, 1), 'coupon_frequency': 6, 'coupon': 0.027, 'recovery': 0.4},\n",
    "    {'nominal': 3146567.47, 'start_date': date(2011, 6, 1), 'end_date': date(2022, 6, 1), 'coupon_frequency': 6, 'coupon': 0.018, 'recovery': 0.2},\n",
    "    {'nominal': 6452721.61, 'start_date': date(2009, 4, 1), 'end_date': date(2019, 4, 1), 'coupon_frequency': 3, 'coupon': 0.018, 'recovery': 0.2},\n",
    "    {'nominal': 3418346.24, 'start_date': date(2010, 5, 1), 'end_date': date(2016, 5, 1), 'coupon_frequency': 3, 'coupon': 0.018, 'recovery': 0.2},\n",
    "]"
   ]
  },
  {
   "cell_type": "markdown",
   "metadata": {},
   "source": [
    "First of all we need to determine the discount curve from the market quotes of a set of OIS using the bootstrap technique. Also, before defining the discount curve I have checked the minimization results)."
   ]
  },
  {
   "cell_type": "code",
   "execution_count": 2,
   "metadata": {},
   "outputs": [],
   "source": [
    "from finmarkets import DiscountCurve, OvernightIndexSwap, generate_swap_dates\n",
    "\n",
    "pillar_dates = [today]\n",
    "\n",
    "swaps = []\n",
    "\n",
    "for quote in ois_quotes:\n",
    "    swap = OvernightIndexSwap(\n",
    "        1e6, \n",
    "        generate_swap_dates(today, quote['maturity']),\n",
    "        quote['rate'])\n",
    "    \n",
    "    swaps.append(swap)\n",
    "    pillar_dates.append(swap.payment_dates[-1])\n",
    "\n",
    "pillar_dates = sorted(pillar_dates)"
   ]
  },
  {
   "cell_type": "code",
   "execution_count": 3,
   "metadata": {},
   "outputs": [],
   "source": [
    "def objective_function(x):\n",
    "    \n",
    "    curve = DiscountCurve(today, pillar_dates, x)\n",
    "    \n",
    "    sum_sq = 0.0\n",
    "    \n",
    "    for swap in swaps:\n",
    "        sum_sq += swap.npv(curve) ** 2\n",
    "        \n",
    "    return sum_sq "
   ]
  },
  {
   "cell_type": "code",
   "execution_count": 4,
   "metadata": {},
   "outputs": [],
   "source": [
    "from scipy.optimize import minimize\n",
    "\n",
    "x0 = [1.0 for i in range(len(pillar_dates))]\n",
    "bounds = [(0.01, 100.0) for i in range(len(pillar_dates))]\n",
    "bounds[0] = (1.0, 1.0)\n",
    "\n",
    "result = minimize(objective_function, x0, bounds=bounds)"
   ]
  },
  {
   "cell_type": "code",
   "execution_count": 5,
   "metadata": {},
   "outputs": [
    {
     "name": "stdout",
     "output_type": "stream",
     "text": [
      "[1.         0.99991167 0.99980687 0.99970619 0.99961015 0.99950111\n",
      " 0.999392   0.99928207 0.99916713 0.99903027 0.998895   0.99874906\n",
      " 0.99860278 0.99807334 0.99748678 0.99674625 0.99583439 0.98958294\n",
      " 0.97817155 0.9622335  0.94245275 0.91997975 0.89555481 0.86968378\n",
      " 0.84283835 0.81600063 0.78928833 0.7134728  0.61195787 0.53249163\n",
      " 0.46686384]\n",
      "1398807951100.5298\n",
      "0.0006561289593822537\n"
     ]
    },
    {
     "data": {
      "text/plain": [
       "<Figure size 640x480 with 1 Axes>"
      ]
     },
     "metadata": {},
     "output_type": "display_data"
    }
   ],
   "source": [
    "print (result.x)\n",
    "print (objective_function(x0))\n",
    "print (objective_function(result.x))\n",
    "\n",
    "from matplotlib import pyplot as plt\n",
    "plt.plot(pillar_dates, result.x, marker='o')\n",
    "plt.show()"
   ]
  },
  {
   "cell_type": "code",
   "execution_count": 6,
   "metadata": {},
   "outputs": [],
   "source": [
    "discount_curve = DiscountCurve(today, pillar_dates, result.x)"
   ]
  },
  {
   "cell_type": "markdown",
   "metadata": {},
   "source": [
    "Then ww need to determine the credit curve from the non-default probabilities given in input."
   ]
  },
  {
   "cell_type": "code",
   "execution_count": 7,
   "metadata": {},
   "outputs": [],
   "source": [
    "from finmarkets import CreditCurve\n",
    "\n",
    "date=[today]\n",
    "\n",
    "ndp=[1.0]\n",
    "\n",
    "for quote in survival_probabilities:\n",
    "    date.append(quote['date'])\n",
    "    ndp.append(quote['ndp'])\n",
    "    \n",
    "cc = CreditCurve(date, ndp)"
   ]
  },
  {
   "cell_type": "markdown",
   "metadata": {},
   "source": [
    "In the end a new class to price the bonds has been developed. The same class is used later to compute the portfolio value."
   ]
  },
  {
   "cell_type": "code",
   "execution_count": 17,
   "metadata": {},
   "outputs": [],
   "source": [
    "from math import exp\n",
    "\n",
    "class Price:\n",
    "    \n",
    "    def __init__(self, notional, d1, d2, today, \n",
    "                 coupon, frequency, recovery):\n",
    "\n",
    "        self.notional = notional\n",
    "        self.d1 = d1\n",
    "        self.d2 = d2\n",
    "        self.today = today\n",
    "        self.coupon = coupon\n",
    "        self.frequency = frequency\n",
    "        self.recovery = recovery\n",
    "           \n",
    "    def cpd(self):\n",
    "        coupon_dates = []\n",
    "        now = self.d1\n",
    "        \n",
    "        while now + relativedelta(months=self.frequency) < self.d2:\n",
    "            now += relativedelta(months=self.frequency)\n",
    "            coupon_dates.append(now)\n",
    "            \n",
    "        coupon_dates.append(self.d2)\n",
    "        coupon_dates = [i for i in coupon_dates if i >= self.today]\n",
    "        \n",
    "        return coupon_dates\n",
    "    \n",
    "    def haz(self, end):\n",
    "        hazard=0.0\n",
    "        t=0\n",
    "        \n",
    "        while t <= end: \n",
    "            hazard += cc.ndp(today+relativedelta(days=t)) - \\\n",
    "                      cc.ndp(today+relativedelta(days=t+1))\n",
    "            t += 1\n",
    "        return hazard\n",
    "        \n",
    "    def pricing(self):            \n",
    "        price = 0\n",
    "        for d in self.cpd():\n",
    "            price += self.coupon * self.notional * discount_curve.df(d) * cc.ndp(d)\n",
    "        \n",
    "        price += self.notional * discount_curve.df(d) * cc.ndp(d)\n",
    "        \n",
    "        recovery = 0 \n",
    "        now = today\n",
    "        while now + relativedelta(days=1) <= self.d2:\n",
    "            recovery += self.recovery * self.notional * discount_curve.df(now) * (cc.ndp(d) - cc.ndp(d+relativedelta(days=1)))\n",
    "            now += relativedelta(days=1)\n",
    "        price += recovery\n",
    "        return price"
   ]
  },
  {
   "cell_type": "code",
   "execution_count": 19,
   "metadata": {},
   "outputs": [
    {
     "name": "stdout",
     "output_type": "stream",
     "text": [
      "The market value of the portfolio is 89995036.71\n"
     ]
    }
   ],
   "source": [
    "#payment_dates=[]\n",
    "\n",
    "#payments_values=[]\n",
    "ptf_price=0.0\n",
    "\n",
    "for quote in bonds_to_price:\n",
    "   \n",
    "    ptf = Price(\n",
    "        quote['nominal'],\n",
    "        quote['start_date'],\n",
    "        quote['end_date'],\n",
    "        today,        \n",
    "        quote['coupon'], \n",
    "        quote['coupon_frequency'], \n",
    "        quote['recovery']        \n",
    "    )\n",
    "\n",
    "    ptf_price += ptf.pricing()\n",
    "\n",
    "print (\"The market value of the portfolio is {:.2f}\".format(ptf_price))"
   ]
  }
 ],
 "metadata": {
  "kernelspec": {
   "display_name": "Python 3",
   "language": "python",
   "name": "python3"
  },
  "language_info": {
   "codemirror_mode": {
    "name": "ipython",
    "version": 3
   },
   "file_extension": ".py",
   "mimetype": "text/x-python",
   "name": "python",
   "nbconvert_exporter": "python",
   "pygments_lexer": "ipython3",
   "version": "3.6.3"
  }
 },
 "nbformat": 4,
 "nbformat_minor": 2
}
