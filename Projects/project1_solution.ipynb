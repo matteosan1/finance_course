{
 "cells": [
  {
   "cell_type": "markdown",
   "metadata": {},
   "source": [
    "## Basis Swap Par Spreads\n",
    "\n",
    "The goal of the project is to compute the par spreads of a pool of basis swaps, i.e. those contracts in which two floating libor rates, with different tenors, are exchanged. The par spread is that margin which has to be paid/received on top of the floating rate with the shorter tenor.\n",
    "\n",
    "The input parameters are:\n",
    "\n",
    "* The par rate of a set of Overnight Index Swaps (i.e. their market quotation)\n",
    "* 3 sets of forward libor rates and their fixing dates, one for the Libor 1M, one for the Libor 3M and one for the Libor 6M.\n",
    "* The static data of the pool of swaps (nominal, maturity, tenor of the first leg, tenor of the second leg)\n",
    "\n",
    "Numerical results must be presented to the examining committee during a presentation in which the candidates will also explain the theoretical framework for multi-curve evaluation.\n",
    "\n",
    "### Notes and hints\n",
    "\n",
    "Numerical results must be presented to the examining committee during a presentation in which the candidates will also explain the theoretical framework for evaluation of risky flows.\n",
    "\n",
    "All maturities are expressed in months and rates are expressed as fractions of one (i.e. 0.01 means 1%).\n",
    "\n",
    "Remember to reuse the code we developed during the lessons in `finmarkets.py` as much as possible, instead of trying to rewrite everything from scratch!"
   ]
  },
  {
   "cell_type": "code",
   "execution_count": 1,
   "metadata": {},
   "outputs": [],
   "source": [
    "import pandas as pd\n",
    "from finmarkets import DiscountCurve, OvernightIndexSwap, generate_swap_dates, ForwardRateCurve\n",
    "from datetime import date\n",
    "\n",
    "today = date(2019, 10, 31)\n",
    "\n",
    "ois_quotes = pd.read_csv(\"ois_quotes.csv\").to_dict('records')\n",
    "\n",
    "df = pd.read_csv(\"euribor1M_proj1.csv\")\n",
    "euribor_1m_curve = ForwardRateCurve(pd.to_datetime(df['dates']).dt.date.to_list(), \n",
    "                                    df['rates'])\n",
    "\n",
    "df = pd.read_csv(\"euribor3M_proj1.csv\")\n",
    "euribor_3m_curve = ForwardRateCurve(pd.to_datetime(df['dates']).dt.date.to_list(), \n",
    "                                    df['rates'])\n",
    "\n",
    "df = pd.read_csv(\"euribor6M_proj1.csv\")\n",
    "euribor_6m_curve = ForwardRateCurve(pd.to_datetime(df['dates']).dt.date.to_list(), \n",
    "                                    df['rates'])\n",
    "\n",
    "basis_swaps = pd.read_csv(\"basis_swaps_proj1.csv\").to_dict('records')"
   ]
  },
  {
   "cell_type": "markdown",
   "metadata": {},
   "source": [
    "First of all we need to determine the discount curve from the OIS market quotes using the bootstrap technique.\n",
    "\n",
    "* generate set of OIS according to the market quotes\n",
    "* create an objective function with a discount curve and the squared sum of NPVs\n",
    "* check minimization results\n",
    "* create the found `DiscountCurve`"
   ]
  },
  {
   "cell_type": "code",
   "execution_count": 2,
   "metadata": {},
   "outputs": [],
   "source": [
    "from finmarkets import generate_swap_dates, OvernightIndexSwap\n",
    "pillar_dates = [today]\n",
    "\n",
    "swaps = []\n",
    "for quote in ois_quotes:\n",
    "    swap = OvernightIndexSwap(\n",
    "           1e6, \n",
    "           generate_swap_dates(today, quote['maturity']),\n",
    "           0.01 * quote['rate'])\n",
    "    swaps.append(swap)\n",
    "    pillar_dates.append(swap.payment_dates[-1])\n",
    "    \n",
    "pillar_dates = sorted(pillar_dates)"
   ]
  },
  {
   "cell_type": "code",
   "execution_count": 3,
   "metadata": {},
   "outputs": [],
   "source": [
    "from finmarkets import DiscountCurve\n",
    "import numpy as np\n",
    "\n",
    "def objective_function(x):\n",
    "    x = np.insert(x, 0, 1)\n",
    "    curve = DiscountCurve(today, pillar_dates, x)\n",
    "    \n",
    "    sum_sq = 0.0\n",
    "    for swap in swaps:\n",
    "        sum_sq += swap.npv(curve) ** 2\n",
    "        \n",
    "    return sum_sq"
   ]
  },
  {
   "cell_type": "code",
   "execution_count": 4,
   "metadata": {},
   "outputs": [],
   "source": [
    "from scipy.optimize import minimize\n",
    "\n",
    "x0 = [1.0 for i in range(len(pillar_dates)-1)]\n",
    "bounds = [(0.01, 100.0) for i in range(len(x0))]\n",
    "\n",
    "result = minimize(objective_function, x0, bounds=bounds)"
   ]
  },
  {
   "cell_type": "code",
   "execution_count": 5,
   "metadata": {},
   "outputs": [
    {
     "name": "stdout",
     "output_type": "stream",
     "text": [
      "      fun: 0.0007487918928515683\n",
      " hess_inv: <30x30 LbfgsInvHessProduct with dtype=float64>\n",
      "      jac: array([ 1.70231666e-05,  1.88951501e-05, -6.58035689e-05, -5.06573947e-06,\n",
      "        1.49836739e-06, -9.36252373e-05,  4.93635295e-05, -1.09646558e-04,\n",
      "        3.85117283e-06,  3.51473840e-05,  4.97705824e-05,  2.38684722e-05,\n",
      "        6.35263106e-05,  8.05371391e-05,  6.32675983e-05,  6.89265590e-05,\n",
      "       -7.26789285e-05,  3.35287785e-05,  5.86377623e-05, -6.27189053e-05,\n",
      "        5.35635119e-05, -2.05503473e-05,  5.74030295e-05, -2.62412378e-05,\n",
      "       -6.08652340e-05, -1.78349522e-05, -9.95253462e-05, -1.72675458e-06,\n",
      "        8.59563284e-05, -1.01028159e-04])\n",
      "  message: b'CONVERGENCE: REL_REDUCTION_OF_F_<=_FACTR*EPSMCH'\n",
      "     nfev: 248\n",
      "      nit: 6\n",
      "     njev: 8\n",
      "   status: 0\n",
      "  success: True\n",
      "        x: array([0.99999911, 0.99999806, 0.99999706, 0.99999606, 0.99999497,\n",
      "       0.99999388, 0.99999278, 0.99999163, 0.99999025, 0.9999889 ,\n",
      "       0.99998743, 0.99998597, 0.99998066, 0.99997477, 0.99996734,\n",
      "       0.99995817, 0.99989527, 0.99977965, 0.99961638, 0.99941133,\n",
      "       0.99917491, 0.99891281, 0.99862888, 0.99832777, 0.99801928,\n",
      "       0.99770338, 0.9967518 , 0.99529769, 0.99395627, 0.99267086])\n",
      "139901880.28734463\n",
      "0.0007487918928515683\n"
     ]
    }
   ],
   "source": [
    "print (result)\n",
    "print (objective_function(x0))\n",
    "print (objective_function(result.x))"
   ]
  },
  {
   "cell_type": "code",
   "execution_count": 7,
   "metadata": {},
   "outputs": [],
   "source": [
    "x = np.insert(result.x, 0, 1)\n",
    "ois_curve = DiscountCurve(today, pillar_dates, x)"
   ]
  },
  {
   "cell_type": "code",
   "execution_count": 8,
   "metadata": {},
   "outputs": [],
   "source": [
    "from finmarkets import ForwardRateCurve\n",
    "\n",
    "euribor_curves = {}\n",
    "euribor_curves[1] = euribor_1m_curve\n",
    "euribor_curves[3] = euribor_3m_curve\n",
    "euribor_curves[6] = euribor_6m_curve"
   ]
  },
  {
   "cell_type": "markdown",
   "metadata": {},
   "source": [
    "Create a BasisSwap class that has a method to compute the fair margin as follows:\n",
    "\n",
    "$$S = \\frac {S_{t2} - S_{t1}}{\\text{annuity}_{t1}} $$"
   ]
  },
  {
   "cell_type": "code",
   "execution_count": 9,
   "metadata": {},
   "outputs": [],
   "source": [
    "bs_mat = [bsw['maturity'] for bsw in basis_swaps]\n",
    "bs_ft = [bsw['first_tenor'] for bsw in basis_swaps]\n",
    "bs_st = [bsw['second_tenor'] for bsw in basis_swaps]"
   ]
  },
  {
   "cell_type": "code",
   "execution_count": 10,
   "metadata": {},
   "outputs": [],
   "source": [
    "from datetime import date\n",
    "from dateutil.relativedelta import relativedelta\n",
    "from finmarkets import generate_swap_dates\n",
    "\n",
    "class BasisRateSwap:\n",
    "    def __init__(self, start_date, notional, \n",
    "                 maturity, first_tenor, second_tenor):\n",
    "    \n",
    "        self.start_date = today\n",
    "        self.notional = notional\n",
    "        self.maturity = maturity\n",
    "        self.tenor1 = first_tenor\n",
    "        self.tenor2 = second_tenor\n",
    "    \n",
    "        self.tenor1_payment_dates = \\\n",
    "            generate_swap_dates(self.start_date, \n",
    "                                self.maturity, \n",
    "                                self.tenor1)\n",
    "        self.tenor2_payment_dates = \\\n",
    "            generate_swap_dates(self.start_date, \n",
    "                                self.maturity, \n",
    "                                self.tenor2)\n",
    "\n",
    "    def swap_rate(self, pd, dc, euribor, corr=0):\n",
    "        sp = 0 \n",
    "        for i in range(1, len(pd)):\n",
    "            F = euribor.forward_rate(pd[i-1]) + corr\n",
    "            D = dc.df(pd[i])\n",
    "            tau = (pd[i] - pd[i-1]).days / 360\n",
    "            sp += F * D * tau\n",
    "        return sp\n",
    "        \n",
    "    def annuity(self, payment_dates, dc):\n",
    "        annuity_ft = 0\n",
    "        for j in range(1, len(payment_dates)):\n",
    "            D = dc.df(payment_dates[j])\n",
    "            tau = (payment_dates[j] - payment_dates[j-1]).days/360\n",
    "            annuity_ft += D * tau\n",
    "        return annuity_ft\n",
    "        \n",
    "    def fair_margin(self, discount_curve, euribor_1t, euribor_2t):\n",
    "        s2 = self.swap_rate(self.tenor2_payment_dates, discount_curve, euribor_2t)\n",
    "        s1 = self.swap_rate(self.tenor1_payment_dates, discount_curve, euribor_1t) \n",
    "        delta_sp = s2 - s1\n",
    "        \n",
    "        annuity_ft = self.annuity(self.tenor1_payment_dates, discount_curve)\n",
    "        return (delta_sp / annuity_ft)\n",
    "    \n",
    "    def fair_npv(self, discount_curve, euribor_1t, euribor_2t):\n",
    "        par_spread = self.fair_margin(discount_curve, euribor_1t, euribor_2t)\n",
    "        npv2 = self.swap_rate(self.tenor2_payment_dates, discount_curve, euribor_2t)\n",
    "        npv1 = self.swap_rate(self.tenor1_payment_dates, discount_curve, euribor_1t, par_spread)\n",
    "        \n",
    "        return (npv1 - npv2)* self.notional\n",
    "    \n",
    "    def fair_npv_with_par(self, par_spread, discount_curve, euribor_1t, euribor_2t):\n",
    "        npv2 = self.swap_rate(self.tenor2_payment_dates, discount_curve, euribor_2t)\n",
    "        npv1 = self.swap_rate(self.tenor1_payment_dates, discount_curve, euribor_1t, par_spread)\n",
    "        \n",
    "        return (npv1 - npv2)* self.notional        \n",
    "    \n",
    "    def npv(self, discount_curve, euribor_1t, euribor_2t):\n",
    "        par_spread = self.fair_margin(discount_curve, euribor_1t, euribor_2t)\n",
    "        npv2 = self.swap_rate(self.tenor2_payment_dates, discount_curve, euribor_2t)\n",
    "        npv1 = self.swap_rate(self.tenor1_payment_dates, discount_curve, euribor_1t)\n",
    "        \n",
    "        return (npv1 - npv2)* self.notional"
   ]
  },
  {
   "cell_type": "code",
   "execution_count": 11,
   "metadata": {},
   "outputs": [
    {
     "name": "stdout",
     "output_type": "stream",
     "text": [
      "Par spreads: ['0.00030', '0.00129', '0.00159', '0.00008', '0.00127', '0.00135', '-0.00005', '0.00122', '0.00117', '-0.00008', '0.00117', '0.00110', '-0.00009', '0.00113', '0.00104']\n"
     ]
    }
   ],
   "source": [
    "par_spreads = []\n",
    "\n",
    "for i in range(len(bs_mat)):\n",
    "    par_spreads.append(BasisRateSwap(today, 1000000, bs_mat[i],\n",
    "                       bs_ft[i], bs_st[i]).fair_margin(ois_curve, \n",
    "                                                       euribor_curves[bs_ft[i]],\n",
    "                                                       euribor_curves[bs_st[i]]))\n",
    "\n",
    "print (\"Par spreads: \" + str([\"{:.5f}\".format(s) for s in par_spreads]))"
   ]
  },
  {
   "cell_type": "code",
   "execution_count": 12,
   "metadata": {},
   "outputs": [],
   "source": [
    "bs = BasisRateSwap(today, 100, bs_mat[2], bs_ft[2], bs_st[2])"
   ]
  },
  {
   "cell_type": "code",
   "execution_count": 13,
   "metadata": {},
   "outputs": [
    {
     "data": {
      "text/plain": [
       "8.673617379884035e-17"
      ]
     },
     "execution_count": 13,
     "metadata": {},
     "output_type": "execute_result"
    }
   ],
   "source": [
    "bs.fair_npv(ois_curve, euribor_curves[bs_ft[2]], euribor_curves[bs_st[2]])\n"
   ]
  },
  {
   "cell_type": "code",
   "execution_count": 14,
   "metadata": {},
   "outputs": [
    {
     "data": {
      "text/plain": [
       "-0.16115462465651056"
      ]
     },
     "execution_count": 14,
     "metadata": {},
     "output_type": "execute_result"
    }
   ],
   "source": [
    "bs.npv(ois_curve, euribor_curves[bs_ft[2]], euribor_curves[bs_st[2]])"
   ]
  },
  {
   "cell_type": "markdown",
   "metadata": {},
   "source": [
    "### Alternative solution with brentq"
   ]
  },
  {
   "cell_type": "code",
   "execution_count": 15,
   "metadata": {},
   "outputs": [
    {
     "name": "stdout",
     "output_type": "stream",
     "text": [
      "0.00029858812301064575\n",
      "0.0012865520053284563\n",
      "0.0015851385661118655\n",
      "8.149339056606753e-05\n",
      "0.0012696016593209958\n",
      "0.0013510928080062712\n",
      "-4.913885113055905e-05\n",
      "0.0012179176851027096\n",
      "0.0011687710340888557\n",
      "-7.812749623781201e-05\n",
      "0.001174925259416204\n",
      "0.001096785295187419\n",
      "-9.280292864621842e-05\n",
      "0.0011315867184754635\n",
      "0.0010387680095655938\n"
     ]
    }
   ],
   "source": [
    "from scipy.optimize import brentq\n",
    "\n",
    "for i in range(len(bs_mat)):\n",
    "    bs = BasisRateSwap(today, 1, bs_mat[i], bs_ft[i], bs_st[i])\n",
    "    ps = brentq(bs.fair_npv_with_par, -1, 1, args=(ois_curve, euribor_curves[bs_ft[i]], euribor_curves[bs_st[i]]))\n",
    "    print (ps)"
   ]
  }
 ],
 "metadata": {
  "kernelspec": {
   "display_name": "Python 3",
   "language": "python",
   "name": "python3"
  },
  "language_info": {
   "codemirror_mode": {
    "name": "ipython",
    "version": 3
   },
   "file_extension": ".py",
   "mimetype": "text/x-python",
   "name": "python",
   "nbconvert_exporter": "python",
   "pygments_lexer": "ipython3",
   "version": "3.6.3"
  }
 },
 "nbformat": 4,
 "nbformat_minor": 2
}
