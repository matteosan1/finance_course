{
 "cells": [
  {
   "cell_type": "markdown",
   "metadata": {},
   "source": [
    "# Libor Curve Bootstrapper\n",
    "\n",
    "The goal of the project is to build a bootstrapping procedure whose output will be a forward libor curve (an instance of the python class ForwardRateCurve) in the “multi-curve” framework. The input parameters to derive this curve are:\n",
    "\n",
    "* The par rate of a set of Overnight Index Swaps (i.e. their market quotation)\n",
    "* The fixing value of the libor rate at the “evaluation date”\n",
    "* The par rate of a set of Swap (i.e. their market quotation), whose underlying libor rate has 6 months tenor (i.e. the floating leg pays every six months) and the fixed coupon is paid annually\n",
    "\n",
    "The resulting class will be used to compute the forward libor rate at some future dates.\n",
    "\n",
    "Numerical results must be presented to the examining committee during a presentation in which the candidates will also explain the theoretical framework for multi-curve evaluation."
   ]
  },
  {
   "cell_type": "code",
   "execution_count": 3,
   "metadata": {},
   "outputs": [],
   "source": [
    "from datetime import date"
   ]
  },
  {
   "cell_type": "code",
   "execution_count": 4,
   "metadata": {},
   "outputs": [],
   "source": [
    "today = date(2019, 10, 31)"
   ]
  },
  {
   "cell_type": "code",
   "execution_count": 5,
   "metadata": {},
   "outputs": [],
   "source": [
    "libor_tenor = 6"
   ]
  },
  {
   "cell_type": "code",
   "execution_count": 6,
   "metadata": {},
   "outputs": [],
   "source": [
    "libor_fixing_value = 0.00351"
   ]
  },
  {
   "cell_type": "code",
   "execution_count": 7,
   "metadata": {},
   "outputs": [],
   "source": [
    "ois_quotes = [\n",
    "    {'maturity': 1, 'rate': 0.00106},\n",
    "    {'maturity': 2, 'rate': 0.00114},\n",
    "    {'maturity': 3, 'rate': 0.00115},\n",
    "    {'maturity': 4, 'rate': 0.00117},\n",
    "    {'maturity': 5, 'rate': 0.00119},\n",
    "    {'maturity': 6, 'rate': 0.00121},\n",
    "    {'maturity': 7, 'rate': 0.00122},\n",
    "    {'maturity': 8, 'rate': 0.00124},\n",
    "    {'maturity': 9, 'rate': 0.00128},\n",
    "    {'maturity': 10, 'rate': 0.00131},\n",
    "    {'maturity': 11, 'rate': 0.00135},\n",
    "    {'maturity': 12, 'rate': 0.00138},\n",
    "    {'maturity': 15, 'rate': 0.00152},\n",
    "    {'maturity': 18, 'rate': 0.00166},\n",
    "    {'maturity': 21, 'rate': 0.00184},\n",
    "    {'maturity': 24, 'rate': 0.00206},\n",
    "    {'maturity': 36, 'rate': 0.00344},\n",
    "    {'maturity': 48, 'rate': 0.00543},\n",
    "    {'maturity': 60, 'rate': 0.00756},\n",
    "    {'maturity': 72, 'rate': 0.00967},\n",
    "    {'maturity': 84, 'rate': 0.01162},\n",
    "    {'maturity': 96, 'rate': 0.0134},\n",
    "    {'maturity': 108, 'rate': 0.01502},\n",
    "    {'maturity': 120, 'rate': 0.01649},\n",
    "    {'maturity': 132, 'rate': 0.01776},\n",
    "    {'maturity': 144, 'rate': 0.01888},\n",
    "    {'maturity': 180, 'rate': 0.02137},\n",
    "    {'maturity': 240, 'rate': 0.02322},\n",
    "    {'maturity': 300, 'rate': 0.02389},\n",
    "    {'maturity': 360, 'rate': 0.02416},\n",
    "]"
   ]
  },
  {
   "cell_type": "code",
   "execution_count": 8,
   "metadata": {},
   "outputs": [],
   "source": [
    "irs_quotes = [\n",
    "    {'maturity':12, 'rate': 0.00373},\n",
    "    {'maturity':24, 'rate': 0.00492},\n",
    "    {'maturity':36, 'rate': 0.00657},\n",
    "    {'maturity':48, 'rate': 0.00875},\n",
    "    {'maturity':60, 'rate': 0.01101},\n",
    "    {'maturity':72, 'rate': 0.01314},\n",
    "    {'maturity':84, 'rate': 0.01507},\n",
    "    {'maturity':96, 'rate': 0.01679},\n",
    "    {'maturity':108, 'rate': 0.01834},\n",
    "    {'maturity':120, 'rate': 0.01973},\n",
    "    {'maturity':132, 'rate': 0.02092},\n",
    "    {'maturity':144, 'rate': 0.02195},\n",
    "    {'maturity':156, 'rate': 0.02284},\n",
    "    {'maturity':168, 'rate': 0.02358},\n",
    "    {'maturity':180, 'rate': 0.02418},\n",
    "    {'maturity':192, 'rate': 0.02466},\n",
    "    {'maturity':204, 'rate': 0.02502},\n",
    "    {'maturity':216, 'rate': 0.0253},\n",
    "    {'maturity':228, 'rate': 0.02552},\n",
    "    {'maturity':240, 'rate': 0.02568},\n",
    "    {'maturity':252, 'rate': 0.02581},\n",
    "    {'maturity':264, 'rate': 0.02592},\n",
    "    {'maturity':276, 'rate': 0.026},\n",
    "    {'maturity':288, 'rate': 0.02606},\n",
    "    {'maturity':300, 'rate': 0.02611},\n",
    "    {'maturity':312, 'rate': 0.02613},\n",
    "    {'maturity':324, 'rate': 0.02617},\n",
    "    {'maturity':336, 'rate': 0.02618},\n",
    "    {'maturity':348, 'rate': 0.0262},\n",
    "    {'maturity':360, 'rate': 0.02621},\n",
    "    {'maturity':420, 'rate': 0.02633},\n",
    "    {'maturity':480, 'rate': 0.02655},\n",
    "    {'maturity':600, 'rate': 0.02691},\n",
    "]"
   ]
  },
  {
   "cell_type": "code",
   "execution_count": 20,
   "metadata": {},
   "outputs": [],
   "source": [
    "from finmarkets import OvernightIndexSwap, DiscountCurve, generate_swap_dates\n",
    "from dateutil.relativedelta import relativedelta\n",
    "\n",
    "pillar_dates = [today]\n",
    "swaps = []\n",
    "for quote in ois_quotes:\n",
    "    swaps.append(OvernightIndexSwap(1, generate_swap_dates(today, quote['maturity']), quote['rate']))\n",
    "    pillar_dates.append(today + relativedelta(months=quote['maturity']))\n",
    "\n",
    "pillar_dates = sorted(pillar_dates)"
   ]
  },
  {
   "cell_type": "code",
   "execution_count": 21,
   "metadata": {},
   "outputs": [],
   "source": [
    "def obj_func(x):\n",
    "    curve = DiscountCurve(today, pillar_dates, x)\n",
    "    \n",
    "    npv = 0 \n",
    "    for s in swaps:\n",
    "        npv += s.npv(curve)**2\n",
    "        \n",
    "    return npv"
   ]
  },
  {
   "cell_type": "code",
   "execution_count": 25,
   "metadata": {},
   "outputs": [],
   "source": [
    "from scipy.optimize import minimize\n",
    "\n",
    "x0 = [0.5 for _ in range(len(pillar_dates))]\n",
    "bounds = [(0.001, 1.) for _ in range(len(pillar_dates))]\n",
    "bounds[0] = (1., 1.)\n",
    "\n",
    "result = minimize(obj_func, x0, bounds=bounds)"
   ]
  },
  {
   "cell_type": "code",
   "execution_count": 27,
   "metadata": {},
   "outputs": [
    {
     "name": "stdout",
     "output_type": "stream",
     "text": [
      "      fun: 8.499134518666037e-11\n",
      " hess_inv: <31x31 LbfgsInvHessProduct with dtype=float64>\n",
      "      jac: array([ 6.97497619e-06, -7.20936978e-08,  1.15092741e-07,  2.93101673e-07,\n",
      "        4.66962441e-07,  6.56035873e-07,  8.43179089e-07,  1.02965752e-06,\n",
      "        1.22246152e-06,  1.44922398e-06,  1.67022128e-06,  1.90524551e-06,\n",
      "       -4.61806286e-07, -1.75453592e-06, -7.23958004e-06,  5.45756710e-06,\n",
      "        4.22230943e-07,  9.71240640e-07,  1.81520865e-06,  2.47569588e-06,\n",
      "        2.84980541e-06,  2.61733736e-06,  1.82248990e-06,  4.71030545e-07,\n",
      "       -1.23059739e-06, -3.22940983e-06, -2.90773224e-06, -6.03536982e-06,\n",
      "       -8.05172210e-06, -1.09493728e-05, -7.74601247e-06])\n",
      "  message: b'CONVERGENCE: REL_REDUCTION_OF_F_<=_FACTR*EPSMCH'\n",
      "     nfev: 544\n",
      "      nit: 16\n",
      "   status: 0\n",
      "  success: True\n",
      "        x: array([1.        , 0.99991163, 0.99980692, 0.99970634, 0.99960713,\n",
      "       0.99949813, 0.99938907, 0.9992792 , 0.99916431, 0.99902744,\n",
      "       0.9988922 , 0.99874627, 0.998599  , 0.99806826, 0.99747857,\n",
      "       0.99674388, 0.99582918, 0.98958364, 0.97817264, 0.96221482,\n",
      "       0.94242887, 0.91998029, 0.89555481, 0.86964724, 0.84279802,\n",
      "       0.81599653, 0.78928456, 0.71346794, 0.61195248, 0.53245027,\n",
      "       0.4668278 ])\n",
      "0.34975470071836157\n",
      "8.499134518666037e-11\n"
     ]
    }
   ],
   "source": [
    "print (result)\n",
    "print (obj_func(x0))\n",
    "print (obj_func(result.x))"
   ]
  },
  {
   "cell_type": "code",
   "execution_count": 31,
   "metadata": {},
   "outputs": [],
   "source": [
    "discount_curve = DiscountCurve(today, pillar_dates, result.x)"
   ]
  },
  {
   "cell_type": "code",
   "execution_count": 34,
   "metadata": {},
   "outputs": [],
   "source": [
    "from finmarkets import InterestRateSwap, ForwardRateCurve\n",
    "\n",
    "irs = []\n",
    "libor_pillar_dates = [today]\n",
    "for i in irs_quotes:\n",
    "    irs.append(InterestRateSwap(today, 1, i['rate'], libor_tenor, i['maturity']//12))\n",
    "    libor_pillar_dates.append(today + relativedelta(months=i['maturity']))\n",
    "    \n",
    "libor_pillar_dates = sorted(libor_pillar_dates)"
   ]
  },
  {
   "cell_type": "code",
   "execution_count": 35,
   "metadata": {},
   "outputs": [],
   "source": [
    "def libor_obj_func(x):\n",
    "    libor_curve = ForwardRateCurve(libor_pillar_dates, x)\n",
    "    \n",
    "    npv = 0\n",
    "    for i in irs:\n",
    "        npv += i.npv(discount_curve, libor_curve) ** 2\n",
    "    \n",
    "    return npv"
   ]
  },
  {
   "cell_type": "code",
   "execution_count": 36,
   "metadata": {},
   "outputs": [],
   "source": [
    "fwd0 = [0.01 for _ in range(len(libor_pillar_dates))]\n",
    "fwd_bounds = [(-100, 100) for _ in range(len(libor_pillar_dates))]\n",
    "fwd_bounds[0] = (libor_fixing_value, libor_fixing_value)\n",
    "\n",
    "fwd_result = minimize(libor_obj_func, fwd0, bounds=fwd_bounds)"
   ]
  },
  {
   "cell_type": "code",
   "execution_count": 37,
   "metadata": {},
   "outputs": [
    {
     "name": "stdout",
     "output_type": "stream",
     "text": [
      "      fun: 1.2592216856543095e-07\n",
      " hess_inv: <34x34 LbfgsInvHessProduct with dtype=float64>\n",
      "      jac: array([ 2.86732028e-04,  1.00561595e-04,  1.07959075e-04,  9.60189348e-05,\n",
      "        6.25762830e-05,  2.03898037e-05, -1.20915273e-05, -2.43463099e-05,\n",
      "        1.42066948e-05,  4.63878958e-05,  7.03890353e-05,  3.40768882e-05,\n",
      "       -1.20352873e-05, -4.18651199e-05, -2.56100056e-05,  4.21268317e-06,\n",
      "        8.22259374e-05,  1.14437125e-04,  9.27930387e-05,  5.41518958e-05,\n",
      "        6.72995422e-06, -2.07862813e-05,  1.05889669e-05,  2.04452342e-05,\n",
      "       -2.75075932e-05, -3.18067524e-05, -8.19522691e-05,  5.13444170e-05,\n",
      "        5.45574724e-05, -4.37761973e-05,  3.83090181e-06,  4.25996888e-05,\n",
      "        2.24898231e-05,  1.81978482e-06])\n",
      "  message: b'CONVERGENCE: REL_REDUCTION_OF_F_<=_FACTR*EPSMCH'\n",
      "     nfev: 1610\n",
      "      nit: 39\n",
      "   status: 0\n",
      "  success: True\n",
      "        x: array([0.00351   , 0.00486846, 0.00849845, 0.01387781, 0.0188903 ,\n",
      "       0.02300087, 0.02622465, 0.0286577 , 0.03076556, 0.03288956,\n",
      "       0.03377571, 0.0343927 , 0.03480315, 0.03469562, 0.03410878,\n",
      "       0.03338111, 0.03200715, 0.03111698, 0.03045571, 0.02936752,\n",
      "       0.02872181, 0.02858221, 0.02810815, 0.02766171, 0.02732219,\n",
      "       0.02640491, 0.02674225, 0.02640755, 0.02706501, 0.02502462,\n",
      "       0.0277975 , 0.02622928, 0.0310844 , 0.02569707])\n",
      "1.9665971457572973\n",
      "1.2592216856543095e-07\n"
     ]
    }
   ],
   "source": [
    "print (fwd_result)\n",
    "print (libor_obj_func(fwd0))\n",
    "print (libor_obj_func(fwd_result.x))"
   ]
  },
  {
   "cell_type": "code",
   "execution_count": 43,
   "metadata": {},
   "outputs": [
    {
     "data": {
      "image/png": "[encoded data removed]",
      "text/plain": [
       "<Figure size 432x288 with 1 Axes>"
      ]
     },
     "metadata": {
      "needs_background": "light"
     },
     "output_type": "display_data"
    }
   ],
   "source": [
    "from datetime import date\n",
    "\n",
    "fwd_curve =  ForwardRateCurve(libor_pillar_dates, fwd_result.x)\n",
    "\n",
    "from matplotlib import pyplot as plt\n",
    "plt.plot(fwd_curve.pillar_days, fwd_curve.pillar_rates, marker='o')\n",
    "plt.show()\n"
   ]
  }
 ],
 "metadata": {
  "kernelspec": {
   "display_name": "Python 3",
   "language": "python",
   "name": "python3"
  },
  "language_info": {
   "codemirror_mode": {
    "name": "ipython",
    "version": 3
   },
   "file_extension": ".py",
   "mimetype": "text/x-python",
   "name": "python",
   "nbconvert_exporter": "python",
   "pygments_lexer": "ipython3",
   "version": "3.7.5rc1"
  }
 },
 "nbformat": 4,
 "nbformat_minor": 1
}
