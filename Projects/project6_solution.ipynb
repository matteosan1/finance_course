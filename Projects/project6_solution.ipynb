{
 "cells": [
  {
   "cell_type": "markdown",
   "metadata": {},
   "source": [
    "# Libor Curve Bootstrapper\n",
    "\n",
    "The goal of the project is to build a bootstrapping procedure whose output will be a forward libor curve (an instance of the python class ForwardRateCurve) in the “multi-curve” framework. The input parameters to derive this curve are:\n",
    "\n",
    "* The par rate of a set of Overnight Index Swaps (i.e. their market quotation)\n",
    "* The fixing value of the libor rate at the “evaluation date”\n",
    "* The par rate of a set of Swap (i.e. their market quotation), whose underlying libor rate has 6 months tenor (i.e. the floating leg pays every six months) and the fixed coupon is paid annually\n",
    "\n",
    "The resulting class will be used to compute the forward libor rate at some future dates.\n",
    "\n",
    "Numerical results must be presented to the examining committee during a presentation in which the candidates will also explain the theoretical framework for multi-curve evaluation."
   ]
  },
  {
   "cell_type": "code",
   "execution_count": 1,
   "metadata": {},
   "outputs": [],
   "source": [
    "from datetime import date"
   ]
  },
  {
   "cell_type": "code",
   "execution_count": 2,
   "metadata": {},
   "outputs": [],
   "source": [
    "today = date(2019, 10, 31)"
   ]
  },
  {
   "cell_type": "code",
   "execution_count": 3,
   "metadata": {},
   "outputs": [],
   "source": [
    "libor_tenor = 6"
   ]
  },
  {
   "cell_type": "code",
   "execution_count": 4,
   "metadata": {},
   "outputs": [],
   "source": [
    "libor_fixing_value = 0.00351"
   ]
  },
  {
   "cell_type": "code",
   "execution_count": 5,
   "metadata": {},
   "outputs": [],
   "source": [
    "ois_quotes = [\n",
    "    {'maturity': 1, 'rate': 0.00106},\n",
    "    {'maturity': 2, 'rate': 0.00114},\n",
    "    {'maturity': 3, 'rate': 0.00115},\n",
    "    {'maturity': 4, 'rate': 0.00117},\n",
    "    {'maturity': 5, 'rate': 0.00119},\n",
    "    {'maturity': 6, 'rate': 0.00121},\n",
    "    {'maturity': 7, 'rate': 0.00122},\n",
    "    {'maturity': 8, 'rate': 0.00124},\n",
    "    {'maturity': 9, 'rate': 0.00128},\n",
    "    {'maturity': 10, 'rate': 0.00131},\n",
    "    {'maturity': 11, 'rate': 0.00135},\n",
    "    {'maturity': 12, 'rate': 0.00138},\n",
    "    {'maturity': 15, 'rate': 0.00152},\n",
    "    {'maturity': 18, 'rate': 0.00166},\n",
    "    {'maturity': 21, 'rate': 0.00184},\n",
    "    {'maturity': 24, 'rate': 0.00206},\n",
    "    {'maturity': 36, 'rate': 0.00344},\n",
    "    {'maturity': 48, 'rate': 0.00543},\n",
    "    {'maturity': 60, 'rate': 0.00756},\n",
    "    {'maturity': 72, 'rate': 0.00967},\n",
    "    {'maturity': 84, 'rate': 0.01162},\n",
    "    {'maturity': 96, 'rate': 0.0134},\n",
    "    {'maturity': 108, 'rate': 0.01502},\n",
    "    {'maturity': 120, 'rate': 0.01649},\n",
    "    {'maturity': 132, 'rate': 0.01776},\n",
    "    {'maturity': 144, 'rate': 0.01888},\n",
    "    {'maturity': 180, 'rate': 0.02137},\n",
    "    {'maturity': 240, 'rate': 0.02322},\n",
    "    {'maturity': 300, 'rate': 0.02389},\n",
    "    {'maturity': 360, 'rate': 0.02416},\n",
    "]"
   ]
  },
  {
   "cell_type": "code",
   "execution_count": 6,
   "metadata": {},
   "outputs": [],
   "source": [
    "irs_quotes = [\n",
    "    {'maturity':12, 'rate': 0.00373},\n",
    "    {'maturity':24, 'rate': 0.00492},\n",
    "    {'maturity':36, 'rate': 0.00657},\n",
    "    {'maturity':48, 'rate': 0.00875},\n",
    "    {'maturity':60, 'rate': 0.01101},\n",
    "    {'maturity':72, 'rate': 0.01314},\n",
    "    {'maturity':84, 'rate': 0.01507},\n",
    "    {'maturity':96, 'rate': 0.01679},\n",
    "    {'maturity':108, 'rate': 0.01834},\n",
    "    {'maturity':120, 'rate': 0.01973},\n",
    "    {'maturity':132, 'rate': 0.02092},\n",
    "    {'maturity':144, 'rate': 0.02195},\n",
    "    {'maturity':156, 'rate': 0.02284},\n",
    "    {'maturity':168, 'rate': 0.02358},\n",
    "    {'maturity':180, 'rate': 0.02418},\n",
    "    {'maturity':192, 'rate': 0.02466},\n",
    "    {'maturity':204, 'rate': 0.02502},\n",
    "    {'maturity':216, 'rate': 0.0253},\n",
    "    {'maturity':228, 'rate': 0.02552},\n",
    "    {'maturity':240, 'rate': 0.02568},\n",
    "    {'maturity':252, 'rate': 0.02581},\n",
    "    {'maturity':264, 'rate': 0.02592},\n",
    "    {'maturity':276, 'rate': 0.026},\n",
    "    {'maturity':288, 'rate': 0.02606},\n",
    "    {'maturity':300, 'rate': 0.02611},\n",
    "    {'maturity':312, 'rate': 0.02613},\n",
    "    {'maturity':324, 'rate': 0.02617},\n",
    "    {'maturity':336, 'rate': 0.02618},\n",
    "    {'maturity':348, 'rate': 0.0262},\n",
    "    {'maturity':360, 'rate': 0.02621},\n",
    "    {'maturity':420, 'rate': 0.02633},\n",
    "    {'maturity':480, 'rate': 0.02655},\n",
    "    {'maturity':600, 'rate': 0.02691},\n",
    "]"
   ]
  },
  {
   "cell_type": "code",
   "execution_count": 7,
   "metadata": {},
   "outputs": [
    {
     "name": "stdout",
     "output_type": "stream",
     "text": [
      "[datetime.date(2019, 10, 31), datetime.date(2019, 11, 30), datetime.date(2019, 12, 31), datetime.date(2020, 1, 31), datetime.date(2020, 2, 29), datetime.date(2020, 3, 31), datetime.date(2020, 4, 30), datetime.date(2020, 5, 31), datetime.date(2020, 6, 30), datetime.date(2020, 7, 31), datetime.date(2020, 8, 31), datetime.date(2020, 9, 30), datetime.date(2020, 10, 31), datetime.date(2021, 1, 31), datetime.date(2021, 4, 30), datetime.date(2021, 7, 31), datetime.date(2021, 10, 31), datetime.date(2022, 10, 31), datetime.date(2023, 10, 31), datetime.date(2024, 10, 31), datetime.date(2025, 10, 31), datetime.date(2026, 10, 31), datetime.date(2027, 10, 31), datetime.date(2028, 10, 31), datetime.date(2029, 10, 31), datetime.date(2030, 10, 31), datetime.date(2031, 10, 31), datetime.date(2034, 10, 31), datetime.date(2039, 10, 31), datetime.date(2044, 10, 31), datetime.date(2049, 10, 31)]\n"
     ]
    }
   ],
   "source": [
    "from finmarkets import OvernightIndexSwap, DiscountCurve, generate_swap_dates\n",
    "from dateutil.relativedelta import relativedelta\n",
    "\n",
    "pillar_dates = [today]\n",
    "swaps = []\n",
    "for quote in ois_quotes:\n",
    "    swaps.append(OvernightIndexSwap(1, generate_swap_dates(today, quote['maturity']), quote['rate']))\n",
    "    pillar_dates.append(today + relativedelta(months=quote['maturity']))\n",
    "\n",
    "pillar_dates = sorted(pillar_dates)\n",
    "print (pillar_dates)"
   ]
  },
  {
   "cell_type": "code",
   "execution_count": 8,
   "metadata": {},
   "outputs": [],
   "source": [
    "def obj_func(x):\n",
    "    curve = DiscountCurve(today, pillar_dates, x)\n",
    "    \n",
    "    npv = 0 \n",
    "    for s in swaps:\n",
    "        npv += s.npv(curve)**2\n",
    "        \n",
    "    return npv"
   ]
  },
  {
   "cell_type": "code",
   "execution_count": 9,
   "metadata": {},
   "outputs": [],
   "source": [
    "from scipy.optimize import minimize\n",
    "\n",
    "x0 = [0.5 for _ in range(len(pillar_dates))]\n",
    "bounds = [(0.001, 100.) for _ in range(len(pillar_dates))]\n",
    "bounds[0] = (1., 1.)\n",
    "\n",
    "result = minimize(obj_func, x0, bounds=bounds)"
   ]
  },
  {
   "cell_type": "code",
   "execution_count": 10,
   "metadata": {
    "scrolled": true
   },
   "outputs": [
    {
     "name": "stdout",
     "output_type": "stream",
     "text": [
      "      fun: 2.813419937459113e-11\n",
      " hess_inv: <31x31 LbfgsInvHessProduct with dtype=float64>\n",
      "      jac: array([ -1.85822735e-06,   6.24925079e-07,   6.80501277e-07,\n",
      "         7.33325589e-07,   7.84878721e-07,   8.41005697e-07,\n",
      "         8.96524402e-07,   9.51850288e-07,   1.00905281e-06,\n",
      "         1.07634333e-06,   1.14190977e-06,   1.21164115e-06,\n",
      "        -4.26979984e-06,   1.03905489e-06,   1.28143059e-06,\n",
      "         1.57095289e-06,  -5.24489008e-06,  -4.53849932e-06,\n",
      "        -3.31635881e-06,  -1.96653116e-06,  -6.60742415e-07,\n",
      "         3.44131230e-07,   1.02424807e-06,   1.35817703e-06,\n",
      "         1.44912162e-06,   1.27939269e-06,   2.33596854e-06,\n",
      "         8.10234862e-07,   6.88102434e-07,   9.14132891e-07,\n",
      "         7.25664270e-07])\n",
      "  message: b'CONVERGENCE: NORM_OF_PROJECTED_GRADIENT_<=_PGTOL'\n",
      "     nfev: 288\n",
      "      nit: 6\n",
      "   status: 0\n",
      "  success: True\n",
      "        x: array([ 1.        ,  0.99991198,  0.99980721,  0.99970656,  0.99960729,\n",
      "        0.99949822,  0.99938909,  0.99927916,  0.9991642 ,  0.99902726,\n",
      "        0.99889193,  0.99874593,  0.99859678,  0.99806965,  0.99748283,\n",
      "        0.99674195,  0.99582603,  0.98958059,  0.9781698 ,  0.96221234,\n",
      "        0.94242689,  0.91997896,  0.89555423,  0.86964752,  0.8427992 ,\n",
      "        0.81599863,  0.78928671,  0.71347024,  0.61195533,  0.53245468,\n",
      "        0.46683064])\n",
      "0.34975470071836157\n",
      "2.813419937459113e-11\n"
     ]
    }
   ],
   "source": [
    "print (result)\n",
    "print (obj_func(x0))\n",
    "print (obj_func(result.x))"
   ]
  },
  {
   "cell_type": "code",
   "execution_count": 11,
   "metadata": {},
   "outputs": [],
   "source": [
    "discount_curve = DiscountCurve(today, pillar_dates, result.x)"
   ]
  },
  {
   "cell_type": "code",
   "execution_count": 12,
   "metadata": {},
   "outputs": [],
   "source": [
    "from finmarkets import InterestRateSwap, ForwardRateCurve\n",
    "\n",
    "irs = []\n",
    "libor_pillar_dates = [today]\n",
    "for i in irs_quotes:\n",
    "    irs.append(InterestRateSwap(today, 1, i['rate'], libor_tenor, i['maturity']//12))\n",
    "    libor_pillar_dates.append(today + relativedelta(months=i['maturity']))\n",
    "    \n",
    "libor_pillar_dates = sorted(libor_pillar_dates)"
   ]
  },
  {
   "cell_type": "code",
   "execution_count": 13,
   "metadata": {},
   "outputs": [],
   "source": [
    "def libor_obj_func(x):\n",
    "    libor_curve = ForwardRateCurve(libor_pillar_dates, x)\n",
    "    \n",
    "    npv = 0\n",
    "    for i in irs:\n",
    "        npv += i.npv(discount_curve, libor_curve) ** 2\n",
    "    \n",
    "    return npv"
   ]
  },
  {
   "cell_type": "code",
   "execution_count": 14,
   "metadata": {},
   "outputs": [],
   "source": [
    "fwd0 = [0.01 for _ in range(len(libor_pillar_dates))]\n",
    "fwd_bounds = [(-100, 100) for _ in range(len(libor_pillar_dates))]\n",
    "fwd_bounds[0] = (libor_fixing_value, libor_fixing_value)\n",
    "\n",
    "fwd_result = minimize(libor_obj_func, fwd0, bounds=fwd_bounds)"
   ]
  },
  {
   "cell_type": "code",
   "execution_count": 15,
   "metadata": {},
   "outputs": [
    {
     "name": "stdout",
     "output_type": "stream",
     "text": [
      "      fun: 1.2150177013208077e-07\n",
      " hess_inv: <34x34 LbfgsInvHessProduct with dtype=float64>\n",
      "      jac: array([  2.66042086e-04,   7.58619988e-05,   9.63541841e-05,\n",
      "         1.01865278e-04,   8.00005745e-05,   4.08264314e-05,\n",
      "         8.30849999e-07,  -2.61939820e-05,   5.18853384e-06,\n",
      "         4.82154770e-05,   9.11751090e-05,   7.82147017e-05,\n",
      "         4.91303424e-05,   1.83142394e-05,   1.52035290e-05,\n",
      "         1.51642952e-05,   6.28092023e-05,   8.08221749e-05,\n",
      "         6.25023908e-05,   3.80355765e-05,   1.38994066e-05,\n",
      "         1.08870862e-05,   5.46967133e-05,   6.04604126e-05,\n",
      "        -6.34790019e-06,  -3.49856695e-05,  -9.65266461e-05,\n",
      "         4.50337185e-05,   7.32408318e-05,  -1.49118563e-05,\n",
      "         1.07381306e-05,   3.23544495e-05,   2.55792299e-05,\n",
      "         1.18912440e-05])\n",
      "  message: b'CONVERGENCE: REL_REDUCTION_OF_F_<=_FACTR*EPSMCH'\n",
      "     nfev: 1470\n",
      "      nit: 37\n",
      "   status: 0\n",
      "  success: True\n",
      "        x: array([ 0.00351   ,  0.00486122,  0.00849578,  0.01388202,  0.01889399,\n",
      "        0.02300698,  0.02623089,  0.02865385,  0.03074934,  0.03288699,\n",
      "        0.03376874,  0.03439634,  0.03481878,  0.03471405,  0.03411907,\n",
      "        0.03338762,  0.03198662,  0.0310957 ,  0.03044523,  0.02935206,\n",
      "        0.02871518,  0.02860183,  0.02813347,  0.0276874 ,  0.02734074,\n",
      "        0.02637495,  0.02670926,  0.02635332,  0.02709635,  0.02512981,\n",
      "        0.02778771,  0.02621501,  0.03109283,  0.0256914 ])\n",
      "1.9666030361235267\n",
      "1.2150177013208077e-07\n"
     ]
    }
   ],
   "source": [
    "print (fwd_result)\n",
    "print (libor_obj_func(fwd0))\n",
    "print (libor_obj_func(fwd_result.x))"
   ]
  },
  {
   "cell_type": "code",
   "execution_count": 17,
   "metadata": {},
   "outputs": [
    {
     "data": {
      "image/png": "[encoded data removed]",
      "text/plain": [
       "<Figure size 432x288 with 1 Axes>"
      ]
     },
     "metadata": {
      "needs_background": "light"
     },
     "output_type": "display_data"
    }
   ],
   "source": [
    "from datetime import date\n",
    "\n",
    "fwd_curve =  ForwardRateCurve(libor_pillar_dates, fwd_result.x)\n",
    "\n",
    "from matplotlib import pyplot as plt\n",
    "plt.plot(fwd_curve.pillar_days, fwd_curve.pillar_rates, marker='o')\n",
    "plt.show()\n"
   ]
  },
  {
   "cell_type": "code",
   "execution_count": null,
   "metadata": {},
   "outputs": [],
   "source": []
  }
 ],
 "metadata": {
  "kernelspec": {
   "display_name": "Python 3",
   "language": "python",
   "name": "python3"
  },
  "language_info": {
   "codemirror_mode": {
    "name": "ipython",
    "version": 3
   },
   "file_extension": ".py",
   "mimetype": "text/x-python",
   "name": "python",
   "nbconvert_exporter": "python",
   "pygments_lexer": "ipython3",
   "version": "3.6.3"
  }
 },
 "nbformat": 4,
 "nbformat_minor": 1
}
