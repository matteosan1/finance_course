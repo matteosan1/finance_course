{
 "cells": [
  {
   "cell_type": "markdown",
   "metadata": {},
   "source": [
    "# Libor Curve Bootstrapper\n",
    "\n",
    "The goal of the project is to build a bootstrapping procedure whose output will be a forward libor curve (an instance of the python class ForwardRateCurve) in the “multi-curve” framework. The input parameters to derive this curve are:\n",
    "\n",
    "* The par rate of a set of Overnight Index Swaps (i.e. their market quotation)\n",
    "* The fixing value of the libor rate at the “evaluation date”\n",
    "* The par rate of a set of Swap (i.e. their market quotation), whose underlying libor rate has 6 months tenor (i.e. the floating leg pays every six months) and the fixed coupon is paid annually\n",
    "\n",
    "The resulting class will be used to compute the forward libor rate at some future dates and plot the results.\n",
    "\n",
    "Numerical results must be presented to the examining committee during a presentation in which the candidates will also explain the theoretical framework for multi-curve evaluation."
   ]
  },
  {
   "cell_type": "code",
   "execution_count": 1,
   "metadata": {},
   "outputs": [],
   "source": [
    "import pandas as pd\n",
    "from datetime import date\n",
    "\n",
    "today = date(2019, 10, 31)\n",
    "libor_tenor = 6\n",
    "libor_fixing_value = 0.00351\n",
    "\n",
    "ois_quotes = pd.read_csv(\"ois_quotes.csv\").to_dict('records')\n",
    "irs_quotes = pd.read_csv(\"irs_quotes_proj6.csv\").to_dict('records')"
   ]
  },
  {
   "cell_type": "code",
   "execution_count": 2,
   "metadata": {},
   "outputs": [
    {
     "name": "stdout",
     "output_type": "stream",
     "text": [
      "[datetime.date(2019, 10, 31), datetime.date(2019, 11, 30), datetime.date(2019, 12, 31), datetime.date(2020, 1, 31), datetime.date(2020, 2, 29), datetime.date(2020, 3, 31), datetime.date(2020, 4, 30), datetime.date(2020, 5, 31), datetime.date(2020, 6, 30), datetime.date(2020, 7, 31), datetime.date(2020, 8, 31), datetime.date(2020, 9, 30), datetime.date(2020, 10, 31), datetime.date(2021, 1, 31), datetime.date(2021, 4, 30), datetime.date(2021, 7, 31), datetime.date(2021, 10, 31), datetime.date(2022, 10, 31), datetime.date(2023, 10, 31), datetime.date(2024, 10, 31), datetime.date(2025, 10, 31), datetime.date(2026, 10, 31), datetime.date(2027, 10, 31), datetime.date(2028, 10, 31), datetime.date(2029, 10, 31), datetime.date(2030, 10, 31), datetime.date(2031, 10, 31), datetime.date(2034, 10, 31), datetime.date(2039, 10, 31), datetime.date(2044, 10, 31), datetime.date(2049, 10, 31)]\n"
     ]
    }
   ],
   "source": [
    "from finmarkets import OvernightIndexSwap, DiscountCurve, generate_swap_dates\n",
    "from dateutil.relativedelta import relativedelta\n",
    "\n",
    "pillar_dates = [today]\n",
    "swaps = []\n",
    "for quote in ois_quotes:\n",
    "    swaps.append(OvernightIndexSwap(1, generate_swap_dates(today, quote['maturity']), quote['rate']))\n",
    "    pillar_dates.append(today + relativedelta(months=quote['maturity']))\n",
    "\n",
    "pillar_dates = sorted(pillar_dates)\n",
    "print (pillar_dates)"
   ]
  },
  {
   "cell_type": "code",
   "execution_count": 3,
   "metadata": {},
   "outputs": [],
   "source": [
    "import numpy as np\n",
    "\n",
    "def obj_func(x):\n",
    "    x = np.insert(x, 0, 1)\n",
    "    curve = DiscountCurve(today, pillar_dates, x)\n",
    "    \n",
    "    npv = 0 \n",
    "    for s in swaps:\n",
    "        npv += s.npv(curve)**2\n",
    "        \n",
    "    return npv"
   ]
  },
  {
   "cell_type": "code",
   "execution_count": 4,
   "metadata": {},
   "outputs": [],
   "source": [
    "from scipy.optimize import minimize\n",
    "\n",
    "x0 = [0.5 for _ in range(len(pillar_dates)-1)]\n",
    "bounds = [(0.001, 100.) for _ in range(len(pillar_dates)-1)]\n",
    "\n",
    "result = minimize(obj_func, x0, bounds=bounds)"
   ]
  },
  {
   "cell_type": "code",
   "execution_count": 5,
   "metadata": {
    "scrolled": true
   },
   "outputs": [
    {
     "name": "stdout",
     "output_type": "stream",
     "text": [
      "      fun: 6.3136555793165805e-12\n",
      " hess_inv: <30x30 LbfgsInvHessProduct with dtype=float64>\n",
      "      jac: array([ 3.15544451e-07,  3.38701895e-07,  3.60637867e-07,  3.81965250e-07,\n",
      "        4.05073324e-07,  4.27833370e-07,  4.50409457e-07,  4.73642130e-07,\n",
      "        5.00820844e-07,  5.27142195e-07,  5.54961135e-07, -2.12977131e-06,\n",
      "        5.06605946e-07,  6.06711537e-07,  7.23849672e-07, -2.49759694e-06,\n",
      "       -2.14799131e-06, -1.54816410e-06, -8.93471510e-07, -2.69831922e-07,\n",
      "        2.04343781e-07,  5.23315116e-07,  6.84265905e-07,  7.37812760e-07,\n",
      "        6.81507045e-07,  5.98057029e-07,  3.21497181e-07,  6.14508465e-07,\n",
      "        4.95095226e-07,  4.24818127e-07])\n",
      "  message: b'CONVERGENCE: NORM_OF_PROJECTED_GRADIENT_<=_PGTOL'\n",
      "     nfev: 248\n",
      "      nit: 6\n",
      "     njev: 8\n",
      "   status: 0\n",
      "  success: True\n",
      "        x: array([0.99991183, 0.99980703, 0.99970637, 0.99960709, 0.99949801,\n",
      "       0.99938886, 0.99927891, 0.99916393, 0.99902697, 0.99889163,\n",
      "       0.9987456 , 0.99859787, 0.99806939, 0.99748249, 0.99674153,\n",
      "       0.99582743, 0.9895818 , 0.97817069, 0.96221288, 0.94242708,\n",
      "       0.91997887, 0.89555396, 0.86964716, 0.84279882, 0.81599829,\n",
      "       0.78928582, 0.71347   , 0.61195531, 0.53245449, 0.46683051])\n",
      "6.2438723396072495\n",
      "6.3136555793165805e-12\n"
     ]
    }
   ],
   "source": [
    "print (result)\n",
    "print (obj_func(x0))\n",
    "print (result.fun)"
   ]
  },
  {
   "cell_type": "code",
   "execution_count": 6,
   "metadata": {},
   "outputs": [],
   "source": [
    "x = np.insert(result.x, 0, 1)\n",
    "discount_curve = DiscountCurve(today, pillar_dates, x)"
   ]
  },
  {
   "cell_type": "code",
   "execution_count": 7,
   "metadata": {},
   "outputs": [],
   "source": [
    "from finmarkets import InterestRateSwap, ForwardRateCurve\n",
    "\n",
    "irs = []\n",
    "libor_pillar_dates = [today]\n",
    "for i in irs_quotes:\n",
    "    irs.append(InterestRateSwap(today, 1, i['rate'], libor_tenor, i['maturity']//12))\n",
    "    libor_pillar_dates.append(today + relativedelta(months=i['maturity']))\n",
    "    \n",
    "libor_pillar_dates = sorted(libor_pillar_dates)"
   ]
  },
  {
   "cell_type": "code",
   "execution_count": 11,
   "metadata": {},
   "outputs": [],
   "source": [
    "def libor_obj_func(x):\n",
    "    \n",
    "    x = np.insert(x, 0, libor_fixing_value)\n",
    "    libor_curve = ForwardRateCurve(libor_pillar_dates, x)\n",
    "    \n",
    "    npv = 0\n",
    "    for i in irs:\n",
    "        npv += i.npv(discount_curve, libor_curve) ** 2\n",
    "    \n",
    "    return npv"
   ]
  },
  {
   "cell_type": "code",
   "execution_count": 12,
   "metadata": {},
   "outputs": [],
   "source": [
    "fwd0 = [0.01 for _ in range(len(libor_pillar_dates)-1)]\n",
    "fwd_bounds = [(-100, 100) for _ in range(len(libor_pillar_dates)-1)]\n",
    "\n",
    "fwd_result = minimize(libor_obj_func, fwd0, bounds=fwd_bounds)"
   ]
  },
  {
   "cell_type": "code",
   "execution_count": 13,
   "metadata": {},
   "outputs": [
    {
     "name": "stdout",
     "output_type": "stream",
     "text": [
      "      fun: 1.4260920575195777e-07\n",
      " hess_inv: <33x33 LbfgsInvHessProduct with dtype=float64>\n",
      "      jac: array([ 2.37147207e-04,  2.40344872e-04,  2.20811350e-04,  1.79671071e-04,\n",
      "        1.33051891e-04,  9.60996921e-05,  7.52565963e-05,  1.05123415e-04,\n",
      "        1.28812982e-04,  1.37174294e-04,  7.75327306e-05, -2.61986523e-08,\n",
      "       -7.16579619e-05, -1.06677137e-04, -1.33203402e-04, -1.09441446e-04,\n",
      "       -1.16959936e-04, -1.59703213e-04, -2.00357343e-04, -2.32481429e-04,\n",
      "       -2.35239450e-04, -1.85492201e-04, -1.72975335e-04, -2.32053237e-04,\n",
      "       -2.46499541e-04, -2.88892754e-04, -1.24007499e-04, -7.59467571e-05,\n",
      "       -1.38807441e-04, -2.33208778e-04, -3.64040510e-04, -6.01694439e-04,\n",
      "       -3.92350682e-04])\n",
      "  message: b'CONVERGENCE: REL_REDUCTION_OF_F_<=_FACTR*EPSMCH'\n",
      "     nfev: 1258\n",
      "      nit: 32\n",
      "     njev: 37\n",
      "   status: 0\n",
      "  success: True\n",
      "        x: array([0.00487014, 0.00850021, 0.01387818, 0.01888693, 0.02300063,\n",
      "       0.02622847, 0.02865762, 0.03076312, 0.03289689, 0.03378142,\n",
      "       0.03439961, 0.03481407, 0.03470727, 0.03411699, 0.03338383,\n",
      "       0.03199392, 0.03109744, 0.03043458, 0.02934173, 0.02870579,\n",
      "       0.02859139, 0.02813398, 0.02768741, 0.02732591, 0.02636802,\n",
      "       0.02669097, 0.02636885, 0.0270861 , 0.02508068, 0.02780347,\n",
      "       0.02623565, 0.03107037, 0.02567402])\n",
      "2.032196396449329\n",
      "1.4260920575195777e-07\n"
     ]
    }
   ],
   "source": [
    "print (fwd_result)\n",
    "print (libor_obj_func(fwd0))\n",
    "print (libor_obj_func(fwd_result.x))"
   ]
  },
  {
   "cell_type": "code",
   "execution_count": 17,
   "metadata": {},
   "outputs": [
    {
     "data": {
      "image/png": "[encoded data removed]",
      "text/plain": [
       "<Figure size 432x288 with 1 Axes>"
      ]
     },
     "metadata": {
      "needs_background": "light"
     },
     "output_type": "display_data"
    }
   ],
   "source": [
    "from datetime import date\n",
    "\n",
    "x = np.insert(fwd_result.x, 0, libor_fixing_value)\n",
    "fwd_curve =  ForwardRateCurve(libor_pillar_dates, x)\n",
    "\n",
    "from matplotlib import pyplot as plt\n",
    "plt.plot(fwd_curve.pillar_days, fwd_curve.pillar_rates, marker='o')\n",
    "plt.show()\n"
   ]
  }
 ],
 "metadata": {
  "kernelspec": {
   "display_name": "Python 3",
   "language": "python",
   "name": "python3"
  },
  "language_info": {
   "codemirror_mode": {
    "name": "ipython",
    "version": 3
   },
   "file_extension": ".py",
   "mimetype": "text/x-python",
   "name": "python",
   "nbconvert_exporter": "python",
   "pygments_lexer": "ipython3",
   "version": "3.6.3"
  }
 },
 "nbformat": 4,
 "nbformat_minor": 1
}
