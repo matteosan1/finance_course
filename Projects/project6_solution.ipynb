{
 "cells": [
  {
   "cell_type": "markdown",
   "metadata": {},
   "source": [
    "# Libor Curve Bootstrapper\n",
    "\n",
    "The goal of the project is to build a bootstrapping procedure whose output will be a forward libor curve (an instance of the python class ForwardRateCurve) in the “multi-curve” framework. The input parameters to derive this curve are:\n",
    "\n",
    "* The par rate of a set of Overnight Index Swaps (i.e. their market quotation)\n",
    "* The fixing value of the libor rate at the “evaluation date”\n",
    "* The par rate of a set of Swap (i.e. their market quotation), whose underlying libor rate has 6 months tenor (i.e. the floating leg pays every six months) and the fixed coupon is paid annually\n",
    "\n",
    "The resulting class will be used to compute the forward libor rate at some future dates and plot the results.\n",
    "\n",
    "Numerical results must be presented to the examining committee during a presentation in which the candidates will also explain the theoretical framework for multi-curve evaluation."
   ]
  },
  {
   "cell_type": "code",
   "execution_count": 7,
   "metadata": {},
   "outputs": [],
   "source": [
    "import pandas as pd\n",
    "from datetime import date\n",
    "\n",
    "today = date(2019, 10, 31)\n",
    "libor_tenor = 6\n",
    "libor_fixing_value = 0.00351\n",
    "\n",
    "ois_quotes = pd.read_csv(\"ois_quotes.csv\").to_dict('records')\n",
    "irs_quotes = pd.read_csv(\"irs_quotes_proj6.csv\").to_dict('records')"
   ]
  },
  {
   "cell_type": "code",
   "execution_count": 8,
   "metadata": {},
   "outputs": [
    {
     "name": "stdout",
     "output_type": "stream",
     "text": [
      "[datetime.date(2019, 10, 31), datetime.date(2019, 11, 30), datetime.date(2019, 12, 31), datetime.date(2020, 1, 31), datetime.date(2020, 2, 29), datetime.date(2020, 3, 31), datetime.date(2020, 4, 30), datetime.date(2020, 5, 31), datetime.date(2020, 6, 30), datetime.date(2020, 7, 31), datetime.date(2020, 8, 31), datetime.date(2020, 9, 30), datetime.date(2020, 10, 31), datetime.date(2021, 1, 31), datetime.date(2021, 4, 30), datetime.date(2021, 7, 31), datetime.date(2021, 10, 31), datetime.date(2022, 10, 31), datetime.date(2023, 10, 31), datetime.date(2024, 10, 31), datetime.date(2025, 10, 31), datetime.date(2026, 10, 31), datetime.date(2027, 10, 31), datetime.date(2028, 10, 31), datetime.date(2029, 10, 31), datetime.date(2030, 10, 31), datetime.date(2031, 10, 31), datetime.date(2034, 10, 31), datetime.date(2039, 10, 31), datetime.date(2044, 10, 31), datetime.date(2049, 10, 31)]\n"
     ]
    }
   ],
   "source": [
    "from finmarkets import OvernightIndexSwap, DiscountCurve, generate_swap_dates\n",
    "from dateutil.relativedelta import relativedelta\n",
    "\n",
    "pillar_dates = [today]\n",
    "swaps = []\n",
    "for quote in ois_quotes:\n",
    "    swaps.append(OvernightIndexSwap(1, generate_swap_dates(today, quote['maturity']), quote['rate']))\n",
    "    pillar_dates.append(today + relativedelta(months=quote['maturity']))\n",
    "\n",
    "pillar_dates = sorted(pillar_dates)\n",
    "print (pillar_dates)"
   ]
  },
  {
   "cell_type": "code",
   "execution_count": 9,
   "metadata": {},
   "outputs": [],
   "source": [
    "def obj_func(x):\n",
    "    curve = DiscountCurve(today, pillar_dates, x)\n",
    "    \n",
    "    npv = 0 \n",
    "    for s in swaps:\n",
    "        npv += s.npv(curve)**2\n",
    "        \n",
    "    return npv"
   ]
  },
  {
   "cell_type": "code",
   "execution_count": 10,
   "metadata": {},
   "outputs": [],
   "source": [
    "from scipy.optimize import minimize\n",
    "\n",
    "x0 = [0.5 for _ in range(len(pillar_dates))]\n",
    "bounds = [(0.001, 100.) for _ in range(len(pillar_dates))]\n",
    "bounds[0] = (1., 1.)\n",
    "\n",
    "result = minimize(obj_func, x0, bounds=bounds)"
   ]
  },
  {
   "cell_type": "code",
   "execution_count": 12,
   "metadata": {
    "scrolled": true
   },
   "outputs": [
    {
     "name": "stdout",
     "output_type": "stream",
     "text": [
      "      fun: 2.8134434425352987e-11\n",
      " hess_inv: <31x31 LbfgsInvHessProduct with dtype=float64>\n",
      "      jac: array([-1.85824082e-06,  6.24927374e-07,  6.80487407e-07,  7.33310965e-07,\n",
      "        7.84897190e-07,  8.41008111e-07,  8.96526889e-07,  9.51852797e-07,\n",
      "        1.00905539e-06,  1.07636151e-06,  1.14191236e-06,  1.21164383e-06,\n",
      "       -4.26979756e-06,  1.03905699e-06,  1.28144851e-06,  1.57097054e-06,\n",
      "       -5.24491940e-06, -4.53854502e-06, -3.31637047e-06, -1.96651577e-06,\n",
      "       -6.60740545e-07,  3.44117651e-07,  1.02424527e-06,  1.35823814e-06,\n",
      "        1.44909850e-06,  1.27937525e-06,  2.33595925e-06,  8.10248732e-07,\n",
      "        6.88101469e-07,  9.14134925e-07,  7.25685351e-07])\n",
      "  message: b'CONVERGENCE: NORM_OF_PROJECTED_GRADIENT_<=_PGTOL'\n",
      "     nfev: 288\n",
      "      nit: 6\n",
      "   status: 0\n",
      "  success: True\n",
      "        x: array([1.        , 0.99991198, 0.99980721, 0.99970656, 0.99960729,\n",
      "       0.99949822, 0.99938909, 0.99927916, 0.9991642 , 0.99902726,\n",
      "       0.99889193, 0.99874593, 0.99859678, 0.99806965, 0.99748283,\n",
      "       0.99674195, 0.99582603, 0.98958059, 0.9781698 , 0.96221234,\n",
      "       0.94242689, 0.91997896, 0.89555423, 0.86964752, 0.8427992 ,\n",
      "       0.81599863, 0.78928671, 0.71347024, 0.61195533, 0.53245468,\n",
      "       0.46683064])\n",
      "0.3497547007183615\n",
      "2.8134434425352987e-11\n"
     ]
    }
   ],
   "source": [
    "print (result)\n",
    "print (obj_func(x0))\n",
    "print (result.fun)"
   ]
  },
  {
   "cell_type": "code",
   "execution_count": 13,
   "metadata": {},
   "outputs": [],
   "source": [
    "discount_curve = DiscountCurve(today, pillar_dates, result.x)"
   ]
  },
  {
   "cell_type": "code",
   "execution_count": 14,
   "metadata": {},
   "outputs": [],
   "source": [
    "from finmarkets import InterestRateSwap, ForwardRateCurve\n",
    "\n",
    "irs = []\n",
    "libor_pillar_dates = [today]\n",
    "for i in irs_quotes:\n",
    "    irs.append(InterestRateSwap(today, 1, i['rate'], libor_tenor, i['maturity']//12))\n",
    "    libor_pillar_dates.append(today + relativedelta(months=i['maturity']))\n",
    "    \n",
    "libor_pillar_dates = sorted(libor_pillar_dates)"
   ]
  },
  {
   "cell_type": "code",
   "execution_count": 15,
   "metadata": {},
   "outputs": [],
   "source": [
    "def libor_obj_func(x):\n",
    "    libor_curve = ForwardRateCurve(libor_pillar_dates, x)\n",
    "    \n",
    "    npv = 0\n",
    "    for i in irs:\n",
    "        npv += i.npv(discount_curve, libor_curve) ** 2\n",
    "    \n",
    "    return npv"
   ]
  },
  {
   "cell_type": "code",
   "execution_count": 16,
   "metadata": {},
   "outputs": [],
   "source": [
    "fwd0 = [0.01 for _ in range(len(libor_pillar_dates))]\n",
    "fwd_bounds = [(-100, 100) for _ in range(len(libor_pillar_dates))]\n",
    "fwd_bounds[0] = (libor_fixing_value, libor_fixing_value)\n",
    "\n",
    "fwd_result = minimize(libor_obj_func, fwd0, bounds=fwd_bounds)"
   ]
  },
  {
   "cell_type": "code",
   "execution_count": 17,
   "metadata": {},
   "outputs": [
    {
     "name": "stdout",
     "output_type": "stream",
     "text": [
      "      fun: 1.0822948120874975e-07\n",
      " hess_inv: <34x34 LbfgsInvHessProduct with dtype=float64>\n",
      "      jac: array([ 3.39771795e-05, -2.31749610e-04, -2.03437014e-04, -1.74796495e-04,\n",
      "       -1.63034678e-04, -1.70437909e-04, -1.93346230e-04, -2.25784477e-04,\n",
      "       -2.21731325e-04, -2.07796673e-04, -1.84944452e-04, -2.00823593e-04,\n",
      "       -2.27731559e-04, -2.58649081e-04, -2.61843767e-04, -2.54553318e-04,\n",
      "       -1.92344256e-04, -1.44005258e-04, -1.26487007e-04, -1.25204553e-04,\n",
      "       -1.34721647e-04, -1.25507663e-04, -6.02871317e-05, -1.09724305e-05,\n",
      "       -2.40007644e-05, -1.90465909e-05, -8.10786832e-05,  3.04575764e-05,\n",
      "        4.06105456e-05, -4.87117619e-05, -1.06123299e-04, -1.04477047e-04,\n",
      "       -1.95234569e-04, -1.52383878e-04])\n",
      "  message: b'CONVERGENCE: REL_REDUCTION_OF_F_<=_FACTR*EPSMCH'\n",
      "     nfev: 1645\n",
      "      nit: 39\n",
      "   status: 0\n",
      "  success: True\n",
      "        x: array([0.00351   , 0.0048596 , 0.0084866 , 0.01387607, 0.01889567,\n",
      "       0.02301514, 0.02624365, 0.02867169, 0.03074943, 0.03288447,\n",
      "       0.03375194, 0.03439399, 0.03482345, 0.03471615, 0.03410754,\n",
      "       0.03338442, 0.03196377, 0.03108504, 0.0304602 , 0.02936574,\n",
      "       0.02871837, 0.02859122, 0.02808834, 0.0276567 , 0.02738159,\n",
      "       0.02643038, 0.0267962 , 0.02630713, 0.02704619, 0.02516629,\n",
      "       0.02774702, 0.02623646, 0.03110543, 0.02565321])\n",
      "1.9666030361259028\n",
      "1.0822948120874975e-07\n"
     ]
    }
   ],
   "source": [
    "print (fwd_result)\n",
    "print (libor_obj_func(fwd0))\n",
    "print (libor_obj_func(fwd_result.x))"
   ]
  },
  {
   "cell_type": "code",
   "execution_count": 19,
   "metadata": {},
   "outputs": [
    {
     "data": {
      "image/png": "[encoded data removed]",
      "text/plain": [
       "<Figure size 432x288 with 1 Axes>"
      ]
     },
     "metadata": {
      "needs_background": "light"
     },
     "output_type": "display_data"
    }
   ],
   "source": [
    "from datetime import date\n",
    "\n",
    "fwd_curve =  ForwardRateCurve(libor_pillar_dates, fwd_result.x)\n",
    "\n",
    "from matplotlib import pyplot as plt\n",
    "plt.plot(fwd_curve.pillar_days, fwd_curve.pillar_rates, marker='o')\n",
    "plt.show()\n"
   ]
  }
 ],
 "metadata": {
  "kernelspec": {
   "display_name": "Python 3",
   "language": "python",
   "name": "python3"
  },
  "language_info": {
   "codemirror_mode": {
    "name": "ipython",
    "version": 3
   },
   "file_extension": ".py",
   "mimetype": "text/x-python",
   "name": "python",
   "nbconvert_exporter": "python",
   "pygments_lexer": "ipython3",
   "version": "3.6.3"
  }
 },
 "nbformat": 4,
 "nbformat_minor": 1
}
