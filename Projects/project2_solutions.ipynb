{
 "cells": [
  {
   "cell_type": "markdown",
   "metadata": {},
   "source": [
    "## Credit Curve Bootstrapper\n",
    "\n",
    "The goal of the project is to build a bootstrapping procedure whose output will be a credit curve (an instance of the Python class CreditCurve). The input parameters to derive this curve are:\n",
    "\n",
    "* The par rate of a set of Overnight Index Swaps (i.e. their market quotations)\n",
    "* The par rate of a set of Credit Default Swap (i.e. their market quotations)\n",
    "\n",
    "The resulting class will be used to compute the market value of a set of custom CDS.\n",
    "\n",
    "Numerical results must be presented to the examining committee during a presentation in which the candidates will also explain the theoretical framework for CDS evaluation.\n",
    "\n",
    "### Notes and hints\n",
    "\n",
    "Numerical results must be presented to the examining committee during a presentation in which the candidates will also explain the theoretical framework for evaluation of risky flows.\n",
    "\n",
    "All maturities are expressed in months and rates are expressed as fractions of one (i.e. 0.01 means 1%).\n",
    "\n",
    "Remember to reuse the code we developed during the lessons in `finmarkets.py` as much as possible, instead of trying to rewrite everything from scratch!"
   ]
  },
  {
   "cell_type": "code",
   "execution_count": 2,
   "metadata": {},
   "outputs": [],
   "source": [
    "from datetime import date\n",
    "import pandas as pd\n",
    "\n",
    "pricing_date = date(2019, 10, 31)\n",
    "cds_recovery = 0.4\n",
    "\n",
    "cds_quotes = pd.read_csv(\"cds_quotes_proj2.csv\").to_dict('records')\n",
    "ois_quotes = pd.read_csv(\"ois_quotes.csv\").to_dict('records')\n",
    "cds_to_price = pd.read_csv(\"cds_to_price_proj2.csv\").to_dict('records')"
   ]
  },
  {
   "cell_type": "code",
   "execution_count": 3,
   "metadata": {},
   "outputs": [],
   "source": [
    "from finmarkets import DiscountCurve, OvernightIndexSwap, generate_swap_dates\n",
    "\n",
    "pillar_dates = [pricing_date]\n",
    "\n",
    "swaps = []\n",
    "\n",
    "for quote in ois_quotes:\n",
    "    swap = OvernightIndexSwap(\n",
    "        1,\n",
    "        generate_swap_dates(\n",
    "            pricing_date,\n",
    "            quote['maturity']\n",
    "        ),\n",
    "        quote['rate'])\n",
    "    \n",
    "    swaps.append(swap)\n",
    "    pillar_dates.append(swap.payment_dates[-1])\n",
    "    \n",
    "pillar_dates = sorted(pillar_dates)"
   ]
  },
  {
   "cell_type": "code",
   "execution_count": 7,
   "metadata": {},
   "outputs": [],
   "source": [
    "import numpy as np\n",
    "\n",
    "def objective_function(x):\n",
    "    x = np.insert(x, 0, 1)\n",
    "    curve = DiscountCurve(\n",
    "        pricing_date, pillar_dates, x)\n",
    "    \n",
    "    sum_sq = 0.0\n",
    "    \n",
    "    for swap in swaps:\n",
    "        sum_sq += swap.npv(curve) ** 2\n",
    "        \n",
    "    return sum_sq"
   ]
  },
  {
   "cell_type": "code",
   "execution_count": 8,
   "metadata": {},
   "outputs": [],
   "source": [
    "from scipy.optimize import minimize\n",
    "\n",
    "x0 = [1.0 for i in range(len(pillar_dates)-1)]\n",
    "bounds = [(0.01, 100.0) for i in range(len(pillar_dates)-1)]\n",
    "\n",
    "result = minimize(objective_function, x0, bounds=bounds)"
   ]
  },
  {
   "cell_type": "code",
   "execution_count": 9,
   "metadata": {},
   "outputs": [
    {
     "name": "stdout",
     "output_type": "stream",
     "text": [
      "[0.99991167 0.99980687 0.99970619 0.9996069  0.9994978  0.99938865\n",
      " 0.99927868 0.99916369 0.99902672 0.99889136 0.99874532 0.99859865\n",
      " 0.99806916 0.99748221 0.99674119 0.99582841 0.98958266 0.97817133\n",
      " 0.96221328 0.94242723 0.91997882 0.89555375 0.86964684 0.84279843\n",
      " 0.81599789 0.78928554 0.71346983 0.61195507 0.53245445 0.46683059]\n",
      "1.399018802873446\n",
      "3.816972749241944e-13\n"
     ]
    }
   ],
   "source": [
    "print (result.x)\n",
    "print (objective_function(x0))\n",
    "print (objective_function(result.x))"
   ]
  },
  {
   "cell_type": "code",
   "execution_count": 10,
   "metadata": {},
   "outputs": [],
   "source": [
    "x = np.insert(result.x, 0, 1)\n",
    "discount_curve = DiscountCurve(pricing_date, pillar_dates, x)"
   ]
  },
  {
   "cell_type": "code",
   "execution_count": 11,
   "metadata": {},
   "outputs": [],
   "source": [
    "from finmarkets import generate_swap_dates, CreditDefaultSwap, CreditCurve\n",
    "\n",
    "cds_pillar_dates = [pricing_date]\n",
    "\n",
    "creditdefaultswaps = []\n",
    "for quote in cds_quotes:\n",
    "    creditdefswap = CreditDefaultSwap(\n",
    "        1,\n",
    "        pricing_date,\n",
    "        quote['maturity']//12,\n",
    "        quote['spread'])\n",
    "    \n",
    "    creditdefaultswaps.append(creditdefswap)\n",
    "    cds_pillar_dates.append(creditdefswap.payment_dates[-1])\n",
    "    \n",
    "cds_pillar_dates = sorted(cds_pillar_dates)"
   ]
  },
  {
   "cell_type": "code",
   "execution_count": 15,
   "metadata": {},
   "outputs": [],
   "source": [
    "def obj_function(unknown_ndps):\n",
    "    unknown_ndps = np.insert(unknown_ndps, 0, 1)\n",
    "    curve_c = CreditCurve(cds_pillar_dates, unknown_ndps)\n",
    "    sum_sq = 0.0\n",
    "\n",
    "    for creditdefswap in creditdefaultswaps:\n",
    "        sum_sq += creditdefswap.npv(discount_curve, curve_c) ** 2\n",
    "\n",
    "    return sum_sq"
   ]
  },
  {
   "cell_type": "code",
   "execution_count": 16,
   "metadata": {},
   "outputs": [],
   "source": [
    "x0_guess = [0.5 for i in range(len(cds_pillar_dates)-1)]\n",
    "bounds_credit_curve = [(0.01, 1) for i in range(len(cds_pillar_dates)-1)]\n",
    "\n",
    "results = minimize(obj_function, x0_guess, bounds=bounds_credit_curve)"
   ]
  },
  {
   "cell_type": "code",
   "execution_count": 17,
   "metadata": {},
   "outputs": [
    {
     "name": "stdout",
     "output_type": "stream",
     "text": [
      "      fun: 1.5338777486694364e-11\n",
      " hess_inv: <6x6 LbfgsInvHessProduct with dtype=float64>\n",
      "      jac: array([-2.12875054e-06, -1.88231333e-06, -6.86550407e-07,  1.61817556e-06,\n",
      "        2.53642663e-06, -2.50533329e-06])\n",
      "  message: b'CONVERGENCE: NORM_OF_PROJECTED_GRADIENT_<=_PGTOL'\n",
      "     nfev: 70\n",
      "      nit: 9\n",
      "     njev: 10\n",
      "   status: 0\n",
      "  success: True\n",
      "        x: array([0.90682797, 0.80418272, 0.70888456, 0.54481582, 0.29725479,\n",
      "       0.08663325])\n",
      "0.2718075256173687\n",
      "1.5338777486694364e-11\n"
     ]
    }
   ],
   "source": [
    "print (results)\n",
    "print (obj_function(x0_guess))\n",
    "print (obj_function(results.x))"
   ]
  },
  {
   "cell_type": "code",
   "execution_count": 24,
   "metadata": {},
   "outputs": [],
   "source": [
    "x = np.insert(results.x, 0, 1)\n",
    "credit_curve = CreditCurve(cds_pillar_dates, x)"
   ]
  },
  {
   "cell_type": "code",
   "execution_count": 25,
   "metadata": {},
   "outputs": [
    {
     "name": "stdout",
     "output_type": "stream",
     "text": [
      "Prices of CDS ['-214314.29', '-238050.54', '-402018.35', '-450550.01', '-596145.00', '-644676.66', '-790271.65', '-1081461.62', '-1275588.27', '-1469714.92', '-1663841.57', '-2052094.87', '-2505057.05', '-2893310.35', '-3313918.09']\n"
     ]
    }
   ],
   "source": [
    "npv_cds_to_price = []\n",
    "\n",
    "for quote in cds_to_price:\n",
    "    creditdefswapprice = CreditDefaultSwap(\n",
    "        quote['nominal'],\n",
    "        pricing_date,\n",
    "        quote['maturity'],\n",
    "        quote['spread'])\n",
    "    \n",
    "    npv_cds_to_price.append(creditdefswapprice.npv(discount_curve, credit_curve))\n",
    "\n",
    "print (\"Prices of CDS \" + str([\"{:.2f}\".format(p) for p in npv_cds_to_price]))"
   ]
  }
 ],
 "metadata": {
  "kernelspec": {
   "display_name": "Python 3",
   "language": "python",
   "name": "python3"
  },
  "language_info": {
   "codemirror_mode": {
    "name": "ipython",
    "version": 3
   },
   "file_extension": ".py",
   "mimetype": "text/x-python",
   "name": "python",
   "nbconvert_exporter": "python",
   "pygments_lexer": "ipython3",
   "version": "3.6.3"
  }
 },
 "nbformat": 4,
 "nbformat_minor": 2
}
