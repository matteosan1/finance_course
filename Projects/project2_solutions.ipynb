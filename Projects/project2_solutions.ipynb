{
 "cells": [
  {
   "cell_type": "markdown",
   "metadata": {},
   "source": [
    "## Credit Curve Bootstrapper\n",
    "\n",
    "The goal of the project is to build a bootstrapping procedure whose output will be a credit curve (an instance of the Python class CreditCurve). The input parameters to derive this curve are:\n",
    "\n",
    "* The par rate of a set of Overnight Index Swaps (i.e. their market quotations)\n",
    "* The par rate of a set of Credit Default Swap (i.e. their market quotations)\n",
    "\n",
    "The resulting class will be used to compute the market value of a set of custom CDS.\n",
    "\n",
    "Numerical results must be presented to the examining committee during a presentation in which the candidates will also explain the theoretical framework for CDS evaluation.\n",
    "\n",
    "### Notes and hints\n",
    "\n",
    "Numerical results must be presented to the examining committee during a presentation in which the candidates will also explain the theoretical framework for evaluation of risky flows.\n",
    "\n",
    "All maturities are expressed in months and rates are expressed as fractions of one (i.e. 0.01 means 1%).\n",
    "\n",
    "Remember to reuse the code we developed during the lessons in `finmarkets.py` as much as possible, instead of trying to rewrite everything from scratch!"
   ]
  },
  {
   "cell_type": "code",
   "execution_count": 1,
   "metadata": {},
   "outputs": [],
   "source": [
    "from datetime import date\n",
    "\n",
    "pricing_date = date(2013, 10, 31)\n",
    "\n",
    "cds_recovery = 0.4\n",
    "\n",
    "cds_quotes = [\n",
    "    {'maturity': 12, 'spread':0.0149},\n",
    "    {'maturity': 24, 'spread':0.0165},\n",
    "    {'maturity': 36, 'spread':0.0173},\n",
    "    {'maturity': 69, 'spread':0.0182},\n",
    "    {'maturity': 120, 'spread':0.0183},\n",
    "    {'maturity': 240, 'spread':0.0184},\n",
    "]\n",
    "\n",
    "ois_quotes = [\n",
    "    {'maturity': 1, 'rate': 0.00106},\n",
    "    {'maturity': 2, 'rate': 0.00114},\n",
    "    {'maturity': 3, 'rate': 0.00115},\n",
    "    {'maturity': 4, 'rate': 0.00117},\n",
    "    {'maturity': 5, 'rate': 0.00119},\n",
    "    {'maturity': 6, 'rate': 0.00121},\n",
    "    {'maturity': 7, 'rate': 0.00122},\n",
    "    {'maturity': 8, 'rate': 0.00124},\n",
    "    {'maturity': 9, 'rate': 0.00128},\n",
    "    {'maturity': 10, 'rate': 0.00131},\n",
    "    {'maturity': 11, 'rate': 0.00135},\n",
    "    {'maturity': 12, 'rate': 0.00138},\n",
    "    {'maturity': 15, 'rate': 0.00152},\n",
    "    {'maturity': 18, 'rate': 0.00166},\n",
    "    {'maturity': 21, 'rate': 0.00184},\n",
    "    {'maturity': 24, 'rate': 0.00206},\n",
    "    {'maturity': 36, 'rate': 0.00344},\n",
    "    {'maturity': 48, 'rate': 0.00543},\n",
    "    {'maturity': 60, 'rate': 0.00756},\n",
    "    {'maturity': 72, 'rate': 0.00967},\n",
    "    {'maturity': 84, 'rate': 0.01162},\n",
    "    {'maturity': 96, 'rate': 0.0134},\n",
    "    {'maturity': 108, 'rate': 0.01502},\n",
    "    {'maturity': 120, 'rate': 0.01649},\n",
    "    {'maturity': 132, 'rate': 0.01776},\n",
    "    {'maturity': 144, 'rate': 0.01888},\n",
    "    {'maturity': 180, 'rate': 0.02137},\n",
    "    {'maturity': 240, 'rate': 0.02322},\n",
    "    {'maturity': 300, 'rate': 0.02389},\n",
    "    {'maturity': 360, 'rate': 0.02416},\n",
    "]\n",
    "\n",
    "cds_to_price = [\n",
    "    {'nominal': 5000000, 'maturity': 18, 'spread': 0.02},\n",
    "    {'nominal': 5000000, 'maturity': 21, 'spread': 0.02},\n",
    "    {'nominal': 5000000, 'maturity': 30, 'spread': 0.02},\n",
    "    {'nominal': 5000000, 'maturity': 33, 'spread': 0.02},\n",
    "    {'nominal': 5000000, 'maturity': 42, 'spread': 0.02},\n",
    "    {'nominal': 5000000, 'maturity': 45, 'spread': 0.02},\n",
    "    {'nominal': 5000000, 'maturity': 54, 'spread': 0.02},\n",
    "    {'nominal': 5000000, 'maturity': 72, 'spread': 0.02},\n",
    "    {'nominal': 5000000, 'maturity': 84, 'spread': 0.02},\n",
    "    {'nominal': 5000000, 'maturity': 96, 'spread': 0.02},\n",
    "    {'nominal': 5000000, 'maturity': 108, 'spread': 0.02},\n",
    "    {'nominal': 5000000, 'maturity': 132, 'spread': 0.02},\n",
    "    {'nominal': 5000000, 'maturity': 160, 'spread': 0.02},\n",
    "    {'nominal': 5000000, 'maturity': 184, 'spread': 0.02},\n",
    "    {'nominal': 5000000, 'maturity': 210, 'spread': 0.02},\n",
    "]"
   ]
  },
  {
   "cell_type": "code",
   "execution_count": 2,
   "metadata": {},
   "outputs": [],
   "source": [
    "from finmarkets import DiscountCurve, OvernightIndexSwap, generate_swap_dates\n",
    "\n",
    "pillar_dates = [pricing_date]\n",
    "\n",
    "swaps = []\n",
    "\n",
    "for quote in ois_quotes:\n",
    "    swap = OvernightIndexSwap(\n",
    "        1,\n",
    "        generate_swap_dates(\n",
    "            pricing_date,\n",
    "            quote['maturity']\n",
    "        ),\n",
    "        quote['rate'])\n",
    "    \n",
    "    swaps.append(swap)\n",
    "    pillar_dates.append(swap.payment_dates[-1])\n",
    "    \n",
    "pillar_dates = sorted(pillar_dates)"
   ]
  },
  {
   "cell_type": "code",
   "execution_count": 3,
   "metadata": {},
   "outputs": [],
   "source": [
    "def objective_function(x):\n",
    "    \n",
    "    curve = DiscountCurve(\n",
    "        pricing_date, pillar_dates, x)\n",
    "    \n",
    "    sum_sq = 0.0\n",
    "    \n",
    "    for swap in swaps:\n",
    "        sum_sq += swap.npv(curve) ** 2\n",
    "        \n",
    "    return sum_sq"
   ]
  },
  {
   "cell_type": "code",
   "execution_count": 4,
   "metadata": {},
   "outputs": [],
   "source": [
    "from scipy.optimize import minimize\n",
    "\n",
    "x0 = [1.0 for i in range(len(pillar_dates))]\n",
    "bounds = [(0.01, 100.0) for i in range(len(pillar_dates))]\n",
    "bounds[0] = (1.0, 1.0)\n",
    "\n",
    "result = minimize(objective_function, x0, bounds=bounds)"
   ]
  },
  {
   "cell_type": "code",
   "execution_count": 5,
   "metadata": {},
   "outputs": [
    {
     "name": "stdout",
     "output_type": "stream",
     "text": [
      "[1.         0.99991167 0.99980687 0.99970619 0.99961015 0.99950111\n",
      " 0.99939201 0.99928207 0.99916714 0.99903027 0.998895   0.99874906\n",
      " 0.99858813 0.99807408 0.99748757 0.99674711 0.99582047 0.98957083\n",
      " 0.97816267 0.9622282  0.94245084 0.91998041 0.89555722 0.86968693\n",
      " 0.84284133 0.81600261 0.78929726 0.71347849 0.61197226 0.53249366\n",
      " 0.46685426]\n",
      "1.3988079511005296\n",
      "1.116180166573695e-09\n"
     ]
    }
   ],
   "source": [
    "print (result.x)\n",
    "print (objective_function(x0))\n",
    "print (objective_function(result.x))"
   ]
  },
  {
   "cell_type": "code",
   "execution_count": 6,
   "metadata": {},
   "outputs": [],
   "source": [
    "discount_curve = DiscountCurve(pricing_date, pillar_dates, result.x)"
   ]
  },
  {
   "cell_type": "code",
   "execution_count": 7,
   "metadata": {},
   "outputs": [],
   "source": [
    "from finmarkets import generate_swap_dates, CreditDefaultSwap, CreditCurve\n",
    "\n",
    "cds_pillar_dates = [pricing_date]\n",
    "\n",
    "creditdefaultswaps = []\n",
    "for quote in cds_quotes:\n",
    "    creditdefswap = CreditDefaultSwap(\n",
    "        1,\n",
    "        pricing_date,\n",
    "        quote['maturity']//12,\n",
    "        quote['spread'])\n",
    "    \n",
    "    creditdefaultswaps.append(creditdefswap)\n",
    "    cds_pillar_dates.append(creditdefswap.payment_dates[-1])\n",
    "    \n",
    "cds_pillar_dates = sorted(cds_pillar_dates)"
   ]
  },
  {
   "cell_type": "code",
   "execution_count": 8,
   "metadata": {},
   "outputs": [],
   "source": [
    "def obj_function(unknown_ndps):\n",
    "\n",
    "    curve_c = CreditCurve(cds_pillar_dates, unknown_ndps)\n",
    "    sum_sq = 0.0\n",
    "\n",
    "    for creditdefswap in creditdefaultswaps:\n",
    "        sum_sq += creditdefswap.npv(discount_curve, curve_c) ** 2\n",
    "\n",
    "    return sum_sq"
   ]
  },
  {
   "cell_type": "code",
   "execution_count": 9,
   "metadata": {},
   "outputs": [],
   "source": [
    "x0_guess = [0.5 for i in range(len(cds_pillar_dates))]\n",
    "\n",
    "bounds_credit_curve = [(0.01, 1) for i in range(len(cds_pillar_dates))]\n",
    "bounds_credit_curve[0]=(1, 1)\n",
    "\n",
    "results = minimize(obj_function, x0_guess, bounds=bounds_credit_curve)"
   ]
  },
  {
   "cell_type": "code",
   "execution_count": 10,
   "metadata": {},
   "outputs": [
    {
     "name": "stdout",
     "output_type": "stream",
     "text": [
      "      fun: 8.833081717246685e-12\n",
      " hess_inv: <7x7 LbfgsInvHessProduct with dtype=float64>\n",
      "      jac: array([-9.65377166e-09,  7.16687234e-07,  2.40422301e-06, -2.24757634e-06,\n",
      "       -1.44850703e-06, -6.07960614e-07,  3.01896805e-07])\n",
      "  message: b'CONVERGENCE: NORM_OF_PROJECTED_GRADIENT_<=_PGTOL'\n",
      "     nfev: 88\n",
      "      nit: 10\n",
      "   status: 0\n",
      "  success: True\n",
      "        x: array([1.        , 0.90682878, 0.80418478, 0.70888378, 0.54482332,\n",
      "       0.29728601, 0.08665697])\n",
      "0.5418861901003296\n",
      "8.833081717246685e-12\n"
     ]
    }
   ],
   "source": [
    "print (results)\n",
    "print (obj_function(x0_guess))\n",
    "print (obj_function(results.x))"
   ]
  },
  {
   "cell_type": "code",
   "execution_count": 11,
   "metadata": {},
   "outputs": [],
   "source": [
    "credit_curve = CreditCurve(cds_pillar_dates, results.x)"
   ]
  },
  {
   "cell_type": "code",
   "execution_count": 12,
   "metadata": {},
   "outputs": [
    {
     "name": "stdout",
     "output_type": "stream",
     "text": [
      "Prices of CDS ['-214372.45', '-238065.86', '-402085.09', '-450632.50', '-596274.73', '-644822.14', '-790464.37', '-1081748.84', '-1275938.48', '-1470128.12', '-1664317.77', '-2052697.05', '-2505806.22', '-2894185.51', '-3314929.73']\n"
     ]
    }
   ],
   "source": [
    "npv_cds_to_price = []\n",
    "\n",
    "for quote in cds_to_price:\n",
    "    creditdefswapprice = CreditDefaultSwap(\n",
    "        quote['nominal'],\n",
    "        pricing_date,\n",
    "        quote['maturity'],\n",
    "        quote['spread'])\n",
    "    \n",
    "    npv_cds_to_price.append(creditdefswapprice.npv(discount_curve, credit_curve))\n",
    "\n",
    "print (\"Prices of CDS \" + str([\"{:.2f}\".format(p) for p in npv_cds_to_price]))"
   ]
  }
 ],
 "metadata": {
  "kernelspec": {
   "display_name": "Python 3",
   "language": "python",
   "name": "python3"
  },
  "language_info": {
   "codemirror_mode": {
    "name": "ipython",
    "version": 3
   },
   "file_extension": ".py",
   "mimetype": "text/x-python",
   "name": "python",
   "nbconvert_exporter": "python",
   "pygments_lexer": "ipython3",
   "version": "3.7.5rc1"
  }
 },
 "nbformat": 4,
 "nbformat_minor": 2
}
