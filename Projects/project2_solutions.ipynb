{
 "cells": [
  {
   "cell_type": "markdown",
   "metadata": {},
   "source": [
    "## Credit Curve Bootstrapper\n",
    "\n",
    "The goal of the project is to build a bootstrapping procedure whose output will be a credit curve (an instance of the Python class CreditCurve). The input parameters to derive this curve are:\n",
    "\n",
    "* The par rate of a set of Overnight Index Swaps (i.e. their market quotations)\n",
    "* The par rate of a set of Credit Default Swap (i.e. their market quotations)\n",
    "\n",
    "The resulting class will be used to compute the market value of a set of custom CDS.\n",
    "\n",
    "Numerical results must be presented to the examining committee during a presentation in which the candidates will also explain the theoretical framework for CDS evaluation.\n",
    "\n",
    "### Notes and hints\n",
    "\n",
    "Numerical results must be presented to the examining committee during a presentation in which the candidates will also explain the theoretical framework for evaluation of risky flows.\n",
    "\n",
    "All maturities are expressed in months and rates are expressed as fractions of one (i.e. 0.01 means 1%).\n",
    "\n",
    "Remember to reuse the code we developed during the lessons in `finmarkets.py` as much as possible, instead of trying to rewrite everything from scratch!"
   ]
  },
  {
   "cell_type": "code",
   "execution_count": 15,
   "metadata": {},
   "outputs": [],
   "source": [
    "from datetime import date\n",
    "\n",
    "pricing_date = date(2019, 10, 31)\n",
    "cds_recovery = 0.4\n",
    "\n",
    "cds_quotes = pd.read_csv(\"cds_quotes_proj2.csv\").to_dict('records')\n",
    "ois_quotes = pd.read_csv(\"ois_quotes.csv\").to_dict('records')\n",
    "cds_to_price = pd.read_csv(\"cds_to_price_proj2.csv\").to_dict('records')"
   ]
  },
  {
   "cell_type": "code",
   "execution_count": 16,
   "metadata": {},
   "outputs": [],
   "source": [
    "from finmarkets import DiscountCurve, OvernightIndexSwap, generate_swap_dates\n",
    "\n",
    "pillar_dates = [pricing_date]\n",
    "\n",
    "swaps = []\n",
    "\n",
    "for quote in ois_quotes:\n",
    "    swap = OvernightIndexSwap(\n",
    "        1,\n",
    "        generate_swap_dates(\n",
    "            pricing_date,\n",
    "            quote['maturity']\n",
    "        ),\n",
    "        quote['rate'])\n",
    "    \n",
    "    swaps.append(swap)\n",
    "    pillar_dates.append(swap.payment_dates[-1])\n",
    "    \n",
    "pillar_dates = sorted(pillar_dates)"
   ]
  },
  {
   "cell_type": "code",
   "execution_count": 17,
   "metadata": {},
   "outputs": [],
   "source": [
    "def objective_function(x):\n",
    "    \n",
    "    curve = DiscountCurve(\n",
    "        pricing_date, pillar_dates, x)\n",
    "    \n",
    "    sum_sq = 0.0\n",
    "    \n",
    "    for swap in swaps:\n",
    "        sum_sq += swap.npv(curve) ** 2\n",
    "        \n",
    "    return sum_sq"
   ]
  },
  {
   "cell_type": "code",
   "execution_count": 18,
   "metadata": {},
   "outputs": [],
   "source": [
    "from scipy.optimize import minimize\n",
    "\n",
    "x0 = [1.0 for i in range(len(pillar_dates))]\n",
    "bounds = [(0.01, 100.0) for i in range(len(pillar_dates))]\n",
    "bounds[0] = (1.0, 1.0)\n",
    "\n",
    "result = minimize(objective_function, x0, bounds=bounds)"
   ]
  },
  {
   "cell_type": "code",
   "execution_count": 19,
   "metadata": {},
   "outputs": [
    {
     "name": "stdout",
     "output_type": "stream",
     "text": [
      "[1.         0.99991167 0.99980687 0.99970619 0.9996069  0.9994978\n",
      " 0.99938865 0.99927868 0.9991637  0.99902672 0.99889136 0.99874532\n",
      " 0.99858427 0.99806988 0.99748298 0.99674203 0.99581479 0.98957082\n",
      " 0.97816259 0.962208   0.94242529 0.91997947 0.8955561  0.8696499\n",
      " 0.84280139 0.81599992 0.78929444 0.71347554 0.61196941 0.5324563\n",
      " 0.46682078]\n",
      "1.399018802873446\n",
      "1.1153038909532198e-09\n"
     ]
    }
   ],
   "source": [
    "print (result.x)\n",
    "print (objective_function(x0))\n",
    "print (objective_function(result.x))"
   ]
  },
  {
   "cell_type": "code",
   "execution_count": 20,
   "metadata": {},
   "outputs": [],
   "source": [
    "discount_curve = DiscountCurve(pricing_date, pillar_dates, result.x)"
   ]
  },
  {
   "cell_type": "code",
   "execution_count": 21,
   "metadata": {},
   "outputs": [],
   "source": [
    "from finmarkets import generate_swap_dates, CreditDefaultSwap, CreditCurve\n",
    "\n",
    "cds_pillar_dates = [pricing_date]\n",
    "\n",
    "creditdefaultswaps = []\n",
    "for quote in cds_quotes:\n",
    "    creditdefswap = CreditDefaultSwap(\n",
    "        1,\n",
    "        pricing_date,\n",
    "        quote['maturity']//12,\n",
    "        quote['spread'])\n",
    "    \n",
    "    creditdefaultswaps.append(creditdefswap)\n",
    "    cds_pillar_dates.append(creditdefswap.payment_dates[-1])\n",
    "    \n",
    "cds_pillar_dates = sorted(cds_pillar_dates)"
   ]
  },
  {
   "cell_type": "code",
   "execution_count": 22,
   "metadata": {},
   "outputs": [],
   "source": [
    "def obj_function(unknown_ndps):\n",
    "\n",
    "    curve_c = CreditCurve(cds_pillar_dates, unknown_ndps)\n",
    "    sum_sq = 0.0\n",
    "\n",
    "    for creditdefswap in creditdefaultswaps:\n",
    "        sum_sq += creditdefswap.npv(discount_curve, curve_c) ** 2\n",
    "\n",
    "    return sum_sq"
   ]
  },
  {
   "cell_type": "code",
   "execution_count": 23,
   "metadata": {},
   "outputs": [],
   "source": [
    "x0_guess = [0.5 for i in range(len(cds_pillar_dates))]\n",
    "\n",
    "bounds_credit_curve = [(0.01, 1) for i in range(len(cds_pillar_dates))]\n",
    "bounds_credit_curve[0]=(1, 1)\n",
    "\n",
    "results = minimize(obj_function, x0_guess, bounds=bounds_credit_curve)"
   ]
  },
  {
   "cell_type": "code",
   "execution_count": 24,
   "metadata": {},
   "outputs": [
    {
     "name": "stdout",
     "output_type": "stream",
     "text": [
      "      fun: 7.517283377137074e-12\n",
      " hess_inv: <7x7 LbfgsInvHessProduct with dtype=float64>\n",
      "      jac: array([-2.58519864e-07,  7.17196619e-07,  2.30198063e-06, -1.95940914e-06,\n",
      "       -1.28630104e-06, -4.99099415e-07,  3.66227628e-07])\n",
      "  message: b'CONVERGENCE: NORM_OF_PROJECTED_GRADIENT_<=_PGTOL'\n",
      "     nfev: 88\n",
      "      nit: 10\n",
      "   status: 0\n",
      "  success: True\n",
      "        x: array([1.        , 0.90683175, 0.80418831, 0.70888291, 0.54481268,\n",
      "       0.29725113, 0.08663749])\n",
      "0.5418642579596749\n",
      "7.517283377137074e-12\n"
     ]
    }
   ],
   "source": [
    "print (results)\n",
    "print (obj_function(x0_guess))\n",
    "print (obj_function(results.x))"
   ]
  },
  {
   "cell_type": "code",
   "execution_count": 25,
   "metadata": {},
   "outputs": [],
   "source": [
    "credit_curve = CreditCurve(cds_pillar_dates, results.x)"
   ]
  },
  {
   "cell_type": "code",
   "execution_count": 26,
   "metadata": {},
   "outputs": [
    {
     "name": "stdout",
     "output_type": "stream",
     "text": [
      "Prices of CDS ['-214319.59', '-238059.81', '-402035.72', '-450568.74', '-596167.80', '-644700.81', '-790299.87', '-1081497.98', '-1275630.05', '-1469762.13', '-1663894.20', '-2052158.34', '-2505133.18', '-2893397.33', '-3314016.82']\n"
     ]
    }
   ],
   "source": [
    "npv_cds_to_price = []\n",
    "\n",
    "for quote in cds_to_price:\n",
    "    creditdefswapprice = CreditDefaultSwap(\n",
    "        quote['nominal'],\n",
    "        pricing_date,\n",
    "        quote['maturity'],\n",
    "        quote['spread'])\n",
    "    \n",
    "    npv_cds_to_price.append(creditdefswapprice.npv(discount_curve, credit_curve))\n",
    "\n",
    "print (\"Prices of CDS \" + str([\"{:.2f}\".format(p) for p in npv_cds_to_price]))"
   ]
  }
 ],
 "metadata": {
  "kernelspec": {
   "display_name": "Python 3",
   "language": "python",
   "name": "python3"
  },
  "language_info": {
   "codemirror_mode": {
    "name": "ipython",
    "version": 3
   },
   "file_extension": ".py",
   "mimetype": "text/x-python",
   "name": "python",
   "nbconvert_exporter": "python",
   "pygments_lexer": "ipython3",
   "version": "3.6.3"
  }
 },
 "nbformat": 4,
 "nbformat_minor": 2
}
