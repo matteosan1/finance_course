{
 "cells": [
  {
   "cell_type": "markdown",
   "metadata": {},
   "source": [
    "## Credit Curve Bootstrapper\n",
    "\n",
    "The goal of the project is to build a bootstrapping procedure whose output will be a credit curve (an instance of the Python class CreditCurve). The input parameters to derive this curve are:\n",
    "\n",
    "* The par rate of a set of Overnight Index Swaps (i.e. their market quotations)\n",
    "* The par rate of a set of Credit Default Swap (i.e. their market quotations)\n",
    "\n",
    "The resulting class will be used to compute the market value of a set of custom CDS.\n",
    "\n",
    "Numerical results must be presented to the examining committee during a presentation in which the candidates will also explain the theoretical framework for CDS evaluation."
   ]
  },
  {
   "cell_type": "code",
   "execution_count": 2,
   "metadata": {
    "collapsed": true
   },
   "outputs": [],
   "source": [
    "from datetime import date\n",
    "\n",
    "pricing_date = date(2019, 10, 31)\n",
    "cds_recovery = 0.4"
   ]
  },
  {
   "cell_type": "code",
   "execution_count": 13,
   "metadata": {
    "collapsed": true
   },
   "outputs": [],
   "source": [
    "cds_quotes = [\n",
    "    {'maturity': 12, 'spread':0.0149},\n",
    "    {'maturity': 24, 'spread':0.0165},\n",
    "    {'maturity': 36, 'spread':0.0173},\n",
    "    {'maturity': 69, 'spread':0.0182},\n",
    "    {'maturity': 120, 'spread':0.0183},\n",
    "    {'maturity': 240, 'spread':0.0184},\n",
    "]"
   ]
  },
  {
   "cell_type": "code",
   "execution_count": 14,
   "metadata": {
    "collapsed": true
   },
   "outputs": [],
   "source": [
    "ois_quotes = [\n",
    "    {'maturity': 1, 'rate': 0.00106},\n",
    "    {'maturity': 2, 'rate': 0.00114},\n",
    "    {'maturity': 3, 'rate': 0.00115},\n",
    "    {'maturity': 4, 'rate': 0.00117},\n",
    "    {'maturity': 5, 'rate': 0.00119},\n",
    "    {'maturity': 6, 'rate': 0.00121},\n",
    "    {'maturity': 7, 'rate': 0.00122},\n",
    "    {'maturity': 8, 'rate': 0.00124},\n",
    "    {'maturity': 9, 'rate': 0.00128},\n",
    "    {'maturity': 10, 'rate': 0.00131},\n",
    "    {'maturity': 11, 'rate': 0.00135},\n",
    "    {'maturity': 12, 'rate': 0.00138},\n",
    "    {'maturity': 15, 'rate': 0.00152},\n",
    "    {'maturity': 18, 'rate': 0.00166},\n",
    "    {'maturity': 21, 'rate': 0.00184},\n",
    "    {'maturity': 24, 'rate': 0.00206},\n",
    "    {'maturity': 36, 'rate': 0.00344},\n",
    "    {'maturity': 48, 'rate': 0.00543},\n",
    "    {'maturity': 60, 'rate': 0.00756},\n",
    "    {'maturity': 72, 'rate': 0.00967},\n",
    "    {'maturity': 84, 'rate': 0.01162},\n",
    "    {'maturity': 96, 'rate': 0.0134},\n",
    "    {'maturity': 108, 'rate': 0.01502},\n",
    "    {'maturity': 120, 'rate': 0.01649},\n",
    "    {'maturity': 132, 'rate': 0.01776},\n",
    "    {'maturity': 144, 'rate': 0.01888},\n",
    "    {'maturity': 180, 'rate': 0.02137},\n",
    "    {'maturity': 240, 'rate': 0.02322},\n",
    "    {'maturity': 300, 'rate': 0.02389},\n",
    "    {'maturity': 360, 'rate': 0.02416},\n",
    "]"
   ]
  },
  {
   "cell_type": "code",
   "execution_count": 15,
   "metadata": {
    "collapsed": true
   },
   "outputs": [],
   "source": [
    "cds_to_price = [\n",
    "    {'nominal': 5000000, 'maturity': 18, 'spread': 0.02},\n",
    "    {'nominal': 5000000, 'maturity': 21, 'spread': 0.02},\n",
    "    {'nominal': 5000000, 'maturity': 30, 'spread': 0.02},\n",
    "    {'nominal': 5000000, 'maturity': 33, 'spread': 0.02},\n",
    "    {'nominal': 5000000, 'maturity': 42, 'spread': 0.02},\n",
    "    {'nominal': 5000000, 'maturity': 45, 'spread': 0.02},\n",
    "    {'nominal': 5000000, 'maturity': 54, 'spread': 0.02},\n",
    "    {'nominal': 5000000, 'maturity': 72, 'spread': 0.02},\n",
    "    {'nominal': 5000000, 'maturity': 84, 'spread': 0.02},\n",
    "    {'nominal': 5000000, 'maturity': 96, 'spread': 0.02},\n",
    "    {'nominal': 5000000, 'maturity': 108, 'spread': 0.02},\n",
    "    {'nominal': 5000000, 'maturity': 132, 'spread': 0.02},\n",
    "    {'nominal': 5000000, 'maturity': 160, 'spread': 0.02},\n",
    "    {'nominal': 5000000, 'maturity': 184, 'spread': 0.02},\n",
    "    {'nominal': 5000000, 'maturity': 210, 'spread': 0.02},\n",
    "]"
   ]
  }
 ],
 "metadata": {
  "kernelspec": {
   "display_name": "Python 3",
   "language": "python",
   "name": "python3"
  },
  "language_info": {
   "codemirror_mode": {
    "name": "ipython",
    "version": 3
   },
   "file_extension": ".py",
   "mimetype": "text/x-python",
   "name": "python",
   "nbconvert_exporter": "python",
   "pygments_lexer": "ipython3",
   "version": "3.7.5"
  }
 },
 "nbformat": 4,
 "nbformat_minor": 1
}
