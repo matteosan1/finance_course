{
 "cells": [
  {
   "cell_type": "markdown",
   "metadata": {},
   "source": [
    "# Credit VAR of a Swap\n",
    "\n",
    "The goal of the project is to compute the Credit VAR (95th percentile) of a swap in which the counterparty might default. The input parameters are:\n",
    "\n",
    "* The par rate of a set of Overnight Index Swaps (i.e. their market quotation)\n",
    "* A set of forward libor rates and their fixing dates\n",
    "* The static data of the swap (nominal, start date, maturity, underlying libor tenor, etc..). The fixed rate of the swap is such that if there was no counterparty risk, the product would be traded at par. You are requested to compute it.\n",
    "* A set of survival probabilities for the risky counterparty\n",
    "* The recovery rate for this swap (i.e. the fraction of the market value that it is expected to recover in case of default).\n",
    "* The volatility of the swap rate, which is assumed to be constant through time (the swap rate is lognormal with fixed volatility)\n",
    "\n",
    "The swap starts today and the horizon for the VAR calculation is before any future payments. \n",
    "\n",
    "The requested VAR is today’s value at risk, i.e. the 95th percentile of the discounted loss distribution function.\n",
    "\n",
    "Numerical results must be presented to the examining committee during a presentation in which the candidates will also explain the theoretical framework for credit risk evaluation.\n",
    "\n",
    "\n"
   ]
  },
  {
   "cell_type": "code",
   "execution_count": 1,
   "metadata": {
    "collapsed": true
   },
   "outputs": [],
   "source": [
    "from datetime import date"
   ]
  },
  {
   "cell_type": "code",
   "execution_count": 2,
   "metadata": {
    "collapsed": true
   },
   "outputs": [],
   "source": [
    "pricing_date = date(2019, 10, 31)"
   ]
  },
  {
   "cell_type": "code",
   "execution_count": 3,
   "metadata": {
    "collapsed": true
   },
   "outputs": [],
   "source": [
    "survival_probabilities = [\n",
    "    {'date': date(2020, 12, 20), 'ndp': 0.972159727015014},\n",
    "    {'date': date(2021, 12, 20), 'ndp': 0.942926329174406},\n",
    "    {'date': date(2022, 12, 20), 'ndp': 0.913448056250137},\n",
    "    {'date': date(2024, 12, 20), 'ndp': 0.855640452819766},\n",
    "    {'date': date(2029, 12, 20), 'ndp': 0.732687779675469},\n",
    "    {'date': date(2039, 12, 20), 'ndp': 0.539046016487758},\n",
    "]"
   ]
  },
  {
   "cell_type": "code",
   "execution_count": 4,
   "metadata": {
    "collapsed": true
   },
   "outputs": [],
   "source": [
    "ois_quotes = [\n",
    "    {'maturity': 1, 'rate': 0.00106},\n",
    "    {'maturity': 2, 'rate': 0.00114},\n",
    "    {'maturity': 3, 'rate': 0.00115},\n",
    "    {'maturity': 4, 'rate': 0.00117},\n",
    "    {'maturity': 5, 'rate': 0.00119},\n",
    "    {'maturity': 6, 'rate': 0.00121},\n",
    "    {'maturity': 7, 'rate': 0.00122},\n",
    "    {'maturity': 8, 'rate': 0.00124},\n",
    "    {'maturity': 9, 'rate': 0.00128},\n",
    "    {'maturity': 10, 'rate': 0.00131},\n",
    "    {'maturity': 11, 'rate': 0.00135},\n",
    "    {'maturity': 12, 'rate': 0.00138},\n",
    "    {'maturity': 15, 'rate': 0.00152},\n",
    "    {'maturity': 18, 'rate': 0.00166},\n",
    "    {'maturity': 21, 'rate': 0.00184},\n",
    "    {'maturity': 24, 'rate': 0.00206},\n",
    "    {'maturity': 36, 'rate': 0.00344},\n",
    "    {'maturity': 48, 'rate': 0.00543},\n",
    "    {'maturity': 60, 'rate': 0.00756},\n",
    "    {'maturity': 72, 'rate': 0.00967},\n",
    "    {'maturity': 84, 'rate': 0.01162},\n",
    "    {'maturity': 96, 'rate': 0.0134},\n",
    "    {'maturity': 108, 'rate': 0.01502},\n",
    "    {'maturity': 120, 'rate': 0.01649},\n",
    "    {'maturity': 132, 'rate': 0.01776},\n",
    "    {'maturity': 144, 'rate': 0.01888},\n",
    "    {'maturity': 180, 'rate': 0.02137},\n",
    "    {'maturity': 240, 'rate': 0.02322},\n",
    "    {'maturity': 300, 'rate': 0.02389},\n",
    "    {'maturity': 360, 'rate': 0.02416},\n",
    "]"
   ]
  },
  {
   "cell_type": "code",
   "execution_count": 5,
   "metadata": {
    "collapsed": true
   },
   "outputs": [],
   "source": [
    "euribor_6m = [\n",
    "    {'date': date(2019, 10, 31), 'rate': 0.005},\n",
    "    {'date': date(2020, 4, 30), 'rate': 0.0058},\n",
    "    {'date': date(2020, 10, 30), 'rate': 0.0066},\n",
    "    {'date': date(2021, 4, 30), 'rate': 0.0074},\n",
    "    {'date': date(2021, 10, 30), 'rate': 0.0082},\n",
    "    {'date': date(2022, 4, 30), 'rate': 0.009},\n",
    "    {'date': date(2022, 10, 30), 'rate': 0.0098},\n",
    "    {'date': date(2023, 4, 30), 'rate': 0.0106},\n",
    "    {'date': date(2023, 10, 30), 'rate': 0.0114},\n",
    "    {'date': date(2024, 4, 30), 'rate': 0.0122},\n",
    "    {'date': date(2024, 10, 30), 'rate': 0.013},\n",
    "    {'date': date(2025, 4, 30), 'rate': 0.0138},\n",
    "    {'date': date(2025, 10, 30), 'rate': 0.0146},\n",
    "    {'date': date(2026, 4, 30), 'rate': 0.0154},\n",
    "    {'date': date(2026, 10, 30), 'rate': 0.0162},\n",
    "    {'date': date(2027, 4, 30), 'rate': 0.017},\n",
    "    {'date': date(2027, 10, 30), 'rate': 0.0178},\n",
    "    {'date': date(2028, 4, 30), 'rate': 0.0186},\n",
    "    {'date': date(2028, 10, 30), 'rate': 0.0194},\n",
    "    {'date': date(2029, 4, 30), 'rate': 0.0202},\n",
    "    {'date': date(2029, 10, 30), 'rate': 0.021},\n",
    "    {'date': date(2030, 4, 30), 'rate': 0.0218},\n",
    "    {'date': date(2030, 10, 30), 'rate': 0.0226},\n",
    "    {'date': date(2031, 4, 30), 'rate': 0.0234},\n",
    "    {'date': date(2031, 10, 30), 'rate': 0.0242},\n",
    "    {'date': date(2032, 4, 30), 'rate': 0.025},\n",
    "    {'date': date(2032, 10, 30), 'rate': 0.0258},\n",
    "    {'date': date(2033, 4, 30), 'rate': 0.0266},\n",
    "    {'date': date(2033, 10, 30), 'rate': 0.0274},\n",
    "    {'date': date(2034, 4, 30), 'rate': 0.0282},\n",
    "]"
   ]
  },
  {
   "cell_type": "code",
   "execution_count": 6,
   "metadata": {
    "collapsed": true
   },
   "outputs": [],
   "source": [
    "irs_to_price = {\n",
    "    'nominal': 100e6, \n",
    "    'libor_tenor': 6,\n",
    "    'fixed_leg_frequency': 12,\n",
    "    'maturity': 120\n",
    "}\n",
    "\n",
    "credit_var_date = date(2020, 1, 31)\n",
    "recovery = 0.4\n",
    "volatility = 0.2\n",
    "mc_runs = 10000\n",
    "percentile = 0.95"
   ]
  }
 ],
 "metadata": {
  "anaconda-cloud": {},
  "kernelspec": {
   "display_name": "Python 3",
   "language": "python",
   "name": "python3"
  },
  "language_info": {
   "codemirror_mode": {
    "name": "ipython",
    "version": 3
   },
   "file_extension": ".py",
   "mimetype": "text/x-python",
   "name": "python",
   "nbconvert_exporter": "python",
   "pygments_lexer": "ipython3",
   "version": "3.7.5"
  }
 },
 "nbformat": 4,
 "nbformat_minor": 1
}
