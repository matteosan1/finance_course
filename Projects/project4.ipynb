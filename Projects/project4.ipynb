{
 "cells": [
  {
   "cell_type": "markdown",
   "metadata": {},
   "source": [
    "# Fixed Coupon Bond\n",
    "\n",
    "The goal of the project is to compute the market value of a portfolio of fixed coupon bonds taking into account the issuer credit risk. The input parameters to derive this curve are:\n",
    "\n",
    "* The par rate of a set of Overnight Index Swaps (i.e. their market quotation)\n",
    "* A set of survival probabilities and the recovery rate of the issuer\n",
    "* The static data of the pool of bonds (nominal, start date, end date, coupons, payment frequency)\n",
    "\n",
    "Numerical results must be presented to the examining committee during a presentation in which the candidates will also explain the theoretical framework for evaluation of risky flows."
   ]
  },
  {
   "cell_type": "code",
   "execution_count": 2,
   "metadata": {
    "collapsed": true
   },
   "outputs": [],
   "source": [
    "from datetime import date"
   ]
  },
  {
   "cell_type": "code",
   "execution_count": 3,
   "metadata": {},
   "outputs": [],
   "source": [
    "today = date(2019, 10, 31)"
   ]
  },
  {
   "cell_type": "code",
   "execution_count": 4,
   "metadata": {
    "collapsed": true
   },
   "outputs": [],
   "source": [
    "ois_quotes = [\n",
    "    {'maturity': 1, 'rate': 0.00106},\n",
    "    {'maturity': 2, 'rate': 0.00114},\n",
    "    {'maturity': 3, 'rate': 0.00115},\n",
    "    {'maturity': 4, 'rate': 0.00117},\n",
    "    {'maturity': 5, 'rate': 0.00119},\n",
    "    {'maturity': 6, 'rate': 0.00121},\n",
    "    {'maturity': 7, 'rate': 0.00122},\n",
    "    {'maturity': 8, 'rate': 0.00124},\n",
    "    {'maturity': 9, 'rate': 0.00128},\n",
    "    {'maturity': 10, 'rate': 0.00131},\n",
    "    {'maturity': 11, 'rate': 0.00135},\n",
    "    {'maturity': 12, 'rate': 0.00138},\n",
    "    {'maturity': 15, 'rate': 0.00152},\n",
    "    {'maturity': 18, 'rate': 0.00166},\n",
    "    {'maturity': 21, 'rate': 0.00184},\n",
    "    {'maturity': 24, 'rate': 0.00206},\n",
    "    {'maturity': 36, 'rate': 0.00344},\n",
    "    {'maturity': 48, 'rate': 0.00543},\n",
    "    {'maturity': 60, 'rate': 0.00756},\n",
    "    {'maturity': 72, 'rate': 0.00967},\n",
    "    {'maturity': 84, 'rate': 0.01162},\n",
    "    {'maturity': 96, 'rate': 0.0134},\n",
    "    {'maturity': 108, 'rate': 0.01502},\n",
    "    {'maturity': 120, 'rate': 0.01649},\n",
    "    {'maturity': 132, 'rate': 0.01776},\n",
    "    {'maturity': 144, 'rate': 0.01888},\n",
    "    {'maturity': 180, 'rate': 0.02137},\n",
    "    {'maturity': 240, 'rate': 0.02322},\n",
    "    {'maturity': 300, 'rate': 0.02389},\n",
    "    {'maturity': 360, 'rate': 0.02416},\n",
    "]"
   ]
  },
  {
   "cell_type": "code",
   "execution_count": 6,
   "metadata": {
    "collapsed": true
   },
   "outputs": [],
   "source": [
    "survival_probabilities = [\n",
    "    {'date': date(2020, 12, 20), 'ndp': 0.972159727015014},\n",
    "    {'date': date(2021, 12, 20), 'ndp': 0.942926329174406},\n",
    "    {'date': date(2022, 12, 20), 'ndp': 0.913448056250137},\n",
    "    {'date': date(2024, 12, 20), 'ndp': 0.855640452819766},\n",
    "    {'date': date(2029, 12, 20), 'ndp': 0.732687779675469},\n",
    "    {'date': date(2039, 12, 20), 'ndp': 0.539046016487758},\n",
    "]"
   ]
  },
  {
   "cell_type": "code",
   "execution_count": 8,
   "metadata": {
    "collapsed": true
   },
   "outputs": [],
   "source": [
    "bonds_to_price = [\n",
    "    {'nominal': 4972284.02, 'start_date': date(2016, 3, 1), 'end_date': date(2027, 8, 1),\n",
    "     'coupon_frequency': 3, 'coupon': 0.035, 'recovery': 0.2},\n",
    "    {'nominal': 7344328.27, 'start_date': date(2015, 7, 1), 'end_date': date(2022, 7, 1), \n",
    "     'coupon_frequency': 3, 'coupon': 0.035, 'recovery': 0.2},\n",
    "    {'nominal': 7172290.19, 'start_date': date(2019, 1, 1), 'end_date': date(2023, 9, 1), \n",
    "     'coupon_frequency': 6, 'coupon': 0.02, 'recovery': 0.4},\n",
    "    {'nominal': 7065224.23, 'start_date': date(2016, 3, 1), 'end_date': date(2020, 10, 1), \n",
    "     'coupon_frequency': 6, 'coupon': 0.02, 'recovery': 0.4},\n",
    "    {'nominal': 5256452.14, 'start_date': date(2017, 7, 1), 'end_date': date(2022, 4, 1), \n",
    "     'coupon_frequency': 6, 'coupon': 0.02, 'recovery': 0.4},\n",
    "    {'nominal': 2689680.89, 'start_date': date(2015, 9, 1), 'end_date': date(2030, 7, 1), \n",
    "     'coupon_frequency': 6, 'coupon': 0.02, 'recovery': 0.6},\n",
    "    {'nominal': 3593518.71, 'start_date': date(2016, 7, 1), 'end_date': date(2025, 2, 1), \n",
    "     'coupon_frequency': 12, 'coupon': 0.02, 'recovery': 0.6},\n",
    "    {'nominal': 6993589.53, 'start_date': date(2017, 1, 1), 'end_date': date(2024, 11, 1), \n",
    "     'coupon_frequency': 12, 'coupon': 0.02, 'recovery': 0.6},\n",
    "    {'nominal': 6684377.52, 'start_date': date(2015, 9, 1), 'end_date': date(2027, 9, 1), \n",
    "     'coupon_frequency': 12, 'coupon': 0.02, 'recovery': 0.6},\n",
    "    {'nominal': 6896199.04, 'start_date': date(2016, 7, 1), 'end_date': date(2024, 11, 1), \n",
    "     'coupon_frequency': 12, 'coupon': 0.027, 'recovery': 0.4},\n",
    "    {'nominal': 2587984.6, 'start_date': date(2017, 10, 1), 'end_date': date(2026, 10, 1), \n",
    "     'coupon_frequency': 12, 'coupon': 0.02, 'recovery': 0.4},\n",
    "    {'nominal': 3621656.1, 'start_date': date(2018, 6, 1), 'end_date': date(2022, 7, 1), \n",
    "     'coupon_frequency': 6, 'coupon': 0.027, 'recovery': 0.4},\n",
    "    {'nominal': 3146567.47, 'start_date': date(2017, 6, 1), 'end_date': date(2028, 3, 1), \n",
    "     'coupon_frequency': 6, 'coupon': 0.018, 'recovery': 0.2},\n",
    "    {'nominal': 6452721.61, 'start_date': date(2015, 4, 1), 'end_date': date(2025, 4, 1), \n",
    "     'coupon_frequency': 3, 'coupon': 0.018, 'recovery': 0.2},\n",
    "    {'nominal': 3418346.24, 'start_date': date(2016, 5, 1), 'end_date': date(2022, 1, 1), \n",
    "     'coupon_frequency': 3, 'coupon': 0.018, 'recovery': 0.2},\n",
    "]"
   ]
  }
 ],
 "metadata": {
  "anaconda-cloud": {},
  "kernelspec": {
   "display_name": "Python 3",
   "language": "python",
   "name": "python3"
  },
  "language_info": {
   "codemirror_mode": {
    "name": "ipython",
    "version": 3
   },
   "file_extension": ".py",
   "mimetype": "text/x-python",
   "name": "python",
   "nbconvert_exporter": "python",
   "pygments_lexer": "ipython3",
   "version": "3.7.5"
  }
 },
 "nbformat": 4,
 "nbformat_minor": 1
}
