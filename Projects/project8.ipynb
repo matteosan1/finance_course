{
 "cells": [
  {
   "cell_type": "markdown",
   "metadata": {},
   "source": [
    "## Portfolio Optimization\n",
    "\n",
    "Given the historical series of a set of securities (SP500 included), you are asked to:\n",
    "\n",
    "* find the best set of 10 securities to build a portfolio according to CAPM and justify your choice;\n",
    "* find the Markowitz portfolio;\n",
    "* draw efficient frontier of the risky portfolio and the CAL;\n",
    "* find the market portfolio (the one maximizing the Sharpe Ratio);\n",
    "* compare and comment the composition of the Sharpe portfolio and the one obtained with CAPM.\n",
    "\n",
    "The inputs are:\n",
    "\n",
    "* historical series file;\n",
    "* risk-free rate.\n",
    "\n",
    "### Notes and hints\n",
    "\n",
    "Numerical results must be presented to the examining committee during a presentation in which the candidates will also explain the theoretical framework of the portfolio optimization models."
   ]
  },
  {
   "cell_type": "code",
   "execution_count": 1,
   "metadata": {},
   "outputs": [],
   "source": [
    "rf = 0.03\n",
    "# proj8.csv"
   ]
  }
 ],
 "metadata": {
  "kernelspec": {
   "display_name": "Python 3",
   "language": "python",
   "name": "python3"
  },
  "language_info": {
   "codemirror_mode": {
    "name": "ipython",
    "version": 3
   },
   "file_extension": ".py",
   "mimetype": "text/x-python",
   "name": "python",
   "nbconvert_exporter": "python",
   "pygments_lexer": "ipython3",
   "version": "3.6.3"
  }
 },
 "nbformat": 4,
 "nbformat_minor": 4
}
