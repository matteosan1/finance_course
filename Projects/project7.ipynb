{
 "cells": [
  {
   "cell_type": "markdown",
   "metadata": {},
   "source": [
    "# Swap with Counterparty Risk (CVA)\n",
    "\n",
    "The goal of the project is to compute the market value of a swap where the counterparty  might default. The input parameters are:\n",
    "\n",
    "* The par rate of a set of Overnight Index Swaps (i.e. their market quotation)\n",
    "* A set of forward libor rates and their fixing dates\n",
    "* A set of survival probabilities for the risky counterparty\n",
    "* The static data of the swap (nominal, maturity, underlying libor tenor, etc..). The fixed rate of the swap is such that if there was no counterparty risk, the product would be traded at par. You are requested to compute it.\n",
    "* The recovery rate for this swap (i.e. the fraction of the market value that it is expected to recover in case of default).\n",
    "* The volatility of the swap rate, which is assumed to be constant through time (the swap rate is lognormal with fixed volatility)\n",
    "\n",
    "Numerical results must be presented to the examining committee during a presentation in which the candidates will also explain the theoretical framework for CVA estimation\n"
   ]
  },
  {
   "cell_type": "code",
   "execution_count": 1,
   "metadata": {},
   "outputs": [],
   "source": [
    "from datetime import date\n",
    "\n",
    "today = date(2019, 10, 31)\n",
    "\n",
    "# ois_quotes.csv\n",
    "# survival_probabilities_proj5.csv\n",
    "# euribor6M_proj7.csv\n",
    "\n",
    "# par swap data\n",
    "nominal = 100e6\n",
    "libor_tenor = 6\n",
    "fixed_leg_frequency = 12\n",
    "maturity = 60\n",
    "\n",
    "# CVA data\n",
    "recovery = 0.40 \n",
    "volatility = 0.30"
   ]
  }
 ],
 "metadata": {
  "kernelspec": {
   "display_name": "Python 3",
   "language": "python",
   "name": "python3"
  },
  "language_info": {
   "codemirror_mode": {
    "name": "ipython",
    "version": 3
   },
   "file_extension": ".py",
   "mimetype": "text/x-python",
   "name": "python",
   "nbconvert_exporter": "python",
   "pygments_lexer": "ipython3",
   "version": "3.6.3"
  }
 },
 "nbformat": 4,
 "nbformat_minor": 1
}
