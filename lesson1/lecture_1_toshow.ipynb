{
 "cells": [
  {
   "cell_type": "markdown",
   "metadata": {},
   "source": [
    "# Introduction to $\\tt{python}$ - Lesson 1\n",
    "\n",
    "## What is $\\tt{python}$ ?\n",
    "\n",
    "$\\tt{Python}$ is a so called *interpreted language*: it takes some code (a sequence of instructions), reads and executes it. This is different from other programming languages like C or C++ which *compile* code into a language that the computer can understand directly (*machine language*). \n",
    "\n",
    "![Interpreted vs compiled language](index.png)\n",
    "\n",
    "As a result, $\\tt{python}$ is essentially an *interactive* programming language, you can program and see the results almost at the same time. This is very nice in terms of readability of the code since programmming is almost like instructing the computer in plain English but it has drawbacks in term of perfomance since we have the intermediate step of the \"translation\" which makes slower the execution.\n",
    "\n",
    "### Which $\\tt{python}$ should I use ?\n",
    "\n",
    "$\\tt{Python}$, as basically all programs, comes in different version and flavours as you can see by the number of updates the apps in your mobile phone receives.\n",
    "\n",
    "The latest version is $\\tt{3.8.5}$ (but it is continously evolving), however you'll see older versions floating around (e.g. $\\tt{2.7}$). This is because there are some big differences between $\\tt{python 2.X}$ and $\\tt{python 3.X}$ which prevent a sizeable portion of $\\tt{python 2}$ users to stick with it since moving to $\\tt{python 3}$ would require a lot of work to adapt the code (this process is usually called *porting*).\n",
    "\n",
    "**We will go for $\\tt{python 3.7}$ !**\n",
    "\n",
    "### How can I use $\\tt{python}$ ?\n",
    "\n",
    "Once you have installed a $\\tt{python}$ distribution there are various ways of actually using it.\n",
    "\n",
    "* the most immediate way is to just execute $\\tt{python.exe}$ on the command line to get a $\\tt{python}$ console for interacting with the interpreter;\n",
    "* if you are learning $\\tt{python}$ or do some simple data analysis, $\\tt{Jupyter notebooks} $(i.e. this document) allow to see the results of your code as you write it, as well as make notes, plot graphs beside it;\n",
    "* if you are a programmer and want to do more complex things, you'll usually want to split your code between more files to manage your project more easily. For this last case an integrated development environment (IDE) can be very useful. An IDE is a graphical user interface which makes writing complex code easier by providing a text editor, a file browser, a debugger (a tool that helps you to spot mistakes in your code) all in one software application. Good example is $\\tt{PyCharm}$ (https://www.jetbrains.com/pycharm/).\n",
    "\n",
    "### Online courses\n",
    "\n",
    "$\\tt{Python}$ popularity is growing every day so it is very easy to find good (and free) online courses looking into the web. Since in this course we do not have time to cover in depth the potentiality of this language I strongly suggest you to spend some time in watching one of them. One example could be:\n",
    "\n",
    "**MITx: 6.00.1x Introduction to Computer Science and Programming Using Python** \n",
    "https://courses.edx.org/courses/course-v1:MITx+6.00.1x+2T2017_2/course/ \n",
    "\n",
    "\n",
    "## $\\tt{Python}$ basics\n",
    "\n",
    "Every language has *keywords*, those are reserved words that have a special meaning and tell the computer what to do. The first one we see is $\\tt{print}$: it prints to screen whatever is specified between the parenthesis.\n",
    "\n",
    "Good programming practice recommends to document the code you write (it is surprisingly easy to forget what you wanted to do in your code). In $\\tt{python}$ you can add comments to the code starting your sentence with a hash character (#)."
   ]
  },
  {
   "cell_type": "code",
   "execution_count": 1,
   "metadata": {},
   "outputs": [],
   "source": [
    "# print something "
   ]
  },
  {
   "cell_type": "markdown",
   "metadata": {},
   "source": [
    "## Variables\n",
    "\n",
    "Variables are essentially labels you stick to some data (e.g. a number, a string...). Variables and hence data they contain, can be used referenced and manipulated in throughout a program.\n",
    "\n",
    "![](var1.jpeg)\n",
    "\n",
    "A variable can contain every kind of objects and is decleared using the = operator. To inspect the content of a variable it can be used the $\\tt{print}$ statement. "
   ]
  },
  {
   "cell_type": "code",
   "execution_count": 2,
   "metadata": {},
   "outputs": [],
   "source": [
    "# assign a number to a variable X and print it"
   ]
  },
  {
   "cell_type": "code",
   "execution_count": 3,
   "metadata": {},
   "outputs": [],
   "source": [
    "# assign a string and print it"
   ]
  },
  {
   "cell_type": "markdown",
   "metadata": {},
   "source": [
    "Another very useful keyword is $\\tt{type}$, it tells which kind of object is stored in a variable."
   ]
  },
  {
   "cell_type": "code",
   "execution_count": 4,
   "metadata": {},
   "outputs": [],
   "source": [
    "# print type of the previous variables        "
   ]
  },
  {
   "cell_type": "markdown",
   "metadata": {},
   "source": [
    "From now on I can use $\\tt{x}$ as an alias for a number or $\\tt{myphone}$ as a string and manipuate their content for example I can add 5 to $\\tt{x}$:"
   ]
  },
  {
   "cell_type": "code",
   "execution_count": null,
   "metadata": {},
   "outputs": [],
   "source": []
  },
  {
   "cell_type": "markdown",
   "metadata": {},
   "source": [
    "### Variable name rules\n",
    "\n",
    "A $\\tt{python}$ variable name must:\n",
    "* begin with a letter (myphone) or underscore (\\_myphone);\n",
    "* other characters can be letters, numbers or more \\_;\n",
    "* variable names are case-sensitive so myphone and myPhone are two distinct variables.\n",
    "\n",
    "**Keywords are reserved words as such you cannot use as variable names (e.g. $\\tt{print, type, for...}$)**.\n",
    "\n",
    "To use GOOD variable names always choose meaningful names instead of short names (i.e. $\\tt{numberOfCakes}$ is much better than simply $\\tt{n}$), try to be consistent with your conventions (e.g. choose once and for all between $\\tt{number\\_of\\_cakes}$ or $\\tt{numberofcakes}$ or $\\tt{numberOfCakes}$), usually begin a variable name with underscore (\\_) only for a special case (will see later when this is usually done).\n",
    "\n",
    "## Mathematical expressions"
   ]
  },
  {
   "cell_type": "code",
   "execution_count": 5,
   "metadata": {},
   "outputs": [],
   "source": [
    "# + \n",
    "# -\n",
    "# *\n",
    "# / print its type\n",
    "# // integer division\n",
    "# pow, **\n",
    "# parenthesis and precedence"
   ]
  },
  {
   "cell_type": "markdown",
   "metadata": {},
   "source": [
    "As an example of variable manipulation let's try to increment $\\tt{x}$ by 1 and save the result again in $\\tt{x}$. "
   ]
  },
  {
   "cell_type": "code",
   "execution_count": null,
   "metadata": {},
   "outputs": [],
   "source": []
  },
  {
   "cell_type": "markdown",
   "metadata": {},
   "source": [
    "More complex mathematical functions are not directly available:"
   ]
  },
  {
   "cell_type": "code",
   "execution_count": null,
   "metadata": {},
   "outputs": [],
   "source": []
  },
  {
   "cell_type": "markdown",
   "metadata": {},
   "source": [
    "## Modules\n",
    "\n",
    "One very important feature of each language is the ability to reuse code in different programs, e.g. imagine how awful would be if you had to reimplement every time you need it a function to compute the logarithm. \n",
    "Usually there are mechanisms that allow to collect useful routines in *packages* (or *libraries*, or *modules*) so that later they can be called and used by any program may need them.\n",
    "\n",
    "These collections of utilities in $\\tt{python}$ are called *modules* and every time you install it, it comes with a standard set of them. If you need more functionality, you can download more of them (there are zillions of packages out there) or you can of course write your own (which is the goal of this course in the end). \n",
    "\n",
    "Some examples of useful modules we will use are:\n",
    "\n",
    "* Numpy - which provides matrix algebra functionality and much more;\n",
    "* Scipy - which provides a whole series of scientific computing functions;\n",
    "* Pandas - which provides tools for manipulating time series or dataset in general;\n",
    "* Matplotlib - for plotting graphs;\n",
    "* Jupyter - for notebooks like this one.\n",
    "\n",
    "In order to load a module in a $\\tt{python}$ program you can use the $\\tt{import}$ keyword. Information on a module can be retrieved using $\\tt{help}$ and $\\tt{dir}$ keywords: the first write a help message which usually describes the functionalities of a module, the latter list all the available functions of a module.\n",
    "**In order to access a function of a module you have to use the . (dot) operator: module_name.function.**\n",
    "Let's see an example dealing with the $\\tt{math}$ module which implements the most common mathematical functions."
   ]
  },
  {
   "cell_type": "code",
   "execution_count": 6,
   "metadata": {},
   "outputs": [],
   "source": [
    "# make available the math module\n",
    "# list its content"
   ]
  },
  {
   "cell_type": "code",
   "execution_count": 7,
   "metadata": {},
   "outputs": [],
   "source": [
    "# try with help"
   ]
  },
  {
   "cell_type": "code",
   "execution_count": 8,
   "metadata": {},
   "outputs": [],
   "source": [
    "# accessing the logarithm function"
   ]
  },
  {
   "cell_type": "code",
   "execution_count": 9,
   "metadata": {},
   "outputs": [],
   "source": [
    "# accessing the exponential function"
   ]
  },
  {
   "cell_type": "code",
   "execution_count": 10,
   "metadata": {},
   "outputs": [],
   "source": [
    "# yet another type: builtin function"
   ]
  },
  {
   "cell_type": "markdown",
   "metadata": {},
   "source": [
    "Since we are lazy and we don't want to type $\\tt{math.}$ every time we use a function, we can just import the needed ones using the following syntax:"
   ]
  },
  {
   "cell_type": "code",
   "execution_count": 11,
   "metadata": {},
   "outputs": [],
   "source": [
    "# from/import syntax"
   ]
  },
  {
   "cell_type": "markdown",
   "metadata": {},
   "source": [
    "As an example let's compute the interest rate $r$ that produces a return $R$ of about 11000 Euro when investing 10000 Euro for 2 years:\n",
    "\n",
    "$R = N\\mathrm{e}^{r\\tau} \\rightarrow r = \\frac{1}{\\tau} \\mathrm{log}(\\frac{R}{N})$"
   ]
  },
  {
   "cell_type": "code",
   "execution_count": null,
   "metadata": {},
   "outputs": [],
   "source": []
  },
  {
   "cell_type": "markdown",
   "metadata": {},
   "source": [
    "## Boolean expressions\n",
    "\n",
    "The expressions we have seen so far evaluate to a number. Boolean expressions evaluate to $\\tt{true}$ or $\\tt{false}$ only. This type of expressions usually involve logical or comparison operators like $\\tt{or}$, $\\tt{and}$, > (greater than), < (less than)...\n",
    "Let's see some example.\n",
    "The following expression answer the question is 1 equal to 2:"
   ]
  },
  {
   "cell_type": "code",
   "execution_count": 12,
   "metadata": {},
   "outputs": [],
   "source": [
    "# single = assigns a value to a variable like in x = 9\n",
    "# double == checks the equality of two objects"
   ]
  },
  {
   "cell_type": "code",
   "execution_count": 13,
   "metadata": {},
   "outputs": [],
   "source": [
    "# != is the \"not equal to\" operator"
   ]
  },
  {
   "cell_type": "code",
   "execution_count": 14,
   "metadata": {},
   "outputs": [],
   "source": [
    "# <\n",
    "# <="
   ]
  },
  {
   "cell_type": "code",
   "execution_count": 15,
   "metadata": {},
   "outputs": [],
   "source": [
    "# <= and"
   ]
  },
  {
   "cell_type": "code",
   "execution_count": 16,
   "metadata": {},
   "outputs": [],
   "source": [
    "# <=  or"
   ]
  },
  {
   "cell_type": "code",
   "execution_count": 17,
   "metadata": {},
   "outputs": [],
   "source": [
    "# the not keyword negates the following expression"
   ]
  },
  {
   "cell_type": "markdown",
   "metadata": {},
   "source": [
    "## String expressions\n",
    "\n",
    "A \"string\" is a sequence of characters (letters, digits, spaces, punctuation, new lines...). There are many operations that can be performed on strings, like concatenate (with + operator), truncate, replace..."
   ]
  },
  {
   "cell_type": "code",
   "execution_count": 18,
   "metadata": {},
   "outputs": [],
   "source": [
    "# a string"
   ]
  },
  {
   "cell_type": "code",
   "execution_count": 19,
   "metadata": {},
   "outputs": [],
   "source": [
    "# replace"
   ]
  },
  {
   "cell_type": "code",
   "execution_count": 20,
   "metadata": {},
   "outputs": [],
   "source": [
    "# concatenate with + "
   ]
  },
  {
   "cell_type": "code",
   "execution_count": 21,
   "metadata": {},
   "outputs": [],
   "source": [
    "# this causes an error since we are trying to concatenate a string \n",
    "# with a number so two different kind of objects"
   ]
  },
  {
   "cell_type": "markdown",
   "metadata": {},
   "source": [
    "To avoid this error is possible to **cast** an object to a different type, $\\tt{python}$ will try then to convert it to the desired type. \n",
    "In this case we can *force* the number four to be represented as a string with the $\\tt{str()}$ function:"
   ]
  },
  {
   "cell_type": "code",
   "execution_count": 22,
   "metadata": {},
   "outputs": [],
   "source": [
    "# cast with str()"
   ]
  },
  {
   "cell_type": "code",
   "execution_count": 23,
   "metadata": {},
   "outputs": [],
   "source": [
    "# print types to see the difference"
   ]
  },
  {
   "cell_type": "markdown",
   "metadata": {},
   "source": [
    "Type casting is not always possible though: for example a number can be converted to a string (e.g. from the integer 4 to the actual symbol \"4\") but the opposite is not possible (e.g. cannot convert the string \"matteo\" to a meaningful number). Here we use the function $\\tt{int()}$ to try to convert a string to an integer."
   ]
  },
  {
   "cell_type": "code",
   "execution_count": 24,
   "metadata": {},
   "outputs": [],
   "source": [
    "# cast non funzionante"
   ]
  },
  {
   "cell_type": "code",
   "execution_count": 25,
   "metadata": {},
   "outputs": [],
   "source": [
    "# cast funzionante"
   ]
  },
  {
   "cell_type": "markdown",
   "metadata": {},
   "source": [
    "In order to get prettier strings than just concatenating with +, $\\tt{python}$ allows to format text using the following syntax (which for example allows for float rounding):"
   ]
  },
  {
   "cell_type": "code",
   "execution_count": 26,
   "metadata": {},
   "outputs": [],
   "source": [
    "# string formatting"
   ]
  },
  {
   "cell_type": "markdown",
   "metadata": {},
   "source": [
    "## Indented blocks and the $\\tt{if/elif/else}$ statement\n",
    "\n",
    "Unlike other languages which uses parenthesis to isolate blocks of code $\\tt{python}$ uses indentation. A first example of this is given by the $\\tt{if/then}$ statements. Such statements allow to dynamically run different blocks of code based on certain conditions.\n",
    "For example in the following we print different statements according to the value of $\\tt{x}$, note the that the block of code to be run according each condition is shifted (i.e. indented) with respect to the rest of the code:"
   ]
  },
  {
   "cell_type": "code",
   "execution_count": 27,
   "metadata": {},
   "outputs": [],
   "source": [
    "# if with 2 cases"
   ]
  },
  {
   "cell_type": "code",
   "execution_count": 28,
   "metadata": {},
   "outputs": [
    {
     "ename": "IndentationError",
     "evalue": "expected an indented block (<ipython-input-28-aca19b7afe2b>, line 3)",
     "output_type": "error",
     "traceback": [
      "\u001b[0;36m  File \u001b[0;32m\"<ipython-input-28-aca19b7afe2b>\"\u001b[0;36m, line \u001b[0;32m3\u001b[0m\n\u001b[0;31m    print (\"This will not be printed\")\u001b[0m\n\u001b[0m        ^\u001b[0m\n\u001b[0;31mIndentationError\u001b[0m\u001b[0;31m:\u001b[0m expected an indented block\n"
     ]
    }
   ],
   "source": [
    "# wrong if no indent\n",
    "if x == 1: \n",
    "print (\"This will not be printed\")\n",
    "elif x == 15:\n",
    "    print (\"This will not be printed either\")\n",
    "else:\n",
    "    print (\"This *will* be printed\")"
   ]
  },
  {
   "cell_type": "markdown",
   "metadata": {},
   "source": [
    "As an example, in C++ the previous code would have been:\n",
    "\n",
    "```c++\n",
    "if (x == 1) {\n",
    " print (\"This will not be printed\");\n",
    "}\n",
    "else if (x == 15) {\n",
    "  print (\"This will not be printed either\");\n",
    "}\n",
    "else {\n",
    "print (\"This *will* be printed\");\n",
    "}\n",
    "```\n",
    "\n",
    "N.B. Notice how indentation doesn't matter at all here since the blocks are enclosed and defined by the brackets.\n",
    "\n",
    "## Loops\n",
    "\n",
    "Another very important feature of a language is the ability to repeatedly run the same block of code many times. These is called looping and in $\\tt{python}$ can be done with $\\tt{for}$ or $\\tt{while}$ keywords.\n",
    "\n",
    "### for\n",
    "\n",
    "In a $\\tt{for}$ loop we specifiy the set (or interval) over which we want to loop and a variable will assume all the values in that set (or interval).\n",
    "For example let's assume we want to print all the numbers between 25 and 30 excluded (here the function $\\tt{range}$ returns the list of integers between the specified limits, if the first limit is not specified 0 is assumed):"
   ]
  },
  {
   "cell_type": "code",
   "execution_count": null,
   "metadata": {},
   "outputs": [],
   "source": [
    "# simple for"
   ]
  },
  {
   "cell_type": "markdown",
   "metadata": {},
   "source": [
    "At each loop the variable $\\tt{i}$ will take one of the values between 25 and 31. \n",
    "With $\\tt{range}$ it is also possible to specify the step, so that it is possible to loop every 2 or to go in descending order:"
   ]
  },
  {
   "cell_type": "code",
   "execution_count": 29,
   "metadata": {},
   "outputs": [],
   "source": [
    "# for in reverse order"
   ]
  },
  {
   "cell_type": "markdown",
   "metadata": {},
   "source": [
    "If we want to skip values in the loop we have to use the $\\tt{continue}$ keyword, below 5 is actually missing from the list in the printout:"
   ]
  },
  {
   "cell_type": "code",
   "execution_count": 30,
   "metadata": {},
   "outputs": [],
   "source": [
    "# skip with continue"
   ]
  },
  {
   "cell_type": "markdown",
   "metadata": {},
   "source": [
    "Instead of using $\\tt{range}$ it is possbile to specify directly the set of looping values:"
   ]
  },
  {
   "cell_type": "code",
   "execution_count": 31,
   "metadata": {},
   "outputs": [],
   "source": [
    "# explicit loop on tuple"
   ]
  },
  {
   "cell_type": "markdown",
   "metadata": {},
   "source": [
    "Looping on a string actually means to loop on each single character:"
   ]
  },
  {
   "cell_type": "code",
   "execution_count": 32,
   "metadata": {},
   "outputs": [],
   "source": [
    "# loop on a string"
   ]
  },
  {
   "cell_type": "markdown",
   "metadata": {},
   "source": [
    "### while\n",
    "\n",
    "In a $\\tt{for}$ loop we go through all the elements of a list of objects, the ```while``` statement instead repeats the same block of code untill a condition is met."
   ]
  },
  {
   "cell_type": "code",
   "execution_count": 33,
   "metadata": {},
   "outputs": [],
   "source": [
    "# while example"
   ]
  },
  {
   "cell_type": "markdown",
   "metadata": {},
   "source": [
    "It is possible to exit prematurely from a ```while``` loop using the $\\tt{break}$ keyword. In this case the condition is simply ```True``` so the code would run forever unless we set an exit strategy."
   ]
  },
  {
   "cell_type": "code",
   "execution_count": 34,
   "metadata": {},
   "outputs": [],
   "source": [
    "# while w/o condition"
   ]
  },
  {
   "cell_type": "markdown",
   "metadata": {},
   "source": [
    "## Containers\n",
    "\n",
    "Containers are objects that collect other objects. There are essentially three kind of containers in $\\tt{python}$.\n",
    "\n",
    "### Lists\n",
    "\n",
    "A list in $\\tt{python}$ contains a *mutable* and ordered sequence of elements (items). Each item can be accessed using squared brackets (list indexing is zero-based). Every list is called mutable since you can add, remove or\n",
    "update the items in the list. Ordered instead means that items are kept in the same order they have been added to the list (but can also be sorted with a custom criteria)."
   ]
  },
  {
   "cell_type": "code",
   "execution_count": 35,
   "metadata": {},
   "outputs": [],
   "source": [
    "# create a list and print its type"
   ]
  },
  {
   "cell_type": "code",
   "execution_count": 36,
   "metadata": {},
   "outputs": [],
   "source": [
    "# show the number of items"
   ]
  },
  {
   "cell_type": "code",
   "execution_count": 37,
   "metadata": {},
   "outputs": [],
   "source": [
    "# access elements"
   ]
  },
  {
   "cell_type": "code",
   "execution_count": 38,
   "metadata": {},
   "outputs": [
    {
     "ename": "NameError",
     "evalue": "name 'mylist' is not defined",
     "output_type": "error",
     "traceback": [
      "\u001b[0;31m---------------------------------------------------------------------------\u001b[0m",
      "\u001b[0;31mNameError\u001b[0m                                 Traceback (most recent call last)",
      "\u001b[0;32m<ipython-input-38-cbe1cad8b2f2>\u001b[0m in \u001b[0;36m<module>\u001b[0;34m\u001b[0m\n\u001b[1;32m      1\u001b[0m \u001b[0;31m# we can change list items since it's *mutable*\u001b[0m\u001b[0;34m\u001b[0m\u001b[0;34m\u001b[0m\u001b[0m\n\u001b[0;32m----> 2\u001b[0;31m \u001b[0mmylist\u001b[0m\u001b[0;34m\u001b[0m\u001b[0m\n\u001b[0m",
      "\u001b[0;31mNameError\u001b[0m: name 'mylist' is not defined"
     ]
    }
   ],
   "source": [
    "# we can change list items since it's *mutable*\n",
    "mylist"
   ]
  },
  {
   "cell_type": "code",
   "execution_count": null,
   "metadata": {},
   "outputs": [],
   "source": [
    "# error ! it doesn't exists"
   ]
  },
  {
   "cell_type": "code",
   "execution_count": null,
   "metadata": {},
   "outputs": [],
   "source": [
    "# negative index starts from the last element"
   ]
  },
  {
   "cell_type": "code",
   "execution_count": null,
   "metadata": {},
   "outputs": [],
   "source": [
    "# slicing"
   ]
  },
  {
   "cell_type": "code",
   "execution_count": null,
   "metadata": {},
   "outputs": [],
   "source": [
    "mylist[:2] # elements up to but excluding item 2"
   ]
  },
  {
   "cell_type": "code",
   "execution_count": null,
   "metadata": {},
   "outputs": [],
   "source": [
    "# append add an item at the end of the list\n",
    "mylist"
   ]
  },
  {
   "cell_type": "code",
   "execution_count": null,
   "metadata": {},
   "outputs": [],
   "source": [
    "# insert an item in the desired position "
   ]
  },
  {
   "cell_type": "code",
   "execution_count": null,
   "metadata": {},
   "outputs": [],
   "source": [
    "# iterate over the list"
   ]
  },
  {
   "cell_type": "code",
   "execution_count": null,
   "metadata": {},
   "outputs": [],
   "source": [
    "# for by index"
   ]
  },
  {
   "cell_type": "code",
   "execution_count": null,
   "metadata": {},
   "outputs": [],
   "source": [
    "# for by enumerate"
   ]
  },
  {
   "cell_type": "code",
   "execution_count": null,
   "metadata": {},
   "outputs": [],
   "source": [
    "# list comprehension"
   ]
  },
  {
   "cell_type": "code",
   "execution_count": null,
   "metadata": {},
   "outputs": [],
   "source": [
    "# list can contain everything"
   ]
  },
  {
   "cell_type": "code",
   "execution_count": null,
   "metadata": {},
   "outputs": [],
   "source": [
    "# indices must be integers"
   ]
  },
  {
   "cell_type": "markdown",
   "metadata": {},
   "source": [
    "## Dictionaries\n",
    "\n",
    "Unlike lists that maps integer to objects, dictionaries are objects which map keys to values. Keys can be (almost) any kind of object (strings, numbers...).\n",
    "\n",
    "$$\"apple\" \\rightarrow 4 $$\n",
    "$$\"banana\" \\rightarrow 5 $$\n",
    "\n",
    "Dictionaries are very flexible and we will see that thay can be very useful to represent many kind of data."
   ]
  },
  {
   "cell_type": "code",
   "execution_count": null,
   "metadata": {},
   "outputs": [],
   "source": [
    "# create a dictionary and access data"
   ]
  },
  {
   "cell_type": "code",
   "execution_count": null,
   "metadata": {},
   "outputs": [],
   "source": [
    "# error ! this key doesn't exists"
   ]
  },
  {
   "cell_type": "code",
   "execution_count": null,
   "metadata": {},
   "outputs": [],
   "source": [
    "# check key existance"
   ]
  },
  {
   "cell_type": "code",
   "execution_count": null,
   "metadata": {},
   "outputs": [],
   "source": [
    "# len again"
   ]
  },
  {
   "cell_type": "code",
   "execution_count": null,
   "metadata": {},
   "outputs": [],
   "source": [
    "# add and change items"
   ]
  },
  {
   "cell_type": "code",
   "execution_count": null,
   "metadata": {},
   "outputs": [],
   "source": [
    "# key and values can be almost everything"
   ]
  },
  {
   "cell_type": "code",
   "execution_count": null,
   "metadata": {},
   "outputs": [],
   "source": [
    "# loop by keys"
   ]
  },
  {
   "cell_type": "code",
   "execution_count": null,
   "metadata": {},
   "outputs": [],
   "source": [
    "# loop by values"
   ]
  },
  {
   "cell_type": "code",
   "execution_count": null,
   "metadata": {},
   "outputs": [],
   "source": [
    "# loop by both"
   ]
  },
  {
   "cell_type": "code",
   "execution_count": null,
   "metadata": {},
   "outputs": [],
   "source": [
    "# update and del"
   ]
  },
  {
   "cell_type": "markdown",
   "metadata": {},
   "source": [
    "# Advanced hints\n",
    "\n",
    "If you would like to know much **more** about python during the course you can look these videos in your spare time:\n",
    "\n",
    "Some more information about different kind of languages:\n",
    "https://www.youtube.com/watch?v=9oYFH4OmYDY\n",
    "\n",
    "Basic data types:\n",
    "https://www.youtube.com/watch?v=XIjrEt2lz1U\n",
    "\n",
    "Variables:\n",
    "https://www.youtube.com/watch?v=z2NLjdfxEyQ\n",
    "\n",
    "Branching:\n",
    "https://www.youtube.com/watch?v=8vr3nyg5QcM\n",
    "\n",
    "Tuples:\n",
    "https://www.youtube.com/watch?v=CwZyWaap5Z8\n",
    "\n",
    "Lists:\n",
    "https://www.youtube.com/watch?v=eMyWO0tcxKg\n",
    "\n",
    "List Operations:\n",
    "https://www.youtube.com/watch?v=rQBho4-bI3o\n",
    "\n",
    "Mutation, Aliasing, Cloning:\n",
    "https://www.youtube.com/watch?v=2SRXg8Or-Pc\n",
    "\n",
    "Dictionaries:\n",
    "https://www.youtube.com/watch?v=elSt5hke-Rs"
   ]
  }
 ],
 "metadata": {
  "kernelspec": {
   "display_name": "Python 3",
   "language": "python",
   "name": "python3"
  },
  "language_info": {
   "codemirror_mode": {
    "name": "ipython",
    "version": 3
   },
   "file_extension": ".py",
   "mimetype": "text/x-python",
   "name": "python",
   "nbconvert_exporter": "python",
   "pygments_lexer": "ipython3",
   "version": "3.6.3"
  }
 },
 "nbformat": 4,
 "nbformat_minor": 2
}
