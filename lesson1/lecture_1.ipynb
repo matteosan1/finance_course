{
 "cells": [
  {
   "cell_type": "markdown",
   "metadata": {},
   "source": [
    "# Introduction to $\\tt{python}$\n",
    "\n",
    "In the last years $\\tt{python}$ popularity has rapidily grown posing this language in the top three of the most used in the world. The reasons of such a success are mainly:\n",
    "\n",
    "* it is versatile, easy to use and allow fast development;\n",
    "* it is open source and has behind it a vibrant community;\n",
    "* It has all the libraries you can imagine.\n",
    "\n",
    "Despite the perfomance penalty developers began to use it in fields like finance and physics historically devoted to other languages like $\\tt{C++}$ or $\\tt{java}$.\n",
    "In the first two lessons of this course we'll take a tour of the $\\tt{python}$ programming language. Later on we will see how to write functions and classes which would actually be useful in a real-world finance environment.\n",
    "\n",
    "## What is $\\tt{python}$\n",
    "\n",
    "$\\tt{Python}$ is a so called *interpreted language*: it takes some code, i.e. a sequence of instructions, reads and executes it (in this respect, and only in this one, $\\tt{python}$ is similar to $\\tt{Excel VBA}$). As a result, $\\tt{python}$ is essentially an *interactive* programming language, you can program and see the results almost at the same time. \n",
    "Other programming languages like $\\tt{C}$ or $\\tt{C++}$ instead first *compile* code into a language that the computer can understand directly (*machine language*) and then you can run it. \n",
    "\n",
    "![Interpreted vs compiled language](index.png)\n",
    "\n",
    "Interactivity is very nice in terms of speed of development (the compilation step can be time conuming for big projects, just to give an idea the compilation of our C++ financial code takes more than one hour) but it has performance drawbacks since the translation from human readable to machine language hs to be done real'time.\n",
    "\n",
    "![Human readable vs machine suitable code](machine_language.jpeg)\n",
    "\n",
    "### Which $\\tt{python}$ should I use ?\n",
    "\n",
    "$\\tt{Python}$, as basically all programs, comes in different version and flavours and they evolves very rapidly as you can see by the number of updates the apps in your mobile phone receives.\n",
    "\n",
    "The latest version is $\\tt{3.8.5}$, however you'll see older versions floating around (e.g. $\\tt{2.7}$). This is because there are some big differences between $\\tt{python 2}$ and $\\tt{python 3}$ which prevent a sizeable portion of $\\tt{python 2}$ users to stick with it since moving to $\\tt{python 3}$ would require a lot of work to adapt the code (this process is usually called *porting*).\n",
    "\n",
    "**We will go for $\\tt{python 3.7}$ !**\n",
    "\n",
    "### How can I use $\\tt{python}$ ?\n",
    "\n",
    "Once you have installed a $\\tt{python}$ distribution there are various ways of actually using it.\n",
    "\n",
    "* the most immediate way is to just execute $\\tt{python.exe}$ on the command line to get a $\\tt{python}$ console for interacting with the interpreter;\n",
    "* if you are learning $\\tt{python}$ or do some simple data analysis, $\\tt{Jupyter~~notebooks} $(i.e. this document) allow to see the results of your code as you write it, as well as make notes, plot graphs beside it;\n",
    "* if you are a programmer and want to do more complex things, you'll usually want to split your code between more files to manage your project more easily. For this last case an integrated development environment (IDE) can be very useful. An IDE is a graphical user interface which makes writing complex code easier by providing a text editor, a file browser, a debugger (a tool that helps you to spot mistakes in your code) all in one software application. Good example is $\\tt{PyCharm}$ (https://www.jetbrains.com/pycharm/).\n",
    "\n",
    "### Online courses\n",
    "\n",
    "$\\tt{Python}$ popularity is growing every day so it is very easy to find good (and free) online courses looking into the web. Since in this course we do not have time to cover in depth the potentiality of this language I strongly suggest you to spend some time in watching one of them. One example could be\n",
    "\n",
    "**MITx: 6.00.1x Introduction to Computer Science and Programming Using Python** \n",
    "https://courses.edx.org/courses/course-v1:MITx+6.00.1x+2T2017_2/course/ \n",
    "\n",
    "\n",
    "## $\\tt{Python}$ basics\n",
    "\n",
    "Every language has *keywords*, those are reserved words (usually plain English words) that have a special meaning and tell the computer what to do. The first one we see is $\\tt{print}$: it prints to screen whatever is specified between the parenthesis."
   ]
  },
  {
   "cell_type": "code",
   "execution_count": 2,
   "metadata": {},
   "outputs": [
    {
     "name": "stdout",
     "output_type": "stream",
     "text": [
      "Hello world !\n"
     ]
    }
   ],
   "source": [
    "print (\"Hello world !\") "
   ]
  },
  {
   "cell_type": "code",
   "execution_count": 3,
   "metadata": {},
   "outputs": [
    {
     "name": "stdout",
     "output_type": "stream",
     "text": [
      "Welcome\n",
      "to\n",
      "everybody\n"
     ]
    }
   ],
   "source": [
    "print (\"Welcome\")\n",
    "print (\"to\")\n",
    "print (\"everybody\")"
   ]
  },
  {
   "cell_type": "markdown",
   "metadata": {},
   "source": [
    "Good programming practice recommends to document the code you write (it is surprisingly easy to forget what you wanted to do in your code). In $\\tt{python}$ you can add comments to the code starting your sentence with a hash character (#)."
   ]
  },
  {
   "cell_type": "code",
   "execution_count": 4,
   "metadata": {},
   "outputs": [
    {
     "name": "stdout",
     "output_type": "stream",
     "text": [
      "Ciao\n"
     ]
    }
   ],
   "source": [
    "# this is a comment and the next line prints \"Ciao\"\n",
    "print (\"Ciao\") # comments like this are useful to explain what's going on in the \n",
    "               # code you write"
   ]
  },
  {
   "cell_type": "markdown",
   "metadata": {},
   "source": [
    "## Variables\n",
    "\n",
    "Variables allow to symbolically associate some data (e.g. a numerical value) to a label. Variables can be used and their values manipulated throughout a program.\n",
    "\n",
    "![](var1.jpeg) ![](var2.jpeg)\n",
    "\n",
    "A variable can contain every kind of objects and is decleared using the = operator. To inspect the content of a variable it can be used the $\\tt{print}$ keyword. "
   ]
  },
  {
   "cell_type": "code",
   "execution_count": 5,
   "metadata": {},
   "outputs": [
    {
     "name": "stdout",
     "output_type": "stream",
     "text": [
      "9\n"
     ]
    }
   ],
   "source": [
    "x = 9 # assign number 9 to variable named x\n",
    "print (x) "
   ]
  },
  {
   "cell_type": "code",
   "execution_count": 6,
   "metadata": {},
   "outputs": [
    {
     "name": "stdout",
     "output_type": "stream",
     "text": [
      "Huawei P10Lite\n"
     ]
    }
   ],
   "source": [
    "myphone = \"Huawei P10Lite\" # in this case the variable contains a string\n",
    "print (myphone)"
   ]
  },
  {
   "cell_type": "markdown",
   "metadata": {},
   "source": [
    "Another very useful keyword is $\\tt{type}$, it tells which kind of object is stored in a variable."
   ]
  },
  {
   "cell_type": "code",
   "execution_count": 7,
   "metadata": {},
   "outputs": [
    {
     "name": "stdout",
     "output_type": "stream",
     "text": [
      "<class 'int'>\n",
      "<class 'str'>\n"
     ]
    }
   ],
   "source": [
    "print (type(x))        \n",
    "                      \n",
    "print (type(myphone)) # int->integer, str->string we will see later in more\n",
    "                      # detail what is a string"
   ]
  },
  {
   "cell_type": "markdown",
   "metadata": {},
   "source": [
    "Like in a real program in jupyter notebook whenever a variable is created it could be used in everywhere in it. So from now on $\\tt{x}$ and $\\tt{myphone}$  can be used and their content manipulated; for example I can add 5 to $\\tt{x}$:"
   ]
  },
  {
   "cell_type": "code",
   "execution_count": 8,
   "metadata": {},
   "outputs": [
    {
     "name": "stdout",
     "output_type": "stream",
     "text": [
      "14\n"
     ]
    }
   ],
   "source": [
    "print (x+5) # remember x was set to 9 initially"
   ]
  },
  {
   "cell_type": "markdown",
   "metadata": {},
   "source": [
    "### Variable name rules\n",
    "\n",
    "Unfortunately there are rules to choose the name of variables:\n",
    "* begin with a letter (myphone) or underscore (\\_myphone);\n",
    "* other characters can be letters, numbers or more \\_;\n",
    "* variable names are case-sensitive so myphone and myPhone are two distinct variables.\n",
    "\n",
    "**Keywords are reserved words, as such you cannot use as variable names (e.g. $\\tt{print, type, for...}$)**.\n",
    "\n",
    "Now few suggestions: to use GOOD variable names always choose meaningful names instead of short names (i.e. $\\tt{numberOfCakes}$ is much better than simply $\\tt{n}$), try to be consistent with your conventions (e.g. choose once and for all between $\\tt{number\\_of\\_cakes}$ or $\\tt{numberofcakes}$ or $\\tt{numberOfCakes}$), usually begin a variable name with underscore (\\_) only for a special case (will see later when this is usually done).\n",
    "\n",
    "## Mathematical expressions"
   ]
  },
  {
   "cell_type": "code",
   "execution_count": 9,
   "metadata": {},
   "outputs": [
    {
     "data": {
      "text/plain": [
       "3"
      ]
     },
     "execution_count": 9,
     "metadata": {},
     "output_type": "execute_result"
    }
   ],
   "source": [
    "1 + 2"
   ]
  },
  {
   "cell_type": "code",
   "execution_count": 10,
   "metadata": {},
   "outputs": [
    {
     "data": {
      "text/plain": [
       "35"
      ]
     },
     "execution_count": 10,
     "metadata": {},
     "output_type": "execute_result"
    }
   ],
   "source": [
    "40 - 5"
   ]
  },
  {
   "cell_type": "code",
   "execution_count": 11,
   "metadata": {},
   "outputs": [
    {
     "data": {
      "text/plain": [
       "180"
      ]
     },
     "execution_count": 11,
     "metadata": {},
     "output_type": "execute_result"
    }
   ],
   "source": [
    "x * 20 # remember that we set x equal to 9"
   ]
  },
  {
   "cell_type": "code",
   "execution_count": 12,
   "metadata": {},
   "outputs": [
    {
     "data": {
      "text/plain": [
       "2.25"
      ]
     },
     "execution_count": 12,
     "metadata": {},
     "output_type": "execute_result"
    }
   ],
   "source": [
    "x / 4"
   ]
  },
  {
   "cell_type": "code",
   "execution_count": 13,
   "metadata": {},
   "outputs": [
    {
     "name": "stdout",
     "output_type": "stream",
     "text": [
      "<class 'float'>\n"
     ]
    }
   ],
   "source": [
    "print (type(2.25)) # this is a new type: floating-point value"
   ]
  },
  {
   "cell_type": "code",
   "execution_count": 14,
   "metadata": {},
   "outputs": [
    {
     "data": {
      "text/plain": [
       "2"
      ]
     },
     "execution_count": 14,
     "metadata": {},
     "output_type": "execute_result"
    }
   ],
   "source": [
    "x // 4 # interger division - result will be truncated to the \n",
    "       # corresponding integer (no rounding)\n",
    "       # 11 / 3 = 3.666666 -> 11 // 3 = 3"
   ]
  },
  {
   "cell_type": "code",
   "execution_count": 15,
   "metadata": {},
   "outputs": [
    {
     "data": {
      "text/plain": [
       "729"
      ]
     },
     "execution_count": 15,
     "metadata": {},
     "output_type": "execute_result"
    }
   ],
   "source": [
    "y = 3\n",
    "x ** y # x to the power of y, 9**3"
   ]
  },
  {
   "cell_type": "code",
   "execution_count": 3,
   "metadata": {},
   "outputs": [
    {
     "data": {
      "text/plain": [
       "30"
      ]
     },
     "execution_count": 3,
     "metadata": {},
     "output_type": "execute_result"
    }
   ],
   "source": [
    "3 * (x + y)"
   ]
  },
  {
   "cell_type": "markdown",
   "metadata": {},
   "source": [
    "As an example of variable manipulation let's try to increment $\\tt{x}$ by 1 and save the result again in $\\tt{x}$. "
   ]
  },
  {
   "cell_type": "code",
   "execution_count": 17,
   "metadata": {},
   "outputs": [
    {
     "name": "stdout",
     "output_type": "stream",
     "text": [
      "9\n",
      "10\n"
     ]
    }
   ],
   "source": [
    "print (x)\n",
    "x = x + 1\n",
    "print (x)"
   ]
  },
  {
   "cell_type": "markdown",
   "metadata": {},
   "source": [
    "More complex mathematical functions are not directly available, let's see for example the logarithm:"
   ]
  },
  {
   "cell_type": "code",
   "execution_count": 17,
   "metadata": {},
   "outputs": [
    {
     "ename": "NameError",
     "evalue": "name 'log' is not defined",
     "output_type": "error",
     "traceback": [
      "\u001b[0;31m---------------------------------------------------------------------------\u001b[0m",
      "\u001b[0;31mNameError\u001b[0m                                 Traceback (most recent call last)",
      "\u001b[0;32m<ipython-input-17-ffde4d60496a>\u001b[0m in \u001b[0;36m<module>\u001b[0;34m()\u001b[0m\n\u001b[0;32m----> 1\u001b[0;31m \u001b[0mlog\u001b[0m\u001b[0;34m(\u001b[0m\u001b[0;36m3\u001b[0m\u001b[0;34m)\u001b[0m \u001b[0;31m# causes an error because the logarithm function\u001b[0m\u001b[0;34m\u001b[0m\u001b[0;34m\u001b[0m\u001b[0m\n\u001b[0m\u001b[1;32m      2\u001b[0m        \u001b[0;31m# is not available by default\u001b[0m\u001b[0;34m\u001b[0m\u001b[0;34m\u001b[0m\u001b[0;34m\u001b[0m\u001b[0m\n",
      "\u001b[0;31mNameError\u001b[0m: name 'log' is not defined"
     ]
    }
   ],
   "source": [
    "log(3)"
   ]
  },
  {
   "cell_type": "markdown",
   "metadata": {},
   "source": [
    "## Modules\n",
    "\n",
    "One very important feature of each language is the ability to reuse code in different programs, e.g. imagine how awful would be if you had to reimplement every time you need it a function to compute the logarithm. \n",
    "Usually there are mechanisms that allow to collect useful routines in *packages* (or *libraries*, or *modules*) so that later they can be called and used by any program may need them.\n",
    "\n",
    "In $\\tt{python}$ these collections of utilities are called *modules* and every time you install it, it comes with a standard set of them. If you need more functionality, you can download more of them (there are zillions of packages out there) or you can of course write your own (which is the goal of this course in the end). \n",
    "\n",
    "Some examples of useful modules we will use are:\n",
    "\n",
    "* Numpy - which provides matrix algebra functionality and much more;\n",
    "* Scipy - which provides a whole series of scientific computing functions;\n",
    "* Pandas - which provides tools for manipulating time series or dataset in general;\n",
    "* Matplotlib - for plotting graphs;\n",
    "* Jupyter - for notebooks like this one.\n",
    "\n",
    "![Python has many modules for download on the web...](python.png)\n",
    "\n",
    "In order to load a module in a $\\tt{python}$ program you can use the $\\tt{import}$ keyword. Information on a module can be retrieved either using $\\tt{help}$ or $\\tt{dir}$ keywords: the first write a help message which usually describes the functionalities of a module, the latter list all the available functions of a module.\n",
    "**In order to access a function of a module you have to use the . (dot) operator: module_name.function.**\n",
    "Let's see an example dealing with the $\\tt{math}$ module which implements the most common mathematical functions."
   ]
  },
  {
   "cell_type": "code",
   "execution_count": 4,
   "metadata": {},
   "outputs": [
    {
     "data": {
      "text/plain": [
       "['__doc__',\n",
       " '__file__',\n",
       " '__loader__',\n",
       " '__name__',\n",
       " '__package__',\n",
       " '__spec__',\n",
       " 'acos',\n",
       " 'acosh',\n",
       " 'asin',\n",
       " 'asinh',\n",
       " 'atan',\n",
       " 'atan2',\n",
       " 'atanh',\n",
       " 'ceil',\n",
       " 'copysign',\n",
       " 'cos',\n",
       " 'cosh',\n",
       " 'degrees',\n",
       " 'e',\n",
       " 'erf',\n",
       " 'erfc',\n",
       " 'exp',\n",
       " 'expm1',\n",
       " 'fabs',\n",
       " 'factorial',\n",
       " 'floor',\n",
       " 'fmod',\n",
       " 'frexp',\n",
       " 'fsum',\n",
       " 'gamma',\n",
       " 'gcd',\n",
       " 'hypot',\n",
       " 'inf',\n",
       " 'isclose',\n",
       " 'isfinite',\n",
       " 'isinf',\n",
       " 'isnan',\n",
       " 'ldexp',\n",
       " 'lgamma',\n",
       " 'log',\n",
       " 'log10',\n",
       " 'log1p',\n",
       " 'log2',\n",
       " 'modf',\n",
       " 'nan',\n",
       " 'pi',\n",
       " 'pow',\n",
       " 'radians',\n",
       " 'sin',\n",
       " 'sinh',\n",
       " 'sqrt',\n",
       " 'tan',\n",
       " 'tanh',\n",
       " 'tau',\n",
       " 'trunc']"
      ]
     },
     "execution_count": 4,
     "metadata": {},
     "output_type": "execute_result"
    }
   ],
   "source": [
    "import math # make available the math module\n",
    "dir(math) # list its content"
   ]
  },
  {
   "cell_type": "code",
   "execution_count": 5,
   "metadata": {},
   "outputs": [
    {
     "name": "stdout",
     "output_type": "stream",
     "text": [
      "Help on module math:\n",
      "\n",
      "NAME\n",
      "    math\n",
      "\n",
      "MODULE REFERENCE\n",
      "    https://docs.python.org/3.6/library/math\n",
      "    \n",
      "    The following documentation is automatically generated from the Python\n",
      "    source files.  It may be incomplete, incorrect or include features that\n",
      "    are considered implementation detail and may vary between Python\n",
      "    implementations.  When in doubt, consult the module reference at the\n",
      "    location listed above.\n",
      "\n",
      "DESCRIPTION\n",
      "    This module is always available.  It provides access to the\n",
      "    mathematical functions defined by the C standard.\n",
      "\n",
      "FUNCTIONS\n",
      "    acos(...)\n",
      "        acos(x)\n",
      "        \n",
      "        Return the arc cosine (measured in radians) of x.\n",
      "    \n",
      "    acosh(...)\n",
      "        acosh(x)\n",
      "        \n",
      "        Return the inverse hyperbolic cosine of x.\n",
      "    \n",
      "    asin(...)\n",
      "        asin(x)\n",
      "        \n",
      "        Return the arc sine (measured in radians) of x.\n",
      "    \n",
      "    asinh(...)\n",
      "        asinh(x)\n",
      "        \n",
      "        Return the inverse hyperbolic sine of x.\n",
      "    \n",
      "    atan(...)\n",
      "        atan(x)\n",
      "        \n",
      "        Return the arc tangent (measured in radians) of x.\n",
      "    \n",
      "    atan2(...)\n",
      "        atan2(y, x)\n",
      "        \n",
      "        Return the arc tangent (measured in radians) of y/x.\n",
      "        Unlike atan(y/x), the signs of both x and y are considered.\n",
      "    \n",
      "    atanh(...)\n",
      "        atanh(x)\n",
      "        \n",
      "        Return the inverse hyperbolic tangent of x.\n",
      "    \n",
      "    ceil(...)\n",
      "        ceil(x)\n",
      "        \n",
      "        Return the ceiling of x as an Integral.\n",
      "        This is the smallest integer >= x.\n",
      "    \n",
      "    copysign(...)\n",
      "        copysign(x, y)\n",
      "        \n",
      "        Return a float with the magnitude (absolute value) of x but the sign \n",
      "        of y. On platforms that support signed zeros, copysign(1.0, -0.0) \n",
      "        returns -1.0.\n",
      "    \n",
      "    cos(...)\n",
      "        cos(x)\n",
      "        \n",
      "        Return the cosine of x (measured in radians).\n",
      "    \n",
      "    cosh(...)\n",
      "        cosh(x)\n",
      "        \n",
      "        Return the hyperbolic cosine of x.\n",
      "    \n",
      "    degrees(...)\n",
      "        degrees(x)\n",
      "        \n",
      "        Convert angle x from radians to degrees.\n",
      "    \n",
      "    erf(...)\n",
      "        erf(x)\n",
      "        \n",
      "        Error function at x.\n",
      "    \n",
      "    erfc(...)\n",
      "        erfc(x)\n",
      "        \n",
      "        Complementary error function at x.\n",
      "    \n",
      "    exp(...)\n",
      "        exp(x)\n",
      "        \n",
      "        Return e raised to the power of x.\n",
      "    \n",
      "    expm1(...)\n",
      "        expm1(x)\n",
      "        \n",
      "        Return exp(x)-1.\n",
      "        This function avoids the loss of precision involved in the direct evaluation of exp(x)-1 for small x.\n",
      "    \n",
      "    fabs(...)\n",
      "        fabs(x)\n",
      "        \n",
      "        Return the absolute value of the float x.\n",
      "    \n",
      "    factorial(...)\n",
      "        factorial(x) -> Integral\n",
      "        \n",
      "        Find x!. Raise a ValueError if x is negative or non-integral.\n",
      "    \n",
      "    floor(...)\n",
      "        floor(x)\n",
      "        \n",
      "        Return the floor of x as an Integral.\n",
      "        This is the largest integer <= x.\n",
      "    \n",
      "    fmod(...)\n",
      "        fmod(x, y)\n",
      "        \n",
      "        Return fmod(x, y), according to platform C.  x % y may differ.\n",
      "    \n",
      "    frexp(...)\n",
      "        frexp(x)\n",
      "        \n",
      "        Return the mantissa and exponent of x, as pair (m, e).\n",
      "        m is a float and e is an int, such that x = m * 2.**e.\n",
      "        If x is 0, m and e are both 0.  Else 0.5 <= abs(m) < 1.0.\n",
      "    \n",
      "    fsum(...)\n",
      "        fsum(iterable)\n",
      "        \n",
      "        Return an accurate floating point sum of values in the iterable.\n",
      "        Assumes IEEE-754 floating point arithmetic.\n",
      "    \n",
      "    gamma(...)\n",
      "        gamma(x)\n",
      "        \n",
      "        Gamma function at x.\n",
      "    \n",
      "    gcd(...)\n",
      "        gcd(x, y) -> int\n",
      "        greatest common divisor of x and y\n",
      "    \n",
      "    hypot(...)\n",
      "        hypot(x, y)\n",
      "        \n",
      "        Return the Euclidean distance, sqrt(x*x + y*y).\n",
      "    \n",
      "    isclose(...)\n",
      "        isclose(a, b, *, rel_tol=1e-09, abs_tol=0.0) -> bool\n",
      "        \n",
      "        Determine whether two floating point numbers are close in value.\n",
      "        \n",
      "           rel_tol\n",
      "               maximum difference for being considered \"close\", relative to the\n",
      "               magnitude of the input values\n",
      "            abs_tol\n",
      "               maximum difference for being considered \"close\", regardless of the\n",
      "               magnitude of the input values\n",
      "        \n",
      "        Return True if a is close in value to b, and False otherwise.\n",
      "        \n",
      "        For the values to be considered close, the difference between them\n",
      "        must be smaller than at least one of the tolerances.\n",
      "        \n",
      "        -inf, inf and NaN behave similarly to the IEEE 754 Standard.  That\n",
      "        is, NaN is not close to anything, even itself.  inf and -inf are\n",
      "        only close to themselves.\n",
      "    \n",
      "    isfinite(...)\n",
      "        isfinite(x) -> bool\n",
      "        \n",
      "        Return True if x is neither an infinity nor a NaN, and False otherwise.\n",
      "    \n",
      "    isinf(...)\n",
      "        isinf(x) -> bool\n",
      "        \n",
      "        Return True if x is a positive or negative infinity, and False otherwise.\n",
      "    \n",
      "    isnan(...)\n",
      "        isnan(x) -> bool\n",
      "        \n",
      "        Return True if x is a NaN (not a number), and False otherwise.\n",
      "    \n",
      "    ldexp(...)\n",
      "        ldexp(x, i)\n",
      "        \n",
      "        Return x * (2**i).\n",
      "    \n",
      "    lgamma(...)\n",
      "        lgamma(x)\n",
      "        \n",
      "        Natural logarithm of absolute value of Gamma function at x.\n",
      "    \n",
      "    log(...)\n",
      "        log(x[, base])\n",
      "        \n",
      "        Return the logarithm of x to the given base.\n",
      "        If the base not specified, returns the natural logarithm (base e) of x.\n",
      "    \n",
      "    log10(...)\n",
      "        log10(x)\n",
      "        \n",
      "        Return the base 10 logarithm of x.\n",
      "    \n",
      "    log1p(...)\n",
      "        log1p(x)\n",
      "        \n",
      "        Return the natural logarithm of 1+x (base e).\n",
      "        The result is computed in a way which is accurate for x near zero.\n",
      "    \n",
      "    log2(...)\n",
      "        log2(x)\n",
      "        \n",
      "        Return the base 2 logarithm of x.\n",
      "    \n",
      "    modf(...)\n",
      "        modf(x)\n",
      "        \n",
      "        Return the fractional and integer parts of x.  Both results carry the sign\n",
      "        of x and are floats.\n",
      "    \n",
      "    pow(...)\n",
      "        pow(x, y)\n",
      "        \n",
      "        Return x**y (x to the power of y).\n",
      "    \n",
      "    radians(...)\n",
      "        radians(x)\n",
      "        \n",
      "        Convert angle x from degrees to radians.\n",
      "    \n",
      "    sin(...)\n",
      "        sin(x)\n",
      "        \n",
      "        Return the sine of x (measured in radians).\n",
      "    \n",
      "    sinh(...)\n",
      "        sinh(x)\n",
      "        \n",
      "        Return the hyperbolic sine of x.\n",
      "    \n",
      "    sqrt(...)\n",
      "        sqrt(x)\n",
      "        \n",
      "        Return the square root of x.\n",
      "    \n",
      "    tan(...)\n",
      "        tan(x)\n",
      "        \n",
      "        Return the tangent of x (measured in radians).\n",
      "    \n",
      "    tanh(...)\n",
      "        tanh(x)\n",
      "        \n",
      "        Return the hyperbolic tangent of x.\n",
      "    \n",
      "    trunc(...)\n",
      "        trunc(x:Real) -> Integral\n",
      "        \n",
      "        Truncates x to the nearest Integral toward 0. Uses the __trunc__ magic method.\n",
      "\n",
      "DATA\n",
      "    e = 2.718281828459045\n",
      "    inf = inf\n",
      "    nan = nan\n",
      "    pi = 3.141592653589793\n",
      "    tau = 6.283185307179586\n",
      "\n",
      "FILE\n",
      "    /home/sani/anaconda3/envs/.python3/lib/python3.6/lib-dynload/math.cpython-36m-x86_64-linux-gnu.so\n",
      "\n",
      "\n"
     ]
    }
   ],
   "source": [
    "help(math)"
   ]
  },
  {
   "cell_type": "code",
   "execution_count": 19,
   "metadata": {},
   "outputs": [
    {
     "data": {
      "text/plain": [
       "1.0986122886681098"
      ]
     },
     "execution_count": 19,
     "metadata": {},
     "output_type": "execute_result"
    }
   ],
   "source": [
    "math.log(3) # accessing the logarithm function"
   ]
  },
  {
   "cell_type": "code",
   "execution_count": 20,
   "metadata": {},
   "outputs": [
    {
     "data": {
      "text/plain": [
       "20.085536923187668"
      ]
     },
     "execution_count": 20,
     "metadata": {},
     "output_type": "execute_result"
    }
   ],
   "source": [
    "math.exp(3) # accessing the exponential function"
   ]
  },
  {
   "cell_type": "code",
   "execution_count": 21,
   "metadata": {},
   "outputs": [
    {
     "name": "stdout",
     "output_type": "stream",
     "text": [
      "<class 'builtin_function_or_method'>\n",
      "<class 'float'>\n"
     ]
    }
   ],
   "source": [
    "print (type(math.log)) # yet another type: builtin function\n",
    "print (type(math.log(3)))"
   ]
  },
  {
   "cell_type": "markdown",
   "metadata": {},
   "source": [
    "Since we are lazy and we don't want to type \"math.\" every time we compute a logarithm or an exponential, we can just import the needed functions from a module using the following syntax:"
   ]
  },
  {
   "cell_type": "code",
   "execution_count": 7,
   "metadata": {},
   "outputs": [
    {
     "name": "stdout",
     "output_type": "stream",
     "text": [
      "1.0986122886681098\n",
      "20.085536923187668\n"
     ]
    }
   ],
   "source": [
    "from math import log, exp\n",
    "print (log(3))\n",
    "print (exp(3))"
   ]
  },
  {
   "cell_type": "markdown",
   "metadata": {},
   "source": [
    "As an example let's compute the interest rate $r$ that produces a return $R$ of 11000 Euro when investing 10000 Euro for 2 years:\n",
    "\n",
    "$R = N\\mathrm{e}^{r\\tau} \\rightarrow r = \\frac{1}{\\tau} \\mathrm{log}(\\frac{R}{N})$"
   ]
  },
  {
   "cell_type": "code",
   "execution_count": 11,
   "metadata": {},
   "outputs": [
    {
     "name": "stdout",
     "output_type": "stream",
     "text": [
      "0.04765508990216247\n"
     ]
    }
   ],
   "source": [
    "rate = (1/2)*log(11000/10000)\n",
    "print (rate)"
   ]
  },
  {
   "cell_type": "markdown",
   "metadata": {},
   "source": [
    "## Boolean expressions\n",
    "\n",
    "Boolean expressions are quite peculiar since evaluate to $\\tt{true}$ or $\\tt{false}$ only. This type of expressions usually involve logical or comparison operators like $\\tt{or}$, $\\tt{and}$, > (greater than), < (less than)...\n",
    "Let's see some example.\n",
    "The following expression answer the question is 1 equal to 2:"
   ]
  },
  {
   "cell_type": "code",
   "execution_count": 24,
   "metadata": {},
   "outputs": [
    {
     "data": {
      "text/plain": [
       "False"
      ]
     },
     "execution_count": 24,
     "metadata": {},
     "output_type": "execute_result"
    }
   ],
   "source": [
    "1 == 2 \n",
    "# single = assigns a value to a variable like in x = 9\n",
    "# double == checks the equality of two objects"
   ]
  },
  {
   "cell_type": "code",
   "execution_count": 25,
   "metadata": {},
   "outputs": [
    {
     "data": {
      "text/plain": [
       "True"
      ]
     },
     "execution_count": 25,
     "metadata": {},
     "output_type": "execute_result"
    }
   ],
   "source": [
    "1 != 2 # != is the \"not equal to\" operator"
   ]
  },
  {
   "cell_type": "code",
   "execution_count": 26,
   "metadata": {},
   "outputs": [
    {
     "data": {
      "text/plain": [
       "False"
      ]
     },
     "execution_count": 26,
     "metadata": {},
     "output_type": "execute_result"
    }
   ],
   "source": [
    "2 < 2"
   ]
  },
  {
   "cell_type": "code",
   "execution_count": 27,
   "metadata": {},
   "outputs": [
    {
     "data": {
      "text/plain": [
       "True"
      ]
     },
     "execution_count": 27,
     "metadata": {},
     "output_type": "execute_result"
    }
   ],
   "source": [
    "2 <= 2  # in this case we allow the numbers to be equal too"
   ]
  },
  {
   "cell_type": "code",
   "execution_count": 28,
   "metadata": {},
   "outputs": [
    {
     "name": "stdout",
     "output_type": "stream",
     "text": [
      "11\n"
     ]
    },
    {
     "data": {
      "text/plain": [
       "False"
      ]
     },
     "execution_count": 28,
     "metadata": {},
     "output_type": "execute_result"
    }
   ],
   "source": [
    "print (x)\n",
    "15 <= x and x <= 20 "
   ]
  },
  {
   "cell_type": "code",
   "execution_count": 29,
   "metadata": {},
   "outputs": [
    {
     "data": {
      "text/plain": [
       "True"
      ]
     },
     "execution_count": 29,
     "metadata": {},
     "output_type": "execute_result"
    }
   ],
   "source": [
    "15 <= x or x <= 20"
   ]
  },
  {
   "cell_type": "code",
   "execution_count": 30,
   "metadata": {},
   "outputs": [
    {
     "data": {
      "text/plain": [
       "True"
      ]
     },
     "execution_count": 30,
     "metadata": {},
     "output_type": "execute_result"
    }
   ],
   "source": [
    "not (x > 20) # the not keyword negates the following expression"
   ]
  },
  {
   "cell_type": "markdown",
   "metadata": {},
   "source": [
    "## String expressions\n",
    "\n",
    "A \"string\" is a sequence of characters (letters, digits, spaces, punctuation, new lines...). There are many operations that can be performed on strings, like concatenate (with + operator), truncate, replace..."
   ]
  },
  {
   "cell_type": "code",
   "execution_count": 14,
   "metadata": {},
   "outputs": [],
   "source": [
    "mystring = \"some text with punctuation, spaces and digits 10\""
   ]
  },
  {
   "cell_type": "code",
   "execution_count": 16,
   "metadata": {},
   "outputs": [
    {
     "data": {
      "text/plain": [
       "'zome text with punctuation, zpacez and digitz 10'"
      ]
     },
     "execution_count": 16,
     "metadata": {},
     "output_type": "execute_result"
    }
   ],
   "source": [
    "mystring.replace(\"s\", \"z\")"
   ]
  },
  {
   "cell_type": "code",
   "execution_count": 15,
   "metadata": {},
   "outputs": [
    {
     "data": {
      "text/plain": [
       "'abcdef'"
      ]
     },
     "execution_count": 15,
     "metadata": {},
     "output_type": "execute_result"
    }
   ],
   "source": [
    "\"abc\" + \"def\"  "
   ]
  },
  {
   "cell_type": "code",
   "execution_count": 33,
   "metadata": {},
   "outputs": [
    {
     "ename": "TypeError",
     "evalue": "can only concatenate str (not \"int\") to str",
     "output_type": "error",
     "traceback": [
      "\u001b[0;31m---------------------------------------------------------------------------\u001b[0m",
      "\u001b[0;31mTypeError\u001b[0m                                 Traceback (most recent call last)",
      "\u001b[0;32m<ipython-input-33-b9f65c5a45f7>\u001b[0m in \u001b[0;36m<module>\u001b[0;34m()\u001b[0m\n\u001b[0;32m----> 1\u001b[0;31m \u001b[0;34m\"The number \"\u001b[0m \u001b[0;34m+\u001b[0m \u001b[0;36m4\u001b[0m \u001b[0;34m+\u001b[0m \u001b[0;34m\" is my favourite number\"\u001b[0m\u001b[0;34m\u001b[0m\u001b[0;34m\u001b[0m\u001b[0m\n\u001b[0m\u001b[1;32m      2\u001b[0m \u001b[0;31m# this causes an error since we are trying to concatenate a string\u001b[0m\u001b[0;34m\u001b[0m\u001b[0;34m\u001b[0m\u001b[0;34m\u001b[0m\u001b[0m\n\u001b[1;32m      3\u001b[0m \u001b[0;31m# with a number so two different kind of objects\u001b[0m\u001b[0;34m\u001b[0m\u001b[0;34m\u001b[0m\u001b[0;34m\u001b[0m\u001b[0m\n",
      "\u001b[0;31mTypeError\u001b[0m: can only concatenate str (not \"int\") to str"
     ]
    }
   ],
   "source": [
    "\"The number \" + 4 + \" is my favourite number\"\n",
    "# this causes an error since we are trying to concatenate a string \n",
    "# with a number so two different kind of objects"
   ]
  },
  {
   "cell_type": "markdown",
   "metadata": {},
   "source": [
    "To avoid this error is possible to **cast** an object to a different type, $\\tt{python}$ will try then to convert it to the desired type. \n",
    "In this case we can *force* the number four to be represented as a string with the $\\tt{str()}$ function:"
   ]
  },
  {
   "cell_type": "code",
   "execution_count": 34,
   "metadata": {},
   "outputs": [
    {
     "data": {
      "text/plain": [
       "'The number 4 is my favourite number'"
      ]
     },
     "execution_count": 34,
     "metadata": {},
     "output_type": "execute_result"
    }
   ],
   "source": [
    "\"The number \" + str(4) + \" is my favourite number\""
   ]
  },
  {
   "cell_type": "code",
   "execution_count": 4,
   "metadata": {},
   "outputs": [
    {
     "name": "stdout",
     "output_type": "stream",
     "text": [
      "<class 'int'>\n",
      "<class 'str'>\n"
     ]
    }
   ],
   "source": [
    "print (type(4))\n",
    "print (type(str(4)))"
   ]
  },
  {
   "cell_type": "markdown",
   "metadata": {},
   "source": [
    "Type casting is not always possible though: for example a number can be converted to a string (e.g. from the integer 4 to the actual symbol \"4\") but the opposite is not possible (e.g. cannot convert the string \"matteo\" to a meaningful number). Here we use the function $\\tt{int()}$ to try to convert a string to an integer."
   ]
  },
  {
   "cell_type": "code",
   "execution_count": 5,
   "metadata": {},
   "outputs": [
    {
     "data": {
      "text/plain": [
       "4"
      ]
     },
     "execution_count": 5,
     "metadata": {},
     "output_type": "execute_result"
    }
   ],
   "source": [
    "int(\"4\")"
   ]
  },
  {
   "cell_type": "code",
   "execution_count": 6,
   "metadata": {},
   "outputs": [
    {
     "ename": "ValueError",
     "evalue": "invalid literal for int() with base 10: 'matteo'",
     "output_type": "error",
     "traceback": [
      "\u001b[0;31m---------------------------------------------------------------------------\u001b[0m",
      "\u001b[0;31mValueError\u001b[0m                                Traceback (most recent call last)",
      "\u001b[0;32m<ipython-input-6-979283bb65e4>\u001b[0m in \u001b[0;36m<module>\u001b[0;34m\u001b[0m\n\u001b[0;32m----> 1\u001b[0;31m \u001b[0mint\u001b[0m\u001b[0;34m(\u001b[0m\u001b[0;34m\"matteo\"\u001b[0m\u001b[0;34m)\u001b[0m\u001b[0;34m\u001b[0m\u001b[0m\n\u001b[0m",
      "\u001b[0;31mValueError\u001b[0m: invalid literal for int() with base 10: 'matteo'"
     ]
    }
   ],
   "source": [
    "int(\"matteo\")"
   ]
  },
  {
   "cell_type": "markdown",
   "metadata": {},
   "source": [
    "In order to get prettier strings than just concatenating with +, $\\tt{python}$ allows to format text using the following syntax (which for example allows for float rounding):"
   ]
  },
  {
   "cell_type": "code",
   "execution_count": 20,
   "metadata": {},
   "outputs": [
    {
     "data": {
      "text/plain": [
       "'The speed of light is about 299792.5 km/s'"
      ]
     },
     "execution_count": 20,
     "metadata": {},
     "output_type": "execute_result"
    }
   ],
   "source": [
    "\"The speed of light is about {:.1f} {}\".format(299792.458, \"km/s\")\n",
    "# each {} is mapped to the variables listed later in the \"format\""
   ]
  },
  {
   "cell_type": "markdown",
   "metadata": {},
   "source": [
    "## Indented blocks and the $\\tt{if/elif/else}$ statement\n",
    "\n",
    "Unlike other languages which uses parenthesis to isolate blocks of code $\\tt{python}$ uses indentation. A first example of this is given by the $\\tt{if/elif/else}$ statements. Such statements allow to dynamically run different blocks of code based on certain conditions.\n",
    "For example in the following we print different statements according to the value of $\\tt{x}$, note the that the block of code to be run according each condition is shifted (i.e. indented) with respect to the rest of the code:"
   ]
  },
  {
   "cell_type": "code",
   "execution_count": 21,
   "metadata": {},
   "outputs": [
    {
     "name": "stdout",
     "output_type": "stream",
     "text": [
      "16\n",
      "This *will* be printed\n"
     ]
    }
   ],
   "source": [
    "print (x)\n",
    "if x == 1: \n",
    "    print (\"This will not be printed\") \n",
    "    # the block of code that is run if the first condition is met is indented\n",
    "elif x == 15:\n",
    "    print (\"This will not be printed either\")\n",
    "    # again the block of code that is run here is indented to be \"isolated\" by the rest \n",
    "else:\n",
    "    print (\"This *will* be printed\")"
   ]
  },
  {
   "cell_type": "markdown",
   "metadata": {},
   "source": [
    "If by mistake I forget to indent some block I get an error:"
   ]
  },
  {
   "cell_type": "code",
   "execution_count": 8,
   "metadata": {},
   "outputs": [
    {
     "ename": "IndentationError",
     "evalue": "expected an indented block (<ipython-input-8-2a233276770c>, line 2)",
     "output_type": "error",
     "traceback": [
      "\u001b[0;36m  File \u001b[0;32m\"<ipython-input-8-2a233276770c>\"\u001b[0;36m, line \u001b[0;32m2\u001b[0m\n\u001b[0;31m    print (\"This will not be printed\")\u001b[0m\n\u001b[0m        ^\u001b[0m\n\u001b[0;31mIndentationError\u001b[0m\u001b[0;31m:\u001b[0m expected an indented block\n"
     ]
    }
   ],
   "source": [
    "if x == 1: \n",
    "print (\"This will not be printed\")\n",
    "elif x == 15:\n",
    "    print (\"This will not be printed neither\")\n",
    "else:\n",
    "    print (\"This *will* be printed\")"
   ]
  },
  {
   "cell_type": "markdown",
   "metadata": {},
   "source": [
    "As an example, in C++ the previous code would have been:\n",
    "\n",
    "```c++\n",
    "if (x == 1) {\n",
    " print (\"This will not be printed\");\n",
    "}\n",
    "else if (x == 15) {\n",
    "  print (\"This will not be printed either\");\n",
    "}\n",
    "else {\n",
    "print (\"This *will* be printed\");\n",
    "}\n",
    "```\n",
    "\n",
    "N.B. Notice how indentation doesn't matter at all here since the blocks are enclosed and defined by the brackets.\n",
    "\n",
    "## Loops\n",
    "\n",
    "Another very important feature of a language is the ability to repeatedly run the same block of code many times. These is called looping and in $\\tt{python}$ can be done with $\\tt{for}$ or $\\tt{while}$ keywords.\n",
    "\n",
    "### for\n",
    "\n",
    "In a $\\tt{for}$ loop we specifiy the set (or interval) over which we want to loop and a variable will assume all the values in that set (or interval).\n",
    "For example let's assume we want to print all the numbers between 25 and 30 **excluded** (here the function $\\tt{range}$ returns the list of integers between the specified limits, if the first limit is not specified 0 is assumed):"
   ]
  },
  {
   "cell_type": "code",
   "execution_count": 41,
   "metadata": {},
   "outputs": [
    {
     "name": "stdout",
     "output_type": "stream",
     "text": [
      "25\n",
      "26\n",
      "27\n",
      "28\n",
      "29\n"
     ]
    }
   ],
   "source": [
    "for i in range(25, 30): \n",
    "    print (i)"
   ]
  },
  {
   "cell_type": "markdown",
   "metadata": {},
   "source": [
    "At each loop the variable $\\tt{i}$ will take one of the values between 25 and 31. \n",
    "With $\\tt{range}$ it is also possible to specify the step, so that it is possible to loop every 2 or to go in descending order:"
   ]
  },
  {
   "cell_type": "code",
   "execution_count": 42,
   "metadata": {},
   "outputs": [
    {
     "name": "stdout",
     "output_type": "stream",
     "text": [
      "30\n",
      "29\n",
      "28\n",
      "27\n",
      "26\n"
     ]
    }
   ],
   "source": [
    "for i in range (30, 25, -1): \n",
    "    print (i)"
   ]
  },
  {
   "cell_type": "markdown",
   "metadata": {},
   "source": [
    "If we want to skip values in the loop we have to use the $\\tt{continue}$ keyword, below 5 is actually missing from the list in the printout:"
   ]
  },
  {
   "cell_type": "code",
   "execution_count": 43,
   "metadata": {},
   "outputs": [
    {
     "name": "stdout",
     "output_type": "stream",
     "text": [
      "0\n",
      "1\n",
      "2\n",
      "3\n",
      "4\n",
      "6\n",
      "7\n",
      "8\n",
      "9\n"
     ]
    }
   ],
   "source": [
    "for i in range(10):\n",
    "    if i == 5:\n",
    "        continue \n",
    "    print (i)"
   ]
  },
  {
   "cell_type": "markdown",
   "metadata": {},
   "source": [
    "Instead of using $\\tt{range}$ it is possbile to specify directly the set of looping values:"
   ]
  },
  {
   "cell_type": "code",
   "execution_count": 44,
   "metadata": {},
   "outputs": [
    {
     "name": "stdout",
     "output_type": "stream",
     "text": [
      "4\n",
      "6\n",
      "10\n",
      "20\n"
     ]
    }
   ],
   "source": [
    "for i in (4, 6, 10, 20): \n",
    "    print (i)"
   ]
  },
  {
   "cell_type": "markdown",
   "metadata": {},
   "source": [
    "Looping on a string actually means to loop on each single character:"
   ]
  },
  {
   "cell_type": "code",
   "execution_count": 45,
   "metadata": {},
   "outputs": [
    {
     "name": "stdout",
     "output_type": "stream",
     "text": [
      "h\n",
      "o\n",
      "w\n",
      " \n",
      "t\n",
      "o\n",
      " \n",
      "l\n",
      "o\n",
      "o\n",
      "p\n",
      " \n",
      "o\n",
      "v\n",
      "e\n",
      "r\n",
      " \n",
      "a\n",
      " \n",
      "s\n",
      "t\n",
      "r\n",
      "i\n",
      "n\n",
      "g\n"
     ]
    }
   ],
   "source": [
    "phrase = 'how to loop over a string'\n",
    "for c in phrase:\n",
    "    print (c)"
   ]
  },
  {
   "cell_type": "markdown",
   "metadata": {},
   "source": [
    "### while\n",
    "\n",
    "In a $\\tt{for}$ loop we go through all the elements of a list of objects, the ```while``` statement instead repeats the same block of code untill a condition is met.\n",
    "The following block of code is run if ```x``` squared is less than 50, we first set ```x=1``` and at each iteration we increment it by 1 untill the condition is ```True```, (indeed 8 squared is 64 which is greater than 50):"
   ]
  },
  {
   "cell_type": "code",
   "execution_count": 9,
   "metadata": {},
   "outputs": [
    {
     "name": "stdout",
     "output_type": "stream",
     "text": [
      "1 1\n",
      "2 4\n",
      "3 9\n",
      "4 16\n",
      "5 25\n",
      "6 36\n",
      "7 49\n"
     ]
    }
   ],
   "source": [
    "x = 1\n",
    "while (x ** 2) < 50: \n",
    "    print (x, x**2)\n",
    "    x = x + 1 "
   ]
  },
  {
   "cell_type": "markdown",
   "metadata": {},
   "source": [
    "It is possible to exit prematurely from a ```while``` loop using the $\\tt{break}$ keyword. In this case the condition is simply ```True``` so the code would run forever unless we set an exit strategy."
   ]
  },
  {
   "cell_type": "code",
   "execution_count": 47,
   "metadata": {},
   "outputs": [
    {
     "name": "stdout",
     "output_type": "stream",
     "text": [
      "1\n",
      "2\n",
      "3\n",
      "4\n",
      "5\n",
      "6\n",
      "7\n"
     ]
    }
   ],
   "source": [
    "x = 1\n",
    "while True: \n",
    "    if (x ** 2) > 50: \n",
    "        break \n",
    "    print (x, x**2)\n",
    "    x = x + 1 "
   ]
  },
  {
   "cell_type": "markdown",
   "metadata": {},
   "source": [
    "## Lists\n",
    "\n",
    "A list in $\\tt{python}$ is a container that is a *mutable*, ordered sequence of elements. Each element or value that is inside of a list is called an item. Each item can be accessed by index using square brackets (very important, list indexing is zero-based so the first element is the 0th). \n",
    "A list is considered mutable since you can add, remove or update the items in the list. Ordered instead means that items are kept in the same order they have been added to the list."
   ]
  },
  {
   "cell_type": "code",
   "execution_count": 10,
   "metadata": {},
   "outputs": [
    {
     "name": "stdout",
     "output_type": "stream",
     "text": [
      "[21, 32, 15]\n",
      "<class 'list'>\n"
     ]
    }
   ],
   "source": [
    "mylist = list()\n",
    "mylist = [21, 32, 15]\n",
    "print(mylist)\n",
    "print (type(mylist))"
   ]
  },
  {
   "cell_type": "code",
   "execution_count": 24,
   "metadata": {},
   "outputs": [
    {
     "data": {
      "text/plain": [
       "21"
      ]
     },
     "execution_count": 24,
     "metadata": {},
     "output_type": "execute_result"
    }
   ],
   "source": [
    "mylist[0]"
   ]
  },
  {
   "cell_type": "markdown",
   "metadata": {},
   "source": [
    "The number of elements in a list are counted using ```len()```:"
   ]
  },
  {
   "cell_type": "code",
   "execution_count": 25,
   "metadata": {},
   "outputs": [
    {
     "data": {
      "text/plain": [
       "3"
      ]
     },
     "execution_count": 25,
     "metadata": {},
     "output_type": "execute_result"
    }
   ],
   "source": [
    "len(mylist)"
   ]
  },
  {
   "cell_type": "markdown",
   "metadata": {},
   "source": [
    "Looping on list items can be achieved in two ways: using directly the list or by index:"
   ]
  },
  {
   "cell_type": "code",
   "execution_count": 11,
   "metadata": {},
   "outputs": [
    {
     "name": "stdout",
     "output_type": "stream",
     "text": [
      "Loop using the list itself:\n",
      "21\n",
      "32\n",
      "15\n",
      "Loop by index:\n",
      "21\n",
      "32\n",
      "15\n"
     ]
    }
   ],
   "source": [
    "print (\"Loop using the list itself:\")\n",
    "for l in mylist:\n",
    "    print (l)\n",
    "\n",
    "print (\"Loop by index:\")\n",
    "for i in range(len(mylist)): # len() returns the number of items in a list\n",
    "    print (mylist[i])"
   ]
  },
  {
   "cell_type": "markdown",
   "metadata": {},
   "source": [
    "With the ```enumerate``` function is actually possible to do both at the same time, it returns two values, the index of the item and its value, so in the example below, ```i``` will take the item index values while ```item``` the item value itself:"
   ]
  },
  {
   "cell_type": "code",
   "execution_count": 12,
   "metadata": {},
   "outputs": [
    {
     "name": "stdout",
     "output_type": "stream",
     "text": [
      "0 21\n",
      "1 32\n",
      "2 15\n"
     ]
    }
   ],
   "source": [
    "for i, item in enumerate(mylist):                     \n",
    "    print (i, item)"
   ]
  },
  {
   "cell_type": "markdown",
   "metadata": {},
   "source": [
    "Since a list is mutable we can dynamically change its items:"
   ]
  },
  {
   "cell_type": "code",
   "execution_count": 13,
   "metadata": {},
   "outputs": [
    {
     "name": "stdout",
     "output_type": "stream",
     "text": [
      "[21, 74, 15]\n"
     ]
    }
   ],
   "source": [
    "mylist[1] = 74 # we can change list items since it's *mutable*\n",
    "print (mylist)"
   ]
  },
  {
   "cell_type": "markdown",
   "metadata": {},
   "source": [
    "With ```append``` an item is added at the end of list, with ```insert``` an item can be added in a desired position of the list:"
   ]
  },
  {
   "cell_type": "code",
   "execution_count": 34,
   "metadata": {},
   "outputs": [
    {
     "data": {
      "text/plain": [
       "[21, 74, 15, 188]"
      ]
     },
     "execution_count": 34,
     "metadata": {},
     "output_type": "execute_result"
    }
   ],
   "source": [
    "mylist.append(188) # append add an item at the end of the list\n",
    "print (mylist)"
   ]
  },
  {
   "cell_type": "code",
   "execution_count": 35,
   "metadata": {},
   "outputs": [
    {
     "data": {
      "text/plain": [
       "[21, 74, 85, 15, 188]"
      ]
     },
     "execution_count": 35,
     "metadata": {},
     "output_type": "execute_result"
    }
   ],
   "source": [
    "mylist.insert(2, 85) # insert an item in the desired position \n",
    "                     # (2 in this example)\n",
    "print (mylist)"
   ]
  },
  {
   "cell_type": "markdown",
   "metadata": {},
   "source": [
    "Accessing items outside the list range gives an error:"
   ]
  },
  {
   "cell_type": "code",
   "execution_count": 36,
   "metadata": {},
   "outputs": [
    {
     "ename": "IndexError",
     "evalue": "list index out of range",
     "output_type": "error",
     "traceback": [
      "\u001b[0;31m---------------------------------------------------------------------------\u001b[0m",
      "\u001b[0;31mIndexError\u001b[0m                                Traceback (most recent call last)",
      "\u001b[0;32m<ipython-input-36-ed1e5e6c3e46>\u001b[0m in \u001b[0;36m<module>\u001b[0;34m\u001b[0m\n\u001b[0;32m----> 1\u001b[0;31m \u001b[0mmylist\u001b[0m\u001b[0;34m[\u001b[0m\u001b[0;36m10\u001b[0m\u001b[0;34m]\u001b[0m \u001b[0;31m# error ! it doesn't exists, the list has only 3\u001b[0m\u001b[0;34m\u001b[0m\u001b[0m\n\u001b[0m\u001b[1;32m      2\u001b[0m           \u001b[0;31m# elements, so the last is item 2\u001b[0m\u001b[0;34m\u001b[0m\u001b[0;34m\u001b[0m\u001b[0m\n",
      "\u001b[0;31mIndexError\u001b[0m: list index out of range"
     ]
    }
   ],
   "source": [
    "mylist[10] # error ! it doesn't exists, the list has only 3 \n",
    "          # elements, so the last is item 2"
   ]
  },
  {
   "cell_type": "markdown",
   "metadata": {},
   "source": [
    "There are two more nice features of $\\tt{python}$ indexing: negative indices are like positive ones except that they starts from the last element, and *slicing* which allows to specify a range of indices."
   ]
  },
  {
   "cell_type": "code",
   "execution_count": 14,
   "metadata": {},
   "outputs": [
    {
     "name": "stdout",
     "output_type": "stream",
     "text": [
      "negative index -1 returns the last element: 15\n",
      "slicing [1:3] returns the elements between the 1st and 2nd: [74, 15]\n",
      "slicing [:2] returns the elements between the 1st and 2nd: [21, 74]\n",
      "slicing [2:] returns the elements between the 2nd and the last: [15]\n"
     ]
    }
   ],
   "source": [
    "print (\"negative index -1 returns the last element:\", mylist[-1])\n",
    "print (\"slicing [1:3] returns the elements between the 1st and 2nd:\", mylist[1:3])\n",
    "print (\"slicing [:2] returns the elements between the 1st and 2nd:\", mylist[:2])\n",
    "print (\"slicing [2:] returns the elements between the 2nd and the last:\", mylist[2:])"
   ]
  },
  {
   "cell_type": "markdown",
   "metadata": {},
   "source": [
    "It is worth mentioning that a $\\tt{list}$ doesn't have to be populated with the same kind of objects (list indices are instead always integers).  "
   ]
  },
  {
   "cell_type": "code",
   "execution_count": 71,
   "metadata": {},
   "outputs": [
    {
     "name": "stdout",
     "output_type": "stream",
     "text": [
      "[1, 2, 'b', <built-in function sqrt>]\n"
     ]
    }
   ],
   "source": [
    "mixedlist = [1, 2, \"b\", math.sqrt]\n",
    "print (mixedlist)"
   ]
  },
  {
   "cell_type": "code",
   "execution_count": 72,
   "metadata": {},
   "outputs": [
    {
     "name": "stdout",
     "output_type": "stream",
     "text": [
      "1\n"
     ]
    },
    {
     "ename": "TypeError",
     "evalue": "list indices must be integers or slices, not str",
     "output_type": "error",
     "traceback": [
      "\u001b[0;31m---------------------------------------------------------------------------\u001b[0m",
      "\u001b[0;31mTypeError\u001b[0m                                 Traceback (most recent call last)",
      "\u001b[0;32m<ipython-input-72-aea4c7f9789e>\u001b[0m in \u001b[0;36m<module>\u001b[0;34m()\u001b[0m\n\u001b[1;32m      1\u001b[0m \u001b[0mprint\u001b[0m \u001b[0;34m(\u001b[0m\u001b[0mmixedlist\u001b[0m\u001b[0;34m[\u001b[0m\u001b[0;36m0\u001b[0m\u001b[0;34m]\u001b[0m\u001b[0;34m)\u001b[0m\u001b[0;34m\u001b[0m\u001b[0;34m\u001b[0m\u001b[0m\n\u001b[0;32m----> 2\u001b[0;31m \u001b[0mprint\u001b[0m \u001b[0;34m(\u001b[0m\u001b[0mmixedlist\u001b[0m\u001b[0;34m[\u001b[0m\u001b[0;34m'k'\u001b[0m\u001b[0;34m]\u001b[0m\u001b[0;34m)\u001b[0m\u001b[0;34m\u001b[0m\u001b[0;34m\u001b[0m\u001b[0m\n\u001b[0m",
      "\u001b[0;31mTypeError\u001b[0m: list indices must be integers or slices, not str"
     ]
    }
   ],
   "source": [
    "print (mixedlist[0])\n",
    "print (mixedlist['k'])"
   ]
  },
  {
   "cell_type": "markdown",
   "metadata": {},
   "source": [
    "## Dictionaries\n",
    "\n",
    "A we have seen lists are ordered collections of elements and as such we can say that map integers (the index of each item) to values (any kind of ```python``` object). *Dictionaries* generalize such a concept being objects which map *keys* (**almost** any kind of ```python``` object) to values (any kind of ```python``` object). \n",
    "\n",
    "In our previous example of the list we had:\n",
    "\n",
    "$$ 0~(\\textrm{0th item}) \\rightarrow 21$$\n",
    "$$ 1~(\\textrm{1st item}) \\rightarrow 74$$\n",
    "$$ 2~(\\textrm{2nd item}) \\rightarrow 85$$\n",
    "$$ ... $$\n",
    "\n",
    "With a dictionary we can have something like this:\n",
    "\n",
    "$$\"apple\" (\\textrm{key}) \\rightarrow 4 $$\n",
    "$$\"banana\" (\\textrm{key}) \\rightarrow 5 $$\n",
    "\n",
    "As we will see dictionaries are very flexible and will be very usefull to represent complex data structures.\n",
    "\n",
    "In lists we could access items by index, here we do it by key still using the square brackets. Trying to access not existing keys results in error. We can check if a key exists with the ```in``` operator."
   ]
  },
  {
   "cell_type": "code",
   "execution_count": 15,
   "metadata": {},
   "outputs": [
    {
     "name": "stdout",
     "output_type": "stream",
     "text": [
      "4\n"
     ]
    }
   ],
   "source": [
    "adict = dict()\n",
    "adict = {\"apple\": 4, \"banana\": 5}\n",
    "print (adict[\"apple\"])"
   ]
  },
  {
   "cell_type": "code",
   "execution_count": 41,
   "metadata": {},
   "outputs": [
    {
     "ename": "KeyError",
     "evalue": "'pear'",
     "output_type": "error",
     "traceback": [
      "\u001b[0;31m---------------------------------------------------------------------------\u001b[0m",
      "\u001b[0;31mKeyError\u001b[0m                                  Traceback (most recent call last)",
      "\u001b[0;32m<ipython-input-41-9d051ebd10de>\u001b[0m in \u001b[0;36m<module>\u001b[0;34m\u001b[0m\n\u001b[0;32m----> 1\u001b[0;31m \u001b[0madict\u001b[0m\u001b[0;34m[\u001b[0m\u001b[0;34m\"pear\"\u001b[0m\u001b[0;34m]\u001b[0m \u001b[0;31m# error ! this key doesn't exists\u001b[0m\u001b[0;34m\u001b[0m\u001b[0m\n\u001b[0m",
      "\u001b[0;31mKeyError\u001b[0m: 'pear'"
     ]
    }
   ],
   "source": [
    "adict[\"pear\"] # error !"
   ]
  },
  {
   "cell_type": "code",
   "execution_count": 75,
   "metadata": {},
   "outputs": [
    {
     "data": {
      "text/plain": [
       "False"
      ]
     },
     "execution_count": 75,
     "metadata": {},
     "output_type": "execute_result"
    }
   ],
   "source": [
    "\"pear\" in adict # indeed"
   ]
  },
  {
   "cell_type": "markdown",
   "metadata": {},
   "source": [
    "The items can be dynamically created or updated with the assignement ```=``` operator, while again ```len()``` returns the number of items in a dictionary."
   ]
  },
  {
   "cell_type": "code",
   "execution_count": 43,
   "metadata": {},
   "outputs": [
    {
     "name": "stdout",
     "output_type": "stream",
     "text": [
      "3\n",
      "{'apple': 4, 'banana': 2, 'pear': 10}\n"
     ]
    }
   ],
   "source": [
    "adict[\"banana\"] = 2\n",
    "adict[\"pear\"] = 10\n",
    "print (len(adict))\n",
    "print (adict)"
   ]
  },
  {
   "cell_type": "markdown",
   "metadata": {},
   "source": [
    "Dictionaries can be made of more complecated types than simple string and integers:"
   ]
  },
  {
   "cell_type": "code",
   "execution_count": 44,
   "metadata": {},
   "outputs": [],
   "source": [
    "adict[math.log] = math.exp"
   ]
  },
  {
   "cell_type": "markdown",
   "metadata": {},
   "source": [
    "**You cannot have lists as dictionary keys !**\n",
    "\n",
    "Looping over dictionary items can be done key, by value or by both: ```.keys()``` returns the list of keys, ```.values()``` returns the list of values and ```.items()``` the list of pairs key-value."
   ]
  },
  {
   "cell_type": "code",
   "execution_count": 45,
   "metadata": {},
   "outputs": [
    {
     "name": "stdout",
     "output_type": "stream",
     "text": [
      "All keys:  dict_keys(['apple', 'banana', 'pear', <built-in function log>])\n",
      "apple\n",
      "banana\n",
      "pear\n",
      "<built-in function log>\n",
      "\n",
      "All values:  dict_values([4, 2, 10, <built-in function exp>])\n",
      "4\n",
      "2\n",
      "10\n",
      "<built-in function exp>\n",
      "\n",
      "All key-value pairs:  dict_items([('apple', 4), ('banana', 2), ('pear', 10), (<built-in function log>, <built-in function exp>)])\n",
      "apple 4\n",
      "banana 2\n",
      "pear 10\n",
      "<built-in function log> <built-in function exp>\n"
     ]
    }
   ],
   "source": [
    "print (\"All keys: \", adict.keys())\n",
    "for key in adict.keys():\n",
    "    print (key)\n",
    "\n",
    "print ()\n",
    "print (\"All values: \", adict.values())\n",
    "for value in adict.values():\n",
    "    print (value)\n",
    "\n",
    "print()\n",
    "print (\"All key-value pairs: \", adict.items())\n",
    "for key, value in adict.items():\n",
    "    print (key, value)\n"
   ]
  },
  {
   "cell_type": "markdown",
   "metadata": {},
   "source": [
    "To merge two dictionaries the function ```update()``` can be used, while with ```del``` it is possible to remove a key-value pair."
   ]
  },
  {
   "cell_type": "code",
   "execution_count": 46,
   "metadata": {},
   "outputs": [
    {
     "data": {
      "text/plain": [
       "{'apple': 4, 'banana': 2, 'pear': 10, 'watermelon': 0, 'strawberry': 1}"
      ]
     },
     "execution_count": 46,
     "metadata": {},
     "output_type": "execute_result"
    }
   ],
   "source": [
    "del adict[math.log]\n",
    "seconddict = {\"watermelon\": 0, \"strawberry\": 1}\n",
    "adict.update(seconddict)\n",
    "print (adict)"
   ]
  },
  {
   "cell_type": "markdown",
   "metadata": {},
   "source": [
    "## Tuples\n",
    "\n",
    "Tuples create a bit of confusion for beginners because they are very similar to lists but they have some subtle conceptual differences. Nonetheless, tuples do appear when programming in Python so it's important to know about them.\n",
    "\n",
    "![At first glance list and tuples look very similar, but they are not...](Difference-Between-List-and-Tuple-fig-1-2.jpg)\n",
    "\n",
    "Like lists, tuples are containers of any type of object. Unlike lists though they are *immutable* which means that once they have been created the content cannot be changed (i.e. no append, insert or delete of the elements). Furthermore since they are immutable they can be used as dictionary keys (lists cannot)."
   ]
  },
  {
   "cell_type": "code",
   "execution_count": 16,
   "metadata": {},
   "outputs": [
    {
     "name": "stdout",
     "output_type": "stream",
     "text": [
      "(1, 2, 3)\n"
     ]
    }
   ],
   "source": [
    "atuple = tuple()\n",
    "atuple = (1, 2, 3)\n",
    "print (atuple)"
   ]
  },
  {
   "cell_type": "code",
   "execution_count": 17,
   "metadata": {},
   "outputs": [
    {
     "name": "stdout",
     "output_type": "stream",
     "text": [
      "Length: 3\n",
      "First element: 1\n",
      "Last element: 3\n"
     ]
    }
   ],
   "source": [
    "print (\"Length: {}\".format(len(atuple)))\n",
    "print (\"First element: {}\".format(atuple[0]))\n",
    "print (\"Last element: {}\".format(atuple[-1]))"
   ]
  },
  {
   "cell_type": "code",
   "execution_count": null,
   "metadata": {},
   "outputs": [],
   "source": [
    "x, y, z = (10, 5, 12) # this is called unpacking and it's another \n",
    "                      # way to access tuple elements\n",
    "print (\"coord: x={} y={} z={}\".format(x, y, z))"
   ]
  },
  {
   "cell_type": "code",
   "execution_count": null,
   "metadata": {},
   "outputs": [],
   "source": [
    "tuple2 = (1,) # this is tricky, don't forget the comma otherwise \n",
    "              # it won't be a tuple\n",
    "print(type(tuple2))\n",
    "tuple2 = (1)\n",
    "print(type(tuple2))"
   ]
  },
  {
   "cell_type": "code",
   "execution_count": null,
   "metadata": {},
   "outputs": [],
   "source": [
    "tuple1 = (1, 2, 3)\n",
    "tuple2 = tuple1 + (4, 5) # to add elements you need to create a new tuple\n",
    "print(tuple2) "
   ]
  },
  {
   "cell_type": "code",
   "execution_count": null,
   "metadata": {},
   "outputs": [],
   "source": [
    "# as said they can be used as dictionary keys\n",
    "d = {\n",
    "('Finance', 1): 'Room 8',\n",
    "('Finance', 2): 'Room 3',\n",
    "('Math', 1): 'Room 6',\n",
    "('Programming', 1): 'IT room'\n",
    "}\n",
    "\n",
    "print (d)"
   ]
  },
  {
   "cell_type": "markdown",
   "metadata": {},
   "source": [
    "# Advanced hints\n",
    "\n",
    "If you would like to know much **more** about python during the course without the EDX site you can look these videos during the course in your spare time:\n",
    "\n",
    "Some more information about different kind of languages:\n",
    "https://www.youtube.com/watch?v=9oYFH4OmYDY\n",
    "\n",
    "Basic data types:\n",
    "https://www.youtube.com/watch?v=XIjrEt2lz1U\n",
    "\n",
    "Variables:\n",
    "https://www.youtube.com/watch?v=z2NLjdfxEyQ\n",
    "\n",
    "Branching:\n",
    "https://www.youtube.com/watch?v=8vr3nyg5QcM\n",
    "\n",
    "Tuples:\n",
    "https://www.youtube.com/watch?v=CwZyWaap5Z8\n",
    "\n",
    "Lists:\n",
    "https://www.youtube.com/watch?v=eMyWO0tcxKg\n",
    "\n",
    "List Operations:\n",
    "https://www.youtube.com/watch?v=rQBho4-bI3o\n",
    "\n",
    "Mutation, Aliasing, Cloning:\n",
    "https://www.youtube.com/watch?v=2SRXg8Or-Pc\n",
    "\n",
    "Functions as Objects:\n",
    "https://www.youtube.com/watch?v=pheM3rVmGMU\n",
    "\n",
    "Dictionaries:\n",
    "https://www.youtube.com/watch?v=elSt5hke-Rs"
   ]
  }
 ],
 "metadata": {
  "kernelspec": {
   "display_name": "Python 3",
   "language": "python",
   "name": "python3"
  },
  "language_info": {
   "codemirror_mode": {
    "name": "ipython",
    "version": 3
   },
   "file_extension": ".py",
   "mimetype": "text/x-python",
   "name": "python",
   "nbconvert_exporter": "python",
   "pygments_lexer": "ipython3",
   "version": "3.6.3"
  }
 },
 "nbformat": 4,
 "nbformat_minor": 2
}
