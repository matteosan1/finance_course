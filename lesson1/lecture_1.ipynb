{
 "cells": [
  {
   "cell_type": "markdown",
   "metadata": {},
   "source": [
    "# Introduction to Python - Lesson 1\n",
    "\n",
    "In the first two lessons of this course we'll take a quick tour of the Python programming language and see how to write a simple function which would actually be useful in a real-world finance environment.\n",
    "\n",
    "## What is Python\n",
    "\n",
    "Python is a so called *interpreter*, it takes some code (a sequence of instructions or commands), reads and executes it. This is different from other programming languages like C or C++ which compile code into a language that the computer can understand directly (*machine language*). As a result, Python is essentially an *interactive* programming language, you can program and see the results almost at the same time.\n",
    "\n",
    "![Interpreted vs compiled language](index.png)\n",
    "\n",
    "\n",
    "## Which Python should I use ?\n",
    "\n",
    "Python, as basically all programs, comes in different version and flavours.\n",
    "\n",
    "The latest version is $\\tt{3.7}$ (but it is continously evolving), however you'll see older versions floating around (e.g. $\\tt{2.7}$). This is because there are some big differences between $\\tt{Python 2.X}$ and $\\tt{Python 3.X}$ which prevent a sizeable portion of $\\tt{Python 2}$ users to stick with it (moving to $\\tt{Python 3}$ would require sizeable amount of work for big projects).\n",
    "\n",
    "**We will go for $\\tt{Python 3.X}$ anyway !**\n",
    "\n",
    "Any Python interpreter, available at http://www.python.org, comes with a standard set of *packages* (will see in a while what they are), but if you want more functionality, you can download more of them (there are zillions of packages out there). \n",
    "\n",
    "Some examples are:\n",
    "\n",
    "* Numpy - which provides matrix algebra functionality;\n",
    "* Scipy - which provides a whole series of scientific computing functions;\n",
    "* Pandas - which provides tools for manipulating time series or dataset in general;\n",
    "* Matplotlib - for plotting graphs;\n",
    "* Jupyter - for notebooks like this one;\n",
    "* ...and many more.\n",
    "\n",
    "## How can I use Python ?\n",
    "\n",
    "Once you have downloaded a Python distribution, there are various ways of actually using it.\n",
    "\n",
    "* The most immediate way is to just execute $\\tt{python.exe}$ on the command line to get a Python console for interacting with the interpreter.\n",
    "* If you are learining Python or do some simple data analysis, Jupyter notebooks (i.e. this document) allow to see the results of your code as you write it, as well as make notes, plot graphs and so on.\n",
    "* If you are a programmer and want to do more complex things, you'll usually want one or more scripts, perhaps linked together, and execute one of them again using $\\tt{python.exe}$. For this last case an integrated development environment (IDE) can be very useful. An IDE is a graphical user interface which makes writing complex code easier by providing a text editor, a file browser, a debugger (a tool that helps you to spot mistakes in your code) all in one software application. Good example is $\\tt{PyCharm}$ (https://www.jetbrains.com/pycharm/) or repl.it an online IDE.\n",
    "\n",
    "## How we will use it\n",
    "\n",
    "To avoid time consuming installations we will mainly use online tools so that all you need is just a browser (Firefox :-), Chrome :-), Explorer :-(). For completeness from time to time I will show you code running in in a more advanced IDE called ```PyCharm``` but you won’t need to install it.\n",
    "So our tool are:\n",
    "\n",
    "* ```repl.it```, an online IDE to develop the more complicated projects in these lessions;\n",
    "* ```colab```, an online notebook editor from Google.\n",
    "\n",
    "As you can imagine there are many more similar tools available which have more or less the same functionality as the one proposed (e.g. cocalc a possible replacement of colab).\n",
    "Another possibility, quite flexible but slightly more complicated to setup, is Anaconda Python. It's free to download and works on Windows, Mac or Linux and has been used in the past years for this course. Those interested can take a look at https://www.anaconda.com.\n",
    "\n",
    "## Online courses\n",
    "\n",
    "Python popularity is growing every day so it is very easy to find good (and free) online courses looking in Google. Since in this course we do not have time to cover in depth the potentiality of this language I strongly suggest you to spend some time in watching one of them. One example could be\n",
    "\n",
    "**MITx: 6.00.1x Introduction to Computer Science and Programming Using Python** \n",
    "https://courses.edx.org/courses/course-v1:MITx+6.00.1x+2T2017_2/course/ \n",
    "\n",
    "### Let's spend few minutes all together to setup the software\n",
    "\n",
    "## Python basics\n",
    "\n",
    "Try the commands I will explain in the remaining part of the lession either typing them in a ```colab``` notebook or using the interactive shell of ```repl.it```."
   ]
  },
  {
   "cell_type": "code",
   "execution_count": 1,
   "metadata": {},
   "outputs": [
    {
     "name": "stdout",
     "output_type": "stream",
     "text": [
      "Hello world !\n"
     ]
    }
   ],
   "source": [
    "# print is a keyword, reserved words that have a special meaning\n",
    "print (\"Hello world !\") "
   ]
  },
  {
   "cell_type": "code",
   "execution_count": 2,
   "metadata": {},
   "outputs": [
    {
     "name": "stdout",
     "output_type": "stream",
     "text": [
      "Welcome\n",
      "to\n",
      "everybody\n"
     ]
    }
   ],
   "source": [
    "print (\"Welcome\")\n",
    "print (\"to\")\n",
    "print (\"everybody\")"
   ]
  },
  {
   "cell_type": "code",
   "execution_count": 3,
   "metadata": {},
   "outputs": [
    {
     "name": "stdout",
     "output_type": "stream",
     "text": [
      "Ciao\n"
     ]
    }
   ],
   "source": [
    "# this is a comment and the next line prints \"Ciao\"\n",
    "print (\"Ciao\") # comments like this are useful to explain what's going on in the \n",
    "               # code you write"
   ]
  },
  {
   "cell_type": "markdown",
   "metadata": {},
   "source": [
    "### Exercise 1.1\n",
    "\n",
    "Write few lines of code in your notebook or in the interactive shell that print on the display \"Hello !\"\n",
    "\n",
    "## Variables\n",
    "\n",
    "Variables are used to store information to be referenced and manipulated in a computer program (e.g. a number, a string...).\n",
    "\n",
    "![](var1.jpeg) ![](var2.jpeg)\n"
   ]
  },
  {
   "cell_type": "code",
   "execution_count": 4,
   "metadata": {},
   "outputs": [],
   "source": [
    "x = 9 # assign number 9 to variable named x"
   ]
  },
  {
   "cell_type": "code",
   "execution_count": 5,
   "metadata": {},
   "outputs": [
    {
     "data": {
      "text/plain": [
       "9"
      ]
     },
     "execution_count": 5,
     "metadata": {},
     "output_type": "execute_result"
    }
   ],
   "source": [
    "x # in console typing just a variable is equivalent to print its value"
   ]
  },
  {
   "cell_type": "code",
   "execution_count": 6,
   "metadata": {},
   "outputs": [],
   "source": [
    "myphone = \"Huawei P10Lite\""
   ]
  },
  {
   "cell_type": "code",
   "execution_count": 7,
   "metadata": {},
   "outputs": [
    {
     "name": "stdout",
     "output_type": "stream",
     "text": [
      "Huawei P10Lite\n"
     ]
    }
   ],
   "source": [
    "print (myphone)"
   ]
  },
  {
   "cell_type": "code",
   "execution_count": 8,
   "metadata": {},
   "outputs": [
    {
     "name": "stdout",
     "output_type": "stream",
     "text": [
      "<class 'int'>\n",
      "<class 'str'>\n"
     ]
    }
   ],
   "source": [
    "print (type(x))       # the type keyword tells you which kind of object is \n",
    "                      # stored in a variable\n",
    "print (type(myphone)) # int->integer, str->string we will see later in more\n",
    "                      # detail what is a string"
   ]
  },
  {
   "cell_type": "markdown",
   "metadata": {},
   "source": [
    "### Python variable name rules\n",
    "\n",
    "A Python variable name must:\n",
    "* begin with a letter (myphone) or underscore (\\_myphone);\n",
    "* other characters can be letters, numbers or more \\_;\n",
    "* variable names are case-sensitive so myphone and myPhone are two distinct variables;\n",
    "\n",
    "**There are some reserved words which you cannot use as a variable name because Python uses them for other things (e.g. $\\tt{print, type, for...}$)**.\n",
    "\n",
    "To use GOOD variable names always choose meaningful names instead of short names (i.e. $\\tt{numberOfCakes}$ is much better than simply $\\tt{n}$), try to be consistent with your conventions (e.g. choose once and for all between $\\tt{number\\_of\\_cakes}$ or $\\tt{numberofcakes}$ or $\\tt{numberOfCakes}$), usually begin a variable name with underscore (\\_) only for a special case (will see later when this is usually done).\n",
    "\n",
    "## Mathematical expressions\n"
   ]
  },
  {
   "cell_type": "code",
   "execution_count": 9,
   "metadata": {},
   "outputs": [
    {
     "data": {
      "text/plain": [
       "3"
      ]
     },
     "execution_count": 9,
     "metadata": {},
     "output_type": "execute_result"
    }
   ],
   "source": [
    "1 + 2"
   ]
  },
  {
   "cell_type": "code",
   "execution_count": 10,
   "metadata": {},
   "outputs": [
    {
     "data": {
      "text/plain": [
       "35"
      ]
     },
     "execution_count": 10,
     "metadata": {},
     "output_type": "execute_result"
    }
   ],
   "source": [
    "40 - 5"
   ]
  },
  {
   "cell_type": "code",
   "execution_count": 11,
   "metadata": {},
   "outputs": [
    {
     "data": {
      "text/plain": [
       "180"
      ]
     },
     "execution_count": 11,
     "metadata": {},
     "output_type": "execute_result"
    }
   ],
   "source": [
    "x * 20 # remember that we set x equal to 9"
   ]
  },
  {
   "cell_type": "code",
   "execution_count": 12,
   "metadata": {},
   "outputs": [
    {
     "data": {
      "text/plain": [
       "2.25"
      ]
     },
     "execution_count": 12,
     "metadata": {},
     "output_type": "execute_result"
    }
   ],
   "source": [
    "x / 4"
   ]
  },
  {
   "cell_type": "code",
   "execution_count": 13,
   "metadata": {},
   "outputs": [
    {
     "name": "stdout",
     "output_type": "stream",
     "text": [
      "<class 'float'>\n"
     ]
    }
   ],
   "source": [
    "print (type(2.25)) # this is a new type: floating-point value"
   ]
  },
  {
   "cell_type": "code",
   "execution_count": 14,
   "metadata": {},
   "outputs": [
    {
     "data": {
      "text/plain": [
       "2"
      ]
     },
     "execution_count": 14,
     "metadata": {},
     "output_type": "execute_result"
    }
   ],
   "source": [
    "x // 4 # interger division - result will be truncated to the \n",
    "       # corresponding integer (no rounding)\n",
    "       # 11 / 3 = 3.666666 -> 11 // 3 = 3"
   ]
  },
  {
   "cell_type": "code",
   "execution_count": 15,
   "metadata": {},
   "outputs": [
    {
     "data": {
      "text/plain": [
       "729"
      ]
     },
     "execution_count": 15,
     "metadata": {},
     "output_type": "execute_result"
    }
   ],
   "source": [
    "y = 3\n",
    "x ** y # x to the power of y"
   ]
  },
  {
   "cell_type": "code",
   "execution_count": 16,
   "metadata": {},
   "outputs": [
    {
     "data": {
      "text/plain": [
       "36"
      ]
     },
     "execution_count": 16,
     "metadata": {},
     "output_type": "execute_result"
    }
   ],
   "source": [
    "3 * (x + y)"
   ]
  },
  {
   "cell_type": "code",
   "execution_count": 17,
   "metadata": {},
   "outputs": [
    {
     "ename": "NameError",
     "evalue": "name 'log' is not defined",
     "output_type": "error",
     "traceback": [
      "\u001b[0;31m---------------------------------------------------------------------------\u001b[0m",
      "\u001b[0;31mNameError\u001b[0m                                 Traceback (most recent call last)",
      "\u001b[0;32m<ipython-input-17-ffde4d60496a>\u001b[0m in \u001b[0;36m<module>\u001b[0;34m()\u001b[0m\n\u001b[0;32m----> 1\u001b[0;31m \u001b[0mlog\u001b[0m\u001b[0;34m(\u001b[0m\u001b[0;36m3\u001b[0m\u001b[0;34m)\u001b[0m \u001b[0;31m# causes an error because the logarithm function\u001b[0m\u001b[0;34m\u001b[0m\u001b[0;34m\u001b[0m\u001b[0m\n\u001b[0m\u001b[1;32m      2\u001b[0m        \u001b[0;31m# is not available by default\u001b[0m\u001b[0;34m\u001b[0m\u001b[0;34m\u001b[0m\u001b[0;34m\u001b[0m\u001b[0m\n",
      "\u001b[0;31mNameError\u001b[0m: name 'log' is not defined"
     ]
    }
   ],
   "source": [
    "log(3) # causes an error because the logarithm function \n",
    "       # is not available by default"
   ]
  },
  {
   "cell_type": "markdown",
   "metadata": {},
   "source": [
    "## Modules\n",
    "\n",
    "Useful functions can be saved in libraries (called *modules*) so that thay can be re-used in different programs. The keyword *import* allows to load functions and data from other Python files (*modules*) and make them available in your program.\n",
    "Python already comes with a lot of built-in modules for doing lots of different tasks (the so called *standard library*) but many more modules are available for download on the web and you can of course write your own !\n",
    "\n",
    "![Python has many modules for download on the web...](python.png)"
   ]
  },
  {
   "cell_type": "code",
   "execution_count": 18,
   "metadata": {},
   "outputs": [
    {
     "data": {
      "text/plain": [
       "['__doc__',\n",
       " '__loader__',\n",
       " '__name__',\n",
       " '__package__',\n",
       " '__spec__',\n",
       " 'acos',\n",
       " 'acosh',\n",
       " 'asin',\n",
       " 'asinh',\n",
       " 'atan',\n",
       " 'atan2',\n",
       " 'atanh',\n",
       " 'ceil',\n",
       " 'copysign',\n",
       " 'cos',\n",
       " 'cosh',\n",
       " 'degrees',\n",
       " 'e',\n",
       " 'erf',\n",
       " 'erfc',\n",
       " 'exp',\n",
       " 'expm1',\n",
       " 'fabs',\n",
       " 'factorial',\n",
       " 'floor',\n",
       " 'fmod',\n",
       " 'frexp',\n",
       " 'fsum',\n",
       " 'gamma',\n",
       " 'gcd',\n",
       " 'hypot',\n",
       " 'inf',\n",
       " 'isclose',\n",
       " 'isfinite',\n",
       " 'isinf',\n",
       " 'isnan',\n",
       " 'ldexp',\n",
       " 'lgamma',\n",
       " 'log',\n",
       " 'log10',\n",
       " 'log1p',\n",
       " 'log2',\n",
       " 'modf',\n",
       " 'nan',\n",
       " 'pi',\n",
       " 'pow',\n",
       " 'radians',\n",
       " 'remainder',\n",
       " 'sin',\n",
       " 'sinh',\n",
       " 'sqrt',\n",
       " 'tan',\n",
       " 'tanh',\n",
       " 'tau',\n",
       " 'trunc']"
      ]
     },
     "execution_count": 18,
     "metadata": {},
     "output_type": "execute_result"
    }
   ],
   "source": [
    "import math\n",
    "dir(math) # dir keyword lists the content of a module"
   ]
  },
  {
   "cell_type": "markdown",
   "metadata": {},
   "source": [
    "**Once a module has been imported, the functions it contains can be accessed with a *dot* \"module_name.function_name\":**"
   ]
  },
  {
   "cell_type": "code",
   "execution_count": 19,
   "metadata": {},
   "outputs": [
    {
     "data": {
      "text/plain": [
       "1.0986122886681098"
      ]
     },
     "execution_count": 19,
     "metadata": {},
     "output_type": "execute_result"
    }
   ],
   "source": [
    "math.log(3)"
   ]
  },
  {
   "cell_type": "code",
   "execution_count": 20,
   "metadata": {},
   "outputs": [
    {
     "data": {
      "text/plain": [
       "20.085536923187668"
      ]
     },
     "execution_count": 20,
     "metadata": {},
     "output_type": "execute_result"
    }
   ],
   "source": [
    "math.exp(3)"
   ]
  },
  {
   "cell_type": "code",
   "execution_count": 21,
   "metadata": {},
   "outputs": [
    {
     "name": "stdout",
     "output_type": "stream",
     "text": [
      "<class 'builtin_function_or_method'>\n",
      "<class 'float'>\n"
     ]
    }
   ],
   "source": [
    "print (type(math.log)) # yet another type: builtin function\n",
    "print (type(math.log(3)))"
   ]
  },
  {
   "cell_type": "markdown",
   "metadata": {},
   "source": [
    "Since we are lazy and we don't want to type \"math.\" every time we compute a logarithm or an exponential, we can use the following syntax:"
   ]
  },
  {
   "cell_type": "code",
   "execution_count": 22,
   "metadata": {},
   "outputs": [
    {
     "name": "stdout",
     "output_type": "stream",
     "text": [
      "1.0986122886681098\n",
      "20.085536923187668\n"
     ]
    }
   ],
   "source": [
    "from math import log, exp\n",
    "print (log(3))\n",
    "print (exp(3))"
   ]
  },
  {
   "cell_type": "markdown",
   "metadata": {},
   "source": [
    "Putting together what we have learned so far we can try to save the result of an expression in a variable (or even in the same variable we started with).\n",
    "As an example let's compute the interest rate $r$ that produces a return $R$ of about 1051.71 Euro when investing 10000 Euro for 2 years:\n",
    "\n",
    "$R = N\\mathrm{e}^{r\\tau} \\rightarrow r = \\frac{1}{\\tau} \\mathrm{log}(\\frac{R}{N})$"
   ]
  },
  {
   "cell_type": "code",
   "execution_count": 23,
   "metadata": {},
   "outputs": [
    {
     "name": "stdout",
     "output_type": "stream",
     "text": [
      "0.05000003706410832\n",
      "11\n"
     ]
    }
   ],
   "source": [
    "rate = (1/2)*log(11051.71/10000)\n",
    "print (rate)\n",
    "x = x + 1    # the value of x was 9 when was used last\n",
    "x += 1       # += is a shortcut for x = x + 1\n",
    "print (x)"
   ]
  },
  {
   "cell_type": "markdown",
   "metadata": {},
   "source": [
    "### Exercise 1.2\n",
    "\n",
    "Write code in your notebook or in the interactive shell to print the natural logarithm of your year of birth\n",
    "(expected something like: 7.587817219993427)\n",
    "\n",
    "## Boolean expressions\n",
    "\n",
    "The expressions we have seen so far evaluate to a number. Boolean expressions evaluate to $\\tt{true}$ or $\\tt{false}$. Sometimes they involves logical or comparison operators like $\\tt{or}$, $\\tt{and}$, > (greater than), < (less than)...\n",
    "Let's see some example."
   ]
  },
  {
   "cell_type": "code",
   "execution_count": 24,
   "metadata": {},
   "outputs": [
    {
     "data": {
      "text/plain": [
       "False"
      ]
     },
     "execution_count": 24,
     "metadata": {},
     "output_type": "execute_result"
    }
   ],
   "source": [
    "1 == 2 \n",
    "# single = assigns a value to a variable like in x = 9\n",
    "# double == checks the equality of two objects"
   ]
  },
  {
   "cell_type": "code",
   "execution_count": 25,
   "metadata": {},
   "outputs": [
    {
     "data": {
      "text/plain": [
       "True"
      ]
     },
     "execution_count": 25,
     "metadata": {},
     "output_type": "execute_result"
    }
   ],
   "source": [
    "1 != 2 # != is the \"not equal to\" operator"
   ]
  },
  {
   "cell_type": "code",
   "execution_count": 26,
   "metadata": {},
   "outputs": [
    {
     "data": {
      "text/plain": [
       "False"
      ]
     },
     "execution_count": 26,
     "metadata": {},
     "output_type": "execute_result"
    }
   ],
   "source": [
    "2 < 2"
   ]
  },
  {
   "cell_type": "code",
   "execution_count": 27,
   "metadata": {},
   "outputs": [
    {
     "data": {
      "text/plain": [
       "True"
      ]
     },
     "execution_count": 27,
     "metadata": {},
     "output_type": "execute_result"
    }
   ],
   "source": [
    "2 <= 2  # in this case we allow the numbers to be equal too"
   ]
  },
  {
   "cell_type": "code",
   "execution_count": 28,
   "metadata": {},
   "outputs": [
    {
     "name": "stdout",
     "output_type": "stream",
     "text": [
      "11\n"
     ]
    },
    {
     "data": {
      "text/plain": [
       "False"
      ]
     },
     "execution_count": 28,
     "metadata": {},
     "output_type": "execute_result"
    }
   ],
   "source": [
    "print (x)\n",
    "15 <= x and x <= 20 # this expression could also be written as 15 <= x <= 20"
   ]
  },
  {
   "cell_type": "code",
   "execution_count": 29,
   "metadata": {},
   "outputs": [
    {
     "data": {
      "text/plain": [
       "True"
      ]
     },
     "execution_count": 29,
     "metadata": {},
     "output_type": "execute_result"
    }
   ],
   "source": [
    "15 <= x or x <= 20"
   ]
  },
  {
   "cell_type": "code",
   "execution_count": 30,
   "metadata": {},
   "outputs": [
    {
     "data": {
      "text/plain": [
       "True"
      ]
     },
     "execution_count": 30,
     "metadata": {},
     "output_type": "execute_result"
    }
   ],
   "source": [
    "not (x > 20) # the not keyword negates the following expression"
   ]
  },
  {
   "cell_type": "markdown",
   "metadata": {},
   "source": [
    "## String expressions\n",
    "\n",
    "A \"string\" is a sequence of characters (letters, digits, spaces, punctiation, new lines...)"
   ]
  },
  {
   "cell_type": "code",
   "execution_count": 31,
   "metadata": {},
   "outputs": [],
   "source": [
    "mystring = \"some text with punctuation, spaces and digits 10\""
   ]
  },
  {
   "cell_type": "code",
   "execution_count": 32,
   "metadata": {},
   "outputs": [
    {
     "data": {
      "text/plain": [
       "'abcdef'"
      ]
     },
     "execution_count": 32,
     "metadata": {},
     "output_type": "execute_result"
    }
   ],
   "source": [
    "\"abc\" + \"def\" # it is possible to concatenate strings with + "
   ]
  },
  {
   "cell_type": "code",
   "execution_count": 33,
   "metadata": {},
   "outputs": [
    {
     "ename": "TypeError",
     "evalue": "can only concatenate str (not \"int\") to str",
     "output_type": "error",
     "traceback": [
      "\u001b[0;31m---------------------------------------------------------------------------\u001b[0m",
      "\u001b[0;31mTypeError\u001b[0m                                 Traceback (most recent call last)",
      "\u001b[0;32m<ipython-input-33-b9f65c5a45f7>\u001b[0m in \u001b[0;36m<module>\u001b[0;34m()\u001b[0m\n\u001b[0;32m----> 1\u001b[0;31m \u001b[0;34m\"The number \"\u001b[0m \u001b[0;34m+\u001b[0m \u001b[0;36m4\u001b[0m \u001b[0;34m+\u001b[0m \u001b[0;34m\" is my favourite number\"\u001b[0m\u001b[0;34m\u001b[0m\u001b[0;34m\u001b[0m\u001b[0m\n\u001b[0m\u001b[1;32m      2\u001b[0m \u001b[0;31m# this causes an error since we are trying to concatenate a string\u001b[0m\u001b[0;34m\u001b[0m\u001b[0;34m\u001b[0m\u001b[0;34m\u001b[0m\u001b[0m\n\u001b[1;32m      3\u001b[0m \u001b[0;31m# with a number so two different kind of objects\u001b[0m\u001b[0;34m\u001b[0m\u001b[0;34m\u001b[0m\u001b[0;34m\u001b[0m\u001b[0m\n",
      "\u001b[0;31mTypeError\u001b[0m: can only concatenate str (not \"int\") to str"
     ]
    }
   ],
   "source": [
    "\"The number \" + 4 + \" is my favourite number\"\n",
    "# this causes an error since we are trying to concatenate a string \n",
    "# with a number so two different kind of objects"
   ]
  },
  {
   "cell_type": "markdown",
   "metadata": {},
   "source": [
    "To avoid this error is possible to *cast* an object to a different type, Python will try then to convert it to the desired type. This is not always possible though: for example a number can be converted to a string (e.g. from the integer 4 to the actual symbol \"4\") but the opposite is not possible (e.g. cannot convert the string \"matteo\" to a meaningful number)"
   ]
  },
  {
   "cell_type": "code",
   "execution_count": 34,
   "metadata": {},
   "outputs": [
    {
     "data": {
      "text/plain": [
       "'The number 4 is my favourite number'"
      ]
     },
     "execution_count": 34,
     "metadata": {},
     "output_type": "execute_result"
    }
   ],
   "source": [
    "\"The number \" + str(4) + \" is my favourite number\" # str() cast the number to a string"
   ]
  },
  {
   "cell_type": "code",
   "execution_count": 35,
   "metadata": {},
   "outputs": [
    {
     "name": "stdout",
     "output_type": "stream",
     "text": [
      "<class 'float'>\n",
      "<class 'str'>\n"
     ]
    }
   ],
   "source": [
    "print (type(3.4))\n",
    "print (type(str(3.4)))"
   ]
  },
  {
   "cell_type": "markdown",
   "metadata": {},
   "source": [
    "Instead of using + to concatenate strings, Python allows for a prettier formatting using the following syntax (which for example allows for float rounding):"
   ]
  },
  {
   "cell_type": "code",
   "execution_count": 36,
   "metadata": {},
   "outputs": [
    {
     "data": {
      "text/plain": [
       "'The speed of light is about 299792.5 km/s'"
      ]
     },
     "execution_count": 36,
     "metadata": {},
     "output_type": "execute_result"
    }
   ],
   "source": [
    "\"The speed of light is about {:.1f} {}\".format(299792.458, \"km/s\")\n",
    "# each {} is mapped to the variables listed later in the \"format\""
   ]
  },
  {
   "cell_type": "markdown",
   "metadata": {},
   "source": [
    "## Indented blocks and the $\\tt{if/else}$ statement\n",
    "\n",
    "Unlike other languages which uses parenthesis to isolate blocks of code Python uses indentation. A first example of this is given by the $\\tt{if/then}$ statements where based on some condition we can run different part of the code."
   ]
  },
  {
   "cell_type": "code",
   "execution_count": 37,
   "metadata": {},
   "outputs": [
    {
     "name": "stdout",
     "output_type": "stream",
     "text": [
      "This *will* be printed\n"
     ]
    }
   ],
   "source": [
    "# remember x value is 13 now\n",
    "if x == 1: \n",
    "    print (\"This will not be printed\") \n",
    "    # the block of code that is run if the first condition is met is indented\n",
    "elif x == 15:\n",
    "    print (\"This will not be printed either\")\n",
    "    # again the block of code that is run here is indented to be \"isolated\" by the rest \n",
    "else:\n",
    "    print (\"This *will* be printed\")"
   ]
  },
  {
   "cell_type": "code",
   "execution_count": 38,
   "metadata": {},
   "outputs": [
    {
     "ename": "IndentationError",
     "evalue": "expected an indented block (<ipython-input-38-4535a45a6419>, line 3)",
     "output_type": "error",
     "traceback": [
      "\u001b[0;36m  File \u001b[0;32m\"<ipython-input-38-4535a45a6419>\"\u001b[0;36m, line \u001b[0;32m3\u001b[0m\n\u001b[0;31m    print (\"This will not be printed\")\u001b[0m\n\u001b[0m        ^\u001b[0m\n\u001b[0;31mIndentationError\u001b[0m\u001b[0;31m:\u001b[0m expected an indented block\n"
     ]
    }
   ],
   "source": [
    "# if by mistake I forget to indent some block I get an error\n",
    "if x == 1: \n",
    "print (\"This will not be printed\")\n",
    "elif x == 15:\n",
    "    print (\"This will not be printed either\")\n",
    "else:\n",
    "    print (\"This *will* be printed\")"
   ]
  },
  {
   "cell_type": "code",
   "execution_count": 39,
   "metadata": {},
   "outputs": [
    {
     "name": "stdout",
     "output_type": "stream",
     "text": [
      "x does not equal to 1\n"
     ]
    }
   ],
   "source": [
    "if x != 1:\n",
    "    print (\"x does not equal to 1\")"
   ]
  },
  {
   "cell_type": "markdown",
   "metadata": {},
   "source": [
    "As an example, in C++ the previous code would have been:\n",
    "\n",
    "```c++\n",
    "if (x == 1) {\n",
    " print (\"This will not be printed\");\n",
    "}\n",
    "else if (x == 15) {\n",
    "  print (\"This will not be printed either\");\n",
    "}\n",
    "else {\n",
    "print (\"This *will* be printed\");\n",
    "}\n",
    "```\n",
    "\n",
    "N.B. Notice how indentation doesn't matter at all here.\n",
    "\n",
    "## Loops\n",
    "\n",
    "Another very import feature of a language is the loop that allows to repeat the same block of code many times. In Python loops can be coded with $\\tt{for}$ or $\\tt{while}$ keywords.\n",
    "\n",
    "### for"
   ]
  },
  {
   "cell_type": "code",
   "execution_count": 40,
   "metadata": {},
   "outputs": [
    {
     "name": "stdout",
     "output_type": "stream",
     "text": [
      "0\n",
      "1\n",
      "2\n",
      "3\n",
      "4\n"
     ]
    }
   ],
   "source": [
    "# the range keyword returns a \"list\" of integers starting from 0\n",
    "for i in range(5):\n",
    "    print (i)"
   ]
  },
  {
   "cell_type": "code",
   "execution_count": 41,
   "metadata": {},
   "outputs": [
    {
     "name": "stdout",
     "output_type": "stream",
     "text": [
      "25\n",
      "26\n",
      "27\n",
      "28\n",
      "29\n"
     ]
    }
   ],
   "source": [
    "for i in range(25, 30): # here both boundaries are specified\n",
    "    print (i)"
   ]
  },
  {
   "cell_type": "code",
   "execution_count": 42,
   "metadata": {},
   "outputs": [
    {
     "name": "stdout",
     "output_type": "stream",
     "text": [
      "30\n",
      "29\n",
      "28\n",
      "27\n",
      "26\n"
     ]
    }
   ],
   "source": [
    "for i in range (30, 25, -1): # here both boundaries and step are specified\n",
    "    print (i)"
   ]
  },
  {
   "cell_type": "code",
   "execution_count": 43,
   "metadata": {},
   "outputs": [
    {
     "name": "stdout",
     "output_type": "stream",
     "text": [
      "0\n",
      "1\n",
      "2\n",
      "3\n",
      "4\n",
      "6\n",
      "7\n",
      "8\n",
      "9\n"
     ]
    }
   ],
   "source": [
    "for i in range(10):\n",
    "    if i == 5:\n",
    "        continue # this line skips the current iteration, \n",
    "                 # 5 is actually missing from the output below\n",
    "    print (i)"
   ]
  },
  {
   "cell_type": "code",
   "execution_count": 44,
   "metadata": {},
   "outputs": [
    {
     "name": "stdout",
     "output_type": "stream",
     "text": [
      "4\n",
      "6\n",
      "10\n",
      "20\n"
     ]
    }
   ],
   "source": [
    "for i in (4, 6, 10, 20): # here we loop directly on a list of numbers\n",
    "    print (i)"
   ]
  },
  {
   "cell_type": "code",
   "execution_count": 45,
   "metadata": {},
   "outputs": [
    {
     "name": "stdout",
     "output_type": "stream",
     "text": [
      "h\n",
      "o\n",
      "w\n",
      " \n",
      "t\n",
      "o\n",
      " \n",
      "l\n",
      "o\n",
      "o\n",
      "p\n",
      " \n",
      "o\n",
      "v\n",
      "e\n",
      "r\n",
      " \n",
      "a\n",
      " \n",
      "s\n",
      "t\n",
      "r\n",
      "i\n",
      "n\n",
      "g\n"
     ]
    }
   ],
   "source": [
    "phrase = 'how to loop over a string'\n",
    "for c in phrase:\n",
    "    print (c)"
   ]
  },
  {
   "cell_type": "markdown",
   "metadata": {},
   "source": [
    "### while\n",
    "\n",
    "In a for loop we go through all the elements of a list of objects, the ```while``` statement instead repeats the same block of code untill a condition is met."
   ]
  },
  {
   "cell_type": "code",
   "execution_count": 46,
   "metadata": {},
   "outputs": [
    {
     "name": "stdout",
     "output_type": "stream",
     "text": [
      "1\n",
      "2\n",
      "3\n",
      "4\n",
      "5\n",
      "6\n",
      "7\n"
     ]
    }
   ],
   "source": [
    "x = 1\n",
    "while x ** 2 < 50: # the following block of code is run if x squared is <50\n",
    "    print (x)\n",
    "    x += 1 # each time we increment by 1 the variable x"
   ]
  },
  {
   "cell_type": "markdown",
   "metadata": {},
   "source": [
    "It is possible to exit prematurely from a while loop using the $\\tt{break}$ keyword."
   ]
  },
  {
   "cell_type": "code",
   "execution_count": 47,
   "metadata": {},
   "outputs": [
    {
     "name": "stdout",
     "output_type": "stream",
     "text": [
      "1\n",
      "2\n",
      "3\n",
      "4\n",
      "5\n",
      "6\n",
      "7\n"
     ]
    }
   ],
   "source": [
    "x = 1\n",
    "while True: # True is always true :-) so this would run forever\n",
    "    if (x ** 2 > 50): \n",
    "        break # this line exit from the while loop\n",
    "    print (x)\n",
    "    x += 1 "
   ]
  },
  {
   "cell_type": "markdown",
   "metadata": {},
   "source": [
    "## Lists\n",
    "\n",
    "A list in Python is a container that is a *mutable*, ordered sequence of elements. Each element or value that is inside of a list is called an item. Each item can be accessed using squared brackets (list indexing is zero-based). It is considered mutable since you can add, remove or\n",
    "update the items in the list. Ordered instead means that items are kept in the same order they have been added to the list."
   ]
  },
  {
   "cell_type": "code",
   "execution_count": 48,
   "metadata": {},
   "outputs": [
    {
     "data": {
      "text/plain": [
       "[21, 32, 15]"
      ]
     },
     "execution_count": 48,
     "metadata": {},
     "output_type": "execute_result"
    }
   ],
   "source": [
    "mylist = [21, 32, 15]\n",
    "mylist"
   ]
  },
  {
   "cell_type": "code",
   "execution_count": 49,
   "metadata": {},
   "outputs": [
    {
     "name": "stdout",
     "output_type": "stream",
     "text": [
      "<class 'list'>\n"
     ]
    }
   ],
   "source": [
    "print (type(mylist))"
   ]
  },
  {
   "cell_type": "code",
   "execution_count": 50,
   "metadata": {},
   "outputs": [
    {
     "name": "stdout",
     "output_type": "stream",
     "text": [
      "21\n",
      "32\n",
      "15\n"
     ]
    }
   ],
   "source": [
    "for i in range(len(mylist)): # len() returns the number of items in a list\n",
    "    print (mylist[i])"
   ]
  },
  {
   "cell_type": "code",
   "execution_count": 51,
   "metadata": {},
   "outputs": [
    {
     "data": {
      "text/plain": [
       "3"
      ]
     },
     "execution_count": 51,
     "metadata": {},
     "output_type": "execute_result"
    }
   ],
   "source": [
    "len(mylist)"
   ]
  },
  {
   "cell_type": "code",
   "execution_count": 52,
   "metadata": {},
   "outputs": [
    {
     "data": {
      "text/plain": [
       "21"
      ]
     },
     "execution_count": 52,
     "metadata": {},
     "output_type": "execute_result"
    }
   ],
   "source": [
    "mylist[0] # accessing an item by index,remember the first item is element 0"
   ]
  },
  {
   "cell_type": "code",
   "execution_count": 53,
   "metadata": {},
   "outputs": [
    {
     "data": {
      "text/plain": [
       "[21, 74, 15]"
      ]
     },
     "execution_count": 53,
     "metadata": {},
     "output_type": "execute_result"
    }
   ],
   "source": [
    "mylist[1] = 74 # we can change list items since it's *mutable*\n",
    "mylist"
   ]
  },
  {
   "cell_type": "code",
   "execution_count": 54,
   "metadata": {},
   "outputs": [
    {
     "ename": "IndexError",
     "evalue": "list index out of range",
     "output_type": "error",
     "traceback": [
      "\u001b[0;31m---------------------------------------------------------------------------\u001b[0m",
      "\u001b[0;31mIndexError\u001b[0m                                Traceback (most recent call last)",
      "\u001b[0;32m<ipython-input-54-3a32eb4a7169>\u001b[0m in \u001b[0;36m<module>\u001b[0;34m()\u001b[0m\n\u001b[0;32m----> 1\u001b[0;31m \u001b[0mmylist\u001b[0m\u001b[0;34m[\u001b[0m\u001b[0;36m3\u001b[0m\u001b[0;34m]\u001b[0m \u001b[0;31m# error ! it doesn't exists, the list has only 3\u001b[0m\u001b[0;34m\u001b[0m\u001b[0;34m\u001b[0m\u001b[0m\n\u001b[0m\u001b[1;32m      2\u001b[0m           \u001b[0;31m# elements, so the last is item 2\u001b[0m\u001b[0;34m\u001b[0m\u001b[0;34m\u001b[0m\u001b[0;34m\u001b[0m\u001b[0m\n",
      "\u001b[0;31mIndexError\u001b[0m: list index out of range"
     ]
    }
   ],
   "source": [
    "mylist[3] # error ! it doesn't exists, the list has only 3 \n",
    "          # elements, so the last is item 2"
   ]
  },
  {
   "cell_type": "code",
   "execution_count": 55,
   "metadata": {},
   "outputs": [
    {
     "data": {
      "text/plain": [
       "15"
      ]
     },
     "execution_count": 55,
     "metadata": {},
     "output_type": "execute_result"
    }
   ],
   "source": [
    "mylist[-1] # negative index starts from the last element"
   ]
  },
  {
   "cell_type": "code",
   "execution_count": 56,
   "metadata": {},
   "outputs": [
    {
     "data": {
      "text/plain": [
       "[74, 15]"
      ]
     },
     "execution_count": 56,
     "metadata": {},
     "output_type": "execute_result"
    }
   ],
   "source": [
    "mylist[1:] # : is called slice, all items starting from the second \n",
    "           # (remember indexing starts from 0)"
   ]
  },
  {
   "cell_type": "code",
   "execution_count": 57,
   "metadata": {},
   "outputs": [
    {
     "data": {
      "text/plain": [
       "[21, 74]"
      ]
     },
     "execution_count": 57,
     "metadata": {},
     "output_type": "execute_result"
    }
   ],
   "source": [
    "mylist[:2] # elements up to but excluding item 2"
   ]
  },
  {
   "cell_type": "code",
   "execution_count": 58,
   "metadata": {},
   "outputs": [
    {
     "data": {
      "text/plain": [
       "[21, 74, 15, 188]"
      ]
     },
     "execution_count": 58,
     "metadata": {},
     "output_type": "execute_result"
    }
   ],
   "source": [
    "mylist.append(188) # append add an item at the end of the list\n",
    "mylist"
   ]
  },
  {
   "cell_type": "code",
   "execution_count": 59,
   "metadata": {},
   "outputs": [
    {
     "data": {
      "text/plain": [
       "[21, 74, 85, 15, 188]"
      ]
     },
     "execution_count": 59,
     "metadata": {},
     "output_type": "execute_result"
    }
   ],
   "source": [
    "mylist.insert(2, 85) # insert an item in the desired position \n",
    "                     # (2 in this example)\n",
    "mylist"
   ]
  },
  {
   "cell_type": "markdown",
   "metadata": {},
   "source": [
    "![Representation of mylist in the computer memory](pic1.png)"
   ]
  },
  {
   "cell_type": "code",
   "execution_count": 60,
   "metadata": {},
   "outputs": [
    {
     "name": "stdout",
     "output_type": "stream",
     "text": [
      "21\n",
      "74\n",
      "85\n",
      "15\n",
      "188\n"
     ]
    }
   ],
   "source": [
    "for item in mylist: # iterate over the list\n",
    "    print (item)"
   ]
  },
  {
   "cell_type": "code",
   "execution_count": 61,
   "metadata": {},
   "outputs": [
    {
     "name": "stdout",
     "output_type": "stream",
     "text": [
      "0 21\n",
      "1 74\n",
      "2 85\n",
      "3 15\n",
      "4 188\n"
     ]
    }
   ],
   "source": [
    "for i, item in enumerate(mylist): # enumerate keyword iterates\n",
    "                                  # returning the item and its index\n",
    "    print (i, item)"
   ]
  },
  {
   "cell_type": "code",
   "execution_count": 62,
   "metadata": {},
   "outputs": [
    {
     "data": {
      "text/plain": [
       "[441, 5476, 7225, 225, 35344]"
      ]
     },
     "execution_count": 62,
     "metadata": {},
     "output_type": "execute_result"
    }
   ],
   "source": [
    "secondlist = []\n",
    "for item in mylist: # create second list using mylist as input\n",
    "    secondlist.append(item ** 2)\n",
    "secondlist"
   ]
  },
  {
   "cell_type": "code",
   "execution_count": 63,
   "metadata": {},
   "outputs": [
    {
     "data": {
      "text/plain": [
       "[441, 5476, 7225, 225, 35344]"
      ]
     },
     "execution_count": 63,
     "metadata": {},
     "output_type": "execute_result"
    }
   ],
   "source": [
    "# for a more compact code the previous lines can be shrinked to\n",
    "secondlist = [ item**2 for item in mylist]\n",
    "secondlist"
   ]
  },
  {
   "cell_type": "markdown",
   "metadata": {},
   "source": [
    "#### Tricky point here !!!"
   ]
  },
  {
   "cell_type": "code",
   "execution_count": 64,
   "metadata": {},
   "outputs": [
    {
     "name": "stdout",
     "output_type": "stream",
     "text": [
      "[225, 441, 5476, 7225, 35344]\n",
      "[441, 5476, 7225, 225, 35344]\n"
     ]
    }
   ],
   "source": [
    "print(sorted(secondlist)) # sort returns a new list doesn't \n",
    "                          # change secondlist itself\n",
    "print(secondlist)"
   ]
  },
  {
   "cell_type": "markdown",
   "metadata": {},
   "source": [
    "![Sorted function returns a new list](pic2.png)"
   ]
  },
  {
   "cell_type": "code",
   "execution_count": 65,
   "metadata": {},
   "outputs": [
    {
     "data": {
      "text/plain": [
       "[225, 441, 5476, 7225, 35344]"
      ]
     },
     "execution_count": 65,
     "metadata": {},
     "output_type": "execute_result"
    }
   ],
   "source": [
    "secondlist.sort() # instead change secondlist\n",
    "secondlist"
   ]
  },
  {
   "cell_type": "markdown",
   "metadata": {},
   "source": [
    "![Sort method instead directly changes the current list](pic3.png)"
   ]
  },
  {
   "cell_type": "code",
   "execution_count": 66,
   "metadata": {},
   "outputs": [
    {
     "name": "stdout",
     "output_type": "stream",
     "text": [
      "[21, 74, 85, 15, 188]\n",
      "[21, 74, 85, 15, 188]\n",
      "[0, 74, 85, 15, 188]\n",
      "[0, 74, 85, 15, 188]\n"
     ]
    }
   ],
   "source": [
    "thirdlist = mylist # this is tricky, since variables *point* to objects\n",
    "print (mylist)\n",
    "print (thirdlist)\n",
    "thirdlist[0] = 0\n",
    "print (mylist)\n",
    "print (thirdlist)"
   ]
  },
  {
   "cell_type": "markdown",
   "metadata": {},
   "source": [
    "![In thist case mylist is assigned to a new variable thirdlist](pic4.png)"
   ]
  },
  {
   "cell_type": "code",
   "execution_count": 67,
   "metadata": {},
   "outputs": [
    {
     "data": {
      "text/plain": [
       "True"
      ]
     },
     "execution_count": 67,
     "metadata": {},
     "output_type": "execute_result"
    }
   ],
   "source": [
    "mylist == thirdlist # comparison by value, \n",
    "                    # i.e. they contains the same items"
   ]
  },
  {
   "cell_type": "code",
   "execution_count": 68,
   "metadata": {},
   "outputs": [
    {
     "data": {
      "text/plain": [
       "True"
      ]
     },
     "execution_count": 68,
     "metadata": {},
     "output_type": "execute_result"
    }
   ],
   "source": [
    "mylist is thirdlist # as said before mylist and thirdlist \n",
    "                    # *point* to the same list"
   ]
  },
  {
   "cell_type": "code",
   "execution_count": 69,
   "metadata": {},
   "outputs": [
    {
     "data": {
      "text/plain": [
       "True"
      ]
     },
     "execution_count": 69,
     "metadata": {},
     "output_type": "execute_result"
    }
   ],
   "source": [
    "fourthlist = list(mylist) # now mylist and fourtfhlist *point* to different list\n",
    "mylist == fourthlist"
   ]
  },
  {
   "cell_type": "code",
   "execution_count": 70,
   "metadata": {},
   "outputs": [
    {
     "data": {
      "text/plain": [
       "False"
      ]
     },
     "execution_count": 70,
     "metadata": {},
     "output_type": "execute_result"
    }
   ],
   "source": [
    "fourthlist = list(mylist) # now mylist and fourtfhlist *point* to different list\n",
    "fourthlist is mylist"
   ]
  },
  {
   "cell_type": "markdown",
   "metadata": {},
   "source": [
    "![In this case mylist has been cloned into fourthlist](pic5.png)\n",
    "\n",
    "List can contain objects of different kind but indices has to be integer"
   ]
  },
  {
   "cell_type": "code",
   "execution_count": 71,
   "metadata": {},
   "outputs": [
    {
     "name": "stdout",
     "output_type": "stream",
     "text": [
      "[1, 2, 'b', <built-in function sqrt>]\n"
     ]
    }
   ],
   "source": [
    "mixedlist = [1, 2, \"b\", math.sqrt]\n",
    "print (mixedlist)"
   ]
  },
  {
   "cell_type": "code",
   "execution_count": 72,
   "metadata": {},
   "outputs": [
    {
     "name": "stdout",
     "output_type": "stream",
     "text": [
      "1\n"
     ]
    },
    {
     "ename": "TypeError",
     "evalue": "list indices must be integers or slices, not str",
     "output_type": "error",
     "traceback": [
      "\u001b[0;31m---------------------------------------------------------------------------\u001b[0m",
      "\u001b[0;31mTypeError\u001b[0m                                 Traceback (most recent call last)",
      "\u001b[0;32m<ipython-input-72-aea4c7f9789e>\u001b[0m in \u001b[0;36m<module>\u001b[0;34m()\u001b[0m\n\u001b[1;32m      1\u001b[0m \u001b[0mprint\u001b[0m \u001b[0;34m(\u001b[0m\u001b[0mmixedlist\u001b[0m\u001b[0;34m[\u001b[0m\u001b[0;36m0\u001b[0m\u001b[0;34m]\u001b[0m\u001b[0;34m)\u001b[0m\u001b[0;34m\u001b[0m\u001b[0;34m\u001b[0m\u001b[0m\n\u001b[0;32m----> 2\u001b[0;31m \u001b[0mprint\u001b[0m \u001b[0;34m(\u001b[0m\u001b[0mmixedlist\u001b[0m\u001b[0;34m[\u001b[0m\u001b[0;34m'k'\u001b[0m\u001b[0;34m]\u001b[0m\u001b[0;34m)\u001b[0m\u001b[0;34m\u001b[0m\u001b[0;34m\u001b[0m\u001b[0m\n\u001b[0m",
      "\u001b[0;31mTypeError\u001b[0m: list indices must be integers or slices, not str"
     ]
    }
   ],
   "source": [
    "print (mixedlist[0])\n",
    "print (mixedlist['k'])"
   ]
  },
  {
   "cell_type": "markdown",
   "metadata": {},
   "source": [
    "## Dictionaries\n",
    "\n",
    "Dictionaries are objects which map keys to values. Keys can be (almost) any kind of object (strings, numbers...) and they do not have to be sequential.\n",
    "\n",
    "$$\"apple\" \\rightarrow 4 $$\n",
    "$$\"banana\" \\rightarrow 5 $$\n",
    "\n",
    "Dictionaries are very flexible so that different keys can be different type of objects."
   ]
  },
  {
   "cell_type": "code",
   "execution_count": 73,
   "metadata": {},
   "outputs": [
    {
     "data": {
      "text/plain": [
       "4"
      ]
     },
     "execution_count": 73,
     "metadata": {},
     "output_type": "execute_result"
    }
   ],
   "source": [
    "adict = {\"apple\": 4, \"banana\": 5}\n",
    "adict[\"apple\"] # values are accessed through their key"
   ]
  },
  {
   "cell_type": "code",
   "execution_count": 74,
   "metadata": {},
   "outputs": [
    {
     "ename": "KeyError",
     "evalue": "'pear'",
     "output_type": "error",
     "traceback": [
      "\u001b[0;31m---------------------------------------------------------------------------\u001b[0m",
      "\u001b[0;31mKeyError\u001b[0m                                  Traceback (most recent call last)",
      "\u001b[0;32m<ipython-input-74-9d051ebd10de>\u001b[0m in \u001b[0;36m<module>\u001b[0;34m()\u001b[0m\n\u001b[0;32m----> 1\u001b[0;31m \u001b[0madict\u001b[0m\u001b[0;34m[\u001b[0m\u001b[0;34m\"pear\"\u001b[0m\u001b[0;34m]\u001b[0m \u001b[0;31m# error ! this key doesn't exists\u001b[0m\u001b[0;34m\u001b[0m\u001b[0;34m\u001b[0m\u001b[0m\n\u001b[0m",
      "\u001b[0;31mKeyError\u001b[0m: 'pear'"
     ]
    }
   ],
   "source": [
    "adict[\"pear\"] # error ! this key doesn't exists"
   ]
  },
  {
   "cell_type": "code",
   "execution_count": 75,
   "metadata": {},
   "outputs": [
    {
     "data": {
      "text/plain": [
       "False"
      ]
     },
     "execution_count": 75,
     "metadata": {},
     "output_type": "execute_result"
    }
   ],
   "source": [
    "\"pear\" in adict # indeed"
   ]
  },
  {
   "cell_type": "code",
   "execution_count": 76,
   "metadata": {},
   "outputs": [
    {
     "data": {
      "text/plain": [
       "2"
      ]
     },
     "execution_count": 76,
     "metadata": {},
     "output_type": "execute_result"
    }
   ],
   "source": [
    "len(adict)"
   ]
  },
  {
   "cell_type": "code",
   "execution_count": 77,
   "metadata": {},
   "outputs": [
    {
     "name": "stdout",
     "output_type": "stream",
     "text": [
      "2\n",
      "{'apple': 4, 'banana': 2}\n"
     ]
    }
   ],
   "source": [
    "adict[\"banana\"] = 2\n",
    "print (len(adict))\n",
    "print (adict)"
   ]
  },
  {
   "cell_type": "code",
   "execution_count": 78,
   "metadata": {},
   "outputs": [],
   "source": [
    "adict[math.log] = math.exp"
   ]
  },
  {
   "cell_type": "code",
   "execution_count": 79,
   "metadata": {},
   "outputs": [
    {
     "data": {
      "text/plain": [
       "dict_keys(['apple', 'banana', <built-in function log>])"
      ]
     },
     "execution_count": 79,
     "metadata": {},
     "output_type": "execute_result"
    }
   ],
   "source": [
    "adict.keys() # returns all the keys (they are not ordered in any way)"
   ]
  },
  {
   "cell_type": "code",
   "execution_count": 80,
   "metadata": {},
   "outputs": [
    {
     "name": "stdout",
     "output_type": "stream",
     "text": [
      "apple\n",
      "banana\n",
      "<built-in function log>\n"
     ]
    }
   ],
   "source": [
    "for key in adict.keys():\n",
    "    print (key)"
   ]
  },
  {
   "cell_type": "code",
   "execution_count": 81,
   "metadata": {},
   "outputs": [
    {
     "name": "stdout",
     "output_type": "stream",
     "text": [
      "4\n",
      "2\n",
      "<built-in function exp>\n"
     ]
    }
   ],
   "source": [
    "for value in adict.values():\n",
    "    print (value)"
   ]
  },
  {
   "cell_type": "code",
   "execution_count": 82,
   "metadata": {},
   "outputs": [
    {
     "name": "stdout",
     "output_type": "stream",
     "text": [
      "('apple', 4)\n",
      "('banana', 2)\n",
      "(<built-in function log>, <built-in function exp>)\n"
     ]
    }
   ],
   "source": [
    "for item in adict.items(): # items() returns a pair of key, value\n",
    "    print (item)"
   ]
  },
  {
   "cell_type": "code",
   "execution_count": 83,
   "metadata": {},
   "outputs": [
    {
     "data": {
      "text/plain": [
       "{'apple': 4,\n",
       " 'banana': 2,\n",
       " <function math.log>: <function math.exp>,\n",
       " 'watermelon': 0,\n",
       " 'strawberry': 1}"
      ]
     },
     "execution_count": 83,
     "metadata": {},
     "output_type": "execute_result"
    }
   ],
   "source": [
    "seconddict = {\"watermelon\": 0, \"strawberry\": 1}\n",
    "adict.update(seconddict) # update adict with the items in seconddict\n",
    "adict"
   ]
  },
  {
   "cell_type": "markdown",
   "metadata": {},
   "source": [
    "# Advanced hints\n",
    "\n",
    "If you would like to know much **more** about python during the course without the EDX site you can look these videos during the course in your spare time:\n",
    "\n",
    "Some more information about different kind of languages:\n",
    "https://www.youtube.com/watch?v=9oYFH4OmYDY\n",
    "\n",
    "Basic data types:\n",
    "https://www.youtube.com/watch?v=XIjrEt2lz1U\n",
    "\n",
    "Variables:\n",
    "https://www.youtube.com/watch?v=z2NLjdfxEyQ\n",
    "\n",
    "Branching:\n",
    "https://www.youtube.com/watch?v=8vr3nyg5QcM\n",
    "\n",
    "Tuples:\n",
    "https://www.youtube.com/watch?v=CwZyWaap5Z8\n",
    "\n",
    "Lists:\n",
    "https://www.youtube.com/watch?v=eMyWO0tcxKg\n",
    "\n",
    "List Operations:\n",
    "https://www.youtube.com/watch?v=rQBho4-bI3o\n",
    "\n",
    "Mutation, Aliasing, Cloning:\n",
    "https://www.youtube.com/watch?v=2SRXg8Or-Pc\n",
    "\n",
    "Functions as Objects:\n",
    "https://www.youtube.com/watch?v=pheM3rVmGMU\n",
    "\n",
    "Dictionaries:\n",
    "https://www.youtube.com/watch?v=elSt5hke-Rs"
   ]
  }
 ],
 "metadata": {
  "kernelspec": {
   "display_name": "Python 3",
   "language": "python",
   "name": "python3"
  },
  "language_info": {
   "codemirror_mode": {
    "name": "ipython",
    "version": 3
   },
   "file_extension": ".py",
   "mimetype": "text/x-python",
   "name": "python",
   "nbconvert_exporter": "python",
   "pygments_lexer": "ipython3",
   "version": "3.7.3"
  }
 },
 "nbformat": 4,
 "nbformat_minor": 2
}
