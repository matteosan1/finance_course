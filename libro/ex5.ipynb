{
 "cells": [
  {
   "cell_type": "markdown",
   "metadata": {},
   "source": [
    "# Exercise on Swaps and Bootstrapping\n",
    "\n",
    "### Exercise 5.1\n",
    "\n",
    "Consider two 5\\% coupon paying bonds and a par value of €100 with the clean market prices (exclusive of accrued interest) of €99.50 and €98.30 and having time for the maturity of 6 months and 1 year respectively.\n",
    "Determine the spot rate for the 6-month and 1-year bond.\n",
    "\n",
    "At the end of 6 months the bond will pay a coupon of €2.5 (= €100 * 5\\% / 2) plus the principal amount (= €100) which sums up to 102.50.\n",
    "To determine the 6m spot rate we can write the following equation, :\n",
    "\n",
    "$$ \\cfrac{102.5}{(1 + S_{6m}/2)} = 99.5~~\\rightarrow~~ S_{6m} = 2 \\cdot \\Big( \\frac{102.5}{99.5} - 1 \\Big) =  6.03 \\%$$\n",
    "\n",
    "At the end of another 6 months the second bond will pay a coupon of €2.5 (= €100 * 5\\% / 2) plus the principal amount (= €100) which sums up to €102.50. The bond is trading at €98.30, therefore, the 1-year spot rate $S_{1y}$ can be calculated using $S_{6m}$ as,\n",
    "\n",
    "$$ \\cfrac{2.5}{(1+S_{6m}/2)} + \\cfrac{102.5}{(1 + S_{1y}/2)^{2}} = 98.30 $$\n",
    "\n",
    "$$ \\cfrac{102.5}{(1 + S_{1y}/2)^{2}} = 98.30 - \\cfrac{2.5}{(1+0.03015)} $$\n",
    "\n",
    "$$ (2 + S_{1y})^{2} = \\cfrac{4\\cdot102.5}{98.87317} = 4.276428 $$\n",
    "\n",
    "$$ S_{1y}^{2} + 4\\cdot S_{1y} - 0.276428 = 0 $$ \n",
    "\n",
    "$$ S_{1y} = -2 \\pm \\sqrt{4 + 0.276428} =\\begin{cases}-4.06795~~\\textrm{not valid} \\\\ 0.06795 \\end{cases} $$"
   ]
  },
  {
   "cell_type": "code",
   "execution_count": null,
   "metadata": {},
   "outputs": [],
   "source": [
    "import pandas, datetime\n",
    "from finmarket import OvernightIndexSwap, generate_swap_dates\n",
    "\n",
    "obesrvation_date = datetime.date.today()\n",
    "df = pandas.read_excel('ois_data.xlsx')\n",
    "\n",
    "market_quotes = {}\n",
    "for i in range(len(df)):\n",
    "    key = df.loc[i, 'months']\n",
    "    value = df.loc[i, 'quote']\n",
    "    market_quotes[key] = value\n",
    "\n",
    "swaps = []\n",
    "for months, rate in market_quotes.items():\n",
    "        \n",
    "    swap = OvernightIndexSwap(1e6,\n",
    "                              generate_swap_dates(observation_date,\n",
    "                                                  months),\n",
    "                              0.01 * rate\n",
    "                              )\n",
    "    swaps.append(swap)"
   ]
  },
  {
   "cell_type": "code",
   "execution_count": 30,
   "metadata": {},
   "outputs": [
    {
     "name": "stdout",
     "output_type": "stream",
     "text": [
      "9\n",
      "6\n"
     ]
    }
   ],
   "source": [
    "def func(a, b, c):\n",
    "    return a + b * c\n",
    "\n",
    "print (func(c=4, b=2, a=1))\n",
    "print (func(4, 2, 1))"
   ]
  },
  {
   "cell_type": "code",
   "execution_count": null,
   "metadata": {},
   "outputs": [],
   "source": []
  }
 ],
 "metadata": {
  "kernelspec": {
   "display_name": "Python 3",
   "language": "python",
   "name": "python3"
  },
  "language_info": {
   "codemirror_mode": {
    "name": "ipython",
    "version": 3
   },
   "file_extension": ".py",
   "mimetype": "text/x-python",
   "name": "python",
   "nbconvert_exporter": "python",
   "pygments_lexer": "ipython3",
   "version": "3.6.3"
  }
 },
 "nbformat": 4,
 "nbformat_minor": 4
}
