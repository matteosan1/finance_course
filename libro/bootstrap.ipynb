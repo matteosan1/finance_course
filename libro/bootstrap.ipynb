{
 "cells": [
  {
   "cell_type": "markdown",
   "metadata": {},
   "source": [
    "\n",
    "## Basis Swap Par Spreads\n",
    "\n",
    "## Bootstrapping technique to derive discount curve\n",
    "\n",
    "The first step of our project consists in extracting a discount curve (which is characterized by pillar dates and the corresponding discount factors) from OIS market data, via a process called bootstrapping. Bootstrapping describes a procedure used to calculate the zero-coupon yield curve from market figures."
   ]
  },
  {
   "cell_type": "code",
   "execution_count": 2,
   "metadata": {},
   "outputs": [
    {
     "ename": "ModuleNotFoundError",
     "evalue": "No module named 'finmarkets'",
     "output_type": "error",
     "traceback": [
      "\u001b[0;31m---------------------------------------------------------------------------\u001b[0m",
      "\u001b[0;31mModuleNotFoundError\u001b[0m                       Traceback (most recent call last)",
      "\u001b[0;32m<ipython-input-2-b7daf9c9313e>\u001b[0m in \u001b[0;36m<module>\u001b[0;34m\u001b[0m\n\u001b[1;32m      1\u001b[0m \u001b[0;32mfrom\u001b[0m \u001b[0mdatetime\u001b[0m \u001b[0;32mimport\u001b[0m \u001b[0mdate\u001b[0m\u001b[0;34m\u001b[0m\u001b[0m\n\u001b[0;32m----> 2\u001b[0;31m \u001b[0;32mfrom\u001b[0m \u001b[0mfinmarkets\u001b[0m \u001b[0;32mimport\u001b[0m \u001b[0mDiscountCurve\u001b[0m\u001b[0;34m,\u001b[0m\u001b[0mOvernightIndexSwap\u001b[0m\u001b[0;34m,\u001b[0m\u001b[0mgenerate_swap_dates\u001b[0m\u001b[0;34m\u001b[0m\u001b[0m\n\u001b[0m\u001b[1;32m      3\u001b[0m \u001b[0;32mfrom\u001b[0m \u001b[0mcurve_data\u001b[0m \u001b[0;32mimport\u001b[0m \u001b[0meuribor_3m_curve\u001b[0m\u001b[0;34m,\u001b[0m \u001b[0meuribor_6m_curve\u001b[0m\u001b[0;34m,\u001b[0m\u001b[0meuribor_1m_curve\u001b[0m\u001b[0;34m,\u001b[0m \u001b[0mdiscount_curve\u001b[0m\u001b[0;34m\u001b[0m\u001b[0m\n\u001b[1;32m      4\u001b[0m \u001b[0;32mfrom\u001b[0m \u001b[0mois_data\u001b[0m \u001b[0;32mimport\u001b[0m \u001b[0mbasis_swaps\u001b[0m\u001b[0;34m,\u001b[0m \u001b[0mobservation_date\u001b[0m\u001b[0;34m,\u001b[0m \u001b[0mquotes\u001b[0m\u001b[0;34m\u001b[0m\u001b[0m\n",
      "\u001b[0;31mModuleNotFoundError\u001b[0m: No module named 'finmarkets'"
     ]
    }
   ],
   "source": [
    "from datetime import date\n",
    "from finmarkets import DiscountCurve,OvernightIndexSwap,generate_swap_dates\n",
    "from curve_data import euribor_3m_curve, euribor_6m_curve,euribor_1m_curve, discount_curve\n",
    "from ois_data import basis_swaps, observation_date, quotes"
   ]
  },
  {
   "cell_type": "markdown",
   "metadata": {},
   "source": [
    "## Description of the classes that we used\n",
    "\n",
    "\n",
    "Before starting with our code, we imported some fundamental classes from the finmarkets file. We started with the DiscountCurve class. The main attribute of this class are:\n",
    "\n",
    "* a list pillar dates specifying the value dates of the given discount factors t0,....,tn.\n",
    "* a list of given discount factors D(t0), ..., D(tn).\n",
    "* a pricing date (' observation_date') which corresponds to t0.\n",
    "\n",
    "Since the discount factor can be expressed as $ D = \\mathrm{exp}( -r ( T-t)) $ , we wrote a function called df for calculating a discount factor at any date, using log-linear interpolation.\n",
    "\n",
    "Moreover, the formula to calculate the forward rates can be found exploiting the no arbitrage condition $ (1 + r1T1) (1 + r1,2 (T2 - T1)) = 1 + r2T2 $\n",
    "\n",
    "Another important class used is the OvernightIndexSwap. OIS are products which pay a floating coupon, determined by overnight rate fixings over the reference periods, against a fixed coupon. By definition an OIS is defined by:\n",
    "\n",
    "* a notional amount N\n",
    "* a start date d0\n",
    "* a sequence of payment dates d1, ..., dn\n",
    "* a fixed rate K\n",
    "\n",
    "Our goal will be to take a series of OIS quotations ('ois_data.quotes'), and determine the OIS's NPV given a certain discount curve. However, using the Bootstrapping technique we are going to somehow reverse this procedure. Therefore, the final aim will be to get the discount curve such that it prices correctly each OIS ( by minimizing the sum of the square NPVs).\n",
    "\n",
    "Finally, we imported generateswap dates, a function which given a start date and the number of months, returns a list of dates of annual frequency starting from the start date and ending after the specified number of months."
   ]
  },
  {
   "cell_type": "code",
   "execution_count": null,
   "metadata": {},
   "outputs": [],
   "source": [
    "d = {}\n",
    "pillar_dates = [observation_date]\n",
    "swaps = [] \n",
    "for quote in quotes:\n",
    "    swap = OvernightIndexSwap(\n",
    "    1e6,\n",
    "    generate_swap_dates(\n",
    "    observation_date,\n",
    "    quote['maturity']\n",
    "    ),\n",
    "    0.01 * quote['rate']\n",
    "    )\n",
    "    swaps.append(swap)\n",
    "    pillar_dates.append(swap.payment_dates[-1])\n",
    "\n",
    "pillar_dates = sorted(pillar_dates)\n",
    "n_df_vector = len(pillar_dates)\n",
    "\n",
    "type(pillar_dates), len(pillar_dates), pillar_dates[0], pillar_dates[-1]\n",
    "\n",
    "def objective_function(x):\n",
    "    curve = DiscountCurve(\n",
    "        observation_date,\n",
    "        pillar_dates,\n",
    "        x\n",
    ")\n",
    "    sum_sq = 0.0\n",
    "    for swap in swaps:\n",
    "        sum_sq += swap.npv(curve) ** 2\n",
    "    return sum_sq\n",
    "\n",
    "from scipy.optimize import minimize\n",
    "from matplotlib import pyplot as plt\n",
    "\n",
    "x0 = [1.0 for i in range(n_df_vector)]\n",
    "\n",
    "bounds = [(0.01, 100.0) for i in range(n_df_vector)]\n",
    "bounds[0] = (1.0, 1.0)\n",
    "result = minimize(objective_function, x0, bounds=bounds)\n",
    "\n",
    "print(result.x)\n",
    "discount_curve = DiscountCurve(observation_date, pillar_dates, result.x)\n",
    "print(pillar_dates)"
   ]
  },
  {
   "cell_type": "markdown",
   "metadata": {},
   "source": [
    "### What the minimization algorithm actually does:\n",
    "\n",
    "* It starts with our initial guess of the parameters and compute the objective function value;\n",
    "* Move the parameters to reduce the value of the objective function;\n",
    "* Repeat above step until further changes of the parameters do not bring additional reduction of the objective function.\n",
    "\n",
    "We can use a graph to check whether the minimization algorithm actually worked or not."
   ]
  },
  {
   "cell_type": "code",
   "execution_count": 1,
   "metadata": {},
   "outputs": [
    {
     "ename": "NameError",
     "evalue": "name 'result' is not defined",
     "output_type": "error",
     "traceback": [
      "\u001b[0;31m---------------------------------------------------------------------------\u001b[0m",
      "\u001b[0;31mNameError\u001b[0m                                 Traceback (most recent call last)",
      "\u001b[0;32m<ipython-input-1-2b14d6bff7d4>\u001b[0m in \u001b[0;36m<module>\u001b[0;34m\u001b[0m\n\u001b[1;32m      1\u001b[0m \u001b[0;32mfrom\u001b[0m \u001b[0mmatplotlib\u001b[0m \u001b[0;32mimport\u001b[0m \u001b[0mpyplot\u001b[0m \u001b[0;32mas\u001b[0m \u001b[0mplt\u001b[0m\u001b[0;34m\u001b[0m\u001b[0m\n\u001b[1;32m      2\u001b[0m \u001b[0;34m\u001b[0m\u001b[0m\n\u001b[0;32m----> 3\u001b[0;31m \u001b[0mplt\u001b[0m\u001b[0;34m.\u001b[0m\u001b[0mplot\u001b[0m\u001b[0;34m(\u001b[0m\u001b[0mresult\u001b[0m\u001b[0;34m.\u001b[0m\u001b[0mx\u001b[0m\u001b[0;34m,\u001b[0m\u001b[0;34m)\u001b[0m\u001b[0;34m\u001b[0m\u001b[0m\n\u001b[0m",
      "\u001b[0;31mNameError\u001b[0m: name 'result' is not defined"
     ]
    }
   ],
   "source": [
    "from matplotlib import pyplot as plt\n",
    "\n",
    "plt.plot(result.x,)"
   ]
  },
  {
   "cell_type": "markdown",
   "metadata": {},
   "source": [
    "## Par Spreads and NPV\n",
    "\n",
    "A Tenor Basis Swap, also known as a floating-floating interest rate swap, is a financial instrument whereby floating cashflows from two different interest rates are exchanged, typically floating Libor indices of the same currency are exchanged e.g. 3M Libor vs 6M Libor cash- flows.\n",
    "\n",
    "The contract parameters are:\n",
    "\n",
    "* start date d0\n",
    "* notional N\n",
    "    floating rate long tenor (months)\n",
    "    floating rate short tenor (months)\n",
    "    maturity (years)\n",
    "\n",
    "The floating legs pay the reference LIBOR fixing at a frequency equal to the tenor of the floating rate.\n",
    "\n",
    "The basis spread informs investors what adjustment or spread to add to the lower tenor Libor index so that the interest payments on both legs of the basis swap are equivalent.\n",
    "\n",
    "We can easiy calculate S as: par%20spread%203%20x6.png\n",
    "\n",
    "In the general case we write par%20spread%20general.png\n",
    "\n",
    "Where long index denotes the Libor index with the longer tenor and short index the Libor index with the shorter tenor.\n"
   ]
  }
 ],
 "metadata": {
  "kernelspec": {
   "display_name": "Python 3",
   "language": "python",
   "name": "python3"
  },
  "language_info": {
   "codemirror_mode": {
    "name": "ipython",
    "version": 3
   },
   "file_extension": ".py",
   "mimetype": "text/x-python",
   "name": "python",
   "nbconvert_exporter": "python",
   "pygments_lexer": "ipython3",
   "version": "3.6.3"
  }
 },
 "nbformat": 4,
 "nbformat_minor": 4
}
