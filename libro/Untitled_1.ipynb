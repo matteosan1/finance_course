{
 "cells": [
  {
   "cell_type": "markdown",
   "metadata": {},
   "source": [
    "$$ \\int_{1}^{2}{(2x + 1)dx} = (x^2 + x |_{1}^{2} = (6 - 2) = 4 $$\n",
    "\n",
    "$$ 2x + 1 = t \\implies dt = 2dx $$\n",
    "\n",
    "$$ t_0 = 3; t_1 = 5 $$\n",
    "\n",
    "$$ \\int_{3}^{5}{t/2 dt} = (t^2/4|_3^5 = (6.25 - 2.25) = 4 $$"
   ]
  },
  {
   "cell_type": "code",
   "execution_count": 5,
   "metadata": {},
   "outputs": [
    {
     "data": {
      "text/plain": [
       "6.25"
      ]
     },
     "execution_count": 5,
     "metadata": {},
     "output_type": "execute_result"
    }
   ],
   "source": [
    "(5**2)/4"
   ]
  },
  {
   "cell_type": "markdown",
   "metadata": {},
   "source": [
    "$$ \\int_{1}^{2}{(2x)dx} = (x^2 |_{1}^{2} = 6 $$\n",
    "\n",
    "$$ 2x = t \\implies dt = 2dx $$\n",
    "\n",
    "$$ t_0 = 3; t_1 = 5 $$\n",
    "\n",
    "$$ \\int_{3}^{5}{t/2 dt} = (t^2/4|_3^5 = (6.25 - 2.25) = 4 $$"
   ]
  },
  {
   "cell_type": "markdown",
   "metadata": {},
   "source": [
    "A dictionary is a container that maps a key (any object) to a value (any object), contrary to lists which map an integer (the index) to a value (any object)."
   ]
  },
  {
   "cell_type": "code",
   "execution_count": 3,
   "metadata": {},
   "outputs": [
    {
     "name": "stdout",
     "output_type": "stream",
     "text": [
      "Exam\t\tVote\n",
      "calculus:\t28\n",
      "physics:\t30\n",
      "chemistry:\t24\n",
      "laboratory:\t27\n"
     ]
    }
   ],
   "source": [
    "dictionary = {\"calculus\":28, \"physics\":30, \"chemistry\":25}\n",
    "\n",
    "dictionary[\"laboratory\"] = 27\n",
    "dictionary[\"chemistry\"] = 24\n",
    "\n",
    "print (\"Exam\\t\\tVote\")\n",
    "for k, v in dictionary.items():\n",
    "    print (\"{}:\\t{}\".format(k, v))\n"
   ]
  },
  {
   "cell_type": "code",
   "execution_count": 6,
   "metadata": {},
   "outputs": [
    {
     "name": "stdout",
     "output_type": "stream",
     "text": [
      "1\n",
      "5\n",
      "6\n"
     ]
    }
   ],
   "source": [
    "l = [3, 5, 2, 1, 13, 5, 5, 1, 3, 4]\n",
    "\n",
    "for i in range(len(l)):\n",
    "    if l[i] == 5:\n",
    "        print (i)"
   ]
  },
  {
   "cell_type": "code",
   "execution_count": 8,
   "metadata": {},
   "outputs": [
    {
     "name": "stdout",
     "output_type": "stream",
     "text": [
      "{'x': 3, 'y': 2, 'z': 1}\n"
     ]
    }
   ],
   "source": [
    "l = [(\"x\", 1), (\"x\", 2), (\"x\", 3), (\"y\", 1), (\"y\", 2), (\"z\", 1)]\n",
    "\n",
    "d = {}\n",
    "for item in l:\n",
    "    d[item[0]] = item[1]\n",
    "    \n",
    "print (d)\n"
   ]
  },
  {
   "cell_type": "markdown",
   "metadata": {},
   "source": [
    "Note that there is just one occurrency of the key $\\tt{x}$ and $\\tt{y}$ because keys has to be unique and setting the same key to a different value simply overwrite the existing entry."
   ]
  },
  {
   "cell_type": "code",
   "execution_count": 9,
   "metadata": {},
   "outputs": [
    {
     "name": "stdout",
     "output_type": "stream",
     "text": [
      "[(10, 20, 50), (40, 50, 70), (70, 80, 100)]\n"
     ]
    }
   ],
   "source": [
    "l = [(10, 20, 40), (40, 50, 60), (70, 80, 90)]\n",
    "\n",
    "for i in range(len(l)):\n",
    "    new_tuple = l[i][0:2] + (l[i][2] + 10,)\n",
    "    l[i] = new_tuple\n",
    "    \n",
    "print (l)"
   ]
  },
  {
   "cell_type": "code",
   "execution_count": 22,
   "metadata": {},
   "outputs": [
    {
     "name": "stdout",
     "output_type": "stream",
     "text": [
      "There are 3 items before a tuple.\n"
     ]
    }
   ],
   "source": [
    "l = [1, 5, \"a\", (1,2), {\"test\":1}]\n",
    "\n",
    "number_of_items = 0\n",
    "for item in l:\n",
    "    if type(item) != tuple:\n",
    "        number_of_items = number_of_items + 1\n",
    "    else:\n",
    "        break\n",
    "        \n",
    "print (\"There are {} items before a tuple.\".format(number_of_items))"
   ]
  },
  {
   "cell_type": "code",
   "execution_count": 26,
   "metadata": {},
   "outputs": [
    {
     "name": "stdout",
     "output_type": "stream",
     "text": [
      "{1: 10, 2: 20, 3: 30, 4: 40, 5: 50, 6: 60}\n"
     ]
    }
   ],
   "source": [
    "dic1={1:10, 2:20}\n",
    "dic2={3:30, 4:40}\n",
    "dic3={5:50,6:60}\n",
    "\n",
    "dic_tot = dict()\n",
    "dic_tot.update(dic1)\n",
    "dic_tot.update(dic2)\n",
    "dic_tot.update(dic3)\n",
    "\n",
    "print (dic_tot)"
   ]
  },
  {
   "cell_type": "code",
   "execution_count": 28,
   "metadata": {},
   "outputs": [
    {
     "name": "stdout",
     "output_type": "stream",
     "text": [
      "False\n",
      "True\n"
     ]
    }
   ],
   "source": [
    "dic = {\"a\":1, \"b\":2, \"c\":3}\n",
    "\n",
    "print (\"z\" in dic)\n",
    "print (\"a\" in dic)"
   ]
  },
  {
   "cell_type": "code",
   "execution_count": 29,
   "metadata": {},
   "outputs": [
    {
     "name": "stdout",
     "output_type": "stream",
     "text": [
      "{'a': 400, 'b': 400, 'c': 300, 'd': 400}\n"
     ]
    }
   ],
   "source": [
    "d1 = {'a': 100, 'b': 200, 'c':300}\n",
    "d2 = {'a': 300, 'b': 200, 'd':400}\n",
    "\n",
    "d = {}\n",
    "d.update(d1)\n",
    "\n",
    "for k in d2.keys():\n",
    "    if k in d:\n",
    "        d[k] = d[k] + d2[k]\n",
    "    else:\n",
    "        d[k] = d2[k]\n",
    "\n",
    "print (d)"
   ]
  },
  {
   "cell_type": "markdown",
   "metadata": {},
   "source": [
    "Input: \n",
    "```python\n",
    "l = [(\"x\", 1), (\"x\", 2), (\"x\", 3), (\"y\", 1), (\"y\", 2), (\"z\", 1)]\n",
    "```\n",
    "\n",
    "Input: \n",
    "```python \n",
    "l = [(10, 20, 40), (40, 50, 60), (70, 80, 90)]\n",
    "```\n",
    "\n",
    "Input:\n",
    "```python\n",
    "dic1={1:10, 2:20}\n",
    "dic2={3:30, 4:40}\n",
    "dic3={5:50,6:60}\n",
    "```\n",
    "\n",
    "Input:\n",
    "```python\n",
    "{[1, 5, ``a'', (1,2), {``test'':1}]}\n",
    "```"
   ]
  },
  {
   "cell_type": "code",
   "execution_count": 31,
   "metadata": {},
   "outputs": [
    {
     "name": "stdout",
     "output_type": "stream",
     "text": [
      "4\n"
     ]
    }
   ],
   "source": [
    "alist = [[1,2], [3,4], [5,6]]\n",
    "print (alist[1][1]) # first [1] returns [3,4], second returns 4"
   ]
  },
  {
   "cell_type": "code",
   "execution_count": 2,
   "metadata": {},
   "outputs": [],
   "source": [
    "def powers(l, n=2, c=0):\n",
    "    \"\"\"\n",
    "a shifted power function example    \n",
    "    \"\"\"\n",
    "    return [item**n+c for item in l]"
   ]
  },
  {
   "cell_type": "code",
   "execution_count": 3,
   "metadata": {},
   "outputs": [
    {
     "name": "stdout",
     "output_type": "stream",
     "text": [
      "Help on function powers in module __main__:\n",
      "\n",
      "powers(l, n=2, c=0)\n",
      "    a shifted power function example\n",
      "\n"
     ]
    }
   ],
   "source": [
    "help(powers)"
   ]
  },
  {
   "cell_type": "code",
   "execution_count": 13,
   "metadata": {},
   "outputs": [
    {
     "name": "stdout",
     "output_type": "stream",
     "text": [
      "a\n",
      "b\n",
      "c\n",
      "d\n",
      "e\n",
      "f\n",
      "g\n",
      "h\n",
      "i\n"
     ]
    }
   ],
   "source": [
    "a = [[\"a\", \"b\", \"c\"],[\"d\", \"e\", \"f\"],[\"g\", \"h\", \"i\"]]\n",
    "for i in range(3):\n",
    "    for j in range(3):\n",
    "        print (a[i][j])"
   ]
  },
  {
   "cell_type": "code",
   "execution_count": 12,
   "metadata": {},
   "outputs": [
    {
     "name": "stdout",
     "output_type": "stream",
     "text": [
      "a\n",
      "e\n",
      "i\n",
      "a\n",
      "e\n",
      "i\n",
      "a\n",
      "e\n",
      "i\n"
     ]
    }
   ],
   "source": [
    "a = [[\"a\", \"b\", \"c\"],[\"d\", \"e\", \"f\"],[\"g\", \"h\", \"i\"]]\n",
    "for i in range(3):\n",
    "    for i in range(3):\n",
    "        print (a[i][i])"
   ]
  },
  {
   "cell_type": "code",
   "execution_count": 4,
   "metadata": {},
   "outputs": [
    {
     "name": "stdout",
     "output_type": "stream",
     "text": [
      "{6: 17, 0: 18, 2: 17, 3: 17, 4: 17, 5: 17, 1: 17}\n"
     ]
    }
   ],
   "source": [
    "import datetime\n",
    "from dateutil.relativedelta import relativedelta\n",
    "birthday = datetime.date(1974, 10, 20)\n",
    "\n",
    "d = {}\n",
    "for i in range(120):\n",
    "    wd = ((birthday + relativedelta(years=i)).weekday())\n",
    "    if wd in d.keys():\n",
    "        d[wd] = d[wd] + 1\n",
    "    else:\n",
    "        d[wd] = 1\n",
    "        \n",
    "print (d)"
   ]
  },
  {
   "cell_type": "code",
   "execution_count": 4,
   "metadata": {},
   "outputs": [
    {
     "data": {
      "text/html": [
       "<div>\n",
       "<style scoped>\n",
       "    .dataframe tbody tr th:only-of-type {\n",
       "        vertical-align: middle;\n",
       "    }\n",
       "\n",
       "    .dataframe tbody tr th {\n",
       "        vertical-align: top;\n",
       "    }\n",
       "\n",
       "    .dataframe thead th {\n",
       "        text-align: right;\n",
       "    }\n",
       "</style>\n",
       "<table border=\"1\" class=\"dataframe\">\n",
       "  <thead>\n",
       "    <tr style=\"text-align: right;\">\n",
       "      <th></th>\n",
       "      <th>months</th>\n",
       "      <th>quote</th>\n",
       "    </tr>\n",
       "  </thead>\n",
       "  <tbody>\n",
       "    <tr>\n",
       "      <th>0</th>\n",
       "      <td>1</td>\n",
       "      <td>-0.350</td>\n",
       "    </tr>\n",
       "    <tr>\n",
       "      <th>1</th>\n",
       "      <td>2</td>\n",
       "      <td>-0.347</td>\n",
       "    </tr>\n",
       "    <tr>\n",
       "      <th>2</th>\n",
       "      <td>3</td>\n",
       "      <td>-0.348</td>\n",
       "    </tr>\n",
       "    <tr>\n",
       "      <th>3</th>\n",
       "      <td>4</td>\n",
       "      <td>-0.350</td>\n",
       "    </tr>\n",
       "    <tr>\n",
       "      <th>4</th>\n",
       "      <td>5</td>\n",
       "      <td>-0.350</td>\n",
       "    </tr>\n",
       "  </tbody>\n",
       "</table>\n",
       "</div>"
      ],
      "text/plain": [
       "   months  quote\n",
       "0       1 -0.350\n",
       "1       2 -0.347\n",
       "2       3 -0.348\n",
       "3       4 -0.350\n",
       "4       5 -0.350"
      ]
     },
     "execution_count": 4,
     "metadata": {},
     "output_type": "execute_result"
    }
   ],
   "source": [
    "import pandas, datetime\n",
    "\n",
    "observation_date = datetime.date.today()\n",
    "\n",
    "df = pandas.read_excel('ois_data.xlsx')\n",
    "df.head()"
   ]
  },
  {
   "cell_type": "code",
   "execution_count": 19,
   "metadata": {},
   "outputs": [
    {
     "name": "stdout",
     "output_type": "stream",
     "text": [
      "{1: -0.35, 2: -0.347, 3: -0.348, 4: -0.35, 5: -0.35, 6: -0.351, 7: -0.351, 8: -0.351, 9: -0.351, 10: -0.351, 11: -0.35, 12: -0.35, 15: -0.35, 18: -0.348, 21: -0.345, 24: -0.34, 36: -0.296, 48: -0.228, 60: -0.139, 72: -0.031, 84: 0.087, 96: 0.205, 108: 0.318, 120: 0.424, 132: 0.519, 144: 0.603, 180: 0.794, 240: 0.959, 300: 1.02, 360: 1.048, 480: 1.061, 600: 1.022, 720: 0.997}\n"
     ]
    }
   ],
   "source": [
    "market_quotes = {}\n",
    "\n",
    "for i in range(len(df)):\n",
    "    key = df.loc[i, 'months']\n",
    "    value = df.loc[i, 'quote']\n",
    "    market_quotes[key] = value\n",
    "    \n",
    "print (market_quotes)"
   ]
  },
  {
   "cell_type": "code",
   "execution_count": null,
   "metadata": {},
   "outputs": [],
   "source": []
  }
 ],
 "metadata": {
  "kernelspec": {
   "display_name": "Python 3",
   "language": "python",
   "name": "python3"
  },
  "language_info": {
   "codemirror_mode": {
    "name": "ipython",
    "version": 3
   },
   "file_extension": ".py",
   "mimetype": "text/x-python",
   "name": "python",
   "nbconvert_exporter": "python",
   "pygments_lexer": "ipython3",
   "version": "3.6.3"
  }
 },
 "nbformat": 4,
 "nbformat_minor": 4
}
