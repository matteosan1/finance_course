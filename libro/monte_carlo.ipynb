{
 "cells": [
  {
   "cell_type": "code",
   "execution_count": 2,
   "metadata": {},
   "outputs": [
    {
     "name": "stdout",
     "output_type": "stream",
     "text": [
      "P(sum equal to 1)  : 0.0\n",
      "P(sum equal to 4)  : 0.0867\n",
      "P(sum less than 13): 1.0\n"
     ]
    }
   ],
   "source": [
    "import random\n",
    "\n",
    "# set the number of experiments\n",
    "trials = 10000\n",
    "\n",
    "# dictionary to save our results\n",
    "results = {\"a\":0, \"b\":0, \"c\":0}\n",
    "\n",
    "random.seed(1)\n",
    "for _ in range(trials):\n",
    "    # simulate 1st die\n",
    "    d1 = random.randint(1,6)\n",
    "    # simulate 2nd die\n",
    "    d2 = random.randint(1,6)\n",
    "    \n",
    "    s = d1 + d2\n",
    "    \n",
    "    if s == 1:\n",
    "        results['a'] += 1\n",
    "    if s == 4:\n",
    "        results[\"b\"] += 1\n",
    "    if s < 13:\n",
    "        results['c'] += 1\n",
    "        \n",
    "print (\"P(sum equal to 1)  : {}\".format(float(results['a'])/float(trials)))\n",
    "print (\"P(sum equal to 4)  : {}\".format(float(results['b'])/float(trials)))\n",
    "print (\"P(sum less than 13): {}\".format(float(results['c'])/float(trials)))\n",
    "        "
   ]
  },
  {
   "cell_type": "code",
   "execution_count": null,
   "metadata": {},
   "outputs": [],
   "source": []
  }
 ],
 "metadata": {
  "kernelspec": {
   "display_name": "Python 3",
   "language": "python",
   "name": "python3"
  },
  "language_info": {
   "codemirror_mode": {
    "name": "ipython",
    "version": 3
   },
   "file_extension": ".py",
   "mimetype": "text/x-python",
   "name": "python",
   "nbconvert_exporter": "python",
   "pygments_lexer": "ipython3",
   "version": "3.7.4"
  }
 },
 "nbformat": 4,
 "nbformat_minor": 2
}
