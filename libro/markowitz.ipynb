{
 "cells": [
  {
   "cell_type": "markdown",
   "metadata": {},
   "source": [
    "## Portfolio Optimization\n",
    "\n",
    "Portfolio optimization models are concerned with investment where there are typically two criteria: expected return and risk. The investor wants the former to be high and the latter to be low. There is a variety of measures\n",
    "of risk. The most popular measure of risk has been variance in return. Even though there are some problems with it, we will first look at it very closely.\n",
    "\n",
    "### The Markowitz Mean/Variance Portfolio Model\n",
    "The portfolio model, introduced by Markowitz, assumes an investor has two considerations when constructing an investment portfolio: expected return and variance in return (i.e., risk). Variance measures the variability in realized return around the expected return. The Markowitz model requires two major kinds of information: \n",
    "\n",
    "* the estimated expected return for each candidate investment;\n",
    "* the covariance matrix of returns. \n",
    "\n",
    "The covariance matrix characterizes not only the individual variability of the return on each investment, but also how each investment’s return tends to move with other investments. \n",
    "\n",
    "Part of the appeal of the Markowitz model is it can be solved by efficient quadratic programming methods. Quadratic programming is the name applied to the class of models in which the objective function is a quadratic function and the constraints are linear. Thus, the objective function is allowed to have terms that are products of two variables such as $x^2$ and $x\\cdot y$.\n",
    "\n",
    "### Example\n",
    "In the following example data from Quandl will be used. The following table shows part of the sample which include for each entry a date and the corresponding closing price of five company stocks:"
   ]
  },
  {
   "cell_type": "code",
   "execution_count": 24,
   "metadata": {},
   "outputs": [
    {
     "name": "stdout",
     "output_type": "stream",
     "text": [
      "            adj_close                                         \n",
      "ticker            CNP          F         GE    TSLA        WMT\n",
      "date                                                          \n",
      "2014-01-02  19.116238  12.726742  24.266002  150.10  71.343743\n",
      "2014-01-03  19.107861  12.784441  24.248354  149.56  71.108673\n",
      "2014-01-06  19.132992  12.842140  24.054226  147.00  70.710863\n",
      "2014-01-07  19.334039  12.677286  24.080698  149.36  70.927850\n",
      "2014-01-08  19.132992  12.809169  24.010106  151.28  70.367299\n"
     ]
    }
   ],
   "source": [
    "import pandas as pd, numpy as np, matplotlib.pyplot as plt, scipy.optimize as sco\n",
    "\n",
    "temp = pd.read_csv(\"quandl.csv\")\n",
    "clean = temp.set_index('date')\n",
    "df = clean.pivot(columns='ticker')\n",
    "\n",
    "print (df.head())"
   ]
  },
  {
   "cell_type": "markdown",
   "metadata": {},
   "source": [
    "With \\texttt{pandas} the main characteristics of these time series can be easily computed (e.g. daily returns, covariance matrix):"
   ]
  },
  {
   "cell_type": "code",
   "execution_count": 29,
   "metadata": {},
   "outputs": [
    {
     "name": "stdout",
     "output_type": "stream",
     "text": [
      "           adj_close                                        \n",
      "ticker           CNP         F        GE      TSLA       WMT\n",
      "date                                                        \n",
      "2014-01-02       NaN       NaN       NaN       NaN       NaN\n",
      "2014-01-03 -0.000438  0.004534 -0.000727 -0.003598 -0.003295\n",
      "2014-01-06  0.001315  0.004513 -0.008006 -0.017117 -0.005594\n",
      "2014-01-07  0.010508 -0.012837  0.001101  0.016054  0.003069\n",
      "2014-01-08 -0.010399  0.010403 -0.002931  0.012855 -0.007903\n",
      "                 adj_close                                        \n",
      "ticker                 CNP         F        GE      TSLA       WMT\n",
      "          ticker                                                  \n",
      "adj_close CNP     0.000140  0.000043  0.000046  0.000059  0.000034\n",
      "          F       0.000043  0.000200  0.000083  0.000095  0.000039\n",
      "          GE      0.000046  0.000083  0.000161  0.000073  0.000035\n",
      "          TSLA    0.000059  0.000095  0.000073  0.000656  0.000049\n",
      "          WMT     0.000034  0.000039  0.000035  0.000049  0.000143\n"
     ]
    }
   ],
   "source": [
    "# daily returns\n",
    "daily_returns = df.pct_change()\n",
    "print (daily_returns.head())\n",
    "\n",
    "# covariance\n",
    "covariance = daily_returns.cov()\n",
    "print (covariance)"
   ]
  },
  {
   "cell_type": "markdown",
   "metadata": {},
   "source": [
    "The correlation matrix makes it more obvious how two random variables move together. The correlation between two random variables equals the covariance between the two variables, divided by the product of the standard deviations of the two random variables. \n",
    "The correlation can be between -1 and +1 with +1 (-1) being perfect correlation (anticorrelation) between the two.\n",
    "In our sample correlations are quite small but all the stocks are positively correlated.\n",
    "\n",
    "### Optimization\n",
    "\n",
    "Let $w_i$ represent the fraction of the portfolio devoted to each stock, Markowitz model states that the weights $w_i$ should be choosen such that the portfolio volatility (variance) is minimized. So the application of Markovitz model reduces to an optimization problem, given $V$ the covariance matrix of the portfolio estimated before from the historical series:\n",
    "\n",
    "$$ V = \\sum_{i}\\sum_{j} (w_i w_j V_{ij})^{2} $$\n",
    "\n",
    "with the constraint $\\sum_{i}w_i = 1$ and $0 \\le w_i \\le 1$.\n",
    "\n",
    "\n",
    "\n",
    "\n",
    "and suppose, we desire a 15\\% yearly return. The entire model can be written as:\n",
    "\n",
    "$$ \n",
    "MODEL:\n",
    "!Minimize end-of-period variance in portfolio value;\n",
    "[VAR] MIN = .01080754 * ATT * ATT +.01240721 * ATT * GMC +\n",
    ".01307513 * ATT * USX +.01240721 * GMC * ATT +.05839170 * GMC *\n",
    "GMC +.05542639 * GMC * USX +.01307513 * USX * ATT +.05542639 * USX\n",
    "* GMC +.09422681 * USX * USX;\n",
    "! Use exactly 100% of the starting budget;\n",
    "[BUD] ATT + GMC + USX = 1;\n",
    "! Required wealth at end of period;\n",
    "[RET] 1.089083 * ATT + 1.213667 * GMC + 1.234583 * USX >= 1.15;\n",
    "END\n",
    "\n",
    "This can be translated into \\texttt{python} \n",
    "When we solve the model, we get:\n",
    "Optimal solution found at step: 4\n",
    "Objective value: 0.2241375E-01\n",
    "Variable Value Reduced Cost\n",
    "TARGET 1.150000 0.0000000\n",
    "AMT( ATT) 0.5300926 0.0000000\n",
    "AMT( GMC) 0.3564106 0.0000000\n",
    "AMT( USX) 0.1134968 0.0000000\n",
    "RET( ATT) 1.089083 0.0000000\n",
    "RET( GMC) 1.213667 0.0000000\n",
    "RET( USX) 1.234583 0.0000000\n",
    "Row Slack or Surplus Dual Price\n",
    "VAR 0.2241375E-01 1.000000\n",
    "BUDGET 0.0000000 0.3621387\n",
    "RETURN 0.0000000 -0.3538836\n",
    "\n",
    "The solution recommends about 53% of the portfolio be put in ATT, about 36% in GMC and just\n",
    "over 11% in USX. The expected return is 15%, with a variance of 0.02241381 or, equivalently, a\n",
    "standard deviation of about 0.1497123.\n",
    "We based the model simply on straightforward statistical data based on daily returns. \n",
    "Also, rather than use historical data for estimating the expected return of an asset, a decision maker\n",
    "might base the expected return estimate on more current, proprietary information about expected future\n",
    "performance of the asset. "
   ]
  },
  {
   "cell_type": "markdown",
   "metadata": {},
   "source": [
    "### Efficient Frontier and Parametric Analysis\n",
    "There is no precise way for an investor to determine the “correct” tradeoff between risk and return.\n",
    "Thus, one is frequently interested in looking at the tradeoff between the two. If an investor wants a\n",
    "higher expected return, she generally has to “pay for it” with higher risk. In finance terminology, we\n",
    "would like to trace out the efficient frontier of return and risk. If we solve for the minimum variance\n",
    "portfolio over a range of values for the expected return, ranging from 0.02 to 0.15, we get\n",
    "the following plot or tradeoff curve for our example."
   ]
  },
  {
   "cell_type": "markdown",
   "metadata": {},
   "source": [
    "Notice the “knee” in the curve as the required expected return increases past 1.21894. This is the\n",
    "point where ATT drops out of the portfolio."
   ]
  },
  {
   "cell_type": "markdown",
   "metadata": {},
   "source": [
    "### Portfolios with a Risk-Free Asset\n",
    "When one of the investments available is risk free, then the optimal portfolio composition has a\n",
    "particularly simple form. Suppose the opportunity to invest money risk free (e.g., in government\n",
    "treasury bills) at 5\\% per year has just become available. Working with our previous example, we now\n",
    "have an additional investment instrument that has zero variance and zero covariance. There is no limit on\n",
    "how much can be invested at 5\\%. We ask the question: how does the portfolio composition change as\n",
    "the desired rate of return changes from 15\\% to 5\\%?"
   ]
  },
  {
   "cell_type": "markdown",
   "metadata": {},
   "source": [
    "When solved, we find:\n",
    "Optimal solution found at step: 8\n",
    "Objective value: 0.2080344E-01\n",
    "Variable Value Reduced Cost\n",
    "ATT 0.8686550E-01 -0.2093725E-07\n",
    "GMC 0.4285285 0.0000000\n",
    "USX 0.1433992 -0.2218303E-07\n",
    "TBILL 0.3412068 0.0000000\n",
    "Row Slack or Surplus Dual Price\n",
    "VAR 0.2080344E-01 1.000000\n",
    "BUD 0.0000000 0.4368723\n",
    "RET 0.0000000 -0.4160689\n",
    "Notice more than 34% of the portfolio was invested in the risk-free investment, even though its\n",
    "return rate, 5%, is less than the target of 15%. Further, the variance has dropped to about 0.0208 from\n",
    "about 0.0224.\n",
    "What happens as we decrease the target return towards 5%? Clearly, at 5%, we would put zero in\n",
    "ATT, GMC, and USX. A simple form of solution would be to keep the same proportions in ATT, GMC,\n",
    "and USX, but just change the allocation between the risk-free asset and the risky ones. Let us check an\n",
    "intermediate point. When we decrease the required return to 10%, we get the following solution:\n",
    "Optimal solution found at step: 8\n",
    "Objective value: 0.5200865E-02\n",
    "Variable Value Reduced Cost\n",
    "ATT 0.4342898E-01 0.0000000\n",
    "GMC 0.2142677 0.2857124E-06\n",
    "USX 0.7169748E-01 0.1232479E-06\n",
    "TBILL 0.6706058 0.0000000\n",
    "Row Slack or Surplus Dual Price\n",
    "VAR 0.5200865E-02 1.000000\n",
    "BUD 0.0000000 0.2184348\n",
    "RET 0.2384186E-07 -0.2080331\n",
    "This solution supports our conjecture:\n",
    "as we change our required return, the relative proportions devoted to risky\n",
    "investments do not change. Only the allocation between the risk-free asset and the\n",
    "risky assets change."
   ]
  },
  {
   "cell_type": "markdown",
   "metadata": {},
   "source": [
    "From the above solution, we observe that, except for round-off error, the amount invested in risky stocks is allocated in the same way for both solutions. Thus, two investors with different risk preferences would nevertheless both carry the same mix of risky stocks in their portfolio. Their portfolios would differ only in the proportion devoted to the risk-free asset. Our observation from the above example in fact holds in general. Thus, the decision of how to allocate funds among stocks, given the amount to be invested, can be separated from the questions of risk preference (this feature is called Separation Theorem)."
   ]
  },
  {
   "cell_type": "markdown",
   "metadata": {},
   "source": [
    "### The Sharpe Ratio\n",
    "For some portfolio $p$, of risky assets, excluding the risk-free asset, let:\n",
    "\n",
    "* $R_p$ its expected return;\n",
    "* $s_p$ its standard deviation in return;\n",
    "* $r_0$ the return of the risk-free asset.\n",
    "\n",
    "A plausible single measure (as opposed to the two measures, risk and return) of attractiveness of\n",
    "portfolio $p$ is the Sharpe ratio:\n",
    "\n",
    "$$ (R_p - r_0 ) / s_p $$\n",
    "\n",
    "In words, it measures how much additional return we achieved for the additional risk we took on,\n",
    "relative to putting all our money in the risk-free asset.\n",
    "It happens the portfolio that maximizes this ratio has a certain well-defined appeal. Suppose:\n",
    "\n",
    "* $t$ our desired target return;\n",
    "* $w_p$ the fraction of our wealth we place in portfolio $p$ (the rest placed in the risk-free asset).\n",
    "\n",
    "To meet our return target, we must have:\n",
    "\n",
    "$$ ( 1 - w_p ) * r_0 + w_p * R_p = t $$\n",
    "\n",
    "The standard deviation of our total investment is: $w_p\\cdot s_p$.\n",
    "Solving for $w_p$ in the return constraint, we get:\n",
    "\n",
    "$$ w_p = \\cfrac{( t – r_0)}{( R_p – r_0)} $$\n",
    "\n",
    "Thus, the standard deviation of the portfolio is:\n",
    "\n",
    "$$ w_p\\cdot s_p = \\Big[\\cfrac{( t – r_0)}{(R_p – r_0)}\\Big]\\cdot s_p $$\n",
    "\n",
    "Minimizing the portfolio standard deviation means:\n",
    "\n",
    "$$ \\textrm{min}(\\Big[\\cfrac{( t – r_0)}{(R_p – r_0)}\\Big]\\cdot s_p)\\implies\\textrm{max}(\\cfrac{R_p – r_0}{s_p}) $$\n",
    "\n",
    "So, regardless of our risk/return preference, the money we invest in risky assets should be invested\n",
    "in the risky portfolio that maximizes the Sharpe ratio.\n",
    "\n",
    "The following illustrates for when the risk free rate is 5%:\n",
    "MODEL:\n",
    "! Maximize the Sharpe ratio;\n",
    "MAX =\n",
    "(1.089083*ATT + 1.213667*GMC + 1.234583*USX - 1.05)/\n",
    "((.01080754 * ATT * ATT + .01240721 * ATT * GMC\n",
    "+ .01307513 * ATT * USX + .01240721 * GMC * ATT\n",
    "+ .05839170 * GMC * GMC + .05542639 * GMC * USX\n",
    "+ .01307513 * USX * ATT + .05542639 * USX * GMC\n",
    "+ .09422681 * USX * USX)^.5);\n",
    "! Use exactly 100% of the starting budget;\n",
    "[BUD] ATT + GMC + USX = 1;\n",
    "END\n",
    "The solution is:\n",
    "Optimal solution found at step: 7\n",
    "Objective value: 0.6933179\n",
    "Variable Value Reduced Cost\n",
    "ATT 0.1319260 0.1263448E-04\n",
    "GMC 0.6503984 0.0000000\n",
    "USX 0.2176757 0.1250699E-04\n",
    "Notice the relative proportions of ATT, GMC, and USX are the same as in the previous model\n",
    "where we explicitly included a risk free asset with a return of 5\\%. For example, notice that, except for\n",
    "round-off error:\n",
    ".1319262/ .6503983 = 0.08686515/ .4285286."
   ]
  },
  {
   "cell_type": "markdown",
   "metadata": {},
   "source": [
    "### Criticisms to Markowitz Model"
   ]
  },
  {
   "cell_type": "markdown",
   "metadata": {},
   "source": [
    "## Risk Parity Portfolio\n",
    "\n",
    "A risk parity portfolio is an investment allocation strategy which focuses on the allocation of risk, rather than the allocation of capital. For example, a typical 40% bond 60% equity portfolio has a significant risk in equity. A risk parity (equal risk) portfolio is a portfolio, whose individual assets, in this case equity and bond, have equal risk contribution to the total portfolio risk. The allocation strategy has gained popularity in the last decades. It is believed that this allocation strategy provides better risk adjusted return than capital based allocation strategies.\n",
    "\n",
    "Let's go over a very basic example of what risk parity is and how to construct a simple risk parity (equal risk) portfolio and extend it to a risk budgeting portfolio (target risk allocation).\n",
    "\n",
    "First define the marginal risk contribution as:\n",
    "\n",
    "$$ \\textrm{MRC}_j = \\cfrac{\\partial{\\sigma_p}}{\\partial{w_j}} = \\cfrac{(\\mathbf{V}\\cdot \\mathbf{w})_j}{\\sigma_p} $$\n",
    "\n",
    "where $w_j$ is the weight of the j-th asset and $\\sigma_p = \\sqrt{\\mathbf{w}\\mathbf{V}\\mathbf{w^{T}}} $.\n",
    "\n",
    "Then, the risk contribution of asset $j$ to the total portfolio is:\n",
    "\n",
    "$$ \\textrm{RC}_j =  \\mathbf{w}\\cdot\\textrm{MRC}_j = w_j \\cfrac{(\\mathbf{V}\\cdot \\mathbf{w})_j}{\\sigma_p} $$\n",
    "\n",
    "As said a risk parity portfolio is a portfolio which RC are equal across all individual assets.\n",
    "For example, going back to the previous example and assuming we have an equal weight portfolio, it’s RC (in total portfolio risk \\%) is:"
   ]
  },
  {
   "cell_type": "code",
   "execution_count": null,
   "metadata": {},
   "outputs": [],
   "source": []
  },
  {
   "cell_type": "markdown",
   "metadata": {},
   "source": [
    "To compute the weight of a risk parity portfolio, we could use again the optimise function from \\texttt{python}, where our objective function is the sum of squared error of a portfolio assets RC:\n",
    "\n",
    "$$ J = \\sum_{i=1}^{n}\\sum_{j=1}^{n}((w_i V_i w_i) - (w_j V_j w_j))^{2} $$\n",
    "\n",
    "So we need to find $\\textrm{min}(J)$ with the constraint $\\sum_{i} w_i = 1$ and $0 \\le w_i \\le 1$."
   ]
  },
  {
   "cell_type": "code",
   "execution_count": 9,
   "metadata": {},
   "outputs": [
    {
     "name": "stdout",
     "output_type": "stream",
     "text": [
      "Optimization terminated successfully.    (Exit mode 0)\n",
      "            Current function value: 1.437796531429956e-08\n",
      "            Iterations: 7\n",
      "            Function evaluations: 45\n",
      "            Gradient evaluations: 7\n",
      "[[0.16573021]\n",
      " [0.16586718]\n",
      " [0.16585805]\n",
      " [0.16575904]]\n"
     ]
    }
   ],
   "source": [
    "import numpy as np\n",
    "from matplotlib import pyplot as plt\n",
    "from numpy.linalg import inv,pinv\n",
    "from scipy.optimize import minimize\n",
    "\n",
    " # risk budgeting optimization\n",
    "def calculate_portfolio_var(w,V):\n",
    "    # function that calculates portfolio risk\n",
    "    w = np.matrix(w)\n",
    "    return (w*V*w.T)[0,0]\n",
    "\n",
    "def calculate_risk_contribution(w,V):\n",
    "    # function that calculates asset contribution to total risk\n",
    "    w = np.matrix(w)\n",
    "    sigma = np.sqrt(calculate_portfolio_var(w,V))\n",
    "    # Marginal Risk Contribution\n",
    "    MRC = V*w.T\n",
    "    # Risk Contribution\n",
    "    RC = np.multiply(MRC,w.T)/sigma\n",
    "    return RC\n",
    "\n",
    "def risk_budget_objective(x,pars):\n",
    "    # calculate portfolio risk\n",
    "    V = pars[0]# covariance table\n",
    "    x_t = pars[1] # risk target in percent of portfolio risk\n",
    "    sig_p =  np.sqrt(calculate_portfolio_var(x,V)) # portfolio sigma\n",
    "    risk_target = np.asmatrix(np.multiply(sig_p,x_t))\n",
    "    asset_RC = calculate_risk_contribution(x,V)\n",
    "    J = sum(np.square(asset_RC-risk_target.T))[0,0] # sum of squared error\n",
    "    return J\n",
    "\n",
    "def total_weight_constraint(x):\n",
    "    return np.sum(x)-1.0\n",
    "\n",
    "def long_only_constraint(x):\n",
    "    return x\n",
    "\n",
    "V = np.matrix('123 37.5 70 30; 37.5 122 72 13.5; 70 72 321 -32; 30 13.5 -32 52')/100\n",
    "\n",
    "w0 = [0.3, 0.3, 0.3, 0.1]\n",
    "x_t = [0.25, 0.25, 0.25, 0.25] # your risk budget percent of total portfolio risk (equal risk)\n",
    "cons = ({'type': 'eq', 'fun': total_weight_constraint},\n",
    "        {'type': 'ineq', 'fun': long_only_constraint})\n",
    "res = minimize(risk_budget_objective, w0, args=[V,x_t], method='SLSQP',constraints=cons, options={'disp': True})\n",
    "w_rb = np.asmatrix(res.x)\n",
    "\n",
    "print (calculate_risk_contribution(res.x, V))\n",
    "\n"
   ]
  },
  {
   "cell_type": "markdown",
   "metadata": {},
   "source": [
    "The very same functions can be used to calculate any risk budget allocation since it actually uses:\n",
    "\n",
    "$$ J = \\sum_{i=1}^{n}((w_i V_i w_i) - \\mathbf{w_{target}}\\cdot\\sqrt{\\mathbf{wVw^{T}}} $$\n",
    "\n",
    "and it can be modified by setting up a target risk allocation for each asset then minimise the objective function of squared errors."
   ]
  },
  {
   "cell_type": "code",
   "execution_count": 23,
   "metadata": {},
   "outputs": [
    {
     "name": "stdout",
     "output_type": "stream",
     "text": [
      "Optimization terminated successfully.    (Exit mode 0)\n",
      "            Current function value: 1.7020698516768012e-08\n",
      "            Iterations: 9\n",
      "            Function evaluations: 55\n",
      "            Gradient evaluations: 9\n",
      "[[0.30005466]\n",
      " [0.29988685]\n",
      " [0.30011042]\n",
      " [0.09994806]]\n"
     ]
    }
   ],
   "source": [
    "x_t = [0.3, 0.3, 0.3, 0.1] # your risk budget percent of total portfolio risk (equal risk)\n",
    "res = minimize(risk_budget_objective, w0, args=[V,x_t], method='SLSQP',constraints=cons, options={'disp': True})\n",
    "#w_rb = np.asmatrix(res.x)\n",
    "\n",
    "var = sum(calculate_risk_contribution(res.x, V))\n",
    "print (calculate_risk_contribution(res.x, V)/var)"
   ]
  },
  {
   "cell_type": "code",
   "execution_count": 3,
   "metadata": {},
   "outputs": [
    {
     "name": "stdout",
     "output_type": "stream",
     "text": [
      "     fun: 0.18996519187658553\n",
      "     jac: array([0.19007478, 0.19040664, 0.18950935, 0.1898793 , 0.18995349])\n",
      " message: 'Optimization terminated successfully.'\n",
      "    nfev: 63\n",
      "     nit: 9\n",
      "    njev: 9\n",
      "  status: 0\n",
      " success: True\n",
      "       x: array([0.44735955, 0.06873074, 0.10429827, 0.36908076, 0.01053068])\n"
     ]
    }
   ],
   "source": [
    "import pandas as pd\n",
    "import numpy as np, matplotlib.pyplot as plt, scipy.optimize as optimize\n",
    "\n",
    "temp = pd.read_csv(\"quandl.csv\") \n",
    "clean = temp.set_index('date')\n",
    "df = clean.pivot(columns='ticker')\n",
    "daily_returns = df.pct_change()\n",
    "annual_expected = daily_returns.mean() * 252\n",
    "covariance = daily_returns.cov() \n",
    "annual_covariance = covariance * 252\n",
    "\n",
    "def sumWeights(weights): \n",
    "    return np.sum(weights) - 1\n",
    "def objective(weights, covariance):\n",
    "    return np.sqrt(np.dot(weights.T, np.dot(covariance, weights)))\n",
    "numAssets = 5\n",
    "constraints = ({'type': 'eq', 'fun': sumWeights},) \n",
    "bounds = tuple((0, 1) for asset in range(numAssets))\n",
    "opts = optimize.minimize(objective, np.ones(numAssets) / float(numAssets), \n",
    "                         args=(annual_covariance,),\n",
    "                         bounds=bounds, constraints=constraints)\n",
    "print (opts)"
   ]
  },
  {
   "cell_type": "code",
   "execution_count": 7,
   "metadata": {},
   "outputs": [
    {
     "name": "stdout",
     "output_type": "stream",
     "text": [
      "[[0.19176867 0.2       ]\n",
      " [0.19090251 0.205     ]\n",
      " [0.19039042 0.21      ]\n",
      " [0.19009158 0.215     ]\n",
      " [0.18997673 0.22      ]\n",
      " [0.18998293 0.225     ]\n",
      " [0.1901084  0.23      ]\n",
      " [0.19035292 0.235     ]\n",
      " [0.19071612 0.24      ]\n",
      " [0.1911974  0.245     ]\n",
      " [0.19179569 0.25      ]\n",
      " [0.19250998 0.255     ]\n",
      " [0.19333895 0.26      ]\n",
      " [0.19428112 0.265     ]\n",
      " [0.19533488 0.27      ]\n",
      " [0.19649851 0.275     ]\n",
      " [0.19776923 0.28      ]\n",
      " [0.19914627 0.285     ]\n",
      " [0.20062675 0.29      ]\n",
      " [0.2022088  0.295     ]\n",
      " [0.20388978 0.3       ]\n",
      " [0.20566782 0.305     ]\n",
      " [0.20753958 0.31      ]\n",
      " [0.20950747 0.315     ]\n",
      " [0.2116605  0.32      ]\n",
      " [0.21402153 0.325     ]\n",
      " [0.21658351 0.33      ]\n",
      " [0.2193393  0.335     ]\n",
      " [0.22228207 0.34      ]\n",
      " [0.22540503 0.345     ]\n",
      " [0.2286977  0.35      ]\n",
      " [0.23215636 0.355     ]\n",
      " [0.23577247 0.36      ]\n",
      " [0.23953892 0.365     ]\n",
      " [0.24344875 0.37      ]\n",
      " [0.24749509 0.375     ]\n",
      " [0.25167152 0.38      ]\n",
      " [0.25597166 0.385     ]\n",
      " [0.26038891 0.39      ]\n",
      " [0.26491796 0.395     ]\n",
      " [0.26955303 0.4       ]\n",
      " [0.27428869 0.405     ]\n",
      " [0.27911982 0.41      ]\n",
      " [0.28404152 0.415     ]\n",
      " [0.28904918 0.42      ]\n",
      " [0.29413841 0.425     ]\n",
      " [0.29930513 0.43      ]\n",
      " [0.30463976 0.435     ]\n",
      " [0.31048582 0.44      ]\n",
      " [0.31684824 0.445     ]]\n"
     ]
    }
   ],
   "source": [
    "def getTargetReturn(weights, returns, targetReturn): \n",
    "    portfolio_return = np.sum(returns*weights) \n",
    "    return (portfolio_return - targetReturn)\n",
    "returns = []\n",
    "for eff in np.arange(0.20, 0.45, 0.005):\n",
    "    constraints = ({'type': 'eq', 'fun': getTargetReturn, \n",
    "                    'args':(annual_expected, eff,)},\n",
    "                   {'type': 'eq', 'fun': sumWeights}) \n",
    "    bounds = tuple((0, 1) for asset in range(numAssets))\n",
    "    opts = optimize.minimize(objective, np.ones(numAssets) / float(numAssets), \n",
    "                             args=(annual_covariance,),\n",
    "                             bounds=bounds, constraints=constraints) \n",
    "    returns.append((np.sqrt(np.dot(opts.x.T, np.dot(annual_covariance, opts.x))),\n",
    "                    np.sum(annual_expected*opts.x))) \n",
    "returns = np.array(returns)"
   ]
  },
  {
   "cell_type": "code",
   "execution_count": 11,
   "metadata": {},
   "outputs": [
    {
     "data": {
      "image/png": "[encoded data removed]",
      "text/plain": [
       "<Figure size 576x360 with 1 Axes>"
      ]
     },
     "metadata": {
      "needs_background": "light"
     },
     "output_type": "display_data"
    }
   ],
   "source": [
    "plt.figure(figsize=(8,5))\n",
    "plt.plot(returns[:, 0], returns[:, 1], color = 'blue', label=\"Efficient Frontier\", linestyle='--')\n",
    "plt.xlabel(\"Volatility\")\n",
    "plt.ylabel(\"Expected Return\")\n",
    "plt.grid(True)\n",
    "plt.legend()\n",
    "plt.show()"
   ]
  },
  {
   "cell_type": "code",
   "execution_count": 14,
   "metadata": {},
   "outputs": [],
   "source": [
    "numAssets = 6\n",
    "    \n",
    "def objective4(weights, covariance):\n",
    "    return np.sqrt(np.dot(weights[:-1].T, np.dot(covariance, weights[:-1])))\n",
    "\n",
    "def getTargetReturn2(weights, returns, targetReturn, risk_free): \n",
    "    portfolio_return = np.sum(returns*weights[:-1]) + (weights[5]) * risk_free \n",
    "    return (portfolio_return - targetReturn)\n",
    "\n",
    "rfAssetReturn = 0.10\n",
    "returns2 = []\n",
    "for eff in np.arange(0.10, 0.40, 0.01):\n",
    "    constraints = ({'type': 'eq', 'fun': getTargetReturn2, \n",
    "                    \"args\":(annual_expected, eff, rfAssetReturn)},\n",
    "                    {'type': 'eq', 'fun': sumWeights}) \n",
    "    bounds = tuple((0, 1) for asset in range(numAssets))\n",
    "    opts = optimize.minimize(objective4, np.ones(numAssets) / float(numAssets), \n",
    "                             args=(annual_covariance),\n",
    "                             bounds=bounds, constraints=constraints)\n",
    "    #if eff >= 0.3: \n",
    "    #    print (opts.x)\n",
    "    returns2.append((np.sqrt(np.dot(opts.x[:-1].T, np.dot(annual_covariance, opts.x[:-1]))), \n",
    "                     np.sum(annual_expected*opts.x[:-1])+opts.x[5]*rfAssetReturn))\n",
    "returns2 = np.array(returns2)"
   ]
  },
  {
   "cell_type": "code",
   "execution_count": 20,
   "metadata": {},
   "outputs": [
    {
     "data": {
      "image/png": "[encoded data removed]",
      "text/plain": [
       "<Figure size 576x360 with 1 Axes>"
      ]
     },
     "metadata": {
      "needs_background": "light"
     },
     "output_type": "display_data"
    }
   ],
   "source": [
    "plt.figure(figsize=(8,5))\n",
    "plt.plot(returns2[:,0], returns2[:,1], color = 'red', label=\"CAL\")\n",
    "plt.plot(returns[:, 0], returns[:, 1], color = 'blue', label=\"Efficient Frontier\", linestyle='--')\n",
    "plt.xlabel(\"Volatility\")\n",
    "plt.ylabel(\"Expected Return\")\n",
    "plt.grid(True)\n",
    "plt.legend()\n",
    "plt.show()"
   ]
  },
  {
   "cell_type": "code",
   "execution_count": null,
   "metadata": {},
   "outputs": [],
   "source": []
  }
 ],
 "metadata": {
  "kernelspec": {
   "display_name": "Python 3",
   "language": "python",
   "name": "python3"
  },
  "language_info": {
   "codemirror_mode": {
    "name": "ipython",
    "version": 3
   },
   "file_extension": ".py",
   "mimetype": "text/x-python",
   "name": "python",
   "nbconvert_exporter": "python",
   "pygments_lexer": "ipython3",
   "version": "3.7.4"
  }
 },
 "nbformat": 4,
 "nbformat_minor": 4
}
