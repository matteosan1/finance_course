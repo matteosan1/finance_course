{
 "cells": [
  {
   "cell_type": "markdown",
   "metadata": {},
   "source": [
    "# Solutions - Practical Lesson 2\n",
    "\n",
    "## Exercises\n",
    "\n",
    "### Exercise 2.2\n",
    "\n",
    "Write code which, given the following list\n",
    "```python\n",
    "input_list = [3, 5, 2, 1, 13, 5, 5, 1, 3, 4]\n",
    "```\n",
    "prints out the indices of every occurrence of\n",
    "```python\n",
    "y = 5\n",
    "```\n",
    "\n",
    "**Solution**:"
   ]
  },
  {
   "cell_type": "code",
   "execution_count": 1,
   "metadata": {},
   "outputs": [
    {
     "name": "stdout",
     "output_type": "stream",
     "text": [
      "1\n",
      "5\n",
      "6\n"
     ]
    }
   ],
   "source": [
    "input_list = [3, 5, 2, 1, 13, 5, 5, 1, 3, 4]\n",
    "y = 5\n",
    "for i, value in enumerate(input_list):\n",
    "    if value == 5:\n",
    "        print (i)"
   ]
  },
  {
   "cell_type": "markdown",
   "metadata": {},
   "source": [
    "### Exercise 2.3\n",
    "\n",
    "Given the following variables\n",
    "```python\n",
    "S_t = 800.0 # spot price of the underlying\n",
    "K = 600.0 # strike price\n",
    "vol = 0.25 # volatility\n",
    "r = 0.01 # interest rate\n",
    "ttm = 0.5 # time to maturity, in years\n",
    "```\n",
    "write out the Black Scholes formula and save the value of a call in a variable named 'call_price' and the value of a put in a variable named 'put_price'\n",
    "\n",
    "**Solution:**\n",
    "The BS equation for the price of a call is:\n",
    "\n",
    "$$ C(S, t) = S_tN(d_1)-Ke^{-r(T-t)}N(d_2) $$\n",
    "\n",
    "where\n",
    "* $S_t$ is the spot price of the underlying\n",
    "* $K$ is the strike price\n",
    "* $r$ is the risk-free interest rate (expressed in terms of continous compounding)\n",
    "* $N(\\cdot)$ is the cumulative distribution function of the standard normal distribution\n",
    "* $T - t$ is the time to maturity\n",
    "* $\\sigma$ is the volatility of the underlying\n",
    "\n",
    "$$\\begin{split}\n",
    "d_1 & = \\frac{\\mathrm{ln}(\\frac{S_t}{K}) + (r + \\frac{1}{2}\\sigma^{2})(T-t)}{\\sigma\\sqrt{T-t}}\\\\ \\\\\n",
    "d_2 & = d_1 - \\sigma\\sqrt{T-t}\\\\\n",
    "\\end{split}$$\n",
    "\n",
    "Remember that there are many modules available in python that let you save a lot of time.\n",
    "In this case we need the cumulative distribution function of the standard normal distribution which can be found in ```scipy.stats``` module."
   ]
  },
  {
   "cell_type": "code",
   "execution_count": 8,
   "metadata": {},
   "outputs": [
    {
     "name": "stdout",
     "output_type": "stream",
     "text": [
      "205.472 2.480\n"
     ]
    }
   ],
   "source": [
    "from math import log, exp, sqrt\n",
    "# You'll need the Gaussian cumulative distribution function\n",
    "from scipy.stats import norm\n",
    "\n",
    "S_t = 800.0\n",
    "ttm = 0.5\n",
    "K = 600.0\n",
    "vol = 0.25\n",
    "r = 0.01\n",
    "\n",
    "d1_num = (log(S_t/K)+(r+0.5*pow(vol, 2))*ttm)\n",
    "d1_den = vol*sqrt(ttm)\n",
    "d1 = d1_num /d1_den\n",
    "d2 = d1 - d1_den          \n",
    "\n",
    "call_price = S_t * norm.cdf(d1) - K * exp(-r*ttm)*norm.cdf(d2)\n",
    "put_price = - S_t * norm.cdf(-d1) + K * exp(-r*ttm)*norm.cdf(-d2)\n",
    "\n",
    "print (\"{:.3f} {:.3f}\".format(call_price, put_price))"
   ]
  },
  {
   "cell_type": "markdown",
   "metadata": {},
   "source": [
    "### Exercise 2.4\n",
    "\n",
    "Given the following dictionary mapping currencies to 2‐year zero coupon bond prices, build another dictionary mapping the same currencies to the corresponding annualized interest rates.\n",
    "\n",
    "```python\n",
    "discount_factors = {\n",
    "'EUR': 0.98,\n",
    "'CHF': 1.005,\n",
    "'USD': 0.985,\n",
    "'GBP': 0.97\n",
    "}\n",
    "```\n",
    "\n",
    "**Solution:**\n",
    "The price of a n-years zero coupon bond is:\n",
    "\n",
    "$$ P = \\frac{M}{(1+r)^{n}} = M\\cdot D $$\n",
    "\n",
    "where \n",
    "* $M$ is the value of the bond at the maturity\n",
    "* $r$ is the risk-free rate\n",
    "* $n$ is the number of years untill maturity\n",
    "\n",
    "Hence:\n",
    "\n",
    "$$ D = \\frac{1}{(1+r)^{n}} \\Longrightarrow r = \\Big(\\frac{1}{D}\\Big)^{\\frac{1}{n}} - 1$$"
   ]
  },
  {
   "cell_type": "code",
   "execution_count": 5,
   "metadata": {},
   "outputs": [
    {
     "name": "stdout",
     "output_type": "stream",
     "text": [
      "('EUR', 0.010152544552210818)\n",
      "('CHF', -0.002490663892367073)\n",
      "('USD', 0.007585443719756668)\n",
      "('GBP', 0.015346165133619083)\n"
     ]
    }
   ],
   "source": [
    "from math import exp\n",
    "\n",
    "# initialize an empty dictionary in which to store result\n",
    "rates = {}\n",
    "\n",
    "maturity = 2\n",
    "discount_factors = {\n",
    "    'EUR': 0.98,\n",
    "    'CHF': 1.005,\n",
    "    'USD': 0.985,\n",
    "    'GBP': 0.97\n",
    "}\n",
    "\n",
    "# loop over the input dictionary to get the currencies\n",
    "for currency, df in discount_factors.items():\n",
    "    # calculate the rate and store it in the output dictionary\n",
    "    rates[currency] = pow(1/df, 1/maturity) - 1\n",
    "    \n",
    "for r in rates.items():    \n",
    "    print (r)"
   ]
  },
  {
   "cell_type": "markdown",
   "metadata": {},
   "source": [
    "### Exercise 2.5\n",
    "\n",
    "Build again dates as in Exercise 2.1 (i.e. the weekday of your birthdays for the next 120 years) and count how many of your birthdays is a Monday, Tuesday, ... , Sunday until 120 years of age. \n",
    "Print out the result using a dictionary.\n",
    "\n",
    "**Solution:**"
   ]
  },
  {
   "cell_type": "code",
   "execution_count": 7,
   "metadata": {},
   "outputs": [
    {
     "name": "stdout",
     "output_type": "stream",
     "text": [
      "{6: 17, 0: 18, 2: 18, 3: 17, 4: 17, 5: 17, 1: 17}\n",
      "\n",
      "Mon 18\n",
      "Tue 17\n",
      "Wed 18\n",
      "Thu 17\n",
      "Fri 17\n",
      "Sat 17\n",
      "Sun 17\n"
     ]
    }
   ],
   "source": [
    "import datetime\n",
    "from dateutil.relativedelta import relativedelta\n",
    "\n",
    "name_of_day = {0:\"Mon\", 1:\"Tue\", 2:\"Wed\", 3:\"Thu\", 4:\"Fri\", 5:\"Sat\", 6:\"Sun\"}\n",
    "birthday_weekdays = {}\n",
    "birthday = datetime.date(1974, 10, 20)\n",
    "\n",
    "for i in range(121):\n",
    "  next_birthday = birthday + relativedelta(years=i)\n",
    "  wd = next_birthday.weekday()\n",
    "  if wd not in birthday_weekdays.keys():\n",
    "    birthday_weekdays[wd] = 1\n",
    "  else:\n",
    "    birthday_weekdays[wd] += 1\n",
    "\n",
    "print (birthday_weekdays)\n",
    "\n",
    "# if you want to be more precise you can map integers\n",
    "# from 0 to 6 to the day name\n",
    "print ()\n",
    "for k in sorted(birthday_weekdays.keys()):\n",
    "  print (name_of_day[k], birthday_weekdays[k])"
   ]
  }
 ],
 "metadata": {
  "kernelspec": {
   "display_name": "Python 3",
   "language": "python",
   "name": "python3"
  },
  "language_info": {
   "codemirror_mode": {
    "name": "ipython",
    "version": 3
   },
   "file_extension": ".py",
   "mimetype": "text/x-python",
   "name": "python",
   "nbconvert_exporter": "python",
   "pygments_lexer": "ipython3",
   "version": "3.7.3"
  }
 },
 "nbformat": 4,
 "nbformat_minor": 2
}
