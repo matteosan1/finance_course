{
 "cells": [
  {
   "cell_type": "markdown",
   "metadata": {},
   "source": [
    "# Interpolation - Practical Lesson 3\n",
    "\n",
    "## Linear interpolation\n",
    "\n",
    "Interpolation is a method of constructing new points within the range of a discrete set of known data points. \n",
    "\n",
    "It may happen to have few data points, obtained by sampling or experimenting. \n",
    "These points represent the values of a function $f(x)$, where $x$ is an independent variable (e.g. in recording a trip: distances at certain times, $d = f(t)$). \n",
    "It is often required to estimate the value of that function for an intermediate value of the independent variable (e.g. in our previous example what is the distance $d$ at a new time $t$ ?).\n",
    "\n",
    "Let's exercise on linear interpolation with a couple of examples. \n",
    "\n",
    "#### Example 1\n",
    "Assume you are going on holidays by car and that luckily there isn't much traffic so that you can drive at constant speed (which gives a linear relation between travelled space and time i.e. $s = v \\cdot t$, which means that if you plot the distances $s$ as a function of the time $t$ you get a line with slope $v$).\n",
    "Given two samples of the car travelled distance $s_1$ and $s_2$ taken at two different times $t_1$ and $t_2$ you can linearly interpolate to find your position at different times using the following relations:\n",
    "\n",
    "$$w = \\frac{t - t_1}{t_2 - t_1}$$ \n",
    "($t$ generic time at which we want to know the distance $s$)\n",
    "\n",
    "$$s = (1 - w)\\cdot s_1 + w \\cdot s_2$$\n",
    "\n",
    "***Derivation***\n",
    "The equation of a line for two points $(t_1, s_1)$ and $(t_2, s_2)$ can be written as:\n",
    "\n",
    "$$\\frac{t - t_1}{t_2 - t_1} = \\frac{s - s_1}{s_2 - s_1}$$\n",
    "\n",
    "Setting $w = \\frac{t - t_1}{t_2 - t_1}$ and solving for $s$ we find the desired solution:\n",
    "\n",
    "$$w = \\frac{s - s_1}{s_2 - s_1} \\Rightarrow (s_2 - s_1)\\cdot w = s - s_1 \\Rightarrow ...$$\n",
    "\n",
    "Back to our example, if $s_1 = 25.75~\\mathrm{km}\\;(@t_1 = 15~\\mathrm{min})$ and $s_2 = 171.7~\\mathrm{km}\\;(@t_2 = 100~\\mathrm{min})$ let's compute:"
   ]
  },
  {
   "cell_type": "code",
   "execution_count": 1,
   "metadata": {},
   "outputs": [
    {
     "name": "stdout",
     "output_type": "stream",
     "text": [
      "103.0 km\n"
     ]
    }
   ],
   "source": [
    "# let's find distance travelled in 1 hour (interpolation)\n",
    "\n",
    "s_1 = 25.75 # distance in km\n",
    "t_1 = 15    # elapsed time in minutes\n",
    "s_2 = 171.7\n",
    "t_2 = 100\n",
    "\n",
    "t = 60\n",
    "\n",
    "w = (t - t_1)/(t_2 - t_1)\n",
    "s = (1 - w)*s_1 + w*s_2\n",
    "\n",
    "print (\"{:.1f} km\".format(s))"
   ]
  },
  {
   "cell_type": "markdown",
   "metadata": {},
   "source": [
    "If we believe the relation between our variable stays the same, we can use the same formula to extrapolate values outside our initial sample.\n",
    "\n",
    "For example if we keep the same constant velocity in our trip we could check:"
   ]
  },
  {
   "cell_type": "code",
   "execution_count": 2,
   "metadata": {},
   "outputs": [
    {
     "name": "stdout",
     "output_type": "stream",
     "text": [
      "309.1 km\n"
     ]
    }
   ],
   "source": [
    "# distance travelled in a 3 hour trip (extrapolation)\n",
    "\n",
    "s_1 = 25.75 # distance in km\n",
    "t_1 = 15    # elapsed time in minutes\n",
    "s_2 = 171.7\n",
    "t_2 = 100\n",
    "\n",
    "t = 180\n",
    "\n",
    "w = (t - t_1)/(t_2 - t_1)\n",
    "s = (1 - w)*s_1 + w*s_2\n",
    "\n",
    "print (\"{:.1f} km\".format(s))"
   ]
  },
  {
   "cell_type": "markdown",
   "metadata": {},
   "source": [
    "### Log-linear interpolation\n",
    "\n",
    "When the variable we would like to interpolate has an exponential relation with the unknown we can fall back to the previous case by applying the logarithm. In this case the previous formulas apply again except that at the end we have to exponentiate to get back the original variable:\n",
    "\n",
    "$$p = \\mathrm{exp}(c \\cdot h)$$\n",
    "\n",
    "$$s = \\mathrm{log}(p) = \\mathrm{log}(\\mathrm{exp}(c \\cdot h)) = c \\cdot h$$\n",
    "\n",
    "$$w = \\frac{h - h_1}{h_2 - h_1}$$\n",
    "\n",
    "$$s = (1 - w)\\cdot s_1 + w \\cdot s_2\\;\\;(\\mathrm{remember \\;now }\\;s = \\mathrm{log}(p))$$\n",
    "\n",
    "$$p = \\mathrm{exp}(s)$$\n",
    "\n",
    "Let's see a practical example.<br>\n",
    "\n",
    "#### Example 2\n",
    "\n",
    "Atmospheric pressure decreases with the altitude (i.e. the highest I flight the lower is the pressure) following an exponential law:\n",
    "\n",
    "$$p = p_0\\cdot e^{-\\alpha h}$$\n",
    "\n",
    "where\n",
    "\n",
    "* $h$ is the altitude\n",
    "* $p_0$ is the pressure at sea level\n",
    "* $\\alpha$ is a constant\n",
    "\n",
    "Taking the logarithm of each side of the equation I get a linear relation which can be interpolated as before:\n",
    "\n",
    "$$\\tilde{s} = \\mathrm{log}(p) = \\mathrm{log}(p_0\\cdot e^{-\\alpha h})\\propto - \\alpha \\cdot h$$\n",
    "\n",
    "Now assume that we have measured $p_1 = 90~\\mathrm{kPa}\\;(h_1 = 1000~\\mathrm{m})$ and $p_2 = 40~\\mathrm{kPa}\\;(h_1 = 7000~\\mathrm{m})$ what will be the atmospheric pressure on top of the Mont Blanc ($4812~\\mathrm{m}$) ? and on top of Mount Everest ($8848~\\mathrm{m}$) ? "
   ]
  },
  {
   "cell_type": "code",
   "execution_count": 3,
   "metadata": {},
   "outputs": [
    {
     "name": "stdout",
     "output_type": "stream",
     "text": [
      "53.8 kPa\n"
     ]
    }
   ],
   "source": [
    "# pressure on top of the Mont Blanc (interpolation)\n",
    "from math import log, exp\n",
    "\n",
    "# first we take the logarithm of our measurements to use the linear \n",
    "# relation to interpolate\n",
    "h_1 = 1000 # height in meters\n",
    "s_1 = log(90) # logarithm of the pressure at heigth h1\n",
    "h_2 = 7000 # height in meters\n",
    "s_2 = log(40) # logarithm of the pressure at heigth h2\n",
    "\n",
    "h = 4812\n",
    "\n",
    "w = (h - h_1)/(h_2 - h_1)\n",
    "s = (1 - w)*s_1 + w*s_2\n",
    "\n",
    "print (\"{:.1f} kPa\".format(exp(s)))"
   ]
  },
  {
   "cell_type": "code",
   "execution_count": 4,
   "metadata": {},
   "outputs": [
    {
     "name": "stdout",
     "output_type": "stream",
     "text": [
      "31.2 kPa\n"
     ]
    }
   ],
   "source": [
    "# pressure on top of the Mount Everest (extrapolation)\n",
    "from math import log, exp\n",
    "\n",
    "# first we take the logarithm of our measurements to use the linear \n",
    "# relation to interpolate\n",
    "h_1 = 1000 # height in meters\n",
    "s_1 = log(90) # logarithm of the pressure at heigth h1\n",
    "h_2 = 7000 # height in meters\n",
    "s_2 = log(40) # logarithm of the pressure at heigth h2\n",
    "\n",
    "h = 8848\n",
    "\n",
    "w = (h - h_1)/(h_2 - h_1)\n",
    "s = (1 - w)*s_1 + w*s_2\n",
    "\n",
    "print (\"{:.1f} kPa\".format(exp(s)))"
   ]
  },
  {
   "cell_type": "markdown",
   "metadata": {},
   "source": [
    "![Atmospheric pressure versus altitude (wikipedia). Green points represent our measurements, red points represent interpolation/extrapolation.](Atmospheric_Pressure_vs._Altitude.png)"
   ]
  },
  {
   "cell_type": "markdown",
   "metadata": {},
   "source": [
    "## Discount curve interpolation\n",
    "\n",
    "Now we can come back to finance and using what we have just learnt try to write a function which interpolates some given discount factors.\n",
    "\n",
    "Needed data:\n",
    "\n",
    "* a list of pillars dates specifying the value dates of the given discount factors, $t_0,...,t_{n-1}$\n",
    "* a list of given discount factors, $D(t_0),...,D(t_{n-1})$\n",
    "* a pricing date ('today' date) which corresponds to $t=0$\n",
    "\n",
    "The input argument to the function will be the value date at which we want to interpolate the discount factor.\n",
    "\n",
    "Since the discount factor can be expresses as $D=e^{-r(T-t)}$ the function will use a log-linear interpolation to return the value we are looking for.\n",
    "\n",
    "$$D(t) = \\mathrm{exp}\\Big( (1-w)\\cdot \\mathrm{ln}(D(t_i)) + w\\cdot \\mathrm{ln}(D(t_{i+1}))\\Big);\\;\\;\\;w=\\frac{t-t_i}{t_{i+1}-t_i}$$\n",
    "\n",
    "where $i$ is such that $t_i \\le t \\le t_{i+1}$.\n",
    "More technically we can say that we are doing a linear interpolation over time in the log space:\n",
    "\n",
    "$$d(t_i):=\\mathrm{ln}(D(t_i))$$\n",
    "\n",
    "$$d(t) = (1-w)d(t_i) + wd(t_{i+1});\\;\\;\\;w=\\frac{t-t_i}{t_{i+1}-t_i}$$\n",
    "\n",
    "$$D(t) = \\mathrm{exp}(d(t))$$\n",
    "\n",
    "where $i$ is such that $t_i \\le t \\le t_{i+1}$\n",
    "\n",
    "Instead of reinventing the wheel and perform the interpolation with our own code, we'll use the function `interp` provided by the `python` module `numpy`. So first let's try it with some simple examples:"
   ]
  },
  {
   "cell_type": "code",
   "execution_count": 12,
   "metadata": {},
   "outputs": [
    {
     "data": {
      "text/plain": [
       "2.75"
      ]
     },
     "execution_count": 12,
     "metadata": {},
     "output_type": "execute_result"
    }
   ],
   "source": [
    "# the numpy.interp function linearly interpolates these points to \n",
    "# estimate the value of f at other x coordinates. \n",
    "# For example, say we want to interpolate the points at x = 2.5::\n",
    "import numpy as np\n",
    "\n",
    "xp = [0, 1, 5]\n",
    "fp = [0, 2, 4]\n",
    "np.interp(2.5, xp, fp)"
   ]
  },
  {
   "cell_type": "code",
   "execution_count": 13,
   "metadata": {},
   "outputs": [
    {
     "data": {
      "image/png": "[encoded data removed]",
      "text/plain": [
       "<Figure size 432x288 with 1 Axes>"
      ]
     },
     "metadata": {
      "needs_background": "light"
     },
     "output_type": "display_data"
    }
   ],
   "source": [
    "# import modules and objects that we need\n",
    "from datetime import date\n",
    "import numpy, math\n",
    "from matplotlib import pyplot as plt\n",
    "import matplotlib.dates as mdates \n",
    "# with this notation we tell python to use mdates as an alias \n",
    "# for matplotlib.dates, I told you I'm lazy...\n",
    "\n",
    "# define the input data\n",
    "today_date = date(2019, 10, 1)\n",
    "\n",
    "pillar_dates = [date(2019, 10, 1), date(2020, 10, 1), date(2021, 10, 1)]\n",
    "discount_factors = [1.0, 0.97, 0.72]\n",
    "\n",
    "# let's see what this looks like when plotted on a graph\n",
    "# here a more complicated usage of matplotlib to\n",
    "# get a nicer plot\n",
    "plt.plot(pillar_dates, discount_factors, marker='o')\n",
    "plt.gca().xaxis.set_major_formatter(mdates.DateFormatter('%m/%d/%Y'))\n",
    "plt.gca().xaxis.set_major_locator(mdates.YearLocator())\n",
    "plt.grid(True)\n",
    "plt.show()\n",
    "\n",
    "# define the df function\n",
    "def df(d):\n",
    "    # first thing we need to do is to apply the logarithm function \n",
    "    # to the discount factors since we are doing log‐linear and\n",
    "    # not just linear interpolation\n",
    "    log_discount_factors = []\n",
    "    for discount_factor in discount_factors:\n",
    "        log_discount_factors.append(math.log(discount_factor))\n",
    "    \n",
    "    # perform the linear interpolation of the log discount factors\n",
    "    interpolated_log_discount_factor = \\\n",
    "        numpy.interp(d, pillar_dates, log_discount_factors)\n",
    "    \n",
    "    # return the interpolated discount factor\n",
    "    return math.exp(interpolated_log_discount_factor)"
   ]
  },
  {
   "cell_type": "markdown",
   "metadata": {},
   "source": [
    "This is almost OK, **but it won't work** because ```numpy.interp``` only accepts numbers/lists of numbers as arguments i.e. it doesn't automatically convert or interpret dates as numbers in any way, so it doesn't know how to interpolate them.\n",
    "So we need to do the conversion ourselves before passing the data into the ```numpy.interp``` function."
   ]
  },
  {
   "cell_type": "code",
   "execution_count": 7,
   "metadata": {},
   "outputs": [],
   "source": [
    "def df(d):\n",
    "    # first thing we need to do is to apply the logarithm function\n",
    "    # to the discount factors since we are doing log‐linear and\n",
    "    # not just linear interpolation\n",
    "    log_discount_factors = []\n",
    "    for discount_factor in discount_factors:\n",
    "        log_discount_factors.append(math.log(discount_factor))\n",
    "    \n",
    "    # convert the pillar dates to pillar 'days'\n",
    "    # i.e. number of days from today\n",
    "    # to write shorter code we can use this NEW notation\n",
    "    # which condenses for and list creation in one line\n",
    "    pillar_days = \\\n",
    "        [(pillar_date - today_date).days for pillar_date in pillar_dates]\n",
    "    \n",
    "    # obviously we need to do the same to the value date\n",
    "    # argument of the df function\n",
    "    d_days = (d - today_date).days\n",
    "    \n",
    "    # perform the linear interpolation of the log discount factors\n",
    "    interpolated_log_discount_factor = \\\n",
    "        numpy.interp(d_days, pillar_days, log_discount_factors)\n",
    "    \n",
    "    # return the interpolated discount factor\n",
    "    return math.exp(interpolated_log_discount_factor)"
   ]
  },
  {
   "cell_type": "code",
   "execution_count": 8,
   "metadata": {},
   "outputs": [
    {
     "name": "stdout",
     "output_type": "stream",
     "text": [
      "0.9923728228571693\n"
     ]
    }
   ],
   "source": [
    "# now we can use the df function to get discount factors\n",
    "# on value dates between the given pillar dates\n",
    "d0 = date(2020, 1, 1)\n",
    "df0 = df(d0)\n",
    "print (df0)"
   ]
  },
  {
   "cell_type": "code",
   "execution_count": 9,
   "metadata": {},
   "outputs": [
    {
     "name": "stdout",
     "output_type": "stream",
     "text": [
      "0.8997999273630835\n"
     ]
    }
   ],
   "source": [
    "d1 = date(2021, 1, 1)\n",
    "df1 = df(d1)\n",
    "print (df1)"
   ]
  },
  {
   "cell_type": "code",
   "execution_count": 10,
   "metadata": {},
   "outputs": [
    {
     "data": {
      "image/png": "[encoded data removed]",
      "text/plain": [
       "<Figure size 432x288 with 1 Axes>"
      ]
     },
     "metadata": {
      "needs_background": "light"
     },
     "output_type": "display_data"
    }
   ],
   "source": [
    "# let's see what these look like when plotted on a semi‐log graph\n",
    "\n",
    "from matplotlib import pyplot as plt\n",
    "import matplotlib.dates as mdates\n",
    "\n",
    "plt.semilogy(pillar_dates, discount_factors, marker='o')\n",
    "plt.semilogy(d0,df0 , marker='X')\n",
    "plt.semilogy(d1,df1 , marker='X')\n",
    "plt.gca().xaxis.set_major_formatter(mdates.DateFormatter('%m/%d/%Y'))\n",
    "plt.gca().xaxis.set_major_locator(mdates.YearLocator())\n",
    "plt.grid(True)\n",
    "plt.show()"
   ]
  },
  {
   "cell_type": "code",
   "execution_count": 11,
   "metadata": {},
   "outputs": [
    {
     "data": {
      "image/png": "[encoded data removed]",
      "text/plain": [
       "<Figure size 432x288 with 1 Axes>"
      ]
     },
     "metadata": {
      "needs_background": "light"
     },
     "output_type": "display_data"
    }
   ],
   "source": [
    "# let's see what these look like when plotted on a linear graph\n",
    "\n",
    "from matplotlib import pyplot as plt\n",
    "import matplotlib.dates as mdates\n",
    "plt.plot(pillar_dates, discount_factors, marker='o')\n",
    "plt.plot(d0,df0 , marker='X')\n",
    "plt.plot(d1,df1 , marker='X')\n",
    "plt.gca().xaxis.set_major_formatter(mdates.DateFormatter('%m/%d/%Y'))\n",
    "plt.gca().xaxis.set_major_locator(mdates.YearLocator())\n",
    "plt.grid(True)\n",
    "plt.show()"
   ]
  },
  {
   "cell_type": "markdown",
   "metadata": {},
   "source": [
    "## Exercises\n",
    "\n",
    "### Exercise 3.1\n",
    "\n",
    "Take the code for the Black-Scholes formula from Exercise 2.3 and wrap it in a function.\n",
    "Then, use this function to calculate the prices of calls with various strikes, using the following data.\n",
    "\n",
    "```python\n",
    "S_t = 800\n",
    "# strikes expressed as % of spot price\n",
    "moneyness = [ 0.5, 0.75, 0.825, 1.0, 1.125, 1.25, 1.5 ]   \n",
    "vol = 0.3\n",
    "ttm = 0.75\n",
    "r = 0.005\n",
    "```\n",
    "The output should be a dictionary mapping strikes to call prices.\n",
    "\n",
    "### Exercise 3.2\n",
    "\n",
    "Python has a useful command called `assert` which can be used for checking that a given\n",
    "condition is satisfied, and raising an error if the condition is not satisfied.\n",
    "\n",
    "The following line does not cause an error, in fact it does nothing\n",
    "```python \n",
    "assert 1 < 2\n",
    "```\n",
    "\n",
    "This causes an error\n",
    "```python\n",
    "assert 1 > 2\n",
    "```\n",
    "\n",
    "`assert` can take a second argument with a message to display in case of failure.\n",
    "```python\n",
    "assert 1 > 2, \"Two is bigger than one\"\n",
    "```\n",
    "\n",
    "Take the  `df` function from this lesson and modify it by adding some assertions to check that:\n",
    "\n",
    "* the pillar date list contains at least 2 elements;\n",
    "* the pillar date list is the same length as the discount factor list;\n",
    "* the first pillar date is equal to the today date;\n",
    "* the value date argument 'd' is greater or equal to the first pillar date and also less than or equal to the last pillar date.\n",
    "\n",
    "Then try using the function with some invalid data to make sure that your assertions are correctly checking the desired conditions.\n",
    "\n",
    "### Exercise 3.3\n",
    "\n",
    "Python has a module called ```matplotlib``` which can be used for plotting graphs and charts. In particular, we can use a sub-module called ```pyplot``` which provides slightly easier-to-use interface for plotting interactively.\n",
    "\n",
    "```python\n",
    "from matplotlib import pyplot\n",
    "\n",
    "# plot some data\n",
    "pyplot.plot(\n",
    "    [1, 2, 3],   # x-axis coordinates\n",
    "    [5, 3, 10],  # y-axis coordinates\n",
    "    marker='o'   # we want the points to be marked with circles\n",
    ")\n",
    "```\n",
    "\n",
    "Use this function to plot the call prices from exercise 3.1.\n",
    "Remember to use ```help``` and ```dir``` to have some help (or to look in Google ;-))."
   ]
  }
 ],
 "metadata": {
  "kernelspec": {
   "display_name": "Python 3",
   "language": "python",
   "name": "python3"
  },
  "language_info": {
   "codemirror_mode": {
    "name": "ipython",
    "version": 3
   },
   "file_extension": ".py",
   "mimetype": "text/x-python",
   "name": "python",
   "nbconvert_exporter": "python",
   "pygments_lexer": "ipython3",
   "version": "3.7.4"
  }
 },
 "nbformat": 4,
 "nbformat_minor": 2
}
