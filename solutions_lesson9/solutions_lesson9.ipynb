{
 "cells": [
  {
   "cell_type": "markdown",
   "metadata": {},
   "source": [
    "# Solutions - Practical Lesson 9\n",
    "\n",
    "## Exercises\n",
    "\n",
    "### Exercise 9.1\n",
    "Given the historical series of two stock prices in the file $\\href{https://repl.it/@MatteoSani/support9}{\\textrm{historical_data.py}}$ compute the 5-day 95% VaR for a portfolio consisting of 100 shares of stock 1 and 50 shares of stock 2 (assume that last price of the series is today's price).\n",
    "\n",
    "#### Solution \n",
    "We need to first generate the simulated scenarios rescaling today's market variables using the historical daily variations, then we can compute the $\\Delta P$ distribution with the simulated portfolio values."
   ]
  },
  {
   "cell_type": "code",
   "execution_count": 12,
   "metadata": {},
   "outputs": [
    {
     "name": "stdout",
     "output_type": "stream",
     "text": [
      "\n",
      "1-day 5% percentile computed by numpy: -232.97\n",
      "5-day 5% percentile computed by numpy: -520.95\n",
      "5-day 5% percentile computed by hand: -520.08\n"
     ]
    }
   ],
   "source": [
    "from historical_data import stock1, stock2\n",
    "from matplotlib import pyplot as plt\n",
    "import numpy as numpy\n",
    "\n",
    "changes_s1 = []\n",
    "changes_s2 = []\n",
    "\n",
    "n = len(stock1)\n",
    "\n",
    "for i in range(1, n-1):\n",
    "    changes_s1.append(stock1[i]/stock1[i-1])\n",
    "\n",
    "for i in range(1, n-1):\n",
    "    changes_s2.append(stock2[i]/stock2[i-1])\n",
    "\n",
    "a1 = 100\n",
    "a2 = 50\n",
    "p0 = a1*stock1[-1] + a2*stock2[-1]\n",
    "\n",
    "delta_p = []\n",
    "for i in range(n-2):\n",
    "    p = a1 *stock1[-1]*changes_s1[i] + a2*stock2[-1]*changes_s2[i]\n",
    "    delta_p.append(p - p0)\n",
    "\n",
    "print () \n",
    "print (\"1-day 5% percentile computed by numpy: {:.2f}\"\n",
    "       .format(numpy.percentile(numpy.array(delta_p), [5.0])[0]))\n",
    "print (\"5-day 5% percentile computed by numpy: {:.2f}\"\n",
    "       .format(numpy.percentile(numpy.array(delta_p), [5.0])[0]*numpy.sqrt(5)))\n",
    "\n",
    "percentile = sorted(delta_p)\n",
    "print (\"5-day 5% percentile computed by hand: {:.2f}\"\n",
    "       .format(percentile[25]*numpy.sqrt(5)))"
   ]
  },
  {
   "cell_type": "code",
   "execution_count": 11,
   "metadata": {},
   "outputs": [
    {
     "data": {
      "image/png": "[encoded data removed]",
      "text/plain": [
       "<Figure size 432x288 with 1 Axes>"
      ]
     },
     "metadata": {
      "needs_background": "light"
     },
     "output_type": "display_data"
    }
   ],
   "source": [
    "from matplotlib import pyplot as plt\n",
    "\n",
    "plt.hist(delta_p, 100)\n",
    "plt.show()"
   ]
  },
  {
   "cell_type": "markdown",
   "metadata": {},
   "source": [
    "### Exrecise 9.2\n",
    "Imagine a position consisting of 500000 EUR investemnt in FCA shares and a 750000 investiment in Apple shares. Assume that the daily volatilites of the two assets are 2.5% and 0.7% and that their correlation coefficient is 0.4.\n",
    "\n",
    "What is tha 10-day 97.5% VaR for the portfolio ? \n",
    "\n",
    "#### Solution\n",
    "You have to apply the proper formula derived in case of the gaussian daily returns. This can be done either by computing the summation by hand:\n",
    "\n",
    "$$\\begin{align*}\\sigma^2_P & = \\sum_{i=1}^{n}\\sum_{j=1}^{n}\\rho_{ij}a_i a_j \\sigma_i \\sigma_j \\\\\n",
    "& = \\sum_{i=1}^{n} a_i^2 \\sigma_i^2 + 2 \\sum_{i=1}^{n}\\sum_{j<i}^{n}\\rho_{ij}a_i a_j \\sigma_i \\sigma_j \\end{align*}$$\n",
    "\n",
    "or using the matrix notation and the `numpy` capabilities (which is much more scalable for when the number of assets increases):\n",
    "\n",
    "$$\\sigma^2_P = \\begin{bmatrix}\n",
    "    a_1 \\sigma_n \\\\\n",
    "    a_2 \\sigma_n \\\\\n",
    "    \\vdots \\\\\n",
    "    a_n \\sigma_n\n",
    "\\end{bmatrix} \n",
    "\\begin{bmatrix}\n",
    "    \\rho_{11} & \\rho_{12} & \\dots & \\rho_{1n}\\\\\n",
    "    \\rho_{21} & \\rho_{22} & \\dots & \\rho_{2n}\\\\\n",
    "    \\vdots \\\\\n",
    "    \\rho_{n1} & \\rho_{n2} & \\dots & \\rho_{nn}\n",
    "\\end{bmatrix} \n",
    "\\begin{bmatrix}\n",
    "    a_1 \\sigma_n & a_2 \\sigma_n & \\dots & a_n \\sigma_n\n",
    "\\end{bmatrix} \n",
    "$$"
   ]
  },
  {
   "cell_type": "code",
   "execution_count": 2,
   "metadata": {},
   "outputs": [
    {
     "name": "stdout",
     "output_type": "stream",
     "text": [
      "Expliciting the summations\n",
      "\n",
      "10-day 97.5% VaR: -0.0953 M EUR\n",
      "With matrix computation\n",
      "10-day 97.5% VaR: -0.0953 M EUR\n"
     ]
    }
   ],
   "source": [
    "import numpy\n",
    "from scipy.stats import norm\n",
    "\n",
    "a1 = .50\n",
    "a2 = .75\n",
    "sigma1 = 0.025\n",
    "sigma2 = 0.007\n",
    "rho = 0.4\n",
    "ndays = 10\n",
    "\n",
    "print (\"Expliciting the summations\")\n",
    "print ()\n",
    "sigma_p = numpy.sqrt((a1*sigma1)**2 + (a2*sigma2)**2 + 2*a1*a2*rho*sigma1*sigma2)\n",
    "print (\"10-day 97.5% VaR: {:.4f} M EUR\".format(sigma_p*numpy.sqrt(ndays)*norm.ppf(0.025)))\n",
    "\n",
    "# more scalable solution \n",
    "a = numpy.array([.50, 0.75])\n",
    "sigma = numpy.array([0.025, 0.007])\n",
    "rho = numpy.array([[1, 0.4],[0.4, 1]])\n",
    "\n",
    "print (\"With matrix computation\")\n",
    "sigma_p = numpy.sqrt((a * sigma).dot(rho.dot((a*sigma).T)))\n",
    "print (\"10-day 97.5% VaR: {:.4f} M EUR\".format(sigma_p*numpy.sqrt(ndays)*norm.ppf(0.025)))\n"
   ]
  },
  {
   "cell_type": "markdown",
   "metadata": {},
   "source": [
    "### Exrecise 9.3\n",
    "Find today's price of a 4-years bond which pays semiannual coupons indexed with the LIBOR curve defined in $\\href{https://repl.it/@MatteoSani/support9}{\\textrm{curve_data.py}}$. The face value of the bond is 100000 EUR.\n",
    "\n",
    "#### Solution\n",
    "To price a bond we need to sum the future discounted cash flows and finally add the payment of the pricipal. From the technical point of view we need to create a `ForwardRateCurve` to compute the coupons and a `DiscountCurve` to get the discount factors."
   ]
  },
  {
   "cell_type": "code",
   "execution_count": 3,
   "metadata": {},
   "outputs": [
    {
     "name": "stdout",
     "output_type": "stream",
     "text": [
      "Today's bond price is 109115.36\n"
     ]
    }
   ],
   "source": [
    "from curve_data import discount_curve, libor_curve, pricing_date\n",
    "from datetime import date\n",
    "from dateutil.relativedelta import relativedelta\n",
    "\n",
    "coupon_date = pricing_date\n",
    "principal = 100000\n",
    "\n",
    "price = 0\n",
    "for i in range(8):\n",
    "    coupon_date += relativedelta(months=6)\n",
    "    price += principal * discount_curve.df(coupon_date) * \\\n",
    "             libor_curve.forward_rate(coupon_date)\n",
    "\n",
    "price += principal * discount_curve.df(coupon_date)\n",
    "\n",
    "print (\"Today's bond price is {:.2f}\".format(price))"
   ]
  },
  {
   "cell_type": "markdown",
   "metadata": {},
   "source": [
    "### Exrecise 9.4 (What we expect from your projects)\n",
    "Given an arbitrary number of students and some project label write a python program which assigns randomly a project to the students. Assume you cannot assign the same project to more than one student or group.\n",
    "\n",
    "The output should be a list of pairs student/project sorted alphabetically."
   ]
  },
  {
   "cell_type": "code",
   "execution_count": 4,
   "metadata": {},
   "outputs": [],
   "source": [
    "students = [\"Pippo\", \"Pluto\", \"Paperino\", \"Banda Bassotti\", \"Qui, Quo e Qua\"]\n",
    "projects = [\"Project {}\".format(i) for i in range(7)]"
   ]
  },
  {
   "cell_type": "markdown",
   "metadata": {},
   "source": [
    "#### Solution\n",
    "Given the list of students I write a function that assign a random project keeping track of those already assigned to avoid duplication.\n",
    "\n",
    "We set the random number generator seed to a known value in order to have reproducible results for debugging.\n",
    "\n",
    "It is enough to define two lists (list of students/groups and list of projects), then looping on the students the program draws a random number to choose a project to be assigned."
   ]
  },
  {
   "cell_type": "code",
   "execution_count": 5,
   "metadata": {},
   "outputs": [],
   "source": [
    "import random\n",
    "random.seed(1)\n",
    "\n",
    "def assignProject(tmp_projects):\n",
    "    return random.randint(0, len(tmp_projects))"
   ]
  },
  {
   "cell_type": "markdown",
   "metadata": {},
   "source": [
    "I then iterate through the list of students assigning a project and removing that project from the list to not re-assign it. In the loop I also check that there are enough project for all the students.\n",
    "\n",
    "I save the draw in a dictionary before printing it."
   ]
  },
  {
   "cell_type": "code",
   "execution_count": 6,
   "metadata": {},
   "outputs": [],
   "source": [
    "draw = {}\n",
    "\n",
    "for s in students:\n",
    "    if not projects: # this is equivalent to if len(projects) == 0\n",
    "        print (\"I'm sorry but there are not enough projects.\")\n",
    "        break\n",
    "    project_n = assignProject(projects)\n",
    "    draw[s] = projects[project_n]\n",
    "    projects.remove(projects[project_n])"
   ]
  },
  {
   "cell_type": "markdown",
   "metadata": {},
   "source": [
    "Finally I print the result with the students sorted alphabetically."
   ]
  },
  {
   "cell_type": "code",
   "execution_count": 7,
   "metadata": {},
   "outputs": [
    {
     "name": "stdout",
     "output_type": "stream",
     "text": [
      "Banda Bassotti has to do Project 4\n",
      "Paperino has to do Project 0\n",
      "Pippo has to do Project 2\n",
      "Pluto has to do Project 5\n",
      "Qui, Quo e Qua has to do Project 1\n"
     ]
    }
   ],
   "source": [
    "for d in sorted(draw.keys()):    \n",
    "    print (\"{} has to do {}\".format(d, draw[d]))"
   ]
  }
 ],
 "metadata": {
  "kernelspec": {
   "display_name": "Python 3",
   "language": "python",
   "name": "python3"
  },
  "language_info": {
   "codemirror_mode": {
    "name": "ipython",
    "version": 3
   },
   "file_extension": ".py",
   "mimetype": "text/x-python",
   "name": "python",
   "nbconvert_exporter": "python",
   "pygments_lexer": "ipython3",
   "version": "3.7.5"
  }
 },
 "nbformat": 4,
 "nbformat_minor": 2
}
