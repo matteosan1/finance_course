{
 "cells": [
  {
   "cell_type": "markdown",
   "metadata": {},
   "source": [
    "# Introduction to $\\tt{python}$ - Lesson 2"
   ]
  },
  {
   "cell_type": "markdown",
   "metadata": {},
   "source": [
    "## Variable scope\n",
    "\n",
    "Not all variables are accessible from all parts of our program, and not all variables exist for the same amount of time. **We call the part of a program where a variable is accessible its scope**.\n",
    "\n",
    "A variable which is defined in the main body of a file is called a global variable. It will be visible throughout the file, and also inside any file which imports that file. Global variables can have unintended consequences because of their wide-ranging effects – that is why we should almost never use them (usually they are represented by an uppercase name to be clearly visible). Only objects which are intended to be used globally, like functions and classes, should be put in the global scope.\n",
    "\n",
    "Global variables can be accessed directly inside a function but cannot be modified. To modify them you have to use the keyword ```global```:"
   ]
  },
  {
   "cell_type": "code",
   "execution_count": null,
   "metadata": {},
   "outputs": [],
   "source": [
    "AGLOBALPARAM = 10\n",
    "\n",
    "# Here you just use AGLOBALPARAM value, but do not modify it\n",
    "# param is just a copy of AGLOBALPARAM\n",
    "def multiplyParam(param): \n",
    "    param = param * 10\n",
    "    return (param)\n",
    "\n",
    "# Here you actually use AGLOBALPARAM\n",
    "# you modify it directly\n",
    "def divideParam():\n",
    "    global AGLOBALPARAM\n",
    "    AGLOBALPARAM = AGLOBALPARAM / 10\n",
    "    return (AGLOBALPARAM)\n",
    "    \n",
    "# Here you try to use AGLOBALPARAM but gives you an error\n",
    "# it is not accessible !\n",
    "def sumParam():\n",
    "    AGLOBALPARAM = AGLOBALPARAM + 10\n",
    "    return (AGLOBALPARAM + x)\n",
    "\n",
    "print (\"AGLOBALPARAM is {} to start.\".format(AGLOBALPARAM))\n",
    "print (\"Let's multiply it by 10.\")\n",
    "multiplyParam(AGLOBALPARAM)\n",
    "print (\"AGLOBALPARAM is still {}\".format(AGLOBALPARAM))\n",
    "print (\"Let's divide it by 10\")\n",
    "divideParam()\n",
    "print (\"Now AGLOBALPARAM is {}\".format(AGLOBALPARAM))\n",
    "print (\"Let's sum it to 10\")\n",
    "sumParam()"
   ]
  },
  {
   "cell_type": "markdown",
   "metadata": {},
   "source": [
    "A variable which is defined inside a function is local to that function. It is accessible from the point at which it is defined until the end of the function (e.g. the parameter names in the function definition behave like local variables)."
   ]
  },
  {
   "cell_type": "code",
   "execution_count": 5,
   "metadata": {},
   "outputs": [
    {
     "name": "stdout",
     "output_type": "stream",
     "text": [
      "4 10\n",
      "1\n"
     ]
    },
    {
     "ename": "NameError",
     "evalue": "name 's' is not defined",
     "output_type": "error",
     "traceback": [
      "\u001b[0;31m---------------------------------------------------------------------------\u001b[0m",
      "\u001b[0;31mNameError\u001b[0m                                 Traceback (most recent call last)",
      "\u001b[0;32m<ipython-input-5-3d2a1222fac4>\u001b[0m in \u001b[0;36m<module>\u001b[0;34m\u001b[0m\n\u001b[1;32m     12\u001b[0m \u001b[0mfunc\u001b[0m\u001b[0;34m(\u001b[0m\u001b[0;36m4\u001b[0m\u001b[0;34m)\u001b[0m\u001b[0;34m\u001b[0m\u001b[0m\n\u001b[1;32m     13\u001b[0m \u001b[0mprint\u001b[0m \u001b[0;34m(\u001b[0m\u001b[0mamax\u001b[0m\u001b[0;34m)\u001b[0m\u001b[0;34m\u001b[0m\u001b[0m\n\u001b[0;32m---> 14\u001b[0;31m \u001b[0mprint\u001b[0m \u001b[0;34m(\u001b[0m\u001b[0ms\u001b[0m\u001b[0;34m)\u001b[0m\u001b[0;34m\u001b[0m\u001b[0m\n\u001b[0m",
      "\u001b[0;31mNameError\u001b[0m: name 's' is not defined"
     ]
    }
   ],
   "source": [
    "# functions with local variable with some name of a global one\n",
    "# print local variable outside\n",
    "\n",
    "def func(amax):\n",
    "    s = 0\n",
    "    for i in range(amax+1):\n",
    "        s += i\n",
    "        \n",
    "    print (amax, s)\n",
    "    \n",
    "amax = 1\n",
    "func(4)\n",
    "print (amax)\n",
    "print (s)"
   ]
  },
  {
   "cell_type": "markdown",
   "metadata": {},
   "source": [
    "## Classes\n",
    "\n",
    "Classes are a key ingredient of *Object Oriented Programming* (OOP) and their concept is implemented in every modern language like `python`, `java`, `C++`.\n",
    "OOP is a programming model in which programs are organized around data, or objects, rather than functions and logic. \n",
    "\n",
    "A class is a blueprint for creating objects (a particular data structure), providing initial values for these objects (member variables or attributes), and implementations their behavior (member functions or methods).\n",
    "\n",
    "Let's summarize here some terminology:\n",
    "\n",
    "|     |\n",
    "| :-: | \n",
    "|CLASS~$\\rightarrow$~collection of functions that operate on some dataset|\n",
    "|DATA ITEMS $\\rightarrow$ are called the **attributes** of the class|\n",
    "|CLASS INSTANCE $\\rightarrow$ a specific collection of data belonging to the particular object we are representing|\n",
    "|CLASS FUNCTIONS $\\rightarrow$ are called **methods** of the class, and act on **instances**|\n",
    " \n",
    "\n",
    "![Graphical representation of a class instance.](prettycars.png)\n",
    "\n",
    "The image above shows how a Car object can be the template for many other Car instances. In the image, there are three instances: polo, mini, and beetle. Imagine to have a class called Car, that will structure a Car object to contain information about the car’s model, the color, how many passengers it can hold, its speed, etc. A class can define types of operations that can be performed on a Car object. For example, the Car class might specify an accelerate method, which would update the speed attribute of the car object.\n",
    "\n",
    "A class is a way of organizing information about a type of data so a programmer can reuse elements when making multiple instances of that data type—for example, if a programmer wanted to make three instances of Car, maybe a BMW, a Ferrari, and a Ford instance. The Car class would allow the programmer to store similar information that is unique to each car (they are different models, and maybe different colors, etc.) and associate the appropriate information with each car."
   ]
  },
  {
   "cell_type": "code",
   "execution_count": 3,
   "metadata": {},
   "outputs": [
    {
     "ename": "SyntaxError",
     "evalue": "unexpected EOF while parsing (<ipython-input-3-65eb3590a9b1>, line 2)",
     "output_type": "error",
     "traceback": [
      "\u001b[0;36m  File \u001b[0;32m\"<ipython-input-3-65eb3590a9b1>\"\u001b[0;36m, line \u001b[0;32m2\u001b[0m\n\u001b[0;31m    class Person:\u001b[0m\n\u001b[0m                 ^\u001b[0m\n\u001b[0;31mSyntaxError\u001b[0m\u001b[0;31m:\u001b[0m unexpected EOF while parsing\n"
     ]
    }
   ],
   "source": [
    "# class definition\n",
    "class Person:"
   ]
  },
  {
   "cell_type": "markdown",
   "metadata": {},
   "source": [
    "### The Constructor Method\n",
    "\n",
    "After declaring the class name, the constructor method must be defined. In $\\tt{python}$, this is denoted by `__init__()` regardless the class name. The `__init__` function, as every other method, takes `self` as the first argument, and then any number of arguments as desired by the programmer. The *constructor* allows to specify the initial state of a class by setting the attribute values. For this example that describes a Person, the programmer wants to know the name, the birthday and a job.\n",
    "\n",
    "The `self `parameter is used to create class attributes. Variables whose name starts with `self` have class scope which means are available within each class method.\n",
    "To access the arguments and associate them with a particular instance of the class, within the `__init__` method, create variables for each argument like this: `self.variableName = variableName`."
   ]
  },
  {
   "cell_type": "code",
   "execution_count": 1,
   "metadata": {},
   "outputs": [],
   "source": [
    "from datetime import date\n",
    "\n",
    "# this is the class definition\n",
    "# usually classes use camel naming convention\n",
    "class Person:\n",
    "    # the special method __init__ allows to instanciate a class\n",
    "    # with an initial dataset \n",
    "    def __init__(self, name, birthday):\n",
    "        self.name = name\n",
    "        self.birthday = birthday     \n",
    "        self.occupation = None # this attribute not set at instantiation"
   ]
  },
  {
   "cell_type": "markdown",
   "metadata": {},
   "source": [
    "Now we have a class definition that represent a generic person but we have not yet specialized it to some real person."
   ]
  },
  {
   "cell_type": "code",
   "execution_count": 4,
   "metadata": {},
   "outputs": [
    {
     "name": "stdout",
     "output_type": "stream",
     "text": [
      "<class '__main__.Person'>\n"
     ]
    }
   ],
   "source": [
    "me = Person(\"Matteo\", date(1974, 10, 20))\n",
    "print (type(me))"
   ]
  },
  {
   "cell_type": "markdown",
   "metadata": {},
   "source": [
    "Essentially when we instantiate a class \\texttt{python} first call the `__init__` method and initialise the class attributes with the parameter we are passing.\n",
    "\n",
    "We haven't yet defined any \"person behaviour\", so let's add a couple of methods to our class, one computing the person's age and the other setting its occupation."
   ]
  },
  {
   "cell_type": "code",
   "execution_count": null,
   "metadata": {},
   "outputs": [],
   "source": [
    "# this is the class definition\n",
    "# usually classes use camel naming convention\n",
    "class Person:\n",
    "    # the special method __init__ allows to instanciate a class\n",
    "    # with an initial dataset \n",
    "    def __init__(self, name, birthday):\n",
    "        self.name = name\n",
    "        self.birthday = birthday     \n",
    "        self.employment = None\n",
    "                \n",
    "    # this is a normal method and will work on some class attribute\n",
    "    def age(self, d=date.today()):\n",
    "        age = (d - self.birthday).days/365\n",
    "        print (\"{} is {:.0f} years old\".format(self.name, age))\n",
    "        \n",
    "    def mainOccupation(self, occupation):\n",
    "        self.employment = occupation\n",
    "        print (\"{}'s main occupation is: {}\".format(self.name, self.employment))"
   ]
  },
  {
   "cell_type": "code",
   "execution_count": 27,
   "metadata": {},
   "outputs": [
    {
     "data": {
      "text/plain": [
       "'Matteo'"
      ]
     },
     "execution_count": 27,
     "metadata": {},
     "output_type": "execute_result"
    }
   ],
   "source": [
    "# to access class attributes or methods you have to use .\n",
    "me.name"
   ]
  },
  {
   "cell_type": "code",
   "execution_count": 28,
   "metadata": {},
   "outputs": [
    {
     "name": "stdout",
     "output_type": "stream",
     "text": [
      "Matteo is 46 years old\n"
     ]
    }
   ],
   "source": [
    "# calling methods\n",
    "me.age(date.today())"
   ]
  },
  {
   "cell_type": "code",
   "execution_count": 29,
   "metadata": {},
   "outputs": [
    {
     "name": "stdout",
     "output_type": "stream",
     "text": [
      "Francesca is 20 years old\n"
     ]
    }
   ],
   "source": [
    "# another instance\n",
    "her = Person(\"Francesca\", date(2000, 7, 2))\n",
    "her.age()"
   ]
  },
  {
   "cell_type": "markdown",
   "metadata": {},
   "source": [
    "### Inheritance and Overriding Methods\n",
    "\n",
    "Inheritance is basically the idea that different classes can have similar components, and in order to avoid repeating code, inheritance is used to link parent classes to descendant classes. For example, in a fantasy story, there are heroes and monsters but both the heroes and the monsters are characters. And both dragons and orcs are monsters. Though dragons and orcs are different monsters, they share some qualities: they both have a color, they both have a size, they both have enemies. Orcs might have characteristics that dragons do not; for example, what kind of weapon does the orc carry? Inheritance allows the classes to share information relevant to multiple parts of the code.\n",
    "\n",
    "![](inheritance.png)\n",
    "\n",
    "Inheritance allows code to be reused and reduces the complexity of a program. The derived classes (descendants) override or extend the functionality of base classes (ancestors)."
   ]
  },
  {
   "cell_type": "code",
   "execution_count": 15,
   "metadata": {},
   "outputs": [],
   "source": [
    "# define a Child and Adult classes\n",
    "class Adult(Person):\n",
    "    def __init__(self, name, birthday, drv_license_id):\n",
    "        Person.__init__(self, name, birthday) # this is a special syntax\n",
    "        self.drv_license_id = drv_license_id\n",
    "        \n",
    "class Child(Person):\n",
    "    def mainOccupation(self):\n",
    "        self.employment = \"schoolchild\"\n",
    "        print (\"{} is a {}\".format(self.name, self.employment))"
   ]
  },
  {
   "cell_type": "markdown",
   "metadata": {},
   "source": [
    "`Adult` class inherets from `Person` and extend it adding a new attribute (driving license id).\n",
    "`Child` still inherets from `Person` and modify it by setting the only occupation allowed for a child overriding the `mainOccupation` method. "
   ]
  },
  {
   "cell_type": "code",
   "execution_count": 19,
   "metadata": {},
   "outputs": [],
   "source": [
    "pippo = Adult(\"Goofy\", date(1936, 1, 1), \"A1234\")\n",
    "\n",
    "qui = Child(\"Huey\", date(2014, 10, 9))"
   ]
  },
  {
   "cell_type": "code",
   "execution_count": 20,
   "metadata": {},
   "outputs": [
    {
     "name": "stdout",
     "output_type": "stream",
     "text": [
      "Goofy is 85 years old\n",
      "Goofy's main occupation is: Comic's character\n"
     ]
    }
   ],
   "source": [
    "pippo.age()\n",
    "pippo.mainOccupation(\"Comic's character\")"
   ]
  },
  {
   "cell_type": "code",
   "execution_count": 21,
   "metadata": {},
   "outputs": [
    {
     "name": "stdout",
     "output_type": "stream",
     "text": [
      "Huey is 6 years old\n",
      "Huey is a schoolchild\n"
     ]
    }
   ],
   "source": [
    "qui.age()\n",
    "qui.mainOccupation()"
   ]
  },
  {
   "cell_type": "markdown",
   "metadata": {},
   "source": [
    "# Interpolation\n",
    "\n",
    "## Linear interpolation\n",
    "\n",
    "It may happen to have few data points, obtained by sampling or experimenting. \n",
    "These points represent the values of a function $f(x)$, where $x$ is a variable (e.g. in recording a trip: distances at certain times, $d = f(t)$). \n",
    "It is often required to estimate the value of that function for intermediate values of the variable $x$ (e.g. what is the distance $d$ at a new time $t$ not sampled originally ?).\n",
    "\n",
    "Interpolation is a method to \"construct\" new points within a range of a discrete set of known data points. \n",
    "\n",
    "#### Example 1\n",
    "Assume you are going on holidays by car and that luckily there isn't much traffic so that you can drive at constant speed (which gives a linear relation between travelled space and time i.e. $s = v \\cdot t$, which means that if you plot the distances $s$ as a function of the time $t$ you get a line with slope $v$)."
   ]
  },
  {
   "cell_type": "code",
   "execution_count": 3,
   "metadata": {},
   "outputs": [
    {
     "data": {
      "image/png": "[encoded data removed]",
      "text/plain": [
       "<Figure size 432x288 with 1 Axes>"
      ]
     },
     "metadata": {
      "needs_background": "light"
     },
     "output_type": "display_data"
    }
   ],
   "source": [
    "from matplotlib import pyplot as plt\n",
    "\n",
    "t = [15, 100, 150]\n",
    "s = [25.75, 171.7, 257.7]\n",
    "\n",
    "t_ex = [200]\n",
    "s_ex = [300]\n",
    "\n",
    "plt.scatter(t, s, marker=\"o\", s=35)\n",
    "plt.scatter(t_ex, s_ex, marker=\"*\", s=35, color=\"red\")\n",
    "plt.xlabel(\"Time (minutes)\")\n",
    "plt.ylabel(\"Distance (km)\")\n",
    "plt.grid(True)\n",
    "plt.show()"
   ]
  },
  {
   "cell_type": "markdown",
   "metadata": {},
   "source": [
    "Given two samples of the car travelled distance $s_1$ and $s_2$ taken at two different times $t_1$ and $t_2$ you can linearly interpolate to find your position at different times using the following relations:\n",
    "\n",
    "$$s(t) = (1 - w)\\cdot s_1 + w \\cdot s_2~~~~~~~~~(\\textrm{with}~w = \\frac{t - t_1}{t_2 - t_1})$$\n",
    "($t$ generic time at which we want to know the distance $s$)\n",
    "\n",
    "***Derivation***\n",
    "The equation of a line for two points $(t_1, s_1)$ and $(t_2, s_2)$ can be written as:\n",
    "\n",
    "$$\\cfrac{t - t_1}{t_2 - t_1} = \\cfrac{s - s_1}{s_2 - s_1}$$\n",
    "\n",
    "Setting $w = \\cfrac{t - t_1}{t_2 - t_1}$ and solving for $s$ we find the desired solution:\n",
    "\n",
    "$$(s_2 - s_1)\\cdot w = s - s_1~~~\\Rightarrow~~~s(t) = (1 - w)\\cdot s_1 + w \\cdot s_2$$\n",
    "\n",
    "This formula can also be understood as a weighted average. The weights are inversely related to the distance from the end points to the unknown point; the closer point has more influence than the farther point. Thus, the weights are $(w_1 = (1 - w) = \\cfrac{t_2 - t}{t_2 - t_1}; w_2 = w)$, which are normalized distances between the unknown point and each of the end points.\n",
    "\n",
    "Back to our example, if $s_1 = 25.75~\\mathrm{km}\\;(@t_1 = 15~\\mathrm{min})$ and $s_2 = 171.7~\\mathrm{km}\\;(@t_2 = 100~\\mathrm{min})$ let's compute:"
   ]
  },
  {
   "cell_type": "code",
   "execution_count": 26,
   "metadata": {},
   "outputs": [
    {
     "name": "stdout",
     "output_type": "stream",
     "text": [
      "Distance travelled in 60 min.: 103.02 km\n"
     ]
    }
   ],
   "source": [
    "# let's find distance travelled in 1 hour (interpolation)\n",
    "\n",
    "def my_interpolation(t, p1, p2):\n",
    "    w = (t - p1[0])/(p2[0] - p1[0])\n",
    "    s = (1 - w)*p1[1] + w * p2[1]\n",
    "    return s\n",
    "    \n",
    "# p1 = (t1, s1)\n",
    "t = 60\n",
    "p1 = (15, 25.75)\n",
    "p2 = (100, 171.7)\n",
    "\n",
    "print (\"Distance travelled in {} min.: {:.2f} km\".format(t, my_interpolation(t, p1, p2)))"
   ]
  },
  {
   "cell_type": "markdown",
   "metadata": {},
   "source": [
    "If we believe the relation between our variable stays the same, we can use the same formula to extrapolate values outside our initial sample.\n",
    "\n",
    "For example if we keep the same constant velocity in our trip we could check:"
   ]
  },
  {
   "cell_type": "code",
   "execution_count": 27,
   "metadata": {},
   "outputs": [
    {
     "name": "stdout",
     "output_type": "stream",
     "text": [
      "Distance travelled in 180 min.: 309.06 km\n"
     ]
    }
   ],
   "source": [
    "# distance travelled in a 3 hour trip (extrapolation)\n",
    "t = 180\n",
    "\n",
    "print (\"Distance travelled in {} min.: {:.2f} km\".format(t, my_interpolation(t, p1, p2)))"
   ]
  },
  {
   "cell_type": "markdown",
   "metadata": {},
   "source": [
    "### Log-linear interpolation\n",
    "\n",
    "When the function $f$ that we want to interpolate is an exponential we can fall back to the previous case by a simple variable transformation. \n",
    "\n",
    "$$p = \\mathrm{exp}(c \\cdot h)$$\n",
    "\n",
    "$$s = \\mathrm{log}(p) = \\mathrm{log}(\\mathrm{exp}(c \\cdot h)) = c \\cdot h$$\n",
    "\n",
    "$$w = \\frac{h - h_1}{h_2 - h_1}$$\n",
    "\n",
    "$$s = (1 - w)\\cdot s_1 + w \\cdot s_2\\;\\;(\\mathrm{remember \\;now }\\;s = \\mathrm{log}(p))$$\n",
    "\n",
    "$$p = \\mathrm{exp}(s)$$\n",
    "\n",
    "#### Example 2\n",
    "\n",
    "Atmospheric pressure decreases with the altitude (i.e. the highest I flight the lower is the pressure) following an exponential law:\n",
    "\n",
    "$$p = p_0\\cdot e^{-\\alpha h}$$\n",
    "\n",
    "where\n",
    "\n",
    "* $h$ is the altitude\n",
    "* $p_0$ is the pressure at sea level\n",
    "* $\\alpha$ is a constant\n",
    "\n",
    "Taking the logarithm of each side of the equation I get a linear relation which can be interpolated as before:\n",
    "\n",
    "$$s = \\mathrm{log}(p) = \\mathrm{log}(p_0\\cdot e^{-\\alpha h})\\propto - \\alpha \\cdot h$$\n",
    "\n",
    "Now assume that we have measured $p_1 = 90~\\mathrm{kPa}\\;(h_1 = 1000~\\mathrm{m})$ and $p_2 = 40~\\mathrm{kPa}\\;(h_1 = 7000~\\mathrm{m})$ what will be the atmospheric pressure on top of the Mont Blanc ($4812~\\mathrm{m}$) ? and on top of Mount Everest ($8848~\\mathrm{m}$) ? "
   ]
  },
  {
   "cell_type": "code",
   "execution_count": 30,
   "metadata": {},
   "outputs": [
    {
     "name": "stdout",
     "output_type": "stream",
     "text": [
      "Pressure at 4812 m: 53.76 kPa\n"
     ]
    }
   ],
   "source": [
    "# pressure on top of the Mont Blanc (interpolation)\n",
    "from math import log, exp\n",
    "\n",
    "h = 4812\n",
    "p1 = (1000, log(90))\n",
    "p2 = (7000, log(40))\n",
    "\n",
    "print (\"Pressure at {} m: {:.2f} kPa\".format(h, exp(my_interpolation(h, p1, p2))))"
   ]
  },
  {
   "cell_type": "code",
   "execution_count": 31,
   "metadata": {},
   "outputs": [
    {
     "name": "stdout",
     "output_type": "stream",
     "text": [
      "Pressure at 8848 m: 31.16 kPa\n"
     ]
    }
   ],
   "source": [
    "# pressure on top of the Mount Everest (extrapolation)\n",
    "\n",
    "h = 8848\n",
    "print (\"Pressure at {} m: {:.2f} kPa\".format(h, exp(my_interpolation(h, p1, p2))))"
   ]
  },
  {
   "cell_type": "markdown",
   "metadata": {},
   "source": [
    "![Atmospheric pressure versus altitude (wikipedia). Green points represent our measurements, red points represent interpolation/extrapolation.](Atmospheric_Pressure_vs._Altitude.png)"
   ]
  },
  {
   "cell_type": "markdown",
   "metadata": {},
   "source": [
    "### Limitations of Linear Interpolation\n",
    "\n",
    "Interpolation is just an approximation and works well when either the function $f$ is linear or we are trying to interpolate between two points that are close enough to believe that $f$ is *almost* linear in that interval.\n",
    "It can be easily demonstrated that the approximation between two points on a given function gets worse with the second derivative of the function that is approximated. This is intuitively correct: the \"curvier\" the function is, the worse the approximations made with simple linear interpolation become."
   ]
  },
  {
   "cell_type": "code",
   "execution_count": 34,
   "metadata": {},
   "outputs": [
    {
     "data": {
      "image/png": "[encoded data removed]",
      "text/plain": [
       "<Figure size 432x288 with 1 Axes>"
      ]
     },
     "metadata": {
      "needs_background": "light"
     },
     "output_type": "display_data"
    }
   ],
   "source": [
    "import numpy as np\n",
    "from matplotlib import pyplot as plt\n",
    "\n",
    "x = [1, 2]\n",
    "y = np.sin(x)\n",
    "\n",
    "xi = 1.5\n",
    "z = np.interp(xi, x, y)\n",
    "xs = np.arange(0,np.pi, 0.01)\n",
    "plt.plot(xs, np.sin(xs), linestyle=\"--\")\n",
    "plt.plot([1,1.5,2], [y[0], z, y[1]], linestyle=\"--\", color=\"red\")\n",
    "plt.scatter(x, y, marker=\"o\", color=\"black\")\n",
    "plt.scatter(xi, z, marker=\"*\", color=\"red\")\n",
    "plt.ylim(0.55, 1.15)\n",
    "plt.show()"
   ]
  },
  {
   "cell_type": "markdown",
   "metadata": {},
   "source": [
    "To improve the approximation accuracy with complicated curves a polynomial of higher order can be used $(p(x) = a_0 + a_1 x + a_2 x^2 + \\ldots$), for example in the evaluation of the natural logarithm and trigonometric functions. It has to be clear however that going to higher degrees does not always help (for those interested [see Runge's phenomenon](https://en.wikipedia.org/wiki/Runge%27s_phenomenon))."
   ]
  },
  {
   "cell_type": "markdown",
   "metadata": {},
   "source": [
    "## Discount curve interpolation\n",
    "\n",
    "Finally we can come back to finance and using what we have just learnt try to write a function which interpolates some given discount factors.\n",
    "\n",
    "Needed data:\n",
    "\n",
    "* a list of pillars dates specifying the value dates of the given discount factors, $t_0,...,t_{n-1}$\n",
    "* a list of given discount factors, $D(t_0),...,D(t_{n-1})$\n",
    "* a pricing date ('today' date) which corresponds to $t=0$\n",
    "\n",
    "The input argument to the function will be the value date at which we want to interpolate the discount factor.\n",
    "\n",
    "Since the discount factor can be expresses as $D=e^{-r(T-t)}$ the function will use a log-linear interpolation to return the value we are looking for.\n",
    "More technically we can say that we are doing a linear interpolation over time in the log space.\n",
    "\n",
    "So applying the same steps as before we get:\n",
    "\n",
    "$$d(t_i):=\\mathrm{ln}(D(t_i))$$\n",
    "\n",
    "$$d(t) = (1-w)d(t_i) + wd(t_{i+1});\\;\\;\\;w=\\frac{t-t_i}{t_{i+1}-t_i}$$\n",
    "\n",
    "$$D(t) = \\mathrm{exp}(d(t))$$\n",
    "\n",
    "where $i$ is such that $t_i \\le t \\le t_{i+1}$\n",
    "\n",
    "Instead of reinventing the wheel and perform the interpolation with our own code, we'll use the function `interp` provided by the module `numpy`. So first let's try it with some simple examples:"
   ]
  },
  {
   "cell_type": "code",
   "execution_count": 35,
   "metadata": {},
   "outputs": [
    {
     "name": "stdout",
     "output_type": "stream",
     "text": [
      "7.5\n"
     ]
    }
   ],
   "source": [
    "# the numpy.interp function linearly interpolates\n",
    "import numpy as np\n",
    "\n",
    "xp = [1, 3, 7]\n",
    "yp = [2, 6, 12]\n",
    "\n",
    "print (np.interp(4, xp, yp))"
   ]
  },
  {
   "cell_type": "code",
   "execution_count": 44,
   "metadata": {},
   "outputs": [
    {
     "ename": "TypeError",
     "evalue": "df() missing 1 required positional argument: 'discount_factors'",
     "output_type": "error",
     "traceback": [
      "\u001b[0;31m---------------------------------------------------------------------------\u001b[0m",
      "\u001b[0;31mTypeError\u001b[0m                                 Traceback (most recent call last)",
      "\u001b[0;32m<ipython-input-44-a2930bc2fba7>\u001b[0m in \u001b[0;36m<module>\u001b[0;34m\u001b[0m\n\u001b[1;32m      8\u001b[0m \u001b[0mpillar_dates\u001b[0m \u001b[0;34m=\u001b[0m \u001b[0;34m[\u001b[0m\u001b[0mdate\u001b[0m\u001b[0;34m.\u001b[0m\u001b[0mtoday\u001b[0m\u001b[0;34m(\u001b[0m\u001b[0;34m)\u001b[0m\u001b[0;34m,\u001b[0m \u001b[0mdate\u001b[0m\u001b[0;34m(\u001b[0m\u001b[0;36m2021\u001b[0m\u001b[0;34m,\u001b[0m \u001b[0;36m4\u001b[0m\u001b[0;34m,\u001b[0m \u001b[0;36m15\u001b[0m\u001b[0;34m)\u001b[0m\u001b[0;34m,\u001b[0m \u001b[0mdate\u001b[0m\u001b[0;34m(\u001b[0m\u001b[0;36m2021\u001b[0m\u001b[0;34m,\u001b[0m \u001b[0;36m10\u001b[0m\u001b[0;34m,\u001b[0m \u001b[0;36m15\u001b[0m\u001b[0;34m)\u001b[0m\u001b[0;34m]\u001b[0m\u001b[0;34m\u001b[0m\u001b[0m\n\u001b[1;32m      9\u001b[0m \u001b[0mdiscount_factors\u001b[0m \u001b[0;34m=\u001b[0m \u001b[0;34m[\u001b[0m\u001b[0;36m1\u001b[0m\u001b[0;34m,\u001b[0m \u001b[0;36m0.95\u001b[0m\u001b[0;34m,\u001b[0m \u001b[0;36m0.72\u001b[0m\u001b[0;34m]\u001b[0m\u001b[0;34m\u001b[0m\u001b[0m\n\u001b[0;32m---> 10\u001b[0;31m \u001b[0mprint\u001b[0m \u001b[0;34m(\u001b[0m\u001b[0mdf\u001b[0m\u001b[0;34m(\u001b[0m\u001b[0mdate\u001b[0m\u001b[0;34m(\u001b[0m\u001b[0;36m2020\u001b[0m\u001b[0;34m,\u001b[0m \u001b[0;36m12\u001b[0m\u001b[0;34m,\u001b[0m \u001b[0;36m25\u001b[0m\u001b[0;34m)\u001b[0m\u001b[0;34m,\u001b[0m \u001b[0mpillar_dates\u001b[0m\u001b[0;34m,\u001b[0m \u001b[0mdiscount_factors\u001b[0m\u001b[0;34m)\u001b[0m\u001b[0;34m)\u001b[0m\u001b[0;34m\u001b[0m\u001b[0m\n\u001b[0m",
      "\u001b[0;31mTypeError\u001b[0m: df() missing 1 required positional argument: 'discount_factors'"
     ]
    }
   ],
   "source": [
    "# define the df function\n",
    "def df(d, pillar_dates, discount_factors):\n",
    "    log_discount_factors = [log(x) for x in discount_factors]\n",
    "    interpolated = np.interp(d, pillar_dates, log_discount_factors)\n",
    "    return exp(interpolated)\n",
    "\n",
    "pillar_dates = [date.today(), date(2021, 4, 15), date(2021, 10, 15)]\n",
    "discount_factors = [1, 0.95, 0.72]\n",
    "print (df(date(2020, 12, 25), pillar_dates, discount_factors))"
   ]
  },
  {
   "cell_type": "markdown",
   "metadata": {},
   "source": [
    "This is almost OK, **but it won't work** because ```numpy.interp``` only accepts numbers/lists of numbers as arguments i.e. it doesn't automatically convert or interpret dates as numbers in any way, so it doesn't know how to interpolate them.\n",
    "So we need to do the conversion ourselves before passing the data into the ```numpy.interp``` function."
   ]
  },
  {
   "cell_type": "code",
   "execution_count": 45,
   "metadata": {},
   "outputs": [
    {
     "name": "stdout",
     "output_type": "stream",
     "text": [
      "0.9792107158936496\n"
     ]
    }
   ],
   "source": [
    "# corrected function\n",
    "def df(d, observation_date, pillar_dates, discount_factors):\n",
    "    log_discount_factors = [log(x) for x in discount_factors]\n",
    "    converted_pillars = [(d_i - observation_date).days for d_i in pillar_dates]\n",
    "    converted_d = (d - observation_date).days\n",
    "    interpolated = np.interp(converted_d, converted_pillars, log_discount_factors)\n",
    "    return exp(interpolated)"
   ]
  },
  {
   "cell_type": "code",
   "execution_count": 49,
   "metadata": {},
   "outputs": [
    {
     "name": "stdout",
     "output_type": "stream",
     "text": [
      "0.9792107158936496\n"
     ]
    }
   ],
   "source": [
    "# now we can use the df function to get discount factors\n",
    "# on value dates between the given pillar dates\n",
    "observation_date = date.today()\n",
    "pillar_dates = [date.today(), date(2021, 4, 15), date(2021, 10, 15)]\n",
    "discount_factors = [1, 0.95, 0.72]\n",
    "\n",
    "df_date = date(2020, 12, 25)\n",
    "df0 = df(df_date, observation_date, pillar_dates, discount_factors)\n",
    "print (df0)"
   ]
  },
  {
   "cell_type": "code",
   "execution_count": 50,
   "metadata": {},
   "outputs": [
    {
     "data": {
      "image/png": "[encoded data removed]",
      "text/plain": [
       "<Figure size 432x288 with 1 Axes>"
      ]
     },
     "metadata": {
      "needs_background": "light"
     },
     "output_type": "display_data"
    }
   ],
   "source": [
    "# let's see what these look like when plotted on a semi‐log graph\n",
    "from matplotlib import pyplot as plt\n",
    "import matplotlib.dates as mdates\n",
    "\n",
    "plt.semilogy(pillar_dates, discount_factors, marker='o')\n",
    "plt.semilogy(df_date, df0 , marker='X')\n",
    "plt.gca().xaxis.set_major_formatter(mdates.DateFormatter('%m/%d/%Y'))\n",
    "plt.gca().xaxis.set_major_locator(mdates.YearLocator())\n",
    "plt.grid(True)\n",
    "plt.show()"
   ]
  },
  {
   "cell_type": "code",
   "execution_count": 51,
   "metadata": {},
   "outputs": [
    {
     "data": {
      "image/png": "[encoded data removed]",
      "text/plain": [
       "<Figure size 432x288 with 1 Axes>"
      ]
     },
     "metadata": {
      "needs_background": "light"
     },
     "output_type": "display_data"
    }
   ],
   "source": [
    "# let's see what these look like when plotted on a linear graph\n",
    "\n",
    "from matplotlib import pyplot as plt\n",
    "import matplotlib.dates as mdates\n",
    "plt.plot(pillar_dates, discount_factors, marker='o')\n",
    "plt.plot(df_date,df0 , marker='X')\n",
    "plt.gca().xaxis.set_major_formatter(mdates.DateFormatter('%m/%d/%Y'))\n",
    "plt.gca().xaxis.set_major_locator(mdates.YearLocator())\n",
    "plt.grid(True)\n",
    "plt.show()"
   ]
  },
  {
   "cell_type": "markdown",
   "metadata": {},
   "source": [
    "# Forward Rates"
   ]
  },
  {
   "cell_type": "markdown",
   "metadata": {},
   "source": [
    "## Calculating Forward Rates\n",
    "\n",
    "Last week we wrote a function called `df` for calculating a discount factor at any date, given a set of discount factors each relative to a corresponding pillar date, using log-linear interpolation. Now we want a function to compute forward rates.\n",
    "\n",
    "The formula to calculate the forward rates can be found exploiting the property that investing at rate $r_1$ for the period $(0, T_1)$ and then *reinvesting* at rate $r_{1,2}$ for the time period $(T_1, T_2)$ is equivalent to invest at rate $r_2$ for the time period $(0, T_2)$ (i.e. no arbitrage condition, two investors shouldn't be able to earn money from arbitraging between different interest periods). That said:\n",
    "\n",
    "$$(1+r_1 T_1)(1+r_{1,2}(T_2 - T_1)) = 1 + r_2 T_2$$\n",
    "\n",
    "Solving for $r_{1,2}$ leads to\n",
    "\n",
    "$$F(T_1, T_2) = r_{1,2} = \\frac{1}{T_2-T_1}\\Big(\\frac{D(T_1)}{D(T_2)} - 1 \\Big)~~~~\\textrm{(where $D{(T_i)}=\\frac{1}{1+r_iT_{i}}$)}$$"
   ]
  },
  {
   "cell_type": "code",
   "execution_count": 54,
   "metadata": {},
   "outputs": [
    {
     "data": {
      "text/plain": [
       "0.0306904045182785"
      ]
     },
     "execution_count": 54,
     "metadata": {},
     "output_type": "execute_result"
    }
   ],
   "source": [
    "observation_date = date (2019, 1, 1)\n",
    "\n",
    "pillar_dates = [date(2019 , 1 ,1), \n",
    "                date(2020, 1, 1), \n",
    "                date(2021, 10 ,1)]\n",
    "discount_factors = [1.0, 0.97, 0.72]\n",
    "\n",
    "def forward_rate(t1, t2, observation_date, pillar_dates, discount_factors):\n",
    "    return 365.0/(t2-t1).days * (df(t1, observation_date, pillar_dates, discount_factors) / \n",
    "                                 df(t2, observation_date, pillar_dates, discount_factors) - 1)\n",
    "\n",
    "forward_rate(date(2019, 2, 1), date(2019, 8, 1), \n",
    "             observation_date, pillar_dates, discount_factors)"
   ]
  },
  {
   "cell_type": "markdown",
   "metadata": {},
   "source": [
    "### 2008 Financial Crisis\n",
    "\n",
    "Looking at the historical series of the Euribor (6M) rate versus the Eonia Overnight Indexed Swap (OIS-6M) rate over  the time interval 2006-2011 it becomes apparent how before August 2007 the two rates display strictly overlapping trends differing of no more than 6 bps. \n",
    "\n",
    "![](credit_crunch.png)\n",
    "\n",
    "In August 2007 however we observe a sudden increase of the Euribor rate and a simultaneous decrease of the OIS rate  that leads to the explosion of the corresponding basis spread, touching the peak of 222 bps in October 2008, when Lehman Brothers filed for bankruptcy protection. Successively the basis has sensibly reduced and stabilized between  40 bps and 60 bps (notice that the pre-crisis level has never been recovered). The same effect is observed for other similar couples, e.g. Euribor 3M vs OIS 3M. \n",
    "\n",
    "The reason of the abrupt divergence between the Euribor and OIS rates can be explained by considering both the monetary policy decisions adopted by international authorities in response to the financial turmoil, and the impact of the credit crunch on the credit and liquidity risk perception of the market, coupled with the different financial meaning and dynamics of these rates. \n",
    "\n",
    "As a practial result, after the 2008 financial crisis, it is not possible anymore to use a single discount curve to correctly price forward rates of all tenors. For example, if we want to calculate the net present value of a forward 6-month libor coupon, we need to simultaneously use two different discount curves:\n",
    "\n",
    "* the 6-month libor curve for determining the forward rate\n",
    "* the EONIA curve for discounting the expected cash flow\n",
    "\n",
    "Essentially we will hav to implement the following calculation:\n",
    "\n",
    "$$\\mathrm{NPV} = D_{\\mathrm{EONIA}}(T_1) \\times \\frac{1}{T_2-T_1}\\Big(\\frac{D_{\\mathrm{LIBOR}}(T_1)}{D_{\\mathrm{LIBOR}}(T_2)} - 1 \\Big)$$"
   ]
  },
  {
   "cell_type": "markdown",
   "metadata": {},
   "source": [
    "Try to write a ```DiscountCurve``` class which contains the pillar dates and pillar discount factors as attributes and which has methods for calculating the discount factor and forward rate at arbitrary dates.\n",
    "\n",
    "#### Hint:\n",
    "\n",
    "```python\n",
    "# here goes import statement of the needed modules\n",
    "import ABCD\n",
    "from XYZ import xyz\n",
    "\n",
    "# usually classes have CamelCase naming convention\n",
    "class DiscountCurve:\n",
    "\n",
    "    # the special __init__ method defines \n",
    "    # how to construct instances of the class\n",
    "    # so you need to identify the attributes you need to store \n",
    "    # in the class defining a discount curve\n",
    "    def __init__(self, ...):\n",
    "\n",
    "    # then we want to add a method to compute the discount\n",
    "    # factor at an arbitrary value date \n",
    "    # using the data stored in the instance\n",
    "    def df(self, param1, param2, ...):\n",
    "      # the implementation can follow what we did in the \n",
    "      # function we wrote last week but this time has to \n",
    "      # use the class attributes\n",
    "      \n",
    "    # finally we want a method to calculates the forward rate \n",
    "    # based on the discount curve data stored in the instance\n",
    "    def forward_rate(self, param1, param2, ...):\n",
    "        # here of course we can use the df method \n",
    "        # implemented above to calculate the forward rate\n",
    "```"
   ]
  },
  {
   "cell_type": "code",
   "execution_count": 60,
   "metadata": {},
   "outputs": [],
   "source": [
    "class Student(Person):\n",
    "    def __init__(self, name, birthday, school):\n",
    "        Person.__init__(self, name, birthday)\n",
    "        self.grade = school\n",
    "        self.votes = {}\n",
    "        \n",
    "    def addVote(self, subject, vote):\n",
    "        self.votes[subject] = vote\n",
    "        \n",
    "    def average(self):\n",
    "        print (\"List of votes\")\n",
    "        print (\"-------------\")\n",
    "        for k, v in self.votes.items():\n",
    "            print (\"{}: {}\".format(k, v))\n",
    "            \n",
    "        avg = sum(self.votes.values())/len(self.votes)\n",
    "        print (\"-------------\")\n",
    "        print (\"Avg: {:.1f}\".format(avg))"
   ]
  }
 ],
 "metadata": {
  "kernelspec": {
   "display_name": "Python 3",
   "language": "python",
   "name": "python3"
  },
  "language_info": {
   "codemirror_mode": {
    "name": "ipython",
    "version": 3
   },
   "file_extension": ".py",
   "mimetype": "text/x-python",
   "name": "python",
   "nbconvert_exporter": "python",
   "pygments_lexer": "ipython3",
   "version": "3.6.3"
  },
  "nbdime-conflicts": {
   "local_diff": [
    {
     "key": "language_info",
     "op": "add",
     "value": {
      "codemirror_mode": {
       "name": "ipython",
       "version": 3
      },
      "file_extension": ".py",
      "mimetype": "text/x-python",
      "name": "python",
      "nbconvert_exporter": "python",
      "pygments_lexer": "ipython3",
      "version": "3.7.4"
     }
    }
   ],
   "remote_diff": [
    {
     "key": "language_info",
     "op": "add",
     "value": {
      "codemirror_mode": {
       "name": "ipython",
       "version": 3
      },
      "file_extension": ".py",
      "mimetype": "text/x-python",
      "name": "python",
      "nbconvert_exporter": "python",
      "pygments_lexer": "ipython3",
      "version": "3.6.3"
     }
    }
   ]
  }
 },
 "nbformat": 4,
 "nbformat_minor": 2
}
