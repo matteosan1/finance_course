{
 "cells": [
  {
   "cell_type": "markdown",
   "metadata": {},
   "source": [
    "## CAPE\n",
    "\n"
   ]
  },
  {
   "cell_type": "code",
   "execution_count": 4,
   "metadata": {},
   "outputs": [
    {
     "name": "stdout",
     "output_type": "stream",
     "text": [
      "         DATE  CPIAUCNS\n",
      "0  1913-01-01       9.8\n",
      "1  1913-02-01       9.8\n",
      "2  1913-03-01       9.8\n",
      "3  1913-04-01       9.8\n",
      "4  1913-05-01       9.7\n",
      "         DATE  CPIAUCNS  CPI_Multiplier\n",
      "0  1913-01-01       9.8        26.57898\n",
      "1  1913-02-01       9.8        26.57898\n",
      "2  1913-03-01       9.8        26.57898\n",
      "3  1913-04-01       9.8        26.57898\n",
      "4  1913-05-01       9.7        26.85299\n"
     ]
    }
   ],
   "source": [
    "import pandas as pd\n",
    "inflation = pd.read_csv('CPIAUCNS.csv')\n",
    "\n",
    "print (inflation.head())\n",
    "# create index multiplier\n",
    "inflation['CPI_Multiplier'] = inflation['CPIAUCNS'].iloc[-1] / inflation['CPIAUCNS']\n",
    "\n",
    "print (inflation.head())\n"
   ]
  },
  {
   "cell_type": "code",
   "execution_count": 7,
   "metadata": {},
   "outputs": [
    {
     "name": "stdout",
     "output_type": "stream",
     "text": [
      "         DATE  ATNHPIUS33460Q  CPIAUCNS  CPI_Multiplier\n",
      "0  1976-04-01           37.43      56.1        4.643030\n",
      "1  1976-07-01           37.62      57.1        4.561716\n",
      "2  1976-10-01           38.48      57.9        4.498687\n",
      "3  1977-01-01           39.52      58.5        4.452547\n",
      "4  1977-04-01           40.65      60.0        4.341233\n"
     ]
    }
   ],
   "source": [
    "df = pd.read_csv('ATNHPIUS33460Q.csv')\n",
    "df = pd.merge(df, inflation, how='left', on='DATE')\n",
    "#df['day'] = 1\n",
    "#new_df = df[['year', 'month', 'day']]\n",
    "#df['Date'] = pd.to_datetime(new_df)\n",
    "print (df.head())"
   ]
  },
  {
   "cell_type": "code",
   "execution_count": 8,
   "metadata": {},
   "outputs": [
    {
     "name": "stdout",
     "output_type": "stream",
     "text": [
      "         DATE  ATNHPIUS33460Q  CPIAUCNS  CPI_Multiplier  CPIAdjPrice\n",
      "0  1976-04-01           37.43      56.1        4.643030   173.788624\n",
      "1  1976-07-01           37.62      57.1        4.561716   171.611767\n",
      "2  1976-10-01           38.48      57.9        4.498687   173.109491\n",
      "3  1977-01-01           39.52      58.5        4.452547   175.964658\n",
      "4  1977-04-01           40.65      60.0        4.341233   176.471135\n"
     ]
    }
   ],
   "source": [
    "df['CPIAdjPrice'] = df['ATNHPIUS33460Q'] * df['CPI_Multiplier'] \n",
    "\n",
    "print (df.head())"
   ]
  },
  {
   "cell_type": "code",
   "execution_count": 11,
   "metadata": {},
   "outputs": [
    {
     "data": {
      "text/plain": [
       "<matplotlib.axes._subplots.AxesSubplot at 0x7fc61fd310f0>"
      ]
     },
     "execution_count": 11,
     "metadata": {},
     "output_type": "execute_result"
    },
    {
     "data": {
      "image/png": "[encoded data removed]",
      "text/plain": [
       "<Figure size 432x288 with 1 Axes>"
      ]
     },
     "metadata": {
      "needs_background": "light"
     },
     "output_type": "display_data"
    }
   ],
   "source": [
    "df['CPIAdjPrice'].plot()"
   ]
  },
  {
   "cell_type": "markdown",
   "metadata": {},
   "source": [
    "The cyclically adjusted price-to-earnings ratio, commonly known as CAPE,Shiller P/E, or P/E 10\n",
    "ratio, is a valuation measure usually applied to the US S&P 500 equity market. It is defined as price\n",
    "divided by the average of ten years of earnings (moving average), adjusted for inflation. \n",
    "\n",
    "It was introduced first by Yale University professor Robert Shiller who wrote the book on irrational\n",
    "exuberance and by professor John Campbell.\n",
    "\n",
    "It is a variation of the normal P/E ratio because it takes into consideration the real (inflation\n",
    "adjusted) past earnings and smooth out the impact of business cycles and other events and gives a\n",
    "better picture of an index's sustainable earning power.\n",
    "The ratio has been under attention recently because it is higher for the USA market slightly higher\n",
    "than on the eve of the Great Crash of 1929. Since the dot-com bubble burst, valuations have only\n",
    "once been higher than they are now, and that was in January 2018, immediately before a more than\n",
    "18% correction."
   ]
  },
  {
   "cell_type": "code",
   "execution_count": 26,
   "metadata": {},
   "outputs": [
    {
     "data": {
      "text/html": [
       "<div>\n",
       "<style scoped>\n",
       "    .dataframe tbody tr th:only-of-type {\n",
       "        vertical-align: middle;\n",
       "    }\n",
       "\n",
       "    .dataframe tbody tr th {\n",
       "        vertical-align: top;\n",
       "    }\n",
       "\n",
       "    .dataframe thead th {\n",
       "        text-align: right;\n",
       "    }\n",
       "</style>\n",
       "<table border=\"1\" class=\"dataframe\">\n",
       "  <thead>\n",
       "    <tr style=\"text-align: right;\">\n",
       "      <th></th>\n",
       "      <th>Date</th>\n",
       "      <th>S&amp;P</th>\n",
       "      <th>Dividend</th>\n",
       "      <th>Earnings</th>\n",
       "      <th>CPI</th>\n",
       "      <th>Date Fraction</th>\n",
       "      <th>Rate GS10</th>\n",
       "      <th>Real Price</th>\n",
       "      <th>Real Dividend</th>\n",
       "      <th>Real Total Return Price</th>\n",
       "      <th>...</th>\n",
       "      <th>CAPE</th>\n",
       "      <th>Unnamed: 13</th>\n",
       "      <th>TR CAPE</th>\n",
       "      <th>Unnamed: 15</th>\n",
       "      <th>Yield</th>\n",
       "      <th>Returns</th>\n",
       "      <th>Returns.1</th>\n",
       "      <th>Real Return</th>\n",
       "      <th>Real Return.1</th>\n",
       "      <th>Returns.2</th>\n",
       "    </tr>\n",
       "  </thead>\n",
       "  <tbody>\n",
       "    <tr>\n",
       "      <th>1796</th>\n",
       "      <td>2020.09</td>\n",
       "      <td>3365.516667</td>\n",
       "      <td>58.850000</td>\n",
       "      <td>98.22</td>\n",
       "      <td>260.28000</td>\n",
       "      <td>2020.708333</td>\n",
       "      <td>0.68</td>\n",
       "      <td>3363.315271</td>\n",
       "      <td>58.811506</td>\n",
       "      <td>2115138.177</td>\n",
       "      <td>...</td>\n",
       "      <td>30.833593</td>\n",
       "      <td>NaN</td>\n",
       "      <td>33.812021</td>\n",
       "      <td>NaN</td>\n",
       "      <td>0.043312</td>\n",
       "      <td>0.990078</td>\n",
       "      <td>58.607018</td>\n",
       "      <td>NaN</td>\n",
       "      <td>NaN</td>\n",
       "      <td>NaN</td>\n",
       "    </tr>\n",
       "    <tr>\n",
       "      <th>1797</th>\n",
       "      <td>2020.10</td>\n",
       "      <td>3418.701364</td>\n",
       "      <td>58.659615</td>\n",
       "      <td>NaN</td>\n",
       "      <td>260.38800</td>\n",
       "      <td>2020.791667</td>\n",
       "      <td>0.79</td>\n",
       "      <td>3415.048147</td>\n",
       "      <td>58.596932</td>\n",
       "      <td>2150743.095</td>\n",
       "      <td>...</td>\n",
       "      <td>31.277783</td>\n",
       "      <td>NaN</td>\n",
       "      <td>34.300840</td>\n",
       "      <td>NaN</td>\n",
       "      <td>0.041667</td>\n",
       "      <td>0.99306</td>\n",
       "      <td>58.001452</td>\n",
       "      <td>NaN</td>\n",
       "      <td>NaN</td>\n",
       "      <td>NaN</td>\n",
       "    </tr>\n",
       "    <tr>\n",
       "      <th>1798</th>\n",
       "      <td>2020.11</td>\n",
       "      <td>3548.992500</td>\n",
       "      <td>58.469231</td>\n",
       "      <td>NaN</td>\n",
       "      <td>260.22900</td>\n",
       "      <td>2020.875000</td>\n",
       "      <td>0.87</td>\n",
       "      <td>3547.366173</td>\n",
       "      <td>58.442437</td>\n",
       "      <td>2237142.063</td>\n",
       "      <td>...</td>\n",
       "      <td>32.435871</td>\n",
       "      <td>NaN</td>\n",
       "      <td>35.595668</td>\n",
       "      <td>NaN</td>\n",
       "      <td>0.039620</td>\n",
       "      <td>0.995043</td>\n",
       "      <td>57.634128</td>\n",
       "      <td>NaN</td>\n",
       "      <td>NaN</td>\n",
       "      <td>NaN</td>\n",
       "    </tr>\n",
       "    <tr>\n",
       "      <th>1799</th>\n",
       "      <td>2020.12</td>\n",
       "      <td>3695.310000</td>\n",
       "      <td>58.278846</td>\n",
       "      <td>NaN</td>\n",
       "      <td>260.14950</td>\n",
       "      <td>2020.958333</td>\n",
       "      <td>0.93</td>\n",
       "      <td>3694.745369</td>\n",
       "      <td>58.269941</td>\n",
       "      <td>2333148.891</td>\n",
       "      <td>...</td>\n",
       "      <td>33.732253</td>\n",
       "      <td>NaN</td>\n",
       "      <td>37.041408</td>\n",
       "      <td>NaN</td>\n",
       "      <td>0.037630</td>\n",
       "      <td>1.00077</td>\n",
       "      <td>57.365974</td>\n",
       "      <td>NaN</td>\n",
       "      <td>NaN</td>\n",
       "      <td>NaN</td>\n",
       "    </tr>\n",
       "    <tr>\n",
       "      <th>1800</th>\n",
       "      <td>2021.10</td>\n",
       "      <td>3700.650000</td>\n",
       "      <td>NaN</td>\n",
       "      <td>NaN</td>\n",
       "      <td>260.10975</td>\n",
       "      <td>2021.041667</td>\n",
       "      <td>0.93</td>\n",
       "      <td>3700.650000</td>\n",
       "      <td>NaN</td>\n",
       "      <td>2336877.534</td>\n",
       "      <td>...</td>\n",
       "      <td>33.739464</td>\n",
       "      <td>NaN</td>\n",
       "      <td>37.023193</td>\n",
       "      <td>NaN</td>\n",
       "      <td>0.037125</td>\n",
       "      <td>#REF!</td>\n",
       "      <td>57.419206</td>\n",
       "      <td>NaN</td>\n",
       "      <td>NaN</td>\n",
       "      <td>NaN</td>\n",
       "    </tr>\n",
       "  </tbody>\n",
       "</table>\n",
       "<p>5 rows × 22 columns</p>\n",
       "</div>"
      ],
      "text/plain": [
       "         Date          S&P   Dividend  Earnings        CPI  Date Fraction  \\\n",
       "1796  2020.09  3365.516667  58.850000     98.22  260.28000    2020.708333   \n",
       "1797  2020.10  3418.701364  58.659615       NaN  260.38800    2020.791667   \n",
       "1798  2020.11  3548.992500  58.469231       NaN  260.22900    2020.875000   \n",
       "1799  2020.12  3695.310000  58.278846       NaN  260.14950    2020.958333   \n",
       "1800  2021.10  3700.650000        NaN       NaN  260.10975    2021.041667   \n",
       "\n",
       "      Rate GS10   Real Price  Real Dividend  Real Total Return Price  ...  \\\n",
       "1796       0.68  3363.315271      58.811506              2115138.177  ...   \n",
       "1797       0.79  3415.048147      58.596932              2150743.095  ...   \n",
       "1798       0.87  3547.366173      58.442437              2237142.063  ...   \n",
       "1799       0.93  3694.745369      58.269941              2333148.891  ...   \n",
       "1800       0.93  3700.650000            NaN              2336877.534  ...   \n",
       "\n",
       "           CAPE  Unnamed: 13    TR CAPE  Unnamed: 15     Yield   Returns  \\\n",
       "1796  30.833593          NaN  33.812021          NaN  0.043312  0.990078   \n",
       "1797  31.277783          NaN  34.300840          NaN  0.041667   0.99306   \n",
       "1798  32.435871          NaN  35.595668          NaN  0.039620  0.995043   \n",
       "1799  33.732253          NaN  37.041408          NaN  0.037630   1.00077   \n",
       "1800  33.739464          NaN  37.023193          NaN  0.037125     #REF!   \n",
       "\n",
       "      Returns.1 Real Return  Real Return.1  Returns.2  \n",
       "1796  58.607018         NaN            NaN        NaN  \n",
       "1797  58.001452         NaN            NaN        NaN  \n",
       "1798  57.634128         NaN            NaN        NaN  \n",
       "1799  57.365974         NaN            NaN        NaN  \n",
       "1800  57.419206         NaN            NaN        NaN  \n",
       "\n",
       "[5 rows x 22 columns]"
      ]
     },
     "execution_count": 26,
     "metadata": {},
     "output_type": "execute_result"
    }
   ],
   "source": [
    "import numpy as np\n",
    "import pandas as pd\n",
    "import statsmodels\n",
    "import statsmodels.formula.api as sm\n",
    "import matplotlib.pyplot as plt\n",
    "\n",
    "df = pd.read_excel('ie_data.xlsx')#'https://drive.google.com/file/d/1n6VCAmsLIYGbQlZ7xkE7SUjLOCYecdKc/view?usp=sharing', sheetname='Data')\n",
    "df.describe()\n",
    "df.tail()"
   ]
  },
  {
   "cell_type": "code",
   "execution_count": 29,
   "metadata": {},
   "outputs": [],
   "source": [
    "df['CPI_Multiplier'] = df['CPI'].iloc[-1] / df['CPI']\n",
    "\n",
    "df['real_SPX'] = df['S&P']*df['CPI_Multiplier']\n",
    "df['real_div'] = df['Dividend']*df['CPI_Multiplier']\n",
    "df['real_earnings'] = df['Earnings']*df['CPI_Multiplier']\n",
    "df['average earnings']=df['real_earnings'].rolling(120).mean()\n",
    "df['CAPE']=df['real_SPX']/df['average earnings']"
   ]
  },
  {
   "cell_type": "code",
   "execution_count": 32,
   "metadata": {},
   "outputs": [
    {
     "data": {
      "text/plain": [
       "<matplotlib.axes._subplots.AxesSubplot at 0x7fc612675b00>"
      ]
     },
     "execution_count": 32,
     "metadata": {},
     "output_type": "execute_result"
    },
    {
     "data": {
      "image/png": "[encoded data removed]",
      "text/plain": [
       "<Figure size 432x288 with 1 Axes>"
      ]
     },
     "metadata": {
      "needs_background": "light"
     },
     "output_type": "display_data"
    }
   ],
   "source": [
    "\n",
    "df['Rate GS10'].plot()"
   ]
  },
  {
   "cell_type": "code",
   "execution_count": null,
   "metadata": {},
   "outputs": [],
   "source": []
  }
 ],
 "metadata": {
  "kernelspec": {
   "display_name": "Python 3",
   "language": "python",
   "name": "python3"
  },
  "language_info": {
   "codemirror_mode": {
    "name": "ipython",
    "version": 3
   },
   "file_extension": ".py",
   "mimetype": "text/x-python",
   "name": "python",
   "nbconvert_exporter": "python",
   "pygments_lexer": "ipython3",
   "version": "3.6.3"
  }
 },
 "nbformat": 4,
 "nbformat_minor": 4
}
